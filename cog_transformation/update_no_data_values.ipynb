{
 "cells": [
  {
   "cell_type": "code",
   "execution_count": 36,
   "metadata": {},
   "outputs": [],
   "source": [
    "import os\n",
    "import xarray\n",
    "import re\n",
    "import pandas as pd\n",
    "import json\n",
    "import tempfile\n",
    "import boto3\n",
    "import rasterio\n",
    "from datetime import datetime\n",
    "from dateutil.relativedelta import relativedelta\n",
    "\n",
    "# %env AWS_PROFILE='veda-smce-mfa'"
   ]
  },
  {
   "cell_type": "code",
   "execution_count": 37,
   "metadata": {},
   "outputs": [],
   "source": [
    "session = boto3.Session(profile_name='veda-smce-mfa')\n",
    "s3_client = session.client('s3')\n",
    "\n",
    "bucket_name = 'ghgc-data-store-dev'\n",
    "new_cog_folder = 'updated_with_nodata_values'"
   ]
  },
  {
   "cell_type": "code",
   "execution_count": 38,
   "metadata": {},
   "outputs": [],
   "source": [
    "def get_all_s3_keys(bucket):\n",
    "    \"\"\"Get a list of all keys in an S3 bucket.\"\"\"\n",
    "    keys = []\n",
    "\n",
    "    kwargs = {\"Bucket\": bucket, \"Prefix\": \"ecco_darwin/\"}\n",
    "    while True:\n",
    "        resp = s3_client.list_objects_v2(**kwargs)\n",
    "        for obj in resp[\"Contents\"]:\n",
    "            if obj[\"Key\"].endswith(\".tif\"):\n",
    "                keys.append(obj[\"Key\"])\n",
    "\n",
    "        try:\n",
    "            kwargs[\"ContinuationToken\"] = resp[\"NextContinuationToken\"]\n",
    "        except KeyError:\n",
    "            break\n",
    "\n",
    "    return keys"
   ]
  },
  {
   "cell_type": "code",
   "execution_count": 39,
   "metadata": {},
   "outputs": [],
   "source": [
    "keys = get_all_s3_keys(bucket_name)"
   ]
  },
  {
   "cell_type": "code",
   "execution_count": 40,
   "metadata": {},
   "outputs": [
    {
     "data": {
      "text/plain": [
       "['ODIAC_geotiffs_COGs/odiac2022_1km_excl_intl_200001.tif',\n",
       " 'ODIAC_geotiffs_COGs/odiac2022_1km_excl_intl_200002.tif',\n",
       " 'ODIAC_geotiffs_COGs/odiac2022_1km_excl_intl_200003.tif',\n",
       " 'ODIAC_geotiffs_COGs/odiac2022_1km_excl_intl_200004.tif',\n",
       " 'ODIAC_geotiffs_COGs/odiac2022_1km_excl_intl_200005.tif',\n",
       " 'ODIAC_geotiffs_COGs/odiac2022_1km_excl_intl_200006.tif',\n",
       " 'ODIAC_geotiffs_COGs/odiac2022_1km_excl_intl_200007.tif',\n",
       " 'ODIAC_geotiffs_COGs/odiac2022_1km_excl_intl_200008.tif',\n",
       " 'ODIAC_geotiffs_COGs/odiac2022_1km_excl_intl_200009.tif',\n",
       " 'ODIAC_geotiffs_COGs/odiac2022_1km_excl_intl_200010.tif']"
      ]
     },
     "execution_count": 40,
     "metadata": {},
     "output_type": "execute_result"
    }
   ],
   "source": [
    "keys[:10]"
   ]
  },
  {
   "cell_type": "code",
   "execution_count": 41,
   "metadata": {},
   "outputs": [],
   "source": [
    "raster_io_session = rasterio.env.Env(profile_name='veda-smce-mfa')"
   ]
  },
  {
   "cell_type": "code",
   "execution_count": 42,
   "metadata": {},
   "outputs": [],
   "source": [
    "with raster_io_session:\n",
    "    file = rasterio.open(f's3://{bucket_name}/{keys[0]}')"
   ]
  },
  {
   "cell_type": "code",
   "execution_count": null,
   "metadata": {},
   "outputs": [],
   "source": []
  }
 ],
 "metadata": {
  "kernelspec": {
   "display_name": "cmip6",
   "language": "python",
   "name": "python3"
  },
  "language_info": {
   "codemirror_mode": {
    "name": "ipython",
    "version": 3
   },
   "file_extension": ".py",
   "mimetype": "text/x-python",
   "name": "python",
   "nbconvert_exporter": "python",
   "pygments_lexer": "ipython3",
   "version": "3.9.16"
  }
 },
 "nbformat": 4,
 "nbformat_minor": 2
}
