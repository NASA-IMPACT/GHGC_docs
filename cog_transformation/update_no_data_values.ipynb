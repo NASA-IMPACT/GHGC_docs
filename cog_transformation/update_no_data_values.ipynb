{
 "cells": [
  {
   "cell_type": "code",
   "execution_count": 1,
   "metadata": {},
   "outputs": [
    {
     "name": "stdout",
     "output_type": "stream",
     "text": [
      "env: AWS_PROFILE='veda-smce-mfa'\n"
     ]
    }
   ],
   "source": [
    "import os\n",
    "import xarray\n",
    "import re\n",
    "import pandas as pd\n",
    "import json\n",
    "import tempfile\n",
    "import boto3\n",
    "import rasterio\n",
    "from datetime import datetime\n",
    "from dateutil.relativedelta import relativedelta\n",
    "\n",
    "%env AWS_PROFILE='veda-smce-mfa'"
   ]
  },
  {
   "cell_type": "code",
   "execution_count": 2,
   "metadata": {},
   "outputs": [],
   "source": [
    "session = boto3.Session(profile_name='veda-smce-mfa')\n",
    "s3_client = session.client('s3')\n",
    "raster_io_session = rasterio.env.Env(profile_name='veda-smce-mfa')\n",
    "\n",
    "bucket_name = 'ghgc-data-store-dev'\n",
    "new_cog_folder = 'updated_with_nodata'\n",
    "collection_name = 'oco2geos-co2-daygrid-v10r'\n",
    "prefix = 'geos-oco2/'"
   ]
  },
  {
   "cell_type": "code",
   "execution_count": 3,
   "metadata": {},
   "outputs": [],
   "source": [
    "def get_all_s3_keys(bucket, prefic):\n",
    "    \"\"\"Get a list of all keys in an S3 bucket.\"\"\"\n",
    "    keys = []\n",
    "\n",
    "    kwargs = {\"Bucket\": bucket, \"Prefix\": prefix}\n",
    "    while True:\n",
    "        resp = s3_client.list_objects_v2(**kwargs)\n",
    "        for obj in resp['Contents']:\n",
    "            if obj[\"Key\"].endswith(\".tif\"):\n",
    "                keys.append(obj[\"Key\"])\n",
    "\n",
    "        try:\n",
    "            kwargs[\"ContinuationToken\"] = resp[\"NextContinuationToken\"]\n",
    "        except KeyError:\n",
    "            break\n",
    "\n",
    "    return keys"
   ]
  },
  {
   "cell_type": "code",
   "execution_count": 4,
   "metadata": {},
   "outputs": [
    {
     "data": {
      "text/plain": [
       "'oco2_GEOS_XCO2PREC_L3CO2_day_B10206Ar_20150101.tif'"
      ]
     },
     "execution_count": 4,
     "metadata": {},
     "output_type": "execute_result"
    }
   ],
   "source": [
    "keys = get_all_s3_keys(bucket_name, prefix)\n",
    "keys[:5]\n",
    "keys[0].split('/')[-1]"
   ]
  },
  {
   "cell_type": "code",
   "execution_count": 5,
   "metadata": {},
   "outputs": [],
   "source": [
    "with raster_io_session:\n",
    "    for key in keys:\n",
    "        with rasterio.open(f's3://{bucket_name}/{key}') as src:\n",
    "    # Read the data\n",
    "            data = src.read()\n",
    "            \n",
    "            # Get the metadata of the source file\n",
    "            meta = src.meta.copy()\n",
    "\n",
    "            # Update the metadata with the new \"no data\" value\n",
    "            meta.update(nodata=-9999)\n",
    "\n",
    "            # Replace original \"no data\" values in data with new \"no data\" value\n",
    "            data[data == src.nodata] = -9999\n",
    "\n",
    "# Write the updated data to a new file\n",
    "            with tempfile.NamedTemporaryFile(delete=False) as temp_file:\n",
    "                temp_file_path = temp_file.name\n",
    "\n",
    "            # Write the updated data to the temporary file\n",
    "            with rasterio.open(temp_file_path, \"w\", **meta) as dst:\n",
    "                dst.write(data)\n",
    "\n",
    "            # Upload the temporary file to S3\n",
    "            s3_client.upload_file(\n",
    "                Filename=temp_file_path,\n",
    "                Bucket=bucket_name,\n",
    "                Key=f\"{new_cog_folder}/{collection_name}/{'/'.join(key.split('/')[3:])}\",\n",
    "            )\n",
    "\n",
    "            # Clean up the temporary file\n",
    "            os.remove(temp_file_path)"
   ]
  }
 ],
 "metadata": {
  "kernelspec": {
   "display_name": "cmip6",
   "language": "python",
   "name": "python3"
  },
  "language_info": {
   "codemirror_mode": {
    "name": "ipython",
    "version": 3
   },
   "file_extension": ".py",
   "mimetype": "text/x-python",
   "name": "python",
   "nbconvert_exporter": "python",
   "pygments_lexer": "ipython3",
   "version": "3.9.16"
  }
 },
 "nbformat": 4,
 "nbformat_minor": 2
}
