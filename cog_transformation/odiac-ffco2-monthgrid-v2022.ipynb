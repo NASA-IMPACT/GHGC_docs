{
 "cells": [
  {
   "cell_type": "raw",
   "metadata": {},
   "source": [
    "---\n",
    "title: ODIAC Fossil Fuel CO₂ Emissions\n",
    "description: Documentation of data transformation\n",
    "author: Vishal Gaur\n",
    "date: August 31, 2023\n",
    "execute:\n",
    "  freeze: true\n",
    "---"
   ]
  },
  {
   "cell_type": "markdown",
   "metadata": {},
   "source": [
    "This script was used to transform the ODIAC Fossil Fuel CO₂ Emissions dataset from GeoTIFF to Cloud Optimized GeoTIFF (COG) format for display in the Greenhouse Gas (GHG) Center."
   ]
  },
  {
   "cell_type": "code",
   "execution_count": null,
   "metadata": {},
   "outputs": [],
   "source": [
    "import os\n",
    "import xarray\n",
    "import re\n",
    "import pandas as pd\n",
    "\n",
    "import tempfile\n",
    "import boto3\n"
   ]
  },
  {
   "cell_type": "code",
   "execution_count": null,
   "metadata": {},
   "outputs": [],
   "source": [
    "session = boto3.session.Session()\n",
    "s3_client = session.client(\"s3\")\n",
    "bucket_name = \"ghgc-data-store-dev\" # S3 bucket where the COGs are stored after transformation\n",
    "\n",
    "fold_names = os.listdir(\"ODIAC\")\n",
    "\n",
    "files_processed = pd.DataFrame(columns=[\"file_name\", \"COGs_created\"])   # A dataframe to keep track of the files that we have transformed into COGs\n",
    "\n",
    "# Reading the raw netCDF files from local machine\n",
    "for fol_ in fold_names:\n",
    "    for name in os.listdir(f\"ODIAC/{fol_}\"):\n",
    "        xds = xarray.open_dataarray(f\"ODIAC/{fol_}/{name}\")\n",
    "\n",
    "        filename = name.split(\"/ \")[-1]\n",
    "        filename_elements = re.split(\"[_ .]\", filename)\n",
    "        # # insert date of generated COG into filename\n",
    "        filename_elements.pop()\n",
    "        filename_elements[-1] = fol_ + filename_elements[-1][-2:]\n",
    "\n",
    "        xds.rio.set_spatial_dims(\"x\", \"y\", inplace=True)\n",
    "        xds.rio.write_nodata(-9999, inplace=True)\n",
    "        xds.rio.write_crs(\"epsg:4326\", inplace=True)\n",
    "\n",
    "        cog_filename = \"_\".join(filename_elements)\n",
    "        # # add extension\n",
    "        cog_filename = f\"{cog_filename}.tif\"\n",
    "\n",
    "        with tempfile.NamedTemporaryFile() as temp_file:\n",
    "            xds.rio.to_raster(\n",
    "                temp_file.name,\n",
    "                driver=\"COG\",\n",
    "            )\n",
    "            s3_client.upload_file(\n",
    "                Filename=temp_file.name,\n",
    "                Bucket=bucket_name,\n",
    "                Key=f\"ODIAC_geotiffs_COGs/{cog_filename}\",\n",
    "            )\n",
    "\n",
    "        files_processed = files_processed._append(\n",
    "            {\"file_name\": name, \"COGs_created\": cog_filename},\n",
    "            ignore_index=True,\n",
    "        )\n",
    "\n",
    "        print(f\"Generated and saved COG: {cog_filename}\")\n",
    "\n",
    "\n",
    "# creating the csv file with the names of files transformed.\n",
    "files_processed.to_csv(\n",
    "    f\"s3://{bucket_name}/ODIAC_COGs/files_converted.csv\",\n",
    ")\n",
    "print(\"Done generating COGs\")\n"
   ]
  }
 ],
 "metadata": {
  "language_info": {
   "name": "python"
  },
  "orig_nbformat": 4
 },
 "nbformat": 4,
 "nbformat_minor": 2
}
