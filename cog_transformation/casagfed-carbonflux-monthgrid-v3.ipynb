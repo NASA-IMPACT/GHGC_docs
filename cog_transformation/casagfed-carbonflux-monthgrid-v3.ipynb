{
 "cells": [
  {
   "cell_type": "raw",
   "metadata": {},
   "source": [
    "---\n",
    "title: CASA-GFED3 Land Carbon Flux\n",
    "description: Documentation of data transformation\n",
    "author: Vishal Gaur\n",
    "date: August 31, 2023\n",
    "execute:\n",
    "  freeze: true\n",
    "---"
   ]
  },
  {
   "cell_type": "markdown",
   "metadata": {},
   "source": [
    "Code used to transform CASA-GFED3 Land Carbon Flux data from netcdf to Cloud Optimized Geotiff."
   ]
  },
  {
   "cell_type": "code",
   "execution_count": null,
   "metadata": {},
   "outputs": [],
   "source": [
    "import os\n",
    "import xarray\n",
    "import re\n",
    "import pandas as pd\n",
    "import json\n",
    "import tempfile\n",
    "import boto3"
   ]
  },
  {
   "cell_type": "code",
   "execution_count": null,
   "metadata": {},
   "outputs": [],
   "source": [
    "session = boto3.session.Session()\n",
    "s3_client = session.client(\"s3\")\n",
    "bucket_name = \"ghgc-data-store-dev\"\n",
    "date_fmt = \"%Y%m\"\n",
    "\n",
    "files_processed = pd.DataFrame(columns=[\"file_name\", \"COGs_created\"])\n",
    "for name in os.listdir(\"geoscarb\"):\n",
    "    xds = xarray.open_dataset(\n",
    "        f\"geoscarb/{name}\",\n",
    "        engine=\"netcdf4\",\n",
    "    )\n",
    "    xds = xds.assign_coords(\n",
    "        longitude=(((xds.longitude + 180) % 360) - 180)\n",
    "    ).sortby(\"longitude\")\n",
    "    variable = [var for var in xds.data_vars]\n",
    "\n",
    "    for time_increment in range(0, len(xds.time)):\n",
    "        for var in variable[:-1]:\n",
    "            filename = name.split(\"/ \")[-1]\n",
    "            filename_elements = re.split(\"[_ .]\", filename)\n",
    "            data = getattr(xds.isel(time=time_increment), var)\n",
    "            data = data.isel(latitude=slice(None, None, -1))\n",
    "            data.rio.set_spatial_dims(\"longitude\", \"latitude\", inplace=True)\n",
    "            data.rio.write_crs(\"epsg:4326\", inplace=True)\n",
    "\n",
    "            date = data.time.dt.strftime(date_fmt).item(0)\n",
    "            # # insert date of generated COG into filename\n",
    "            filename_elements.pop()\n",
    "            filename_elements[-1] = date\n",
    "            filename_elements.insert(2, var)\n",
    "            cog_filename = \"_\".join(filename_elements)\n",
    "            # # add extension\n",
    "            cog_filename = f\"{cog_filename}.tif\"\n",
    "\n",
    "            with tempfile.NamedTemporaryFile() as temp_file:\n",
    "                data.rio.to_raster(\n",
    "                    temp_file.name,\n",
    "                    driver=\"COG\",\n",
    "                )\n",
    "                s3_client.upload_file(\n",
    "                    Filename=temp_file.name,\n",
    "                    Bucket=bucket_name,\n",
    "                    Key=f\"GEOS-Carbs/{cog_filename}\",\n",
    "                )\n",
    "\n",
    "            files_processed = files_processed._append(\n",
    "                {\"file_name\": name, \"COGs_created\": cog_filename},\n",
    "                ignore_index=True,\n",
    "            )\n",
    "\n",
    "            print(f\"Generated and saved COG: {cog_filename}\")\n",
    "\n",
    "with tempfile.NamedTemporaryFile(mode=\"w+\") as fp:\n",
    "    json.dump(xds.attrs, fp)\n",
    "    json.dump({\"data_dimensions\": dict(xds.dims)}, fp)\n",
    "    json.dump({\"data_variables\": list(xds.data_vars)}, fp)\n",
    "    fp.flush()\n",
    "\n",
    "    s3_client.upload_file(\n",
    "        Filename=fp.name,\n",
    "        Bucket=bucket_name,\n",
    "        Key=\"GEOS-Carbs/metadata.json\",\n",
    "    )\n",
    "files_processed.to_csv(\n",
    "    f\"s3://{bucket_name}/GEOS-Carbs/files_converted.csv\",\n",
    ")\n",
    "print(\"Done generating COGs\")"
   ]
  }
 ],
 "metadata": {
  "language_info": {
   "name": "python"
  },
  "orig_nbformat": 4
 },
 "nbformat": 4,
 "nbformat_minor": 2
}
