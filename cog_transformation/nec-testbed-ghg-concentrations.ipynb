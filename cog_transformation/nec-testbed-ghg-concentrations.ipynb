{
 "cells": [
  {
   "cell_type": "raw",
   "id": "504c035a-53d2-41b7-b5a3-e5824319a5f6",
   "metadata": {
    "vscode": {
     "languageId": "raw"
    }
   },
   "source": [
    "---\n",
    "title: Carbon Dioxide and Methane Concentrations from the Northeast Corridor (NEC) Urban Test Bed\n",
    "description: Documentation of data transformation \n",
    "author: Paridhi Parajuli \n",
    "date: August 28, 2023\n",
    "execute:\n",
    "  freeze: true\n",
    "---"
   ]
  },
  {
   "cell_type": "markdown",
   "id": "e79030fa-6cb0-4612-b5f0-23d42c642b74",
   "metadata": {},
   "source": [
    "This script was used to transform the NIST INFLUX  dataset into meaningful csv files for ingestion to vector dataset."
   ]
  },
  {
   "cell_type": "code",
   "execution_count": null,
   "id": "de4f10e4-c4d3-4255-af35-ad143adf8258",
   "metadata": {},
   "outputs": [],
   "source": [
    "import pandas as pd\n",
    "import glob\n",
    "import os\n",
    "import warnings\n",
    "import subprocess\n",
    "import tarfile\n",
    "import warnings \n",
    "import requests\n",
    "warnings.filterwarnings(\"ignore\", category=RuntimeWarning)"
   ]
  },
  {
   "cell_type": "code",
   "execution_count": null,
   "id": "e3c8e2bf-63bd-4da4-a8aa-4611490a12d7",
   "metadata": {},
   "outputs": [],
   "source": [
    "config = pd.read_csv(\"NEC_sites.csv\")  #https://data.nist.gov/od/id/mds2-3012"
   ]
  },
  {
   "cell_type": "code",
   "execution_count": null,
   "id": "fc5444c8-03ff-40f3-b880-1fe4b37c6859",
   "metadata": {},
   "outputs": [],
   "source": [
    "# Code to download the files into csv folder \n",
    "sites = list(config.SiteCode)\n",
    "for SiteCode in config.SiteCode[:2]:\n",
    "    print(SiteCode)\n",
    "    download_link = f\"https://data.nist.gov/od/ds/ark:/88434/mds2-3012/{SiteCode}.tgz\"\n",
    "    \n",
    "    # Check if the file exists on the server\n",
    "    response = requests.head(download_link)\n",
    "    if response.status_code != 404:\n",
    "        # File exists, proceed with download\n",
    "        result = subprocess.run([\"wget\", download_link, \"-O\", f\"{SiteCode}.tgz\"], \n",
    "                                stdout=subprocess.DEVNULL,\n",
    "                                stderr=subprocess.DEVNULL)\n",
    "\n",
    "        # Check if wget succeeded\n",
    "        if result.returncode == 0:\n",
    "            # Ensure the file is not empty\n",
    "            if os.path.getsize(f\"{SiteCode}.tgz\") > 0:\n",
    "                # Extract the files\n",
    "                with tarfile.open(f\"{SiteCode}.tgz\", \"r:gz\") as tar:\n",
    "                    tar.extractall()\n",
    "\n",
    "                # Delete the .tgz file\n",
    "                os.remove(f\"{SiteCode}.tgz\")\n",
    "            else:\n",
    "                print(f\"File {SiteCode}.tgz is empty.\")\n",
    "                sites.remove(SiteCode)\n",
    "                os.remove(f\"{SiteCode}.tgz\")  # Remove the empty file\n",
    "        else:\n",
    "            print(f\"Failed to download {SiteCode}.tgz.\")\n",
    "            sites.remove(SiteCode)\n",
    "    else:\n",
    "        print(f\"File {SiteCode}.tgz does not exist on the server.\")\n",
    "        sites.remove(SiteCode)\n"
   ]
  },
  {
   "cell_type": "code",
   "execution_count": null,
   "id": "31572c98-45f9-41c1-aa02-0dde7a678638",
   "metadata": {},
   "outputs": [],
   "source": [
    "sites = list(config.SiteCode)\n",
    "# These are not available\n",
    "sites.remove('AWS')\n",
    "sites.remove('BVA')\n",
    "sites.remove('DNC')"
   ]
  },
  {
   "cell_type": "code",
   "execution_count": null,
   "id": "e94566b8-7baf-4541-8ba2-76cc1ac8f180",
   "metadata": {},
   "outputs": [],
   "source": [
    "variables = ['ch4','co2']\n",
    "output_dir =\"output_NEC\"\n",
    "os.makedirs(output_dir,exist_ok=True)"
   ]
  },
  {
   "cell_type": "code",
   "execution_count": null,
   "id": "1732c3d5-19a0-4251-9462-34857fdb5892",
   "metadata": {},
   "outputs": [],
   "source": [
    "for site in sites:\n",
    "    for variable in variables:\n",
    "        df = pd.DataFrame()\n",
    "        files = glob.glob(f\"csv/{site}-*-{variable}-*.csv\")\n",
    "        val = f\"{variable}_ppm\" if variable == 'co2' else f\"{variable}_ppb\"\n",
    "        for file in files:\n",
    "            tmp = pd.read_csv(file)\n",
    "            tmp.dropna(subset=[val], inplace=True)\n",
    "            tmp.rename(columns={'datetime_UTC': 'datetime'}, inplace=True)\n",
    "            columns = [\"latitude\",\"longitude\",\"intake_height_m\",\"elevation_m\",\"datetime\",val ]\n",
    "            tmp= tmp[columns]\n",
    "            tmp.rename(columns={val: 'value'}, inplace=True)\n",
    "            tmp['datetime'] = pd.to_datetime(tmp['datetime'])\n",
    "            tmp['datetime'] = tmp['datetime'].dt.strftime('%Y-%m-%dT%H:%M:%SZ')\n",
    "            tmp['location'] = config[config['SiteCode']==site][\"Location\"].item()\n",
    "            df = pd.concat([df, tmp], ignore_index=True)\n",
    "            \n",
    "        df['year']= df['datetime'].apply(lambda x: x[:4])\n",
    "        result = df.groupby(\"year\").agg(max_height= (\"intake_height_m\",\"max\"))\n",
    "        if result['max_height'].std() !=0:\n",
    "            print(f\"More than one max height for {file}\",result['max_height'].unique())\n",
    "        merged_df=pd.merge(df, result, on='year')\n",
    "        merged_df[\"is_max_height_data\"]= merged_df[\"max_height\"] == merged_df[\"intake_height_m\"]\n",
    "        merged_df=merged_df.drop(columns=['year','max_height'])\n",
    "        merged_df.reset_index(drop=True, inplace=True)\n",
    "        merged_df.to_csv(f\"{output_dir}/NIST-testbed-NEC-{site}-{variable}-hourly-concentrations.csv\", index=False)"
   ]
  },
  {
   "cell_type": "code",
   "execution_count": null,
   "id": "0ac10b20-6e1d-4cd7-a5cc-2e095bc26a04",
   "metadata": {},
   "outputs": [],
   "source": []
  },
  {
   "cell_type": "code",
   "execution_count": null,
   "id": "2ec0cd8c-207d-4b03-ab9e-9f21ac2c02c5",
   "metadata": {},
   "outputs": [],
   "source": []
  }
 ],
 "metadata": {
  "kernelspec": {
   "display_name": "Python 3 (ipykernel)",
   "language": "python",
   "name": "python3"
  },
  "language_info": {
   "codemirror_mode": {
    "name": "ipython",
    "version": 3
   },
   "file_extension": ".py",
   "mimetype": "text/x-python",
   "name": "python",
   "nbconvert_exporter": "python",
   "pygments_lexer": "ipython3",
   "version": "3.12.3"
  }
 },
 "nbformat": 4,
 "nbformat_minor": 5
}
