{
 "cells": [
  {
   "cell_type": "raw",
   "metadata": {},
   "source": [
    "---\n",
    "title: EMIT Methane Point Source Plume Complexes\n",
    "description: Documentation of data transformation\n",
    "author: Vishal Gaur\n",
    "date: August 31, 2023\n",
    "execute:\n",
    "  freeze: true\n",
    "---"
   ]
  },
  {
   "cell_type": "markdown",
   "metadata": {},
   "source": [
    "This script was used to read the EMIT Methane Point Source Plume Complexes dataset provided in Cloud Optimized GeoTIFF (COG) format for display in the Greenhouse Gas (GHG) Center."
   ]
  },
  {
   "cell_type": "code",
   "execution_count": null,
   "metadata": {},
   "outputs": [],
   "source": [
    "import re\n",
    "import pandas as pd\n",
    "import json\n",
    "import tempfile\n",
    "import boto3"
   ]
  },
  {
   "cell_type": "code",
   "execution_count": null,
   "metadata": {},
   "outputs": [],
   "source": [
    "session_ghgc = boto3.session.Session(profile_name=\"ghg_user\")\n",
    "s3_client_ghgc = session_ghgc.client(\"s3\")\n",
    "session_veda_smce = boto3.session.Session()\n",
    "s3_client_veda_smce = session_veda_smce.client(\"s3\")\n",
    "\n",
    "# Since the plume emissions were already COGs, we just had to transform their naming convention to be stored in the STAC collection.\n",
    "SOURCE_BUCKET_NAME = \"ghgc-data-staging-uah\"\n",
    "TARGET_BUCKET_NAME = \"ghgc-data-store-dev\"\n",
    "\n",
    "\n",
    "keys = []\n",
    "resp = s3_client_ghgc.list_objects_v2(Bucket=SOURCE_BUCKET_NAME)\n",
    "for obj in resp[\"Contents\"]:\n",
    "    if \"l3\" in obj[\"Key\"]:\n",
    "        keys.append(obj[\"Key\"])\n",
    "\n",
    "for key in keys:\n",
    "    s3_obj = s3_client_ghgc.get_object(Bucket=SOURCE_BUCKET_NAME, Key=key)[\n",
    "        \"Body\"\n",
    "    ]\n",
    "    filename = key.split(\"/\")[-1]\n",
    "    filename_elements = re.split(\"[_ .]\", filename)\n",
    "\n",
    "    date = re.search(\"t\\d\\d\\d\\d\\d\\d\\d\\dt\", key).group(0)\n",
    "    filename_elements.insert(-1, date[1:-1])\n",
    "    filename_elements.pop()\n",
    "\n",
    "    cog_filename = \"_\".join(filename_elements)\n",
    "    # # add extension\n",
    "    cog_filename = f\"{cog_filename}.tif\"\n",
    "    s3_client_veda_smce.upload_fileobj(\n",
    "        Fileobj=s3_obj,\n",
    "        Bucket=TARGET_BUCKET_NAME,\n",
    "        Key=f\"plum_data/{cog_filename}\",\n",
    "    )\n"
   ]
  }
 ],
 "metadata": {
  "language_info": {
   "name": "python"
  },
  "orig_nbformat": 4
 },
 "nbformat": 4,
 "nbformat_minor": 2
}
