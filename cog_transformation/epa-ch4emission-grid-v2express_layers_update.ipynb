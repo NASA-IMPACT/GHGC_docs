{
 "cells": [
  {
   "cell_type": "raw",
   "metadata": {},
   "source": [
    "---\n",
    "title: Gridded Anthropogenic Methane Emissions Inventory\n",
    "description: Documentation of data transformation\n",
    "author: Vishal Gaur\n",
    "date: August 31, 2023\n",
    "execute:\n",
    "  freeze: true\n",
    "---"
   ]
  },
  {
   "cell_type": "markdown",
   "metadata": {},
   "source": [
    "This script was used to add concatenated layers and transform Gridded Anthropogenic Methane Emissions Inventory dataset from netCDF to Cloud Optimized GeoTIFF (COG) format for display in the Greenhouse Gas (GHG) Center.\n"
   ]
  },
  {
   "cell_type": "code",
   "execution_count": null,
   "metadata": {},
   "outputs": [],
   "source": [
    "import os\n",
    "import xarray\n",
    "import re\n",
    "import pandas as pd\n",
    "import json\n",
    "import tempfile\n",
    "import boto3\n",
    "from datetime import datetime\n",
    "import numpy as np"
   ]
  },
  {
   "cell_type": "code",
   "execution_count": null,
   "metadata": {},
   "outputs": [],
   "source": [
    "session = boto3.session.Session()\n",
    "s3_client = session.client(\"s3\")\n",
    "bucket_name = (\n",
    "    \"ghgc-data-store-dev\"  # S3 bucket where the COGs are stored after transformation\n",
    ")\n",
    "FOLDER_NAME = \"epa_emissions_express_extension\"\n",
    "\n",
    "files_processed = pd.DataFrame(\n",
    "    columns=[\"file_name\", \"COGs_created\"]\n",
    ")  # A dataframe to keep track of the files that we have transformed into COGs\n",
    "\n",
    "# Reading the raw netCDF files from local machine\n",
    "for name in os.listdir(FOLDER_NAME):\n",
    "    xds = xarray.open_dataset(f\"{FOLDER_NAME}/{name}\", engine=\"netcdf4\")\n",
    "    xds = xds.assign_coords(lon=(((xds.lon + 180) % 360) - 180)).sortby(\"lon\")\n",
    "    variable = [var for var in xds.data_vars]\n",
    "    new_variables = {\n",
    "        \"all-variables\": variable[:-1],\n",
    "        \"agriculture\": variable[17:21],\n",
    "        \"natural-gas-systems\": variable[10:15] + [variable[26]],\n",
    "        \"petroleum-systems\": variable[5:9],\n",
    "        \"waste\": variable[21:26],\n",
    "        \"coal-mines\": variable[2:5],\n",
    "        \"other\": variable[:2] + [variable[9]] + variable[15:17],\n",
    "    }\n",
    "    filename = name.split(\"/ \")[-1]\n",
    "    filename_elements = re.split(\"[_ .]\", filename)\n",
    "    start_time = datetime(int(filename_elements[-2]), 1, 1)\n",
    "\n",
    "    for time_increment in range(0, len(xds.time)):\n",
    "        for key, value in new_variables.items():\n",
    "            data = np.zerosmpty(dtype=np.float32, shape=(len(xds.lat), len(xds.lon)))\n",
    "            filename = name.split(\"/ \")[-1]\n",
    "            filename_elements = re.split(\"[_ .]\", filename)\n",
    "            for var in value:\n",
    "                data = data + getattr(xds.isel(time=time_increment), var)\n",
    "            data = round(data / pow(10, 9), 2)\n",
    "            data = data.isel(lat=slice(None, None, -1))\n",
    "            data.rio.set_spatial_dims(\"lon\", \"lat\", inplace=True)\n",
    "            data.rio.write_crs(\"epsg:4326\", inplace=True)\n",
    "\n",
    "            # # insert date of generated COG into filename\n",
    "            filename_elements.pop()\n",
    "            filename_elements[-1] = start_time.strftime(\"%Y\")\n",
    "            filename_elements.insert(2, key)\n",
    "            cog_filename = \"_\".join(filename_elements)\n",
    "            # # add extension\n",
    "            cog_filename = f\"{cog_filename}.tif\"\n",
    "\n",
    "            with tempfile.NamedTemporaryFile() as temp_file:\n",
    "                data.rio.to_raster(\n",
    "                    temp_file.name,\n",
    "                    driver=\"COG\",\n",
    "                )\n",
    "                s3_client.upload_file(\n",
    "                    Filename=temp_file.name,\n",
    "                    Bucket=bucket_name,\n",
    "                    Key=f\"{FOLDER_NAME}/{cog_filename}\",\n",
    "                )\n",
    "\n",
    "                files_processed = files_processed._append(\n",
    "                    {\"file_name\": name, \"COGs_created\": cog_filename},\n",
    "                    ignore_index=True,\n",
    "                )\n",
    "\n",
    "                print(f\"Generated and saved COG: {cog_filename}\")\n",
    "print(\"Done generating COGs\")\n"
   ]
  }
 ],
 "metadata": {
  "language_info": {
   "name": "python"
  },
  "orig_nbformat": 4
 },
 "nbformat": 4,
 "nbformat_minor": 2
}
