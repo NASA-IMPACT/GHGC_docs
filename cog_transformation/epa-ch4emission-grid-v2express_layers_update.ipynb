{
 "cells": [
  {
   "cell_type": "raw",
   "metadata": {},
   "source": [
    "---\n",
    "title: Gridded Anthropogenic Methane Emissions Inventory\n",
    "description: Documentation of data transformation\n",
    "author: Vishal Gaur\n",
    "date: August 31, 2023\n",
    "execute:\n",
    "  freeze: true\n",
    "---"
   ]
  },
  {
   "cell_type": "markdown",
   "metadata": {},
   "source": [
    "This script was used to add concatenated layers and transform Gridded Anthropogenic Methane Emissions Inventory dataset from netCDF to Cloud Optimized GeoTIFF (COG) format for display in the Greenhouse Gas (GHG) Center.\n"
   ]
  },
  {
   "cell_type": "code",
   "execution_count": 5,
   "metadata": {},
   "outputs": [
    {
     "data": {
      "text/plain": [
       "True"
      ]
     },
     "execution_count": 5,
     "metadata": {},
     "output_type": "execute_result"
    }
   ],
   "source": [
    "import os\n",
    "import xarray\n",
    "import re\n",
    "import pandas as pd\n",
    "import json\n",
    "import tempfile\n",
    "import boto3\n",
    "from datetime import datetime\n",
    "import numpy as np\n",
    "\n",
    "from dotenv import load_dotenv\n",
    "\n",
    "load_dotenv()"
   ]
  },
  {
   "cell_type": "code",
   "execution_count": 7,
   "metadata": {},
   "outputs": [
    {
     "name": "stderr",
     "output_type": "stream",
     "text": [
      "Traceback (most recent call last):\n",
      "  File \"_pydevd_bundle/pydevd_cython.pyx\", line 1078, in _pydevd_bundle.pydevd_cython.PyDBFrame.trace_dispatch\n",
      "  File \"_pydevd_bundle/pydevd_cython.pyx\", line 297, in _pydevd_bundle.pydevd_cython.PyDBFrame.do_wait_suspend\n",
      "  File \"/Users/vgaur/miniconda3/envs/cmip6/lib/python3.9/site-packages/debugpy/_vendored/pydevd/pydevd.py\", line 1976, in do_wait_suspend\n",
      "    keep_suspended = self._do_wait_suspend(thread, frame, event, arg, suspend_type, from_this_thread, frames_tracker)\n",
      "  File \"/Users/vgaur/miniconda3/envs/cmip6/lib/python3.9/site-packages/debugpy/_vendored/pydevd/pydevd.py\", line 2011, in _do_wait_suspend\n",
      "    time.sleep(0.01)\n",
      "KeyboardInterrupt\n"
     ]
    },
    {
     "ename": "KeyboardInterrupt",
     "evalue": "",
     "output_type": "error",
     "traceback": [
      "\u001b[0;31m---------------------------------------------------------------------------\u001b[0m",
      "\u001b[0;31mKeyboardInterrupt\u001b[0m                         Traceback (most recent call last)",
      "\u001b[1;32m/Users/vgaur/ghgc-docs/cog_transformation/epa-ch4emission-grid-v2express_layers_update.ipynb Cell 4\u001b[0m line \u001b[0;36m4\n\u001b[1;32m     <a href='vscode-notebook-cell:/Users/vgaur/ghgc-docs/cog_transformation/epa-ch4emission-grid-v2express_layers_update.ipynb#W3sZmlsZQ%3D%3D?line=45'>46</a>\u001b[0m \u001b[39m# data = data*(9.74*pow(10,-11))\u001b[39;00m\n\u001b[1;32m     <a href='vscode-notebook-cell:/Users/vgaur/ghgc-docs/cog_transformation/epa-ch4emission-grid-v2express_layers_update.ipynb#W3sZmlsZQ%3D%3D?line=46'>47</a>\u001b[0m \u001b[39m# data.values[data.values<=np.nanpercentile(data.values, 50)] = np.nan\u001b[39;00m\n\u001b[1;32m     <a href='vscode-notebook-cell:/Users/vgaur/ghgc-docs/cog_transformation/epa-ch4emission-grid-v2express_layers_update.ipynb#W3sZmlsZQ%3D%3D?line=47'>48</a>\u001b[0m data \u001b[39m=\u001b[39m data\u001b[39m.\u001b[39mfillna(\u001b[39m-\u001b[39m\u001b[39m9999\u001b[39m)\n\u001b[0;32m---> <a href='vscode-notebook-cell:/Users/vgaur/ghgc-docs/cog_transformation/epa-ch4emission-grid-v2express_layers_update.ipynb#W3sZmlsZQ%3D%3D?line=48'>49</a>\u001b[0m data \u001b[39m=\u001b[39m data\u001b[39m.\u001b[39misel(lat\u001b[39m=\u001b[39m\u001b[39mslice\u001b[39m(\u001b[39mNone\u001b[39;00m, \u001b[39mNone\u001b[39;00m, \u001b[39m-\u001b[39m\u001b[39m1\u001b[39m))\n\u001b[1;32m     <a href='vscode-notebook-cell:/Users/vgaur/ghgc-docs/cog_transformation/epa-ch4emission-grid-v2express_layers_update.ipynb#W3sZmlsZQ%3D%3D?line=49'>50</a>\u001b[0m data\u001b[39m.\u001b[39mrio\u001b[39m.\u001b[39mset_spatial_dims(\u001b[39m\"\u001b[39m\u001b[39mlon\u001b[39m\u001b[39m\"\u001b[39m, \u001b[39m\"\u001b[39m\u001b[39mlat\u001b[39m\u001b[39m\"\u001b[39m, inplace\u001b[39m=\u001b[39m\u001b[39mTrue\u001b[39;00m)\n\u001b[1;32m     <a href='vscode-notebook-cell:/Users/vgaur/ghgc-docs/cog_transformation/epa-ch4emission-grid-v2express_layers_update.ipynb#W3sZmlsZQ%3D%3D?line=50'>51</a>\u001b[0m data\u001b[39m.\u001b[39mrio\u001b[39m.\u001b[39mwrite_crs(\u001b[39m\"\u001b[39m\u001b[39mepsg:4326\u001b[39m\u001b[39m\"\u001b[39m, inplace\u001b[39m=\u001b[39m\u001b[39mTrue\u001b[39;00m)\n",
      "\u001b[1;32m/Users/vgaur/ghgc-docs/cog_transformation/epa-ch4emission-grid-v2express_layers_update.ipynb Cell 4\u001b[0m line \u001b[0;36m4\n\u001b[1;32m     <a href='vscode-notebook-cell:/Users/vgaur/ghgc-docs/cog_transformation/epa-ch4emission-grid-v2express_layers_update.ipynb#W3sZmlsZQ%3D%3D?line=45'>46</a>\u001b[0m \u001b[39m# data = data*(9.74*pow(10,-11))\u001b[39;00m\n\u001b[1;32m     <a href='vscode-notebook-cell:/Users/vgaur/ghgc-docs/cog_transformation/epa-ch4emission-grid-v2express_layers_update.ipynb#W3sZmlsZQ%3D%3D?line=46'>47</a>\u001b[0m \u001b[39m# data.values[data.values<=np.nanpercentile(data.values, 50)] = np.nan\u001b[39;00m\n\u001b[1;32m     <a href='vscode-notebook-cell:/Users/vgaur/ghgc-docs/cog_transformation/epa-ch4emission-grid-v2express_layers_update.ipynb#W3sZmlsZQ%3D%3D?line=47'>48</a>\u001b[0m data \u001b[39m=\u001b[39m data\u001b[39m.\u001b[39mfillna(\u001b[39m-\u001b[39m\u001b[39m9999\u001b[39m)\n\u001b[0;32m---> <a href='vscode-notebook-cell:/Users/vgaur/ghgc-docs/cog_transformation/epa-ch4emission-grid-v2express_layers_update.ipynb#W3sZmlsZQ%3D%3D?line=48'>49</a>\u001b[0m data \u001b[39m=\u001b[39m data\u001b[39m.\u001b[39misel(lat\u001b[39m=\u001b[39m\u001b[39mslice\u001b[39m(\u001b[39mNone\u001b[39;00m, \u001b[39mNone\u001b[39;00m, \u001b[39m-\u001b[39m\u001b[39m1\u001b[39m))\n\u001b[1;32m     <a href='vscode-notebook-cell:/Users/vgaur/ghgc-docs/cog_transformation/epa-ch4emission-grid-v2express_layers_update.ipynb#W3sZmlsZQ%3D%3D?line=49'>50</a>\u001b[0m data\u001b[39m.\u001b[39mrio\u001b[39m.\u001b[39mset_spatial_dims(\u001b[39m\"\u001b[39m\u001b[39mlon\u001b[39m\u001b[39m\"\u001b[39m, \u001b[39m\"\u001b[39m\u001b[39mlat\u001b[39m\u001b[39m\"\u001b[39m, inplace\u001b[39m=\u001b[39m\u001b[39mTrue\u001b[39;00m)\n\u001b[1;32m     <a href='vscode-notebook-cell:/Users/vgaur/ghgc-docs/cog_transformation/epa-ch4emission-grid-v2express_layers_update.ipynb#W3sZmlsZQ%3D%3D?line=50'>51</a>\u001b[0m data\u001b[39m.\u001b[39mrio\u001b[39m.\u001b[39mwrite_crs(\u001b[39m\"\u001b[39m\u001b[39mepsg:4326\u001b[39m\u001b[39m\"\u001b[39m, inplace\u001b[39m=\u001b[39m\u001b[39mTrue\u001b[39;00m)\n",
      "File \u001b[0;32m_pydevd_bundle/pydevd_cython.pyx:1363\u001b[0m, in \u001b[0;36m_pydevd_bundle.pydevd_cython.SafeCallWrapper.__call__\u001b[0;34m()\u001b[0m\n",
      "File \u001b[0;32m_pydevd_bundle/pydevd_cython.pyx:662\u001b[0m, in \u001b[0;36m_pydevd_bundle.pydevd_cython.PyDBFrame.trace_dispatch\u001b[0;34m()\u001b[0m\n",
      "File \u001b[0;32m_pydevd_bundle/pydevd_cython.pyx:1087\u001b[0m, in \u001b[0;36m_pydevd_bundle.pydevd_cython.PyDBFrame.trace_dispatch\u001b[0;34m()\u001b[0m\n",
      "File \u001b[0;32m_pydevd_bundle/pydevd_cython.pyx:1078\u001b[0m, in \u001b[0;36m_pydevd_bundle.pydevd_cython.PyDBFrame.trace_dispatch\u001b[0;34m()\u001b[0m\n",
      "File \u001b[0;32m_pydevd_bundle/pydevd_cython.pyx:297\u001b[0m, in \u001b[0;36m_pydevd_bundle.pydevd_cython.PyDBFrame.do_wait_suspend\u001b[0;34m()\u001b[0m\n",
      "File \u001b[0;32m~/miniconda3/envs/cmip6/lib/python3.9/site-packages/debugpy/_vendored/pydevd/pydevd.py:1976\u001b[0m, in \u001b[0;36mPyDB.do_wait_suspend\u001b[0;34m(self, thread, frame, event, arg, exception_type)\u001b[0m\n\u001b[1;32m   1973\u001b[0m             from_this_thread\u001b[39m.\u001b[39mappend(frame_custom_thread_id)\n\u001b[1;32m   1975\u001b[0m     \u001b[39mwith\u001b[39;00m \u001b[39mself\u001b[39m\u001b[39m.\u001b[39m_threads_suspended_single_notification\u001b[39m.\u001b[39mnotify_thread_suspended(thread_id, stop_reason):\n\u001b[0;32m-> 1976\u001b[0m         keep_suspended \u001b[39m=\u001b[39m \u001b[39mself\u001b[39;49m\u001b[39m.\u001b[39;49m_do_wait_suspend(thread, frame, event, arg, suspend_type, from_this_thread, frames_tracker)\n\u001b[1;32m   1978\u001b[0m frames_list \u001b[39m=\u001b[39m \u001b[39mNone\u001b[39;00m\n\u001b[1;32m   1980\u001b[0m \u001b[39mif\u001b[39;00m keep_suspended:\n\u001b[1;32m   1981\u001b[0m     \u001b[39m# This means that we should pause again after a set next statement.\u001b[39;00m\n",
      "File \u001b[0;32m~/miniconda3/envs/cmip6/lib/python3.9/site-packages/debugpy/_vendored/pydevd/pydevd.py:2011\u001b[0m, in \u001b[0;36mPyDB._do_wait_suspend\u001b[0;34m(self, thread, frame, event, arg, suspend_type, from_this_thread, frames_tracker)\u001b[0m\n\u001b[1;32m   2008\u001b[0m         \u001b[39mself\u001b[39m\u001b[39m.\u001b[39m_call_mpl_hook()\n\u001b[1;32m   2010\u001b[0m     \u001b[39mself\u001b[39m\u001b[39m.\u001b[39mprocess_internal_commands()\n\u001b[0;32m-> 2011\u001b[0m     time\u001b[39m.\u001b[39;49msleep(\u001b[39m0.01\u001b[39;49m)\n\u001b[1;32m   2013\u001b[0m \u001b[39mself\u001b[39m\u001b[39m.\u001b[39mcancel_async_evaluation(get_current_thread_id(thread), \u001b[39mstr\u001b[39m(\u001b[39mid\u001b[39m(frame)))\n\u001b[1;32m   2015\u001b[0m \u001b[39m# process any stepping instructions\u001b[39;00m\n",
      "\u001b[0;31mKeyboardInterrupt\u001b[0m: "
     ]
    }
   ],
   "source": [
    "# session = boto3.session.Session()\n",
    "session = boto3.Session(\n",
    "    aws_access_key_id=os.environ.get(\"AWS_ACCESS_KEY_ID\"),\n",
    "    aws_secret_access_key=os.environ.get(\"AWS_SECRET_ACCESS_KEY\"),\n",
    "    aws_session_token=os.environ.get(\"AWS_SESSION_TOKEN\"),\n",
    ")\n",
    "s3_client = session.client(\"s3\")\n",
    "bucket_name = (\n",
    "    \"ghgc-data-store-dev\"  # S3 bucket where the COGs are stored after transformation\n",
    ")\n",
    "FOLDER_NAME = \"../data/epa_emissions_express_extension\"\n",
    "s3_folder_name = \"epa_express_extension_Mg_km2_yr\"\n",
    "\n",
    "files_processed = pd.DataFrame(\n",
    "    columns=[\"file_name\", \"COGs_created\"]\n",
    ")  # A dataframe to keep track of the files that we have transformed into COGs\n",
    "\n",
    "# Reading the raw netCDF files from local machine\n",
    "for name in os.listdir(FOLDER_NAME):\n",
    "    xds = xarray.open_dataset(f\"{FOLDER_NAME}/{name}\", engine=\"netcdf4\")\n",
    "    xds = xds.assign_coords(lon=(((xds.lon + 180) % 360) - 180)).sortby(\"lon\")\n",
    "    variable = [var for var in xds.data_vars]\n",
    "    new_variables = {\n",
    "        \"all-variables\": variable[:-1],\n",
    "        \"agriculture\": variable[17:21],\n",
    "        \"natural-gas-systems\": variable[10:15] + [variable[26]],\n",
    "        \"petroleum-systems\": variable[5:9],\n",
    "        \"waste\": variable[21:26],\n",
    "        \"coal-mines\": variable[2:5],\n",
    "        \"other\": variable[:2] + [variable[9]] + variable[15:17],\n",
    "    }\n",
    "    filename = name.split(\"/ \")[-1]\n",
    "    filename_elements = re.split(\"[_ .]\", filename)\n",
    "    start_time = datetime(int(filename_elements[-2]), 1, 1)\n",
    "\n",
    "    for time_increment in range(0, len(xds.time)):\n",
    "        for key, value in new_variables.items():\n",
    "            data = np.zeros(dtype=np.float32, shape=(len(xds.lat), len(xds.lon)))\n",
    "            filename = name.split(\"/ \")[-1]\n",
    "            filename_elements = re.split(\"[_ .]\", filename)\n",
    "            for var in value:\n",
    "                data = data + getattr(xds.isel(time=time_increment), var)\n",
    "            # data = np.round(data / pow(10, 9), 2)\n",
    "            data.values[data.values==0] = np.nan\n",
    "            data = data*((1/(6.022*pow(10,23)))*(16.04*pow(10,-6))*366*pow(10,10)*86400)\n",
    "            data = data.fillna(-9999)\n",
    "            data = data.isel(lat=slice(None, None, -1))\n",
    "            data.rio.set_spatial_dims(\"lon\", \"lat\", inplace=True)\n",
    "            data.rio.write_crs(\"epsg:4326\", inplace=True)\n",
    "\n",
    "            # # insert date of generated COG into filename\n",
    "            filename_elements.pop()\n",
    "            filename_elements[-1] = start_time.strftime(\"%Y\")\n",
    "            filename_elements.insert(2, key)\n",
    "            cog_filename = \"_\".join(filename_elements)\n",
    "            # # add extension\n",
    "            cog_filename = f\"{cog_filename}.tif\"\n",
    "\n",
    "            with tempfile.NamedTemporaryFile() as temp_file:\n",
    "                data.rio.to_raster(\n",
    "                    temp_file.name,\n",
    "                    driver=\"COG\",\n",
    "                )\n",
    "                s3_client.upload_file(\n",
    "                    Filename=temp_file.name,\n",
    "                    Bucket=bucket_name,\n",
    "                    Key=f\"{s3_folder_name}/{cog_filename}\",\n",
    "                )\n",
    "\n",
    "                files_processed = files_processed._append(\n",
    "                    {\"file_name\": name, \"COGs_created\": cog_filename},\n",
    "                    ignore_index=True,\n",
    "                )\n",
    "\n",
    "                print(f\"Generated and saved COG: {cog_filename}\")\n",
    "print(\"Done generating COGs\")\n"
   ]
  }
 ],
 "metadata": {
  "kernelspec": {
   "display_name": "cmip6",
   "language": "python",
   "name": "python3"
  },
  "language_info": {
   "codemirror_mode": {
    "name": "ipython",
    "version": 3
   },
   "file_extension": ".py",
   "mimetype": "text/x-python",
   "name": "python",
   "nbconvert_exporter": "python",
   "pygments_lexer": "ipython3",
   "version": "3.9.16"
  },
  "orig_nbformat": 4
 },
 "nbformat": 4,
 "nbformat_minor": 2
}
