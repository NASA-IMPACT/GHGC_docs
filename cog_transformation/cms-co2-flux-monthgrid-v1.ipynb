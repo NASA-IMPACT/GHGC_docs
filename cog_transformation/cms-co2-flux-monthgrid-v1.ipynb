{
 "cells": [
  {
   "cell_type": "raw",
   "id": "cd81fe35-08bc-4e32-9386-cd6dad943da5",
   "metadata": {},
   "source": [
    "---\n",
    "title: CMS CO₂ flux\n",
    "description: Documentation of data transformation\n",
    "author: Paridhi Parajuli \n",
    "date: August 1, 2023\n",
    "execute:\n",
    "  freeze: true\n",
    "---"
   ]
  },
  {
   "cell_type": "markdown",
   "id": "a4953cc0-38dd-43ba-88f4-d0f4dc2983a5",
   "metadata": {},
   "source": [
    "This script was used to transform the CMS CO₂ flux dataset provided in Cloud Optimized GeoTIFF (COG) format for display in the Greenhouse Gas (GHG) Center."
   ]
  },
  {
   "cell_type": "code",
   "execution_count": 1,
   "id": "12686bba-77ae-477a-8a4f-7f1caedfda2a",
   "metadata": {},
   "outputs": [],
   "source": [
    "import xarray\n",
    "import re\n",
    "import pandas as pd\n",
    "import boto3\n",
    "import glob\n",
    "import s3fs\n",
    "import tempfile\n",
    "from datetime import datetime\n",
    "import os\n",
    "import hashlib\n",
    "import json"
   ]
  },
  {
   "cell_type": "code",
   "execution_count": 2,
   "id": "681ffe56-324f-4224-ad2b-5a623b6c9f98",
   "metadata": {},
   "outputs": [],
   "source": [
    "config = {\n",
    "    \"data_acquisition_method\": \"s3\",\n",
    "    \"raw_data_bucket\" : \"ghgc-data-store-develop\",\n",
    "    \"raw_data_prefix\": \"delivery/cms-co2-flux-monthgrid-v1\",\n",
    "    \"cog_data_bucket\": \"ghgc-data-store-develop\",\n",
    "    \"cog_data_prefix\": \"transformed_cogs\",\n",
    "    \"date_fmt\" :\"%Y%m\",\n",
    "    \"transformation\": {\n",
    "        \"reverse_lat\": True,\n",
    "        \"assign_coords\": True,\n",
    "        \"filter_variable\": {\n",
    "            \"include\": [],\n",
    "            \"exclude\": ['lat','lon','latitude','longitude','area'],\n",
    "            \"add\" : {\n",
    "                \"name\" : \"\",\n",
    "                \"from_variable\": \"\",\n",
    "                \"custom_logic\": \"\"\n",
    "            }\n",
    "        }\n",
    "    }\n",
    "}"
   ]
  },
  {
   "cell_type": "code",
   "execution_count": 3,
   "id": "b5877553-f46c-41be-9863-6b25056842dd",
   "metadata": {},
   "outputs": [],
   "source": [
    "session = boto3.session.Session()\n",
    "s3_client = session.client(\"s3\")\n",
    "\n",
    "raw_data_bucket = config[\"raw_data_bucket\"]\n",
    "raw_data_prefix= config[\"raw_data_prefix\"]\n",
    "\n",
    "cog_data_bucket = config['cog_data_bucket']\n",
    "cog_data_prefix= config[\"cog_data_prefix\"]\n",
    "\n",
    "date_fmt=config['date_fmt']\n",
    "\n",
    "fs = s3fs.S3FileSystem()\n",
    "\n",
    "files_processed = pd.DataFrame(columns=[\"file_name\", \"COGs_created\"])"
   ]
  },
  {
   "cell_type": "code",
   "execution_count": 4,
   "id": "c8ddfcbf-4f81-4a11-ae2c-8bd700efae01",
   "metadata": {},
   "outputs": [],
   "source": [
    "def get_all_s3_keys(bucket, model_name, ext):\n",
    "    \"\"\"Get a list of all keys in an S3 bucket.\"\"\"\n",
    "    keys = []\n",
    "\n",
    "    kwargs = {\"Bucket\": bucket, \"Prefix\": f\"{model_name}/\"}\n",
    "    while True:\n",
    "        resp = s3_client.list_objects_v2(**kwargs)\n",
    "        for obj in resp[\"Contents\"]:\n",
    "            if obj[\"Key\"].endswith(ext) and \"historical\" not in obj[\"Key\"]:\n",
    "                keys.append(obj[\"Key\"])\n",
    "\n",
    "        try:\n",
    "            kwargs[\"ContinuationToken\"] = resp[\"NextContinuationToken\"]\n",
    "        except KeyError:\n",
    "            break\n",
    "\n",
    "    return keys\n",
    "\n",
    "keys = get_all_s3_keys(raw_data_bucket, raw_data_prefix, \".nc\")"
   ]
  },
  {
   "cell_type": "code",
   "execution_count": 5,
   "id": "ceb2dcd7-b9a5-475d-8bca-2fb372dbda28",
   "metadata": {},
   "outputs": [
    {
     "name": "stdout",
     "output_type": "stream",
     "text": [
      "delivery/cms-co2-flux-monthgrid-v1/CMSFluxFossilFuelPrior201001_202212_v3.nc ['fossil']\n",
      "COG creation done for delivery/cms-co2-flux-monthgrid-v1/CMSFluxFossilFuelPrior201001_202212_v3.nc\n",
      "delivery/cms-co2-flux-monthgrid-v1/CMSFluxLandPrior201001_202212_v3.nc ['NBE_prior']\n",
      "COG creation done for delivery/cms-co2-flux-monthgrid-v1/CMSFluxLandPrior201001_202212_v3.nc\n",
      "delivery/cms-co2-flux-monthgrid-v1/CMSFluxNBE201001_202212_v3.nc ['NBE_post']\n",
      "COG creation done for delivery/cms-co2-flux-monthgrid-v1/CMSFluxNBE201001_202212_v3.nc\n",
      "delivery/cms-co2-flux-monthgrid-v1/CMSFluxOcean201001_202212_v3.nc ['ocean_post']\n",
      "COG creation done for delivery/cms-co2-flux-monthgrid-v1/CMSFluxOcean201001_202212_v3.nc\n",
      "delivery/cms-co2-flux-monthgrid-v1/CMSFluxOceanFluxPrior201001_202212_v3.nc ['Ocean-Prior']\n",
      "COG creation done for delivery/cms-co2-flux-monthgrid-v1/CMSFluxOceanFluxPrior201001_202212_v3.nc\n",
      "delivery/cms-co2-flux-monthgrid-v1/CMSFluxTotal201001_202212_v3.nc ['total_post']\n",
      "COG creation done for delivery/cms-co2-flux-monthgrid-v1/CMSFluxTotal201001_202212_v3.nc\n",
      "delivery/cms-co2-flux-monthgrid-v1/CMSFluxTotalPrior201001_202212_v3.nc ['total_prior']\n",
      "COG creation done for delivery/cms-co2-flux-monthgrid-v1/CMSFluxTotalPrior201001_202212_v3.nc\n"
     ]
    }
   ],
   "source": [
    "base_date = datetime.strptime(keys[0].split(\".\")[-2][-16:-10], \"%Y%m\")\n",
    "def convert_months_to_date(months, base_date):\n",
    "    return base_date + pd.DateOffset(months=months)\n",
    "\n",
    "for key in keys:\n",
    "    url=f\"s3://{raw_data_bucket}/{key}\"\n",
    "    filename = key.split(\"/\")[-1] # CMSFluxNBE201001_202212_v3.nc\n",
    "    with fs.open(url) as file_obj:\n",
    "        xds=xarray.open_dataset(file_obj,decode_times=False)\n",
    "        xds = xds.assign_coords(longitude=(((xds.longitude + 180) % 360) - 180)).sortby(\"longitude\")\n",
    "        new_time_values = [convert_months_to_date(month, base_date) for month in xds['time'].values]\n",
    "        xds['time'] = xarray.DataArray(new_time_values, dims='time')\n",
    "        variables = [var for var in xds.data_vars if var not in config[\"transformation\"][\"filter_variable\"][\"exclude\"]]\n",
    "        for time_increment in range(0, len(xds.time)):\n",
    "            for var in variables:\n",
    "                filename_elements = filename.split(\"_\") # CMSFluxNBE201001 202212 v3.nc\n",
    "                data = getattr(xds.isel(time=time_increment), var)\n",
    "                #data = data.fillna(-9999)\n",
    "                data= data.where(data!=-999, -9999) #as per documentation. there are no nan or -999 values when checked\n",
    "                \n",
    "                data.rio.set_spatial_dims(\"longitude\", \"latitude\", inplace=True)\n",
    "                data.rio.write_crs(\"epsg:4326\", inplace=True)\n",
    "                data.rio.write_nodata(-9999, inplace=True)\n",
    "\n",
    "                date = data.time.dt.strftime(date_fmt).item(0)\n",
    "                filename_elements[-1] = var\n",
    "                filename_elements.append(date)\n",
    "                cog_filename = \"_\".join(filename_elements)\n",
    "                cog_filename = f\"{cog_filename}.tif\"\n",
    "\n",
    "                #data.rio.to_raster(f\"cms-co2-flux-monthgrid-v1/{cog_filename}\", driver=\"COG\", compress=\"DEFLATE\")\n",
    "\n",
    "                with tempfile.NamedTemporaryFile() as temp_file:\n",
    "                    data.rio.to_raster(temp_file.name, driver=\"COG\", compress=\"DEFLATE\")\n",
    "                    s3_client.upload_file(\n",
    "                        Filename=temp_file.name,\n",
    "                        Bucket=cog_data_bucket,\n",
    "                        Key=f\"{cog_data_prefix}/cms-co2-flux-monthgrid-v1/{cog_filename}\",\n",
    "                    )\n",
    "                del data\n",
    "                \n",
    "    print(\"COG creation done for\", key)"
   ]
  },
  {
   "cell_type": "code",
   "execution_count": 7,
   "id": "1792d462-9a99-4d69-ae86-72c7460a5c21",
   "metadata": {},
   "outputs": [],
   "source": [
    "\n",
    "\n",
    "keys = get_all_s3_keys(\"ghgc-data-store-develop\", \"transformed_cogs/cms-co2-flux-monthgrid-v1\", \".tif\")\n",
    "def compute_sha256(url):\n",
    "    \"\"\"Compute SHA-256 checksum for a given file.\"\"\"\n",
    "    sha256_hash = hashlib.sha256()\n",
    "    with fs.open(url) as f:\n",
    "        for byte_block in iter(lambda: f.read(4096), b\"\"):\n",
    "            sha256_hash.update(byte_block)\n",
    "    return sha256_hash.hexdigest()\n",
    "\n",
    "sha_mapping = {}\n",
    "for key in keys:\n",
    "    if key.endswith(\".tif\"):\n",
    "        sha_mapping[key.split(\"/\")[-1]]=compute_sha256(f\"s3://ghgc-data-store-develop/{key}\")\n",
    "        \n",
    "with open('cms-co2-flux-monthgrid-v1.json', 'w') as json_file:\n",
    "    json.dump(sha_mapping, json_file, indent=4)"
   ]
  },
  {
   "cell_type": "code",
   "execution_count": 8,
   "id": "483b2250-e86d-4417-a540-7eb73fa71979",
   "metadata": {},
   "outputs": [
    {
     "data": {
      "text/html": [
       "<div>\n",
       "<style scoped>\n",
       "    .dataframe tbody tr th:only-of-type {\n",
       "        vertical-align: middle;\n",
       "    }\n",
       "\n",
       "    .dataframe tbody tr th {\n",
       "        vertical-align: top;\n",
       "    }\n",
       "\n",
       "    .dataframe thead th {\n",
       "        text-align: right;\n",
       "    }\n",
       "</style>\n",
       "<table border=\"1\" class=\"dataframe\">\n",
       "  <thead>\n",
       "    <tr style=\"text-align: right;\">\n",
       "      <th></th>\n",
       "      <th>num_codes</th>\n",
       "    </tr>\n",
       "    <tr>\n",
       "      <th>file</th>\n",
       "      <th></th>\n",
       "    </tr>\n",
       "  </thead>\n",
       "  <tbody>\n",
       "  </tbody>\n",
       "</table>\n",
       "</div>"
      ],
      "text/plain": [
       "Empty DataFrame\n",
       "Columns: [num_codes]\n",
       "Index: []"
      ]
     },
     "execution_count": 8,
     "metadata": {},
     "output_type": "execute_result"
    }
   ],
   "source": [
    "#check for duplicates (collision)\n",
    "data = [(key, value) for key, value in sha_mapping.items()]\n",
    "df = pd.DataFrame(data, columns=['file', 'code'])\n",
    "df.groupby(\"file\").agg(num_codes=(\"code\",\"nunique\")). query(\"num_codes>1\")"
   ]
  },
  {
   "cell_type": "code",
   "execution_count": null,
   "id": "75ec0991-bd93-439d-8007-5f1260b2a68b",
   "metadata": {},
   "outputs": [],
   "source": []
  }
 ],
 "metadata": {
  "kernelspec": {
   "display_name": "Python 3 (ipykernel)",
   "language": "python",
   "name": "python3"
  },
  "language_info": {
   "codemirror_mode": {
    "name": "ipython",
    "version": 3
   },
   "file_extension": ".py",
   "mimetype": "text/x-python",
   "name": "python",
   "nbconvert_exporter": "python",
   "pygments_lexer": "ipython3",
   "version": "3.12.3"
  }
 },
 "nbformat": 4,
 "nbformat_minor": 5
}
