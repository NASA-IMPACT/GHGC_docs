{
 "cells": [
  {
   "cell_type": "markdown",
   "metadata": {},
   "source": [
    "### Instructions on how to transform a single file\n",
    "Install the required libraries in an isolated environment"
   ]
  },
  {
   "cell_type": "code",
   "execution_count": null,
   "metadata": {},
   "outputs": [],
   "source": [
    "import xarray\n",
    "import re\n",
    "from datetime import datetime"
   ]
  },
  {
   "cell_type": "code",
   "execution_count": null,
   "metadata": {},
   "outputs": [],
   "source": [
    "# Read a file of the new dataset\n",
    "name = 'test.nc'\n",
    "ds = xarray.open_dataset(name) # open the file\n",
    "print('The netcdf file contains information as shown below')\n",
    "ds"
   ]
  },
  {
   "cell_type": "code",
   "execution_count": null,
   "metadata": {},
   "outputs": [],
   "source": [
    "# Explore the netCDF file\n",
    "print('Data valriables in the netCDF file are', ds.data_vars)\n",
    "print('Dimensions mentioned in the netCDF file are', ds.dims)\n",
    "#..... explore the netCDf file for more information"
   ]
  },
  {
   "cell_type": "code",
   "execution_count": null,
   "metadata": {},
   "outputs": [],
   "source": [
    "# once explored, look at the latitude, longitude and other values and comvert them if needed.\n",
    "ds = ds.rename({\"latitude\": \"lat\", \"longitude\": \"lon\"})\n",
    "ds = ds.assign_coords(lon=(((ds.lon + 180) % 360) - 180)).sortby(\"lon\")\n",
    "variable = [var for var in ds.data_vars]"
   ]
  },
  {
   "cell_type": "code",
   "execution_count": null,
   "metadata": {},
   "outputs": [],
   "source": [
    "# Parse through the time variable to extract single timestamp and create a dataarray for the given timestamp.\n",
    "for time_increment in range(0, len(ds.months)):\n",
    "    # split the original file name to create a unique COG name\n",
    "    filename = name.split(\"/ \")[-1]\n",
    "    filename_elements = re.split(\"[_ .]\", filename)\n",
    "    start_time = datetime(int(filename_elements[-2]), time_increment + 1, 1)\n",
    "    for var in variable: # Parse through the data variables\n",
    "        data = getattr(ds.isel(months=time_increment), var)\n",
    "        data = data.isel(lat=slice(None, None, -1))\n",
    "        data.rio.set_spatial_dims(\"lon\", \"lat\", inplace=True)\n",
    "        data.rio.write_crs(\"epsg:4326\", inplace=True)\n",
    "\n",
    "        # # insert date of generated COG into filename\n",
    "        filename_elements.pop()\n",
    "        filename_elements[-1] = start_time.strftime(\"%Y%m\")\n",
    "        filename_elements.insert(2, var)\n",
    "        cog_filename = \"_\".join(filename_elements)\n",
    "        # # add extension\n",
    "        cog_filename = f\"{cog_filename}.tif\""
   ]
  },
  {
   "cell_type": "markdown",
   "metadata": {},
   "source": [
    "## Validate the COG using QGIS or any other means.\n",
    "Once validated, follow the steps mentioned in the README in the folder `data_transformation_plugins`"
   ]
  }
 ],
 "metadata": {
  "language_info": {
   "name": "python"
  }
 },
 "nbformat": 4,
 "nbformat_minor": 2
}
