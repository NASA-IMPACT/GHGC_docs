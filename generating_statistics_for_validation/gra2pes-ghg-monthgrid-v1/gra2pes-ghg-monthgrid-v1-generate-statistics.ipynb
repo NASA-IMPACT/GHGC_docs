{
 "cells": [
  {
   "cell_type": "code",
   "execution_count": 10,
   "id": "9874cc9f-323e-490b-af48-e63f243d3b21",
   "metadata": {},
   "outputs": [],
   "source": [
    "import xarray as xr\n",
    "import os\n",
    "import glob\n",
    "from  datetime import datetime\n",
    "import boto3\n",
    "import s3fs\n",
    "import tempfile\n",
    "import numpy as np\n",
    "import pandas as pd\n",
    "import re\n",
    "import json"
   ]
  },
  {
   "cell_type": "code",
   "execution_count": 3,
   "id": "7022892e-93b7-4074-962e-97b536db379f",
   "metadata": {},
   "outputs": [],
   "source": [
    "raw_files = glob.glob(\"data/*.nc4\")\n",
    "output_files= glob.glob(\"output_final2/*.tif\")"
   ]
  },
  {
   "cell_type": "code",
   "execution_count": 4,
   "id": "edf355ac-148a-448e-a031-e2bd6b30c32d",
   "metadata": {},
   "outputs": [],
   "source": [
    "def extract_date_from_key(key):\n",
    "    # Split the key to isolate the part that contains the date\n",
    "    parts = key.split('_')\n",
    "    for part in parts:\n",
    "        # Check if the part is numeric and has the length of 6 (YYYYMM format)\n",
    "        if part.isdigit() and len(part) == 6:\n",
    "            return part\n",
    "    return None"
   ]
  },
  {
   "cell_type": "code",
   "execution_count": 5,
   "id": "2a406a81-ef93-4736-93ad-2801d06dcc9a",
   "metadata": {},
   "outputs": [],
   "source": [
    "overall_raw= []\n",
    "raw= pd.DataFrame(columns=['filename','min_raw','max_raw','mean_raw','std_raw'])\n",
    "for file in raw_files:\n",
    "    xds= xr.open_dataset(file)\n",
    "    year_month = extract_date_from_key(file)\n",
    "    for var in [\"PM25-PRI\",\"CO2\",\"CO\",\"NOX\",\"SOX\"]:\n",
    "        data = getattr(xds,var)\n",
    "        overall_raw.append(data)\n",
    "        data = np.ma.masked_where((data == -9999), data)\n",
    "        min_val = np.nanmin(data)\n",
    "        max_val = np.nanmax(data)\n",
    "        mean_val = np.nanmean(data)\n",
    "        std_val = np.nanstd(data)\n",
    "        stats = [f\"{var}_{year_month}\", min_val, max_val, mean_val, std_val]\n",
    "        raw.loc[len(raw)] = stats"
   ]
  },
  {
   "cell_type": "code",
   "execution_count": 6,
   "id": "7db9dbd8-0a91-427b-bfa6-bb38576dca57",
   "metadata": {},
   "outputs": [],
   "source": [
    "overall_cog=[]\n",
    "cog= pd.DataFrame(columns=['filename','min_cog','max_cog','mean_cog','std_cog'])\n",
    "for file in output_files:\n",
    "    data= xr.open_dataarray(file)\n",
    "    \n",
    "    year_month = file[:-4][-6:]\n",
    "    var = file.split(\"_\")[-2]\n",
    "    overall_cog.append(data)\n",
    "    data = np.ma.masked_where((data == -9999), data)\n",
    "    \n",
    "    \n",
    "    min_val = np.nanmin(data)\n",
    "    max_val = np.nanmax(data)\n",
    "    mean_val = np.nanmean(data)\n",
    "    std_val = np.nanstd(data)\n",
    "    stats = [f\"{var}_{year_month}\", min_val, max_val, mean_val, std_val]\n",
    "    cog.loc[len(cog)] = stats"
   ]
  },
  {
   "cell_type": "code",
   "execution_count": 7,
   "id": "23d1e778-d977-44d6-8eed-7df31e88e94b",
   "metadata": {},
   "outputs": [
    {
     "data": {
      "text/plain": [
       "['overall_raw', 0.0, 110011.766, 5.1753755, 172.26357]"
      ]
     },
     "execution_count": 7,
     "metadata": {},
     "output_type": "execute_result"
    }
   ],
   "source": [
    "# validation for reprojected data (non zero) - overall calculation\n",
    "overall_raw= np.array(overall_raw)\n",
    "overall_raw= np.ma.masked_where((overall_raw == -9999) , overall_raw)\n",
    "nan_min = np.nanmin(overall_raw)\n",
    "nan_max = np.nanmax(overall_raw)\n",
    "nan_mean = np.nanmean(overall_raw)\n",
    "nan_std = np.nanstd(overall_raw)\n",
    "[\"overall_raw\",nan_min,nan_max,nan_mean,nan_std]"
   ]
  },
  {
   "cell_type": "code",
   "execution_count": 8,
   "id": "4c17a38a-4d0f-4f0e-a95d-67fac2128552",
   "metadata": {},
   "outputs": [
    {
     "data": {
      "text/plain": [
       "['overall_cog', 0.0, 110011.766, 5.1753297, 172.27177]"
      ]
     },
     "execution_count": 8,
     "metadata": {},
     "output_type": "execute_result"
    }
   ],
   "source": [
    "overall_cog= np.array(overall_cog)\n",
    "nan_min = np.nanmin(overall_cog)\n",
    "nan_max = np.nanmax(overall_cog)\n",
    "nan_mean = np.nanmean(overall_cog)\n",
    "nan_std = np.nanstd(overall_cog)\n",
    "[\"overall_cog\",nan_min,nan_max,nan_mean,nan_std]"
   ]
  },
  {
   "cell_type": "code",
   "execution_count": 9,
   "id": "72623f8a-46ea-405c-9835-f006ea8699f6",
   "metadata": {},
   "outputs": [],
   "source": [
    "pd.merge(cog, raw, on='filename', how='inner').to_json(\"monthly_stats.json\")"
   ]
  },
  {
   "cell_type": "code",
   "execution_count": 11,
   "id": "1b9c7790-37d6-4654-b260-c6656ac0af81",
   "metadata": {},
   "outputs": [],
   "source": [
    "\n",
    "keys = [\"data\", \"nan_min\", \"nan_max\", \"nan_mean\", \"nan_std\"]\n",
    "values_set1 = [\"overall_raw\", 0.0, 110011.766, 5.1753297, 172.27177]\n",
    "values_set2 = [\"overall_cog\", 0.0, 110011.766, 5.1753297, 172.27177]\n",
    "\n",
    "data_dict = {key: [val1, val2] for key, val1, val2 in zip(keys, values_set1, values_set2)}\n",
    "\n",
    "# Save the dictionary as a JSON file\n",
    "with open(\"overall_stats.json\", \"w\") as json_file:\n",
    "    json.dump(data_dict, json_file, indent=4)"
   ]
  },
  {
   "cell_type": "code",
   "execution_count": null,
   "id": "c145b50f-25ff-49f0-b27e-9c5e9dae1b42",
   "metadata": {},
   "outputs": [],
   "source": []
  }
 ],
 "metadata": {
  "kernelspec": {
   "display_name": "Python 3 (ipykernel)",
   "language": "python",
   "name": "python3"
  },
  "language_info": {
   "codemirror_mode": {
    "name": "ipython",
    "version": 3
   },
   "file_extension": ".py",
   "mimetype": "text/x-python",
   "name": "python",
   "nbconvert_exporter": "python",
   "pygments_lexer": "ipython3",
   "version": "3.12.3"
  }
 },
 "nbformat": 4,
 "nbformat_minor": 5
}
