{
 "cells": [
  {
   "cell_type": "raw",
   "id": "bca77cab-96b4-49b4-8ffb-26f45b8bbfb6",
   "metadata": {
    "tags": []
   },
   "source": [
    "---\n",
    "title: OCO-2 MIP National Top-Down CO2 Budgets\n",
    "description: Pilot National-total top-down carbon dioxide budgets of carbon dioxide emissions during 2015-2020, version 1.\n",
    "author: Brendan Byrne\n",
    "date: 21 March 2024\n",
    "---"
   ]
  },
  {
   "attachments": {},
   "cell_type": "markdown",
   "metadata": {},
   "source": [
    "## Run this notebook\n",
    "\n",
    "You can launch this notebook in the US GHG Center JupyterHub by clicking the link below.\n",
    "\n",
    "[Launch in the US GHG Center JupyterHub (requires access)](https://hub.ghg.center/hub/user-redirect/git-pull?repo=https%3A%2F%2Fgithub.com%2FUS-GHG-Center%2Fghgc-docs&urlpath=lab%2Ftree%2Fghgc-docs%2Fuser_data_notebooks%2Foco2-mip-National-co2budget.ipynb&branch=main)\n"
   ]
  },
  {
   "cell_type": "markdown",
   "id": "c0f7e20f-9fe4-46f2-ab65-9caac663563d",
   "metadata": {
    "tags": []
   },
   "source": [
    "# OCO-2 MIP Top-down CO2 Budgets\n",
    "\n",
    "## Approach\n",
    "\n",
    "1. Read in National CO2 Budgets using Pandas\n",
    "2. Sub-select the data structure using Pandas\n",
    "3. Visualize the CO2 budgets for a country\n",
    "4. Investigate uncertainties and metrics for understanding the dataset\n",
    "\n",
    "## About the Data\n",
    "\n",
    "This tutorial guides a user to further explore data from the Carbon Observatory (OCO-2) modeling intercomparison project (MIP). It is designed for those with more understanding of the science and is therefore labeled as intermediate level.\n",
    "\n",
    "The code is used to estimate the annual net terrestrial carbon stock loss (ΔC<sub>loss</sub>) and net carbon exchange (NCE) for a given country using the “top-down” NCE outputs from the Carbon Observatory (OCO-2) modeling intercomparison project (MIP). Several standardized experiments are studied in this notebook based on the OCO-2 MIP dataset including flux estimates from in situ CO₂ measurements (IS), flux estimates from OCO-2 land CO₂ data (LNLG), combined in situ and OCO-2 land CO₂ data (LNLGIS), and combined in situ and OCO-2 land and ocean CO₂ data (LNLGOGIS). Estimates and uncertainties associated with fossil fuels, riverine fluxes, and wood and crop fluxes are also graphed along with the ΔC<sub>loss</sub> and NCE variables.\n",
    "\n",
    "For more information about this data collection, please visit the [OCO-2 MIP Top-Down CO2 Budgets](https://earth.gov/ghgcenter/data-catalog/oco2-mip-co2budget-yeargrid-v1) data overview page.\n",
    "\n",
    "For more information regarding this dataset, please visit the [U.S. Greenhouse Gas Center](https://earth.gov/ghgcenter).\n",
    "\n",
    "# Install the Required Libraries\n",
    "\n",
    "Required libraries are pre-installed on the GHG Center Hub. If you need to run this notebook elsewhere, please install them with this line in a code cell:\n",
    "\n",
    "%pip install requests folium rasterstats pystac_client pandas matplotlib --quiet\n",
    "\n",
    "## Import required modules\n",
    "\n",
    "First we will need to import the relevant python modules:\n"
   ]
  },
  {
   "cell_type": "code",
   "execution_count": 1,
   "id": "8ff420ae-1455-4a3b-8dfe-1da8abf16049",
   "metadata": {
    "tags": []
   },
   "outputs": [],
   "source": [
    "import pandas as pd # for manipulating csv dataset\n",
    "import numpy as np\n",
    "import matplotlib.pyplot as plt # make plots\n",
    "from scipy.stats import norm # We will use this for understanding significance"
   ]
  },
  {
   "cell_type": "markdown",
   "id": "fef62803-12d5-41d5-9073-ebe027717cbd",
   "metadata": {},
   "source": [
    "## Read the CO2 National budget dataset\n",
    "\n",
    "Now we will read in the csv dataset from https://ceos.org/gst/carbon-dioxide.html\n"
   ]
  },
  {
   "cell_type": "code",
   "execution_count": 2,
   "id": "10194dc3-274b-419c-96ab-b2bc51e6d19d",
   "metadata": {
    "tags": []
   },
   "outputs": [],
   "source": [
    "url ='https://ceos.org/gst/files/pilot_topdown_CO2_Budget_countries_v1.csv'\n",
    "df_all = pd.read_csv(url, skiprows=52)"
   ]
  },
  {
   "cell_type": "markdown",
   "id": "8c48eafe-c6a1-48b7-b44b-e598576709c7",
   "metadata": {},
   "source": [
    "## Sub-select a single top-down dataset (experiment)\n",
    "\n",
    "To simplify the analysis, let's subselect the results for a single experiment. The experiments are:\n",
    "\n",
    "- IS: estimates fluxes from in situ CO2 measurements\n",
    "- LNLG: estimates fluxes from OCO-2 land CO2 data\n",
    "- LNLGIS: combines in situ and OCO-2 land CO2 data\n",
    "- LNLGOGIS: combines in situ and OCO-2 land and ocean CO2 data\n",
    "\n",
    "We would like to use the experiment that uses the most high-quality CO2 data. There are some concerns about small residual biases in OCO-2 ocean data (Byrne et al., 2023), so let's use the LNLGIS experiment.\n"
   ]
  },
  {
   "cell_type": "code",
   "execution_count": null,
   "id": "7f380763-4b59-4f53-9993-803c37995a3b",
   "metadata": {
    "tags": []
   },
   "outputs": [],
   "source": [
    "# Choose one experiment from the list ['IS', 'LNLG', 'LNLGIS', 'LNLGOGIS']\n",
    "experiment = 'LNLGIS'\n",
    "\n",
    "# Subset of columns for a given experiment\n",
    "if experiment == 'IS':\n",
    "    df = df_all.drop(df_all.columns[[4,5,6,7,8,9,12,13,14,15,16,17,20,21,22,23,24,25,34,35,36]], axis=1)\n",
    "if experiment == 'LNLG':\n",
    "    df = df_all.drop(df_all.columns[[2,3,6,7,8,9,10,11,14,15,16,17,18,19,22,23,24,25,33,35,36]], axis=1)\n",
    "if experiment == 'LNLGIS':\n",
    "    df = df_all.drop(df_all.columns[[2,3,4,5,8,9,10,11,12,13,16,17,18,19,20,21,24,25,33,34,36]], axis=1)\n",
    "if experiment == 'LNLGOGIS':\n",
    "    df = df_all.drop(df_all.columns[[2,3,4,5,6,7,10,11,12,13,14,15,18,19,20,21,22,23,33,34,35]], axis=1)\n",
    "\n",
    "# We can now look at the colums of data\n",
    "df.head()"
   ]
  },
  {
   "cell_type": "markdown",
   "id": "06d13ea9-0239-4590-b032-71ee3f07b99f",
   "metadata": {},
   "source": [
    "## Sub-select a single country\n",
    "\n",
    "Let's further filter the dataset to look at a specific country. Choose a country by entering the alpha code in the country_name variable below\n"
   ]
  },
  {
   "cell_type": "code",
   "execution_count": null,
   "id": "dc8b03d3-2ff7-43db-bf7d-0054c3a7f2a8",
   "metadata": {
    "tags": []
   },
   "outputs": [],
   "source": [
    "# Choose a country\n",
    "country_name = 'USA' \n",
    "\n",
    "# We can sub-select the data for the country\n",
    "country_data = df[df['Alpha 3 Code'] == country_name]\n",
    "\n",
    "# Now we can look at the data for a specific experiment and country\n",
    "country_data.head()"
   ]
  },
  {
   "cell_type": "markdown",
   "id": "e53b5116-e121-4a69-bdb7-d5ea42922810",
   "metadata": {},
   "source": [
    "#This dataset contains fluxes over a five year period, 2015-2020.\n",
    "\n",
    "Let's look at a plot of the annual net terrestrial carbon stock loss (ΔC<sub>loss</sub>) for each year.\n"
   ]
  },
  {
   "cell_type": "code",
   "execution_count": null,
   "id": "f7be864d-4d01-442f-b3cb-a1aefff616ae",
   "metadata": {
    "tags": []
   },
   "outputs": [],
   "source": [
    "# Make plot\n",
    "fig, ax1 = plt.subplots(1, 1, figsize=(6, 4))\n",
    "ax1.errorbar(country_data['Year'],country_data[experiment+' dC_loss (TgCO2)'],\n",
    "                    yerr=country_data[experiment+' dC_loss unc (TgCO2)'],label=experiment,capsize=10)\n",
    "ax1.legend(loc='upper right')\n",
    "ax1.set_ylabel('$\\Delta$C$_\\mathrm{loss}$ (TgCO$_2$ year$^{-1}$)')\n",
    "ax1.set_xlabel('Year')\n",
    "ax1.set_title('$\\Delta$C$_\\mathrm{loss}$ for '+country_name)\n",
    "ymin, ymax = ax1.get_ylim()\n",
    "max_abs_y = max(abs(ymin), abs(ymax))\n",
    "ax1.set_ylim([-max_abs_y, max_abs_y])\n",
    "xmin, xmax = ax1.get_xlim()\n",
    "ax1.plot([xmin,xmax],[0,0],'k',linewidth=0.5)\n",
    "ax1.set_xlim([xmin, xmax])"
   ]
  },
  {
   "cell_type": "markdown",
   "id": "1eb37df8-d8e9-4f77-bf12-d93aca798621",
   "metadata": {},
   "source": [
    "Next, we can look at the full carbon budget for a given year.\n",
    "\n",
    "The code below creates a plot similar to Fig 13 of Byrne et al. (2023). Each of the bars on the left side of the dashed vertical line (Fossil fuel emissions, lateral C transport by rivers, lateral C transport in crop and wood products, and the net terrestrial carbon stock loss combined to give the net carbon exchange (net surface-atmosphere CO2 flux) shown on the right.\n"
   ]
  },
  {
   "cell_type": "code",
   "execution_count": null,
   "id": "3f956003-05f7-4394-9764-56545ecc9ec9",
   "metadata": {
    "tags": []
   },
   "outputs": [],
   "source": [
    "# Pick a specifc year (or mean year)\n",
    "year='mean'\n",
    "\n",
    "# Make plot\n",
    "country_data_mean = country_data[country_data['Year'] == year]\n",
    "a=country_data_mean['Wood+Crop (TgCO2)']\n",
    "b=country_data_mean['Wood+Crop unc (TgCO2)']\n",
    "print(b)\n",
    "#\n",
    "plt.bar(1, country_data_mean['FF (TgCO2)'], yerr=country_data_mean['FF unc (TgCO2)'], label='FF', alpha=0.5)\n",
    "plt.bar(2, country_data_mean['Rivers (TgCO2)'], yerr=country_data_mean['River unc (TgCO2)'], label='Rivers', alpha=0.5)\n",
    "plt.bar(3, country_data_mean['Wood+Crop (TgCO2)'], yerr=abs(country_data_mean['Wood+Crop unc (TgCO2)']), label='WoodCrop', alpha=0.5)\n",
    "plt.bar(4, country_data_mean[experiment+' dC_loss (TgCO2)'], yerr=country_data_mean['LNLGIS dC_loss unc (TgCO2)'], label='dC', alpha=0.5)\n",
    "plt.bar(6, country_data_mean[experiment+' NCE (TgCO2)'], yerr=country_data_mean['LNLGIS NCE unc (TgCO2)'], label='NCE', alpha=0.5)\n",
    "ax = plt.gca()\n",
    "ymin, ymax = ax.get_ylim()\n",
    "plt.plot([5,5],[ymin,ymax],'k:')\n",
    "xmin, xmax = ax.get_xlim()\n",
    "plt.plot([xmin,xmax],[0,0],'k',linewidth=0.5)\n",
    "plt.xlim([xmin,xmax])\n",
    "plt.ylim([ymin,ymax])\n",
    "#\n",
    "plt.xticks([1,2,3,4,6], ['Fossil\\nFuels','Rivers','Wood+\\nCrops','$\\mathrm{\\Delta C _{loss}}$','NCE'])\n",
    "plt.title(country_name+' '+year)\n",
    "plt.ylabel('CO$_2$ Flux (TgCO$_2$ year$^{-1}$)')"
   ]
  },
  {
   "cell_type": "markdown",
   "id": "7b450618-b0dc-43b4-adda-d8393baf10f7",
   "metadata": {},
   "source": [
    "Uncertainty is an important consideration when analyzing the flux estimates provided by Byrne et al. (2023).\n",
    "\n",
    "Each flux estimate is provided with an error estimate representing the standard deviation, and assuming the errors are well prepresented by a normal distribution. This probability dirtribution provided by this uncertainty can be visualized below. We can further quantify the\n"
   ]
  },
  {
   "cell_type": "code",
   "execution_count": null,
   "id": "d6cb1421-a44c-4e54-9bb1-fda73bc3ff27",
   "metadata": {},
   "outputs": [],
   "source": [
    "\n",
    "# Select NCE, NBE or dC_loss\n",
    "quantity = 'dC_loss'\n",
    "\n",
    "# Value for comparison\n",
    "comparison_value = 1000 # TgCO2/year\n",
    "\n",
    "\n",
    "MIP_mean = country_data_mean[experiment+' '+quantity+' (TgCO2)'].item()\n",
    "MIP_std = country_data_mean[experiment+' '+quantity+' unc (TgCO2)'].item()\n",
    "\n",
    "# Perform t-test\n",
    "t_value = abs(MIP_mean - comparison_value)/(MIP_std / np.sqrt(11))\n",
    "crtical_value = 2.23 # use p=0.05 significance\n",
    "if t_value > crtical_value:\n",
    "    ttest = 'statistically different'\n",
    "if t_value < crtical_value:\n",
    "    ttest = 'not statistically\\ndifferent'\n",
    "\n",
    "# Make plot\n",
    "xbounds = abs(MIP_mean)+MIP_std*4\n",
    "if abs(crtical_value) > xbounds:\n",
    "    xbounds = abs(crtical_value)\n",
    "x_axis = np.arange(-1.*xbounds, xbounds, 1) \n",
    "plt.plot(x_axis, norm.pdf(x_axis, MIP_mean, MIP_std)) \n",
    "ax = plt.gca()\n",
    "ymin, ymax = ax.get_ylim()\n",
    "xmin, xmax = ax.get_xlim()\n",
    "plt.plot([0,0],[ymin,ymax*1.2],'k:',linewidth=0.5)\n",
    "plt.plot([xmin,xmax],[0,0],'k:',linewidth=0.5)\n",
    "plt.plot([comparison_value,comparison_value],[ymin,ymax*1.2],'k')\n",
    "plt.text(comparison_value+(xmax-xmin)*0.01,ymax*0.96,'value = '+str(comparison_value),ha='left',va='top')\n",
    "plt.text(comparison_value+(xmax-xmin)*0.01,ymax*0.9,ttest,ha='left',va='top')\n",
    "plt.ylim([ymin,ymax*1.2])\n",
    "plt.xlim([xmin,xmax])\n",
    "plt.plot(MIP_mean,ymax*1.03,'ko')\n",
    "plt.plot([MIP_mean-MIP_std,\n",
    "         MIP_mean+MIP_std],\n",
    "         [ymax*1.03,ymax*1.03],'k')\n",
    "plt.plot([MIP_mean-MIP_std,\n",
    "         MIP_mean-MIP_std],\n",
    "         [ymax*1.005,ymax*1.055],'k')\n",
    "plt.plot([MIP_mean+MIP_std,\n",
    "         MIP_mean+MIP_std],\n",
    "         [ymax*1.005,ymax*1.055],'k')\n",
    "plt.text(MIP_mean,ymax*1.115,\n",
    "         str(round(MIP_mean))+' $\\pm$ '+\n",
    "         str(round(MIP_std))+' TgCO$_2$',ha='center')\n",
    "plt.title(country_name+' '+year+' '+quantity+'')\n",
    "plt.yticks([])\n",
    "plt.ylabel('Probability')\n",
    "plt.xlabel(quantity+' (TgCO$_2$ year$^{-1}$)')"
   ]
  },
  {
   "cell_type": "markdown",
   "id": "42a7785d-8645-439f-8a90-fba0cc7eeefb",
   "metadata": {},
   "source": [
    "Finally, we will examine two metrics that are useful for understanding the confidence in the top-down results:\n",
    "\n",
    "- Z-statistic: metric of agreement in NCE estimates across the experiments that assimilate different CO2 datasets. Experiments are considered significantly different if the magnitude exceeds 1.96\n",
    "\n",
    "- Fractional Uncertainty Reduction (FUR): metric of how strongly the assimilated CO2 data on reduce NCE uncertainties. Values range from 0 to 1, with 0 meaning zero error reduction and 1 meaning complete error reduction\n",
    "\n",
    "Here we will add a plot of the Z-statistic for each year, and add the FUR value for the country.\n"
   ]
  },
  {
   "cell_type": "code",
   "execution_count": null,
   "id": "65fb149a-a252-4018-876c-3245f1197a03",
   "metadata": {
    "tags": []
   },
   "outputs": [],
   "source": [
    "# Make plot\n",
    "fig, ax1 = plt.subplots(1, 1, figsize=(6, 4))\n",
    "ax1.plot(country_data['Year'],country_data['Z-statistic'],label=experiment)\n",
    "ax1.legend(loc='upper right')\n",
    "ax1.set_ylabel('Z-statistic')\n",
    "ax1.set_xlabel('Year')\n",
    "ax1.set_title(country_name)\n",
    "ymin, ymax = ax1.get_ylim()\n",
    "max_abs_y = max(abs(ymin), abs(ymax))\n",
    "ax1.set_ylim([-3, 3])\n",
    "xmin, xmax = ax1.get_xlim()\n",
    "ax1.plot([xmin,xmax],[0,0],'k',linewidth=0.5)\n",
    "ax1.plot([xmin,xmax],[-1.96,-1.96],'k--',linewidth=0.5)\n",
    "ax1.plot([xmin,xmax],[1.96,1.96],'k--',linewidth=0.5)\n",
    "ax1.set_xlim([xmin, xmax])\n",
    "ax1.text(xmin+0.12,2.6,'Fractional error reduction: '+str(country_data['FUR '+experiment].iloc[1]))"
   ]
  },
  {
   "cell_type": "code",
   "execution_count": null,
   "id": "1c950645-3eb7-4b4a-85d4-e73d2df73420",
   "metadata": {},
   "outputs": [],
   "source": []
  }
 ],
 "metadata": {
  "kernelspec": {
   "display_name": "Python 3 (ipykernel)",
   "language": "python",
   "name": "python3"
  },
  "language_info": {
   "codemirror_mode": {
    "name": "ipython",
    "version": 3
   },
   "file_extension": ".py",
   "mimetype": "text/x-python",
   "name": "python",
   "nbconvert_exporter": "python",
   "pygments_lexer": "ipython3",
   "version": "3.9.6"
  }
 },
 "nbformat": 4,
 "nbformat_minor": 5
}
