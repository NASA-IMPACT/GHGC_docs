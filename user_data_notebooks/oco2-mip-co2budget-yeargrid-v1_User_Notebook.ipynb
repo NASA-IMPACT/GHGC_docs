{
 "cells": [
  {
   "cell_type": "raw",
   "metadata": {},
   "source": [
    "---\n",
    "title: OCO-2 MIP Top-Down CO₂ Budgets\n",
    "description: Global, 1 degree resolution pilot top-down budgets of carbon dioxide emissions at 5 year intervals and national scales, version 1.\n",
    "author: Siddharth Chaudhary, Vishal Gaur\n",
    "date: 1 August 2023\n",
    "execute:\n",
    "   freeze: true\n",
    "---"
   ]
  },
  {
   "cell_type": "markdown",
   "metadata": {},
   "source": [
    "## Approach\n",
    "\n",
    "1. Identify available dates and temporal frequency of observations for the given collection using the GHGC API `/stac` endpoint. The collection processed in this notebook is the OCO-2 MIP Top-Down CO₂ Budgets data product.\n",
    "2. Pass the STAC item into the raster API `/stac/tilejson.json `endpoint.\n",
    "3. Using `folium.plugins.DualMap`, we will visualize two tiles (side-by-side), allowing us to compare time points. \n",
    "4. After the visualization, we will perform zonal statistics for a given polygon."
   ]
  },
  {
   "cell_type": "markdown",
   "metadata": {},
   "source": [
    "## About the Data\n",
    "\n",
    "The Committee on Earth Observation Satellites (CEOS) Atmospheric Composition - Virtual Constellation (AC-VC) Greenhouse Gas (GHG) team has generated the CEOS CO₂ Budgets dataset, which provides annual top-down carbon dioxide (CO2) emissions and removals from 2015 - 2020 gridded globally at 1° resolution, and as national totals. Data is provided in units of grams of carbon dioxide per square meter per year (g CO2/m2/yr). Only a subset of the full dataset is displayed in the GHG Center explore view. \n",
    "\n",
    "For more information regarding this dataset, please visit the [OCO-2 MIP Top-Down CO₂ Budgets](https://earth.gov/ghgcenter/data-catalog/oco2-mip-co2budget-yeargrid-v1) data overview page."
   ]
  },
  {
   "cell_type": "markdown",
   "metadata": {},
   "source": [
    "# Install the Required Libraries\n",
    "Required libraries are pre-installed on the GHG Center Hub. If you need to run this notebook elsewhere, please install them with this line in a code cell:\n",
    "\n",
    "%pip install requests folium rasterstats pystac_client pandas matplotlib --quiet"
   ]
  },
  {
   "cell_type": "markdown",
   "metadata": {},
   "source": [
    "## Querying the STAC API\n",
    "First, we are going to import the required libraries. Once imported, they allow better executing a query in the GHG Center Spatio Temporal Asset Catalog (STAC) Application Programming Interface (API) where the granules for this collection are stored."
   ]
  },
  {
   "cell_type": "code",
   "execution_count": 52,
   "metadata": {},
   "outputs": [],
   "source": [
    "import requests\n",
    "import folium\n",
    "import folium.plugins\n",
    "from folium import Map, TileLayer\n",
    "from pystac_client import Client\n",
    "import pandas as pd\n",
    "import matplotlib.pyplot as plt"
   ]
  },
  {
   "cell_type": "code",
   "execution_count": 53,
   "metadata": {},
   "outputs": [],
   "source": [
    "# Provide the STAC and RASTER API endpoints\n",
    "# The endpoint is referring to a location within the API that executes a request on a data collection nesting on the server.\n",
    "\n",
    "# The STAC API is a catalog of all the existing data collections that are stored in the GHG Center.\n",
    "STAC_API_URL = \"https://earth.gov/ghgcenter/api/stac\"\n",
    "\n",
    "# The RASTER API is used to fetch collections for visualization\n",
    "RASTER_API_URL = \"https://earth.gov/ghgcenter/api/raster\"\n",
    "\n",
    "# The collection name is used to fetch the dataset from the STAC API. First, we define the collection name as a variable\n",
    "# Name of the collection for CEOS National Top-Down CO₂ Budgets dataset \n",
    "collection_name = \"oco2-mip-co2budget-yeargrid-v1\""
   ]
  },
  {
   "cell_type": "code",
   "execution_count": 54,
   "metadata": {},
   "outputs": [],
   "source": [
    "# Fetch the collection from the STAC API using the appropriate endpoint\n",
    "# The 'requests' library allows a HTTP request possible\n",
    "collection = requests.get(f\"{STAC_API_URL}/collections/{collection_name}\").json()\n",
    "\n",
    "# Print the properties of the collection to the console\n",
    "collection"
   ]
  },
  {
   "cell_type": "markdown",
   "metadata": {},
   "source": [
    "Examining the contents of our `collection` under the `temporal` variable, we see that the data is available from January 2015 to December 2020. By looking at the `dashboard:time density`, we observe that the periodic frequency of these observations is yearly."
   ]
  },
  {
   "cell_type": "code",
   "execution_count": 55,
   "metadata": {},
   "outputs": [],
   "source": [
    "# Create a function that would search for a data collection in the US GHG Center STAC API\n",
    "\n",
    "# First, we need to define the function\n",
    "# The name of the function = \"get_item_count\"\n",
    "# The argument that will be passed through the defined function = \"collection_id\"\n",
    "def get_item_count(collection_id):\n",
    "\n",
    "    # Set a counter for the number of items existing in the collection\n",
    "    count = 0\n",
    "\n",
    "    # Define the path to retrieve the granules (items) of the collection of interest in the STAC API\n",
    "    items_url = f\"{STAC_API_URL}/collections/{collection_id}/items\"\n",
    "\n",
    "    # Run a while loop to make HTTP requests until there are no more URLs associated with the collection in the STAC API\n",
    "    while True:\n",
    "\n",
    "        # Retrieve information about the granules by sending a \"get\" request to the STAC API using the defined collection path\n",
    "        response = requests.get(items_url)\n",
    "\n",
    "        # If the items do not exist, print an error message and quit the loop\n",
    "        if not response.ok:\n",
    "            print(\"error getting items\")\n",
    "            exit()\n",
    "\n",
    "        # Return the results of the HTTP response as JSON\n",
    "        stac = response.json()\n",
    "\n",
    "        # Increase the \"count\" by the number of items (granules) returned in the response\n",
    "        count += int(stac[\"context\"].get(\"returned\", 0))\n",
    "\n",
    "        # Retrieve information about the next URL associated with the collection in the STAC API (if applicable)\n",
    "        next = [link for link in stac[\"links\"] if link[\"rel\"] == \"next\"]\n",
    "\n",
    "        # Exit the loop if there are no other URLs\n",
    "        if not next:\n",
    "            break\n",
    "        \n",
    "        # Ensure the information gathered by other STAC API links associated with the collection are added to the original path\n",
    "        # \"href\" is the identifier for each of the tiles stored in the STAC API\n",
    "        items_url = next[0][\"href\"]\n",
    "\n",
    "    # Return the information about the total number of granules found associated with the collection\n",
    "    return count"
   ]
  },
  {
   "cell_type": "code",
   "execution_count": 56,
   "metadata": {},
   "outputs": [
    {
     "name": "stdout",
     "output_type": "stream",
     "text": [
      "Found 6 items\n"
     ]
    }
   ],
   "source": [
    "# Apply the function created above \"get_item_count\" to the data collection\n",
    "number_of_items = get_item_count(collection_name)\n",
    "\n",
    "# Get the information about the number of granules found in the collection\n",
    "items = requests.get(f\"{STAC_API_URL}/collections/{collection_name}/items?limit={number_of_items}\").json()[\"features\"]\n",
    "\n",
    "# Print the total number of items (granules) found\n",
    "print(f\"Found {len(items)} items\")"
   ]
  },
  {
   "cell_type": "code",
   "execution_count": 57,
   "metadata": {},
   "outputs": [],
   "source": [
    "# Examine the first item in the collection\n",
    "# Keep in mind that a list starts from 0, 1, 2... therefore items[0] is referring to the first item in the list/collection\n",
    "items[0]"
   ]
  },
  {
   "cell_type": "markdown",
   "metadata": {},
   "source": [
    "## Exploring Changes in CO₂ Levels Using the Raster API\n",
    "\n",
    "In this notebook, we will explore the global changes of CO₂ budgets over time in urban regions. We will visualize the outputs on a map using `folium`."
   ]
  },
  {
   "cell_type": "code",
   "execution_count": 58,
   "metadata": {},
   "outputs": [],
   "source": [
    "# Now we create a dictionary where the start datetime values for each granule is queried more explicitly by year and month (e.g., 2020-02)\n",
    "items = {item[\"properties\"][\"start_datetime\"]: item for item in items} \n",
    "\n",
    "# Next, we need to specify the asset name for this collection\n",
    "# The asset name is referring to the raster band containing the pixel values for the parameter of interest\n",
    "# For the case of the OCO-2 MIP Top-Down CO₂ Budgets collection, the parameter of interest is “ff”\n",
    "asset_name = \"ff\" #fossil fuel"
   ]
  },
  {
   "cell_type": "markdown",
   "metadata": {},
   "source": [
    "Below, we are entering the minimum and maximum values to provide our upper and lower bounds in the `rescale_values`."
   ]
  },
  {
   "cell_type": "code",
   "execution_count": 59,
   "metadata": {},
   "outputs": [],
   "source": [
    "# Fetching the min and max values for a specific item\n",
    "rescale_values = {\"max\":items[list(items.keys())[0]][\"assets\"][asset_name][\"raster:bands\"][0][\"histogram\"][\"max\"], \"min\":items[list(items.keys())[0]][\"assets\"][asset_name][\"raster:bands\"][0][\"histogram\"][\"min\"]}\n",
    "\n",
    "# Hardcoding the min and max values to match the scale in the GHG Center dashboard\n",
    "rescale_values = {\"max\": 450, \"min\": 0}"
   ]
  },
  {
   "cell_type": "markdown",
   "metadata": {},
   "source": [
    "Now, we will pass the item id, collection name, asset name, and the `rescaling factor` to the `Raster API` endpoint. We will do this twice, once for 2020 and again for 2019, so that we can visualize each event independently."
   ]
  },
  {
   "cell_type": "code",
   "execution_count": 60,
   "metadata": {},
   "outputs": [
    {
     "data": {
      "text/plain": [
       "{'tilejson': '2.2.0',\n",
       " 'version': '1.0.0',\n",
       " 'scheme': 'xyz',\n",
       " 'tiles': ['https://earth.gov/ghgcenter/api/raster/stac/tiles/WebMercatorQuad/{z}/{x}/{y}@1x?collection=oco2-mip-co2budget-yeargrid-v1&item=oco2-mip-co2budget-yeargrid-v1-2020&assets=ff&color_formula=gamma+r+1.05&colormap_name=purd&rescale=0%2C450'],\n",
       " 'minzoom': 0,\n",
       " 'maxzoom': 24,\n",
       " 'bounds': [-180.0, -90.0, 180.0, 90.0],\n",
       " 'center': [0.0, 0.0, 0]}"
      ]
     },
     "execution_count": 60,
     "metadata": {},
     "output_type": "execute_result"
    }
   ],
   "source": [
    "# Choose a color map for displaying the first observation (event)\n",
    "# Please refer to matplotlib library if you'd prefer choosing a different color ramp.\n",
    "# For more information on Colormaps in Matplotlib, please visit https://matplotlib.org/stable/users/explain/colors/colormaps.html\n",
    "color_map = \"purd\"\n",
    "\n",
    "# Make a GET request to retrieve information for the 2020 tile which is the 1st item in the collection\n",
    "# To retrieve the first item in the collection we use \"0\" in the \"(items.keys())[0]\" statement\n",
    "\n",
    "# 2020\n",
    "co2_flux_1 = requests.get(\n",
    "\n",
    "    # Pass the collection name, the item number in the list, and its ID\n",
    "    f\"{RASTER_API_URL}/stac/tilejson.json?collection={items[list(items.keys())[0]]['collection']}&item={items[list(items.keys())[0]]['id']}\"\n",
    "\n",
    "    # Pass the asset name\n",
    "    f\"&assets={asset_name}\"\n",
    "\n",
    "    # Pass the color formula and colormap for custom visualization\n",
    "    f\"&color_formula=gamma+r+1.05&colormap_name={color_map}\"\n",
    "\n",
    "    # Pass the minimum and maximum values for rescaling\n",
    "    f\"&rescale={rescale_values['min']},{rescale_values['max']}\", \n",
    "\n",
    "# Return the response in JSON format\n",
    ").json()\n",
    "\n",
    "# Print the properties of the retrieved granule to the console\n",
    "co2_flux_1"
   ]
  },
  {
   "cell_type": "code",
   "execution_count": 61,
   "metadata": {},
   "outputs": [
    {
     "data": {
      "text/plain": [
       "{'tilejson': '2.2.0',\n",
       " 'version': '1.0.0',\n",
       " 'scheme': 'xyz',\n",
       " 'tiles': ['https://earth.gov/ghgcenter/api/raster/stac/tiles/WebMercatorQuad/{z}/{x}/{y}@1x?collection=oco2-mip-co2budget-yeargrid-v1&item=oco2-mip-co2budget-yeargrid-v1-2019&assets=ff&color_formula=gamma+r+1.05&colormap_name=purd&rescale=0%2C450'],\n",
       " 'minzoom': 0,\n",
       " 'maxzoom': 24,\n",
       " 'bounds': [-180.0, -90.0, 180.0, 90.0],\n",
       " 'center': [0.0, 0.0, 0]}"
      ]
     },
     "execution_count": 61,
     "metadata": {},
     "output_type": "execute_result"
    }
   ],
   "source": [
    "# Make a GET request to retrieve information for the 2019 tile which is the 2st item in the collection\n",
    "# To retrieve the second item in the collection we use \"1\" in the \"(items.keys())[1]\" statement\n",
    "\n",
    "# 2019\n",
    "co2_flux_2 = requests.get(\n",
    "\n",
    "    # Pass the collection name, the item number in the list, and its ID\n",
    "    f\"{RASTER_API_URL}/stac/tilejson.json?collection={items[list(items.keys())[1]]['collection']}&item={items[list(items.keys())[1]]['id']}\"\n",
    "\n",
    "    # Pass the asset name\n",
    "    f\"&assets={asset_name}\"\n",
    "\n",
    "    # Pass the color formula and colormap for custom visualization\n",
    "    f\"&color_formula=gamma+r+1.05&colormap_name={color_map}\"\n",
    "\n",
    "    # Pass the minimum and maximum values for rescaling\n",
    "    f\"&rescale={rescale_values['min']},{rescale_values['max']}\", \n",
    "\n",
    "# Return the response in JSON format\n",
    ").json()\n",
    "\n",
    "# Print the properties of the retrieved granule to the console\n",
    "co2_flux_2"
   ]
  },
  {
   "cell_type": "markdown",
   "metadata": {},
   "source": [
    "## Visualizing CO₂ Emissions"
   ]
  },
  {
   "cell_type": "code",
   "execution_count": 62,
   "metadata": {},
   "outputs": [
    {
     "data": {
      "text/html": [
       "<div style=\"width:100%;\"><div style=\"position:relative;width:100%;height:0;padding-bottom:60%;\"><span style=\"color:#565656\">Make this Notebook Trusted to load map: File -> Trust Notebook</span><iframe srcdoc=\"&lt;!DOCTYPE html&gt;\n",
       "&lt;html&gt;\n",
       "&lt;head&gt;\n",
       "    \n",
       "    &lt;meta http-equiv=&quot;content-type&quot; content=&quot;text/html; charset=UTF-8&quot; /&gt;\n",
       "    \n",
       "        &lt;script&gt;\n",
       "            L_NO_TOUCH = false;\n",
       "            L_DISABLE_3D = false;\n",
       "        &lt;/script&gt;\n",
       "    \n",
       "    &lt;style&gt;html, body {width: 100%;height: 100%;margin: 0;padding: 0;}&lt;/style&gt;\n",
       "    &lt;style&gt;#map {position:absolute;top:0;bottom:0;right:0;left:0;}&lt;/style&gt;\n",
       "    &lt;script src=&quot;https://cdn.jsdelivr.net/npm/leaflet@1.9.3/dist/leaflet.js&quot;&gt;&lt;/script&gt;\n",
       "    &lt;script src=&quot;https://code.jquery.com/jquery-1.12.4.min.js&quot;&gt;&lt;/script&gt;\n",
       "    &lt;script src=&quot;https://cdn.jsdelivr.net/npm/bootstrap@5.2.2/dist/js/bootstrap.bundle.min.js&quot;&gt;&lt;/script&gt;\n",
       "    &lt;script src=&quot;https://cdnjs.cloudflare.com/ajax/libs/Leaflet.awesome-markers/2.0.2/leaflet.awesome-markers.js&quot;&gt;&lt;/script&gt;\n",
       "    &lt;link rel=&quot;stylesheet&quot; href=&quot;https://cdn.jsdelivr.net/npm/leaflet@1.9.3/dist/leaflet.css&quot;/&gt;\n",
       "    &lt;link rel=&quot;stylesheet&quot; href=&quot;https://cdn.jsdelivr.net/npm/bootstrap@5.2.2/dist/css/bootstrap.min.css&quot;/&gt;\n",
       "    &lt;link rel=&quot;stylesheet&quot; href=&quot;https://netdna.bootstrapcdn.com/bootstrap/3.0.0/css/bootstrap.min.css&quot;/&gt;\n",
       "    &lt;link rel=&quot;stylesheet&quot; href=&quot;https://cdn.jsdelivr.net/npm/@fortawesome/fontawesome-free@6.2.0/css/all.min.css&quot;/&gt;\n",
       "    &lt;link rel=&quot;stylesheet&quot; href=&quot;https://cdnjs.cloudflare.com/ajax/libs/Leaflet.awesome-markers/2.0.2/leaflet.awesome-markers.css&quot;/&gt;\n",
       "    &lt;link rel=&quot;stylesheet&quot; href=&quot;https://cdn.jsdelivr.net/gh/python-visualization/folium/folium/templates/leaflet.awesome.rotate.min.css&quot;/&gt;\n",
       "    \n",
       "            &lt;meta name=&quot;viewport&quot; content=&quot;width=device-width,\n",
       "                initial-scale=1.0, maximum-scale=1.0, user-scalable=no&quot; /&gt;\n",
       "            &lt;style&gt;\n",
       "                #map_d7e3f5e9fd108024f0bcec38abb5f35b {\n",
       "                    position: absolute;\n",
       "                    width: 50.0%;\n",
       "                    height: 100.0%;\n",
       "                    left: 0.0%;\n",
       "                    top: 0.0%;\n",
       "                }\n",
       "                .leaflet-container { font-size: 1rem; }\n",
       "            &lt;/style&gt;\n",
       "        \n",
       "    \n",
       "            &lt;meta name=&quot;viewport&quot; content=&quot;width=device-width,\n",
       "                initial-scale=1.0, maximum-scale=1.0, user-scalable=no&quot; /&gt;\n",
       "            &lt;style&gt;\n",
       "                #map_3d86e69ad25240921309a308e6877b81 {\n",
       "                    position: absolute;\n",
       "                    width: 50.0%;\n",
       "                    height: 100.0%;\n",
       "                    left: 50.0%;\n",
       "                    top: 0.0%;\n",
       "                }\n",
       "                .leaflet-container { font-size: 1rem; }\n",
       "            &lt;/style&gt;\n",
       "        \n",
       "    &lt;script src=&quot;https://cdn.jsdelivr.net/gh/jieter/Leaflet.Sync/L.Map.Sync.min.js&quot;&gt;&lt;/script&gt;\n",
       "&lt;/head&gt;\n",
       "&lt;body&gt;\n",
       "    \n",
       "    \n",
       "            &lt;div class=&quot;folium-map&quot; id=&quot;map_d7e3f5e9fd108024f0bcec38abb5f35b&quot; &gt;&lt;/div&gt;\n",
       "        \n",
       "    \n",
       "            &lt;div class=&quot;folium-map&quot; id=&quot;map_3d86e69ad25240921309a308e6877b81&quot; &gt;&lt;/div&gt;\n",
       "        \n",
       "&lt;/body&gt;\n",
       "&lt;script&gt;\n",
       "    \n",
       "    \n",
       "            var map_d7e3f5e9fd108024f0bcec38abb5f35b = L.map(\n",
       "                &quot;map_d7e3f5e9fd108024f0bcec38abb5f35b&quot;,\n",
       "                {\n",
       "                    center: [34.0, -118.0],\n",
       "                    crs: L.CRS.EPSG3857,\n",
       "                    zoom: 6,\n",
       "                    zoomControl: true,\n",
       "                    preferCanvas: false,\n",
       "                }\n",
       "            );\n",
       "\n",
       "            \n",
       "\n",
       "        \n",
       "    \n",
       "            var tile_layer_a4984a9a6525ed09a1d9455887f68adb = L.tileLayer(\n",
       "                &quot;https://{s}.tile.openstreetmap.org/{z}/{x}/{y}.png&quot;,\n",
       "                {&quot;attribution&quot;: &quot;Data by \\u0026copy; \\u003ca target=\\&quot;_blank\\&quot; href=\\&quot;http://openstreetmap.org\\&quot;\\u003eOpenStreetMap\\u003c/a\\u003e, under \\u003ca target=\\&quot;_blank\\&quot; href=\\&quot;http://www.openstreetmap.org/copyright\\&quot;\\u003eODbL\\u003c/a\\u003e.&quot;, &quot;detectRetina&quot;: false, &quot;maxNativeZoom&quot;: 18, &quot;maxZoom&quot;: 18, &quot;minZoom&quot;: 0, &quot;noWrap&quot;: false, &quot;opacity&quot;: 1, &quot;subdomains&quot;: &quot;abc&quot;, &quot;tms&quot;: false}\n",
       "            ).addTo(map_d7e3f5e9fd108024f0bcec38abb5f35b);\n",
       "        \n",
       "    \n",
       "            var tile_layer_d2daaa46ccf63c451ebbfdd4d379e851 = L.tileLayer(\n",
       "                &quot;https://earth.gov/ghgcenter/api/raster/stac/tiles/WebMercatorQuad/{z}/{x}/{y}@1x?collection=oco2-mip-co2budget-yeargrid-v1\\u0026item=oco2-mip-co2budget-yeargrid-v1-2020\\u0026assets=ff\\u0026color_formula=gamma+r+1.05\\u0026colormap_name=purd\\u0026rescale=0%2C450&quot;,\n",
       "                {&quot;attribution&quot;: &quot;GHG&quot;, &quot;detectRetina&quot;: false, &quot;maxNativeZoom&quot;: 18, &quot;maxZoom&quot;: 18, &quot;minZoom&quot;: 0, &quot;noWrap&quot;: false, &quot;opacity&quot;: 0.5, &quot;subdomains&quot;: &quot;abc&quot;, &quot;tms&quot;: false}\n",
       "            ).addTo(map_d7e3f5e9fd108024f0bcec38abb5f35b);\n",
       "        \n",
       "    \n",
       "            var map_3d86e69ad25240921309a308e6877b81 = L.map(\n",
       "                &quot;map_3d86e69ad25240921309a308e6877b81&quot;,\n",
       "                {\n",
       "                    center: [34.0, -118.0],\n",
       "                    crs: L.CRS.EPSG3857,\n",
       "                    zoom: 6,\n",
       "                    zoomControl: true,\n",
       "                    preferCanvas: false,\n",
       "                }\n",
       "            );\n",
       "\n",
       "            \n",
       "\n",
       "        \n",
       "    \n",
       "            var tile_layer_842a01102410461f3f57bc1ee7736cb6 = L.tileLayer(\n",
       "                &quot;https://{s}.tile.openstreetmap.org/{z}/{x}/{y}.png&quot;,\n",
       "                {&quot;attribution&quot;: &quot;Data by \\u0026copy; \\u003ca target=\\&quot;_blank\\&quot; href=\\&quot;http://openstreetmap.org\\&quot;\\u003eOpenStreetMap\\u003c/a\\u003e, under \\u003ca target=\\&quot;_blank\\&quot; href=\\&quot;http://www.openstreetmap.org/copyright\\&quot;\\u003eODbL\\u003c/a\\u003e.&quot;, &quot;detectRetina&quot;: false, &quot;maxNativeZoom&quot;: 18, &quot;maxZoom&quot;: 18, &quot;minZoom&quot;: 0, &quot;noWrap&quot;: false, &quot;opacity&quot;: 1, &quot;subdomains&quot;: &quot;abc&quot;, &quot;tms&quot;: false}\n",
       "            ).addTo(map_3d86e69ad25240921309a308e6877b81);\n",
       "        \n",
       "    \n",
       "            var tile_layer_d65511ce14812af100fae0ea5a533e3a = L.tileLayer(\n",
       "                &quot;https://earth.gov/ghgcenter/api/raster/stac/tiles/WebMercatorQuad/{z}/{x}/{y}@1x?collection=oco2-mip-co2budget-yeargrid-v1\\u0026item=oco2-mip-co2budget-yeargrid-v1-2019\\u0026assets=ff\\u0026color_formula=gamma+r+1.05\\u0026colormap_name=purd\\u0026rescale=0%2C450&quot;,\n",
       "                {&quot;attribution&quot;: &quot;GHG&quot;, &quot;detectRetina&quot;: false, &quot;maxNativeZoom&quot;: 18, &quot;maxZoom&quot;: 18, &quot;minZoom&quot;: 0, &quot;noWrap&quot;: false, &quot;opacity&quot;: 0.5, &quot;subdomains&quot;: &quot;abc&quot;, &quot;tms&quot;: false}\n",
       "            ).addTo(map_3d86e69ad25240921309a308e6877b81);\n",
       "        \n",
       "    \n",
       "            map_d7e3f5e9fd108024f0bcec38abb5f35b.sync(map_3d86e69ad25240921309a308e6877b81);\n",
       "            map_3d86e69ad25240921309a308e6877b81.sync(map_d7e3f5e9fd108024f0bcec38abb5f35b);\n",
       "        \n",
       "&lt;/script&gt;\n",
       "&lt;/html&gt;\" style=\"position:absolute;width:100%;height:100%;left:0;top:0;border:none !important;\" allowfullscreen webkitallowfullscreen mozallowfullscreen></iframe></div></div>"
      ],
      "text/plain": [
       "<folium.plugins.dual_map.DualMap at 0x7f38bc3464a0>"
      ]
     },
     "execution_count": 62,
     "metadata": {},
     "output_type": "execute_result"
    }
   ],
   "source": [
    "# For this study we are going to compare the CO2 budget in 2020 and 2019 along the coast of California\n",
    "# To change the location, you can simply insert the latitude and longitude of the area of your interest in the \"location=(LAT, LONG)\" statement\n",
    "\n",
    "# Set the initial zoom level and center of map for both tiles\n",
    "# 'folium.plugins' allows mapping side-by-side\n",
    "map_ = folium.plugins.DualMap(location=(34, -118), zoom_start=6)\n",
    "\n",
    "# Define the first map layer (2020)\n",
    "map_layer_2020 = TileLayer(\n",
    "    tiles=co2_flux_1[\"tiles\"][0], # Path to retrieve the tile\n",
    "    attr=\"GHG\", # Set the attribution\n",
    "    opacity=0.5, # Adjust the transparency of the layer\n",
    ")\n",
    "\n",
    "# Add the first layer to the Dual Map\n",
    "map_layer_2020.add_to(map_.m1)\n",
    "\n",
    "# Define the second map layer (2019)\n",
    "map_layer_2019 = TileLayer(\n",
    "    tiles=co2_flux_2[\"tiles\"][0], # Path to retrieve the tile\n",
    "    attr=\"GHG\", # Set the attribution\n",
    "    opacity=0.5, # Adjust the transparency of the layer\n",
    ")\n",
    "\n",
    "# Add the second layer to the Dual Map\n",
    "map_layer_2019.add_to(map_.m2)\n",
    "\n",
    "# Visualize the Dual Map\n",
    "map_"
   ]
  },
  {
   "cell_type": "markdown",
   "metadata": {},
   "source": [
    "# Calculating Zonal Statistics"
   ]
  },
  {
   "cell_type": "markdown",
   "metadata": {},
   "source": [
    "To perform zonal statistics, first we need to create a polygon. In this use case we are creating a polygon in Texas (USA)."
   ]
  },
  {
   "cell_type": "code",
   "execution_count": 63,
   "metadata": {},
   "outputs": [],
   "source": [
    "# Create a polygon for the area of interest (aoi)\n",
    "texas_aoi = {\n",
    "    \"type\": \"Feature\", # Create a feature object\n",
    "    \"properties\": {},\n",
    "    \"geometry\": { # Set the bounding coordinates for the polygon\n",
    "        \"coordinates\": [\n",
    "            [\n",
    "                [-95, 29], # South-east bounding coordinate\n",
    "                [-95, 33], # North-east bounding coordinate\n",
    "                [-104,33], # North-west bounding coordinate\n",
    "                [-104,29], # South-west bounding coordinate\n",
    "                [-95, 29]  # South-east bounding coordinate (closing the polygon)\n",
    "            ]\n",
    "        ],\n",
    "        \"type\": \"Polygon\",\n",
    "    },\n",
    "}"
   ]
  },
  {
   "cell_type": "code",
   "execution_count": 64,
   "metadata": {},
   "outputs": [
    {
     "data": {
      "text/html": [
       "<div style=\"width:100%;\"><div style=\"position:relative;width:100%;height:0;padding-bottom:60%;\"><span style=\"color:#565656\">Make this Notebook Trusted to load map: File -> Trust Notebook</span><iframe srcdoc=\"&lt;!DOCTYPE html&gt;\n",
       "&lt;html&gt;\n",
       "&lt;head&gt;\n",
       "    \n",
       "    &lt;meta http-equiv=&quot;content-type&quot; content=&quot;text/html; charset=UTF-8&quot; /&gt;\n",
       "    \n",
       "        &lt;script&gt;\n",
       "            L_NO_TOUCH = false;\n",
       "            L_DISABLE_3D = false;\n",
       "        &lt;/script&gt;\n",
       "    \n",
       "    &lt;style&gt;html, body {width: 100%;height: 100%;margin: 0;padding: 0;}&lt;/style&gt;\n",
       "    &lt;style&gt;#map {position:absolute;top:0;bottom:0;right:0;left:0;}&lt;/style&gt;\n",
       "    &lt;script src=&quot;https://cdn.jsdelivr.net/npm/leaflet@1.9.3/dist/leaflet.js&quot;&gt;&lt;/script&gt;\n",
       "    &lt;script src=&quot;https://code.jquery.com/jquery-1.12.4.min.js&quot;&gt;&lt;/script&gt;\n",
       "    &lt;script src=&quot;https://cdn.jsdelivr.net/npm/bootstrap@5.2.2/dist/js/bootstrap.bundle.min.js&quot;&gt;&lt;/script&gt;\n",
       "    &lt;script src=&quot;https://cdnjs.cloudflare.com/ajax/libs/Leaflet.awesome-markers/2.0.2/leaflet.awesome-markers.js&quot;&gt;&lt;/script&gt;\n",
       "    &lt;link rel=&quot;stylesheet&quot; href=&quot;https://cdn.jsdelivr.net/npm/leaflet@1.9.3/dist/leaflet.css&quot;/&gt;\n",
       "    &lt;link rel=&quot;stylesheet&quot; href=&quot;https://cdn.jsdelivr.net/npm/bootstrap@5.2.2/dist/css/bootstrap.min.css&quot;/&gt;\n",
       "    &lt;link rel=&quot;stylesheet&quot; href=&quot;https://netdna.bootstrapcdn.com/bootstrap/3.0.0/css/bootstrap.min.css&quot;/&gt;\n",
       "    &lt;link rel=&quot;stylesheet&quot; href=&quot;https://cdn.jsdelivr.net/npm/@fortawesome/fontawesome-free@6.2.0/css/all.min.css&quot;/&gt;\n",
       "    &lt;link rel=&quot;stylesheet&quot; href=&quot;https://cdnjs.cloudflare.com/ajax/libs/Leaflet.awesome-markers/2.0.2/leaflet.awesome-markers.css&quot;/&gt;\n",
       "    &lt;link rel=&quot;stylesheet&quot; href=&quot;https://cdn.jsdelivr.net/gh/python-visualization/folium/folium/templates/leaflet.awesome.rotate.min.css&quot;/&gt;\n",
       "    \n",
       "            &lt;meta name=&quot;viewport&quot; content=&quot;width=device-width,\n",
       "                initial-scale=1.0, maximum-scale=1.0, user-scalable=no&quot; /&gt;\n",
       "            &lt;style&gt;\n",
       "                #map_a284deb713b96cb2c4de1d69c599ccff {\n",
       "                    position: relative;\n",
       "                    width: 100.0%;\n",
       "                    height: 100.0%;\n",
       "                    left: 0.0%;\n",
       "                    top: 0.0%;\n",
       "                }\n",
       "                .leaflet-container { font-size: 1rem; }\n",
       "            &lt;/style&gt;\n",
       "        \n",
       "&lt;/head&gt;\n",
       "&lt;body&gt;\n",
       "    \n",
       "    \n",
       "            &lt;div class=&quot;folium-map&quot; id=&quot;map_a284deb713b96cb2c4de1d69c599ccff&quot; &gt;&lt;/div&gt;\n",
       "        \n",
       "&lt;/body&gt;\n",
       "&lt;script&gt;\n",
       "    \n",
       "    \n",
       "            var map_a284deb713b96cb2c4de1d69c599ccff = L.map(\n",
       "                &quot;map_a284deb713b96cb2c4de1d69c599ccff&quot;,\n",
       "                {\n",
       "                    center: [30.0, -100.0],\n",
       "                    crs: L.CRS.EPSG3857,\n",
       "                    zoom: 6,\n",
       "                    zoomControl: true,\n",
       "                    preferCanvas: false,\n",
       "                }\n",
       "            );\n",
       "\n",
       "            \n",
       "\n",
       "        \n",
       "    \n",
       "            var tile_layer_4b2b1570f3e6bb0beb1833fd4820ffaa = L.tileLayer(\n",
       "                &quot;https://{s}.tile.openstreetmap.org/{z}/{x}/{y}.png&quot;,\n",
       "                {&quot;attribution&quot;: &quot;Data by \\u0026copy; \\u003ca target=\\&quot;_blank\\&quot; href=\\&quot;http://openstreetmap.org\\&quot;\\u003eOpenStreetMap\\u003c/a\\u003e, under \\u003ca target=\\&quot;_blank\\&quot; href=\\&quot;http://www.openstreetmap.org/copyright\\&quot;\\u003eODbL\\u003c/a\\u003e.&quot;, &quot;detectRetina&quot;: false, &quot;maxNativeZoom&quot;: 18, &quot;maxZoom&quot;: 18, &quot;minZoom&quot;: 0, &quot;noWrap&quot;: false, &quot;opacity&quot;: 1, &quot;subdomains&quot;: &quot;abc&quot;, &quot;tms&quot;: false}\n",
       "            ).addTo(map_a284deb713b96cb2c4de1d69c599ccff);\n",
       "        \n",
       "    \n",
       "\n",
       "        function geo_json_e7f71fb07c889f6bde6e9592a63bf2b1_onEachFeature(feature, layer) {\n",
       "            layer.on({\n",
       "            });\n",
       "        };\n",
       "        var geo_json_e7f71fb07c889f6bde6e9592a63bf2b1 = L.geoJson(null, {\n",
       "                onEachFeature: geo_json_e7f71fb07c889f6bde6e9592a63bf2b1_onEachFeature,\n",
       "            \n",
       "        });\n",
       "\n",
       "        function geo_json_e7f71fb07c889f6bde6e9592a63bf2b1_add (data) {\n",
       "            geo_json_e7f71fb07c889f6bde6e9592a63bf2b1\n",
       "                .addData(data)\n",
       "                .addTo(map_a284deb713b96cb2c4de1d69c599ccff);\n",
       "        }\n",
       "            geo_json_e7f71fb07c889f6bde6e9592a63bf2b1_add({&quot;geometry&quot;: {&quot;coordinates&quot;: [[[-95, 29], [-95, 33], [-104, 33], [-104, 29], [-95, 29]]], &quot;type&quot;: &quot;Polygon&quot;}, &quot;properties&quot;: {}, &quot;type&quot;: &quot;Feature&quot;});\n",
       "\n",
       "        \n",
       "&lt;/script&gt;\n",
       "&lt;/html&gt;\" style=\"position:absolute;width:100%;height:100%;left:0;top:0;border:none !important;\" allowfullscreen webkitallowfullscreen mozallowfullscreen></iframe></div></div>"
      ],
      "text/plain": [
       "<folium.folium.Map at 0x7f38bc15e530>"
      ]
     },
     "execution_count": 64,
     "metadata": {},
     "output_type": "execute_result"
    }
   ],
   "source": [
    "# Create a new map to display the generated polygon\n",
    "# We'll plug in the coordinates for a location\n",
    "# central to the study area and a reasonable zoom level\n",
    "aoi_map = Map(\n",
    "\n",
    "    # Base map is set to OpenStreetMap\n",
    "    tiles=\"OpenStreetMap\",\n",
    "\n",
    "    # Define the spatial properties for the map\n",
    "    location=[\n",
    "        30,-100\n",
    "    ],\n",
    "\n",
    "    # Set the zoom value\n",
    "    zoom_start=6,\n",
    ")\n",
    "\n",
    "# Insert the polygon to the map\n",
    "folium.GeoJson(texas_aoi, name=\"Texas, USA\").add_to(aoi_map)\n",
    "\n",
    "# Visualize the map\n",
    "aoi_map"
   ]
  },
  {
   "cell_type": "code",
   "execution_count": 65,
   "metadata": {},
   "outputs": [
    {
     "name": "stdout",
     "output_type": "stream",
     "text": [
      "Found 6 items\n"
     ]
    }
   ],
   "source": [
    "# Check total number of items available within the collection\n",
    "items = requests.get(\n",
    "    f\"{STAC_API_URL}/collections/{collection_name}/items?limit=600\"\n",
    ").json()[\"features\"]\n",
    "\n",
    "# Print the total number of items (granules) found\n",
    "print(f\"Found {len(items)} items\")"
   ]
  },
  {
   "cell_type": "code",
   "execution_count": 66,
   "metadata": {},
   "outputs": [],
   "source": [
    "# Examine the first item in the collection\n",
    "items[0]"
   ]
  },
  {
   "cell_type": "markdown",
   "metadata": {},
   "source": [
    "Now that we created the polygon for the area of interest, we need to develop a function that runs through the data collection and generates the statistics for a specific item (granule) within the boundaries of the AOI polygon."
   ]
  },
  {
   "cell_type": "code",
   "execution_count": 67,
   "metadata": {},
   "outputs": [],
   "source": [
    "# The bounding box should be passed to the geojson param as a geojson Feature or FeatureCollection\n",
    "# Create a function that retrieves information regarding a specific granule using its asset name and raster identifier and generates the statistics for it\n",
    "\n",
    "# The function takes an item (granule) and a JSON (polygon) as input parameters\n",
    "def generate_stats(item, geojson):\n",
    "\n",
    "    # A POST request is made to submit the data associated with the item of interest (specific observation) within the boundaries of the polygon to compute its statistics\n",
    "    result = requests.post(\n",
    "\n",
    "        # Raster API Endpoint for computing statistics\n",
    "        f\"{RASTER_API_URL}/cog/statistics\",\n",
    "\n",
    "        # Pass the URL to the item, asset name, and raster identifier as parameters\n",
    "        params={\"url\": item[\"assets\"][asset_name][\"href\"]},\n",
    "\n",
    "        # Send the GeoJSON object (polygon) along with the request\n",
    "        json=geojson,\n",
    "\n",
    "    # Return the response in JSON format\n",
    "    ).json()\n",
    "\n",
    "    # Print the result\n",
    "    print(result)\n",
    "\n",
    "    # Return a dictionary containing the computed statistics along with the item's datetime information.\n",
    "    return {\n",
    "        **result[\"properties\"],\n",
    "        \"datetime\": item[\"properties\"][\"start_datetime\"],\n",
    "    }"
   ]
  },
  {
   "cell_type": "code",
   "execution_count": 68,
   "metadata": {},
   "outputs": [
    {
     "name": "stdout",
     "output_type": "stream",
     "text": [
      "2020-01-01T00:00:00+00:00\n"
     ]
    }
   ],
   "source": [
    "# Generate a for loop that iterates over all the existing items in the collection\n",
    "for item in items:\n",
    "\n",
    "    # The loop will then retrieve the information for the start datetime of each item in the list\n",
    "    print(item[\"properties\"][\"start_datetime\"])\n",
    "\n",
    "    # Exit the loop after printing the start datetime for the first item in the collection\n",
    "    break"
   ]
  },
  {
   "cell_type": "markdown",
   "metadata": {},
   "source": [
    "With the function above we can generate the statistics for the AOI."
   ]
  },
  {
   "cell_type": "code",
   "execution_count": 69,
   "metadata": {},
   "outputs": [
    {
     "name": "stdout",
     "output_type": "stream",
     "text": [
      "{'type': 'Feature', 'geometry': {'type': 'Polygon', 'coordinates': [[[-95.0, 29.0], [-95.0, 33.0], [-104.0, 33.0], [-104.0, 29.0], [-95.0, 29.0]]]}, 'properties': {'statistics': {'b1': {'min': 0.03978176414966583, 'max': 7348.5, 'mean': 710.6574534496499, 'count': 36.0, 'sum': 25583.668324187398, 'std': 1398.048920955156, 'median': 92.79795837402344, 'majority': 0.03978176414966583, 'minority': 0.03978176414966583, 'unique': 36.0, 'histogram': [[28.0, 2.0, 1.0, 4.0, 0.0, 0.0, 0.0, 0.0, 0.0, 1.0], [0.03978176414966583, 734.8858035877347, 1469.7318254113197, 2204.5778472349048, 2939.42386905849, 3674.269890882075, 4409.11591270566, 5143.961934529245, 5878.80795635283, 6613.653978176415, 7348.5]], 'valid_percent': 100.0, 'masked_pixels': 0.0, 'valid_pixels': 36.0, 'percentile_2': 0.7717349633574486, 'percentile_98': 4147.699072265612}}}}\n",
      "{'type': 'Feature', 'geometry': {'type': 'Polygon', 'coordinates': [[[-95.0, 29.0], [-95.0, 33.0], [-104.0, 33.0], [-104.0, 29.0], [-95.0, 29.0]]]}, 'properties': {'statistics': {'b1': {'min': 0.09139306098222733, 'max': 8174.17724609375, 'mean': 795.2997507835842, 'count': 36.0, 'sum': 28630.79102820903, 'std': 1557.5783137149344, 'median': 108.24344635009766, 'majority': 0.09139306098222733, 'minority': 0.09139306098222733, 'unique': 36.0, 'histogram': [[28.0, 2.0, 1.0, 4.0, 0.0, 0.0, 0.0, 0.0, 0.0, 1.0], [0.09139306098222733, 817.499978364259, 1634.9085636675359, 2452.317148970813, 3269.7257342740895, 4087.134319577366, 4904.542904880644, 5721.95149018392, 6539.360075487197, 7356.768660790473, 8174.17724609375]], 'valid_percent': 100.0, 'masked_pixels': 0.0, 'valid_pixels': 36.0, 'percentile_2': 0.9499634824693204, 'percentile_98': 4609.885083007798}}}}\n",
      "{'type': 'Feature', 'geometry': {'type': 'Polygon', 'coordinates': [[[-95.0, 29.0], [-95.0, 33.0], [-104.0, 33.0], [-104.0, 29.0], [-95.0, 29.0]]]}, 'properties': {'statistics': {'b1': {'min': 0.09151247888803482, 'max': 8392.841796875, 'mean': 816.3306965242243, 'count': 36.0, 'sum': 29387.905074872077, 'std': 1599.1110746714692, 'median': 110.89262771606445, 'majority': 0.09151247888803482, 'minority': 0.09151247888803482, 'unique': 36.0, 'histogram': [[28.0, 2.0, 1.0, 4.0, 0.0, 0.0, 0.0, 0.0, 0.0, 1.0], [0.09151247888803482, 839.3665409184993, 1678.6415693581105, 2517.916597797722, 3357.191626237333, 4196.466654676944, 5035.741683116556, 5875.016711556166, 6714.291739995778, 7553.566768435389, 8392.841796875]], 'valid_percent': 100.0, 'masked_pixels': 0.0, 'valid_pixels': 36.0, 'percentile_2': 0.9720504634082319, 'percentile_98': 4733.363476562485}}}}\n",
      "{'type': 'Feature', 'geometry': {'type': 'Polygon', 'coordinates': [[[-95.0, 29.0], [-95.0, 33.0], [-104.0, 33.0], [-104.0, 29.0], [-95.0, 29.0]]]}, 'properties': {'statistics': {'b1': {'min': 0.0910222977399826, 'max': 8138.96484375, 'mean': 791.9455965670446, 'count': 36.0, 'sum': 28510.041476413608, 'std': 1550.8237787859084, 'median': 107.77805709838867, 'majority': 0.0910222977399826, 'minority': 0.0910222977399826, 'unique': 36.0, 'histogram': [[28.0, 2.0, 1.0, 4.0, 0.0, 0.0, 0.0, 0.0, 0.0, 1.0], [0.0910222977399826, 813.9784044429659, 1627.865786588192, 2441.7531687334176, 3255.640550878644, 4069.52793302387, 4883.415315169095, 5697.302697314321, 6511.190079459548, 7325.077461604774, 8138.96484375]], 'valid_percent': 100.0, 'masked_pixels': 0.0, 'valid_pixels': 36.0, 'percentile_2': 0.9726840510964394, 'percentile_98': 4589.991333007798}}}}\n",
      "{'type': 'Feature', 'geometry': {'type': 'Polygon', 'coordinates': [[[-95.0, 29.0], [-95.0, 33.0], [-104.0, 33.0], [-104.0, 29.0], [-95.0, 29.0]]]}, 'properties': {'statistics': {'b1': {'min': 0.08842560648918152, 'max': 8243.259765625, 'mean': 801.7388236944875, 'count': 36.0, 'sum': 28862.597653001547, 'std': 1570.4892862189242, 'median': 108.75741958618164, 'majority': 0.08842560648918152, 'minority': 0.08842560648918152, 'unique': 36.0, 'histogram': [[28.0, 2.0, 1.0, 4.0, 0.0, 0.0, 0.0, 0.0, 0.0, 1.0], [0.08842560648918152, 824.4055596083402, 1648.7226936101913, 2473.0398276120422, 3297.3569616138934, 4121.674095615745, 4945.991229617595, 5770.308363619447, 6594.625497621298, 7418.942631623148, 8243.259765625]], 'valid_percent': 100.0, 'masked_pixels': 0.0, 'valid_pixels': 36.0, 'percentile_2': 0.987190940976143, 'percentile_98': 4649.222045898423}}}}\n",
      "{'type': 'Feature', 'geometry': {'type': 'Polygon', 'coordinates': [[[-95.0, 29.0], [-95.0, 33.0], [-104.0, 33.0], [-104.0, 29.0], [-95.0, 29.0]]]}, 'properties': {'statistics': {'b1': {'min': 0.08379923552274704, 'max': 8397.8779296875, 'mean': 816.0609874193453, 'count': 36.0, 'sum': 29378.19554709643, 'std': 1599.6065142777418, 'median': 110.1262092590332, 'majority': 0.08379923552274704, 'minority': 0.08379923552274704, 'unique': 36.0, 'histogram': [[28.0, 2.0, 1.0, 4.0, 0.0, 0.0, 0.0, 0.0, 0.0, 1.0], [0.08379923552274704, 839.8632122807205, 1679.6426253259183, 2519.4220383711163, 3359.201451416314, 4198.980864461511, 5038.76027750671, 5878.539690551907, 6718.319103597105, 7558.0985166423025, 8397.8779296875]], 'valid_percent': 100.0, 'masked_pixels': 0.0, 'valid_pixels': 36.0, 'percentile_2': 0.9802812077105046, 'percentile_98': 4736.898437499985}}}}\n",
      "CPU times: user 115 ms, sys: 2.32 ms, total: 117 ms\n",
      "Wall time: 1.35 s\n"
     ]
    }
   ],
   "source": [
    "%%time\n",
    "# %%time = Wall time (execution time) for running the code below\n",
    "\n",
    "# Generate statistics using the created function \"generate_stats\" within the bounding box defined by the polygon\n",
    "stats = [generate_stats(item, texas_aoi) for item in items]"
   ]
  },
  {
   "cell_type": "code",
   "execution_count": 70,
   "metadata": {},
   "outputs": [
    {
     "data": {
      "text/plain": [
       "{'statistics': {'b1': {'min': 0.03978176414966583,\n",
       "   'max': 7348.5,\n",
       "   'mean': 710.6574534496499,\n",
       "   'count': 36.0,\n",
       "   'sum': 25583.668324187398,\n",
       "   'std': 1398.048920955156,\n",
       "   'median': 92.79795837402344,\n",
       "   'majority': 0.03978176414966583,\n",
       "   'minority': 0.03978176414966583,\n",
       "   'unique': 36.0,\n",
       "   'histogram': [[28.0, 2.0, 1.0, 4.0, 0.0, 0.0, 0.0, 0.0, 0.0, 1.0],\n",
       "    [0.03978176414966583,\n",
       "     734.8858035877347,\n",
       "     1469.7318254113197,\n",
       "     2204.5778472349048,\n",
       "     2939.42386905849,\n",
       "     3674.269890882075,\n",
       "     4409.11591270566,\n",
       "     5143.961934529245,\n",
       "     5878.80795635283,\n",
       "     6613.653978176415,\n",
       "     7348.5]],\n",
       "   'valid_percent': 100.0,\n",
       "   'masked_pixels': 0.0,\n",
       "   'valid_pixels': 36.0,\n",
       "   'percentile_2': 0.7717349633574486,\n",
       "   'percentile_98': 4147.699072265612}},\n",
       " 'datetime': '2020-01-01T00:00:00+00:00'}"
      ]
     },
     "execution_count": 70,
     "metadata": {},
     "output_type": "execute_result"
    }
   ],
   "source": [
    "# Print the stats for the first item in the collection\n",
    "stats[0]"
   ]
  },
  {
   "cell_type": "markdown",
   "metadata": {},
   "source": [
    "Create a function that goes through every single item in the collection and populates their properties - including the minimum, maximum, and sum of their values - in a table."
   ]
  },
  {
   "cell_type": "code",
   "execution_count": 71,
   "metadata": {},
   "outputs": [
    {
     "data": {
      "text/html": [
       "<div>\n",
       "<style scoped>\n",
       "    .dataframe tbody tr th:only-of-type {\n",
       "        vertical-align: middle;\n",
       "    }\n",
       "\n",
       "    .dataframe tbody tr th {\n",
       "        vertical-align: top;\n",
       "    }\n",
       "\n",
       "    .dataframe thead th {\n",
       "        text-align: right;\n",
       "    }\n",
       "</style>\n",
       "<table border=\"1\" class=\"dataframe\">\n",
       "  <thead>\n",
       "    <tr style=\"text-align: right;\">\n",
       "      <th></th>\n",
       "      <th>datetime</th>\n",
       "      <th>min</th>\n",
       "      <th>max</th>\n",
       "      <th>mean</th>\n",
       "      <th>count</th>\n",
       "      <th>sum</th>\n",
       "      <th>std</th>\n",
       "      <th>median</th>\n",
       "      <th>majority</th>\n",
       "      <th>minority</th>\n",
       "      <th>unique</th>\n",
       "      <th>histogram</th>\n",
       "      <th>valid_percent</th>\n",
       "      <th>masked_pixels</th>\n",
       "      <th>valid_pixels</th>\n",
       "      <th>percentile_2</th>\n",
       "      <th>percentile_98</th>\n",
       "      <th>date</th>\n",
       "    </tr>\n",
       "  </thead>\n",
       "  <tbody>\n",
       "    <tr>\n",
       "      <th>0</th>\n",
       "      <td>2020-01-01T00:00:00+00:00</td>\n",
       "      <td>0.039782</td>\n",
       "      <td>7348.500000</td>\n",
       "      <td>710.657453</td>\n",
       "      <td>36.0</td>\n",
       "      <td>25583.668324</td>\n",
       "      <td>1398.048921</td>\n",
       "      <td>92.797958</td>\n",
       "      <td>0.039782</td>\n",
       "      <td>0.039782</td>\n",
       "      <td>36.0</td>\n",
       "      <td>[[28.0, 2.0, 1.0, 4.0, 0.0, 0.0, 0.0, 0.0, 0.0...</td>\n",
       "      <td>100.0</td>\n",
       "      <td>0.0</td>\n",
       "      <td>36.0</td>\n",
       "      <td>0.771735</td>\n",
       "      <td>4147.699072</td>\n",
       "      <td>2020-01-01 00:00:00+00:00</td>\n",
       "    </tr>\n",
       "    <tr>\n",
       "      <th>1</th>\n",
       "      <td>2019-01-01T00:00:00+00:00</td>\n",
       "      <td>0.091393</td>\n",
       "      <td>8174.177246</td>\n",
       "      <td>795.299751</td>\n",
       "      <td>36.0</td>\n",
       "      <td>28630.791028</td>\n",
       "      <td>1557.578314</td>\n",
       "      <td>108.243446</td>\n",
       "      <td>0.091393</td>\n",
       "      <td>0.091393</td>\n",
       "      <td>36.0</td>\n",
       "      <td>[[28.0, 2.0, 1.0, 4.0, 0.0, 0.0, 0.0, 0.0, 0.0...</td>\n",
       "      <td>100.0</td>\n",
       "      <td>0.0</td>\n",
       "      <td>36.0</td>\n",
       "      <td>0.949963</td>\n",
       "      <td>4609.885083</td>\n",
       "      <td>2019-01-01 00:00:00+00:00</td>\n",
       "    </tr>\n",
       "    <tr>\n",
       "      <th>2</th>\n",
       "      <td>2018-01-01T00:00:00+00:00</td>\n",
       "      <td>0.091512</td>\n",
       "      <td>8392.841797</td>\n",
       "      <td>816.330697</td>\n",
       "      <td>36.0</td>\n",
       "      <td>29387.905075</td>\n",
       "      <td>1599.111075</td>\n",
       "      <td>110.892628</td>\n",
       "      <td>0.091512</td>\n",
       "      <td>0.091512</td>\n",
       "      <td>36.0</td>\n",
       "      <td>[[28.0, 2.0, 1.0, 4.0, 0.0, 0.0, 0.0, 0.0, 0.0...</td>\n",
       "      <td>100.0</td>\n",
       "      <td>0.0</td>\n",
       "      <td>36.0</td>\n",
       "      <td>0.972050</td>\n",
       "      <td>4733.363477</td>\n",
       "      <td>2018-01-01 00:00:00+00:00</td>\n",
       "    </tr>\n",
       "    <tr>\n",
       "      <th>3</th>\n",
       "      <td>2017-01-01T00:00:00+00:00</td>\n",
       "      <td>0.091022</td>\n",
       "      <td>8138.964844</td>\n",
       "      <td>791.945597</td>\n",
       "      <td>36.0</td>\n",
       "      <td>28510.041476</td>\n",
       "      <td>1550.823779</td>\n",
       "      <td>107.778057</td>\n",
       "      <td>0.091022</td>\n",
       "      <td>0.091022</td>\n",
       "      <td>36.0</td>\n",
       "      <td>[[28.0, 2.0, 1.0, 4.0, 0.0, 0.0, 0.0, 0.0, 0.0...</td>\n",
       "      <td>100.0</td>\n",
       "      <td>0.0</td>\n",
       "      <td>36.0</td>\n",
       "      <td>0.972684</td>\n",
       "      <td>4589.991333</td>\n",
       "      <td>2017-01-01 00:00:00+00:00</td>\n",
       "    </tr>\n",
       "    <tr>\n",
       "      <th>4</th>\n",
       "      <td>2016-01-01T00:00:00+00:00</td>\n",
       "      <td>0.088426</td>\n",
       "      <td>8243.259766</td>\n",
       "      <td>801.738824</td>\n",
       "      <td>36.0</td>\n",
       "      <td>28862.597653</td>\n",
       "      <td>1570.489286</td>\n",
       "      <td>108.757420</td>\n",
       "      <td>0.088426</td>\n",
       "      <td>0.088426</td>\n",
       "      <td>36.0</td>\n",
       "      <td>[[28.0, 2.0, 1.0, 4.0, 0.0, 0.0, 0.0, 0.0, 0.0...</td>\n",
       "      <td>100.0</td>\n",
       "      <td>0.0</td>\n",
       "      <td>36.0</td>\n",
       "      <td>0.987191</td>\n",
       "      <td>4649.222046</td>\n",
       "      <td>2016-01-01 00:00:00+00:00</td>\n",
       "    </tr>\n",
       "  </tbody>\n",
       "</table>\n",
       "</div>"
      ],
      "text/plain": [
       "                    datetime       min          max        mean  count  \\\n",
       "0  2020-01-01T00:00:00+00:00  0.039782  7348.500000  710.657453   36.0   \n",
       "1  2019-01-01T00:00:00+00:00  0.091393  8174.177246  795.299751   36.0   \n",
       "2  2018-01-01T00:00:00+00:00  0.091512  8392.841797  816.330697   36.0   \n",
       "3  2017-01-01T00:00:00+00:00  0.091022  8138.964844  791.945597   36.0   \n",
       "4  2016-01-01T00:00:00+00:00  0.088426  8243.259766  801.738824   36.0   \n",
       "\n",
       "            sum          std      median  majority  minority  unique  \\\n",
       "0  25583.668324  1398.048921   92.797958  0.039782  0.039782    36.0   \n",
       "1  28630.791028  1557.578314  108.243446  0.091393  0.091393    36.0   \n",
       "2  29387.905075  1599.111075  110.892628  0.091512  0.091512    36.0   \n",
       "3  28510.041476  1550.823779  107.778057  0.091022  0.091022    36.0   \n",
       "4  28862.597653  1570.489286  108.757420  0.088426  0.088426    36.0   \n",
       "\n",
       "                                           histogram  valid_percent  \\\n",
       "0  [[28.0, 2.0, 1.0, 4.0, 0.0, 0.0, 0.0, 0.0, 0.0...          100.0   \n",
       "1  [[28.0, 2.0, 1.0, 4.0, 0.0, 0.0, 0.0, 0.0, 0.0...          100.0   \n",
       "2  [[28.0, 2.0, 1.0, 4.0, 0.0, 0.0, 0.0, 0.0, 0.0...          100.0   \n",
       "3  [[28.0, 2.0, 1.0, 4.0, 0.0, 0.0, 0.0, 0.0, 0.0...          100.0   \n",
       "4  [[28.0, 2.0, 1.0, 4.0, 0.0, 0.0, 0.0, 0.0, 0.0...          100.0   \n",
       "\n",
       "   masked_pixels  valid_pixels  percentile_2  percentile_98  \\\n",
       "0            0.0          36.0      0.771735    4147.699072   \n",
       "1            0.0          36.0      0.949963    4609.885083   \n",
       "2            0.0          36.0      0.972050    4733.363477   \n",
       "3            0.0          36.0      0.972684    4589.991333   \n",
       "4            0.0          36.0      0.987191    4649.222046   \n",
       "\n",
       "                       date  \n",
       "0 2020-01-01 00:00:00+00:00  \n",
       "1 2019-01-01 00:00:00+00:00  \n",
       "2 2018-01-01 00:00:00+00:00  \n",
       "3 2017-01-01 00:00:00+00:00  \n",
       "4 2016-01-01 00:00:00+00:00  "
      ]
     },
     "execution_count": 71,
     "metadata": {},
     "output_type": "execute_result"
    }
   ],
   "source": [
    "# Create a function that converts statistics in JSON format into a pandas DataFrame\n",
    "def clean_stats(stats_json) -> pd.DataFrame:\n",
    "\n",
    "    # Normalize the JSON data\n",
    "    df = pd.json_normalize(stats_json)\n",
    "\n",
    "    # Replace the naming \"statistics.b1\" in the columns\n",
    "    df.columns = [col.replace(\"statistics.b1.\", \"\") for col in df.columns]\n",
    "\n",
    "    # Set the datetime format\n",
    "    df[\"date\"] = pd.to_datetime(df[\"datetime\"])\n",
    "\n",
    "    # Return the cleaned format\n",
    "    return df\n",
    "\n",
    "# Apply the generated function on the stats data\n",
    "df = clean_stats(stats)\n",
    "\n",
    "# Display the stats for the first 5 granules in the collection in the table\n",
    "# Change the value in the parenthesis to show more or a smaller number of rows in the table\n",
    "df.head(5)"
   ]
  },
  {
   "cell_type": "markdown",
   "metadata": {},
   "source": [
    "## Visualizing the Data as a Time Series\n",
    "We can now explore the fossil fuel emission time series (January 2015 -December 2020) available for the Dallas, Texas area of the U.S. We can plot the data set using the code below:"
   ]
  },
  {
   "cell_type": "code",
   "execution_count": 72,
   "metadata": {},
   "outputs": [
    {
     "data": {
      "text/plain": [
       "Text(0.5, 1.0, 'CO2 emission Values for Texas, Dallas (2015-2020)')"
      ]
     },
     "execution_count": 72,
     "metadata": {},
     "output_type": "execute_result"
    },
    {
     "data": {
      "image/png": "[encoded data removed]",
      "text/plain": [
       "<Figure size 2000x1000 with 1 Axes>"
      ]
     },
     "metadata": {},
     "output_type": "display_data"
    }
   ],
   "source": [
    "# Figure size: 20 representing the width, 10 representing the height\n",
    "fig = plt.figure(figsize=(20, 10))\n",
    "\n",
    "plt.plot(\n",
    "    df[\"datetime\"], # X-axis: sorted datetime\n",
    "    df[\"max\"], # Y-axis: maximum CO₂ emission\n",
    "    color=\"red\", # Line color\n",
    "    linestyle=\"-\", # Line style\n",
    "    linewidth=0.5, # Line width\n",
    "    label=\"CO2 emissions\", # Legend label\n",
    ")\n",
    "\n",
    "# Display legend\n",
    "plt.legend()\n",
    "\n",
    "# Insert label for the X-axis\n",
    "plt.xlabel(\"Years\")\n",
    "\n",
    "# Insert label for the Y-axis\n",
    "plt.ylabel(\"CO2 emissions gC/m2/year1\")\n",
    "\n",
    "# Insert title for the plot\n",
    "plt.title(\"CO2 emission Values for Texas, Dallas (2015-2020)\")\n",
    "\n",
    "# Add data citation\n",
    "plt.text(\n",
    "    df[\"datetime\"].iloc[0],           # X-coordinate of the text \n",
    "    df[\"max\"].min(),                  # Y-coordinate of the text \n",
    "\n",
    "\n",
    "    # Text to be displayed\n",
    "    \"Source: NASA/NOAA OCO-2 MIP Top-Down CO₂ Budgets\",                  \n",
    "    fontsize=12,                             # Font size\n",
    "    horizontalalignment=\"left\",              # Horizontal alignment\n",
    "    verticalalignment=\"top\",                 # Vertical alignment\n",
    "    color=\"blue\",                            # Text color\n",
    ")\n",
    "\n",
    "# Plot the time series\n",
    "plt.show()"
   ]
  },
  {
   "cell_type": "code",
   "execution_count": 73,
   "metadata": {},
   "outputs": [
    {
     "name": "stdout",
     "output_type": "stream",
     "text": [
      "2018-01-01T00:00:00+00:00\n"
     ]
    }
   ],
   "source": [
    "# The 2018-01-01 observation is the 3rd item in the list.\n",
    "# Considering that a list starts with \"0\", we need to insert \"2\" in the \"items[2]\" statement\n",
    "print(items[2][\"properties\"][\"start_datetime\"])"
   ]
  },
  {
   "cell_type": "code",
   "execution_count": 74,
   "metadata": {},
   "outputs": [
    {
     "data": {
      "text/plain": [
       "{'tilejson': '2.2.0',\n",
       " 'version': '1.0.0',\n",
       " 'scheme': 'xyz',\n",
       " 'tiles': ['https://earth.gov/ghgcenter/api/raster/stac/tiles/WebMercatorQuad/{z}/{x}/{y}@1x?collection=oco2-mip-co2budget-yeargrid-v1&item=oco2-mip-co2budget-yeargrid-v1-2018&assets=ff&color_formula=gamma+r+1.05&colormap_name=purd&rescale=0%2C450'],\n",
       " 'minzoom': 0,\n",
       " 'maxzoom': 24,\n",
       " 'bounds': [-180.0, -90.0, 180.0, 90.0],\n",
       " 'center': [0.0, 0.0, 0]}"
      ]
     },
     "execution_count": 74,
     "metadata": {},
     "output_type": "execute_result"
    }
   ],
   "source": [
    "# A GET request is made for the 2018-01-01 tile\n",
    "co2_flux_3 = requests.get(\n",
    "\n",
    "    # Pass the collection name, the item number in the list, and its ID\n",
    "    f\"{RASTER_API_URL}/stac/tilejson.json?collection={items[2]['collection']}&item={items[2]['id']}\"\n",
    "\n",
    "    # Pass the asset name\n",
    "    f\"&assets={asset_name}\"\n",
    "\n",
    "    # Pass the color formula and colormap for custom visualization\n",
    "    f\"&color_formula=gamma+r+1.05&colormap_name={color_map}\"\n",
    "\n",
    "    # Pass the minimum and maximum values for rescaling\n",
    "    f\"&rescale={rescale_values['min']},{rescale_values['max']}\",\n",
    "\n",
    "# Return the response in JSON format\n",
    ").json()\n",
    "\n",
    "# Print the properties of the retrieved granule to the console\n",
    "co2_flux_3"
   ]
  },
  {
   "cell_type": "code",
   "execution_count": 75,
   "metadata": {},
   "outputs": [
    {
     "data": {
      "text/html": [
       "<div style=\"width:100%;\"><div style=\"position:relative;width:100%;height:0;padding-bottom:60%;\"><span style=\"color:#565656\">Make this Notebook Trusted to load map: File -> Trust Notebook</span><iframe srcdoc=\"&lt;!DOCTYPE html&gt;\n",
       "&lt;html&gt;\n",
       "&lt;head&gt;\n",
       "    \n",
       "    &lt;meta http-equiv=&quot;content-type&quot; content=&quot;text/html; charset=UTF-8&quot; /&gt;\n",
       "    \n",
       "        &lt;script&gt;\n",
       "            L_NO_TOUCH = false;\n",
       "            L_DISABLE_3D = false;\n",
       "        &lt;/script&gt;\n",
       "    \n",
       "    &lt;style&gt;html, body {width: 100%;height: 100%;margin: 0;padding: 0;}&lt;/style&gt;\n",
       "    &lt;style&gt;#map {position:absolute;top:0;bottom:0;right:0;left:0;}&lt;/style&gt;\n",
       "    &lt;script src=&quot;https://cdn.jsdelivr.net/npm/leaflet@1.9.3/dist/leaflet.js&quot;&gt;&lt;/script&gt;\n",
       "    &lt;script src=&quot;https://code.jquery.com/jquery-1.12.4.min.js&quot;&gt;&lt;/script&gt;\n",
       "    &lt;script src=&quot;https://cdn.jsdelivr.net/npm/bootstrap@5.2.2/dist/js/bootstrap.bundle.min.js&quot;&gt;&lt;/script&gt;\n",
       "    &lt;script src=&quot;https://cdnjs.cloudflare.com/ajax/libs/Leaflet.awesome-markers/2.0.2/leaflet.awesome-markers.js&quot;&gt;&lt;/script&gt;\n",
       "    &lt;link rel=&quot;stylesheet&quot; href=&quot;https://cdn.jsdelivr.net/npm/leaflet@1.9.3/dist/leaflet.css&quot;/&gt;\n",
       "    &lt;link rel=&quot;stylesheet&quot; href=&quot;https://cdn.jsdelivr.net/npm/bootstrap@5.2.2/dist/css/bootstrap.min.css&quot;/&gt;\n",
       "    &lt;link rel=&quot;stylesheet&quot; href=&quot;https://netdna.bootstrapcdn.com/bootstrap/3.0.0/css/bootstrap.min.css&quot;/&gt;\n",
       "    &lt;link rel=&quot;stylesheet&quot; href=&quot;https://cdn.jsdelivr.net/npm/@fortawesome/fontawesome-free@6.2.0/css/all.min.css&quot;/&gt;\n",
       "    &lt;link rel=&quot;stylesheet&quot; href=&quot;https://cdnjs.cloudflare.com/ajax/libs/Leaflet.awesome-markers/2.0.2/leaflet.awesome-markers.css&quot;/&gt;\n",
       "    &lt;link rel=&quot;stylesheet&quot; href=&quot;https://cdn.jsdelivr.net/gh/python-visualization/folium/folium/templates/leaflet.awesome.rotate.min.css&quot;/&gt;\n",
       "    \n",
       "            &lt;meta name=&quot;viewport&quot; content=&quot;width=device-width,\n",
       "                initial-scale=1.0, maximum-scale=1.0, user-scalable=no&quot; /&gt;\n",
       "            &lt;style&gt;\n",
       "                #map_7c345a1e0bf4f316f63bcaa8cb58f073 {\n",
       "                    position: relative;\n",
       "                    width: 100.0%;\n",
       "                    height: 100.0%;\n",
       "                    left: 0.0%;\n",
       "                    top: 0.0%;\n",
       "                }\n",
       "                .leaflet-container { font-size: 1rem; }\n",
       "            &lt;/style&gt;\n",
       "        \n",
       "&lt;/head&gt;\n",
       "&lt;body&gt;\n",
       "    \n",
       "    \n",
       "            &lt;div class=&quot;folium-map&quot; id=&quot;map_7c345a1e0bf4f316f63bcaa8cb58f073&quot; &gt;&lt;/div&gt;\n",
       "        \n",
       "&lt;/body&gt;\n",
       "&lt;script&gt;\n",
       "    \n",
       "    \n",
       "            var map_7c345a1e0bf4f316f63bcaa8cb58f073 = L.map(\n",
       "                &quot;map_7c345a1e0bf4f316f63bcaa8cb58f073&quot;,\n",
       "                {\n",
       "                    center: [30.0, -100.0],\n",
       "                    crs: L.CRS.EPSG3857,\n",
       "                    zoom: 6.8,\n",
       "                    zoomControl: true,\n",
       "                    preferCanvas: false,\n",
       "                }\n",
       "            );\n",
       "\n",
       "            \n",
       "\n",
       "        \n",
       "    \n",
       "            var tile_layer_3082fa31cb2d0627fcaf0b9ca0382192 = L.tileLayer(\n",
       "                &quot;https://{s}.tile.openstreetmap.org/{z}/{x}/{y}.png&quot;,\n",
       "                {&quot;attribution&quot;: &quot;Data by \\u0026copy; \\u003ca target=\\&quot;_blank\\&quot; href=\\&quot;http://openstreetmap.org\\&quot;\\u003eOpenStreetMap\\u003c/a\\u003e, under \\u003ca target=\\&quot;_blank\\&quot; href=\\&quot;http://www.openstreetmap.org/copyright\\&quot;\\u003eODbL\\u003c/a\\u003e.&quot;, &quot;detectRetina&quot;: false, &quot;maxNativeZoom&quot;: 18, &quot;maxZoom&quot;: 18, &quot;minZoom&quot;: 0, &quot;noWrap&quot;: false, &quot;opacity&quot;: 1, &quot;subdomains&quot;: &quot;abc&quot;, &quot;tms&quot;: false}\n",
       "            ).addTo(map_7c345a1e0bf4f316f63bcaa8cb58f073);\n",
       "        \n",
       "    \n",
       "            var tile_layer_d7aaa1abfa4a0b480980cc97ffac5ba3 = L.tileLayer(\n",
       "                &quot;https://earth.gov/ghgcenter/api/raster/stac/tiles/WebMercatorQuad/{z}/{x}/{y}@1x?collection=oco2-mip-co2budget-yeargrid-v1\\u0026item=oco2-mip-co2budget-yeargrid-v1-2018\\u0026assets=ff\\u0026color_formula=gamma+r+1.05\\u0026colormap_name=purd\\u0026rescale=0%2C450&quot;,\n",
       "                {&quot;attribution&quot;: &quot;GHG&quot;, &quot;detectRetina&quot;: false, &quot;maxNativeZoom&quot;: 18, &quot;maxZoom&quot;: 18, &quot;minZoom&quot;: 0, &quot;noWrap&quot;: false, &quot;opacity&quot;: 0.7, &quot;subdomains&quot;: &quot;abc&quot;, &quot;tms&quot;: false}\n",
       "            ).addTo(map_7c345a1e0bf4f316f63bcaa8cb58f073);\n",
       "        \n",
       "&lt;/script&gt;\n",
       "&lt;/html&gt;\" style=\"position:absolute;width:100%;height:100%;left:0;top:0;border:none !important;\" allowfullscreen webkitallowfullscreen mozallowfullscreen></iframe></div></div>"
      ],
      "text/plain": [
       "<folium.folium.Map at 0x7f38b46a2f50>"
      ]
     },
     "execution_count": 75,
     "metadata": {},
     "output_type": "execute_result"
    }
   ],
   "source": [
    "# Create a new map to display the 2018-01-01 tile\n",
    "aoi_map_bbox = Map(\n",
    "\n",
    "    # Base map is set to OpenStreetMap\n",
    "    tiles=\"OpenStreetMap\",\n",
    "\n",
    "    # Set the center of the map\n",
    "    location=[\n",
    "        30,-100\n",
    "    ],\n",
    "\n",
    "    # Set the zoom value\n",
    "    zoom_start=6.8,\n",
    ")\n",
    "\n",
    "# Define the map layer\n",
    "map_layer = TileLayer(\n",
    "\n",
    "    # Path to retrieve the tile\n",
    "    tiles=co2_flux_3[\"tiles\"][0],\n",
    "\n",
    "    # Set the attribution and adjust the transparency of the layer\n",
    "    attr=\"GHG\", opacity = 0.7\n",
    ")\n",
    "\n",
    "# Add the layer to the map\n",
    "map_layer.add_to(aoi_map_bbox)\n",
    "\n",
    "# Visualize the map\n",
    "aoi_map_bbox"
   ]
  },
  {
   "cell_type": "markdown",
   "metadata": {},
   "source": [
    "## Summary\n",
    "\n",
    "In this notebook we have successfully explored, analyzed, and visualized the STAC collection for OCO-2 MIP Top-Down CO₂ Budgets.\n",
    "\n",
    "1.  Install and import the necessary libraries\n",
    "2.  Fetch the collection from STAC collections using the appropriate endpoints\n",
    "3.  Count the number of existing granules within the collection\n",
    "4.  Visualizing CO₂ Emissions for two distinctive months/years\n",
    "5.  Generate zonal statistics for a specified region\n",
    "6.  Generate a time-series graph\n",
    "\n",
    "\n",
    "If you have any questions regarding this user notebook, please contact us using the [feedback form](https://docs.google.com/forms/d/e/1FAIpQLSeVWCrnca08Gt_qoWYjTo6gnj1BEGL4NCUC9VEiQnXA02gzVQ/viewform)."
   ]
  }
 ],
 "metadata": {
  "kernelspec": {
   "display_name": "Python 3 (ipykernel)",
   "language": "python",
   "name": "python3"
  },
  "language_info": {
   "codemirror_mode": {
    "name": "ipython",
    "version": 3
   },
   "file_extension": ".py",
   "mimetype": "text/x-python",
   "name": "python",
   "nbconvert_exporter": "python",
   "pygments_lexer": "ipython3",
   "version": "3.10.12"
  },
  "vscode": {
   "interpreter": {
    "hash": "31f2aee4e71d21fbe5cf8b01ff0e069b9275f58929596ceb00d14d90e3e16cd6"
   }
  }
 },
 "nbformat": 4,
 "nbformat_minor": 4
}
