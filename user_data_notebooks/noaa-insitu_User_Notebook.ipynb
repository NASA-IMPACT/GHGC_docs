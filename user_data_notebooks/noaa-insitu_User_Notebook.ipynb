{
 "cells": [
  {
   "cell_type": "raw",
   "metadata": {},
   "source": [
    "---\n",
    "title: Atmospheric Carbon Dioxide Concentrations from NOAA Global Monitoring Laboratory\n",
    "description: Atmospheric concentrations of carbon dioxide (CO₂) from discrete air samples collected since 1968 at globally distributed surface sites.\n",
    "author: Siddharth Chaudhary, Vishal Gaur\n",
    "date: 22 September 2023\n",
    "execute:\n",
    "   freeze: true\n",
    "---"
   ]
  },
  {
   "attachments": {},
   "cell_type": "markdown",
   "metadata": {},
   "source": [
    "## Run this notebook\n",
    "\n",
    "You can launch this notebook in the US GHG Center JupyterHub by clicking the link below.\n",
    "\n",
    "[Launch in the US GHG Center JupyterHub (requires access)](https://hub.ghg.center/hub/user-redirect/git-pull?repo=https%3A%2F%2Fgithub.com%2FUS-GHG-Center%2Fghgc-docs&urlpath=lab%2Ftree%2Fghgc-docs%2Fuser_data_notebooks%2Fnoaa-insitu_User_Notebook.ipynb&branch=main)\n",
    "   "
   ]
  },
  {
   "attachments": {},
   "cell_type": "markdown",
   "metadata": {},
   "source": [
    "## Approach\n",
    "\n",
    "1. Identify available dates and temporal frequency of observations for the given data. The collection processed in this notebook is the Atmospheric Carbon Dioxide Concentrations from NOAA Global Monitoring Laboratory.\n",
    "2. Visualize the time series data\n",
    "\n",
    "   "
   ]
  },
  {
   "attachments": {},
   "cell_type": "markdown",
   "metadata": {},
   "source": [
    "## About the Data\n",
    "\n",
    "The Global Greenhouse Gas Reference Network (GGGRN) for the Carbon Cycle and Greenhouse Gases (CCGG) Group is part of NOAA'S Global Monitoring Laboratory (GML) in Boulder, CO. The Reference Network measures the atmospheric distribution and trends of the three main long-term drivers of climate change, carbon dioxide (CO₂), methane (CH₄), and nitrous oxide (N2O), as well as carbon monoxide (CO) and many other trace gases which help interpretation of the main GHGs. The Reference Network measurement program includes continuous in-situ measurements at 4 baseline observatories (global background sites) and 8 tall towers, as well as flask-air samples collected by volunteers at over 50 additional regional background sites and from small aircraft conducting regular vertical profiles. The air samples are returned to GML for analysis where measurements of about 55 trace gases are done. NOAA's GGGRN maintains the World Meteorological Organization international calibration scales for CO₂, CH₄, CO, N2O, and SF6 in air. The measurements from the GGGRN serve as a comparison with measurements made by many other international laboratories, and with regional studies. They are widely used in modeling studies that infer space-time patterns of emissions and removals of greenhouse gases that are optimally consistent with the atmospheric observations, given wind patterns. These data serve as an early warning for climate \"surprises\". The measurements are also helpful for the ongoing evaluation of remote sensing technologies.\n",
    "\n",
    "For more information regarding this dataset, please visit the [Atmospheric Carbon Dioxide Concentrations from NOAA GML](https://earth.gov/ghgcenter/data-catalog/noaa-cpfp-co2-point) data overview page."
   ]
  },
  {
   "cell_type": "markdown",
   "metadata": {},
   "source": [
    "# Install the Required Libraries\n",
    "Required libraries are pre-installed on the GHG Center Hub. If you need to run this notebook elsewhere, please install them with this line in a code cell:\n",
    "\n",
    "%pip install requests folium rasterstats pystac_client pandas matplotlib --quiet"
   ]
  },
  {
   "cell_type": "markdown",
   "metadata": {},
   "source": [
    "### Importing required libraries"
   ]
  },
  {
   "cell_type": "code",
   "execution_count": null,
   "metadata": {},
   "outputs": [],
   "source": [
    "import numpy as np\n",
    "import pandas as pd\n",
    "from glob import glob\n",
    "from io import StringIO\n",
    "import matplotlib.pyplot as plt\n",
    "import requests"
   ]
  },
  {
   "cell_type": "markdown",
   "metadata": {},
   "source": [
    "## Reading the NOAA data from GitHub repo"
   ]
  },
  {
   "cell_type": "code",
   "execution_count": 2,
   "metadata": {},
   "outputs": [],
   "source": [
    "github_repo_owner = \"NASA-IMPACT\"\n",
    "github_repo_name = \"noaa-viz\"\n",
    "folder_path_ch4, folder_path_co2 = \"flask/ch4\", \"flask/c02\"\n",
    "combined_df_co2, combined_df_ch4 = pd.DataFrame(), pd.DataFrame()\n",
    "\n",
    "\n",
    "# Function to fetch and append a file from GitHub\n",
    "def append_github_file(file_url):\n",
    "    response = requests.get(file_url)\n",
    "    response.raise_for_status()\n",
    "    return response.text\n",
    "\n",
    "# Get the list of CH4 files in the specified directory using GitHub API\n",
    "github_api_url = f\"https://api.github.com/repos/{github_repo_owner}/{github_repo_name}/contents/{folder_path_ch4}\"\n",
    "response = requests.get(github_api_url)\n",
    "response.raise_for_status()\n",
    "file_list_ch4 = response.json()\n",
    "\n",
    "# Get the list of CO2 files in the specified directory using GitHub API\n",
    "github_api_url = f\"https://api.github.com/repos/{github_repo_owner}/{github_repo_name}/contents/{folder_path_ch4}\"\n",
    "response = requests.get(github_api_url)\n",
    "response.raise_for_status()\n",
    "file_list_co2 = response.json()"
   ]
  },
  {
   "cell_type": "markdown",
   "metadata": {},
   "source": [
    "## Concatenating the CH4 data into a single DataFrame"
   ]
  },
  {
   "cell_type": "code",
   "execution_count": null,
   "metadata": {},
   "outputs": [],
   "source": [
    "for file_info in file_list_ch4:\n",
    "    if file_info[\"name\"].endswith(\"txt\"):\n",
    "        file_content = append_github_file(file_info[\"download_url\"])\n",
    "        Lines = file_content.splitlines()\n",
    "        index = Lines.index(\"# VARIABLE ORDER\")+2\n",
    "        df = pd.read_csv(StringIO(\"\\n\".join(Lines[index:])), delim_whitespace=True)\n",
    "        combined_df_ch4 = pd.concat([combined_df_ch4, df], ignore_index=True)\n",
    "        "
   ]
  },
  {
   "cell_type": "markdown",
   "metadata": {},
   "source": [
    "## Concatenating the CO2 data into a single DataFrame"
   ]
  },
  {
   "cell_type": "code",
   "execution_count": null,
   "metadata": {},
   "outputs": [],
   "source": [
    "for file_info in file_list_co2:\n",
    "    if file_info[\"name\"].endswith(\"txt\"):\n",
    "        file_content = append_github_file(file_info[\"download_url\"])\n",
    "        Lines = file_content.splitlines()\n",
    "        index = Lines.index(\"# VARIABLE ORDER\")+2\n",
    "        df = pd.read_csv(StringIO(\"\\n\".join(Lines[index:])), delim_whitespace=True)\n",
    "        combined_df_co2 = pd.concat([combined_df_co2, df], ignore_index=True)\n",
    "        "
   ]
  },
  {
   "cell_type": "markdown",
   "metadata": {},
   "source": [
    "## Visualizing the NOAA data for CH4 and CO2"
   ]
  },
  {
   "cell_type": "code",
   "execution_count": null,
   "metadata": {},
   "outputs": [],
   "source": [
    "site_to_filter = 'ABP'\n",
    "filtered_df = combined_df_co2[combined_df_co2['site_code'] == site_to_filter]\n",
    "\n",
    "filtered_df['datetime'] = pd.to_datetime(filtered_df['datetime'])\n",
    "\n",
    "# Set the \"Date\" column as the index\n",
    "filtered_df.set_index('datetime', inplace=True)\n",
    "\n",
    "# Create a time series plot for 'Data' and 'Value'\n",
    "plt.figure(figsize=(12, 6))\n",
    "plt.plot(filtered_df.index, filtered_df['value'], label='Carbon Dioxide(CO2) Concentration (ppm)')\n",
    "plt.xlabel(\"Observed Date/Time\")\n",
    "plt.ylabel(\"Carbon Dioxide(CO2) Concentration (ppm)\")\n",
    "plt.title(f\"Observed Co2 Concentration {site_to_filter}\")\n",
    "plt.legend()\n",
    "plt.grid(True)\n",
    "# plt.show()\n"
   ]
  },
  {
   "cell_type": "code",
   "execution_count": null,
   "metadata": {},
   "outputs": [],
   "source": [
    "site_to_filter = 'ABP'\n",
    "filtered_df = combined_df_ch4[combined_df_ch4['site_code'] == site_to_filter]\n",
    "filtered_df['datetime'] = pd.to_datetime(filtered_df['datetime'])\n",
    "\n",
    "# Set the \"Date\" column as the index\n",
    "filtered_df.set_index('datetime', inplace=True)\n",
    "\n",
    "# Create a time series plot for 'Data' and 'Value'\n",
    "plt.figure(figsize=(12, 6))\n",
    "plt.plot(filtered_df.index, filtered_df['value'], label='Methane Ch4 Concentration (ppb)')\n",
    "plt.xlabel(\"Observation Date/Time\")\n",
    "plt.ylabel(\"Methane Ch4 Concentration (ppb)\")\n",
    "plt.title(f\"Observed CH4 Concentration {site_to_filter}\")\n",
    "plt.legend()\n",
    "plt.grid(True)\n",
    "plt.show()"
   ]
  },
  {
   "attachments": {},
   "cell_type": "markdown",
   "metadata": {},
   "source": [
    "## Summary\n",
    "\n",
    "In this notebook we have successfully visualized the data for Atmospheric Carbon Dioxide Concentrations from NOAA Global Monitoring Laboratory.\n",
    "\n",
    "1.  Install and import the necessary libraries\n",
    "2.  Fetch the collection from GitHub API using the appropriate endpoints\n",
    "3.  Concatenating the CO2 and CH4 data into a single DataFrame\n",
    "5.  Visualizing the NOAA data for CO2 and CH4\n",
    "\n",
    "\n",
    "If you have any questions regarding this user notebook, please contact us using the [feedback form](https://docs.google.com/forms/d/e/1FAIpQLSeVWCrnca08Gt_qoWYjTo6gnj1BEGL4NCUC9VEiQnXA02gzVQ/viewform)."
   ]
  }
 ],
 "metadata": {
  "kernelspec": {
   "display_name": "Python 3 (ipykernel)",
   "language": "python",
   "name": "python3"
  },
  "language_info": {
   "codemirror_mode": {
    "name": "ipython",
    "version": 3
   },
   "file_extension": ".py",
   "mimetype": "text/x-python",
   "name": "python",
   "nbconvert_exporter": "python",
   "pygments_lexer": "ipython3",
   "version": "3.9.6"
  }
 },
 "nbformat": 4,
 "nbformat_minor": 4
}
