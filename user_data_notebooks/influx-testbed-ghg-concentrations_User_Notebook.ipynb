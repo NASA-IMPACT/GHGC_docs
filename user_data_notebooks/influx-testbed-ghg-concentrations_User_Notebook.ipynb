{
 "cells": [
  {
   "cell_type": "markdown",
   "metadata": {},
   "source": [
    "---\n",
    "title: Carbon Dioxide and Methane Concentrations from the Northeast Corridor (NEC) Urban Test Bed\n",
    "description: Atmospheric concentrations of carbon dioxide (CO₂) and methane (CH₄) collected at NIST Urban Test Bed tower sites in the Northeastern U.S.\n",
    "author: Siddharth Chaudhary, Paridhi Parajuli\n",
    "date: 12 September 2024\n",
    "execute:\n",
    "   freeze: true\n",
    "---"
   ]
  },
  {
   "cell_type": "markdown",
   "metadata": {},
   "source": [
    "## Approach\n",
    "\n",
    "1. Identify available dates and temporal frequency of observations for the given data. The collection processed in this notebook is the Atmospheric concentrations of carbon dioxide (CO₂) and methane (CH₄) collected at NIST Urban Test Bed tower sites in the Northeastern U.S.\n",
    "2. Visualize the time series data\n",
    "\n",
    "   "
   ]
  },
  {
   "cell_type": "markdown",
   "metadata": {},
   "source": [
    "## About the Data\n",
    "\n",
    "NIST is engaged in research to improve measurement of greenhouse gas emissions in areas containing multiple emission sources and sinks, such as site01ies. NIST's objective is to develop measurement tools supporting independent means to increase the accuracy of greenhouse gas emissions data at urban and regional geospatial scales. NIST has established three test beds in U.S. site01ies to develop and evaluate the performance of advanced measurement capabilities for emissions independent of their origin. Located in Indianapolis, Indiana, the Los Angeles air basin of California, and the U.S. Northeast corridor (beginning with the Baltimore/Washington D.C. region), the test beds have been selected for their varying meteorology, terrain and emissions characteristics. These test beds will serve as a means to independently diagnose the accuracy of emissions data obtained directly from emission or uptake sources.\n",
    "\n",
    "For more information regarding this dataset, please visit the [Carbon Dioxide and Methane Concentrations from the Northeast Corridor (NEC) Urban Test Bed](https://earth.gov/ghgcenter/data-catalog/nec-testbed-ghg-concentrations) data overview page."
   ]
  },
  {
   "cell_type": "markdown",
   "metadata": {},
   "source": [
    "# Install the Required Libraries\n",
    "Required libraries are pre-installed on the GHG Center Hub. If you need to run this notebook elsewhere, please install them with this line in a code cell:\n",
    "\n",
    "%pip install requests folium rasterstats pystac_client pandas matplotlib --quiet"
   ]
  },
  {
   "cell_type": "markdown",
   "metadata": {},
   "source": [
    "### Importing required libraries"
   ]
  },
  {
   "cell_type": "code",
   "execution_count": 6,
   "metadata": {},
   "outputs": [],
   "source": [
    "import requests\n",
    "import pandas as pd\n",
    "import matplotlib.pyplot as plt\n",
    "import plotly.graph_objs as go\n",
    "from io import StringIO"
   ]
  },
  {
   "cell_type": "markdown",
   "metadata": {},
   "source": [
    "## Querying the Feature Vector API\n",
    "First, we are going to import the required libraries. Once imported, they allow better executing a query in the GHG Center Feature Vector Application Programming Interface (API) where the items for this collection are stored."
   ]
  },
  {
   "cell_type": "code",
   "execution_count": 7,
   "metadata": {},
   "outputs": [],
   "source": [
    "# Function to fetch CSV data for a station with a limit parameter\n",
    "def get_station_data_csv(station_code, gas_type, frequency, elevation_m, limit=100000):\n",
    "    # Use the ?f=csv and limit query to get more rows\n",
    "    url = f\"https://dev.ghg.center/api/features/collections/public.nist_testbed_influx_{station_code}_{gas_type}_{frequency}_concentrations/items?f=csv&elevation_m={elevation_m}&limit={limit}\"\n",
    "    \n",
    "    try:\n",
    "        response = requests.get(url)\n",
    "        \n",
    "        # Check if the response is successful\n",
    "        if response.status_code != 200:\n",
    "            print(f\"Failed to fetch data for {station_code}. Status code: {response.status_code}\")\n",
    "            return pd.DataFrame()\n",
    "\n",
    "        # Check if the content type is CSV\n",
    "        content_type = response.headers.get('Content-Type')\n",
    "        if 'text/csv' not in content_type:\n",
    "            print(f\"Unexpected content type for {station_code}: {content_type}\")\n",
    "            print(\"Response content:\", response.text)\n",
    "            return pd.DataFrame()\n",
    "\n",
    "        # Read the CSV content into a pandas DataFrame\n",
    "        csv_data = StringIO(response.text)\n",
    "        return pd.read_csv(csv_data)\n",
    "    \n",
    "    except requests.exceptions.RequestException as e:\n",
    "        print(f\"Request failed: {e}\")\n",
    "        return pd.DataFrame()"
   ]
  },
  {
   "cell_type": "markdown",
   "metadata": {},
   "source": [
    "## Visualizing the CH₄ data for two NEC stations"
   ]
  },
  {
   "cell_type": "code",
   "execution_count": 8,
   "metadata": {},
   "outputs": [
    {
     "name": "stdout",
     "output_type": "stream",
     "text": [
      "Failed to fetch data for site01. Status code: 404\n",
      "Failed to fetch data for site09. Status code: 404\n",
      "No data available for one or both stations. Exiting.\n"
     ]
    }
   ],
   "source": [
    "# Fetch data for site01 (elevation 256) and site09 (elevation 277), using limit=10000\n",
    "#ch4/co2 select the ghg \n",
    "site01_data = get_station_data_csv('site01', 'ch4', 'hourly', 256, limit=10000)\n",
    "site09_data = get_station_data_csv('site09', 'ch4', 'hourly', 277, limit=10000)\n",
    "\n",
    "# Check if data was successfully retrieved before proceeding\n",
    "if site01_data.empty or site09_data.empty:\n",
    "    print(\"No data available for one or both stations. Exiting.\")\n",
    "else:\n",
    "    # Convert the 'datetime' column to datetime for plotting\n",
    "    site01_data['datetime'] = pd.to_datetime(site01_data['datetime'], format='%Y-%m-%dT%H:%M:%SZ')\n",
    "    site09_data['datetime'] = pd.to_datetime(site09_data['datetime'], format='%Y-%m-%dT%H:%M:%SZ')\n",
    "\n",
    "    # Plot the data\n",
    "    plt.figure(figsize=(10, 6))\n",
    "    plt.plot(site01_data['datetime'], site01_data['value'], label='site01 (256m)', color='blue', marker='o')\n",
    "    plt.plot(site09_data['datetime'], site09_data['value'], label='site09 (277m)', color='green', marker='o')\n",
    "\n",
    "    plt.title('Methane (CH₄) Hourly Concentrations Over Time for site01 and site09 Stations')\n",
    "    plt.xlabel('Time')\n",
    "    plt.ylabel('CH₄ Concentration (ppb)')\n",
    "    plt.legend()\n",
    "    plt.grid(True)\n",
    "\n",
    "    # Show plot\n",
    "    plt.show()"
   ]
  }
 ],
 "metadata": {
  "kernelspec": {
   "display_name": "ams-workshop",
   "language": "python",
   "name": "python3"
  },
  "language_info": {
   "codemirror_mode": {
    "name": "ipython",
    "version": 3
   },
   "file_extension": ".py",
   "mimetype": "text/x-python",
   "name": "python",
   "nbconvert_exporter": "python",
   "pygments_lexer": "ipython3",
   "version": "3.9.18"
  }
 },
 "nbformat": 4,
 "nbformat_minor": 2
}
