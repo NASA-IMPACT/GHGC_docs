{
 "cells": [
  {
   "cell_type": "raw",
   "metadata": {},
   "source": [
    "---\n",
    "title: GOSAT-based Top-down Methane Budgets \n",
    "description: Annual methane emissions gridded globally at 1° resolution for 2019, version\n",
    "author: Siddharth Chaudhary, Vishal Gaur\n",
    "date: 30 August 2023\n",
    "execute:\n",
    "   freeze: true\n",
    "---"
   ]
  },
  {
   "attachments": {},
   "cell_type": "markdown",
   "metadata": {},
   "source": [
    "## Approach\n",
    "\n",
    "1. Identify available dates and temporal frequency of observations for the given collection using the GHGC API `/stac` endpoint. The collection processed in this notebook is the GOSAT-based Top-down Methane Budgets data product.\n",
    "2. Pass the STAC item into the raster API `/stac/tilejson.json` endpoint.\n",
    "3. Using `folium.plugins.DualMap`, visualize two tiles (side-by-side), allowing time point comparison.\n",
    "4. After the visualization, perform zonal statistics for a given polygon.\n",
    "\n",
    "   "
   ]
  },
  {
   "cell_type": "markdown",
   "metadata": {},
   "source": [
    "## Still in progress"
   ]
  }
 ],
 "metadata": {
  "kernelspec": {
   "display_name": "Python 3 (ipykernel)",
   "language": "python",
   "name": "python3"
  },
  "language_info": {
   "codemirror_mode": {
    "name": "ipython",
    "version": 3
   },
   "file_extension": ".py",
   "mimetype": "text/x-python",
   "name": "python",
   "nbconvert_exporter": "python",
   "pygments_lexer": "ipython3",
   "version": "3.9.16"
  }
 },
 "nbformat": 4,
 "nbformat_minor": 4
}
