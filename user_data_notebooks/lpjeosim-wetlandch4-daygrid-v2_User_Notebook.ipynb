{
 "cells": [
  {
   "cell_type": "raw",
   "metadata": {
    "vscode": {
     "languageId": "raw"
    }
   },
   "source": [
    "---\n",
    "title: 'Wetland Methane Emissions, LPJ-EOSIM Model'\n",
    "description: >-\n",
    "  Global, daily and monthly 0.5 degree resolution methane emission estimates\n",
    "  from wetlands, LPJ-EOSIM Model\n",
    "authors: 'Siddharth Chaudhary, Vishal Gaur'\n",
    "published: 10 April 2024\n",
    "execute:\n",
    "  freeze: true\n",
    "---"
   ]
  },
  {
   "attachments": {},
   "cell_type": "markdown",
   "metadata": {},
   "source": [
    "## Approach\n",
    "\n",
    "1. Identify available dates and temporal frequency of observations for the given collection using the GHGC API `/stac` endpoint. The collection processed in this notebook is the Wetland Methane Emissions, LPJ-EOSIM Model data product.\n",
    "2. Pass the STAC item into the raster API `/stac/tilejson.json `endpoint.\n",
    "3. Using `folium.plugins.DualMap`, visualize two tiles (side-by-side), allowing time point comparison.\n",
    "4. After the visualization, perform zonal statistics for a given polygon.\n",
    "   "
   ]
  },
  {
   "attachments": {},
   "cell_type": "markdown",
   "metadata": {},
   "source": [
    "## About the Data\n",
    "\n",
    "Methane (CH₄) emissions from vegetated wetlands are estimated to be the largest natural source of methane in the global CH₄ budget, contributing to roughly one third of the total of natural and anthropogenic emissions. Wetland CH₄ is produced by microbes breaking down organic matter in the oxygen deprived environment of inundated soils. Due to limited data availability, the details of the role of wetland CH₄ emissions have thus far been underrepresented. Using the Earth Observation SIMulator version (LPJ-EOSIM) of the Lund-Potsdam-Jena Dynamic Global Vegetation Model (LPJ-DGVM) global CH₄ emissions from wetlands are estimated at 0.5° x 0.5 degree spatial resolution. By simulating wetland extent and using characteristics of inundated areas, such as wetland soil moisture, temperature, and carbon content, the model provides estimates of CH₄ quantities emitted into the atmosphere. This dataset shows concentrated methane sources from tropical and high latitude ecosystems. The LPJ-EOSIM Wetland Methane Emissions dataset consists of global daily model estimates of terrestrial wetland methane emissions from 1990 to the present, with data added bimonthly. The estimates are regularly used in conjunction with NASA’s Goddard Earth Observing System (GEOS) model to simulate the impact of wetlands and other methane sources on atmospheric methane concentrations, to compare against satellite and airborne data, and to improve understanding and prediction of wetland emissions.\n",
    "\n",
    "For more information regarding this dataset, please visit the [U.S. Greenhouse Gas Center](https://earth.gov/ghgcenter)."
   ]
  },
  {
   "attachments": {},
   "cell_type": "markdown",
   "metadata": {},
   "source": [
    "# Install the Required Libraries\n",
    "Required libraries are pre-installed on the GHG Center Hub. If you need to run this notebook elsewhere, please install them with this line in a code cell:\n",
    "\n",
    "%pip install requests, folium, rasterstats, pystac_client, pandas, matplotlib"
   ]
  },
  {
   "attachments": {},
   "cell_type": "markdown",
   "metadata": {},
   "source": [
    "## Query the STAC API\n",
    "First, we are going to import the required libraries. Once imported, they allow better executing a query in the GHG Center Spatio Temporal Asset Catalog (STAC) Application Programming Interface (API) where the granules for this collection are stored."
   ]
  },
  {
   "cell_type": "code",
   "execution_count": 1,
   "metadata": {},
   "outputs": [],
   "source": [
    "# Import the following libraries\n",
    "import requests\n",
    "import folium\n",
    "import folium.plugins\n",
    "from folium import Map, TileLayer\n",
    "from pystac_client import Client\n",
    "import branca\n",
    "import pandas as pd\n",
    "import matplotlib.pyplot as plt"
   ]
  },
  {
   "cell_type": "code",
   "execution_count": 2,
   "metadata": {},
   "outputs": [],
   "source": [
    "# Provide the STAC and RASTER API endpoints\n",
    "# The endpoint is referring to a location within the API that executes a request on a data collection nesting on the server.\n",
    "\n",
    "# The STAC API is a catalog of all the existing data collections that are stored in the GHG Center.\n",
    "STAC_API_URL = \"http://dev.ghg.center/ghgcenter/api/stac\"\n",
    "\n",
    "# The RASTER API is used to fetch collections for visualization\n",
    "RASTER_API_URL = \"https://dev.ghg.center/ghgcenter/api/raster\"\n",
    "\n",
    "# The collection name is used to fetch the dataset from the STAC API. First, we define the collection name as a variable\n",
    "# Name of the collection for the wetland methane emissions LPJ-EOSIM Model\n",
    "collection_name = \"lpjeosim-wetlandch4-daygrid-v2\"\n",
    "\n",
    "# Next, we need to specify the asset name for this collection\n",
    "# The asset name is referring to the raster band containing the pixel values for the parameter of interest\n",
    "asset_name = \"ensemble-mean-ch4-wetlands-emissions\""
   ]
  },
  {
   "cell_type": "code",
   "execution_count": null,
   "metadata": {},
   "outputs": [],
   "source": [
    "# Fetch the collection from the STAC API using the appropriate endpoint\n",
    "# The 'requests' library allows a HTTP request possible\n",
    "collection = requests.get(f\"{STAC_API_URL}/collections/{collection_name}\").json()\n",
    "\n",
    "# Print the properties of the collection to the console\n",
    "collection"
   ]
  },
  {
   "attachments": {},
   "cell_type": "markdown",
   "metadata": {},
   "source": [
    "Examining the contents of our `collection` under `summaries`, we see that the data is available from January 1980 to December 2021. By looking at `dashboard: time density`, we can see that these observations are collected monthly."
   ]
  },
  {
   "cell_type": "code",
   "execution_count": 4,
   "metadata": {},
   "outputs": [],
   "source": [
    "# Create a function that would search for a data collection in the US GHG Center STAC API\n",
    "\n",
    "# First, we need to define the function\n",
    "# The name of the function = \"get_item_count\"\n",
    "# The argument that will be passed through the defined function = \"collection_id\"\n",
    "\n",
    "def get_item_count(collection_id):\n",
    "\n",
    "    # Set a counter for the number of items existing in the collection\n",
    "    count = 0\n",
    "\n",
    "    # Define the path to retrieve the granules (items) of the collection of interest in the STAC API\n",
    "    items_url = f\"{STAC_API_URL}/collections/{collection_id}/items\"\n",
    "\n",
    "    # Run a while loop to make HTTP requests until there are no more URLs associated with the collection in the STAC API\n",
    "    while True:\n",
    "\n",
    "        # Retrieve information about the granules by sending a \"get\" request to the STAC API using the defined collection path\n",
    "        response = requests.get(items_url)\n",
    "\n",
    "        # If the items do not exist, print an error message and quit the loop\n",
    "        if not response.ok:\n",
    "            print(\"error getting items\")\n",
    "            exit()\n",
    "\n",
    "        # Return the results of the HTTP response as JSON\n",
    "        stac = response.json()\n",
    "\n",
    "        # Increase the \"count\" by the number of items (granules) returned in the response\n",
    "        count += int(stac[\"context\"].get(\"returned\", 0))\n",
    "\n",
    "        # Retrieve information about the next URL associated with the collection in the STAC API (if applicable)\n",
    "        next = [link for link in stac[\"links\"] if link[\"rel\"] == \"next\"]\n",
    "\n",
    "        # Exit the loop if there are no other URLs\n",
    "        if not next:\n",
    "            break\n",
    "        \n",
    "        # Ensure the information gathered by other STAC API links associated with the collection are added to the original path\n",
    "        # \"href\" is the identifier for each of the tiles stored in the STAC API\n",
    "        items_url = next[0][\"href\"]\n",
    "        temp = items_url.split('/')\n",
    "        temp.insert(3, 'ghgcenter')\n",
    "        temp.insert(4, 'api')\n",
    "        temp.insert(5, 'stac')\n",
    "        items_url = '/'.join(temp)\n",
    "\n",
    "    # Return the information about the total number of granules found associated with the collection\n",
    "    return count"
   ]
  },
  {
   "cell_type": "code",
   "execution_count": 5,
   "metadata": {},
   "outputs": [
    {
     "name": "stdout",
     "output_type": "stream",
     "text": [
      "Found 52 items\n"
     ]
    }
   ],
   "source": [
    "# Apply the function created above \"get_item_count\" to the data collection\n",
    "number_of_items = get_item_count(collection_name)\n",
    "\n",
    "# Get the information about the number of granules found in the collection\n",
    "items = requests.get(f\"{STAC_API_URL}/collections/{collection_name}/items?limit=600\"\n",
    ").json()[\"features\"]\n",
    "\n",
    "# Print the total number of items (granules) found\n",
    "print(f\"Found {len(items)} items\")"
   ]
  },
  {
   "cell_type": "code",
   "execution_count": null,
   "metadata": {},
   "outputs": [],
   "source": [
    "# Examine the first item in the collection\n",
    "# Keep in mind that a list starts from 0, 1, 2... therefore items[0] is referring to the first item in the list/collection\n",
    "items[0]"
   ]
  },
  {
   "attachments": {},
   "cell_type": "markdown",
   "metadata": {},
   "source": [
    "Below, we are entering the minimum and maximum values to provide our upper and lower bounds in the `rescale_values`."
   ]
  },
  {
   "cell_type": "code",
   "execution_count": 7,
   "metadata": {},
   "outputs": [],
   "source": [
    "# Fetch the minimum and maximum values for rescaling\n",
    "rescale_values = {'max': 0.0003, 'min': 0.0}"
   ]
  },
  {
   "attachments": {},
   "cell_type": "markdown",
   "metadata": {},
   "source": [
    "## Explore Changes in Methane (CH4) Emission Levels Using the Raster API\n",
    "In this notebook, we will explore the temporal impacts of methane emissions. We will visualize the outputs on a map using `folium`.\n"
   ]
  },
  {
   "cell_type": "code",
   "execution_count": 8,
   "metadata": {},
   "outputs": [],
   "source": [
    "# Now we create a dictionary where the start datetime values for each granule is queried more explicitly by year and month (e.g., 2020-02)\n",
    "items = {item[\"properties\"][\"datetime\"][:10]: item for item in items} "
   ]
  },
  {
   "attachments": {},
   "cell_type": "markdown",
   "metadata": {},
   "source": [
    "Now, we will pass the item id, collection name, and `rescaling_factor` to the `Raster API` endpoint. We will do this twice, once for December 2001 and again for December 2021, so we can visualize each event independently."
   ]
  },
  {
   "cell_type": "code",
   "execution_count": 9,
   "metadata": {},
   "outputs": [
    {
     "data": {
      "text/plain": [
       "{'tilejson': '2.2.0',\n",
       " 'version': '1.0.0',\n",
       " 'scheme': 'xyz',\n",
       " 'tiles': ['https://dev.ghg.center/ghgcenter/api/raster/stac/tiles/WebMercatorQuad/{z}/{x}/{y}@1x?collection=lpjeosim-wetlandch4-daygrid-v2&item=lpjeosim-wetlandch4-daygrid-v2-19900101day&assets=ensemble-mean-ch4-wetlands-emissions&color_formula=gamma+r+1.05&colormap_name=magma&rescale=0.0%2C0.0003'],\n",
       " 'minzoom': 0,\n",
       " 'maxzoom': 24,\n",
       " 'bounds': [-180.0, -90.0, 180.0, 90.0],\n",
       " 'center': [0.0, 0.0, 0]}"
      ]
     },
     "execution_count": 9,
     "metadata": {},
     "output_type": "execute_result"
    }
   ],
   "source": [
    "# Choose a color for displaying the tiles\n",
    "# Please refer to matplotlib library if you'd prefer choosing a different color ramp.\n",
    "# For more information on Colormaps in Matplotlib, please visit https://matplotlib.org/stable/users/explain/colors/colormaps.html\n",
    "color_map = \"magma\" \n",
    "\n",
    "# Make a GET request to retrieve information for the date mentioned below\n",
    "date1 = '1990-01-01'\n",
    "date1_tile = requests.get(\n",
    "\n",
    "    # Pass the collection name, collection date, and its ID\n",
    "    # To change the year and month of the observed parameter, you can modify the \"items['YYYY-MM-DD']\" statement\n",
    "    f\"{RASTER_API_URL}/stac/tilejson.json?collection={items[date1]['collection']}&item={items[date1]['id']}\"\n",
    "\n",
    "    # Pass the asset name\n",
    "    f\"&assets={asset_name}\"\n",
    "\n",
    "    # Pass the color formula and colormap for custom visualization\n",
    "    f\"&color_formula=gamma+r+1.05&colormap_name={color_map}\"\n",
    "\n",
    "    # Pass the minimum and maximum values for rescaling\n",
    "    f\"&rescale={rescale_values['min']},{rescale_values['max']}\", \n",
    "\n",
    "# Return response in JSON format\n",
    ").json()\n",
    "\n",
    "# Print the properties of the retrieved granule to the console\n",
    "date1_tile"
   ]
  },
  {
   "cell_type": "code",
   "execution_count": 10,
   "metadata": {},
   "outputs": [
    {
     "data": {
      "text/plain": [
       "{'tilejson': '2.2.0',\n",
       " 'version': '1.0.0',\n",
       " 'scheme': 'xyz',\n",
       " 'tiles': ['https://dev.ghg.center/ghgcenter/api/raster/stac/tiles/WebMercatorQuad/{z}/{x}/{y}@1x?collection=lpjeosim-wetlandch4-daygrid-v2&item=lpjeosim-wetlandch4-daygrid-v2-19900130day&assets=ensemble-mean-ch4-wetlands-emissions&color_formula=gamma+r+1.05&colormap_name=magma&rescale=0.0%2C0.0003'],\n",
       " 'minzoom': 0,\n",
       " 'maxzoom': 24,\n",
       " 'bounds': [-180.0, -90.0, 180.0, 90.0],\n",
       " 'center': [0.0, 0.0, 0]}"
      ]
     },
     "execution_count": 10,
     "metadata": {},
     "output_type": "execute_result"
    }
   ],
   "source": [
    "# Make a GET request to retrieve information for date mentioned below\n",
    "date2 = '1990-01-30'\n",
    "date2_tile = requests.get(\n",
    "\n",
    "    # Pass the collection name, collection date, and its ID\n",
    "    # To change the year and month of the observed parameter, you can modify the \"items['YYYY-MM-DD']\" statement\n",
    "    f\"{RASTER_API_URL}/stac/tilejson.json?collection={items[date2]['collection']}&item={items[date2]['id']}\"\n",
    "\n",
    "    # Pass the asset name\n",
    "    f\"&assets={asset_name}\"\n",
    "\n",
    "    # Pass the color formula and colormap for custom visualization\n",
    "    f\"&color_formula=gamma+r+1.05&colormap_name={color_map}\"\n",
    "\n",
    "    # Pass the minimum and maximum values for rescaling\n",
    "    f\"&rescale={rescale_values['min']},{rescale_values['max']}\",\n",
    "\n",
    "# Return response in JSON format \n",
    ").json()\n",
    "\n",
    "# Print the properties of the retrieved granule to the console\n",
    "date2_tile"
   ]
  },
  {
   "attachments": {},
   "cell_type": "markdown",
   "metadata": {},
   "source": [
    "## Visualize CH₄ Emissions\n"
   ]
  },
  {
   "cell_type": "code",
   "execution_count": 11,
   "metadata": {},
   "outputs": [
    {
     "data": {
      "text/html": [
       "<div style=\"width:100%;\"><div style=\"position:relative;width:100%;height:0;padding-bottom:60%;\"><span style=\"color:#565656\">Make this Notebook Trusted to load map: File -> Trust Notebook</span><iframe srcdoc=\"&lt;!DOCTYPE html&gt;\n",
       "&lt;html&gt;\n",
       "&lt;head&gt;\n",
       "    \n",
       "    &lt;meta http-equiv=&quot;content-type&quot; content=&quot;text/html; charset=UTF-8&quot; /&gt;\n",
       "    \n",
       "        &lt;script&gt;\n",
       "            L_NO_TOUCH = false;\n",
       "            L_DISABLE_3D = false;\n",
       "        &lt;/script&gt;\n",
       "    \n",
       "    &lt;style&gt;html, body {width: 100%;height: 100%;margin: 0;padding: 0;}&lt;/style&gt;\n",
       "    &lt;style&gt;#map {position:absolute;top:0;bottom:0;right:0;left:0;}&lt;/style&gt;\n",
       "    &lt;script src=&quot;https://cdn.jsdelivr.net/npm/leaflet@1.9.3/dist/leaflet.js&quot;&gt;&lt;/script&gt;\n",
       "    &lt;script src=&quot;https://code.jquery.com/jquery-1.12.4.min.js&quot;&gt;&lt;/script&gt;\n",
       "    &lt;script src=&quot;https://cdn.jsdelivr.net/npm/bootstrap@5.2.2/dist/js/bootstrap.bundle.min.js&quot;&gt;&lt;/script&gt;\n",
       "    &lt;script src=&quot;https://cdnjs.cloudflare.com/ajax/libs/Leaflet.awesome-markers/2.0.2/leaflet.awesome-markers.js&quot;&gt;&lt;/script&gt;\n",
       "    &lt;link rel=&quot;stylesheet&quot; href=&quot;https://cdn.jsdelivr.net/npm/leaflet@1.9.3/dist/leaflet.css&quot;/&gt;\n",
       "    &lt;link rel=&quot;stylesheet&quot; href=&quot;https://cdn.jsdelivr.net/npm/bootstrap@5.2.2/dist/css/bootstrap.min.css&quot;/&gt;\n",
       "    &lt;link rel=&quot;stylesheet&quot; href=&quot;https://netdna.bootstrapcdn.com/bootstrap/3.0.0/css/bootstrap.min.css&quot;/&gt;\n",
       "    &lt;link rel=&quot;stylesheet&quot; href=&quot;https://cdn.jsdelivr.net/npm/@fortawesome/fontawesome-free@6.2.0/css/all.min.css&quot;/&gt;\n",
       "    &lt;link rel=&quot;stylesheet&quot; href=&quot;https://cdnjs.cloudflare.com/ajax/libs/Leaflet.awesome-markers/2.0.2/leaflet.awesome-markers.css&quot;/&gt;\n",
       "    &lt;link rel=&quot;stylesheet&quot; href=&quot;https://cdn.jsdelivr.net/gh/python-visualization/folium/folium/templates/leaflet.awesome.rotate.min.css&quot;/&gt;\n",
       "    \n",
       "            &lt;meta name=&quot;viewport&quot; content=&quot;width=device-width,\n",
       "                initial-scale=1.0, maximum-scale=1.0, user-scalable=no&quot; /&gt;\n",
       "            &lt;style&gt;\n",
       "                #map_0cd3bd8a64887a7c792194f7868676c8 {\n",
       "                    position: absolute;\n",
       "                    width: 50.0%;\n",
       "                    height: 100.0%;\n",
       "                    left: 0.0%;\n",
       "                    top: 0.0%;\n",
       "                }\n",
       "                .leaflet-container { font-size: 1rem; }\n",
       "            &lt;/style&gt;\n",
       "        \n",
       "    \n",
       "            &lt;meta name=&quot;viewport&quot; content=&quot;width=device-width,\n",
       "                initial-scale=1.0, maximum-scale=1.0, user-scalable=no&quot; /&gt;\n",
       "            &lt;style&gt;\n",
       "                #map_8b565a2b7c718653ca79efa5fc88e920 {\n",
       "                    position: absolute;\n",
       "                    width: 50.0%;\n",
       "                    height: 100.0%;\n",
       "                    left: 50.0%;\n",
       "                    top: 0.0%;\n",
       "                }\n",
       "                .leaflet-container { font-size: 1rem; }\n",
       "            &lt;/style&gt;\n",
       "        \n",
       "    &lt;script src=&quot;https://cdn.jsdelivr.net/gh/jieter/Leaflet.Sync/L.Map.Sync.min.js&quot;&gt;&lt;/script&gt;\n",
       "&lt;/head&gt;\n",
       "&lt;body&gt;\n",
       "    \n",
       "    \n",
       "            &lt;div class=&quot;folium-map&quot; id=&quot;map_0cd3bd8a64887a7c792194f7868676c8&quot; &gt;&lt;/div&gt;\n",
       "        \n",
       "    \n",
       "            &lt;div class=&quot;folium-map&quot; id=&quot;map_8b565a2b7c718653ca79efa5fc88e920&quot; &gt;&lt;/div&gt;\n",
       "        \n",
       "&lt;/body&gt;\n",
       "&lt;script&gt;\n",
       "    \n",
       "    \n",
       "            var map_0cd3bd8a64887a7c792194f7868676c8 = L.map(\n",
       "                &quot;map_0cd3bd8a64887a7c792194f7868676c8&quot;,\n",
       "                {\n",
       "                    center: [34.0, -118.0],\n",
       "                    crs: L.CRS.EPSG3857,\n",
       "                    zoom: 6,\n",
       "                    zoomControl: true,\n",
       "                    preferCanvas: false,\n",
       "                }\n",
       "            );\n",
       "\n",
       "            \n",
       "\n",
       "        \n",
       "    \n",
       "            var tile_layer_351c32047150ae73ab81eead5b16289f = L.tileLayer(\n",
       "                &quot;https://{s}.tile.openstreetmap.org/{z}/{x}/{y}.png&quot;,\n",
       "                {&quot;attribution&quot;: &quot;Data by \\u0026copy; \\u003ca target=\\&quot;_blank\\&quot; href=\\&quot;http://openstreetmap.org\\&quot;\\u003eOpenStreetMap\\u003c/a\\u003e, under \\u003ca target=\\&quot;_blank\\&quot; href=\\&quot;http://www.openstreetmap.org/copyright\\&quot;\\u003eODbL\\u003c/a\\u003e.&quot;, &quot;detectRetina&quot;: false, &quot;maxNativeZoom&quot;: 18, &quot;maxZoom&quot;: 18, &quot;minZoom&quot;: 0, &quot;noWrap&quot;: false, &quot;opacity&quot;: 1, &quot;subdomains&quot;: &quot;abc&quot;, &quot;tms&quot;: false}\n",
       "            ).addTo(map_0cd3bd8a64887a7c792194f7868676c8);\n",
       "        \n",
       "    \n",
       "            var tile_layer_58bd8a20b9607db35bbd61510c9b1f3e = L.tileLayer(\n",
       "                &quot;https://dev.ghg.center/ghgcenter/api/raster/stac/tiles/WebMercatorQuad/{z}/{x}/{y}@1x?collection=lpjeosim-wetlandch4-daygrid-v2\\u0026item=lpjeosim-wetlandch4-daygrid-v2-19900101day\\u0026assets=ensemble-mean-ch4-wetlands-emissions\\u0026color_formula=gamma+r+1.05\\u0026colormap_name=magma\\u0026rescale=0.0%2C0.0003&quot;,\n",
       "                {&quot;attribution&quot;: &quot;GHG&quot;, &quot;detectRetina&quot;: false, &quot;maxNativeZoom&quot;: 18, &quot;maxZoom&quot;: 18, &quot;minZoom&quot;: 0, &quot;noWrap&quot;: false, &quot;opacity&quot;: 0.5, &quot;subdomains&quot;: &quot;abc&quot;, &quot;tms&quot;: false}\n",
       "            ).addTo(map_0cd3bd8a64887a7c792194f7868676c8);\n",
       "        \n",
       "    \n",
       "            var map_8b565a2b7c718653ca79efa5fc88e920 = L.map(\n",
       "                &quot;map_8b565a2b7c718653ca79efa5fc88e920&quot;,\n",
       "                {\n",
       "                    center: [34.0, -118.0],\n",
       "                    crs: L.CRS.EPSG3857,\n",
       "                    zoom: 6,\n",
       "                    zoomControl: true,\n",
       "                    preferCanvas: false,\n",
       "                }\n",
       "            );\n",
       "\n",
       "            \n",
       "\n",
       "        \n",
       "    \n",
       "            var tile_layer_ee29a61ad78967ae48d1576a9b9d404c = L.tileLayer(\n",
       "                &quot;https://{s}.tile.openstreetmap.org/{z}/{x}/{y}.png&quot;,\n",
       "                {&quot;attribution&quot;: &quot;Data by \\u0026copy; \\u003ca target=\\&quot;_blank\\&quot; href=\\&quot;http://openstreetmap.org\\&quot;\\u003eOpenStreetMap\\u003c/a\\u003e, under \\u003ca target=\\&quot;_blank\\&quot; href=\\&quot;http://www.openstreetmap.org/copyright\\&quot;\\u003eODbL\\u003c/a\\u003e.&quot;, &quot;detectRetina&quot;: false, &quot;maxNativeZoom&quot;: 18, &quot;maxZoom&quot;: 18, &quot;minZoom&quot;: 0, &quot;noWrap&quot;: false, &quot;opacity&quot;: 1, &quot;subdomains&quot;: &quot;abc&quot;, &quot;tms&quot;: false}\n",
       "            ).addTo(map_8b565a2b7c718653ca79efa5fc88e920);\n",
       "        \n",
       "    \n",
       "            var tile_layer_96d966dbd028b24dadcbb8baf2edec97 = L.tileLayer(\n",
       "                &quot;https://dev.ghg.center/ghgcenter/api/raster/stac/tiles/WebMercatorQuad/{z}/{x}/{y}@1x?collection=lpjeosim-wetlandch4-daygrid-v2\\u0026item=lpjeosim-wetlandch4-daygrid-v2-19900130day\\u0026assets=ensemble-mean-ch4-wetlands-emissions\\u0026color_formula=gamma+r+1.05\\u0026colormap_name=magma\\u0026rescale=0.0%2C0.0003&quot;,\n",
       "                {&quot;attribution&quot;: &quot;GHG&quot;, &quot;detectRetina&quot;: false, &quot;maxNativeZoom&quot;: 18, &quot;maxZoom&quot;: 18, &quot;minZoom&quot;: 0, &quot;noWrap&quot;: false, &quot;opacity&quot;: 0.5, &quot;subdomains&quot;: &quot;abc&quot;, &quot;tms&quot;: false}\n",
       "            ).addTo(map_8b565a2b7c718653ca79efa5fc88e920);\n",
       "        \n",
       "    \n",
       "            map_0cd3bd8a64887a7c792194f7868676c8.sync(map_8b565a2b7c718653ca79efa5fc88e920);\n",
       "            map_8b565a2b7c718653ca79efa5fc88e920.sync(map_0cd3bd8a64887a7c792194f7868676c8);\n",
       "        \n",
       "&lt;/script&gt;\n",
       "&lt;/html&gt;\" style=\"position:absolute;width:100%;height:100%;left:0;top:0;border:none !important;\" allowfullscreen webkitallowfullscreen mozallowfullscreen></iframe></div></div>"
      ],
      "text/plain": [
       "<folium.plugins.dual_map.DualMap at 0x1508a1760>"
      ]
     },
     "execution_count": 11,
     "metadata": {},
     "output_type": "execute_result"
    }
   ],
   "source": [
    "# For this study we are going to compare the CH₄ Emissions in 2001 and 2021 along the coast of California\n",
    "# To change the location, you can simply insert the latitude and longitude of the area of your interest in the \"location=(LAT, LONG)\" statement\n",
    "\n",
    "# Set initial zoom and center of map\n",
    "# 'folium.plugins' allows mapping side-by-side\n",
    "map_ = folium.plugins.DualMap(location=(34, -118), zoom_start=6)\n",
    "\n",
    "# Define the first map layer for tile fetched for date 1\n",
    "# The TileLayer library helps in manipulating and displaying raster layers on a map\n",
    "map_layer_date1 = TileLayer(\n",
    "    tiles=date1_tile[\"tiles\"][0], # Path to retrieve the tile\n",
    "    attr=\"GHG\", # Set the attribution\n",
    "    opacity=0.5, # Adjust the transparency of the layer\n",
    ")\n",
    "\n",
    "# Add the first layer to the Dual Map\n",
    "map_layer_date1.add_to(map_.m1)\n",
    "\n",
    "\n",
    "# Define the second map layer for the tile fetched for date 2\n",
    "map_layer_date2 = TileLayer(\n",
    "    tiles=date2_tile[\"tiles\"][0], # Path to retrieve the tile\n",
    "    attr=\"GHG\", # Set the attribution\n",
    "    opacity=0.5, # Adjust the transparency of the layer\n",
    ")\n",
    "\n",
    "# Add the second layer to the Dual Map\n",
    "map_layer_date2.add_to(map_.m2)\n",
    "\n",
    "# Visualize the Dual Map\n",
    "map_\n"
   ]
  },
  {
   "attachments": {},
   "cell_type": "markdown",
   "metadata": {},
   "source": [
    "# Calculate Zonal Statistics\n",
    "To perform zonal statistics, first we need to create a polygon. In this use case we are creating a polygon in Texas, United States."
   ]
  },
  {
   "cell_type": "code",
   "execution_count": 12,
   "metadata": {},
   "outputs": [],
   "source": [
    "# The Area of Interest (AOI) is set to Texas (USA)\n",
    "texas_aoi = {\n",
    "    \"type\": \"Feature\", # Create a feature object\n",
    "    \"properties\": {},\n",
    "    \"geometry\": { # Set the bounding coordinates for the polygon\n",
    "        \"coordinates\": [\n",
    "            [\n",
    "                # [longitude, latitude]\n",
    "                [-95, 29], # Southeast Bounding Coordinate\n",
    "                [-95, 33], # Northeast Bounding Coordinate\n",
    "                [-104, 33], # Northwest Bounding Coordinate\n",
    "                [-104,29], # Southwest Bounding Coordinate\n",
    "                [-95, 29] # Closing the polygon at the Southeast Bounding Coordinate\n",
    "            ]\n",
    "        ],\n",
    "        \"type\": \"Polygon\",\n",
    "    },\n",
    "}"
   ]
  },
  {
   "cell_type": "code",
   "execution_count": 13,
   "metadata": {},
   "outputs": [
    {
     "data": {
      "text/html": [
       "<div style=\"width:100%;\"><div style=\"position:relative;width:100%;height:0;padding-bottom:60%;\"><span style=\"color:#565656\">Make this Notebook Trusted to load map: File -> Trust Notebook</span><iframe srcdoc=\"&lt;!DOCTYPE html&gt;\n",
       "&lt;html&gt;\n",
       "&lt;head&gt;\n",
       "    \n",
       "    &lt;meta http-equiv=&quot;content-type&quot; content=&quot;text/html; charset=UTF-8&quot; /&gt;\n",
       "    \n",
       "        &lt;script&gt;\n",
       "            L_NO_TOUCH = false;\n",
       "            L_DISABLE_3D = false;\n",
       "        &lt;/script&gt;\n",
       "    \n",
       "    &lt;style&gt;html, body {width: 100%;height: 100%;margin: 0;padding: 0;}&lt;/style&gt;\n",
       "    &lt;style&gt;#map {position:absolute;top:0;bottom:0;right:0;left:0;}&lt;/style&gt;\n",
       "    &lt;script src=&quot;https://cdn.jsdelivr.net/npm/leaflet@1.9.3/dist/leaflet.js&quot;&gt;&lt;/script&gt;\n",
       "    &lt;script src=&quot;https://code.jquery.com/jquery-1.12.4.min.js&quot;&gt;&lt;/script&gt;\n",
       "    &lt;script src=&quot;https://cdn.jsdelivr.net/npm/bootstrap@5.2.2/dist/js/bootstrap.bundle.min.js&quot;&gt;&lt;/script&gt;\n",
       "    &lt;script src=&quot;https://cdnjs.cloudflare.com/ajax/libs/Leaflet.awesome-markers/2.0.2/leaflet.awesome-markers.js&quot;&gt;&lt;/script&gt;\n",
       "    &lt;link rel=&quot;stylesheet&quot; href=&quot;https://cdn.jsdelivr.net/npm/leaflet@1.9.3/dist/leaflet.css&quot;/&gt;\n",
       "    &lt;link rel=&quot;stylesheet&quot; href=&quot;https://cdn.jsdelivr.net/npm/bootstrap@5.2.2/dist/css/bootstrap.min.css&quot;/&gt;\n",
       "    &lt;link rel=&quot;stylesheet&quot; href=&quot;https://netdna.bootstrapcdn.com/bootstrap/3.0.0/css/bootstrap.min.css&quot;/&gt;\n",
       "    &lt;link rel=&quot;stylesheet&quot; href=&quot;https://cdn.jsdelivr.net/npm/@fortawesome/fontawesome-free@6.2.0/css/all.min.css&quot;/&gt;\n",
       "    &lt;link rel=&quot;stylesheet&quot; href=&quot;https://cdnjs.cloudflare.com/ajax/libs/Leaflet.awesome-markers/2.0.2/leaflet.awesome-markers.css&quot;/&gt;\n",
       "    &lt;link rel=&quot;stylesheet&quot; href=&quot;https://cdn.jsdelivr.net/gh/python-visualization/folium/folium/templates/leaflet.awesome.rotate.min.css&quot;/&gt;\n",
       "    \n",
       "            &lt;meta name=&quot;viewport&quot; content=&quot;width=device-width,\n",
       "                initial-scale=1.0, maximum-scale=1.0, user-scalable=no&quot; /&gt;\n",
       "            &lt;style&gt;\n",
       "                #map_795d6f917b7901ef903939d254166e74 {\n",
       "                    position: relative;\n",
       "                    width: 100.0%;\n",
       "                    height: 100.0%;\n",
       "                    left: 0.0%;\n",
       "                    top: 0.0%;\n",
       "                }\n",
       "                .leaflet-container { font-size: 1rem; }\n",
       "            &lt;/style&gt;\n",
       "        \n",
       "&lt;/head&gt;\n",
       "&lt;body&gt;\n",
       "    \n",
       "    \n",
       "            &lt;div class=&quot;folium-map&quot; id=&quot;map_795d6f917b7901ef903939d254166e74&quot; &gt;&lt;/div&gt;\n",
       "        \n",
       "&lt;/body&gt;\n",
       "&lt;script&gt;\n",
       "    \n",
       "    \n",
       "            var map_795d6f917b7901ef903939d254166e74 = L.map(\n",
       "                &quot;map_795d6f917b7901ef903939d254166e74&quot;,\n",
       "                {\n",
       "                    center: [30.0, -101.0],\n",
       "                    crs: L.CRS.EPSG3857,\n",
       "                    zoom: 6,\n",
       "                    zoomControl: true,\n",
       "                    preferCanvas: false,\n",
       "                }\n",
       "            );\n",
       "\n",
       "            \n",
       "\n",
       "        \n",
       "    \n",
       "            var tile_layer_60be2476d4eba852be06896e3cf1cc78 = L.tileLayer(\n",
       "                &quot;https://{s}.tile.openstreetmap.org/{z}/{x}/{y}.png&quot;,\n",
       "                {&quot;attribution&quot;: &quot;Data by \\u0026copy; \\u003ca target=\\&quot;_blank\\&quot; href=\\&quot;http://openstreetmap.org\\&quot;\\u003eOpenStreetMap\\u003c/a\\u003e, under \\u003ca target=\\&quot;_blank\\&quot; href=\\&quot;http://www.openstreetmap.org/copyright\\&quot;\\u003eODbL\\u003c/a\\u003e.&quot;, &quot;detectRetina&quot;: false, &quot;maxNativeZoom&quot;: 18, &quot;maxZoom&quot;: 18, &quot;minZoom&quot;: 0, &quot;noWrap&quot;: false, &quot;opacity&quot;: 1, &quot;subdomains&quot;: &quot;abc&quot;, &quot;tms&quot;: false}\n",
       "            ).addTo(map_795d6f917b7901ef903939d254166e74);\n",
       "        \n",
       "    \n",
       "\n",
       "        function geo_json_d0a655636efbd45bb50d41b3227a5b09_onEachFeature(feature, layer) {\n",
       "            layer.on({\n",
       "            });\n",
       "        };\n",
       "        var geo_json_d0a655636efbd45bb50d41b3227a5b09 = L.geoJson(null, {\n",
       "                onEachFeature: geo_json_d0a655636efbd45bb50d41b3227a5b09_onEachFeature,\n",
       "            \n",
       "        });\n",
       "\n",
       "        function geo_json_d0a655636efbd45bb50d41b3227a5b09_add (data) {\n",
       "            geo_json_d0a655636efbd45bb50d41b3227a5b09\n",
       "                .addData(data)\n",
       "                .addTo(map_795d6f917b7901ef903939d254166e74);\n",
       "        }\n",
       "            geo_json_d0a655636efbd45bb50d41b3227a5b09_add({&quot;geometry&quot;: {&quot;coordinates&quot;: [[[-95, 29], [-95, 33], [-104, 33], [-104, 29], [-95, 29]]], &quot;type&quot;: &quot;Polygon&quot;}, &quot;properties&quot;: {}, &quot;type&quot;: &quot;Feature&quot;});\n",
       "\n",
       "        \n",
       "&lt;/script&gt;\n",
       "&lt;/html&gt;\" style=\"position:absolute;width:100%;height:100%;left:0;top:0;border:none !important;\" allowfullscreen webkitallowfullscreen mozallowfullscreen></iframe></div></div>"
      ],
      "text/plain": [
       "<folium.folium.Map at 0x150f46e20>"
      ]
     },
     "execution_count": 13,
     "metadata": {},
     "output_type": "execute_result"
    }
   ],
   "source": [
    "# Create a new map to display the generated polygon\n",
    "aoi_map = Map(\n",
    "\n",
    "    # Base map is set to OpenStreetMap\n",
    "    tiles=\"OpenStreetMap\",\n",
    "\n",
    "    # Define the spatial properties for the map\n",
    "    location=[\n",
    "        30,-101 # coordinates for the AOI in Texas, USA\n",
    "    ],\n",
    "\n",
    "    # Set the zoom value\n",
    "    zoom_start=6, # zoom in or out by increasing or decreasing the value here\n",
    ")\n",
    "\n",
    "# Insert the polygon to the map\n",
    "folium.GeoJson(texas_aoi, name=\"Texas, USA\").add_to(aoi_map)\n",
    "\n",
    "# Visualize the map\n",
    "aoi_map"
   ]
  },
  {
   "cell_type": "markdown",
   "metadata": {},
   "source": [
    "Before we generate stats for a specific item (observation), we first check the total number of items available within the collection and retrieve the information regarding their start datetime."
   ]
  },
  {
   "cell_type": "code",
   "execution_count": null,
   "metadata": {},
   "outputs": [],
   "source": [
    "# Check the total number of items available within the collection\n",
    "items = requests.get(\n",
    "    f\"{STAC_API_URL}/collections/{collection_name}/items?limit=600\"\n",
    ").json()[\"features\"]\n",
    "\n",
    "# Print the total number of items (granules) found\n",
    "print(f\"Found {len(items)} items\")"
   ]
  },
  {
   "cell_type": "code",
   "execution_count": null,
   "metadata": {},
   "outputs": [],
   "source": [
    "# Examine the first item in the collection\n",
    "items[0]"
   ]
  },
  {
   "cell_type": "markdown",
   "metadata": {},
   "source": [
    "Now we need to develop a function that runs through the data collection and generates the statistics for a specific item (granule) within the boundaries of the AOI polygon."
   ]
  },
  {
   "cell_type": "code",
   "execution_count": null,
   "metadata": {},
   "outputs": [],
   "source": [
    "# The bounding box should be passed to the geojson param as a geojson Feature or FeatureCollection\n",
    "# Create a function that retrieves information regarding a specific granule using its asset name and raster identifier and generates the statistics for it\n",
    "\n",
    "# The function takes an item (granule) and a JSON (Texas polygon) as input parameters\n",
    "def generate_stats(item, geojson):\n",
    "\n",
    "    # A POST request is made to submit the data associated with the item of interest (specific observation) within the AOI boundaries to compute its statistics\n",
    "    result = requests.post(\n",
    "\n",
    "        # Raster API Endpoint for computing statistics\n",
    "        f\"{RASTER_API_URL}/cog/statistics\",\n",
    "\n",
    "        # Pass the URL to the item, asset name, and raster identifier as parameters\n",
    "        params={\"url\": item[\"assets\"][\"ch4-wetlands-emissions\"][\"href\"]},\n",
    "\n",
    "        # Send the GeoJSON object (AOI polygon) along with the request\n",
    "        json=geojson,\n",
    "\n",
    "    # Return the response in JSON format\n",
    "    ).json()\n",
    "\n",
    "    # Return a dictionary containing the computed statistics along with the item's datetime information\n",
    "    return {\n",
    "        **result[\"properties\"],\n",
    "        \"datetime\": item[\"properties\"][\"datetime\"],\n",
    "    }"
   ]
  },
  {
   "attachments": {},
   "cell_type": "markdown",
   "metadata": {},
   "source": [
    "With the function above, we can generate the statistics for the area of interest."
   ]
  },
  {
   "cell_type": "code",
   "execution_count": null,
   "metadata": {},
   "outputs": [],
   "source": [
    "%%time\n",
    "# %%time = Wall time (execution time) for running the code below\n",
    "\n",
    "# Generate statistics using the created function \"generate_stats\" within the bounding box defined by the AOI polygon\n",
    "stats = [generate_stats(item, texas_aoi) for item in items]"
   ]
  },
  {
   "cell_type": "code",
   "execution_count": null,
   "metadata": {},
   "outputs": [],
   "source": [
    "# Print the stats for the first item in the collection\n",
    "stats[0]"
   ]
  },
  {
   "cell_type": "code",
   "execution_count": null,
   "metadata": {},
   "outputs": [],
   "source": [
    "# Create a function that converts statistics in JSON format into a pandas DataFrame\n",
    "def clean_stats(stats_json) -> pd.DataFrame:\n",
    "\n",
    "    # Normalize the JSON data\n",
    "    df = pd.json_normalize(stats_json)\n",
    "\n",
    "    # Replace the naming \"statistics.b1\" in the columns\n",
    "    df.columns = [col.replace(\"statistics.b1.\", \"\") for col in df.columns]\n",
    "\n",
    "    # Set the datetime format\n",
    "    df[\"date\"] = pd.to_datetime(df[\"datetime\"])\n",
    "\n",
    "    # Return the cleaned format\n",
    "    return df\n",
    "\n",
    "# Apply the generated function on the stats data\n",
    "df = clean_stats(stats)\n",
    "\n",
    "# Display the stats for the first 5 granules in the collection in the table\n",
    "# Change the value in the parenthesis to show more or a smaller number of rows in the table\n",
    "df.head(5)"
   ]
  },
  {
   "attachments": {},
   "cell_type": "markdown",
   "metadata": {},
   "source": [
    "## Visualize the Data as a Time Series\n",
    "We can now explore the wetland methane emissions time series (January 1980 – December 2021) available for the Texas area of the U.S. We can plot the data set using the code below:"
   ]
  },
  {
   "cell_type": "code",
   "execution_count": null,
   "metadata": {},
   "outputs": [],
   "source": [
    "# Determine the width and height of the plot using the 'matplotlib' library\n",
    "# Figure size: 20 representing the width, 10 representing the height\n",
    "fig = plt.figure(figsize=(20, 10))\n",
    "\n",
    "# Plot the time series\n",
    "plt.plot(\n",
    "    df[\"date\"], # X-axis: date\n",
    "    df[\"max\"], # Y-axis: CH₄ value\n",
    "    color=\"red\", # Line color\n",
    "    linestyle=\"-\", # Line style\n",
    "    linewidth=0.5, # Line width\n",
    "    label=\"Max monthly CH₄ emissions\", # Legend label\n",
    ")\n",
    "\n",
    "# Display legend\n",
    "plt.legend()\n",
    "\n",
    "# Insert label for the X-axis\n",
    "plt.xlabel(\"Years\")\n",
    "\n",
    "# Insert label for the Y-axis\n",
    "plt.ylabel(\"CH4 emissions g/m2\")\n",
    "\n",
    "# Insert title for the plot\n",
    "plt.title(\"CH4 emission Values for Texas, 1980-2021)\")"
   ]
  },
  {
   "cell_type": "markdown",
   "metadata": {},
   "source": [
    "To take a closer look at the CH4 variability across this region, we are going to retrieve and display data collected during the October, 1990 observation."
   ]
  },
  {
   "cell_type": "code",
   "execution_count": null,
   "metadata": {},
   "outputs": [],
   "source": [
    "# The 1990-10 observation is the 3rd item in the list\n",
    "# Considering that a list starts with \"0\", we need to insert \"2\" in the \"items[2]\" statement\n",
    "# Print the start Date Time of the third granule in the collection\n",
    "print(items[2][\"properties\"][\"start_datetime\"])"
   ]
  },
  {
   "cell_type": "code",
   "execution_count": null,
   "metadata": {},
   "outputs": [],
   "source": [
    "# A GET request is made for the 3rd item in the collection\n",
    "october_tile = requests.get(\n",
    "\n",
    "    # Pass the collection name, the item number in the list, and its ID\n",
    "    f\"{RASTER_API_URL}/stac/tilejson.json?collection={items[2]['collection']}&item={items[2]['id']}\"\n",
    "    \"&assets=ch4-wetlands-emissions\"\n",
    "\n",
    "    # Pass the color formula and colormap for custom visualization\n",
    "    f\"&color_formula=gamma+r+1.05&colormap_name={color_map}\"\n",
    "\n",
    "    # Pass the minimum and maximum values for rescaling\n",
    "    f\"&rescale={rescale_values['min']},{rescale_values['max']}\",\n",
    "\n",
    "# Return the response in JSON format\n",
    ").json()\n",
    "\n",
    "# Print the properties of the retrieved granule to the console\n",
    "october_tile"
   ]
  },
  {
   "cell_type": "code",
   "execution_count": null,
   "metadata": {},
   "outputs": [],
   "source": [
    "# Create a new map to display the CH4 variability for the Texas region for the October, 1990 timeframe\n",
    "aoi_map_bbox = Map(\n",
    "\n",
    "    # Base map is set to OpenStreetMap\n",
    "    tiles=\"OpenStreetMap\",\n",
    "\n",
    "    # Set the center of the map\n",
    "    location=[\n",
    "        30,-100\n",
    "    ],\n",
    "\n",
    "    # Set the zoom value\n",
    "    zoom_start=8,\n",
    ")\n",
    "\n",
    "# Define the map layer\n",
    "map_layer = TileLayer(\n",
    "    tiles=october_tile[\"tiles\"][0], # Path to retrieve the tile\n",
    "    attr=\"GHG\", opacity = 0.5 # Set the attribution and transparency\n",
    ")\n",
    "\n",
    "# Add the layer to the map\n",
    "map_layer.add_to(aoi_map_bbox)\n",
    "\n",
    "# Visualize the map\n",
    "aoi_map_bbox"
   ]
  },
  {
   "attachments": {},
   "cell_type": "markdown",
   "metadata": {},
   "source": [
    "## Summary\n",
    "\n",
    "In this notebook we have successfully completed the following steps for the STAC collection for the Wetland Methane Emissions, LPJ-EOSIM Model data:\n",
    "1.  Install and import the necessary libraries\n",
    "2.  Fetch the collection from STAC collections using the appropriate endpoints\n",
    "3.  Count the number of existing granules within the collection\n",
    "4.  Map and compare the CH4 levels over the Texas region for two distinctive years\n",
    "5.  Create a table that displays the minimum, maximum, and sum of the CH4 levels for a specified region\n",
    "6.  Generate a time-series graph of the CH4 levels for a specified region\n",
    "\n",
    "If you have any questions regarding this user notebook, please contact us using the [feedback form](https://docs.google.com/forms/d/e/1FAIpQLSeVWCrnca08Gt_qoWYjTo6gnj1BEGL4NCUC9VEiQnXA02gzVQ/viewform)."
   ]
  }
 ],
 "metadata": {
  "kernelspec": {
   "display_name": "Python 3",
   "language": "python",
   "name": "python3"
  },
  "language_info": {
   "codemirror_mode": {
    "name": "ipython",
    "version": 3
   },
   "file_extension": ".py",
   "mimetype": "text/x-python",
   "name": "python",
   "nbconvert_exporter": "python",
   "pygments_lexer": "ipython3",
   "version": "3.9.16"
  },
  "vscode": {
   "interpreter": {
    "hash": "31f2aee4e71d21fbe5cf8b01ff0e069b9275f58929596ceb00d14d90e3e16cd6"
   }
  }
 },
 "nbformat": 4,
 "nbformat_minor": 4
}
