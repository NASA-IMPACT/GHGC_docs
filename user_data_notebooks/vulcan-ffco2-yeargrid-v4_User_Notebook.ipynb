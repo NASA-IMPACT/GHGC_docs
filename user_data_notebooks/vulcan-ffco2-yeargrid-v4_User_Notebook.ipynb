{
 "cells": [
  {
   "cell_type": "raw",
   "id": "12f303e3",
   "metadata": {},
   "source": [
    "---\n",
    "title: Vulcan Fossil Fuel CO₂ Emissions, Version 4\n",
    "description: Annual (2010 - 2021), 1 km resolution estimates of carbon dioxide emissions from fossil fuels and cement production over the contiguous United States, version 4.0.\n",
    "author: Siddharth Chaudhary, Paridhi Parajuli\n",
    "date: 30 August 2024\n",
    "execute:\n",
    "  freeze: true\n",
    "---\n"
   ]
  },
  {
   "cell_type": "markdown",
   "id": "3c3d7d0a",
   "metadata": {},
   "source": [
    "## Run this notebook\n",
    "\n",
    "You can launch this notebook in the US GHG Center JupyterHub by clicking the link below.\n",
    "\n",
    "[Launch in the US GHG Center JupyterHub (requires access)](https://hub.ghg.center/hub/user-redirect/git-pull?repo=https%3A%2F%2Fgithub.com%2FUS-GHG-Center%2Fghgc-docs&urlpath=lab%2Ftree%2Fghgc-docs%2Fuser_data_notebooks%2Fvulcan-ffco2-yeargrid-v4_User_Notebook_User_Notebook.ipynb&branch=main)\n"
   ]
  },
  {
   "cell_type": "markdown",
   "id": "8ad57cc0",
   "metadata": {},
   "source": [
    "## Approach\n",
    "\n",
    "1. Identify available dates and temporal frequency of observations for the given collection using the GHGC API `/stac` endpoint. The collection processed in this notebook is the Vulcan Fossil Fuel CO₂ Emissions Data product.\n",
    "2. Pass the STAC item into the raster API `/collections/{collection_id}/items/{item_id}/tilejson.json` endpoint.\n",
    "3. Using `folium.plugins.DualMap`, we will visualize two tiles (side-by-side), allowing us to compare time points.\n",
    "4. After the visualization, we will perform zonal statistics for a given polygon.\n"
   ]
  },
  {
   "cell_type": "markdown",
   "id": "c2ffe091",
   "metadata": {},
   "source": [
    "## About the Data\n",
    "\n",
    "The Vulcan version 4.0 data product represents total carbon dioxide (CO2) emissions resulting from the combustion of fossil fuel (ff) for the contiguous United States and District of Columbia. Referred to as ffCO2, the emissions from Vulcan are also categorized into 10 source sectors including; airports, cement production, commercial marine vessels, commercial, power plants, industrial, non-road, on-road, residential and railroads. Data are gridded annually on a 1-km grid for the years 2010 to 2021. These data are annual sums of hourly estimates. Shown is the estimated total annual ffCO2 for the United States, as well as the estimated total annual ffCO2 per sector.\n",
    "\n",
    "For more information regarding this dataset, please visit the [Vulcan Fossil Fuel CO₂ Emissions, Version 4](https://earth.gov/ghgcenter/data-catalog/vulcan-ffco2-yeargrid-v4) data overview page.\n"
   ]
  },
  {
   "cell_type": "markdown",
   "id": "ce2f8197",
   "metadata": {},
   "source": [
    "# Install the Required Libraries\n",
    "\n",
    "Required libraries are pre-installed on the GHG Center Hub. If you need to run this notebook elsewhere, please install them with this line in a code cell:\n",
    "\n",
    "%pip install requests folium rasterstats pystac_client pandas matplotlib --quiet\n"
   ]
  },
  {
   "cell_type": "code",
   "execution_count": null,
   "id": "503e5661-b99b-421b-b4ba-361bb531e5fa",
   "metadata": {},
   "outputs": [],
   "source": [
    "import requests\n",
    "import folium\n",
    "import folium.plugins\n",
    "from folium import Map, TileLayer \n",
    "from pystac_client import Client \n",
    "import branca \n",
    "import pandas as pd\n",
    "import matplotlib.pyplot as plt"
   ]
  },
  {
   "cell_type": "markdown",
   "id": "9904b2c6",
   "metadata": {},
   "source": [
    "## Querying the STAC API\n",
    "\n",
    "First, we are going to import the required libraries. Once imported, they allow better executing a query in the GHG Center Spatio Temporal Asset Catalog (STAC) Application Programming Interface (API) where the granules for this collection are stored.\n"
   ]
  },
  {
   "cell_type": "code",
   "execution_count": 8,
   "id": "a7602b2d-2650-42cb-9ae3-09eb3fe7891b",
   "metadata": {},
   "outputs": [],
   "source": [
    "# Provide STAC and RASTER API endpoints\n",
    "STAC_API_URL = \"https://earth.gov/ghgcenter/api/stac\"\n",
    "RASTER_API_URL = \"https://earth.gov/ghgcenter/api/raster\"\n",
    "\n",
    "# Please use the collection name similar to the one used in the STAC collection.\n",
    "# Name of the collection for Vulcan Fossil Fuel CO₂ Emissions, Version 4. \n",
    "collection_name = \"vulcan-ffco2-yeargrid-v4\""
   ]
  },
  {
   "cell_type": "code",
   "execution_count": null,
   "id": "941eae92-6ec0-46a4-ab8f-739973b59e6f",
   "metadata": {},
   "outputs": [],
   "source": [
    "# Fetch the collection from STAC collections using the appropriate endpoint\n",
    "# the 'requests' library allows a HTTP request possible\n",
    "collection_vulcan = requests.get(f\"{STAC_API_URL}/collections/{collection_name}\").json()\n",
    "collection_vulcan\n"
   ]
  },
  {
   "cell_type": "markdown",
   "id": "132947f6",
   "metadata": {},
   "source": [
    "Examining the contents of our `collection` under the `temporal` variable, we see that the data is available from January 2010 to December 2021. By looking at the `dashboard:time density`, we observe that the data is periodic with year time density.\n"
   ]
  },
  {
   "cell_type": "code",
   "execution_count": null,
   "id": "79b48141-ccc5-42ac-bc8f-1b480398265c",
   "metadata": {},
   "outputs": [],
   "source": [
    "collection_vulcan"
   ]
  },
  {
   "cell_type": "code",
   "execution_count": 5,
   "id": "b56d6c87-11b9-48ca-9723-8304984a644b",
   "metadata": {},
   "outputs": [],
   "source": [
    "# Create a function that would search for the above data collection in the STAC API\n",
    "def get_item_count(collection_id):\n",
    "    count = 0\n",
    "    items_url = f\"{STAC_API_URL}/collections/{collection_id}/items\"\n",
    "\n",
    "    while True:\n",
    "        response = requests.get(items_url)\n",
    "\n",
    "        if not response.ok:\n",
    "            print(\"error getting items\")\n",
    "            exit()\n",
    "\n",
    "        stac = response.json()\n",
    "        count += int(stac[\"context\"].get(\"returned\", 0))\n",
    "        next = [link for link in stac[\"links\"] if link[\"rel\"] == \"next\"]\n",
    "\n",
    "        if not next:\n",
    "            break\n",
    "        items_url = next[0][\"href\"]\n",
    "\n",
    "    return count"
   ]
  },
  {
   "cell_type": "code",
   "execution_count": null,
   "id": "eaaf1487-2e71-490b-a968-e57ee332a919",
   "metadata": {},
   "outputs": [],
   "source": [
    "# Apply the above function and check the total number of items available within the collection\n",
    "number_of_items = get_item_count(collection_name)\n",
    "items_vulcan = requests.get(f\"{STAC_API_URL}/collections/{collection_name}/items?limit={number_of_items}\").json()[\"features\"]\n",
    "print(f\"Found {len(items_vulcan)} items\")"
   ]
  },
  {
   "cell_type": "code",
   "execution_count": null,
   "id": "19177b0a",
   "metadata": {},
   "outputs": [],
   "source": [
    "# Examine the first item in the collection\n",
    "# Keep in mind that a list starts from 0, 1, 2... therefore items[0] is referring to the first item in the list/collection\n",
    "items_vulcan[0]"
   ]
  },
  {
   "cell_type": "code",
   "execution_count": 8,
   "id": "01619ee2-728c-4abc-9edf-a2c85d87128d",
   "metadata": {},
   "outputs": [],
   "source": [
    "# To access the year value from each item more easily, this will let us query more explicitly by year and month (e.g., 2020-02)\n",
    "items = {item[\"properties\"][\"start_datetime\"][:4]: item for item in items_vulcan} \n",
    "# rh = Heterotrophic Respiration\n",
    "asset_name = \"total-co2\""
   ]
  },
  {
   "cell_type": "code",
   "execution_count": 9,
   "id": "f9deb11d-4c33-4f59-8532-7829602e3113",
   "metadata": {},
   "outputs": [],
   "source": [
    "rescale_values = {\"max\":items[list(items.keys())[0]][\"assets\"][asset_name][\"raster:bands\"][0][\"histogram\"][\"max\"], \"min\":items[list(items.keys())[0]][\"assets\"][asset_name][\"raster:bands\"][0][\"histogram\"][\"min\"]}"
   ]
  },
  {
   "cell_type": "markdown",
   "id": "8b38ebba",
   "metadata": {},
   "source": [
    "Now, we will pass the item id, collection name, asset name, and the `rescaling factor` to the `Raster API` endpoint. We will do this twice, once for 2021 and again for 2010, so that we can visualize each event independently.\n"
   ]
  },
  {
   "cell_type": "code",
   "execution_count": null,
   "id": "27b31984-ac8e-473f-ba2d-eb309c9708c1",
   "metadata": {},
   "outputs": [],
   "source": [
    "color_map = \"spectral_r\" # please refer to matplotlib library if you'd prefer choosing a different color ramp.\n",
    "# For more information on Colormaps in Matplotlib, please visit https://matplotlib.org/stable/users/explain/colors/colormaps.html\n",
    "\n",
    "# To change the year and month of the observed parameter, you can modify the \"items['YYYY-MM']\" statement\n",
    "# For example, you can change the current statement \"items['2003-12']\" to \"items['2016-10']\" \n",
    "_2021_tile = requests.get(\n",
    "    f\"{RASTER_API_URL}/collections/{items['2021']['collection']}/items/{items['2021']['id']}/tilejson.json?\"\n",
    "\n",
    "    f\"&assets={asset_name}\"\n",
    "    f\"&color_formula=gamma+r+1.05&colormap_name={color_map}\"\n",
    "    f\"&rescale=0,150\", \n",
    ").json()\n",
    "_2021_tile"
   ]
  },
  {
   "cell_type": "code",
   "execution_count": null,
   "id": "80f5933d",
   "metadata": {},
   "outputs": [],
   "source": [
    "_2010_tile = requests.get(\n",
    "    f\"{RASTER_API_URL}/collections/{items['2010']['collection']}/items/{items['2010']['id']}/tilejson.json?collection={items['2010']['collection']}&item={items['2010']['id']}\"\n",
    "\n",
    "    f\"&assets={asset_name}\"\n",
    "    f\"&color_formula=gamma+r+1.05&colormap_name={color_map}\"\n",
    "    f\"&rescale=0,150\", \n",
    ").json()\n",
    "_2010_tile"
   ]
  },
  {
   "cell_type": "markdown",
   "id": "1c9874c7",
   "metadata": {},
   "source": [
    "## Visualizing Total Fossil Fuel CO₂ Emissions\n"
   ]
  },
  {
   "cell_type": "code",
   "execution_count": null,
   "id": "6cf3c0f1-8d39-4cdd-96c7-96e6229c1584",
   "metadata": {},
   "outputs": [],
   "source": [
    "map_ = folium.plugins.DualMap(location=(34, -118), zoom_start=6)\n",
    "\n",
    "\n",
    "# Define the first map layer with the CO2 Flux data for December 2022\n",
    "map_layer_2021 = TileLayer(\n",
    "    tiles=_2021_tile[\"tiles\"][0], # Path to retrieve the tile\n",
    "    attr=\"GHG\", # Set the attribution \n",
    "    name='2021 Total CO2 Fossil Fuel Emissions', # Title for the layer\n",
    "    overlay=True, # The layer can be overlaid on the map\n",
    "    opacity=0.8, # Adjust the transparency of the layer\n",
    ")\n",
    "# Add the first layer to the Dual Map \n",
    "map_layer_2021.add_to(map_.m1)\n",
    "\n",
    "map_layer_2010 = TileLayer(\n",
    "    tiles=_2010_tile[\"tiles\"][0], # Path to retrieve the tile\n",
    "    attr=\"GHG\", # Set the attribution \n",
    "    name='2010 Total CO2 Fossil Fuel Emissions', # Title for the layer\n",
    "    overlay=True, # The layer can be overlaid on the map\n",
    "    opacity=0.8, # Adjust the transparency of the layer\n",
    ")\n",
    "# Add the first layer to the Dual Map \n",
    "map_layer_2010.add_to(map_.m2)\n",
    "\n",
    "map_"
   ]
  },
  {
   "cell_type": "markdown",
   "id": "3a00b691",
   "metadata": {},
   "source": [
    "# Calculating Zonal Statistics\n",
    "\n",
    "To perform zonal statistics, first we need to create a polygon. In this use case we are creating a polygon in Texas (USA).\n"
   ]
  },
  {
   "cell_type": "code",
   "execution_count": 15,
   "id": "8f1c5e47",
   "metadata": {},
   "outputs": [],
   "source": [
    "# Create a polygon for the area of interest (aoi)\n",
    "texas_aoi = {\n",
    "    \"type\": \"Feature\", # Create a feature object\n",
    "    \"properties\": {},\n",
    "    \"geometry\": { # Set the bounding coordinates for the polygon\n",
    "        \"coordinates\": [\n",
    "            [\n",
    "                [-95, 29], # South-east bounding coordinate\n",
    "                [-95, 33], # North-east bounding coordinate\n",
    "                [-104,33], # North-west bounding coordinate\n",
    "                [-104,29], # South-west bounding coordinate\n",
    "                [-95, 29]  # South-east bounding coordinate (closing the polygon)\n",
    "            ]\n",
    "        ],\n",
    "        \"type\": \"Polygon\",\n",
    "    },\n",
    "}"
   ]
  },
  {
   "cell_type": "code",
   "execution_count": null,
   "id": "65d66484",
   "metadata": {},
   "outputs": [],
   "source": [
    "# Create a new map to display the generated polygon\n",
    "# We'll plug in the coordinates for a location\n",
    "# Central to the study area and a reasonable zoom level\n",
    "aoi_map = Map(\n",
    "\n",
    "    # Base map is set to OpenStreetMap\n",
    "    tiles=\"OpenStreetMap\",\n",
    "\n",
    "    # Define the spatial properties for the map\n",
    "    location=[\n",
    "        30,-100\n",
    "    ],\n",
    "\n",
    "    # Set the zoom value\n",
    "    zoom_start=6,\n",
    ")\n",
    "\n",
    "# Insert the polygon to the map\n",
    "folium.GeoJson(texas_aoi, name=\"Texas, USA\").add_to(aoi_map)\n",
    "\n",
    "# Visualize the map\n",
    "aoi_map"
   ]
  },
  {
   "cell_type": "code",
   "execution_count": null,
   "id": "7b0cf1d8",
   "metadata": {},
   "outputs": [],
   "source": [
    "# Check total number of items available within the collection\n",
    "items = requests.get(\n",
    "    f\"{STAC_API_URL}/collections/{collection_name}/items?limit=600\"\n",
    ").json()[\"features\"]\n",
    "\n",
    "# Print the total number of items (granules) found\n",
    "print(f\"Found {len(items)} items\")"
   ]
  },
  {
   "cell_type": "code",
   "execution_count": null,
   "id": "960fc2da",
   "metadata": {},
   "outputs": [],
   "source": [
    "# Examine the first item in the collection\n",
    "items[0]"
   ]
  },
  {
   "cell_type": "markdown",
   "id": "04498e7b",
   "metadata": {},
   "source": [
    "Now that we created the polygon for the area of interest, we need to develop a function that runs through the data collection and generates the statistics for a specific item (granule) within the boundaries of the AOI polygon.\n"
   ]
  },
  {
   "cell_type": "code",
   "execution_count": 19,
   "id": "8c7dcae7",
   "metadata": {},
   "outputs": [],
   "source": [
    "# The bounding box should be passed to the geojson param as a geojson Feature or FeatureCollection\n",
    "# Create a function that retrieves information regarding a specific granule using its asset name and raster identifier and generates the statistics for it\n",
    "\n",
    "# The function takes an item (granule) and a JSON (polygon) as input parameters\n",
    "def generate_stats(item, geojson):\n",
    "\n",
    "    # A POST request is made to submit the data associated with the item of interest (specific observation) within the boundaries of the polygon to compute its statistics\n",
    "    result = requests.post(\n",
    "\n",
    "        # Raster API Endpoint for computing statistics\n",
    "        f\"{RASTER_API_URL}/cog/statistics\",\n",
    "\n",
    "        # Pass the URL to the item, asset name, and raster identifier as parameters\n",
    "        params={\"url\": item[\"assets\"][asset_name][\"href\"]},\n",
    "\n",
    "        # Send the GeoJSON object (polygon) along with the request\n",
    "        json=geojson,\n",
    "\n",
    "    # Return the response in JSON format\n",
    "    ).json()\n",
    "\n",
    "    # Print the result\n",
    "    print(result)\n",
    "\n",
    "    # Return a dictionary containing the computed statistics along with the item's datetime information.\n",
    "    return {\n",
    "        **result[\"properties\"],\n",
    "        \"datetime\": item[\"properties\"][\"start_datetime\"][:10],\n",
    "    }"
   ]
  },
  {
   "cell_type": "code",
   "execution_count": null,
   "id": "d3666ccb",
   "metadata": {},
   "outputs": [],
   "source": [
    "# Generate a for loop that iterates over all the existing items in the collection\n",
    "for item in items:\n",
    "\n",
    "    # The loop will then retrieve the information for the start datetime of each item in the list\n",
    "    print(item[\"properties\"][\"start_datetime\"][:10])\n",
    "\n",
    "    # Exit the loop after printing the start datetime for the first item in the collection\n",
    "    break"
   ]
  },
  {
   "cell_type": "markdown",
   "id": "ca7e79ef",
   "metadata": {},
   "source": [
    "With the function above we can generate the statistics for the AOI.\n"
   ]
  },
  {
   "cell_type": "code",
   "execution_count": null,
   "id": "fce6ec4a",
   "metadata": {},
   "outputs": [],
   "source": [
    "%%time\n",
    "# %%time = Wall time (execution time) for running the code below\n",
    "\n",
    "# Generate statistics using the created function \"generate_stats\" within the bounding box defined by the polygon\n",
    "stats = [generate_stats(item, texas_aoi) for item in items]"
   ]
  },
  {
   "cell_type": "markdown",
   "id": "c3307f70",
   "metadata": {},
   "source": [
    "Create a function that goes through every single item in the collection and populates their properties - including the minimum, maximum, and sum of their values - in a table.\n"
   ]
  },
  {
   "cell_type": "code",
   "execution_count": null,
   "id": "ee0e9a7e",
   "metadata": {},
   "outputs": [],
   "source": [
    "# Print the stats for the first item in the collection\n",
    "stats[0]"
   ]
  },
  {
   "cell_type": "code",
   "execution_count": null,
   "id": "d6b249ee",
   "metadata": {},
   "outputs": [],
   "source": [
    "# Create a function that converts statistics in JSON format into a pandas DataFrame\n",
    "def clean_stats(stats_json) -> pd.DataFrame:\n",
    "\n",
    "    # Normalize the JSON data\n",
    "    df = pd.json_normalize(stats_json)\n",
    "\n",
    "    # Replace the naming \"statistics.b1\" in the columns\n",
    "    df.columns = [col.replace(\"statistics.b1.\", \"\") for col in df.columns]\n",
    "\n",
    "    # Set the datetime format\n",
    "    df[\"date\"] = pd.to_datetime(df[\"datetime\"])\n",
    "\n",
    "    # Return the cleaned format\n",
    "    return df\n",
    "\n",
    "# Apply the generated function on the stats data\n",
    "df = clean_stats(stats)\n",
    "\n",
    "# Display the stats for the first 5 granules in the collection in the table\n",
    "# Change the value in the parenthesis to show more or a smaller number of rows in the table\n",
    "df.head(5)"
   ]
  },
  {
   "cell_type": "markdown",
   "id": "b5459c6d",
   "metadata": {},
   "source": [
    "## Visualizing the Data as a Time Series\n",
    "\n",
    "We can now explore the total fossil fuel emission time series (2010 -2021) available for the Dallas, Texas area of the U.S. We can plot the data set using the code below:\n"
   ]
  },
  {
   "cell_type": "code",
   "execution_count": null,
   "id": "ec61db4a",
   "metadata": {},
   "outputs": [],
   "source": [
    "# Figure size: 20 representing the width, 10 representing the height\n",
    "fig = plt.figure(figsize=(20, 10))\n",
    "\n",
    "plt.plot(\n",
    "    df[\"datetime\"], # X-axis: sorted datetime\n",
    "    df[\"max\"], # Y-axis: maximum CO₂\n",
    "    color=\"red\", # Line color\n",
    "    linestyle=\"-\", # Line style\n",
    "    linewidth=0.5, # Line width\n",
    "    label=\"CO₂ emissions\", # Legend label\n",
    ")\n",
    "\n",
    "# Display legend\n",
    "plt.legend()\n",
    "\n",
    "# Insert label for the X-axis\n",
    "plt.xlabel(\"Years\")\n",
    "\n",
    "# Insert label for the Y-axis\n",
    "plt.ylabel(\"tC/km²/year\")\n",
    "plt.xticks(rotation = 90)\n",
    "\n",
    "# Insert title for the plot\n",
    "plt.title(\"Total Fossil Fuel CO₂ Emissions for Texas, Dallas (2010-2021)\")\n",
    "\n",
    "# Add data citation\n",
    "plt.text(\n",
    "    df[\"datetime\"].iloc[0],           # X-coordinate of the text\n",
    "    df[\"max\"].min(),                  # Y-coordinate of the text\n",
    "\n",
    "\n",
    "\n",
    "\n",
    "    # Text to be displayed\n",
    "    \"Source: https://doi.org/10.3334/ORNLDAAC/1741\",                  \n",
    "    fontsize=12,                             # Font size\n",
    "    horizontalalignment=\"left\",              # Horizontal alignment\n",
    "    verticalalignment=\"top\",                 # Vertical alignment\n",
    "    color=\"blue\",                            # Text color\n",
    ")\n",
    "\n",
    "\n",
    "# Plot the time series\n",
    "plt.show()"
   ]
  },
  {
   "cell_type": "markdown",
   "id": "a76ec4e6",
   "metadata": {},
   "source": [
    "## Summary\n",
    "\n",
    "In this notebook we have successfully explored, analyzed, and visualized the STAC collection for Vulcan Fossil Fuel CO₂ Emissions, Version 4 dataset.\n",
    "\n",
    "1.  Install and import the necessary libraries\n",
    "2.  Fetch the collection from STAC collections using the appropriate endpoints\n",
    "3.  Count the number of existing granules within the collection\n",
    "4.  Map and compare the total fossil fuel CO₂ emissions for two distinctive months/years\n",
    "5.  Generate zonal statistics for the area of interest (AOI)\n",
    "6.  Visualizing the Data as a Time Series\n",
    "\n",
    "If you have any questions regarding this user notebook, please contact us using the [feedback form](https://docs.google.com/forms/d/e/1FAIpQLSeVWCrnca08Gt_qoWYjTo6gnj1BEGL4NCUC9VEiQnXA02gzVQ/viewform).\n"
   ]
  }
 ],
 "metadata": {
  "kernelspec": {
   "display_name": "Python 3 (ipykernel)",
   "language": "python",
   "name": "python3"
  },
  "language_info": {
   "codemirror_mode": {
    "name": "ipython",
    "version": 3
   },
   "file_extension": ".py",
   "mimetype": "text/x-python",
   "name": "python",
   "nbconvert_exporter": "python",
   "pygments_lexer": "ipython3",
   "version": "3.9.6"
  }
 },
 "nbformat": 4,
 "nbformat_minor": 5
}
