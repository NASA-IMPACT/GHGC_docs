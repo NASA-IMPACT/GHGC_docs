{
 "cells": [
  {
   "cell_type": "raw",
   "metadata": {},
   "source": [
    "---\n",
    "title: \"SEDAC Gridded World Population Density\"\n",
    "description: Global, 1 km resolution human population density estimates based on national censuses and population registers, version 4.11.\n",
    "author: Siddharth Chaudhary, Vishal Gaur\n",
    "date: 29 June 2023\n",
    "execute:\n",
    "   freeze: true\n",
    "---"
   ]
  },
  {
   "attachments": {},
   "cell_type": "markdown",
   "metadata": {},
   "source": [
    "## Approach\n",
    "\n",
    "   1. Identify available dates and temporal frequency of observations for the given collection using the GHGC API `/stac` endpoint. Collection processed in this notebook is SEDAC gridded population density.\n",
    "   2. Pass the STAC item into raster API `/stac/tilejson.json` endpoint\n",
    "   3. We'll visualize two tiles (side-by-side) allowing for comparison of each of the time points using `folium.plugins.DualMap`\n",
    "   4. After the visualization, we'll perform zonal statistics for a given polygon.\n",
    "   "
   ]
  },
  {
   "attachments": {},
   "cell_type": "markdown",
   "metadata": {},
   "source": [
    "## About the Data\n",
    "\n",
    "The SEDAC Gridded Population of the World: Population Density, v4.11 dataset provides annual estimates of population density for the years 2000, 2005, 2010, 2015, and 2020 on a 30 arc-second (~1 km) grid. These data can be used for assessing disaster impacts, risk mapping, and any other applications that include a human dimension. This population density dataset is provided by NASA’s Socioeconomic Data and Applications Center (SEDAC) hosted by the Center for International Earth Science Information Network (CIESIN) at Columbia University. The population estimates are provided as a continuous raster for the entire globe."
   ]
  },
  {
   "attachments": {},
   "cell_type": "markdown",
   "metadata": {},
   "source": [
    "# Installing the Required Libraries.\n",
    "Please run the next cell to install all the required libraries to run the notebook."
   ]
  },
  {
   "cell_type": "code",
   "execution_count": 1,
   "metadata": {},
   "outputs": [
    {
     "name": "stdout",
     "output_type": "stream",
     "text": [
      "Requirement already satisfied: requests in /Users/vgaur/miniconda3/envs/cmip6/lib/python3.9/site-packages (2.31.0)\n",
      "Requirement already satisfied: charset-normalizer<4,>=2 in /Users/vgaur/miniconda3/envs/cmip6/lib/python3.9/site-packages (from requests) (3.1.0)\n",
      "Requirement already satisfied: urllib3<3,>=1.21.1 in /Users/vgaur/miniconda3/envs/cmip6/lib/python3.9/site-packages (from requests) (1.26.16)\n",
      "Requirement already satisfied: certifi>=2017.4.17 in /Users/vgaur/miniconda3/envs/cmip6/lib/python3.9/site-packages (from requests) (2023.7.22)\n",
      "Requirement already satisfied: idna<4,>=2.5 in /Users/vgaur/miniconda3/envs/cmip6/lib/python3.9/site-packages (from requests) (3.4)\n",
      "Note: you may need to restart the kernel to use updated packages.\n",
      "Requirement already satisfied: folium in /Users/vgaur/miniconda3/envs/cmip6/lib/python3.9/site-packages (0.14.0)\n",
      "Requirement already satisfied: branca>=0.6.0 in /Users/vgaur/miniconda3/envs/cmip6/lib/python3.9/site-packages (from folium) (0.6.0)\n",
      "Requirement already satisfied: numpy in /Users/vgaur/miniconda3/envs/cmip6/lib/python3.9/site-packages (from folium) (1.24.3)\n",
      "Requirement already satisfied: requests in /Users/vgaur/miniconda3/envs/cmip6/lib/python3.9/site-packages (from folium) (2.31.0)\n",
      "Requirement already satisfied: jinja2>=2.9 in /Users/vgaur/miniconda3/envs/cmip6/lib/python3.9/site-packages (from folium) (3.1.2)\n",
      "Requirement already satisfied: MarkupSafe>=2.0 in /Users/vgaur/miniconda3/envs/cmip6/lib/python3.9/site-packages (from jinja2>=2.9->folium) (2.1.3)\n",
      "Requirement already satisfied: idna<4,>=2.5 in /Users/vgaur/miniconda3/envs/cmip6/lib/python3.9/site-packages (from requests->folium) (3.4)\n",
      "Requirement already satisfied: certifi>=2017.4.17 in /Users/vgaur/miniconda3/envs/cmip6/lib/python3.9/site-packages (from requests->folium) (2023.7.22)\n",
      "Requirement already satisfied: charset-normalizer<4,>=2 in /Users/vgaur/miniconda3/envs/cmip6/lib/python3.9/site-packages (from requests->folium) (3.1.0)\n",
      "Requirement already satisfied: urllib3<3,>=1.21.1 in /Users/vgaur/miniconda3/envs/cmip6/lib/python3.9/site-packages (from requests->folium) (1.26.16)\n",
      "Note: you may need to restart the kernel to use updated packages.\n",
      "Requirement already satisfied: rasterstats in /Users/vgaur/miniconda3/envs/cmip6/lib/python3.9/site-packages (0.19.0)\n",
      "Requirement already satisfied: click>7.1 in /Users/vgaur/miniconda3/envs/cmip6/lib/python3.9/site-packages (from rasterstats) (8.1.3)\n",
      "Requirement already satisfied: numpy>=1.9 in /Users/vgaur/miniconda3/envs/cmip6/lib/python3.9/site-packages (from rasterstats) (1.24.3)\n",
      "Requirement already satisfied: simplejson in /Users/vgaur/miniconda3/envs/cmip6/lib/python3.9/site-packages (from rasterstats) (3.19.1)\n",
      "Requirement already satisfied: cligj>=0.4 in /Users/vgaur/miniconda3/envs/cmip6/lib/python3.9/site-packages (from rasterstats) (0.7.2)\n",
      "Requirement already satisfied: fiona in /Users/vgaur/miniconda3/envs/cmip6/lib/python3.9/site-packages (from rasterstats) (1.9.4.post1)\n",
      "Requirement already satisfied: affine in /Users/vgaur/miniconda3/envs/cmip6/lib/python3.9/site-packages (from rasterstats) (2.4.0)\n",
      "Requirement already satisfied: rasterio>=1.0 in /Users/vgaur/miniconda3/envs/cmip6/lib/python3.9/site-packages (from rasterstats) (1.3.6)\n",
      "Requirement already satisfied: shapely in /Users/vgaur/miniconda3/envs/cmip6/lib/python3.9/site-packages (from rasterstats) (2.0.1)\n",
      "Requirement already satisfied: click-plugins in /Users/vgaur/miniconda3/envs/cmip6/lib/python3.9/site-packages (from rasterio>=1.0->rasterstats) (1.1.1)\n",
      "Requirement already satisfied: setuptools in /Users/vgaur/miniconda3/envs/cmip6/lib/python3.9/site-packages (from rasterio>=1.0->rasterstats) (66.0.0)\n",
      "Requirement already satisfied: snuggs>=1.4.1 in /Users/vgaur/miniconda3/envs/cmip6/lib/python3.9/site-packages (from rasterio>=1.0->rasterstats) (1.4.7)\n",
      "Requirement already satisfied: attrs in /Users/vgaur/miniconda3/envs/cmip6/lib/python3.9/site-packages (from rasterio>=1.0->rasterstats) (22.2.0)\n",
      "Requirement already satisfied: certifi in /Users/vgaur/miniconda3/envs/cmip6/lib/python3.9/site-packages (from rasterio>=1.0->rasterstats) (2023.7.22)\n",
      "Requirement already satisfied: importlib-metadata in /Users/vgaur/miniconda3/envs/cmip6/lib/python3.9/site-packages (from fiona->rasterstats) (6.0.0)\n",
      "Requirement already satisfied: six in /Users/vgaur/miniconda3/envs/cmip6/lib/python3.9/site-packages (from fiona->rasterstats) (1.16.0)\n",
      "Requirement already satisfied: pyparsing>=2.1.6 in /Users/vgaur/miniconda3/envs/cmip6/lib/python3.9/site-packages (from snuggs>=1.4.1->rasterio>=1.0->rasterstats) (3.0.9)\n",
      "Requirement already satisfied: zipp>=0.5 in /Users/vgaur/miniconda3/envs/cmip6/lib/python3.9/site-packages (from importlib-metadata->fiona->rasterstats) (3.15.0)\n",
      "Note: you may need to restart the kernel to use updated packages.\n",
      "Requirement already satisfied: pystac_client in /Users/vgaur/miniconda3/envs/cmip6/lib/python3.9/site-packages (0.7.2)\n",
      "Requirement already satisfied: python-dateutil>=2.8.2 in /Users/vgaur/miniconda3/envs/cmip6/lib/python3.9/site-packages (from pystac_client) (2.8.2)\n",
      "Requirement already satisfied: pystac[validation]>=1.7.2 in /Users/vgaur/miniconda3/envs/cmip6/lib/python3.9/site-packages (from pystac_client) (1.7.3)\n",
      "Requirement already satisfied: requests>=2.28.2 in /Users/vgaur/miniconda3/envs/cmip6/lib/python3.9/site-packages (from pystac_client) (2.31.0)\n",
      "Requirement already satisfied: jsonschema>=4.0.1 in /Users/vgaur/miniconda3/envs/cmip6/lib/python3.9/site-packages (from pystac[validation]>=1.7.2->pystac_client) (4.17.3)\n",
      "Requirement already satisfied: six>=1.5 in /Users/vgaur/miniconda3/envs/cmip6/lib/python3.9/site-packages (from python-dateutil>=2.8.2->pystac_client) (1.16.0)\n",
      "Requirement already satisfied: certifi>=2017.4.17 in /Users/vgaur/miniconda3/envs/cmip6/lib/python3.9/site-packages (from requests>=2.28.2->pystac_client) (2023.7.22)\n",
      "Requirement already satisfied: idna<4,>=2.5 in /Users/vgaur/miniconda3/envs/cmip6/lib/python3.9/site-packages (from requests>=2.28.2->pystac_client) (3.4)\n",
      "Requirement already satisfied: charset-normalizer<4,>=2 in /Users/vgaur/miniconda3/envs/cmip6/lib/python3.9/site-packages (from requests>=2.28.2->pystac_client) (3.1.0)\n",
      "Requirement already satisfied: urllib3<3,>=1.21.1 in /Users/vgaur/miniconda3/envs/cmip6/lib/python3.9/site-packages (from requests>=2.28.2->pystac_client) (1.26.16)\n",
      "Requirement already satisfied: pyrsistent!=0.17.0,!=0.17.1,!=0.17.2,>=0.14.0 in /Users/vgaur/miniconda3/envs/cmip6/lib/python3.9/site-packages (from jsonschema>=4.0.1->pystac[validation]>=1.7.2->pystac_client) (0.19.3)\n",
      "Requirement already satisfied: attrs>=17.4.0 in /Users/vgaur/miniconda3/envs/cmip6/lib/python3.9/site-packages (from jsonschema>=4.0.1->pystac[validation]>=1.7.2->pystac_client) (22.2.0)\n",
      "Note: you may need to restart the kernel to use updated packages.\n"
     ]
    }
   ],
   "source": [
    "%pip install requests\n",
    "%pip install folium\n",
    "%pip install rasterstats\n",
    "%pip install pystac_client"
   ]
  },
  {
   "attachments": {},
   "cell_type": "markdown",
   "metadata": {},
   "source": [
    "## Querying the STAC API"
   ]
  },
  {
   "cell_type": "code",
   "execution_count": 2,
   "metadata": {},
   "outputs": [],
   "source": [
    "import requests\n",
    "from folium import Map, TileLayer\n",
    "from pystac_client import Client"
   ]
  },
  {
   "cell_type": "code",
   "execution_count": 3,
   "metadata": {},
   "outputs": [],
   "source": [
    "# Provide STAC and RASTER API endpoints\n",
    "STAC_API_URL = \"http://ghg.center/api/stac\"\n",
    "RASTER_API_URL = \"https://ghg.center/api/raster\"\n",
    "\n",
    "#Please use the collection name similar to the one used in STAC collection.\n",
    "# Name of the collection for SEDAC population density dataset. \n",
    "collection_name = \"sedac-popdensity-yeargrid5yr-v4.11\""
   ]
  },
  {
   "cell_type": "code",
   "execution_count": 4,
   "metadata": {},
   "outputs": [
    {
     "data": {
      "text/plain": [
       "{'id': 'sedac-popdensity-yeargrid5yr-v4.11',\n",
       " 'type': 'Collection',\n",
       " 'links': [{'rel': 'items',\n",
       "   'type': 'application/geo+json',\n",
       "   'href': 'https://ghg.center/api/stac/collections/sedac-popdensity-yeargrid5yr-v4.11/items'},\n",
       "  {'rel': 'parent',\n",
       "   'type': 'application/json',\n",
       "   'href': 'https://ghg.center/api/stac/'},\n",
       "  {'rel': 'root',\n",
       "   'type': 'application/json',\n",
       "   'href': 'https://ghg.center/api/stac/'},\n",
       "  {'rel': 'self',\n",
       "   'type': 'application/json',\n",
       "   'href': 'https://ghg.center/api/stac/collections/sedac-popdensity-yeargrid5yr-v4.11'}],\n",
       " 'title': 'SEDAC Gridded World Population Data',\n",
       " 'assets': None,\n",
       " 'extent': {'spatial': {'bbox': [[-180, -90, 180, 90]]},\n",
       "  'temporal': {'interval': [['2000-01-01T00:00:00+00:00',\n",
       "     '2020-12-31T00:00:00+00:00']]}},\n",
       " 'license': 'CC-BY-4.0',\n",
       " 'keywords': None,\n",
       " 'providers': None,\n",
       " 'summaries': {'datetime': ['2000-01-01T00:00:00Z',\n",
       "   '2005-01-01T00:00:00Z',\n",
       "   '2010-01-01T00:00:00Z',\n",
       "   '2015-01-01T00:00:00Z',\n",
       "   '2020-01-01T00:00:00Z']},\n",
       " 'description': 'The Gridded Population of the World, Version 4 (GPWv4): Population Density, Revision 11 consists of estimates of human population density (number of persons per square kilometer) based on counts consistent with national censuses and population registers, for the years 2000, 2005, 2010, 2015, and 2020. ',\n",
       " 'item_assets': {'population-density': {'type': 'image/tiff; application=geotiff; profile=cloud-optimized',\n",
       "   'roles': ['data', 'layer'],\n",
       "   'title': 'Population density',\n",
       "   'description': 'Provides estimates of population density based on counts consistent with national censuses and population registers'}},\n",
       " 'stac_version': '1.0.0',\n",
       " 'stac_extensions': None,\n",
       " 'dashboard:is_periodic': False,\n",
       " 'dashboard:time_density': 'year'}"
      ]
     },
     "execution_count": 4,
     "metadata": {},
     "output_type": "execute_result"
    }
   ],
   "source": [
    "# Fetching the collection from STAC collections using appropriate endpoint.\n",
    "collection = requests.get(f\"{STAC_API_URL}/collections/{collection_name}\").json()\n",
    "collection"
   ]
  },
  {
   "attachments": {},
   "cell_type": "markdown",
   "metadata": {},
   "source": [
    "Examining the contents of our `collection` under `summaries` we see that the data is available from January 2000 to December 2020. By looking at the `dashboard:time density` we observe that the data is available for the years 2000, 2005, 2010, 2015, 2020. "
   ]
  },
  {
   "cell_type": "code",
   "execution_count": 5,
   "metadata": {},
   "outputs": [],
   "source": [
    "def get_item_count(collection_id):\n",
    "    count = 0\n",
    "    items_url = f\"{STAC_API_URL}/collections/{collection_id}/items\"\n",
    "\n",
    "    while True:\n",
    "        response = requests.get(items_url)\n",
    "\n",
    "        if not response.ok:\n",
    "            print(\"error getting items\")\n",
    "            exit()\n",
    "\n",
    "        stac = response.json()\n",
    "        count += int(stac[\"context\"].get(\"returned\", 0))\n",
    "        next = [link for link in stac[\"links\"] if link[\"rel\"] == \"next\"]\n",
    "\n",
    "        if not next:\n",
    "            break\n",
    "        items_url = next[0][\"href\"]\n",
    "\n",
    "    return count"
   ]
  },
  {
   "cell_type": "code",
   "execution_count": 6,
   "metadata": {},
   "outputs": [
    {
     "name": "stdout",
     "output_type": "stream",
     "text": [
      "Found 5 items\n"
     ]
    }
   ],
   "source": [
    "# Check total number of items available\n",
    "number_of_items = get_item_count(collection_name)\n",
    "items = requests.get(f\"{STAC_API_URL}/collections/{collection_name}/items?limit={number_of_items}\").json()[\"features\"]\n",
    "print(f\"Found {len(items)} items\")"
   ]
  },
  {
   "cell_type": "code",
   "execution_count": 7,
   "metadata": {},
   "outputs": [
    {
     "data": {
      "text/plain": [
       "{'id': 'sedac-popdensity-yeargrid5yr-v4.11-2020',\n",
       " 'bbox': [-180.0, -90.0, 179.99999999999983, 89.99999999999991],\n",
       " 'type': 'Feature',\n",
       " 'links': [{'rel': 'collection',\n",
       "   'type': 'application/json',\n",
       "   'href': 'https://ghg.center/api/stac/collections/sedac-popdensity-yeargrid5yr-v4.11'},\n",
       "  {'rel': 'parent',\n",
       "   'type': 'application/json',\n",
       "   'href': 'https://ghg.center/api/stac/collections/sedac-popdensity-yeargrid5yr-v4.11'},\n",
       "  {'rel': 'root',\n",
       "   'type': 'application/json',\n",
       "   'href': 'https://ghg.center/api/stac/'},\n",
       "  {'rel': 'self',\n",
       "   'type': 'application/geo+json',\n",
       "   'href': 'https://ghg.center/api/stac/collections/sedac-popdensity-yeargrid5yr-v4.11/items/sedac-popdensity-yeargrid5yr-v4.11-2020'}],\n",
       " 'assets': {'population-density': {'href': 's3://ghgc-data-store/sedac-popdensity-yeargrid5yr-v4.11/gpw_v4_population_density_rev11_2020_30_sec_2020.tif',\n",
       "   'type': 'image/tiff; application=geotiff; profile=cloud-optimized',\n",
       "   'roles': ['data', 'layer'],\n",
       "   'title': 'Population density',\n",
       "   'proj:bbox': [-180.0, -90.0, 179.99999999999983, 89.99999999999991],\n",
       "   'proj:epsg': 4326.0,\n",
       "   'proj:shape': [21600.0, 43200.0],\n",
       "   'description': 'Provides estimates of population density based on counts consistent with national censuses and population registers',\n",
       "   'raster:bands': [{'scale': 1.0,\n",
       "     'nodata': -3.4028230607370965e+38,\n",
       "     'offset': 0.0,\n",
       "     'sampling': 'area',\n",
       "     'data_type': 'float32',\n",
       "     'histogram': {'max': 30795.859375,\n",
       "      'min': -1505.7174072265625,\n",
       "      'count': 11.0,\n",
       "      'buckets': [129008.0, 362.0, 52.0, 22.0, 7.0, 2.0, 2.0, 0.0, 1.0, 1.0]},\n",
       "     'statistics': {'mean': 55.30964721876762,\n",
       "      'stddev': 319.5376065398882,\n",
       "      'maximum': 30795.859375,\n",
       "      'minimum': -1505.7174072265625,\n",
       "      'valid_percent': 24.69196319580078}}],\n",
       "   'proj:geometry': {'type': 'Polygon',\n",
       "    'coordinates': [[[-180.0, -90.0],\n",
       "      [179.99999999999983, -90.0],\n",
       "      [179.99999999999983, 89.99999999999991],\n",
       "      [-180.0, 89.99999999999991],\n",
       "      [-180.0, -90.0]]]},\n",
       "   'proj:projjson': {'id': {'code': 4326.0, 'authority': 'EPSG'},\n",
       "    'name': 'WGS 84',\n",
       "    'type': 'GeographicCRS',\n",
       "    'datum': {'name': 'World Geodetic System 1984',\n",
       "     'type': 'GeodeticReferenceFrame',\n",
       "     'ellipsoid': {'name': 'WGS 84',\n",
       "      'semi_major_axis': 6378137.0,\n",
       "      'inverse_flattening': 298.257223563}},\n",
       "    '$schema': 'https://proj.org/schemas/v0.4/projjson.schema.json',\n",
       "    'coordinate_system': {'axis': [{'name': 'Geodetic latitude',\n",
       "       'unit': 'degree',\n",
       "       'direction': 'north',\n",
       "       'abbreviation': 'Lat'},\n",
       "      {'name': 'Geodetic longitude',\n",
       "       'unit': 'degree',\n",
       "       'direction': 'east',\n",
       "       'abbreviation': 'Lon'}],\n",
       "     'subtype': 'ellipsoidal'}},\n",
       "   'proj:transform': [0.00833333333333333,\n",
       "    0.0,\n",
       "    -180.0,\n",
       "    0.0,\n",
       "    -0.00833333333333333,\n",
       "    89.99999999999991,\n",
       "    0.0,\n",
       "    0.0,\n",
       "    1.0]}},\n",
       " 'geometry': {'type': 'Polygon',\n",
       "  'coordinates': [[[-180, -90],\n",
       "    [179.99999999999983, -90],\n",
       "    [179.99999999999983, 89.99999999999991],\n",
       "    [-180, 89.99999999999991],\n",
       "    [-180, -90]]]},\n",
       " 'collection': 'sedac-popdensity-yeargrid5yr-v4.11',\n",
       " 'properties': {'end_datetime': '2020-12-31T00:00:00+00:00',\n",
       "  'start_datetime': '2020-01-01T00:00:00+00:00'},\n",
       " 'stac_version': '1.0.0',\n",
       " 'stac_extensions': []}"
      ]
     },
     "execution_count": 7,
     "metadata": {},
     "output_type": "execute_result"
    }
   ],
   "source": [
    "items[0]"
   ]
  },
  {
   "attachments": {},
   "cell_type": "markdown",
   "metadata": {},
   "source": [
    "Below, we are entering the minimum and maximum values to provide our upper and lower bounds in `rescale_values`."
   ]
  },
  {
   "attachments": {},
   "cell_type": "markdown",
   "metadata": {},
   "source": [
    "## Exploring Changes in the World Population Density using the Raster API\n",
    "\n",
    "We will explore changes in population density in urban regions. In this notebook, we'll explore the changes in population density over time. We'll then visualize the outputs on a map using `folium`. "
   ]
  },
  {
   "cell_type": "code",
   "execution_count": 8,
   "metadata": {},
   "outputs": [],
   "source": [
    "# to access the year value from each item more easily, this will let us query more explicity by year and month (e.g., 2020-02)\n",
    "items = {item[\"properties\"][\"start_datetime\"][:7]: item for item in items} \n",
    "asset_name = \"population-density\""
   ]
  },
  {
   "cell_type": "code",
   "execution_count": 9,
   "metadata": {},
   "outputs": [],
   "source": [
    "rescale_values = {\"max\":items[list(items.keys())[0]][\"assets\"][asset_name][\"raster:bands\"][0][\"histogram\"][\"max\"], \"min\":items[list(items.keys())[0]][\"assets\"][asset_name][\"raster:bands\"][0][\"histogram\"][\"min\"]}"
   ]
  },
  {
   "attachments": {},
   "cell_type": "markdown",
   "metadata": {},
   "source": [
    "Now we will pass the item id, collection name, and `rescaling_factor` to the `Raster API` endpoint. We will do this twice, once for January 2000 and again for January 2020, so that we can visualize each event independently. "
   ]
  },
  {
   "cell_type": "code",
   "execution_count": 10,
   "metadata": {},
   "outputs": [
    {
     "data": {
      "text/plain": [
       "{'tilejson': '2.2.0',\n",
       " 'version': '1.0.0',\n",
       " 'scheme': 'xyz',\n",
       " 'tiles': ['https://ghg.center/api/raster/stac/tiles/WebMercatorQuad/{z}/{x}/{y}@1x?collection=sedac-popdensity-yeargrid5yr-v4.11&item=sedac-popdensity-yeargrid5yr-v4.11-2020&assets=population-density&color_formula=gamma+r+1.05&colormap_name=rainbow&rescale=-1505.7174072265625%2C30795.859375'],\n",
       " 'minzoom': 0,\n",
       " 'maxzoom': 24,\n",
       " 'bounds': [-180.0, -90.0, 179.99999999999983, 89.99999999999991],\n",
       " 'center': [-8.526512829121202e-14, -4.263256414560601e-14, 0]}"
      ]
     },
     "execution_count": 10,
     "metadata": {},
     "output_type": "execute_result"
    }
   ],
   "source": [
    "color_map = \"rainbow\" # please select the color ramp from matplotlib library.\n",
    "january_2020_tile = requests.get(\n",
    "    f\"{RASTER_API_URL}/stac/tilejson.json?collection={items['2020-01']['collection']}&item={items['2020-01']['id']}\"\n",
    "    f\"&assets={asset_name}\"\n",
    "    f\"&color_formula=gamma+r+1.05&colormap_name={color_map}\"\n",
    "    f\"&rescale={rescale_values['min']},{rescale_values['max']}\", \n",
    ").json()\n",
    "january_2020_tile"
   ]
  },
  {
   "cell_type": "code",
   "execution_count": 11,
   "metadata": {},
   "outputs": [
    {
     "data": {
      "text/plain": [
       "{'tilejson': '2.2.0',\n",
       " 'version': '1.0.0',\n",
       " 'scheme': 'xyz',\n",
       " 'tiles': ['https://ghg.center/api/raster/stac/tiles/WebMercatorQuad/{z}/{x}/{y}@1x?collection=sedac-popdensity-yeargrid5yr-v4.11&item=sedac-popdensity-yeargrid5yr-v4.11-2000&assets=population-density&color_formula=gamma+r+1.05&colormap_name=rainbow&rescale=-1505.7174072265625%2C30795.859375'],\n",
       " 'minzoom': 0,\n",
       " 'maxzoom': 24,\n",
       " 'bounds': [-180.0, -90.0, 179.99999999999983, 89.99999999999991],\n",
       " 'center': [-8.526512829121202e-14, -4.263256414560601e-14, 0]}"
      ]
     },
     "execution_count": 11,
     "metadata": {},
     "output_type": "execute_result"
    }
   ],
   "source": [
    "january_2000_tile = requests.get(\n",
    "    f\"{RASTER_API_URL}/stac/tilejson.json?collection={items['2000-01']['collection']}&item={items['2000-01']['id']}\"\n",
    "    f\"&assets={asset_name}\"\n",
    "    f\"&color_formula=gamma+r+1.05&colormap_name={color_map}\"\n",
    "    f\"&rescale={rescale_values['min']},{rescale_values['max']}\", \n",
    ").json()\n",
    "january_2000_tile"
   ]
  },
  {
   "attachments": {},
   "cell_type": "markdown",
   "metadata": {},
   "source": [
    "## Visualizing Population Density.\n"
   ]
  },
  {
   "cell_type": "code",
   "execution_count": 12,
   "metadata": {},
   "outputs": [
    {
     "data": {
      "text/html": [
       "<div style=\"width:100%;\"><div style=\"position:relative;width:100%;height:0;padding-bottom:60%;\"><span style=\"color:#565656\">Make this Notebook Trusted to load map: File -> Trust Notebook</span><iframe srcdoc=\"&lt;!DOCTYPE html&gt;\n",
       "&lt;html&gt;\n",
       "&lt;head&gt;\n",
       "    \n",
       "    &lt;meta http-equiv=&quot;content-type&quot; content=&quot;text/html; charset=UTF-8&quot; /&gt;\n",
       "    \n",
       "        &lt;script&gt;\n",
       "            L_NO_TOUCH = false;\n",
       "            L_DISABLE_3D = false;\n",
       "        &lt;/script&gt;\n",
       "    \n",
       "    &lt;style&gt;html, body {width: 100%;height: 100%;margin: 0;padding: 0;}&lt;/style&gt;\n",
       "    &lt;style&gt;#map {position:absolute;top:0;bottom:0;right:0;left:0;}&lt;/style&gt;\n",
       "    &lt;script src=&quot;https://cdn.jsdelivr.net/npm/leaflet@1.9.3/dist/leaflet.js&quot;&gt;&lt;/script&gt;\n",
       "    &lt;script src=&quot;https://code.jquery.com/jquery-1.12.4.min.js&quot;&gt;&lt;/script&gt;\n",
       "    &lt;script src=&quot;https://cdn.jsdelivr.net/npm/bootstrap@5.2.2/dist/js/bootstrap.bundle.min.js&quot;&gt;&lt;/script&gt;\n",
       "    &lt;script src=&quot;https://cdnjs.cloudflare.com/ajax/libs/Leaflet.awesome-markers/2.0.2/leaflet.awesome-markers.js&quot;&gt;&lt;/script&gt;\n",
       "    &lt;link rel=&quot;stylesheet&quot; href=&quot;https://cdn.jsdelivr.net/npm/leaflet@1.9.3/dist/leaflet.css&quot;/&gt;\n",
       "    &lt;link rel=&quot;stylesheet&quot; href=&quot;https://cdn.jsdelivr.net/npm/bootstrap@5.2.2/dist/css/bootstrap.min.css&quot;/&gt;\n",
       "    &lt;link rel=&quot;stylesheet&quot; href=&quot;https://netdna.bootstrapcdn.com/bootstrap/3.0.0/css/bootstrap.min.css&quot;/&gt;\n",
       "    &lt;link rel=&quot;stylesheet&quot; href=&quot;https://cdn.jsdelivr.net/npm/@fortawesome/fontawesome-free@6.2.0/css/all.min.css&quot;/&gt;\n",
       "    &lt;link rel=&quot;stylesheet&quot; href=&quot;https://cdnjs.cloudflare.com/ajax/libs/Leaflet.awesome-markers/2.0.2/leaflet.awesome-markers.css&quot;/&gt;\n",
       "    &lt;link rel=&quot;stylesheet&quot; href=&quot;https://cdn.jsdelivr.net/gh/python-visualization/folium/folium/templates/leaflet.awesome.rotate.min.css&quot;/&gt;\n",
       "    \n",
       "            &lt;meta name=&quot;viewport&quot; content=&quot;width=device-width,\n",
       "                initial-scale=1.0, maximum-scale=1.0, user-scalable=no&quot; /&gt;\n",
       "            &lt;style&gt;\n",
       "                #map_0a0cb478daeb6525cd9957ea2ea233dd {\n",
       "                    position: absolute;\n",
       "                    width: 50.0%;\n",
       "                    height: 100.0%;\n",
       "                    left: 0.0%;\n",
       "                    top: 0.0%;\n",
       "                }\n",
       "                .leaflet-container { font-size: 1rem; }\n",
       "            &lt;/style&gt;\n",
       "        \n",
       "    \n",
       "            &lt;meta name=&quot;viewport&quot; content=&quot;width=device-width,\n",
       "                initial-scale=1.0, maximum-scale=1.0, user-scalable=no&quot; /&gt;\n",
       "            &lt;style&gt;\n",
       "                #map_e796edc04d4e305c1994998ce4810435 {\n",
       "                    position: absolute;\n",
       "                    width: 50.0%;\n",
       "                    height: 100.0%;\n",
       "                    left: 50.0%;\n",
       "                    top: 0.0%;\n",
       "                }\n",
       "                .leaflet-container { font-size: 1rem; }\n",
       "            &lt;/style&gt;\n",
       "        \n",
       "    &lt;script src=&quot;https://cdn.jsdelivr.net/gh/jieter/Leaflet.Sync/L.Map.Sync.min.js&quot;&gt;&lt;/script&gt;\n",
       "&lt;/head&gt;\n",
       "&lt;body&gt;\n",
       "    \n",
       "    \n",
       "            &lt;div class=&quot;folium-map&quot; id=&quot;map_0a0cb478daeb6525cd9957ea2ea233dd&quot; &gt;&lt;/div&gt;\n",
       "        \n",
       "    \n",
       "            &lt;div class=&quot;folium-map&quot; id=&quot;map_e796edc04d4e305c1994998ce4810435&quot; &gt;&lt;/div&gt;\n",
       "        \n",
       "&lt;/body&gt;\n",
       "&lt;script&gt;\n",
       "    \n",
       "    \n",
       "            var map_0a0cb478daeb6525cd9957ea2ea233dd = L.map(\n",
       "                &quot;map_0a0cb478daeb6525cd9957ea2ea233dd&quot;,\n",
       "                {\n",
       "                    center: [34.0, -118.0],\n",
       "                    crs: L.CRS.EPSG3857,\n",
       "                    zoom: 6,\n",
       "                    zoomControl: true,\n",
       "                    preferCanvas: false,\n",
       "                }\n",
       "            );\n",
       "\n",
       "            \n",
       "\n",
       "        \n",
       "    \n",
       "            var tile_layer_7270c551676afbd3d21ad19ecee1b662 = L.tileLayer(\n",
       "                &quot;https://{s}.tile.openstreetmap.org/{z}/{x}/{y}.png&quot;,\n",
       "                {&quot;attribution&quot;: &quot;Data by \\u0026copy; \\u003ca target=\\&quot;_blank\\&quot; href=\\&quot;http://openstreetmap.org\\&quot;\\u003eOpenStreetMap\\u003c/a\\u003e, under \\u003ca target=\\&quot;_blank\\&quot; href=\\&quot;http://www.openstreetmap.org/copyright\\&quot;\\u003eODbL\\u003c/a\\u003e.&quot;, &quot;detectRetina&quot;: false, &quot;maxNativeZoom&quot;: 18, &quot;maxZoom&quot;: 18, &quot;minZoom&quot;: 0, &quot;noWrap&quot;: false, &quot;opacity&quot;: 1, &quot;subdomains&quot;: &quot;abc&quot;, &quot;tms&quot;: false}\n",
       "            ).addTo(map_0a0cb478daeb6525cd9957ea2ea233dd);\n",
       "        \n",
       "    \n",
       "            var tile_layer_f0d7f6029c047ed643a9cf66dd0d0c87 = L.tileLayer(\n",
       "                &quot;https://ghg.center/api/raster/stac/tiles/WebMercatorQuad/{z}/{x}/{y}@1x?collection=sedac-popdensity-yeargrid5yr-v4.11\\u0026item=sedac-popdensity-yeargrid5yr-v4.11-2020\\u0026assets=population-density\\u0026color_formula=gamma+r+1.05\\u0026colormap_name=rainbow\\u0026rescale=-1505.7174072265625%2C30795.859375&quot;,\n",
       "                {&quot;attribution&quot;: &quot;GHG&quot;, &quot;detectRetina&quot;: false, &quot;maxNativeZoom&quot;: 18, &quot;maxZoom&quot;: 18, &quot;minZoom&quot;: 0, &quot;noWrap&quot;: false, &quot;opacity&quot;: 1, &quot;subdomains&quot;: &quot;abc&quot;, &quot;tms&quot;: false}\n",
       "            ).addTo(map_0a0cb478daeb6525cd9957ea2ea233dd);\n",
       "        \n",
       "    \n",
       "            var map_e796edc04d4e305c1994998ce4810435 = L.map(\n",
       "                &quot;map_e796edc04d4e305c1994998ce4810435&quot;,\n",
       "                {\n",
       "                    center: [34.0, -118.0],\n",
       "                    crs: L.CRS.EPSG3857,\n",
       "                    zoom: 6,\n",
       "                    zoomControl: true,\n",
       "                    preferCanvas: false,\n",
       "                }\n",
       "            );\n",
       "\n",
       "            \n",
       "\n",
       "        \n",
       "    \n",
       "            var tile_layer_9e45ddddb6334949b057ee21023ed7a2 = L.tileLayer(\n",
       "                &quot;https://{s}.tile.openstreetmap.org/{z}/{x}/{y}.png&quot;,\n",
       "                {&quot;attribution&quot;: &quot;Data by \\u0026copy; \\u003ca target=\\&quot;_blank\\&quot; href=\\&quot;http://openstreetmap.org\\&quot;\\u003eOpenStreetMap\\u003c/a\\u003e, under \\u003ca target=\\&quot;_blank\\&quot; href=\\&quot;http://www.openstreetmap.org/copyright\\&quot;\\u003eODbL\\u003c/a\\u003e.&quot;, &quot;detectRetina&quot;: false, &quot;maxNativeZoom&quot;: 18, &quot;maxZoom&quot;: 18, &quot;minZoom&quot;: 0, &quot;noWrap&quot;: false, &quot;opacity&quot;: 1, &quot;subdomains&quot;: &quot;abc&quot;, &quot;tms&quot;: false}\n",
       "            ).addTo(map_e796edc04d4e305c1994998ce4810435);\n",
       "        \n",
       "    \n",
       "            var tile_layer_4fcb55a71986329a34a60c5fd4ed2842 = L.tileLayer(\n",
       "                &quot;https://ghg.center/api/raster/stac/tiles/WebMercatorQuad/{z}/{x}/{y}@1x?collection=sedac-popdensity-yeargrid5yr-v4.11\\u0026item=sedac-popdensity-yeargrid5yr-v4.11-2000\\u0026assets=population-density\\u0026color_formula=gamma+r+1.05\\u0026colormap_name=rainbow\\u0026rescale=-1505.7174072265625%2C30795.859375&quot;,\n",
       "                {&quot;attribution&quot;: &quot;GHG&quot;, &quot;detectRetina&quot;: false, &quot;maxNativeZoom&quot;: 18, &quot;maxZoom&quot;: 18, &quot;minZoom&quot;: 0, &quot;noWrap&quot;: false, &quot;opacity&quot;: 1, &quot;subdomains&quot;: &quot;abc&quot;, &quot;tms&quot;: false}\n",
       "            ).addTo(map_e796edc04d4e305c1994998ce4810435);\n",
       "        \n",
       "    \n",
       "            map_0a0cb478daeb6525cd9957ea2ea233dd.sync(map_e796edc04d4e305c1994998ce4810435);\n",
       "            map_e796edc04d4e305c1994998ce4810435.sync(map_0a0cb478daeb6525cd9957ea2ea233dd);\n",
       "        \n",
       "&lt;/script&gt;\n",
       "&lt;/html&gt;\" style=\"position:absolute;width:100%;height:100%;left:0;top:0;border:none !important;\" allowfullscreen webkitallowfullscreen mozallowfullscreen></iframe></div></div>"
      ],
      "text/plain": [
       "<folium.plugins.dual_map.DualMap at 0x14018efa0>"
      ]
     },
     "execution_count": 12,
     "metadata": {},
     "output_type": "execute_result"
    }
   ],
   "source": [
    "# We'll import folium to map and folium.plugins to allow mapping side-by-side\n",
    "import folium\n",
    "import folium.plugins\n",
    "\n",
    "# Set initial zoom and center of map for population density Layer\n",
    "map_ = folium.plugins.DualMap(location=(34, -118), zoom_start=6)\n",
    "\n",
    "# January 2020\n",
    "map_layer_2020 = TileLayer(\n",
    "    tiles=january_2020_tile[\"tiles\"][0],\n",
    "    attr=\"GHG\",\n",
    "    opacity=1,\n",
    ")\n",
    "map_layer_2020.add_to(map_.m1)\n",
    "\n",
    "# January 2000\n",
    "map_layer_2000 = TileLayer(\n",
    "    tiles=january_2000_tile[\"tiles\"][0],\n",
    "    attr=\"GHG\",\n",
    "    opacity=1,\n",
    ")\n",
    "map_layer_2000.add_to(map_.m2)\n",
    "\n",
    "# visualising the map\n",
    "map_\n",
    "\n"
   ]
  },
  {
   "attachments": {},
   "cell_type": "markdown",
   "metadata": {},
   "source": [
    "# Calculating Zonal Statistics"
   ]
  },
  {
   "attachments": {},
   "cell_type": "markdown",
   "metadata": {},
   "source": [
    "## "
   ]
  },
  {
   "cell_type": "code",
   "execution_count": 13,
   "metadata": {},
   "outputs": [],
   "source": [
    "# Texas, USA\n",
    "texas_aoi = {\n",
    "    \"type\": \"Feature\",\n",
    "    \"properties\": {},\n",
    "    \"geometry\": {\n",
    "        \"coordinates\": [\n",
    "            [\n",
    "                # [13.686159004559698, -21.700046934333145],\n",
    "                # [13.686159004559698, -23.241974326585833],\n",
    "                # [14.753560168039911, -23.241974326585833],\n",
    "                # [14.753560168039911, -21.700046934333145],\n",
    "                # [13.686159004559698, -21.700046934333145],\n",
    "                [-95, 29],\n",
    "                [-95, 33],\n",
    "                [-104, 33],\n",
    "                [-104,29],\n",
    "                [-95, 29]\n",
    "            ]\n",
    "        ],\n",
    "        \"type\": \"Polygon\",\n",
    "    },\n",
    "}"
   ]
  },
  {
   "cell_type": "code",
   "execution_count": 14,
   "metadata": {},
   "outputs": [
    {
     "data": {
      "text/html": [
       "<div style=\"width:100%;\"><div style=\"position:relative;width:100%;height:0;padding-bottom:60%;\"><span style=\"color:#565656\">Make this Notebook Trusted to load map: File -> Trust Notebook</span><iframe srcdoc=\"&lt;!DOCTYPE html&gt;\n",
       "&lt;html&gt;\n",
       "&lt;head&gt;\n",
       "    \n",
       "    &lt;meta http-equiv=&quot;content-type&quot; content=&quot;text/html; charset=UTF-8&quot; /&gt;\n",
       "    \n",
       "        &lt;script&gt;\n",
       "            L_NO_TOUCH = false;\n",
       "            L_DISABLE_3D = false;\n",
       "        &lt;/script&gt;\n",
       "    \n",
       "    &lt;style&gt;html, body {width: 100%;height: 100%;margin: 0;padding: 0;}&lt;/style&gt;\n",
       "    &lt;style&gt;#map {position:absolute;top:0;bottom:0;right:0;left:0;}&lt;/style&gt;\n",
       "    &lt;script src=&quot;https://cdn.jsdelivr.net/npm/leaflet@1.9.3/dist/leaflet.js&quot;&gt;&lt;/script&gt;\n",
       "    &lt;script src=&quot;https://code.jquery.com/jquery-1.12.4.min.js&quot;&gt;&lt;/script&gt;\n",
       "    &lt;script src=&quot;https://cdn.jsdelivr.net/npm/bootstrap@5.2.2/dist/js/bootstrap.bundle.min.js&quot;&gt;&lt;/script&gt;\n",
       "    &lt;script src=&quot;https://cdnjs.cloudflare.com/ajax/libs/Leaflet.awesome-markers/2.0.2/leaflet.awesome-markers.js&quot;&gt;&lt;/script&gt;\n",
       "    &lt;link rel=&quot;stylesheet&quot; href=&quot;https://cdn.jsdelivr.net/npm/leaflet@1.9.3/dist/leaflet.css&quot;/&gt;\n",
       "    &lt;link rel=&quot;stylesheet&quot; href=&quot;https://cdn.jsdelivr.net/npm/bootstrap@5.2.2/dist/css/bootstrap.min.css&quot;/&gt;\n",
       "    &lt;link rel=&quot;stylesheet&quot; href=&quot;https://netdna.bootstrapcdn.com/bootstrap/3.0.0/css/bootstrap.min.css&quot;/&gt;\n",
       "    &lt;link rel=&quot;stylesheet&quot; href=&quot;https://cdn.jsdelivr.net/npm/@fortawesome/fontawesome-free@6.2.0/css/all.min.css&quot;/&gt;\n",
       "    &lt;link rel=&quot;stylesheet&quot; href=&quot;https://cdnjs.cloudflare.com/ajax/libs/Leaflet.awesome-markers/2.0.2/leaflet.awesome-markers.css&quot;/&gt;\n",
       "    &lt;link rel=&quot;stylesheet&quot; href=&quot;https://cdn.jsdelivr.net/gh/python-visualization/folium/folium/templates/leaflet.awesome.rotate.min.css&quot;/&gt;\n",
       "    \n",
       "            &lt;meta name=&quot;viewport&quot; content=&quot;width=device-width,\n",
       "                initial-scale=1.0, maximum-scale=1.0, user-scalable=no&quot; /&gt;\n",
       "            &lt;style&gt;\n",
       "                #map_355603a4aa28e3377ad1e547efc3d3a4 {\n",
       "                    position: relative;\n",
       "                    width: 100.0%;\n",
       "                    height: 100.0%;\n",
       "                    left: 0.0%;\n",
       "                    top: 0.0%;\n",
       "                }\n",
       "                .leaflet-container { font-size: 1rem; }\n",
       "            &lt;/style&gt;\n",
       "        \n",
       "&lt;/head&gt;\n",
       "&lt;body&gt;\n",
       "    \n",
       "    \n",
       "            &lt;div class=&quot;folium-map&quot; id=&quot;map_355603a4aa28e3377ad1e547efc3d3a4&quot; &gt;&lt;/div&gt;\n",
       "        \n",
       "&lt;/body&gt;\n",
       "&lt;script&gt;\n",
       "    \n",
       "    \n",
       "            var map_355603a4aa28e3377ad1e547efc3d3a4 = L.map(\n",
       "                &quot;map_355603a4aa28e3377ad1e547efc3d3a4&quot;,\n",
       "                {\n",
       "                    center: [30.0, -100.0],\n",
       "                    crs: L.CRS.EPSG3857,\n",
       "                    zoom: 6,\n",
       "                    zoomControl: true,\n",
       "                    preferCanvas: false,\n",
       "                }\n",
       "            );\n",
       "\n",
       "            \n",
       "\n",
       "        \n",
       "    \n",
       "            var tile_layer_838b2b6b843318dcca6814a582819a3d = L.tileLayer(\n",
       "                &quot;https://{s}.tile.openstreetmap.org/{z}/{x}/{y}.png&quot;,\n",
       "                {&quot;attribution&quot;: &quot;Data by \\u0026copy; \\u003ca target=\\&quot;_blank\\&quot; href=\\&quot;http://openstreetmap.org\\&quot;\\u003eOpenStreetMap\\u003c/a\\u003e, under \\u003ca target=\\&quot;_blank\\&quot; href=\\&quot;http://www.openstreetmap.org/copyright\\&quot;\\u003eODbL\\u003c/a\\u003e.&quot;, &quot;detectRetina&quot;: false, &quot;maxNativeZoom&quot;: 18, &quot;maxZoom&quot;: 18, &quot;minZoom&quot;: 0, &quot;noWrap&quot;: false, &quot;opacity&quot;: 1, &quot;subdomains&quot;: &quot;abc&quot;, &quot;tms&quot;: false}\n",
       "            ).addTo(map_355603a4aa28e3377ad1e547efc3d3a4);\n",
       "        \n",
       "    \n",
       "\n",
       "        function geo_json_10d6cabd7e3b548a22fc5ea7ad93ab9f_onEachFeature(feature, layer) {\n",
       "            layer.on({\n",
       "            });\n",
       "        };\n",
       "        var geo_json_10d6cabd7e3b548a22fc5ea7ad93ab9f = L.geoJson(null, {\n",
       "                onEachFeature: geo_json_10d6cabd7e3b548a22fc5ea7ad93ab9f_onEachFeature,\n",
       "            \n",
       "        });\n",
       "\n",
       "        function geo_json_10d6cabd7e3b548a22fc5ea7ad93ab9f_add (data) {\n",
       "            geo_json_10d6cabd7e3b548a22fc5ea7ad93ab9f\n",
       "                .addData(data)\n",
       "                .addTo(map_355603a4aa28e3377ad1e547efc3d3a4);\n",
       "        }\n",
       "            geo_json_10d6cabd7e3b548a22fc5ea7ad93ab9f_add({&quot;geometry&quot;: {&quot;coordinates&quot;: [[[-95, 29], [-95, 33], [-104, 33], [-104, 29], [-95, 29]]], &quot;type&quot;: &quot;Polygon&quot;}, &quot;properties&quot;: {}, &quot;type&quot;: &quot;Feature&quot;});\n",
       "\n",
       "        \n",
       "&lt;/script&gt;\n",
       "&lt;/html&gt;\" style=\"position:absolute;width:100%;height:100%;left:0;top:0;border:none !important;\" allowfullscreen webkitallowfullscreen mozallowfullscreen></iframe></div></div>"
      ],
      "text/plain": [
       "<folium.folium.Map at 0x137ff2160>"
      ]
     },
     "execution_count": 14,
     "metadata": {},
     "output_type": "execute_result"
    }
   ],
   "source": [
    "# We'll plug in the coordinates for a location\n",
    "# central to the study area and a reasonable zoom level\n",
    "\n",
    "import folium\n",
    "\n",
    "aoi_map = Map(\n",
    "    tiles=\"OpenStreetMap\",\n",
    "    location=[\n",
    "        30,-100\n",
    "    ],\n",
    "    zoom_start=6,\n",
    ")\n",
    "\n",
    "folium.GeoJson(texas_aoi, name=\"Texas, USA\").add_to(aoi_map)\n",
    "aoi_map"
   ]
  },
  {
   "cell_type": "code",
   "execution_count": 15,
   "metadata": {},
   "outputs": [
    {
     "name": "stdout",
     "output_type": "stream",
     "text": [
      "Found 5 items\n"
     ]
    }
   ],
   "source": [
    "# Check total number of items available\n",
    "items = requests.get(\n",
    "    f\"{STAC_API_URL}/collections/{collection_name}/items?limit=300\"\n",
    ").json()[\"features\"]\n",
    "print(f\"Found {len(items)} items\")"
   ]
  },
  {
   "cell_type": "code",
   "execution_count": 16,
   "metadata": {},
   "outputs": [
    {
     "data": {
      "text/plain": [
       "{'id': 'sedac-popdensity-yeargrid5yr-v4.11-2020',\n",
       " 'bbox': [-180.0, -90.0, 179.99999999999983, 89.99999999999991],\n",
       " 'type': 'Feature',\n",
       " 'links': [{'rel': 'collection',\n",
       "   'type': 'application/json',\n",
       "   'href': 'https://ghg.center/api/stac/collections/sedac-popdensity-yeargrid5yr-v4.11'},\n",
       "  {'rel': 'parent',\n",
       "   'type': 'application/json',\n",
       "   'href': 'https://ghg.center/api/stac/collections/sedac-popdensity-yeargrid5yr-v4.11'},\n",
       "  {'rel': 'root',\n",
       "   'type': 'application/json',\n",
       "   'href': 'https://ghg.center/api/stac/'},\n",
       "  {'rel': 'self',\n",
       "   'type': 'application/geo+json',\n",
       "   'href': 'https://ghg.center/api/stac/collections/sedac-popdensity-yeargrid5yr-v4.11/items/sedac-popdensity-yeargrid5yr-v4.11-2020'}],\n",
       " 'assets': {'population-density': {'href': 's3://ghgc-data-store/sedac-popdensity-yeargrid5yr-v4.11/gpw_v4_population_density_rev11_2020_30_sec_2020.tif',\n",
       "   'type': 'image/tiff; application=geotiff; profile=cloud-optimized',\n",
       "   'roles': ['data', 'layer'],\n",
       "   'title': 'Population density',\n",
       "   'proj:bbox': [-180.0, -90.0, 179.99999999999983, 89.99999999999991],\n",
       "   'proj:epsg': 4326.0,\n",
       "   'proj:shape': [21600.0, 43200.0],\n",
       "   'description': 'Provides estimates of population density based on counts consistent with national censuses and population registers',\n",
       "   'raster:bands': [{'scale': 1.0,\n",
       "     'nodata': -3.4028230607370965e+38,\n",
       "     'offset': 0.0,\n",
       "     'sampling': 'area',\n",
       "     'data_type': 'float32',\n",
       "     'histogram': {'max': 30795.859375,\n",
       "      'min': -1505.7174072265625,\n",
       "      'count': 11.0,\n",
       "      'buckets': [129008.0, 362.0, 52.0, 22.0, 7.0, 2.0, 2.0, 0.0, 1.0, 1.0]},\n",
       "     'statistics': {'mean': 55.30964721876762,\n",
       "      'stddev': 319.5376065398882,\n",
       "      'maximum': 30795.859375,\n",
       "      'minimum': -1505.7174072265625,\n",
       "      'valid_percent': 24.69196319580078}}],\n",
       "   'proj:geometry': {'type': 'Polygon',\n",
       "    'coordinates': [[[-180.0, -90.0],\n",
       "      [179.99999999999983, -90.0],\n",
       "      [179.99999999999983, 89.99999999999991],\n",
       "      [-180.0, 89.99999999999991],\n",
       "      [-180.0, -90.0]]]},\n",
       "   'proj:projjson': {'id': {'code': 4326.0, 'authority': 'EPSG'},\n",
       "    'name': 'WGS 84',\n",
       "    'type': 'GeographicCRS',\n",
       "    'datum': {'name': 'World Geodetic System 1984',\n",
       "     'type': 'GeodeticReferenceFrame',\n",
       "     'ellipsoid': {'name': 'WGS 84',\n",
       "      'semi_major_axis': 6378137.0,\n",
       "      'inverse_flattening': 298.257223563}},\n",
       "    '$schema': 'https://proj.org/schemas/v0.4/projjson.schema.json',\n",
       "    'coordinate_system': {'axis': [{'name': 'Geodetic latitude',\n",
       "       'unit': 'degree',\n",
       "       'direction': 'north',\n",
       "       'abbreviation': 'Lat'},\n",
       "      {'name': 'Geodetic longitude',\n",
       "       'unit': 'degree',\n",
       "       'direction': 'east',\n",
       "       'abbreviation': 'Lon'}],\n",
       "     'subtype': 'ellipsoidal'}},\n",
       "   'proj:transform': [0.00833333333333333,\n",
       "    0.0,\n",
       "    -180.0,\n",
       "    0.0,\n",
       "    -0.00833333333333333,\n",
       "    89.99999999999991,\n",
       "    0.0,\n",
       "    0.0,\n",
       "    1.0]}},\n",
       " 'geometry': {'type': 'Polygon',\n",
       "  'coordinates': [[[-180, -90],\n",
       "    [179.99999999999983, -90],\n",
       "    [179.99999999999983, 89.99999999999991],\n",
       "    [-180, 89.99999999999991],\n",
       "    [-180, -90]]]},\n",
       " 'collection': 'sedac-popdensity-yeargrid5yr-v4.11',\n",
       " 'properties': {'end_datetime': '2020-12-31T00:00:00+00:00',\n",
       "  'start_datetime': '2020-01-01T00:00:00+00:00'},\n",
       " 'stac_version': '1.0.0',\n",
       " 'stac_extensions': []}"
      ]
     },
     "execution_count": 16,
     "metadata": {},
     "output_type": "execute_result"
    }
   ],
   "source": [
    "# Explore one item to see what it contains\n",
    "items[0]"
   ]
  },
  {
   "cell_type": "code",
   "execution_count": 17,
   "metadata": {},
   "outputs": [],
   "source": [
    "# the bounding box should be passed to the geojson param as a geojson Feature or FeatureCollection\n",
    "def generate_stats(item, geojson):\n",
    "    result = requests.post(\n",
    "        f\"{RASTER_API_URL}/cog/statistics\",\n",
    "        params={\"url\": item[\"assets\"][asset_name][\"href\"]},\n",
    "        json=geojson,\n",
    "    ).json()\n",
    "    return {\n",
    "        **result[\"properties\"],\n",
    "        \"start_datetime\": item[\"properties\"][\"start_datetime\"],\n",
    "    }"
   ]
  },
  {
   "attachments": {},
   "cell_type": "markdown",
   "metadata": {},
   "source": [
    "With the function above we can generate the statistics for the AOI."
   ]
  },
  {
   "cell_type": "code",
   "execution_count": 18,
   "metadata": {},
   "outputs": [
    {
     "name": "stdout",
     "output_type": "stream",
     "text": [
      "CPU times: user 84.8 ms, sys: 10.4 ms, total: 95.1 ms\n",
      "Wall time: 6.83 s\n"
     ]
    }
   ],
   "source": [
    "%%time\n",
    "stats = [generate_stats(item, texas_aoi) for item in items]"
   ]
  },
  {
   "cell_type": "code",
   "execution_count": 19,
   "metadata": {},
   "outputs": [
    {
     "data": {
      "text/plain": [
       "{'statistics': {'b1': {'min': 0.0,\n",
       "   'max': 18419.53125,\n",
       "   'mean': 58.53235268568119,\n",
       "   'count': 518400.0,\n",
       "   'sum': 30321222.0,\n",
       "   'std': 335.6929520668643,\n",
       "   'median': 0.4415185749530792,\n",
       "   'majority': 0.0,\n",
       "   'minority': 1.0156783218917553e-06,\n",
       "   'unique': 304154.0,\n",
       "   'histogram': [[512941.0,\n",
       "     4330.0,\n",
       "     627.0,\n",
       "     91.0,\n",
       "     22.0,\n",
       "     7.0,\n",
       "     1.0,\n",
       "     4.0,\n",
       "     0.0,\n",
       "     2.0],\n",
       "    [0.0,\n",
       "     1841.953125,\n",
       "     3683.90625,\n",
       "     5525.859375,\n",
       "     7367.8125,\n",
       "     9209.765625,\n",
       "     11051.71875,\n",
       "     12893.671875,\n",
       "     14735.625,\n",
       "     16577.578125,\n",
       "     18419.53125]],\n",
       "   'valid_percent': 99.93,\n",
       "   'masked_pixels': 375.0,\n",
       "   'valid_pixels': 518025.0,\n",
       "   'percentile_2': 0.0,\n",
       "   'percentile_98': 898.1920996093824}},\n",
       " 'start_datetime': '2020-01-01T00:00:00+00:00'}"
      ]
     },
     "execution_count": 19,
     "metadata": {},
     "output_type": "execute_result"
    }
   ],
   "source": [
    "stats[0]"
   ]
  },
  {
   "cell_type": "code",
   "execution_count": 20,
   "metadata": {},
   "outputs": [
    {
     "data": {
      "text/html": [
       "<div>\n",
       "<style scoped>\n",
       "    .dataframe tbody tr th:only-of-type {\n",
       "        vertical-align: middle;\n",
       "    }\n",
       "\n",
       "    .dataframe tbody tr th {\n",
       "        vertical-align: top;\n",
       "    }\n",
       "\n",
       "    .dataframe thead th {\n",
       "        text-align: right;\n",
       "    }\n",
       "</style>\n",
       "<table border=\"1\" class=\"dataframe\">\n",
       "  <thead>\n",
       "    <tr style=\"text-align: right;\">\n",
       "      <th></th>\n",
       "      <th>start_datetime</th>\n",
       "      <th>min</th>\n",
       "      <th>max</th>\n",
       "      <th>mean</th>\n",
       "      <th>count</th>\n",
       "      <th>sum</th>\n",
       "      <th>std</th>\n",
       "      <th>median</th>\n",
       "      <th>majority</th>\n",
       "      <th>minority</th>\n",
       "      <th>unique</th>\n",
       "      <th>histogram</th>\n",
       "      <th>valid_percent</th>\n",
       "      <th>masked_pixels</th>\n",
       "      <th>valid_pixels</th>\n",
       "      <th>percentile_2</th>\n",
       "      <th>percentile_98</th>\n",
       "      <th>date</th>\n",
       "    </tr>\n",
       "  </thead>\n",
       "  <tbody>\n",
       "    <tr>\n",
       "      <th>0</th>\n",
       "      <td>2020-01-01T00:00:00+00:00</td>\n",
       "      <td>0.0</td>\n",
       "      <td>18419.531250</td>\n",
       "      <td>58.532353</td>\n",
       "      <td>518400.0</td>\n",
       "      <td>30321222.0</td>\n",
       "      <td>335.692952</td>\n",
       "      <td>0.441519</td>\n",
       "      <td>0.0</td>\n",
       "      <td>0.000001</td>\n",
       "      <td>304154.0</td>\n",
       "      <td>[[512941.0, 4330.0, 627.0, 91.0, 22.0, 7.0, 1....</td>\n",
       "      <td>99.93</td>\n",
       "      <td>375.0</td>\n",
       "      <td>518025.0</td>\n",
       "      <td>0.0</td>\n",
       "      <td>898.192100</td>\n",
       "      <td>2020-01-01 00:00:00+00:00</td>\n",
       "    </tr>\n",
       "    <tr>\n",
       "      <th>1</th>\n",
       "      <td>2015-01-01T00:00:00+00:00</td>\n",
       "      <td>0.0</td>\n",
       "      <td>16791.851562</td>\n",
       "      <td>52.619171</td>\n",
       "      <td>518400.0</td>\n",
       "      <td>27258046.0</td>\n",
       "      <td>302.069689</td>\n",
       "      <td>0.432173</td>\n",
       "      <td>0.0</td>\n",
       "      <td>0.000001</td>\n",
       "      <td>304042.0</td>\n",
       "      <td>[[513082.0, 4248.0, 572.0, 87.0, 20.0, 9.0, 1....</td>\n",
       "      <td>99.93</td>\n",
       "      <td>375.0</td>\n",
       "      <td>518025.0</td>\n",
       "      <td>0.0</td>\n",
       "      <td>802.884363</td>\n",
       "      <td>2015-01-01 00:00:00+00:00</td>\n",
       "    </tr>\n",
       "    <tr>\n",
       "      <th>2</th>\n",
       "      <td>2010-01-01T00:00:00+00:00</td>\n",
       "      <td>0.0</td>\n",
       "      <td>15308.004883</td>\n",
       "      <td>47.493947</td>\n",
       "      <td>518400.0</td>\n",
       "      <td>24603052.0</td>\n",
       "      <td>273.645484</td>\n",
       "      <td>0.426434</td>\n",
       "      <td>0.0</td>\n",
       "      <td>0.000001</td>\n",
       "      <td>304161.0</td>\n",
       "      <td>[[513182.0, 4159.0, 560.0, 83.0, 25.0, 9.0, 1....</td>\n",
       "      <td>99.93</td>\n",
       "      <td>375.0</td>\n",
       "      <td>518025.0</td>\n",
       "      <td>0.0</td>\n",
       "      <td>722.900876</td>\n",
       "      <td>2010-01-01 00:00:00+00:00</td>\n",
       "    </tr>\n",
       "    <tr>\n",
       "      <th>3</th>\n",
       "      <td>2005-01-01T00:00:00+00:00</td>\n",
       "      <td>0.0</td>\n",
       "      <td>13955.282227</td>\n",
       "      <td>43.030074</td>\n",
       "      <td>518400.0</td>\n",
       "      <td>22290654.0</td>\n",
       "      <td>249.332851</td>\n",
       "      <td>0.417514</td>\n",
       "      <td>0.0</td>\n",
       "      <td>0.000001</td>\n",
       "      <td>304215.0</td>\n",
       "      <td>[[513253.0, 4076.0, 561.0, 91.0, 27.0, 10.0, 1...</td>\n",
       "      <td>99.93</td>\n",
       "      <td>375.0</td>\n",
       "      <td>518025.0</td>\n",
       "      <td>0.0</td>\n",
       "      <td>648.693762</td>\n",
       "      <td>2005-01-01 00:00:00+00:00</td>\n",
       "    </tr>\n",
       "    <tr>\n",
       "      <th>4</th>\n",
       "      <td>2000-01-01T00:00:00+00:00</td>\n",
       "      <td>0.0</td>\n",
       "      <td>12722.096680</td>\n",
       "      <td>39.124289</td>\n",
       "      <td>518400.0</td>\n",
       "      <td>20267360.0</td>\n",
       "      <td>228.324844</td>\n",
       "      <td>0.405285</td>\n",
       "      <td>0.0</td>\n",
       "      <td>0.000001</td>\n",
       "      <td>304130.0</td>\n",
       "      <td>[[513329.0, 3965.0, 580.0, 104.0, 29.0, 8.0, 4...</td>\n",
       "      <td>99.93</td>\n",
       "      <td>375.0</td>\n",
       "      <td>518025.0</td>\n",
       "      <td>0.0</td>\n",
       "      <td>582.569736</td>\n",
       "      <td>2000-01-01 00:00:00+00:00</td>\n",
       "    </tr>\n",
       "  </tbody>\n",
       "</table>\n",
       "</div>"
      ],
      "text/plain": [
       "              start_datetime  min           max       mean     count  \\\n",
       "0  2020-01-01T00:00:00+00:00  0.0  18419.531250  58.532353  518400.0   \n",
       "1  2015-01-01T00:00:00+00:00  0.0  16791.851562  52.619171  518400.0   \n",
       "2  2010-01-01T00:00:00+00:00  0.0  15308.004883  47.493947  518400.0   \n",
       "3  2005-01-01T00:00:00+00:00  0.0  13955.282227  43.030074  518400.0   \n",
       "4  2000-01-01T00:00:00+00:00  0.0  12722.096680  39.124289  518400.0   \n",
       "\n",
       "          sum         std    median  majority  minority    unique  \\\n",
       "0  30321222.0  335.692952  0.441519       0.0  0.000001  304154.0   \n",
       "1  27258046.0  302.069689  0.432173       0.0  0.000001  304042.0   \n",
       "2  24603052.0  273.645484  0.426434       0.0  0.000001  304161.0   \n",
       "3  22290654.0  249.332851  0.417514       0.0  0.000001  304215.0   \n",
       "4  20267360.0  228.324844  0.405285       0.0  0.000001  304130.0   \n",
       "\n",
       "                                           histogram  valid_percent  \\\n",
       "0  [[512941.0, 4330.0, 627.0, 91.0, 22.0, 7.0, 1....          99.93   \n",
       "1  [[513082.0, 4248.0, 572.0, 87.0, 20.0, 9.0, 1....          99.93   \n",
       "2  [[513182.0, 4159.0, 560.0, 83.0, 25.0, 9.0, 1....          99.93   \n",
       "3  [[513253.0, 4076.0, 561.0, 91.0, 27.0, 10.0, 1...          99.93   \n",
       "4  [[513329.0, 3965.0, 580.0, 104.0, 29.0, 8.0, 4...          99.93   \n",
       "\n",
       "   masked_pixels  valid_pixels  percentile_2  percentile_98  \\\n",
       "0          375.0      518025.0           0.0     898.192100   \n",
       "1          375.0      518025.0           0.0     802.884363   \n",
       "2          375.0      518025.0           0.0     722.900876   \n",
       "3          375.0      518025.0           0.0     648.693762   \n",
       "4          375.0      518025.0           0.0     582.569736   \n",
       "\n",
       "                       date  \n",
       "0 2020-01-01 00:00:00+00:00  \n",
       "1 2015-01-01 00:00:00+00:00  \n",
       "2 2010-01-01 00:00:00+00:00  \n",
       "3 2005-01-01 00:00:00+00:00  \n",
       "4 2000-01-01 00:00:00+00:00  "
      ]
     },
     "execution_count": 20,
     "metadata": {},
     "output_type": "execute_result"
    }
   ],
   "source": [
    "import pandas as pd\n",
    "\n",
    "\n",
    "def clean_stats(stats_json) -> pd.DataFrame:\n",
    "    df = pd.json_normalize(stats_json)\n",
    "    df.columns = [col.replace(\"statistics.b1.\", \"\") for col in df.columns]\n",
    "    df[\"date\"] = pd.to_datetime(df[\"start_datetime\"])\n",
    "    return df\n",
    "\n",
    "\n",
    "df = clean_stats(stats)\n",
    "df.head(5)"
   ]
  },
  {
   "attachments": {},
   "cell_type": "markdown",
   "metadata": {},
   "source": [
    "## Visualizing the Data as a Time Series\n",
    "We can now explore the SEDAC population density dataset time series available for the Texas, Dallas area of USA. We can plot the dataset using the code below:"
   ]
  },
  {
   "cell_type": "code",
   "execution_count": 21,
   "metadata": {},
   "outputs": [
    {
     "data": {
      "text/plain": [
       "Text(0.5, 1.0, 'Population density over Texas, Dallas (2000-2020)')"
      ]
     },
     "execution_count": 21,
     "metadata": {},
     "output_type": "execute_result"
    },
    {
     "data": {
      "image/png": "[encoded data removed]",
      "text/plain": [
       "<Figure size 2000x1000 with 1 Axes>"
      ]
     },
     "metadata": {},
     "output_type": "display_data"
    }
   ],
   "source": [
    "import matplotlib.pyplot as plt\n",
    "\n",
    "fig = plt.figure(figsize=(20, 10))\n",
    "\n",
    "\n",
    "plt.plot(\n",
    "    df[\"date\"],\n",
    "    df[\"max\"],\n",
    "    color=\"red\",\n",
    "    linestyle=\"-\",\n",
    "    linewidth=0.5,\n",
    "    label=\"Population density over the years\",\n",
    ")\n",
    "\n",
    "plt.legend()\n",
    "plt.xlabel(\"Years\")\n",
    "plt.ylabel(\"Population density\")\n",
    "plt.title(\"Population density over Texas, Dallas (2000-2020)\")"
   ]
  },
  {
   "cell_type": "code",
   "execution_count": 22,
   "metadata": {},
   "outputs": [
    {
     "name": "stdout",
     "output_type": "stream",
     "text": [
      "2010-01-01T00:00:00+00:00\n"
     ]
    }
   ],
   "source": [
    "print(items[2][\"properties\"][\"start_datetime\"])"
   ]
  },
  {
   "cell_type": "code",
   "execution_count": 23,
   "metadata": {},
   "outputs": [
    {
     "data": {
      "text/plain": [
       "{'tilejson': '2.2.0',\n",
       " 'version': '1.0.0',\n",
       " 'scheme': 'xyz',\n",
       " 'tiles': ['https://ghg.center/api/raster/stac/tiles/WebMercatorQuad/{z}/{x}/{y}@1x?collection=sedac-popdensity-yeargrid5yr-v4.11&item=sedac-popdensity-yeargrid5yr-v4.11-2010&assets=population-density&color_formula=gamma+r+1.05&colormap_name=rainbow&rescale=-1505.7174072265625%2C30795.859375'],\n",
       " 'minzoom': 0,\n",
       " 'maxzoom': 24,\n",
       " 'bounds': [-180.0, -90.0, 179.99999999999983, 89.99999999999991],\n",
       " 'center': [-8.526512829121202e-14, -4.263256414560601e-14, 0]}"
      ]
     },
     "execution_count": 23,
     "metadata": {},
     "output_type": "execute_result"
    }
   ],
   "source": [
    "october_tile = requests.get(\n",
    "    f\"{RASTER_API_URL}/stac/tilejson.json?collection={items[2]['collection']}&item={items[2]['id']}\"\n",
    "    f\"&assets={asset_name}\"\n",
    "    f\"&color_formula=gamma+r+1.05&colormap_name={color_map}\"\n",
    "    f\"&rescale={rescale_values['min']},{rescale_values['max']}\",\n",
    ").json()\n",
    "october_tile"
   ]
  },
  {
   "cell_type": "code",
   "execution_count": 24,
   "metadata": {},
   "outputs": [
    {
     "data": {
      "text/html": [
       "<div style=\"width:100%;\"><div style=\"position:relative;width:100%;height:0;padding-bottom:60%;\"><span style=\"color:#565656\">Make this Notebook Trusted to load map: File -> Trust Notebook</span><iframe srcdoc=\"&lt;!DOCTYPE html&gt;\n",
       "&lt;html&gt;\n",
       "&lt;head&gt;\n",
       "    \n",
       "    &lt;meta http-equiv=&quot;content-type&quot; content=&quot;text/html; charset=UTF-8&quot; /&gt;\n",
       "    \n",
       "        &lt;script&gt;\n",
       "            L_NO_TOUCH = false;\n",
       "            L_DISABLE_3D = false;\n",
       "        &lt;/script&gt;\n",
       "    \n",
       "    &lt;style&gt;html, body {width: 100%;height: 100%;margin: 0;padding: 0;}&lt;/style&gt;\n",
       "    &lt;style&gt;#map {position:absolute;top:0;bottom:0;right:0;left:0;}&lt;/style&gt;\n",
       "    &lt;script src=&quot;https://cdn.jsdelivr.net/npm/leaflet@1.9.3/dist/leaflet.js&quot;&gt;&lt;/script&gt;\n",
       "    &lt;script src=&quot;https://code.jquery.com/jquery-1.12.4.min.js&quot;&gt;&lt;/script&gt;\n",
       "    &lt;script src=&quot;https://cdn.jsdelivr.net/npm/bootstrap@5.2.2/dist/js/bootstrap.bundle.min.js&quot;&gt;&lt;/script&gt;\n",
       "    &lt;script src=&quot;https://cdnjs.cloudflare.com/ajax/libs/Leaflet.awesome-markers/2.0.2/leaflet.awesome-markers.js&quot;&gt;&lt;/script&gt;\n",
       "    &lt;link rel=&quot;stylesheet&quot; href=&quot;https://cdn.jsdelivr.net/npm/leaflet@1.9.3/dist/leaflet.css&quot;/&gt;\n",
       "    &lt;link rel=&quot;stylesheet&quot; href=&quot;https://cdn.jsdelivr.net/npm/bootstrap@5.2.2/dist/css/bootstrap.min.css&quot;/&gt;\n",
       "    &lt;link rel=&quot;stylesheet&quot; href=&quot;https://netdna.bootstrapcdn.com/bootstrap/3.0.0/css/bootstrap.min.css&quot;/&gt;\n",
       "    &lt;link rel=&quot;stylesheet&quot; href=&quot;https://cdn.jsdelivr.net/npm/@fortawesome/fontawesome-free@6.2.0/css/all.min.css&quot;/&gt;\n",
       "    &lt;link rel=&quot;stylesheet&quot; href=&quot;https://cdnjs.cloudflare.com/ajax/libs/Leaflet.awesome-markers/2.0.2/leaflet.awesome-markers.css&quot;/&gt;\n",
       "    &lt;link rel=&quot;stylesheet&quot; href=&quot;https://cdn.jsdelivr.net/gh/python-visualization/folium/folium/templates/leaflet.awesome.rotate.min.css&quot;/&gt;\n",
       "    \n",
       "            &lt;meta name=&quot;viewport&quot; content=&quot;width=device-width,\n",
       "                initial-scale=1.0, maximum-scale=1.0, user-scalable=no&quot; /&gt;\n",
       "            &lt;style&gt;\n",
       "                #map_58bc9cbf76e2bd87fc8d222ab278d0ab {\n",
       "                    position: relative;\n",
       "                    width: 100.0%;\n",
       "                    height: 100.0%;\n",
       "                    left: 0.0%;\n",
       "                    top: 0.0%;\n",
       "                }\n",
       "                .leaflet-container { font-size: 1rem; }\n",
       "            &lt;/style&gt;\n",
       "        \n",
       "&lt;/head&gt;\n",
       "&lt;body&gt;\n",
       "    \n",
       "    \n",
       "            &lt;div class=&quot;folium-map&quot; id=&quot;map_58bc9cbf76e2bd87fc8d222ab278d0ab&quot; &gt;&lt;/div&gt;\n",
       "        \n",
       "&lt;/body&gt;\n",
       "&lt;script&gt;\n",
       "    \n",
       "    \n",
       "            var map_58bc9cbf76e2bd87fc8d222ab278d0ab = L.map(\n",
       "                &quot;map_58bc9cbf76e2bd87fc8d222ab278d0ab&quot;,\n",
       "                {\n",
       "                    center: [30.0, -100.0],\n",
       "                    crs: L.CRS.EPSG3857,\n",
       "                    zoom: 8,\n",
       "                    zoomControl: true,\n",
       "                    preferCanvas: false,\n",
       "                }\n",
       "            );\n",
       "\n",
       "            \n",
       "\n",
       "        \n",
       "    \n",
       "            var tile_layer_5eec02ba11e23c39f153b1dbbd046600 = L.tileLayer(\n",
       "                &quot;https://{s}.tile.openstreetmap.org/{z}/{x}/{y}.png&quot;,\n",
       "                {&quot;attribution&quot;: &quot;Data by \\u0026copy; \\u003ca target=\\&quot;_blank\\&quot; href=\\&quot;http://openstreetmap.org\\&quot;\\u003eOpenStreetMap\\u003c/a\\u003e, under \\u003ca target=\\&quot;_blank\\&quot; href=\\&quot;http://www.openstreetmap.org/copyright\\&quot;\\u003eODbL\\u003c/a\\u003e.&quot;, &quot;detectRetina&quot;: false, &quot;maxNativeZoom&quot;: 18, &quot;maxZoom&quot;: 18, &quot;minZoom&quot;: 0, &quot;noWrap&quot;: false, &quot;opacity&quot;: 1, &quot;subdomains&quot;: &quot;abc&quot;, &quot;tms&quot;: false}\n",
       "            ).addTo(map_58bc9cbf76e2bd87fc8d222ab278d0ab);\n",
       "        \n",
       "    \n",
       "            var tile_layer_96a119943bba20c9b4313dd07cd4e4c6 = L.tileLayer(\n",
       "                &quot;https://ghg.center/api/raster/stac/tiles/WebMercatorQuad/{z}/{x}/{y}@1x?collection=sedac-popdensity-yeargrid5yr-v4.11\\u0026item=sedac-popdensity-yeargrid5yr-v4.11-2010\\u0026assets=population-density\\u0026color_formula=gamma+r+1.05\\u0026colormap_name=rainbow\\u0026rescale=-1505.7174072265625%2C30795.859375&quot;,\n",
       "                {&quot;attribution&quot;: &quot;GHG&quot;, &quot;detectRetina&quot;: false, &quot;maxNativeZoom&quot;: 18, &quot;maxZoom&quot;: 18, &quot;minZoom&quot;: 0, &quot;noWrap&quot;: false, &quot;opacity&quot;: 0.5, &quot;subdomains&quot;: &quot;abc&quot;, &quot;tms&quot;: false}\n",
       "            ).addTo(map_58bc9cbf76e2bd87fc8d222ab278d0ab);\n",
       "        \n",
       "&lt;/script&gt;\n",
       "&lt;/html&gt;\" style=\"position:absolute;width:100%;height:100%;left:0;top:0;border:none !important;\" allowfullscreen webkitallowfullscreen mozallowfullscreen></iframe></div></div>"
      ],
      "text/plain": [
       "<folium.folium.Map at 0x1401a1490>"
      ]
     },
     "execution_count": 24,
     "metadata": {},
     "output_type": "execute_result"
    }
   ],
   "source": [
    "# Use bbox initial zoom and map\n",
    "# Set up a map located w/in event bounds\n",
    "import folium\n",
    "\n",
    "aoi_map_bbox = Map(\n",
    "    tiles=\"OpenStreetMap\",\n",
    "    location=[\n",
    "        30,-100\n",
    "    ],\n",
    "    zoom_start=8,\n",
    ")\n",
    "\n",
    "map_layer = TileLayer(\n",
    "    tiles=october_tile[\"tiles\"][0],\n",
    "    attr=\"GHG\", opacity = 0.5\n",
    ")\n",
    "\n",
    "map_layer.add_to(aoi_map_bbox)\n",
    "\n",
    "aoi_map_bbox"
   ]
  },
  {
   "attachments": {},
   "cell_type": "markdown",
   "metadata": {},
   "source": [
    "## Summary\n",
    "\n",
    "In this notebook we have successfully explored, analyzed and visualized the STAC collection for the SEDAC Gridded World Population Density dataset."
   ]
  }
 ],
 "metadata": {
  "kernelspec": {
   "display_name": "Python 3 (ipykernel)",
   "language": "python",
   "name": "python3"
  },
  "language_info": {
   "codemirror_mode": {
    "name": "ipython",
    "version": 3
   },
   "file_extension": ".py",
   "mimetype": "text/x-python",
   "name": "python",
   "nbconvert_exporter": "python",
   "pygments_lexer": "ipython3",
   "version": "3.9.16"
  }
 },
 "nbformat": 4,
 "nbformat_minor": 4
}
