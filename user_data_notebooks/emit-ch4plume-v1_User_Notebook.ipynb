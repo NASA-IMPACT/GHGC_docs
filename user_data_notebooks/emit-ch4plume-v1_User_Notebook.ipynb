{
 "cells": [
  {
   "cell_type": "raw",
   "metadata": {},
   "source": [
    "---\n",
    "title: EMIT Methane Point Source Plume Complexes\n",
    "description: >-\n",
    "  Daily aggregated, global point source methane emission plume estimates from\n",
    "  the EMIT instrument on the International Space Station (ISS)\n",
    "authors: 'Siddharth Chaudhary, Vishal Gaur'\n",
    "published: 1 August 2023\n",
    "execute:\n",
    "  freeze: true\n",
    "---"
   ]
  },
  {
   "attachments": {},
   "cell_type": "markdown",
   "metadata": {},
   "source": [
    "## Approach\n",
    "\n",
    "1. Identify available dates and temporal frequency of observations for the given collection using the GHGC API `/stac` endpoint. The collection processed in this notebook is the Earth Surface Mineral Dust Source Investigation (EMIT) methane emission plumes data product.\n",
    "2. Pass the STAC item into the raster API `/stac/tilejson.json` endpoint.\n",
    "3. Using `folium.Map`, visualize the plumes.\n",
    "4. After the visualization, perform zonal statistics for a given polygon.\n",
    "\n",
    "   "
   ]
  },
  {
   "attachments": {},
   "cell_type": "markdown",
   "metadata": {},
   "source": [
    "## About the Data\n",
    "\n",
    "The EMIT instrument builds upon NASA’s long history of developing advanced imaging spectrometers for new science and applications. EMIT launched to the International Space Station (ISS) on July 14, 2022. The data shows high-confidence research grade methane plumes from point source emitters - updated as they are identified - in keeping with JPL Open Science and Open Data policy."
   ]
  },
  {
   "attachments": {},
   "cell_type": "markdown",
   "metadata": {},
   "source": [
    "# Installing the Required Libraries\n",
    "Please run the next cell to install all the required libraries to run the notebook."
   ]
  },
  {
   "cell_type": "code",
   "execution_count": null,
   "metadata": {},
   "outputs": [],
   "source": [
    "%pip install requests\n",
    "%pip install folium\n",
    "%pip install rasterstats\n",
    "%pip install pystac_client"
   ]
  },
  {
   "attachments": {},
   "cell_type": "markdown",
   "metadata": {},
   "source": [
    "## Querying the STAC API"
   ]
  },
  {
   "cell_type": "code",
   "execution_count": null,
   "metadata": {},
   "outputs": [],
   "source": [
    "import requests\n",
    "from folium import Map, TileLayer\n",
    "from pystac_client import Client"
   ]
  },
  {
   "cell_type": "code",
   "execution_count": null,
   "metadata": {},
   "outputs": [],
   "source": [
    "# Provide STAC and RASTER API endpoints\n",
    "STAC_API_URL = \"http://ghg.center/api/stac\"\n",
    "RASTER_API_URL = \"https://ghg.center/api/raster\"\n",
    "\n",
    "#Please use the collection name similar to the one used in STAC collection.\n",
    "\n",
    "# Name of the collection for methane emission plumes. \n",
    "collection_name = \"emit-ch4plume-v1\""
   ]
  },
  {
   "cell_type": "code",
   "execution_count": null,
   "metadata": {},
   "outputs": [],
   "source": [
    "# Fetching the collection from STAC collections using appropriate endpoint.\n",
    "collection = requests.get(f\"{STAC_API_URL}/collections/{collection_name}\").json()\n",
    "collection"
   ]
  },
  {
   "attachments": {},
   "cell_type": "markdown",
   "metadata": {},
   "source": [
    "Examining the contents of our `collection` under the `temporal` variable, we note that data is available from August 2022 to May 2023. By looking at the `dashboard: time density`, we can see that observations are conducted daily and non-periodically (i.e., there are plumes emissions for multiple places on the same dates)."
   ]
  },
  {
   "cell_type": "code",
   "execution_count": null,
   "metadata": {},
   "outputs": [],
   "source": [
    "# Check total number of items available\n",
    "items = requests.get(f\"{STAC_API_URL}/collections/{collection_name}/items?limit=500\").json()[\"features\"]\n",
    "print(f\"Found {len(items)} items\")"
   ]
  },
  {
   "cell_type": "code",
   "execution_count": null,
   "metadata": {},
   "outputs": [],
   "source": [
    "# Examining the first item in the collection\n",
    "items[0]"
   ]
  },
  {
   "attachments": {},
   "cell_type": "markdown",
   "metadata": {},
   "source": [
    "Below, we are entering the minimum and maximum values to provide our upper and lower bounds in `rescale_values`."
   ]
  },
  {
   "attachments": {},
   "cell_type": "markdown",
   "metadata": {},
   "source": [
    "## Exploring Methane Emission Plumes (CH₄) using the Raster API\n",
    "\n",
    "In this notebook, we will explore global methane emission plumes from point sources. We will visualize the outputs on a map using `folium.`"
   ]
  },
  {
   "cell_type": "code",
   "execution_count": null,
   "metadata": {},
   "outputs": [],
   "source": [
    "# To access the year value from each item more easily, this will let us query more explicity by year and month (e.g., 2020-02)\n",
    "items = {item[\"id\"]: item for item in items} \n",
    "asset_name = \"ch4-plume-emissions\""
   ]
  },
  {
   "cell_type": "code",
   "execution_count": null,
   "metadata": {},
   "outputs": [],
   "source": [
    "# Fetching the min and max values for a specific item\n",
    "rescale_values = {\"max\":items[list(items.keys())[0]][\"assets\"][asset_name][\"raster:bands\"][0][\"histogram\"][\"max\"], \"min\":items[list(items.keys())[0]][\"assets\"][asset_name][\"raster:bands\"][0][\"histogram\"][\"min\"]}"
   ]
  },
  {
   "attachments": {},
   "cell_type": "markdown",
   "metadata": {},
   "source": [
    "Now we will pass the item id, collection name, and `rescaling_factor` to the `Raster API` endpoint. We will do this for only one item so that we can visualize the event. "
   ]
  },
  {
   "cell_type": "code",
   "execution_count": null,
   "metadata": {},
   "outputs": [],
   "source": [
    "color_map = \"magma\"\n",
    "methane_plume_tile = requests.get(\n",
    "    f\"{RASTER_API_URL}/stac/tilejson.json?collection={items[list(items.keys())[0]]['collection']}&item={items[list(items.keys())[0]]['id']}\"\n",
    "    f\"&assets={asset_name}\"\n",
    "    f\"&color_formula=gamma+r+1.05&colormap_name={color_map}\"\n",
    "    f\"&rescale={rescale_values['min']},{rescale_values['max']}\", \n",
    ").json()\n",
    "methane_plume_tile"
   ]
  },
  {
   "attachments": {},
   "cell_type": "markdown",
   "metadata": {},
   "source": [
    "## Visualizing CH₄ Emission Plume\n"
   ]
  },
  {
   "cell_type": "code",
   "execution_count": null,
   "metadata": {},
   "outputs": [],
   "source": [
    "# We will import folium to map and folium.plugins to allow side-by-side mapping\n",
    "import folium\n",
    "import folium.plugins\n",
    "\n",
    "# Set initial zoom and center of map for plume Layer\n",
    "map_ = folium.Map(location=(methane_plume_tile[\"center\"][1], methane_plume_tile[\"center\"][0]), zoom_start=13)\n",
    "\n",
    "# December 2001\n",
    "map_layer = TileLayer(\n",
    "    tiles=methane_plume_tile[\"tiles\"][0],\n",
    "    attr=\"GHG\",\n",
    "    opacity=1,\n",
    ")\n",
    "map_layer.add_to(map_)\n",
    "\n",
    "# visualising the map\n",
    "map_\n",
    "\n"
   ]
  },
  {
   "attachments": {},
   "cell_type": "markdown",
   "metadata": {},
   "source": [
    "# Calculating Zonal Statistics\n",
    "To perform zonal statistics, first we need to create a polygon. In this use case we will create a polygon around the plume."
   ]
  },
  {
   "cell_type": "code",
   "execution_count": null,
   "metadata": {},
   "outputs": [],
   "source": [
    "# Plume AOI \n",
    "methane_plume_aoi = {\n",
    "    \"type\": \"Feature\",\n",
    "    \"properties\": {},\n",
    "    \"geometry\": {\n",
    "        \"coordinates\":[\n",
    "          [\n",
    "[\n",
    "          -46.450625050282454,\n",
    "          -23.700764982003268\n",
    "        ],\n",
    "        [\n",
    "          -46.41212654134425,\n",
    "          -23.700764982003268\n",
    "        ],\n",
    "        [\n",
    "          -46.41212654134425,\n",
    "          -23.630816986890196\n",
    "        ],\n",
    "        [\n",
    "          -46.450625050282454,\n",
    "          -23.630816986890196\n",
    "        ],\n",
    "        [\n",
    "          -46.450625050282454,\n",
    "          -23.700764982003268\n",
    "        ]\n",
    "        ]],\n",
    "        \"type\": \"Polygon\",\n",
    "    },\n",
    "}"
   ]
  },
  {
   "cell_type": "code",
   "execution_count": null,
   "metadata": {},
   "outputs": [],
   "source": [
    "# We'll plug in the coordinates for a location\n",
    "# central to the study area and a reasonable zoom level\n",
    "\n",
    "import folium\n",
    "\n",
    "aoi_map = Map(\n",
    "    tiles=\"OpenStreetMap\",\n",
    "    location=[\n",
    "        -23.630816986890196,\n",
    "          -46.450625050282454\n",
    "    ],\n",
    "    zoom_start=14,\n",
    ")\n",
    "\n",
    "folium.GeoJson(methane_plume_aoi, name=\"Texas, Dallas\").add_to(aoi_map)\n",
    "aoi_map"
   ]
  },
  {
   "cell_type": "code",
   "execution_count": null,
   "metadata": {},
   "outputs": [],
   "source": [
    "# Check total number of items available\n",
    "items = requests.get(\n",
    "    f\"{STAC_API_URL}/collections/{collection_name}/items?limit=600\"\n",
    ").json()[\"features\"]\n",
    "print(f\"Found {len(items)} items\")"
   ]
  },
  {
   "cell_type": "code",
   "execution_count": null,
   "metadata": {},
   "outputs": [],
   "source": [
    "# Explore the first item\n",
    "items[0]"
   ]
  },
  {
   "cell_type": "code",
   "execution_count": null,
   "metadata": {},
   "outputs": [],
   "source": [
    "# The bounding box should be passed to the geojson param as a geojson Feature or FeatureCollection\n",
    "def generate_stats(item, geojson):\n",
    "    result = requests.post(\n",
    "        f\"{RASTER_API_URL}/cog/statistics\",\n",
    "        params={\"url\": item[\"assets\"][asset_name][\"href\"]},\n",
    "        json=geojson,\n",
    "    ).json()\n",
    "    print(result)\n",
    "    return {\n",
    "        **result[\"properties\"],\n",
    "        \"item_id\": item[\"id\"],\n",
    "    }"
   ]
  },
  {
   "cell_type": "code",
   "execution_count": null,
   "metadata": {},
   "outputs": [],
   "source": [
    "for item in items:\n",
    "    print(item[\"id\"])\n",
    "    break"
   ]
  },
  {
   "attachments": {},
   "cell_type": "markdown",
   "metadata": {},
   "source": [
    "With the function above, we can generate the statistics for the area of interest."
   ]
  },
  {
   "cell_type": "code",
   "execution_count": null,
   "metadata": {},
   "outputs": [],
   "source": [
    "%%time\n",
    "stats = [generate_stats(item, methane_plume_aoi) for item in items]"
   ]
  },
  {
   "cell_type": "code",
   "execution_count": null,
   "metadata": {},
   "outputs": [],
   "source": [
    "stats[0]"
   ]
  },
  {
   "cell_type": "code",
   "execution_count": null,
   "metadata": {},
   "outputs": [],
   "source": [
    "import pandas as pd\n",
    "\n",
    "\n",
    "def clean_stats(stats_json) -> pd.DataFrame:\n",
    "    df = pd.json_normalize(stats_json)\n",
    "    df.columns = [col.replace(\"statistics.b1.\", \"\") for col in df.columns]\n",
    "    # df[\"date\"] = pd.to_datetime(df[\"datetime\"])\n",
    "    return df\n",
    "\n",
    "\n",
    "df = clean_stats(stats)\n",
    "df.head(1)"
   ]
  },
  {
   "cell_type": "code",
   "execution_count": null,
   "metadata": {},
   "outputs": [],
   "source": [
    "plume_tile_2 = requests.get(\n",
    "    f\"{RASTER_API_URL}/stac/tilejson.json?collection={items[2]['collection']}&item={items[2]['id']}\"\n",
    "    f\"&assets={asset_name}\"\n",
    "    f\"&color_formula=gamma+r+1.05&colormap_name={color_map}\"\n",
    "    f\"&rescale={rescale_values['min']},{rescale_values['max']}\",\n",
    ").json()\n",
    "plume_tile_2"
   ]
  },
  {
   "cell_type": "code",
   "execution_count": null,
   "metadata": {},
   "outputs": [],
   "source": [
    "# Use bbox initial zoom and map\n",
    "# Set up a map located w/in event bounds\n",
    "import folium\n",
    "\n",
    "aoi_map_bbox = Map(\n",
    "    tiles=\"OpenStreetMap\",\n",
    "    location=[\n",
    "        -23.350,\n",
    "        -46.77,\n",
    "    ],\n",
    "    zoom_start=13,\n",
    ")\n",
    "\n",
    "map_layer = TileLayer(\n",
    "    tiles=plume_tile_2[\"tiles\"][0],\n",
    "    attr=\"GHG\", opacity = 1\n",
    ")\n",
    "\n",
    "map_layer.add_to(aoi_map_bbox)\n",
    "\n",
    "aoi_map_bbox"
   ]
  },
  {
   "attachments": {},
   "cell_type": "markdown",
   "metadata": {},
   "source": [
    "## Summary\n",
    "\n",
    "\n",
    "In this notebook we have successfully explored, analyzed, and visualized the STAC collection for EMIT methane emission plumes."
   ]
  }
 ],
 "metadata": {
  "kernelspec": {
   "display_name": "Python 3",
   "language": "python",
   "name": "python3"
  },
  "language_info": {
   "codemirror_mode": {
    "name": "ipython",
    "version": 3
   },
   "file_extension": ".py",
   "mimetype": "text/x-python",
   "name": "python",
   "nbconvert_exporter": "python",
   "pygments_lexer": "ipython3",
   "version": "3.9.16"
  },
  "vscode": {
   "interpreter": {
    "hash": "31f2aee4e71d21fbe5cf8b01ff0e069b9275f58929596ceb00d14d90e3e16cd6"
   }
  }
 },
 "nbformat": 4,
 "nbformat_minor": 4
}
