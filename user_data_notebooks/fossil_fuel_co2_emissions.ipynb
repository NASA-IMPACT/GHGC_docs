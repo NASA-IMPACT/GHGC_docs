{
 "cells": [
  {
   "cell_type": "raw",
   "metadata": {},
   "source": [
    "---\n",
    "title: ODIAC Fossil Fuel CO₂ Emissions Version 2022\n",
    "description: The Open-Data Inventory for Anthropogenic Carbon dioxide (ODIAC) is a high-spatial resolution global emission data product of CO₂ emissions from fossil fuel combustion (Oda and Maksyutov, 2011). ODIAC pioneered the combined use of space-based nighttime light data and individual power plant emission/location profiles to estimate the global spatial extent of fossil fuel CO₂ emissions. With the innovative emission modeling approach, ODIAC achieved the fine picture of global fossil fuel CO₂ emissions at a 1x1km..\n",
    "author: Siddharth Chaudhary, Vishal Gaur\n",
    "date: 29 June 2023\n",
    "execute:\n",
    "   freeze: true\n",
    "---"
   ]
  },
  {
   "attachments": {},
   "cell_type": "markdown",
   "metadata": {},
   "source": [
    "## Run this notebook\n",
    "\n",
    "You can launch this notebook using mybinder, by clicking the button below.\n",
    "\n",
    "<a href=\"https://mybinder.org/v2/gh/NASA-IMPACT/GHGC_docs/HEAD?labpath=user_data_notebooks/fossil_fuel_co2_emissions.ipynb\">\n",
    "<img src=\"https://mybinder.org/badge_logo.svg\" alt=\"Binder\" title=\"A cute binder\" width=\"150\"/> \n",
    "</a>"
   ]
  },
  {
   "attachments": {},
   "cell_type": "markdown",
   "metadata": {},
   "source": [
    "## Approach\n",
    "\n",
    "   1. Identify available dates and temporal frequency of observations for the given collection using the GHGC API `/stac` endpoint. Collection processed in this notebook is ODIAC CO2 emissions version 2022.\n",
    "   2. Pass the STAC item into raster API `/stac/tilejson.json` endpoint\n",
    "   3. We'll visualize two tiles (side-by-side) allowing for comparison of each of the time points using `folium.plugins.DualMap`\n",
    "   4. After the visualization, we'll perform zonal statistics for a given polygon.\n",
    "   "
   ]
  },
  {
   "attachments": {},
   "cell_type": "markdown",
   "metadata": {},
   "source": [
    "## About the Data\n",
    "\n",
    "The Open-Data Inventory for Anthropogenic Carbon dioxide (ODIAC) is a high-spatial resolution global emission data product of CO₂ emissions from fossil fuel combustion (Oda and Maksyutov, 2011). ODIAC pioneered the combined use of space-based nighttime light data and individual power plant emission/location profiles to estimate the global spatial extent of fossil fuel CO₂ emissions. With the innovative emission modeling approach, ODIAC achieved the fine picture of global fossil fuel CO₂ emissions at a 1x1km."
   ]
  },
  {
   "attachments": {},
   "cell_type": "markdown",
   "metadata": {},
   "source": [
    "# Installing the required libraries.\n",
    "Please run the next cell to install all the required libraries to run the notebook."
   ]
  },
  {
   "cell_type": "raw",
   "metadata": {},
   "source": [
    "!pip3 install requests\n",
    "!pip3 install rasterstats\n",
    "!pip3 install folium"
   ]
  },
  {
   "attachments": {},
   "cell_type": "markdown",
   "metadata": {},
   "source": [
    "## Querying the STAC API"
   ]
  },
  {
   "cell_type": "code",
   "execution_count": 1,
   "metadata": {},
   "outputs": [],
   "source": [
    "import requests\n",
    "from folium import Map, TileLayer\n",
    "from pystac_client import Client"
   ]
  },
  {
   "cell_type": "code",
   "execution_count": 2,
   "metadata": {},
   "outputs": [],
   "source": [
    "# Provide STAC and RASTER API endpoints\n",
    "STAC_API_URL = \"http://dev.ghg.center/api/stac\"\n",
    "RASTER_API_URL = \"https://dev.ghg.center/api/raster\"\n",
    "\n",
    "#Please use the collection name similar to the one used in STAC collection.\n",
    "# Name of the collection for ODIAC dataset. \n",
    "collection_name = \"odiac-fossil-fuel-co2-emissions-2022\""
   ]
  },
  {
   "cell_type": "code",
   "execution_count": 3,
   "metadata": {},
   "outputs": [
    {
     "data": {
      "text/plain": [
       "{'id': 'odiac-fossil-fuel-co2-emissions-2022',\n",
       " 'type': 'Collection',\n",
       " 'links': [{'rel': 'items',\n",
       "   'type': 'application/geo+json',\n",
       "   'href': 'https://gkynb1qvnl.execute-api.us-west-2.amazonaws.com/api/stac/collections/odiac-fossil-fuel-co2-emissions-2022/items'},\n",
       "  {'rel': 'parent',\n",
       "   'type': 'application/json',\n",
       "   'href': 'https://gkynb1qvnl.execute-api.us-west-2.amazonaws.com/api/stac/'},\n",
       "  {'rel': 'root',\n",
       "   'type': 'application/json',\n",
       "   'href': 'https://gkynb1qvnl.execute-api.us-west-2.amazonaws.com/api/stac/'},\n",
       "  {'rel': 'self',\n",
       "   'type': 'application/json',\n",
       "   'href': 'https://gkynb1qvnl.execute-api.us-west-2.amazonaws.com/api/stac/collections/odiac-fossil-fuel-co2-emissions-2022'}],\n",
       " 'title': 'ODIAC Fossil Fuel CO₂ Emissions Version 2022',\n",
       " 'assets': None,\n",
       " 'extent': {'spatial': {'bbox': [[-180, -90, 180, 90]]},\n",
       "  'temporal': {'interval': [['2000-01-01 00:00:00+00',\n",
       "     '2021-12-01 00:00:00+00']]}},\n",
       " 'license': 'CC-BY-4.0',\n",
       " 'keywords': None,\n",
       " 'providers': [{'url': 'https://www.nies.go.jp',\n",
       "   'name': 'National Institute for Environmental Studies',\n",
       "   'roles': ['producer', 'licensor'],\n",
       "   'description': None}],\n",
       " 'summaries': {'datetime': ['2000-01-01T00:00:00Z', '2021-12-01T00:00:00Z'],\n",
       "  'cog_default': None},\n",
       " 'description': 'The Open-Data Inventory for Anthropogenic Carbon dioxide (ODIAC) is a high-spatial resolution global emission data product of CO₂ emissions from fossil fuel combustion (Oda and Maksyutov, 2011). ODIAC pioneered the combined use of space-based nighttime light data and individual power plant emission/location profiles to estimate the global spatial extent of fossil fuel CO₂ emissions. With the innovative emission modeling approach, ODIAC achieved the fine picture of global fossil fuel CO₂ emissions at a 1x1km.',\n",
       " 'item_assets': {'co2-emissions': {'type': 'image/tiff; application=geotiff; profile=cloud-optimized',\n",
       "   'roles': ['data', 'layer'],\n",
       "   'title': 'Fossil Fuel CO₂ Emissions',\n",
       "   'description': 'CO₂ emissions from fossil fuel combustion, cement production and gas flaring.'}},\n",
       " 'stac_version': '1.0.0',\n",
       " 'stac_extensions': None,\n",
       " 'dashboard:is_periodic': True,\n",
       " 'dashboard:time_density': 'month'}"
      ]
     },
     "execution_count": 3,
     "metadata": {},
     "output_type": "execute_result"
    }
   ],
   "source": [
    "# Fetching the collection from STAC collections using appropriate endpoint.\n",
    "collection = requests.get(f\"{STAC_API_URL}/collections/{collection_name}\").json()\n",
    "collection"
   ]
  },
  {
   "attachments": {},
   "cell_type": "markdown",
   "metadata": {},
   "source": [
    "Examining the contents of our `collection` under `summaries` we see that the data is available from January 2000 to December 2021. By looking at the `dashboard:time density` we observe that the periodic frequency of these observations is monthly. "
   ]
  },
  {
   "cell_type": "code",
   "execution_count": 4,
   "metadata": {},
   "outputs": [
    {
     "name": "stdout",
     "output_type": "stream",
     "text": [
      "Found 264 items\n"
     ]
    }
   ],
   "source": [
    "# Check total number of items available\n",
    "items = requests.get(f\"{STAC_API_URL}/collections/{collection_name}/items?limit=300\").json()[\"features\"]\n",
    "print(f\"Found {len(items)} items\")"
   ]
  },
  {
   "cell_type": "code",
   "execution_count": 5,
   "metadata": {},
   "outputs": [
    {
     "data": {
      "text/plain": [
       "{'id': 'odiac-fossil-fuel-co2-emissions-2022-202112',\n",
       " 'bbox': [-180.0, -90.0, 180.0, 90.0],\n",
       " 'type': 'Feature',\n",
       " 'links': [{'rel': 'collection',\n",
       "   'type': 'application/json',\n",
       "   'href': 'https://gkynb1qvnl.execute-api.us-west-2.amazonaws.com/api/stac/collections/odiac-fossil-fuel-co2-emissions-2022'},\n",
       "  {'rel': 'parent',\n",
       "   'type': 'application/json',\n",
       "   'href': 'https://gkynb1qvnl.execute-api.us-west-2.amazonaws.com/api/stac/collections/odiac-fossil-fuel-co2-emissions-2022'},\n",
       "  {'rel': 'root',\n",
       "   'type': 'application/json',\n",
       "   'href': 'https://gkynb1qvnl.execute-api.us-west-2.amazonaws.com/api/stac/'},\n",
       "  {'rel': 'self',\n",
       "   'type': 'application/geo+json',\n",
       "   'href': 'https://gkynb1qvnl.execute-api.us-west-2.amazonaws.com/api/stac/collections/odiac-fossil-fuel-co2-emissions-2022/items/odiac-fossil-fuel-co2-emissions-2022-202112'}],\n",
       " 'assets': {'co2-emissions': {'href': 's3://ghgc-data-store-dev/ODIAC_geotiffs_COGs/odiac2022_1km_excl_intl_202112.tif',\n",
       "   'type': 'image/tiff; application=geotiff; profile=cloud-optimized',\n",
       "   'roles': ['data', 'layer'],\n",
       "   'title': 'Fossil Fuel CO₂ Emissions',\n",
       "   'proj:bbox': [-180.0, -90.0, 180.0, 90.0],\n",
       "   'proj:epsg': 4326.0,\n",
       "   'proj:shape': [21600.0, 43200.0],\n",
       "   'description': 'CO₂ emissions from fossil fuel combustion, cement production and gas flaring.',\n",
       "   'raster:bands': [{'scale': 1.0,\n",
       "     'nodata': -9999.0,\n",
       "     'offset': 0.0,\n",
       "     'sampling': 'area',\n",
       "     'data_type': 'float32',\n",
       "     'histogram': {'max': 2497.01904296875,\n",
       "      'min': -138.71914672851562,\n",
       "      'count': 11.0,\n",
       "      'buckets': [523457.0, 691.0, 95.0, 28.0, 11.0, 2.0, 2.0, 1.0, 0.0, 1.0]},\n",
       "     'statistics': {'mean': 0.9804128408432007,\n",
       "      'stddev': 14.766693454324674,\n",
       "      'maximum': 2497.01904296875,\n",
       "      'minimum': -138.71914672851562,\n",
       "      'valid_percent': 100.0}}],\n",
       "   'proj:geometry': {'type': 'Polygon',\n",
       "    'coordinates': [[[-180.0, -90.0],\n",
       "      [180.0, -90.0],\n",
       "      [180.0, 90.0],\n",
       "      [-180.0, 90.0],\n",
       "      [-180.0, -90.0]]]},\n",
       "   'proj:projjson': {'id': {'code': 4326.0, 'authority': 'EPSG'},\n",
       "    'name': 'WGS 84',\n",
       "    'type': 'GeographicCRS',\n",
       "    'datum': {'name': 'World Geodetic System 1984',\n",
       "     'type': 'GeodeticReferenceFrame',\n",
       "     'ellipsoid': {'name': 'WGS 84',\n",
       "      'semi_major_axis': 6378137.0,\n",
       "      'inverse_flattening': 298.257223563}},\n",
       "    '$schema': 'https://proj.org/schemas/v0.4/projjson.schema.json',\n",
       "    'coordinate_system': {'axis': [{'name': 'Geodetic latitude',\n",
       "       'unit': 'degree',\n",
       "       'direction': 'north',\n",
       "       'abbreviation': 'Lat'},\n",
       "      {'name': 'Geodetic longitude',\n",
       "       'unit': 'degree',\n",
       "       'direction': 'east',\n",
       "       'abbreviation': 'Lon'}],\n",
       "     'subtype': 'ellipsoidal'}},\n",
       "   'proj:transform': [0.008333333333333333,\n",
       "    0.0,\n",
       "    -180.0,\n",
       "    0.0,\n",
       "    -0.008333333333333333,\n",
       "    90.0,\n",
       "    0.0,\n",
       "    0.0,\n",
       "    1.0]}},\n",
       " 'geometry': {'type': 'Polygon',\n",
       "  'coordinates': [[[-180, -90],\n",
       "    [180, -90],\n",
       "    [180, 90],\n",
       "    [-180, 90],\n",
       "    [-180, -90]]]},\n",
       " 'collection': 'odiac-fossil-fuel-co2-emissions-2022',\n",
       " 'properties': {'end_datetime': '2021-12-31T00:00:00+00:00',\n",
       "  'start_datetime': '2021-12-01T00:00:00+00:00'},\n",
       " 'stac_version': '1.0.0',\n",
       " 'stac_extensions': []}"
      ]
     },
     "execution_count": 5,
     "metadata": {},
     "output_type": "execute_result"
    }
   ],
   "source": [
    "items[0]"
   ]
  },
  {
   "attachments": {},
   "cell_type": "markdown",
   "metadata": {},
   "source": [
    "This makes sense as there are 22 years between 2000 - 2021, with 12 months per year, meaning 264 records in total.  \n",
    "\n",
    "Below, we are entering the minimum and maximum values to provide our upper and lower bounds in `rescale_values`."
   ]
  },
  {
   "cell_type": "code",
   "execution_count": 6,
   "metadata": {},
   "outputs": [],
   "source": [
    "rescale_values = {'max': 300, 'min': -10}"
   ]
  },
  {
   "attachments": {},
   "cell_type": "markdown",
   "metadata": {},
   "source": [
    "## Exploring Changes in Carbon Dioxide (CO₂) levels using the Raster API\n",
    "\n",
    "We will explore changes in fossil fuel emissions in urban egions. In this notebook, we'll explore the impacts of these emissions and explore these changes over time. We'll then visualize the outputs on a map using `folium`. "
   ]
  },
  {
   "cell_type": "code",
   "execution_count": 7,
   "metadata": {},
   "outputs": [],
   "source": [
    "# to access the year value from each item more easily, this will let us query more explicity by year and month (e.g., 2020-02)\n",
    "items = {item[\"properties\"][\"start_datetime\"][:7]: item for item in items} "
   ]
  },
  {
   "attachments": {},
   "cell_type": "markdown",
   "metadata": {},
   "source": [
    "Now we will pass the item id, collection name, and `rescaling_factor` to the `Raster API` endpoint. We will do this twice, once for December 2001 and again for December 2021, so that we can visualize each event independently. "
   ]
  },
  {
   "cell_type": "code",
   "execution_count": 8,
   "metadata": {},
   "outputs": [
    {
     "data": {
      "text/plain": [
       "{'tilejson': '2.2.0',\n",
       " 'version': '1.0.0',\n",
       " 'scheme': 'xyz',\n",
       " 'tiles': ['https://2qncpyg24c.execute-api.us-west-2.amazonaws.com/api/raster/stac/tiles/WebMercatorQuad/{z}/{x}/{y}@1x?collection=odiac-fossil-fuel-co2-emissions-2022&item=odiac-fossil-fuel-co2-emissions-2022-200112&assets=co2-emissions&color_formula=gamma+r+1.05&colormap_name=rainbow&rescale=-10%2C300'],\n",
       " 'minzoom': 0,\n",
       " 'maxzoom': 24,\n",
       " 'bounds': [-180.0, -90.0, 180.0, 90.0],\n",
       " 'center': [0.0, 0.0, 0]}"
      ]
     },
     "execution_count": 8,
     "metadata": {},
     "output_type": "execute_result"
    }
   ],
   "source": [
    "color_map = \"rainbow\" # please select the color ramp from matplotlib library.\n",
    "december_2001_tile = requests.get(\n",
    "    f\"{RASTER_API_URL}/stac/tilejson.json?collection={items['2001-12']['collection']}&item={items['2001-12']['id']}\"\n",
    "    \"&assets=co2-emissions\"\n",
    "    f\"&color_formula=gamma+r+1.05&colormap_name={color_map}\"\n",
    "    f\"&rescale={rescale_values['min']},{rescale_values['max']}\", \n",
    ").json()\n",
    "december_2001_tile"
   ]
  },
  {
   "cell_type": "code",
   "execution_count": 9,
   "metadata": {},
   "outputs": [
    {
     "data": {
      "text/plain": [
       "{'tilejson': '2.2.0',\n",
       " 'version': '1.0.0',\n",
       " 'scheme': 'xyz',\n",
       " 'tiles': ['https://2qncpyg24c.execute-api.us-west-2.amazonaws.com/api/raster/stac/tiles/WebMercatorQuad/{z}/{x}/{y}@1x?collection=odiac-fossil-fuel-co2-emissions-2022&item=odiac-fossil-fuel-co2-emissions-2022-202112&assets=co2-emissions&color_formula=gamma+r+1.05&colormap_name=rainbow&rescale=-10%2C300'],\n",
       " 'minzoom': 0,\n",
       " 'maxzoom': 24,\n",
       " 'bounds': [-180.0, -90.0, 180.0, 90.0],\n",
       " 'center': [0.0, 0.0, 0]}"
      ]
     },
     "execution_count": 9,
     "metadata": {},
     "output_type": "execute_result"
    }
   ],
   "source": [
    "december_2021_tile = requests.get(\n",
    "    f\"{RASTER_API_URL}/stac/tilejson.json?collection={items['2021-12']['collection']}&item={items['2021-12']['id']}\"\n",
    "    \"&assets=co2-emissions\"\n",
    "    f\"&color_formula=gamma+r+1.05&colormap_name={color_map}\"\n",
    "    f\"&rescale={rescale_values['min']},{rescale_values['max']}\", \n",
    ").json()\n",
    "december_2021_tile"
   ]
  },
  {
   "attachments": {},
   "cell_type": "markdown",
   "metadata": {},
   "source": [
    "## Visualizing CO2 emissions\n"
   ]
  },
  {
   "cell_type": "code",
   "execution_count": 10,
   "metadata": {},
   "outputs": [
    {
     "data": {
      "text/html": [
       "<div style=\"width:100%;\"><div style=\"position:relative;width:100%;height:0;padding-bottom:60%;\"><span style=\"color:#565656\">Make this Notebook Trusted to load map: File -> Trust Notebook</span><iframe srcdoc=\"&lt;!DOCTYPE html&gt;\n",
       "&lt;html&gt;\n",
       "&lt;head&gt;\n",
       "    \n",
       "    &lt;meta http-equiv=&quot;content-type&quot; content=&quot;text/html; charset=UTF-8&quot; /&gt;\n",
       "    \n",
       "        &lt;script&gt;\n",
       "            L_NO_TOUCH = false;\n",
       "            L_DISABLE_3D = false;\n",
       "        &lt;/script&gt;\n",
       "    \n",
       "    &lt;style&gt;html, body {width: 100%;height: 100%;margin: 0;padding: 0;}&lt;/style&gt;\n",
       "    &lt;style&gt;#map {position:absolute;top:0;bottom:0;right:0;left:0;}&lt;/style&gt;\n",
       "    &lt;script src=&quot;https://cdn.jsdelivr.net/npm/leaflet@1.9.3/dist/leaflet.js&quot;&gt;&lt;/script&gt;\n",
       "    &lt;script src=&quot;https://code.jquery.com/jquery-1.12.4.min.js&quot;&gt;&lt;/script&gt;\n",
       "    &lt;script src=&quot;https://cdn.jsdelivr.net/npm/bootstrap@5.2.2/dist/js/bootstrap.bundle.min.js&quot;&gt;&lt;/script&gt;\n",
       "    &lt;script src=&quot;https://cdnjs.cloudflare.com/ajax/libs/Leaflet.awesome-markers/2.0.2/leaflet.awesome-markers.js&quot;&gt;&lt;/script&gt;\n",
       "    &lt;link rel=&quot;stylesheet&quot; href=&quot;https://cdn.jsdelivr.net/npm/leaflet@1.9.3/dist/leaflet.css&quot;/&gt;\n",
       "    &lt;link rel=&quot;stylesheet&quot; href=&quot;https://cdn.jsdelivr.net/npm/bootstrap@5.2.2/dist/css/bootstrap.min.css&quot;/&gt;\n",
       "    &lt;link rel=&quot;stylesheet&quot; href=&quot;https://netdna.bootstrapcdn.com/bootstrap/3.0.0/css/bootstrap.min.css&quot;/&gt;\n",
       "    &lt;link rel=&quot;stylesheet&quot; href=&quot;https://cdn.jsdelivr.net/npm/@fortawesome/fontawesome-free@6.2.0/css/all.min.css&quot;/&gt;\n",
       "    &lt;link rel=&quot;stylesheet&quot; href=&quot;https://cdnjs.cloudflare.com/ajax/libs/Leaflet.awesome-markers/2.0.2/leaflet.awesome-markers.css&quot;/&gt;\n",
       "    &lt;link rel=&quot;stylesheet&quot; href=&quot;https://cdn.jsdelivr.net/gh/python-visualization/folium/folium/templates/leaflet.awesome.rotate.min.css&quot;/&gt;\n",
       "    \n",
       "            &lt;meta name=&quot;viewport&quot; content=&quot;width=device-width,\n",
       "                initial-scale=1.0, maximum-scale=1.0, user-scalable=no&quot; /&gt;\n",
       "            &lt;style&gt;\n",
       "                #map_f3afdd576dfd53b7947a3ae5ccc19254 {\n",
       "                    position: absolute;\n",
       "                    width: 50.0%;\n",
       "                    height: 100.0%;\n",
       "                    left: 0.0%;\n",
       "                    top: 0.0%;\n",
       "                }\n",
       "                .leaflet-container { font-size: 1rem; }\n",
       "            &lt;/style&gt;\n",
       "        \n",
       "    \n",
       "            &lt;meta name=&quot;viewport&quot; content=&quot;width=device-width,\n",
       "                initial-scale=1.0, maximum-scale=1.0, user-scalable=no&quot; /&gt;\n",
       "            &lt;style&gt;\n",
       "                #map_464914c30b1e0e321254ba7d841a8efc {\n",
       "                    position: absolute;\n",
       "                    width: 50.0%;\n",
       "                    height: 100.0%;\n",
       "                    left: 50.0%;\n",
       "                    top: 0.0%;\n",
       "                }\n",
       "                .leaflet-container { font-size: 1rem; }\n",
       "            &lt;/style&gt;\n",
       "        \n",
       "    &lt;script src=&quot;https://cdn.jsdelivr.net/gh/jieter/Leaflet.Sync/L.Map.Sync.min.js&quot;&gt;&lt;/script&gt;\n",
       "&lt;/head&gt;\n",
       "&lt;body&gt;\n",
       "    \n",
       "    \n",
       "            &lt;div class=&quot;folium-map&quot; id=&quot;map_f3afdd576dfd53b7947a3ae5ccc19254&quot; &gt;&lt;/div&gt;\n",
       "        \n",
       "    \n",
       "            &lt;div class=&quot;folium-map&quot; id=&quot;map_464914c30b1e0e321254ba7d841a8efc&quot; &gt;&lt;/div&gt;\n",
       "        \n",
       "&lt;/body&gt;\n",
       "&lt;script&gt;\n",
       "    \n",
       "    \n",
       "            var map_f3afdd576dfd53b7947a3ae5ccc19254 = L.map(\n",
       "                &quot;map_f3afdd576dfd53b7947a3ae5ccc19254&quot;,\n",
       "                {\n",
       "                    center: [34.0, -118.0],\n",
       "                    crs: L.CRS.EPSG3857,\n",
       "                    zoom: 6,\n",
       "                    zoomControl: true,\n",
       "                    preferCanvas: false,\n",
       "                }\n",
       "            );\n",
       "\n",
       "            \n",
       "\n",
       "        \n",
       "    \n",
       "            var tile_layer_bb81c449829c67bb3c2cc270120469c2 = L.tileLayer(\n",
       "                &quot;https://{s}.tile.openstreetmap.org/{z}/{x}/{y}.png&quot;,\n",
       "                {&quot;attribution&quot;: &quot;Data by \\u0026copy; \\u003ca target=\\&quot;_blank\\&quot; href=\\&quot;http://openstreetmap.org\\&quot;\\u003eOpenStreetMap\\u003c/a\\u003e, under \\u003ca target=\\&quot;_blank\\&quot; href=\\&quot;http://www.openstreetmap.org/copyright\\&quot;\\u003eODbL\\u003c/a\\u003e.&quot;, &quot;detectRetina&quot;: false, &quot;maxNativeZoom&quot;: 18, &quot;maxZoom&quot;: 18, &quot;minZoom&quot;: 0, &quot;noWrap&quot;: false, &quot;opacity&quot;: 1, &quot;subdomains&quot;: &quot;abc&quot;, &quot;tms&quot;: false}\n",
       "            ).addTo(map_f3afdd576dfd53b7947a3ae5ccc19254);\n",
       "        \n",
       "    \n",
       "            var tile_layer_9c7f4b5be1f99151052ca55107830fc2 = L.tileLayer(\n",
       "                &quot;https://2qncpyg24c.execute-api.us-west-2.amazonaws.com/api/raster/stac/tiles/WebMercatorQuad/{z}/{x}/{y}@1x?collection=odiac-fossil-fuel-co2-emissions-2022\\u0026item=odiac-fossil-fuel-co2-emissions-2022-200112\\u0026assets=co2-emissions\\u0026color_formula=gamma+r+1.05\\u0026colormap_name=rainbow\\u0026rescale=-10%2C300&quot;,\n",
       "                {&quot;attribution&quot;: &quot;GHG&quot;, &quot;detectRetina&quot;: false, &quot;maxNativeZoom&quot;: 18, &quot;maxZoom&quot;: 18, &quot;minZoom&quot;: 0, &quot;noWrap&quot;: false, &quot;opacity&quot;: 0.5, &quot;subdomains&quot;: &quot;abc&quot;, &quot;tms&quot;: false}\n",
       "            ).addTo(map_f3afdd576dfd53b7947a3ae5ccc19254);\n",
       "        \n",
       "    \n",
       "            var map_464914c30b1e0e321254ba7d841a8efc = L.map(\n",
       "                &quot;map_464914c30b1e0e321254ba7d841a8efc&quot;,\n",
       "                {\n",
       "                    center: [34.0, -118.0],\n",
       "                    crs: L.CRS.EPSG3857,\n",
       "                    zoom: 6,\n",
       "                    zoomControl: true,\n",
       "                    preferCanvas: false,\n",
       "                }\n",
       "            );\n",
       "\n",
       "            \n",
       "\n",
       "        \n",
       "    \n",
       "            var tile_layer_bc4d60d51a2085348586621cba00345f = L.tileLayer(\n",
       "                &quot;https://{s}.tile.openstreetmap.org/{z}/{x}/{y}.png&quot;,\n",
       "                {&quot;attribution&quot;: &quot;Data by \\u0026copy; \\u003ca target=\\&quot;_blank\\&quot; href=\\&quot;http://openstreetmap.org\\&quot;\\u003eOpenStreetMap\\u003c/a\\u003e, under \\u003ca target=\\&quot;_blank\\&quot; href=\\&quot;http://www.openstreetmap.org/copyright\\&quot;\\u003eODbL\\u003c/a\\u003e.&quot;, &quot;detectRetina&quot;: false, &quot;maxNativeZoom&quot;: 18, &quot;maxZoom&quot;: 18, &quot;minZoom&quot;: 0, &quot;noWrap&quot;: false, &quot;opacity&quot;: 1, &quot;subdomains&quot;: &quot;abc&quot;, &quot;tms&quot;: false}\n",
       "            ).addTo(map_464914c30b1e0e321254ba7d841a8efc);\n",
       "        \n",
       "    \n",
       "            var tile_layer_ef9c5646daf20fab6189d1ab103b3104 = L.tileLayer(\n",
       "                &quot;https://2qncpyg24c.execute-api.us-west-2.amazonaws.com/api/raster/stac/tiles/WebMercatorQuad/{z}/{x}/{y}@1x?collection=odiac-fossil-fuel-co2-emissions-2022\\u0026item=odiac-fossil-fuel-co2-emissions-2022-202112\\u0026assets=co2-emissions\\u0026color_formula=gamma+r+1.05\\u0026colormap_name=rainbow\\u0026rescale=-10%2C300&quot;,\n",
       "                {&quot;attribution&quot;: &quot;GHG&quot;, &quot;detectRetina&quot;: false, &quot;maxNativeZoom&quot;: 18, &quot;maxZoom&quot;: 18, &quot;minZoom&quot;: 0, &quot;noWrap&quot;: false, &quot;opacity&quot;: 0.5, &quot;subdomains&quot;: &quot;abc&quot;, &quot;tms&quot;: false}\n",
       "            ).addTo(map_464914c30b1e0e321254ba7d841a8efc);\n",
       "        \n",
       "    \n",
       "            map_f3afdd576dfd53b7947a3ae5ccc19254.sync(map_464914c30b1e0e321254ba7d841a8efc);\n",
       "            map_464914c30b1e0e321254ba7d841a8efc.sync(map_f3afdd576dfd53b7947a3ae5ccc19254);\n",
       "        \n",
       "&lt;/script&gt;\n",
       "&lt;/html&gt;\" style=\"position:absolute;width:100%;height:100%;left:0;top:0;border:none !important;\" allowfullscreen webkitallowfullscreen mozallowfullscreen></iframe></div></div>"
      ],
      "text/plain": [
       "<folium.plugins.dual_map.DualMap at 0x12d8aadf0>"
      ]
     },
     "execution_count": 10,
     "metadata": {},
     "output_type": "execute_result"
    }
   ],
   "source": [
    "# We'll import folium to map and folium.plugins to allow mapping side-by-side\n",
    "import folium\n",
    "import folium.plugins\n",
    "\n",
    "# Set initial zoom and center of map for CO2 Layer\n",
    "map_ = folium.plugins.DualMap(location=(34, -118), zoom_start=6)\n",
    "\n",
    "# December 2001\n",
    "map_layer_2001 = TileLayer(\n",
    "    tiles=december_2001_tile[\"tiles\"][0],\n",
    "    attr=\"GHG\",\n",
    "    opacity=0.5,\n",
    ")\n",
    "map_layer_2001.add_to(map_.m1)\n",
    "\n",
    "# December 2021\n",
    "map_layer_2021 = TileLayer(\n",
    "    tiles=december_2021_tile[\"tiles\"][0],\n",
    "    attr=\"GHG\",\n",
    "    opacity=0.5,\n",
    ")\n",
    "map_layer_2021.add_to(map_.m2)\n",
    "\n",
    "# visualising the map\n",
    "map_\n",
    "\n"
   ]
  },
  {
   "attachments": {},
   "cell_type": "markdown",
   "metadata": {},
   "source": [
    "# Calculating the zonal statistics"
   ]
  },
  {
   "attachments": {},
   "cell_type": "markdown",
   "metadata": {},
   "source": [
    "## "
   ]
  },
  {
   "cell_type": "code",
   "execution_count": 11,
   "metadata": {},
   "outputs": [],
   "source": [
    "# Texas, Dallas, USA AOI\n",
    "texas_dallas_aoi = {\n",
    "    \"type\": \"Feature\",\n",
    "    \"properties\": {},\n",
    "    \"geometry\": {\n",
    "        \"coordinates\": [\n",
    "            [\n",
    "                [-100.05, 34.66],\n",
    "                [-94.07, 34.533],\n",
    "                [-93.85, 29.77],\n",
    "                [-99.43, 30.09]\n",
    "            ]\n",
    "        ],\n",
    "        \"type\": \"Polygon\",\n",
    "    },\n",
    "}"
   ]
  },
  {
   "cell_type": "code",
   "execution_count": 12,
   "metadata": {},
   "outputs": [
    {
     "data": {
      "text/html": [
       "<div style=\"width:100%;\"><div style=\"position:relative;width:100%;height:0;padding-bottom:60%;\"><span style=\"color:#565656\">Make this Notebook Trusted to load map: File -> Trust Notebook</span><iframe srcdoc=\"&lt;!DOCTYPE html&gt;\n",
       "&lt;html&gt;\n",
       "&lt;head&gt;\n",
       "    \n",
       "    &lt;meta http-equiv=&quot;content-type&quot; content=&quot;text/html; charset=UTF-8&quot; /&gt;\n",
       "    \n",
       "        &lt;script&gt;\n",
       "            L_NO_TOUCH = false;\n",
       "            L_DISABLE_3D = false;\n",
       "        &lt;/script&gt;\n",
       "    \n",
       "    &lt;style&gt;html, body {width: 100%;height: 100%;margin: 0;padding: 0;}&lt;/style&gt;\n",
       "    &lt;style&gt;#map {position:absolute;top:0;bottom:0;right:0;left:0;}&lt;/style&gt;\n",
       "    &lt;script src=&quot;https://cdn.jsdelivr.net/npm/leaflet@1.9.3/dist/leaflet.js&quot;&gt;&lt;/script&gt;\n",
       "    &lt;script src=&quot;https://code.jquery.com/jquery-1.12.4.min.js&quot;&gt;&lt;/script&gt;\n",
       "    &lt;script src=&quot;https://cdn.jsdelivr.net/npm/bootstrap@5.2.2/dist/js/bootstrap.bundle.min.js&quot;&gt;&lt;/script&gt;\n",
       "    &lt;script src=&quot;https://cdnjs.cloudflare.com/ajax/libs/Leaflet.awesome-markers/2.0.2/leaflet.awesome-markers.js&quot;&gt;&lt;/script&gt;\n",
       "    &lt;link rel=&quot;stylesheet&quot; href=&quot;https://cdn.jsdelivr.net/npm/leaflet@1.9.3/dist/leaflet.css&quot;/&gt;\n",
       "    &lt;link rel=&quot;stylesheet&quot; href=&quot;https://cdn.jsdelivr.net/npm/bootstrap@5.2.2/dist/css/bootstrap.min.css&quot;/&gt;\n",
       "    &lt;link rel=&quot;stylesheet&quot; href=&quot;https://netdna.bootstrapcdn.com/bootstrap/3.0.0/css/bootstrap.min.css&quot;/&gt;\n",
       "    &lt;link rel=&quot;stylesheet&quot; href=&quot;https://cdn.jsdelivr.net/npm/@fortawesome/fontawesome-free@6.2.0/css/all.min.css&quot;/&gt;\n",
       "    &lt;link rel=&quot;stylesheet&quot; href=&quot;https://cdnjs.cloudflare.com/ajax/libs/Leaflet.awesome-markers/2.0.2/leaflet.awesome-markers.css&quot;/&gt;\n",
       "    &lt;link rel=&quot;stylesheet&quot; href=&quot;https://cdn.jsdelivr.net/gh/python-visualization/folium/folium/templates/leaflet.awesome.rotate.min.css&quot;/&gt;\n",
       "    \n",
       "            &lt;meta name=&quot;viewport&quot; content=&quot;width=device-width,\n",
       "                initial-scale=1.0, maximum-scale=1.0, user-scalable=no&quot; /&gt;\n",
       "            &lt;style&gt;\n",
       "                #map_69a9da374f71f736514cc970abad1e1f {\n",
       "                    position: relative;\n",
       "                    width: 100.0%;\n",
       "                    height: 100.0%;\n",
       "                    left: 0.0%;\n",
       "                    top: 0.0%;\n",
       "                }\n",
       "                .leaflet-container { font-size: 1rem; }\n",
       "            &lt;/style&gt;\n",
       "        \n",
       "&lt;/head&gt;\n",
       "&lt;body&gt;\n",
       "    \n",
       "    \n",
       "            &lt;div class=&quot;folium-map&quot; id=&quot;map_69a9da374f71f736514cc970abad1e1f&quot; &gt;&lt;/div&gt;\n",
       "        \n",
       "&lt;/body&gt;\n",
       "&lt;script&gt;\n",
       "    \n",
       "    \n",
       "            var map_69a9da374f71f736514cc970abad1e1f = L.map(\n",
       "                &quot;map_69a9da374f71f736514cc970abad1e1f&quot;,\n",
       "                {\n",
       "                    center: [32.81, -96.93],\n",
       "                    crs: L.CRS.EPSG3857,\n",
       "                    zoom: 6,\n",
       "                    zoomControl: true,\n",
       "                    preferCanvas: false,\n",
       "                }\n",
       "            );\n",
       "\n",
       "            \n",
       "\n",
       "        \n",
       "    \n",
       "            var tile_layer_12cb380589e46fd51849a6cb69efee57 = L.tileLayer(\n",
       "                &quot;https://{s}.tile.openstreetmap.org/{z}/{x}/{y}.png&quot;,\n",
       "                {&quot;attribution&quot;: &quot;Data by \\u0026copy; \\u003ca target=\\&quot;_blank\\&quot; href=\\&quot;http://openstreetmap.org\\&quot;\\u003eOpenStreetMap\\u003c/a\\u003e, under \\u003ca target=\\&quot;_blank\\&quot; href=\\&quot;http://www.openstreetmap.org/copyright\\&quot;\\u003eODbL\\u003c/a\\u003e.&quot;, &quot;detectRetina&quot;: false, &quot;maxNativeZoom&quot;: 18, &quot;maxZoom&quot;: 18, &quot;minZoom&quot;: 0, &quot;noWrap&quot;: false, &quot;opacity&quot;: 1, &quot;subdomains&quot;: &quot;abc&quot;, &quot;tms&quot;: false}\n",
       "            ).addTo(map_69a9da374f71f736514cc970abad1e1f);\n",
       "        \n",
       "    \n",
       "\n",
       "        function geo_json_f040e8bc907096088ac464edaeb40149_onEachFeature(feature, layer) {\n",
       "            layer.on({\n",
       "            });\n",
       "        };\n",
       "        var geo_json_f040e8bc907096088ac464edaeb40149 = L.geoJson(null, {\n",
       "                onEachFeature: geo_json_f040e8bc907096088ac464edaeb40149_onEachFeature,\n",
       "            \n",
       "        });\n",
       "\n",
       "        function geo_json_f040e8bc907096088ac464edaeb40149_add (data) {\n",
       "            geo_json_f040e8bc907096088ac464edaeb40149\n",
       "                .addData(data)\n",
       "                .addTo(map_69a9da374f71f736514cc970abad1e1f);\n",
       "        }\n",
       "            geo_json_f040e8bc907096088ac464edaeb40149_add({&quot;geometry&quot;: {&quot;coordinates&quot;: [[[-100.05, 34.66], [-94.07, 34.533], [-93.85, 29.77], [-99.43, 30.09]]], &quot;type&quot;: &quot;Polygon&quot;}, &quot;properties&quot;: {}, &quot;type&quot;: &quot;Feature&quot;});\n",
       "\n",
       "        \n",
       "&lt;/script&gt;\n",
       "&lt;/html&gt;\" style=\"position:absolute;width:100%;height:100%;left:0;top:0;border:none !important;\" allowfullscreen webkitallowfullscreen mozallowfullscreen></iframe></div></div>"
      ],
      "text/plain": [
       "<folium.folium.Map at 0x12d8aaa00>"
      ]
     },
     "execution_count": 12,
     "metadata": {},
     "output_type": "execute_result"
    }
   ],
   "source": [
    "# We'll plug in the coordinates for a location\n",
    "# central to the study area and a reasonable zoom level\n",
    "\n",
    "import folium\n",
    "\n",
    "aoi_map = Map(\n",
    "    tiles=\"OpenStreetMap\",\n",
    "    location=[\n",
    "        32.81,-96.93,\n",
    "    ],\n",
    "    zoom_start=6,\n",
    ")\n",
    "\n",
    "folium.GeoJson(texas_dallas_aoi, name=\"Texas, Dallas\").add_to(aoi_map)\n",
    "aoi_map"
   ]
  },
  {
   "cell_type": "code",
   "execution_count": 13,
   "metadata": {},
   "outputs": [
    {
     "name": "stdout",
     "output_type": "stream",
     "text": [
      "Found 264 items\n"
     ]
    }
   ],
   "source": [
    "# Check total number of items available\n",
    "items = requests.get(\n",
    "    f\"{STAC_API_URL}/collections/{collection_name}/items?limit=300\"\n",
    ").json()[\"features\"]\n",
    "print(f\"Found {len(items)} items\")"
   ]
  },
  {
   "cell_type": "code",
   "execution_count": 14,
   "metadata": {},
   "outputs": [
    {
     "data": {
      "text/plain": [
       "{'id': 'odiac-fossil-fuel-co2-emissions-2022-202112',\n",
       " 'bbox': [-180.0, -90.0, 180.0, 90.0],\n",
       " 'type': 'Feature',\n",
       " 'links': [{'rel': 'collection',\n",
       "   'type': 'application/json',\n",
       "   'href': 'https://gkynb1qvnl.execute-api.us-west-2.amazonaws.com/api/stac/collections/odiac-fossil-fuel-co2-emissions-2022'},\n",
       "  {'rel': 'parent',\n",
       "   'type': 'application/json',\n",
       "   'href': 'https://gkynb1qvnl.execute-api.us-west-2.amazonaws.com/api/stac/collections/odiac-fossil-fuel-co2-emissions-2022'},\n",
       "  {'rel': 'root',\n",
       "   'type': 'application/json',\n",
       "   'href': 'https://gkynb1qvnl.execute-api.us-west-2.amazonaws.com/api/stac/'},\n",
       "  {'rel': 'self',\n",
       "   'type': 'application/geo+json',\n",
       "   'href': 'https://gkynb1qvnl.execute-api.us-west-2.amazonaws.com/api/stac/collections/odiac-fossil-fuel-co2-emissions-2022/items/odiac-fossil-fuel-co2-emissions-2022-202112'}],\n",
       " 'assets': {'co2-emissions': {'href': 's3://ghgc-data-store-dev/ODIAC_geotiffs_COGs/odiac2022_1km_excl_intl_202112.tif',\n",
       "   'type': 'image/tiff; application=geotiff; profile=cloud-optimized',\n",
       "   'roles': ['data', 'layer'],\n",
       "   'title': 'Fossil Fuel CO₂ Emissions',\n",
       "   'proj:bbox': [-180.0, -90.0, 180.0, 90.0],\n",
       "   'proj:epsg': 4326.0,\n",
       "   'proj:shape': [21600.0, 43200.0],\n",
       "   'description': 'CO₂ emissions from fossil fuel combustion, cement production and gas flaring.',\n",
       "   'raster:bands': [{'scale': 1.0,\n",
       "     'nodata': -9999.0,\n",
       "     'offset': 0.0,\n",
       "     'sampling': 'area',\n",
       "     'data_type': 'float32',\n",
       "     'histogram': {'max': 2497.01904296875,\n",
       "      'min': -138.71914672851562,\n",
       "      'count': 11.0,\n",
       "      'buckets': [523457.0, 691.0, 95.0, 28.0, 11.0, 2.0, 2.0, 1.0, 0.0, 1.0]},\n",
       "     'statistics': {'mean': 0.9804128408432007,\n",
       "      'stddev': 14.766693454324674,\n",
       "      'maximum': 2497.01904296875,\n",
       "      'minimum': -138.71914672851562,\n",
       "      'valid_percent': 100.0}}],\n",
       "   'proj:geometry': {'type': 'Polygon',\n",
       "    'coordinates': [[[-180.0, -90.0],\n",
       "      [180.0, -90.0],\n",
       "      [180.0, 90.0],\n",
       "      [-180.0, 90.0],\n",
       "      [-180.0, -90.0]]]},\n",
       "   'proj:projjson': {'id': {'code': 4326.0, 'authority': 'EPSG'},\n",
       "    'name': 'WGS 84',\n",
       "    'type': 'GeographicCRS',\n",
       "    'datum': {'name': 'World Geodetic System 1984',\n",
       "     'type': 'GeodeticReferenceFrame',\n",
       "     'ellipsoid': {'name': 'WGS 84',\n",
       "      'semi_major_axis': 6378137.0,\n",
       "      'inverse_flattening': 298.257223563}},\n",
       "    '$schema': 'https://proj.org/schemas/v0.4/projjson.schema.json',\n",
       "    'coordinate_system': {'axis': [{'name': 'Geodetic latitude',\n",
       "       'unit': 'degree',\n",
       "       'direction': 'north',\n",
       "       'abbreviation': 'Lat'},\n",
       "      {'name': 'Geodetic longitude',\n",
       "       'unit': 'degree',\n",
       "       'direction': 'east',\n",
       "       'abbreviation': 'Lon'}],\n",
       "     'subtype': 'ellipsoidal'}},\n",
       "   'proj:transform': [0.008333333333333333,\n",
       "    0.0,\n",
       "    -180.0,\n",
       "    0.0,\n",
       "    -0.008333333333333333,\n",
       "    90.0,\n",
       "    0.0,\n",
       "    0.0,\n",
       "    1.0]}},\n",
       " 'geometry': {'type': 'Polygon',\n",
       "  'coordinates': [[[-180, -90],\n",
       "    [180, -90],\n",
       "    [180, 90],\n",
       "    [-180, 90],\n",
       "    [-180, -90]]]},\n",
       " 'collection': 'odiac-fossil-fuel-co2-emissions-2022',\n",
       " 'properties': {'end_datetime': '2021-12-31T00:00:00+00:00',\n",
       "  'start_datetime': '2021-12-01T00:00:00+00:00'},\n",
       " 'stac_version': '1.0.0',\n",
       " 'stac_extensions': []}"
      ]
     },
     "execution_count": 14,
     "metadata": {},
     "output_type": "execute_result"
    }
   ],
   "source": [
    "# Explore one item to see what it contains\n",
    "items[0]"
   ]
  },
  {
   "cell_type": "code",
   "execution_count": 17,
   "metadata": {},
   "outputs": [],
   "source": [
    "# the bounding box should be passed to the geojson param as a geojson Feature or FeatureCollection\n",
    "def generate_stats(item, geojson):\n",
    "    print(item)\n",
    "    result = requests.post(\n",
    "        f\"{RASTER_API_URL}/cog/statistics\",\n",
    "        params={\"url\": item[\"assets\"][\"co2-emissions\"][\"href\"]},\n",
    "        json=geojson,\n",
    "    ).json()\n",
    "    print(result)\n",
    "    return {\n",
    "        **result[\"properties\"],\n",
    "        \"start_datetime\": item[\"properties\"][\"start_datetime\"],\n",
    "    }"
   ]
  },
  {
   "attachments": {},
   "cell_type": "markdown",
   "metadata": {},
   "source": [
    "With the function above we can generate the statistics for the AOI."
   ]
  },
  {
   "cell_type": "code",
   "execution_count": 18,
   "metadata": {},
   "outputs": [
    {
     "name": "stdout",
     "output_type": "stream",
     "text": [
      "{'id': 'odiac-fossil-fuel-co2-emissions-2022-202112', 'bbox': [-180.0, -90.0, 180.0, 90.0], 'type': 'Feature', 'links': [{'rel': 'collection', 'type': 'application/json', 'href': 'https://gkynb1qvnl.execute-api.us-west-2.amazonaws.com/api/stac/collections/odiac-fossil-fuel-co2-emissions-2022'}, {'rel': 'parent', 'type': 'application/json', 'href': 'https://gkynb1qvnl.execute-api.us-west-2.amazonaws.com/api/stac/collections/odiac-fossil-fuel-co2-emissions-2022'}, {'rel': 'root', 'type': 'application/json', 'href': 'https://gkynb1qvnl.execute-api.us-west-2.amazonaws.com/api/stac/'}, {'rel': 'self', 'type': 'application/geo+json', 'href': 'https://gkynb1qvnl.execute-api.us-west-2.amazonaws.com/api/stac/collections/odiac-fossil-fuel-co2-emissions-2022/items/odiac-fossil-fuel-co2-emissions-2022-202112'}], 'assets': {'co2-emissions': {'href': 's3://ghgc-data-store-dev/ODIAC_geotiffs_COGs/odiac2022_1km_excl_intl_202112.tif', 'type': 'image/tiff; application=geotiff; profile=cloud-optimized', 'roles': ['data', 'layer'], 'title': 'Fossil Fuel CO₂ Emissions', 'proj:bbox': [-180.0, -90.0, 180.0, 90.0], 'proj:epsg': 4326.0, 'proj:shape': [21600.0, 43200.0], 'description': 'CO₂ emissions from fossil fuel combustion, cement production and gas flaring.', 'raster:bands': [{'scale': 1.0, 'nodata': -9999.0, 'offset': 0.0, 'sampling': 'area', 'data_type': 'float32', 'histogram': {'max': 2497.01904296875, 'min': -138.71914672851562, 'count': 11.0, 'buckets': [523457.0, 691.0, 95.0, 28.0, 11.0, 2.0, 2.0, 1.0, 0.0, 1.0]}, 'statistics': {'mean': 0.9804128408432007, 'stddev': 14.766693454324674, 'maximum': 2497.01904296875, 'minimum': -138.71914672851562, 'valid_percent': 100.0}}], 'proj:geometry': {'type': 'Polygon', 'coordinates': [[[-180.0, -90.0], [180.0, -90.0], [180.0, 90.0], [-180.0, 90.0], [-180.0, -90.0]]]}, 'proj:projjson': {'id': {'code': 4326.0, 'authority': 'EPSG'}, 'name': 'WGS 84', 'type': 'GeographicCRS', 'datum': {'name': 'World Geodetic System 1984', 'type': 'GeodeticReferenceFrame', 'ellipsoid': {'name': 'WGS 84', 'semi_major_axis': 6378137.0, 'inverse_flattening': 298.257223563}}, '$schema': 'https://proj.org/schemas/v0.4/projjson.schema.json', 'coordinate_system': {'axis': [{'name': 'Geodetic latitude', 'unit': 'degree', 'direction': 'north', 'abbreviation': 'Lat'}, {'name': 'Geodetic longitude', 'unit': 'degree', 'direction': 'east', 'abbreviation': 'Lon'}], 'subtype': 'ellipsoidal'}}, 'proj:transform': [0.008333333333333333, 0.0, -180.0, 0.0, -0.008333333333333333, 90.0, 0.0, 0.0, 1.0]}}, 'geometry': {'type': 'Polygon', 'coordinates': [[[-180, -90], [180, -90], [180, 90], [-180, 90], [-180, -90]]]}, 'collection': 'odiac-fossil-fuel-co2-emissions-2022', 'properties': {'end_datetime': '2021-12-31T00:00:00+00:00', 'start_datetime': '2021-12-01T00:00:00+00:00'}, 'stac_version': '1.0.0', 'stac_extensions': []}\n",
      "{'detail': [{'loc': ['body', 'type'], 'msg': \"unexpected value; permitted: 'FeatureCollection'\", 'type': 'value_error.const', 'ctx': {'given': 'Feature', 'permitted': ['FeatureCollection']}}, {'loc': ['body', 'features'], 'msg': 'field required', 'type': 'value_error.missing'}, {'loc': ['body', 'geometry', 'coordinates'], 'msg': 'wrong tuple length 1, expected 2', 'type': 'value_error.tuple.length', 'ctx': {'actual_length': 1, 'expected_length': 2}}, {'loc': ['body', 'geometry', 'coordinates'], 'msg': 'wrong tuple length 1, expected 3', 'type': 'value_error.tuple.length', 'ctx': {'actual_length': 1, 'expected_length': 3}}, {'loc': ['body', 'geometry', 'type'], 'msg': \"unexpected value; permitted: 'Point'\", 'type': 'value_error.const', 'ctx': {'given': 'Polygon', 'permitted': ['Point']}}, {'loc': ['body', 'geometry', 'coordinates', 0], 'msg': 'wrong tuple length 4, expected 2', 'type': 'value_error.tuple.length', 'ctx': {'actual_length': 4, 'expected_length': 2}}, {'loc': ['body', 'geometry', 'coordinates', 0], 'msg': 'wrong tuple length 4, expected 3', 'type': 'value_error.tuple.length', 'ctx': {'actual_length': 4, 'expected_length': 3}}, {'loc': ['body', 'geometry', 'type'], 'msg': \"unexpected value; permitted: 'MultiPoint'\", 'type': 'value_error.const', 'ctx': {'given': 'Polygon', 'permitted': ['MultiPoint']}}, {'loc': ['body', 'geometry', 'coordinates'], 'msg': 'ensure this value has at least 2 items', 'type': 'value_error.list.min_items', 'ctx': {'limit_value': 2}}, {'loc': ['body', 'geometry', 'type'], 'msg': \"unexpected value; permitted: 'LineString'\", 'type': 'value_error.const', 'ctx': {'given': 'Polygon', 'permitted': ['LineString']}}, {'loc': ['body', 'geometry', 'type'], 'msg': \"unexpected value; permitted: 'MultiLineString'\", 'type': 'value_error.const', 'ctx': {'given': 'Polygon', 'permitted': ['MultiLineString']}}, {'loc': ['body', 'geometry', 'coordinates'], 'msg': 'All linear rings have the same start and end coordinates', 'type': 'value_error'}, {'loc': ['body', 'geometry', 'coordinates', 0, 0], 'msg': 'ensure this value has at least 4 items', 'type': 'value_error.list.min_items', 'ctx': {'limit_value': 4}}, {'loc': ['body', 'geometry', 'coordinates', 0, 1], 'msg': 'ensure this value has at least 4 items', 'type': 'value_error.list.min_items', 'ctx': {'limit_value': 4}}, {'loc': ['body', 'geometry', 'coordinates', 0, 2], 'msg': 'ensure this value has at least 4 items', 'type': 'value_error.list.min_items', 'ctx': {'limit_value': 4}}, {'loc': ['body', 'geometry', 'coordinates', 0, 3], 'msg': 'ensure this value has at least 4 items', 'type': 'value_error.list.min_items', 'ctx': {'limit_value': 4}}, {'loc': ['body', 'geometry', 'type'], 'msg': \"unexpected value; permitted: 'MultiPolygon'\", 'type': 'value_error.const', 'ctx': {'given': 'Polygon', 'permitted': ['MultiPolygon']}}, {'loc': ['body', 'geometry', 'type'], 'msg': \"unexpected value; permitted: 'GeometryCollection'\", 'type': 'value_error.const', 'ctx': {'given': 'Polygon', 'permitted': ['GeometryCollection']}}, {'loc': ['body', 'geometry', 'geometries'], 'msg': 'field required', 'type': 'value_error.missing'}]}\n"
     ]
    },
    {
     "ename": "KeyError",
     "evalue": "'properties'",
     "output_type": "error",
     "traceback": [
      "\u001b[0;31m---------------------------------------------------------------------------\u001b[0m",
      "\u001b[0;31mKeyError\u001b[0m                                  Traceback (most recent call last)",
      "File \u001b[0;32m<timed exec>:1\u001b[0m\n",
      "File \u001b[0;32m<timed exec>:1\u001b[0m, in \u001b[0;36m<listcomp>\u001b[0;34m(.0)\u001b[0m\n",
      "Cell \u001b[0;32mIn[17], line 11\u001b[0m, in \u001b[0;36mgenerate_stats\u001b[0;34m(item, geojson)\u001b[0m\n\u001b[1;32m      4\u001b[0m result \u001b[39m=\u001b[39m requests\u001b[39m.\u001b[39mpost(\n\u001b[1;32m      5\u001b[0m     \u001b[39mf\u001b[39m\u001b[39m\"\u001b[39m\u001b[39m{\u001b[39;00mRASTER_API_URL\u001b[39m}\u001b[39;00m\u001b[39m/cog/statistics\u001b[39m\u001b[39m\"\u001b[39m,\n\u001b[1;32m      6\u001b[0m     params\u001b[39m=\u001b[39m{\u001b[39m\"\u001b[39m\u001b[39murl\u001b[39m\u001b[39m\"\u001b[39m: item[\u001b[39m\"\u001b[39m\u001b[39massets\u001b[39m\u001b[39m\"\u001b[39m][\u001b[39m\"\u001b[39m\u001b[39mco2-emissions\u001b[39m\u001b[39m\"\u001b[39m][\u001b[39m\"\u001b[39m\u001b[39mhref\u001b[39m\u001b[39m\"\u001b[39m]},\n\u001b[1;32m      7\u001b[0m     json\u001b[39m=\u001b[39mgeojson,\n\u001b[1;32m      8\u001b[0m )\u001b[39m.\u001b[39mjson()\n\u001b[1;32m      9\u001b[0m \u001b[39mprint\u001b[39m(result)\n\u001b[1;32m     10\u001b[0m \u001b[39mreturn\u001b[39;00m {\n\u001b[0;32m---> 11\u001b[0m     \u001b[39m*\u001b[39m\u001b[39m*\u001b[39mresult[\u001b[39m\"\u001b[39;49m\u001b[39mproperties\u001b[39;49m\u001b[39m\"\u001b[39;49m],\n\u001b[1;32m     12\u001b[0m     \u001b[39m\"\u001b[39m\u001b[39mstart_datetime\u001b[39m\u001b[39m\"\u001b[39m: item[\u001b[39m\"\u001b[39m\u001b[39mproperties\u001b[39m\u001b[39m\"\u001b[39m][\u001b[39m\"\u001b[39m\u001b[39mstart_datetime\u001b[39m\u001b[39m\"\u001b[39m],\n\u001b[1;32m     13\u001b[0m }\n",
      "\u001b[0;31mKeyError\u001b[0m: 'properties'"
     ]
    }
   ],
   "source": [
    "%%time\n",
    "stats = [generate_stats(item, texas_dallas_aoi) for item in items]"
   ]
  },
  {
   "cell_type": "code",
   "execution_count": null,
   "metadata": {},
   "outputs": [],
   "source": [
    "stats[0]"
   ]
  },
  {
   "cell_type": "code",
   "execution_count": null,
   "metadata": {},
   "outputs": [],
   "source": [
    "import pandas as pd\n",
    "\n",
    "\n",
    "def clean_stats(stats_json) -> pd.DataFrame:\n",
    "    df = pd.json_normalize(stats_json)\n",
    "    df.columns = [col.replace(\"statistics.b1.\", \"\") for col in df.columns]\n",
    "    df[\"date\"] = pd.to_datetime(df[\"start_datetime\"])\n",
    "    return df\n",
    "\n",
    "\n",
    "df = clean_stats(stats)\n",
    "df.head(5)"
   ]
  },
  {
   "attachments": {},
   "cell_type": "markdown",
   "metadata": {},
   "source": [
    "## Visualizing the Data as a Time Series\n",
    "We can now explore the ODIAC fossil fuel emission time series available (January 2000 -December 2021) for the Texas, Dallas area of USA. We can plot the data set using the code below:"
   ]
  },
  {
   "cell_type": "code",
   "execution_count": null,
   "metadata": {},
   "outputs": [],
   "source": [
    "import matplotlib.pyplot as plt\n",
    "\n",
    "fig = plt.figure(figsize=(20, 10))\n",
    "\n",
    "\n",
    "plt.plot(\n",
    "    df[\"date\"],\n",
    "    df[\"max\"],\n",
    "    color=\"red\",\n",
    "    linestyle=\"-\",\n",
    "    linewidth=0.5,\n",
    "    label=\"Max monthly CO2 emissions\",\n",
    ")\n",
    "\n",
    "plt.legend()\n",
    "plt.xlabel(\"Years\")\n",
    "plt.ylabel(\"CO2 emissions gC/m2/d\")\n",
    "plt.title(\"CO2 emission Values for Texas, Dallas (2000-2021)\")"
   ]
  },
  {
   "cell_type": "code",
   "execution_count": null,
   "metadata": {},
   "outputs": [],
   "source": [
    "print(items[2][\"properties\"][\"start_datetime\"])"
   ]
  },
  {
   "cell_type": "code",
   "execution_count": null,
   "metadata": {},
   "outputs": [],
   "source": [
    "october_tile = requests.get(\n",
    "    f\"{RASTER_API_URL}/stac/tilejson.json?collection={items[2]['collection']}&item={items[2]['id']}\"\n",
    "    \"&assets=co2-emissions\"\n",
    "    f\"&color_formula=gamma+r+1.05&colormap_name={color_map}\"\n",
    "    f\"&rescale={rescale_values['min']},{rescale_values['max']}\",\n",
    ").json()\n",
    "october_tile"
   ]
  },
  {
   "cell_type": "code",
   "execution_count": null,
   "metadata": {},
   "outputs": [],
   "source": [
    "# Use bbox initial zoom and map\n",
    "# Set up a map located w/in event bounds\n",
    "import folium\n",
    "\n",
    "aoi_map_bbox = Map(\n",
    "    tiles=\"OpenStreetMap\",\n",
    "    location=[\n",
    "        -22.421460,\n",
    "        14.268801,\n",
    "    ],\n",
    "    zoom_start=8,\n",
    ")\n",
    "\n",
    "map_layer = TileLayer(\n",
    "    tiles=october_tile[\"tiles\"][0],\n",
    "    attr=\"GHG\", opacity = 0.5\n",
    ")\n",
    "\n",
    "map_layer.add_to(aoi_map_bbox)\n",
    "\n",
    "aoi_map_bbox"
   ]
  },
  {
   "attachments": {},
   "cell_type": "markdown",
   "metadata": {},
   "source": [
    "## Summary\n",
    "\n",
    "In this notebook we have successfully explored, analysed and visualized STAC collecetion for ODIAC C02 fossisl fuel emission (2022)."
   ]
  }
 ],
 "metadata": {
  "kernelspec": {
   "display_name": "Python 3 (ipykernel)",
   "language": "python",
   "name": "python3"
  },
  "language_info": {
   "codemirror_mode": {
    "name": "ipython",
    "version": 3
   },
   "file_extension": ".py",
   "mimetype": "text/x-python",
   "name": "python",
   "nbconvert_exporter": "python",
   "pygments_lexer": "ipython3",
   "version": "3.9.16"
  }
 },
 "nbformat": 4,
 "nbformat_minor": 4
}
