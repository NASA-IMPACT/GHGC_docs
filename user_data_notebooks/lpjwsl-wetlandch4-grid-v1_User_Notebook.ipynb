{
 "cells": [
  {
   "cell_type": "raw",
   "metadata": {},
   "source": [
    "---\n",
    "title: 'Wetland Methane Emissions, LPJ-EOSIM Model'\n",
    "description: >-\n",
    "  Global, daily and monthly 0.5 degree resolution methane emission estimates\n",
    "  from wetlands, LPJ-wsl model\n",
    "authors: 'Siddharth Chaudhary, Vishal Gaur'\n",
    "published: 10 April 2024\n",
    "execute:\n",
    "  freeze: true\n",
    "---"
   ]
  },
  {
   "attachments": {},
   "cell_type": "markdown",
   "metadata": {},
   "source": [
    "## Approach\n",
    "\n",
    "1. Identify available dates and temporal frequency of observations for the given collection using the GHGC API `/stac` endpoint. The collection processed in this notebook is the Wetland Methane Emissions, LPJ-wsl Model data product.\n",
    "2. Pass the STAC item into the raster API `/stac/tilejson.json `endpoint.\n",
    "3. Using `folium.plugins.DualMap`, visualize two tiles (side-by-side), allowing time point comparison.\n",
    "4. After the visualization, perform zonal statistics for a given polygon.\n",
    "\n",
    "   "
   ]
  },
  {
   "attachments": {},
   "cell_type": "markdown",
   "metadata": {},
   "source": [
    "## About the Data\n",
    "\n",
    "Methane (CH₄) emissions from vegetated wetlands are estimated to be the largest natural source of methane in the global CH₄ budget, contributing to roughly one third of the total of natural and anthropogenic emissions. Wetland CH₄ is produced by microbes breaking down organic matter in the oxygen deprived environment of inundated soils. Due to limited data availability, the details of the role of wetland CH₄ emissions have thus far been underrepresented. Using the Earth Observation SIMulator  version (LPJ-EOSIM) of the Lund-Potsdam-Jena Dynamic Global Vegetation Model (LPJ-DGVM) global CH₄ emissions from wetlands are estimated at 0.5 x 0.5 degree spatial resolution by simulating wetland extent and using characteristics of these inundated areas, such as soil moisture, temperature, and carbon content, to estimate CH₄ quantities emitted into the atmosphere. Highlighted areas displayed in this dataset show concentrated methane sources from tropical and high latitude ecosystems. The LPJ-EOSIM Wetland Methane Emissions data product presented here consists of global daily model estimates of terrestrial wetland CH₄ emissions from 1990 - ongoing. These data are regularly used in conjunction with NASA’s Goddard Earth Observing System (GEOS) model to simulate the impact of wetlands and other methane sources on atmospheric methane concentrations, to compare against satellite and airborne data, and to improve understanding and prediction of wetland emissions. "
   ]
  },
  {
   "attachments": {},
   "cell_type": "markdown",
   "metadata": {},
   "source": [
    "# Installing the Required Libraries\n",
    "Please run the next cell to install all the required libraries to run the notebook."
   ]
  },
  {
   "cell_type": "code",
   "execution_count": null,
   "metadata": {},
   "outputs": [],
   "source": [
    "%pip install requests\n",
    "%pip install folium\n",
    "%pip install rasterstats\n",
    "%pip install pystac_client"
   ]
  },
  {
   "attachments": {},
   "cell_type": "markdown",
   "metadata": {},
   "source": [
    "## Querying the STAC API"
   ]
  },
  {
   "cell_type": "code",
   "execution_count": 1,
   "metadata": {},
   "outputs": [],
   "source": [
    "import requests\n",
    "from folium import Map, TileLayer\n",
    "from pystac_client import Client"
   ]
  },
  {
   "cell_type": "code",
   "execution_count": 2,
   "metadata": {},
   "outputs": [],
   "source": [
    "# Provide STAC and RASTER API endpoints\n",
    "STAC_API_URL = \"http://ghg.center/api/stac\"\n",
    "RASTER_API_URL = \"https://ghg.center/api/raster\"\n",
    "\n",
    "# Please use the collection name similar to the one used in STAC collection.\n",
    "\n",
    "# Name of the collection for wetland methane monthly emissions. \n",
    "collection_name = \"lpjwsl-wetlandch4-daygrid-v2\"\n",
    "asset_name = \"ensemble-mean-ch4-wetlands-emissions\""
   ]
  },
  {
   "cell_type": "code",
   "execution_count": null,
   "metadata": {},
   "outputs": [],
   "source": [
    "# Fetching the collection from STAC collections using appropriate endpoint.\n",
    "collection = requests.get(f\"{STAC_API_URL}/collections/{collection_name}\").json()\n",
    "collection"
   ]
  },
  {
   "attachments": {},
   "cell_type": "markdown",
   "metadata": {},
   "source": [
    "Examining the contents of our `collection` under `summaries`, we see that the data is available from January 1980 to December 2021. By looking at `dashboard: time density`, we can see that these observations are collected monthly."
   ]
  },
  {
   "cell_type": "code",
   "execution_count": 4,
   "metadata": {},
   "outputs": [],
   "source": [
    "def get_item_count(collection_id):\n",
    "    count = 0\n",
    "    items_url = f\"{STAC_API_URL}/collections/{collection_id}/items\"\n",
    "\n",
    "    while True:\n",
    "        response = requests.get(items_url)\n",
    "\n",
    "        if not response.ok:\n",
    "            print(\"error getting items\")\n",
    "            exit()\n",
    "\n",
    "        stac = response.json()\n",
    "        count += int(stac[\"context\"].get(\"returned\", 0))\n",
    "        next = [link for link in stac[\"links\"] if link[\"rel\"] == \"next\"]\n",
    "\n",
    "        if not next:\n",
    "            break\n",
    "        items_url = next[0][\"href\"]\n",
    "\n",
    "    return count"
   ]
  },
  {
   "cell_type": "code",
   "execution_count": 5,
   "metadata": {},
   "outputs": [
    {
     "name": "stdout",
     "output_type": "stream",
     "text": [
      "Found 504 items\n"
     ]
    }
   ],
   "source": [
    "# Check total number of items available\n",
    "number_of_items = get_item_count(collection_name)\n",
    "items = requests.get(f\"{STAC_API_URL}/collections/{collection_name}/items?limit=600\"\n",
    ").json()[\"features\"]\n",
    "print(f\"Found {len(items)} items\")"
   ]
  },
  {
   "cell_type": "code",
   "execution_count": null,
   "metadata": {},
   "outputs": [],
   "source": [
    "# Examining the first item in the collection\n",
    "items[0]"
   ]
  },
  {
   "attachments": {},
   "cell_type": "markdown",
   "metadata": {},
   "source": [
    "Below, we enter minimum and maximum values to provide our upper and lower bounds in `rescale_values.`"
   ]
  },
  {
   "cell_type": "code",
   "execution_count": 7,
   "metadata": {},
   "outputs": [],
   "source": [
    "rescale_values = {'max': 0.2, 'min': 0.0}"
   ]
  },
  {
   "attachments": {},
   "cell_type": "markdown",
   "metadata": {},
   "source": [
    "## Exploring Changes in Methane (CH4) Emission Levels Using the Raster API\n",
    "\n",
    "In this notebook, we will explore the temporal impacts of methane emissions. We will visualize the outputs on a map using `folium`.\n"
   ]
  },
  {
   "cell_type": "code",
   "execution_count": 8,
   "metadata": {},
   "outputs": [],
   "source": [
    "# To access the year value from each item more easily, this will let us query more explicity by year and month (e.g., 2020-02)\n",
    "items = {item[\"properties\"][\"datetime\"][:7]: item for item in items} "
   ]
  },
  {
   "attachments": {},
   "cell_type": "markdown",
   "metadata": {},
   "source": [
    "Now, we will pass the item id, collection name, and `rescaling_factor` to the `Raster API` endpoint. We will do this twice, once for December 2001 and again for December 2021, so we can visualize each event independently."
   ]
  },
  {
   "cell_type": "code",
   "execution_count": 9,
   "metadata": {},
   "outputs": [
    {
     "data": {
      "text/plain": [
       "{'tilejson': '2.2.0',\n",
       " 'version': '1.0.0',\n",
       " 'scheme': 'xyz',\n",
       " 'tiles': ['https://ghg.center/api/raster/stac/tiles/WebMercatorQuad/{z}/{x}/{y}@1x?collection=lpjwsl-wetlandch4-monthgrid-v1&item=lpjwsl-wetlandch4-monthgrid-v1-200112&assets=ch4-wetlands-emissions&color_formula=gamma+r+1.05&colormap_name=magma&rescale=0.0%2C0.2'],\n",
       " 'minzoom': 0,\n",
       " 'maxzoom': 24,\n",
       " 'bounds': [-180.0, -90.0, 180.0, 90.0],\n",
       " 'center': [0.0, 0.0, 0]}"
      ]
     },
     "execution_count": 9,
     "metadata": {},
     "output_type": "execute_result"
    }
   ],
   "source": [
    "color_map = \"magma\" # select the color ramp from matplotlib library.\n",
    "december_2001_tile = requests.get(\n",
    "    f\"{RASTER_API_URL}/stac/tilejson.json?collection={items['2001-12-01']['collection']}&item={items['2001-12-01']['id']}\"\n",
    "    f\"&assets={asset_name}\"\n",
    "    f\"&color_formula=gamma+r+1.05&colormap_name={color_map}\"\n",
    "    f\"&rescale={rescale_values['min']},{rescale_values['max']}\", \n",
    ").json()\n",
    "december_2001_tile"
   ]
  },
  {
   "cell_type": "code",
   "execution_count": 10,
   "metadata": {},
   "outputs": [
    {
     "data": {
      "text/plain": [
       "{'tilejson': '2.2.0',\n",
       " 'version': '1.0.0',\n",
       " 'scheme': 'xyz',\n",
       " 'tiles': ['https://ghg.center/api/raster/stac/tiles/WebMercatorQuad/{z}/{x}/{y}@1x?collection=lpjwsl-wetlandch4-monthgrid-v1&item=lpjwsl-wetlandch4-monthgrid-v1-202112&assets=ch4-wetlands-emissions&color_formula=gamma+r+1.05&colormap_name=magma&rescale=0.0%2C0.2'],\n",
       " 'minzoom': 0,\n",
       " 'maxzoom': 24,\n",
       " 'bounds': [-180.0, -90.0, 180.0, 90.0],\n",
       " 'center': [0.0, 0.0, 0]}"
      ]
     },
     "execution_count": 10,
     "metadata": {},
     "output_type": "execute_result"
    }
   ],
   "source": [
    "december_2021_tile = requests.get(\n",
    "    f\"{RASTER_API_URL}/stac/tilejson.json?collection={items['2021-12-01']['collection']}&item={items['2021-12-01']['id']}\"\n",
    "    f\"&assets={asset_name}\"\n",
    "    f\"&color_formula=gamma+r+1.05&colormap_name={color_map}\"\n",
    "    f\"&rescale={rescale_values['min']},{rescale_values['max']}\", \n",
    ").json()\n",
    "december_2021_tile"
   ]
  },
  {
   "attachments": {},
   "cell_type": "markdown",
   "metadata": {},
   "source": [
    "## Visualizing CH₄ Emissions\n"
   ]
  },
  {
   "cell_type": "code",
   "execution_count": 11,
   "metadata": {},
   "outputs": [
    {
     "data": {
      "text/html": [
       "<div style=\"width:100%;\"><div style=\"position:relative;width:100%;height:0;padding-bottom:60%;\"><span style=\"color:#565656\">Make this Notebook Trusted to load map: File -> Trust Notebook</span><iframe srcdoc=\"&lt;!DOCTYPE html&gt;\n",
       "&lt;html&gt;\n",
       "&lt;head&gt;\n",
       "    \n",
       "    &lt;meta http-equiv=&quot;content-type&quot; content=&quot;text/html; charset=UTF-8&quot; /&gt;\n",
       "    \n",
       "        &lt;script&gt;\n",
       "            L_NO_TOUCH = false;\n",
       "            L_DISABLE_3D = false;\n",
       "        &lt;/script&gt;\n",
       "    \n",
       "    &lt;style&gt;html, body {width: 100%;height: 100%;margin: 0;padding: 0;}&lt;/style&gt;\n",
       "    &lt;style&gt;#map {position:absolute;top:0;bottom:0;right:0;left:0;}&lt;/style&gt;\n",
       "    &lt;script src=&quot;https://cdn.jsdelivr.net/npm/leaflet@1.9.3/dist/leaflet.js&quot;&gt;&lt;/script&gt;\n",
       "    &lt;script src=&quot;https://code.jquery.com/jquery-3.7.1.min.js&quot;&gt;&lt;/script&gt;\n",
       "    &lt;script src=&quot;https://cdn.jsdelivr.net/npm/bootstrap@5.2.2/dist/js/bootstrap.bundle.min.js&quot;&gt;&lt;/script&gt;\n",
       "    &lt;script src=&quot;https://cdnjs.cloudflare.com/ajax/libs/Leaflet.awesome-markers/2.0.2/leaflet.awesome-markers.js&quot;&gt;&lt;/script&gt;\n",
       "    &lt;link rel=&quot;stylesheet&quot; href=&quot;https://cdn.jsdelivr.net/npm/leaflet@1.9.3/dist/leaflet.css&quot;/&gt;\n",
       "    &lt;link rel=&quot;stylesheet&quot; href=&quot;https://cdn.jsdelivr.net/npm/bootstrap@5.2.2/dist/css/bootstrap.min.css&quot;/&gt;\n",
       "    &lt;link rel=&quot;stylesheet&quot; href=&quot;https://netdna.bootstrapcdn.com/bootstrap/3.0.0/css/bootstrap.min.css&quot;/&gt;\n",
       "    &lt;link rel=&quot;stylesheet&quot; href=&quot;https://cdn.jsdelivr.net/npm/@fortawesome/fontawesome-free@6.2.0/css/all.min.css&quot;/&gt;\n",
       "    &lt;link rel=&quot;stylesheet&quot; href=&quot;https://cdnjs.cloudflare.com/ajax/libs/Leaflet.awesome-markers/2.0.2/leaflet.awesome-markers.css&quot;/&gt;\n",
       "    &lt;link rel=&quot;stylesheet&quot; href=&quot;https://cdn.jsdelivr.net/gh/python-visualization/folium/folium/templates/leaflet.awesome.rotate.min.css&quot;/&gt;\n",
       "    \n",
       "            &lt;meta name=&quot;viewport&quot; content=&quot;width=device-width,\n",
       "                initial-scale=1.0, maximum-scale=1.0, user-scalable=no&quot; /&gt;\n",
       "            &lt;style&gt;\n",
       "                #map_803dfd24705b959dbbf5990904d942da {\n",
       "                    position: absolute;\n",
       "                    width: 50.0%;\n",
       "                    height: 100.0%;\n",
       "                    left: 0.0%;\n",
       "                    top: 0.0%;\n",
       "                }\n",
       "                .leaflet-container { font-size: 1rem; }\n",
       "            &lt;/style&gt;\n",
       "        \n",
       "    \n",
       "            &lt;meta name=&quot;viewport&quot; content=&quot;width=device-width,\n",
       "                initial-scale=1.0, maximum-scale=1.0, user-scalable=no&quot; /&gt;\n",
       "            &lt;style&gt;\n",
       "                #map_6d3888ae45782aa85870c8aeb7aec982 {\n",
       "                    position: absolute;\n",
       "                    width: 50.0%;\n",
       "                    height: 100.0%;\n",
       "                    left: 50.0%;\n",
       "                    top: 0.0%;\n",
       "                }\n",
       "                .leaflet-container { font-size: 1rem; }\n",
       "            &lt;/style&gt;\n",
       "        \n",
       "    &lt;script src=&quot;https://cdn.jsdelivr.net/gh/jieter/Leaflet.Sync/L.Map.Sync.min.js&quot;&gt;&lt;/script&gt;\n",
       "&lt;/head&gt;\n",
       "&lt;body&gt;\n",
       "    \n",
       "    \n",
       "            &lt;div class=&quot;folium-map&quot; id=&quot;map_803dfd24705b959dbbf5990904d942da&quot; &gt;&lt;/div&gt;\n",
       "        \n",
       "    \n",
       "            &lt;div class=&quot;folium-map&quot; id=&quot;map_6d3888ae45782aa85870c8aeb7aec982&quot; &gt;&lt;/div&gt;\n",
       "        \n",
       "&lt;/body&gt;\n",
       "&lt;script&gt;\n",
       "    \n",
       "    \n",
       "            var map_803dfd24705b959dbbf5990904d942da = L.map(\n",
       "                &quot;map_803dfd24705b959dbbf5990904d942da&quot;,\n",
       "                {\n",
       "                    center: [34.0, -118.0],\n",
       "                    crs: L.CRS.EPSG3857,\n",
       "                    zoom: 6,\n",
       "                    zoomControl: true,\n",
       "                    preferCanvas: false,\n",
       "                }\n",
       "            );\n",
       "\n",
       "            \n",
       "\n",
       "        \n",
       "    \n",
       "            var tile_layer_ad5544502d2eb95b321938f68353ac45 = L.tileLayer(\n",
       "                &quot;https://tile.openstreetmap.org/{z}/{x}/{y}.png&quot;,\n",
       "                {&quot;attribution&quot;: &quot;\\u0026copy; \\u003ca href=\\&quot;https://www.openstreetmap.org/copyright\\&quot;\\u003eOpenStreetMap\\u003c/a\\u003e contributors&quot;, &quot;detectRetina&quot;: false, &quot;maxNativeZoom&quot;: 19, &quot;maxZoom&quot;: 19, &quot;minZoom&quot;: 0, &quot;noWrap&quot;: false, &quot;opacity&quot;: 1, &quot;subdomains&quot;: &quot;abc&quot;, &quot;tms&quot;: false}\n",
       "            );\n",
       "        \n",
       "    \n",
       "            tile_layer_ad5544502d2eb95b321938f68353ac45.addTo(map_803dfd24705b959dbbf5990904d942da);\n",
       "        \n",
       "    \n",
       "            var tile_layer_35269c24a28ce23f0ec334ffa83a8b86 = L.tileLayer(\n",
       "                &quot;https://ghg.center/api/raster/stac/tiles/WebMercatorQuad/{z}/{x}/{y}@1x?collection=lpjwsl-wetlandch4-monthgrid-v1\\u0026item=lpjwsl-wetlandch4-monthgrid-v1-200112\\u0026assets=ch4-wetlands-emissions\\u0026color_formula=gamma+r+1.05\\u0026colormap_name=magma\\u0026rescale=0.0%2C0.2&quot;,\n",
       "                {&quot;attribution&quot;: &quot;GHG&quot;, &quot;detectRetina&quot;: false, &quot;maxNativeZoom&quot;: 18, &quot;maxZoom&quot;: 18, &quot;minZoom&quot;: 0, &quot;noWrap&quot;: false, &quot;opacity&quot;: 0.5, &quot;subdomains&quot;: &quot;abc&quot;, &quot;tms&quot;: false}\n",
       "            );\n",
       "        \n",
       "    \n",
       "            tile_layer_35269c24a28ce23f0ec334ffa83a8b86.addTo(map_803dfd24705b959dbbf5990904d942da);\n",
       "        \n",
       "    \n",
       "            var map_6d3888ae45782aa85870c8aeb7aec982 = L.map(\n",
       "                &quot;map_6d3888ae45782aa85870c8aeb7aec982&quot;,\n",
       "                {\n",
       "                    center: [34.0, -118.0],\n",
       "                    crs: L.CRS.EPSG3857,\n",
       "                    zoom: 6,\n",
       "                    zoomControl: true,\n",
       "                    preferCanvas: false,\n",
       "                }\n",
       "            );\n",
       "\n",
       "            \n",
       "\n",
       "        \n",
       "    \n",
       "            var tile_layer_454ad6651c829dbe0962f5020595bc4b = L.tileLayer(\n",
       "                &quot;https://tile.openstreetmap.org/{z}/{x}/{y}.png&quot;,\n",
       "                {&quot;attribution&quot;: &quot;\\u0026copy; \\u003ca href=\\&quot;https://www.openstreetmap.org/copyright\\&quot;\\u003eOpenStreetMap\\u003c/a\\u003e contributors&quot;, &quot;detectRetina&quot;: false, &quot;maxNativeZoom&quot;: 19, &quot;maxZoom&quot;: 19, &quot;minZoom&quot;: 0, &quot;noWrap&quot;: false, &quot;opacity&quot;: 1, &quot;subdomains&quot;: &quot;abc&quot;, &quot;tms&quot;: false}\n",
       "            );\n",
       "        \n",
       "    \n",
       "            tile_layer_454ad6651c829dbe0962f5020595bc4b.addTo(map_6d3888ae45782aa85870c8aeb7aec982);\n",
       "        \n",
       "    \n",
       "            var tile_layer_900c32add432be26a0004a8ec11d5361 = L.tileLayer(\n",
       "                &quot;https://ghg.center/api/raster/stac/tiles/WebMercatorQuad/{z}/{x}/{y}@1x?collection=lpjwsl-wetlandch4-monthgrid-v1\\u0026item=lpjwsl-wetlandch4-monthgrid-v1-202112\\u0026assets=ch4-wetlands-emissions\\u0026color_formula=gamma+r+1.05\\u0026colormap_name=magma\\u0026rescale=0.0%2C0.2&quot;,\n",
       "                {&quot;attribution&quot;: &quot;GHG&quot;, &quot;detectRetina&quot;: false, &quot;maxNativeZoom&quot;: 18, &quot;maxZoom&quot;: 18, &quot;minZoom&quot;: 0, &quot;noWrap&quot;: false, &quot;opacity&quot;: 0.5, &quot;subdomains&quot;: &quot;abc&quot;, &quot;tms&quot;: false}\n",
       "            );\n",
       "        \n",
       "    \n",
       "            tile_layer_900c32add432be26a0004a8ec11d5361.addTo(map_6d3888ae45782aa85870c8aeb7aec982);\n",
       "        \n",
       "    \n",
       "            map_803dfd24705b959dbbf5990904d942da.sync(map_6d3888ae45782aa85870c8aeb7aec982);\n",
       "            map_6d3888ae45782aa85870c8aeb7aec982.sync(map_803dfd24705b959dbbf5990904d942da);\n",
       "        \n",
       "&lt;/script&gt;\n",
       "&lt;/html&gt;\" style=\"position:absolute;width:100%;height:100%;left:0;top:0;border:none !important;\" allowfullscreen webkitallowfullscreen mozallowfullscreen></iframe></div></div>"
      ],
      "text/plain": [
       "<folium.plugins.dual_map.DualMap at 0x7fcfa87424c0>"
      ]
     },
     "execution_count": 11,
     "metadata": {},
     "output_type": "execute_result"
    }
   ],
   "source": [
    "# We will import folium to map and folium.plugins to allow side-by-side mapping\n",
    "import folium\n",
    "import folium.plugins\n",
    "\n",
    "# Set initial zoom and center of map for CH₄ Layer\n",
    "# Centre of map [latitude,longitude]\n",
    "map_ = folium.plugins.DualMap(location=(34, -118), zoom_start=6)\n",
    "\n",
    "# December 2001\n",
    "map_layer_2001 = TileLayer(\n",
    "    tiles=december_2001_tile[\"tiles\"][0],\n",
    "    attr=\"GHG\",\n",
    "    opacity=0.5,\n",
    ")\n",
    "map_layer_2001.add_to(map_.m1)\n",
    "\n",
    "# December 2021\n",
    "map_layer_2021 = TileLayer(\n",
    "    tiles=december_2021_tile[\"tiles\"][0],\n",
    "    attr=\"GHG\",\n",
    "    opacity=0.5,\n",
    ")\n",
    "map_layer_2021.add_to(map_.m2)\n",
    "\n",
    "# visualising the map\n",
    "map_\n",
    "\n"
   ]
  },
  {
   "attachments": {},
   "cell_type": "markdown",
   "metadata": {},
   "source": [
    "# Calculating Zonal Statistics\n",
    "To perform zonal statistics, first we need to create a polygon. In this use case, we are creating a polygon in Texas (USA)."
   ]
  },
  {
   "cell_type": "code",
   "execution_count": 12,
   "metadata": {},
   "outputs": [],
   "source": [
    "# Texas, USA\n",
    "texas_aoi = {\n",
    "    \"type\": \"Feature\",\n",
    "    \"properties\": {},\n",
    "    \"geometry\": {\n",
    "        \"coordinates\": [\n",
    "            [\n",
    "                [-95, 29],\n",
    "                [-95, 33],\n",
    "                [-104, 33],\n",
    "                [-104,29],\n",
    "                [-95, 29]\n",
    "            ]\n",
    "        ],\n",
    "        \"type\": \"Polygon\",\n",
    "    },\n",
    "}"
   ]
  },
  {
   "cell_type": "code",
   "execution_count": 13,
   "metadata": {},
   "outputs": [
    {
     "data": {
      "text/html": [
       "<div style=\"width:100%;\"><div style=\"position:relative;width:100%;height:0;padding-bottom:60%;\"><span style=\"color:#565656\">Make this Notebook Trusted to load map: File -> Trust Notebook</span><iframe srcdoc=\"&lt;!DOCTYPE html&gt;\n",
       "&lt;html&gt;\n",
       "&lt;head&gt;\n",
       "    \n",
       "    &lt;meta http-equiv=&quot;content-type&quot; content=&quot;text/html; charset=UTF-8&quot; /&gt;\n",
       "    \n",
       "        &lt;script&gt;\n",
       "            L_NO_TOUCH = false;\n",
       "            L_DISABLE_3D = false;\n",
       "        &lt;/script&gt;\n",
       "    \n",
       "    &lt;style&gt;html, body {width: 100%;height: 100%;margin: 0;padding: 0;}&lt;/style&gt;\n",
       "    &lt;style&gt;#map {position:absolute;top:0;bottom:0;right:0;left:0;}&lt;/style&gt;\n",
       "    &lt;script src=&quot;https://cdn.jsdelivr.net/npm/leaflet@1.9.3/dist/leaflet.js&quot;&gt;&lt;/script&gt;\n",
       "    &lt;script src=&quot;https://code.jquery.com/jquery-3.7.1.min.js&quot;&gt;&lt;/script&gt;\n",
       "    &lt;script src=&quot;https://cdn.jsdelivr.net/npm/bootstrap@5.2.2/dist/js/bootstrap.bundle.min.js&quot;&gt;&lt;/script&gt;\n",
       "    &lt;script src=&quot;https://cdnjs.cloudflare.com/ajax/libs/Leaflet.awesome-markers/2.0.2/leaflet.awesome-markers.js&quot;&gt;&lt;/script&gt;\n",
       "    &lt;link rel=&quot;stylesheet&quot; href=&quot;https://cdn.jsdelivr.net/npm/leaflet@1.9.3/dist/leaflet.css&quot;/&gt;\n",
       "    &lt;link rel=&quot;stylesheet&quot; href=&quot;https://cdn.jsdelivr.net/npm/bootstrap@5.2.2/dist/css/bootstrap.min.css&quot;/&gt;\n",
       "    &lt;link rel=&quot;stylesheet&quot; href=&quot;https://netdna.bootstrapcdn.com/bootstrap/3.0.0/css/bootstrap.min.css&quot;/&gt;\n",
       "    &lt;link rel=&quot;stylesheet&quot; href=&quot;https://cdn.jsdelivr.net/npm/@fortawesome/fontawesome-free@6.2.0/css/all.min.css&quot;/&gt;\n",
       "    &lt;link rel=&quot;stylesheet&quot; href=&quot;https://cdnjs.cloudflare.com/ajax/libs/Leaflet.awesome-markers/2.0.2/leaflet.awesome-markers.css&quot;/&gt;\n",
       "    &lt;link rel=&quot;stylesheet&quot; href=&quot;https://cdn.jsdelivr.net/gh/python-visualization/folium/folium/templates/leaflet.awesome.rotate.min.css&quot;/&gt;\n",
       "    \n",
       "            &lt;meta name=&quot;viewport&quot; content=&quot;width=device-width,\n",
       "                initial-scale=1.0, maximum-scale=1.0, user-scalable=no&quot; /&gt;\n",
       "            &lt;style&gt;\n",
       "                #map_26d4f0f29a892e40e82f1207f6449295 {\n",
       "                    position: relative;\n",
       "                    width: 100.0%;\n",
       "                    height: 100.0%;\n",
       "                    left: 0.0%;\n",
       "                    top: 0.0%;\n",
       "                }\n",
       "                .leaflet-container { font-size: 1rem; }\n",
       "            &lt;/style&gt;\n",
       "        \n",
       "&lt;/head&gt;\n",
       "&lt;body&gt;\n",
       "    \n",
       "    \n",
       "            &lt;div class=&quot;folium-map&quot; id=&quot;map_26d4f0f29a892e40e82f1207f6449295&quot; &gt;&lt;/div&gt;\n",
       "        \n",
       "&lt;/body&gt;\n",
       "&lt;script&gt;\n",
       "    \n",
       "    \n",
       "            var map_26d4f0f29a892e40e82f1207f6449295 = L.map(\n",
       "                &quot;map_26d4f0f29a892e40e82f1207f6449295&quot;,\n",
       "                {\n",
       "                    center: [30.0, -101.0],\n",
       "                    crs: L.CRS.EPSG3857,\n",
       "                    zoom: 6,\n",
       "                    zoomControl: true,\n",
       "                    preferCanvas: false,\n",
       "                }\n",
       "            );\n",
       "\n",
       "            \n",
       "\n",
       "        \n",
       "    \n",
       "            var tile_layer_556c4998af218e469b51c82621d403b9 = L.tileLayer(\n",
       "                &quot;https://tile.openstreetmap.org/{z}/{x}/{y}.png&quot;,\n",
       "                {&quot;attribution&quot;: &quot;\\u0026copy; \\u003ca href=\\&quot;https://www.openstreetmap.org/copyright\\&quot;\\u003eOpenStreetMap\\u003c/a\\u003e contributors&quot;, &quot;detectRetina&quot;: false, &quot;maxNativeZoom&quot;: 19, &quot;maxZoom&quot;: 19, &quot;minZoom&quot;: 0, &quot;noWrap&quot;: false, &quot;opacity&quot;: 1, &quot;subdomains&quot;: &quot;abc&quot;, &quot;tms&quot;: false}\n",
       "            );\n",
       "        \n",
       "    \n",
       "            tile_layer_556c4998af218e469b51c82621d403b9.addTo(map_26d4f0f29a892e40e82f1207f6449295);\n",
       "        \n",
       "    \n",
       "\n",
       "        function geo_json_dca6a5d5de87380a92d68193352dedb2_onEachFeature(feature, layer) {\n",
       "            layer.on({\n",
       "            });\n",
       "        };\n",
       "        var geo_json_dca6a5d5de87380a92d68193352dedb2 = L.geoJson(null, {\n",
       "                onEachFeature: geo_json_dca6a5d5de87380a92d68193352dedb2_onEachFeature,\n",
       "            \n",
       "        });\n",
       "\n",
       "        function geo_json_dca6a5d5de87380a92d68193352dedb2_add (data) {\n",
       "            geo_json_dca6a5d5de87380a92d68193352dedb2\n",
       "                .addData(data);\n",
       "        }\n",
       "            geo_json_dca6a5d5de87380a92d68193352dedb2_add({&quot;geometry&quot;: {&quot;coordinates&quot;: [[[-95, 29], [-95, 33], [-104, 33], [-104, 29], [-95, 29]]], &quot;type&quot;: &quot;Polygon&quot;}, &quot;properties&quot;: {}, &quot;type&quot;: &quot;Feature&quot;});\n",
       "\n",
       "        \n",
       "    \n",
       "            geo_json_dca6a5d5de87380a92d68193352dedb2.addTo(map_26d4f0f29a892e40e82f1207f6449295);\n",
       "        \n",
       "&lt;/script&gt;\n",
       "&lt;/html&gt;\" style=\"position:absolute;width:100%;height:100%;left:0;top:0;border:none !important;\" allowfullscreen webkitallowfullscreen mozallowfullscreen></iframe></div></div>"
      ],
      "text/plain": [
       "<folium.folium.Map at 0x7fcf790212e0>"
      ]
     },
     "execution_count": 13,
     "metadata": {},
     "output_type": "execute_result"
    }
   ],
   "source": [
    "# We will plug in the coordinates for a location inside the the polygon and a zoom level\n",
    "\n",
    "import folium\n",
    "\n",
    "aoi_map = Map(\n",
    "    tiles=\"OpenStreetMap\",\n",
    "    location=[\n",
    "        30,-101\n",
    "    ],\n",
    "    zoom_start=6,\n",
    ")\n",
    "\n",
    "folium.GeoJson(texas_aoi, name=\"Texas, USA\").add_to(aoi_map)\n",
    "aoi_map"
   ]
  },
  {
   "cell_type": "code",
   "execution_count": 14,
   "metadata": {},
   "outputs": [
    {
     "name": "stdout",
     "output_type": "stream",
     "text": [
      "Found 504 items\n"
     ]
    }
   ],
   "source": [
    "# Check total number of items available\n",
    "items = requests.get(\n",
    "    f\"{STAC_API_URL}/collections/{collection_name}/items?limit=600\"\n",
    ").json()[\"features\"]\n",
    "print(f\"Found {len(items)} items\")"
   ]
  },
  {
   "cell_type": "code",
   "execution_count": null,
   "metadata": {},
   "outputs": [],
   "source": [
    "# Explore the first item\n",
    "items[0]"
   ]
  },
  {
   "cell_type": "code",
   "execution_count": 16,
   "metadata": {},
   "outputs": [],
   "source": [
    "# The bounding box should be passed to the geojson param as a geojson Feature or FeatureCollection\n",
    "def generate_stats(item, geojson):\n",
    "    result = requests.post(\n",
    "        f\"{RASTER_API_URL}/cog/statistics\",\n",
    "        params={\"url\": item[\"assets\"][\"ch4-wetlands-emissions\"][\"href\"]},\n",
    "        json=geojson,\n",
    "    ).json()\n",
    "    return {\n",
    "        **result[\"properties\"],\n",
    "        \"datetime\": item[\"properties\"][\"datetime\"],\n",
    "    }"
   ]
  },
  {
   "attachments": {},
   "cell_type": "markdown",
   "metadata": {},
   "source": [
    "With the function above, we can generate the statistics for the area of interest."
   ]
  },
  {
   "cell_type": "code",
   "execution_count": 17,
   "metadata": {},
   "outputs": [
    {
     "name": "stdout",
     "output_type": "stream",
     "text": [
      "CPU times: user 15.4 s, sys: 944 ms, total: 16.4 s\n",
      "Wall time: 6min 29s\n"
     ]
    }
   ],
   "source": [
    "%%time\n",
    "stats = [generate_stats(item, texas_aoi) for item in items]"
   ]
  },
  {
   "cell_type": "code",
   "execution_count": null,
   "metadata": {},
   "outputs": [],
   "source": [
    "stats[0]"
   ]
  },
  {
   "cell_type": "code",
   "execution_count": null,
   "metadata": {},
   "outputs": [],
   "source": [
    "import pandas as pd\n",
    "\n",
    "\n",
    "def clean_stats(stats_json) -> pd.DataFrame:\n",
    "    df = pd.json_normalize(stats_json)\n",
    "    df.columns = [col.replace(\"statistics.b1.\", \"\") for col in df.columns]\n",
    "    df[\"date\"] = pd.to_datetime(df[\"datetime\"])\n",
    "    return df\n",
    "\n",
    "\n",
    "df = clean_stats(stats)\n",
    "df.head(5)"
   ]
  },
  {
   "attachments": {},
   "cell_type": "markdown",
   "metadata": {},
   "source": [
    "## Visualizing the Data as a Time Series\n",
    "We can now explore the wetland methane emissions time series (January 1980 – December 2021) available for the Dallas, Texas area of the U.S. We can plot the data set using the code below:"
   ]
  },
  {
   "cell_type": "code",
   "execution_count": null,
   "metadata": {},
   "outputs": [],
   "source": [
    "import matplotlib.pyplot as plt\n",
    "\n",
    "fig = plt.figure(figsize=(20, 10))\n",
    "\n",
    "\n",
    "plt.plot(\n",
    "    df[\"date\"],\n",
    "    df[\"max\"],\n",
    "    color=\"red\",\n",
    "    linestyle=\"-\",\n",
    "    linewidth=0.5,\n",
    "    label=\"Max monthly CH₄ emissions\",\n",
    ")\n",
    "\n",
    "plt.legend()\n",
    "plt.xlabel(\"Years\")\n",
    "plt.ylabel(\"CH4 emissions g/m2\")\n",
    "plt.title(\"CH4 emission Values for Texas, Dallas (1980-2021)\")"
   ]
  },
  {
   "cell_type": "code",
   "execution_count": null,
   "metadata": {},
   "outputs": [],
   "source": [
    "print(items[2][\"properties\"][\"datetime\"])"
   ]
  },
  {
   "cell_type": "code",
   "execution_count": null,
   "metadata": {},
   "outputs": [],
   "source": [
    "october_tile = requests.get(\n",
    "    f\"{RASTER_API_URL}/stac/tilejson.json?collection={items[2]['collection']}&item={items[2]['id']}\"\n",
    "    \"&assets=ch4-wetlands-emissions\"\n",
    "    f\"&color_formula=gamma+r+1.05&colormap_name={color_map}\"\n",
    "    f\"&rescale={rescale_values['min']},{rescale_values['max']}\",\n",
    ").json()\n",
    "october_tile"
   ]
  },
  {
   "cell_type": "code",
   "execution_count": null,
   "metadata": {},
   "outputs": [],
   "source": [
    "# Use bbox initial zoom and map\n",
    "# Set up a map located w/in event bounds\n",
    "import folium\n",
    "\n",
    "aoi_map_bbox = Map(\n",
    "    tiles=\"OpenStreetMap\",\n",
    "    location=[\n",
    "        30,-100\n",
    "    ],\n",
    "    zoom_start=8,\n",
    ")\n",
    "\n",
    "map_layer = TileLayer(\n",
    "    tiles=october_tile[\"tiles\"][0],\n",
    "    attr=\"GHG\", opacity = 0.5\n",
    ")\n",
    "\n",
    "map_layer.add_to(aoi_map_bbox)\n",
    "\n",
    "aoi_map_bbox"
   ]
  },
  {
   "attachments": {},
   "cell_type": "markdown",
   "metadata": {},
   "source": [
    "## Summary\n",
    "In this notebook, we have successfully explored, analyzed, and visualized the STAC collection for wetland methane emissions."
   ]
  }
 ],
 "metadata": {
  "kernelspec": {
   "display_name": "Python 3",
   "language": "python",
   "name": "python3"
  },
  "language_info": {
   "codemirror_mode": {
    "name": "ipython",
    "version": 3
   },
   "file_extension": ".py",
   "mimetype": "text/x-python",
   "name": "python",
   "nbconvert_exporter": "python",
   "pygments_lexer": "ipython3",
   "version": "3.9.18"
  },
  "vscode": {
   "interpreter": {
    "hash": "31f2aee4e71d21fbe5cf8b01ff0e069b9275f58929596ceb00d14d90e3e16cd6"
   }
  }
 },
 "nbformat": 4,
 "nbformat_minor": 4
}
