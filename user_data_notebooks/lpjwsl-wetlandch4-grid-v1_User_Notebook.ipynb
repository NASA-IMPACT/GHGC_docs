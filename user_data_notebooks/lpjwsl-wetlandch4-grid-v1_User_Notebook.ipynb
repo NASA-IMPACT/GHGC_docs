{
 "cells": [
  {
   "cell_type": "raw",
   "metadata": {},
   "source": [
    "---\n",
    "title: 'Wetland Methane Emissions, LPJ-wsl Model'\n",
    "description: >-\n",
    "  Global, daily and monthly 0.5 degree resolution methane emission estimates\n",
    "  from wetlands, LPJ-wsl model\n",
    "authors: 'Siddharth Chaudhary, Vishal Gaur'\n",
    "published: 5 July 2023\n",
    "execute:\n",
    "  freeze: true\n",
    "---"
   ]
  },
  {
   "attachments": {},
   "cell_type": "markdown",
   "metadata": {},
   "source": [
    "## Running this notebook\n",
    "\n",
    "You can launch this notebook using mybinder by clicking the button below.\n",
    "\n",
    "<a href=\"https://mybinder.org/v2/gh/US-GHG-Center/ghgc-docs/HEAD?labpath=user_data_notebooks/wetland_methane_emissions.ipynb\">\n",
    "<img src=\"https://mybinder.org/badge_logo.svg\" alt=\"Binder\" title=\"A cute binder\" width=\"150\"/> \n",
    "</a>"
   ]
  },
  {
   "attachments": {},
   "cell_type": "markdown",
   "metadata": {},
   "source": [
    "## Approach\n",
    "\n",
    "1. Identify available dates and temporal frequency of observations for the given collection using the GHGC API `/stac` endpoint. The collection processed in this notebook is the Wetland Methane Emissions, LPJ-wsl Model data product.\n",
    "2. Pass the STAC item into the raster API `/stac/tilejson.json `endpoint.\n",
    "3. Using `folium.plugins.DualMap`, visualize two tiles (side-by-side), allowing time point comparison.\n",
    "4. After the visualization, perform zonal statistics for a given polygon.\n",
    "\n",
    "   "
   ]
  },
  {
   "attachments": {},
   "cell_type": "markdown",
   "metadata": {},
   "source": [
    "## About the Data\n",
    "\n",
    "Methane (CH₄) emissions from wetlands are estimated to be the largest natural source of methane in the global CH₄ budget, contributing to roughly one third of the total of natural and anthropogenic emissions. Wetland CH₄ is produced by microbes breaking down organic matter in the oxygen deprived environment of inundated soils. Due to limited data availability, the details of the role of wetland CH₄ emissions has thus far been underrepresented. Using the Wald Schnee und Landschaft version (LPJ-wsl) of the Lund-Potsdam-Jena Dynamic Global Vegetation Model (LPJ-DGVM) global CH₄ emissions from wetlands are estimated at 0.5 x 0.5 degree resolution by simulating wetland extent and using characteristics of these inundated areas, such as soil moisture, temperature, and carbon content, to estimate CH₄ quantities emitted into the atmosphere. Highlighted areas displayed in this dataset show concentrated methane sources from tropical and high latitude ecosystems. The LPJ-wsl Wetland Methane Emissions data product presented here consists of global daily and monthly model estimates of terrestrial wetland CH₄ emissions from 1980 - 2021. These data are regularly used in conjunction with NASA’s Goddard Earth Observing System (GEOS) model to simulate the impact of wetlands and other methane sources on atmospheric methane concentrations, to compare against satellite and airborne data, and to improve understanding and prediction of wetland emissions."
   ]
  },
  {
   "attachments": {},
   "cell_type": "markdown",
   "metadata": {},
   "source": [
    "# Installing the Required Libraries\n",
    "Please run the next cell to install all the required libraries to run the notebook."
   ]
  },
  {
   "cell_type": "code",
   "execution_count": null,
   "metadata": {},
   "outputs": [],
   "source": [
    "%pip install requests\n",
    "%pip install folium\n",
    "%pip install rasterstats\n",
    "%pip install pystac_client"
   ]
  },
  {
   "attachments": {},
   "cell_type": "markdown",
   "metadata": {},
   "source": [
    "## Querying the STAC API"
   ]
  },
  {
   "cell_type": "code",
   "execution_count": 1,
   "metadata": {},
   "outputs": [],
   "source": [
    "import requests\n",
    "from folium import Map, TileLayer\n",
    "from pystac_client import Client"
   ]
  },
  {
   "cell_type": "code",
   "execution_count": 2,
   "metadata": {},
   "outputs": [],
   "source": [
    "# Provide STAC and RASTER API endpoints\n",
    "STAC_API_URL = \"http://ghg.center/api/stac\"\n",
    "RASTER_API_URL = \"https://ghg.center/api/raster\"\n",
    "\n",
    "# Please use the collection name similar to the one used in STAC collection.\n",
    "\n",
    "# Name of the collection for wetland methane monthly emissions. \n",
    "collection_name = \"nasa-gsfc-ch4-wetlands-emissions\""
   ]
  },
  {
   "cell_type": "code",
   "execution_count": 3,
   "metadata": {},
   "outputs": [
    {
     "data": {
      "text/plain": [
       "{'id': 'nasa-gsfc-ch4-wetlands-emissions',\n",
       " 'type': 'Collection',\n",
       " 'links': [{'rel': 'items',\n",
       "   'type': 'application/geo+json',\n",
       "   'href': 'https://gkynb1qvnl.execute-api.us-west-2.amazonaws.com/api/stac/collections/nasa-gsfc-ch4-wetlands-emissions/items'},\n",
       "  {'rel': 'parent',\n",
       "   'type': 'application/json',\n",
       "   'href': 'https://gkynb1qvnl.execute-api.us-west-2.amazonaws.com/api/stac/'},\n",
       "  {'rel': 'root',\n",
       "   'type': 'application/json',\n",
       "   'href': 'https://gkynb1qvnl.execute-api.us-west-2.amazonaws.com/api/stac/'},\n",
       "  {'rel': 'self',\n",
       "   'type': 'application/json',\n",
       "   'href': 'https://gkynb1qvnl.execute-api.us-west-2.amazonaws.com/api/stac/collections/nasa-gsfc-ch4-wetlands-emissions'}],\n",
       " 'title': 'LPJ-wsl CH4 Wetland Emissions',\n",
       " 'assets': None,\n",
       " 'extent': {'spatial': {'bbox': [[-180, -90, 180, 90]]},\n",
       "  'temporal': {'interval': [['1980-01-01 00:00:00+00',\n",
       "     '2021-12-01 00:00:00+00']]}},\n",
       " 'license': 'CC BY 4.0',\n",
       " 'keywords': None,\n",
       " 'providers': None,\n",
       " 'summaries': {'datetime': ['1980-01-01T00:00:00Z', '2021-12-01T00:00:00Z'],\n",
       "  'cog_default': None},\n",
       " 'description': 'Wetland methane emissions produced by the Lund–Potsdam–Jena Dynamic Global Vegetation Model (LPJ-DGVM) Wald Schnee und Landscaft version (LPJ-wsl). LPJ-wsl is a prognostic model used to simulate future changes in wetland emissions and independently verified with remote sensing data products. The LPJ-wsl model is regularly used in conjunction with NASA’s GEOS model to simulate the impact of wetlands and other methane sources on atmospheric methane concentrations.',\n",
       " 'item_assets': {'ch4-wetlands-emissions': {'type': 'image/tiff; application=geotiff; profile=cloud-optimized',\n",
       "   'roles': ['data', 'layer'],\n",
       "   'title': 'CH4 Wetland Emissions',\n",
       "   'description': 'Methane emissions from wetlands.'}},\n",
       " 'stac_version': '1.0.0',\n",
       " 'stac_extensions': None,\n",
       " 'dashboard:is_periodic': True,\n",
       " 'dashboard:time_density': 'month'}"
      ]
     },
     "execution_count": 3,
     "metadata": {},
     "output_type": "execute_result"
    }
   ],
   "source": [
    "# Fetching the collection from STAC collections using appropriate endpoint.\n",
    "collection = requests.get(f\"{STAC_API_URL}/collections/{collection_name}\").json()\n",
    "collection"
   ]
  },
  {
   "attachments": {},
   "cell_type": "markdown",
   "metadata": {},
   "source": [
    "Examining the contents of our `collection` under `summaries`, we see that the data is available from January 1980 to December 2021. By looking at `dashboard: time density`, we can see that these observations are collected monthly."
   ]
  },
  {
   "cell_type": "code",
   "execution_count": 4,
   "metadata": {},
   "outputs": [
    {
     "name": "stdout",
     "output_type": "stream",
     "text": [
      "Found 300 items\n"
     ]
    }
   ],
   "source": [
    "# Check total number of items available\n",
    "items = requests.get(f\"{STAC_API_URL}/collections/{collection_name}/items?limit=300\").json()[\"features\"]\n",
    "print(f\"Found {len(items)} items\")"
   ]
  },
  {
   "cell_type": "code",
   "execution_count": 5,
   "metadata": {},
   "outputs": [
    {
     "data": {
      "text/plain": [
       "{'id': 'nasa-gsfc-ch4-wetlands-emissions-202112',\n",
       " 'bbox': [-180.0, -90.0, 180.0, 90.0],\n",
       " 'type': 'Feature',\n",
       " 'links': [{'rel': 'collection',\n",
       "   'type': 'application/json',\n",
       "   'href': 'https://gkynb1qvnl.execute-api.us-west-2.amazonaws.com/api/stac/collections/nasa-gsfc-ch4-wetlands-emissions'},\n",
       "  {'rel': 'parent',\n",
       "   'type': 'application/json',\n",
       "   'href': 'https://gkynb1qvnl.execute-api.us-west-2.amazonaws.com/api/stac/collections/nasa-gsfc-ch4-wetlands-emissions'},\n",
       "  {'rel': 'root',\n",
       "   'type': 'application/json',\n",
       "   'href': 'https://gkynb1qvnl.execute-api.us-west-2.amazonaws.com/api/stac/'},\n",
       "  {'rel': 'self',\n",
       "   'type': 'application/geo+json',\n",
       "   'href': 'https://gkynb1qvnl.execute-api.us-west-2.amazonaws.com/api/stac/collections/nasa-gsfc-ch4-wetlands-emissions/items/nasa-gsfc-ch4-wetlands-emissions-202112'}],\n",
       " 'assets': {'ch4-wetlands-emissions': {'href': 's3://ghgc-data-store-dev/NASA_GSFC_ch4_wetlands_monthly/NASA_GSFC_ch4_wl_ch4_wetlands_v22_x720_y360_t12_202112.tif',\n",
       "   'type': 'image/tiff; application=geotiff; profile=cloud-optimized',\n",
       "   'roles': ['data', 'layer'],\n",
       "   'title': 'CH4 Wetland Emissions',\n",
       "   'proj:bbox': [-180.0, -90.0, 180.0, 90.0],\n",
       "   'proj:epsg': 4326.0,\n",
       "   'proj:shape': [360.0, 720.0],\n",
       "   'description': 'Methane emissions from wetlands.',\n",
       "   'raster:bands': [{'scale': 1.0,\n",
       "     'nodata': -9999.0,\n",
       "     'offset': 0.0,\n",
       "     'sampling': 'area',\n",
       "     'data_type': 'float32',\n",
       "     'histogram': {'max': 0.006929981522262096,\n",
       "      'min': 0.0,\n",
       "      'count': 11.0,\n",
       "      'buckets': [258080.0,\n",
       "       575.0,\n",
       "       251.0,\n",
       "       124.0,\n",
       "       78.0,\n",
       "       41.0,\n",
       "       26.0,\n",
       "       16.0,\n",
       "       7.0,\n",
       "       2.0]},\n",
       "     'statistics': {'mean': 1.2271503607432047e-05,\n",
       "      'stddev': 0.0001378920103609683,\n",
       "      'maximum': 0.006929981522262096,\n",
       "      'minimum': 0.0,\n",
       "      'valid_percent': 100.0}}],\n",
       "   'proj:geometry': {'type': 'Polygon',\n",
       "    'coordinates': [[[-180.0, -90.0],\n",
       "      [180.0, -90.0],\n",
       "      [180.0, 90.0],\n",
       "      [-180.0, 90.0],\n",
       "      [-180.0, -90.0]]]},\n",
       "   'proj:projjson': {'id': {'code': 4326.0, 'authority': 'EPSG'},\n",
       "    'name': 'WGS 84',\n",
       "    'type': 'GeographicCRS',\n",
       "    'datum': {'name': 'World Geodetic System 1984',\n",
       "     'type': 'GeodeticReferenceFrame',\n",
       "     'ellipsoid': {'name': 'WGS 84',\n",
       "      'semi_major_axis': 6378137.0,\n",
       "      'inverse_flattening': 298.257223563}},\n",
       "    '$schema': 'https://proj.org/schemas/v0.4/projjson.schema.json',\n",
       "    'coordinate_system': {'axis': [{'name': 'Geodetic latitude',\n",
       "       'unit': 'degree',\n",
       "       'direction': 'north',\n",
       "       'abbreviation': 'Lat'},\n",
       "      {'name': 'Geodetic longitude',\n",
       "       'unit': 'degree',\n",
       "       'direction': 'east',\n",
       "       'abbreviation': 'Lon'}],\n",
       "     'subtype': 'ellipsoidal'}},\n",
       "   'proj:transform': [0.5, 0.0, -180.0, 0.0, -0.5, 90.0, 0.0, 0.0, 1.0]}},\n",
       " 'geometry': {'type': 'Polygon',\n",
       "  'coordinates': [[[-180, -90],\n",
       "    [180, -90],\n",
       "    [180, 90],\n",
       "    [-180, 90],\n",
       "    [-180, -90]]]},\n",
       " 'collection': 'nasa-gsfc-ch4-wetlands-emissions',\n",
       " 'properties': {'end_datetime': '2021-12-31T00:00:00+00:00',\n",
       "  'start_datetime': '2021-12-01T00:00:00+00:00'},\n",
       " 'stac_version': '1.0.0',\n",
       " 'stac_extensions': []}"
      ]
     },
     "execution_count": 5,
     "metadata": {},
     "output_type": "execute_result"
    }
   ],
   "source": [
    "# Examining the first item in the collection\n",
    "items[0]"
   ]
  },
  {
   "attachments": {},
   "cell_type": "markdown",
   "metadata": {},
   "source": [
    "Below, we enter minimum and maximum values to provide our upper and lower bounds in `rescale_values.`"
   ]
  },
  {
   "cell_type": "code",
   "execution_count": 6,
   "metadata": {},
   "outputs": [],
   "source": [
    "rescale_values = {'max': 0.2, 'min': 0.0}"
   ]
  },
  {
   "attachments": {},
   "cell_type": "markdown",
   "metadata": {},
   "source": [
    "## Exploring Changes in Methane (CH4) Emission Levels Using the Raster API\n",
    "\n",
    "In this notebook, we will explore the temporal impacts of methane emissions. We will visualize the outputs on a map using `folium`.\n"
   ]
  },
  {
   "cell_type": "code",
   "execution_count": 7,
   "metadata": {},
   "outputs": [],
   "source": [
    "# To access the year value from each item more easily, this will let us query more explicity by year and month (e.g., 2020-02)\n",
    "items = {item[\"properties\"][\"start_datetime\"][:7]: item for item in items} "
   ]
  },
  {
   "attachments": {},
   "cell_type": "markdown",
   "metadata": {},
   "source": [
    "Now, we will pass the item id, collection name, and `rescaling_factor` to the `Raster API` endpoint. We will do this twice, once for December 2001 and again for December 2021, so we can visualize each event independently."
   ]
  },
  {
   "cell_type": "code",
   "execution_count": 8,
   "metadata": {},
   "outputs": [
    {
     "data": {
      "text/plain": [
       "{'tilejson': '2.2.0',\n",
       " 'version': '1.0.0',\n",
       " 'scheme': 'xyz',\n",
       " 'tiles': ['https://2qncpyg24c.execute-api.us-west-2.amazonaws.com/api/raster/stac/tiles/WebMercatorQuad/{z}/{x}/{y}@1x?collection=nasa-gsfc-ch4-wetlands-emissions&item=nasa-gsfc-ch4-wetlands-emissions-200112&assets=ch4-wetlands-emissions&color_formula=gamma+r+1.05&colormap_name=magma&rescale=0.0%2C0.2'],\n",
       " 'minzoom': 0,\n",
       " 'maxzoom': 24,\n",
       " 'bounds': [-180.0, -90.0, 180.0, 90.0],\n",
       " 'center': [0.0, 0.0, 0]}"
      ]
     },
     "execution_count": 8,
     "metadata": {},
     "output_type": "execute_result"
    }
   ],
   "source": [
    "color_map = \"magma\" # select the color ramp from matplotlib library.\n",
    "december_2001_tile = requests.get(\n",
    "    f\"{RASTER_API_URL}/stac/tilejson.json?collection={items['2001-12']['collection']}&item={items['2001-12']['id']}\"\n",
    "    \"&assets=ch4-wetlands-emissions\"\n",
    "    f\"&color_formula=gamma+r+1.05&colormap_name={color_map}\"\n",
    "    f\"&rescale={rescale_values['min']},{rescale_values['max']}\", \n",
    ").json()\n",
    "december_2001_tile"
   ]
  },
  {
   "cell_type": "code",
   "execution_count": 9,
   "metadata": {},
   "outputs": [
    {
     "data": {
      "text/plain": [
       "{'tilejson': '2.2.0',\n",
       " 'version': '1.0.0',\n",
       " 'scheme': 'xyz',\n",
       " 'tiles': ['https://2qncpyg24c.execute-api.us-west-2.amazonaws.com/api/raster/stac/tiles/WebMercatorQuad/{z}/{x}/{y}@1x?collection=nasa-gsfc-ch4-wetlands-emissions&item=nasa-gsfc-ch4-wetlands-emissions-202112&assets=ch4-wetlands-emissions&color_formula=gamma+r+1.05&colormap_name=magma&rescale=0.0%2C0.2'],\n",
       " 'minzoom': 0,\n",
       " 'maxzoom': 24,\n",
       " 'bounds': [-180.0, -90.0, 180.0, 90.0],\n",
       " 'center': [0.0, 0.0, 0]}"
      ]
     },
     "execution_count": 9,
     "metadata": {},
     "output_type": "execute_result"
    }
   ],
   "source": [
    "december_2021_tile = requests.get(\n",
    "    f\"{RASTER_API_URL}/stac/tilejson.json?collection={items['2021-12']['collection']}&item={items['2021-12']['id']}\"\n",
    "    \"&assets=ch4-wetlands-emissions\"\n",
    "    f\"&color_formula=gamma+r+1.05&colormap_name={color_map}\"\n",
    "    f\"&rescale={rescale_values['min']},{rescale_values['max']}\", \n",
    ").json()\n",
    "december_2021_tile"
   ]
  },
  {
   "attachments": {},
   "cell_type": "markdown",
   "metadata": {},
   "source": [
    "## Visualizing CH₄ Emissions\n"
   ]
  },
  {
   "cell_type": "code",
   "execution_count": 10,
   "metadata": {},
   "outputs": [
    {
     "data": {
      "text/html": [
       "<div style=\"width:100%;\"><div style=\"position:relative;width:100%;height:0;padding-bottom:60%;\"><span style=\"color:#565656\">Make this Notebook Trusted to load map: File -> Trust Notebook</span><iframe srcdoc=\"&lt;!DOCTYPE html&gt;\n",
       "&lt;html&gt;\n",
       "&lt;head&gt;\n",
       "    \n",
       "    &lt;meta http-equiv=&quot;content-type&quot; content=&quot;text/html; charset=UTF-8&quot; /&gt;\n",
       "    \n",
       "        &lt;script&gt;\n",
       "            L_NO_TOUCH = false;\n",
       "            L_DISABLE_3D = false;\n",
       "        &lt;/script&gt;\n",
       "    \n",
       "    &lt;style&gt;html, body {width: 100%;height: 100%;margin: 0;padding: 0;}&lt;/style&gt;\n",
       "    &lt;style&gt;#map {position:absolute;top:0;bottom:0;right:0;left:0;}&lt;/style&gt;\n",
       "    &lt;script src=&quot;https://cdn.jsdelivr.net/npm/leaflet@1.9.3/dist/leaflet.js&quot;&gt;&lt;/script&gt;\n",
       "    &lt;script src=&quot;https://code.jquery.com/jquery-1.12.4.min.js&quot;&gt;&lt;/script&gt;\n",
       "    &lt;script src=&quot;https://cdn.jsdelivr.net/npm/bootstrap@5.2.2/dist/js/bootstrap.bundle.min.js&quot;&gt;&lt;/script&gt;\n",
       "    &lt;script src=&quot;https://cdnjs.cloudflare.com/ajax/libs/Leaflet.awesome-markers/2.0.2/leaflet.awesome-markers.js&quot;&gt;&lt;/script&gt;\n",
       "    &lt;link rel=&quot;stylesheet&quot; href=&quot;https://cdn.jsdelivr.net/npm/leaflet@1.9.3/dist/leaflet.css&quot;/&gt;\n",
       "    &lt;link rel=&quot;stylesheet&quot; href=&quot;https://cdn.jsdelivr.net/npm/bootstrap@5.2.2/dist/css/bootstrap.min.css&quot;/&gt;\n",
       "    &lt;link rel=&quot;stylesheet&quot; href=&quot;https://netdna.bootstrapcdn.com/bootstrap/3.0.0/css/bootstrap.min.css&quot;/&gt;\n",
       "    &lt;link rel=&quot;stylesheet&quot; href=&quot;https://cdn.jsdelivr.net/npm/@fortawesome/fontawesome-free@6.2.0/css/all.min.css&quot;/&gt;\n",
       "    &lt;link rel=&quot;stylesheet&quot; href=&quot;https://cdnjs.cloudflare.com/ajax/libs/Leaflet.awesome-markers/2.0.2/leaflet.awesome-markers.css&quot;/&gt;\n",
       "    &lt;link rel=&quot;stylesheet&quot; href=&quot;https://cdn.jsdelivr.net/gh/python-visualization/folium/folium/templates/leaflet.awesome.rotate.min.css&quot;/&gt;\n",
       "    \n",
       "            &lt;meta name=&quot;viewport&quot; content=&quot;width=device-width,\n",
       "                initial-scale=1.0, maximum-scale=1.0, user-scalable=no&quot; /&gt;\n",
       "            &lt;style&gt;\n",
       "                #map_689a07a3e78e9a274c4533697992a951 {\n",
       "                    position: absolute;\n",
       "                    width: 50.0%;\n",
       "                    height: 100.0%;\n",
       "                    left: 0.0%;\n",
       "                    top: 0.0%;\n",
       "                }\n",
       "                .leaflet-container { font-size: 1rem; }\n",
       "            &lt;/style&gt;\n",
       "        \n",
       "    \n",
       "            &lt;meta name=&quot;viewport&quot; content=&quot;width=device-width,\n",
       "                initial-scale=1.0, maximum-scale=1.0, user-scalable=no&quot; /&gt;\n",
       "            &lt;style&gt;\n",
       "                #map_206c3fa9cb9803daac1c7f1ec9125c43 {\n",
       "                    position: absolute;\n",
       "                    width: 50.0%;\n",
       "                    height: 100.0%;\n",
       "                    left: 50.0%;\n",
       "                    top: 0.0%;\n",
       "                }\n",
       "                .leaflet-container { font-size: 1rem; }\n",
       "            &lt;/style&gt;\n",
       "        \n",
       "    &lt;script src=&quot;https://cdn.jsdelivr.net/gh/jieter/Leaflet.Sync/L.Map.Sync.min.js&quot;&gt;&lt;/script&gt;\n",
       "&lt;/head&gt;\n",
       "&lt;body&gt;\n",
       "    \n",
       "    \n",
       "            &lt;div class=&quot;folium-map&quot; id=&quot;map_689a07a3e78e9a274c4533697992a951&quot; &gt;&lt;/div&gt;\n",
       "        \n",
       "    \n",
       "            &lt;div class=&quot;folium-map&quot; id=&quot;map_206c3fa9cb9803daac1c7f1ec9125c43&quot; &gt;&lt;/div&gt;\n",
       "        \n",
       "&lt;/body&gt;\n",
       "&lt;script&gt;\n",
       "    \n",
       "    \n",
       "            var map_689a07a3e78e9a274c4533697992a951 = L.map(\n",
       "                &quot;map_689a07a3e78e9a274c4533697992a951&quot;,\n",
       "                {\n",
       "                    center: [34.0, -118.0],\n",
       "                    crs: L.CRS.EPSG3857,\n",
       "                    zoom: 6,\n",
       "                    zoomControl: true,\n",
       "                    preferCanvas: false,\n",
       "                }\n",
       "            );\n",
       "\n",
       "            \n",
       "\n",
       "        \n",
       "    \n",
       "            var tile_layer_40006c826cbafce6b52a5384ef4a06ea = L.tileLayer(\n",
       "                &quot;https://{s}.tile.openstreetmap.org/{z}/{x}/{y}.png&quot;,\n",
       "                {&quot;attribution&quot;: &quot;Data by \\u0026copy; \\u003ca target=\\&quot;_blank\\&quot; href=\\&quot;http://openstreetmap.org\\&quot;\\u003eOpenStreetMap\\u003c/a\\u003e, under \\u003ca target=\\&quot;_blank\\&quot; href=\\&quot;http://www.openstreetmap.org/copyright\\&quot;\\u003eODbL\\u003c/a\\u003e.&quot;, &quot;detectRetina&quot;: false, &quot;maxNativeZoom&quot;: 18, &quot;maxZoom&quot;: 18, &quot;minZoom&quot;: 0, &quot;noWrap&quot;: false, &quot;opacity&quot;: 1, &quot;subdomains&quot;: &quot;abc&quot;, &quot;tms&quot;: false}\n",
       "            ).addTo(map_689a07a3e78e9a274c4533697992a951);\n",
       "        \n",
       "    \n",
       "            var tile_layer_7a7207aa2e6b8ad97633086c90e1f8ca = L.tileLayer(\n",
       "                &quot;https://2qncpyg24c.execute-api.us-west-2.amazonaws.com/api/raster/stac/tiles/WebMercatorQuad/{z}/{x}/{y}@1x?collection=nasa-gsfc-ch4-wetlands-emissions\\u0026item=nasa-gsfc-ch4-wetlands-emissions-200112\\u0026assets=ch4-wetlands-emissions\\u0026color_formula=gamma+r+1.05\\u0026colormap_name=magma\\u0026rescale=0.0%2C0.2&quot;,\n",
       "                {&quot;attribution&quot;: &quot;GHG&quot;, &quot;detectRetina&quot;: false, &quot;maxNativeZoom&quot;: 18, &quot;maxZoom&quot;: 18, &quot;minZoom&quot;: 0, &quot;noWrap&quot;: false, &quot;opacity&quot;: 0.5, &quot;subdomains&quot;: &quot;abc&quot;, &quot;tms&quot;: false}\n",
       "            ).addTo(map_689a07a3e78e9a274c4533697992a951);\n",
       "        \n",
       "    \n",
       "            var map_206c3fa9cb9803daac1c7f1ec9125c43 = L.map(\n",
       "                &quot;map_206c3fa9cb9803daac1c7f1ec9125c43&quot;,\n",
       "                {\n",
       "                    center: [34.0, -118.0],\n",
       "                    crs: L.CRS.EPSG3857,\n",
       "                    zoom: 6,\n",
       "                    zoomControl: true,\n",
       "                    preferCanvas: false,\n",
       "                }\n",
       "            );\n",
       "\n",
       "            \n",
       "\n",
       "        \n",
       "    \n",
       "            var tile_layer_3d4c77650802b252df2017737f2f6af6 = L.tileLayer(\n",
       "                &quot;https://{s}.tile.openstreetmap.org/{z}/{x}/{y}.png&quot;,\n",
       "                {&quot;attribution&quot;: &quot;Data by \\u0026copy; \\u003ca target=\\&quot;_blank\\&quot; href=\\&quot;http://openstreetmap.org\\&quot;\\u003eOpenStreetMap\\u003c/a\\u003e, under \\u003ca target=\\&quot;_blank\\&quot; href=\\&quot;http://www.openstreetmap.org/copyright\\&quot;\\u003eODbL\\u003c/a\\u003e.&quot;, &quot;detectRetina&quot;: false, &quot;maxNativeZoom&quot;: 18, &quot;maxZoom&quot;: 18, &quot;minZoom&quot;: 0, &quot;noWrap&quot;: false, &quot;opacity&quot;: 1, &quot;subdomains&quot;: &quot;abc&quot;, &quot;tms&quot;: false}\n",
       "            ).addTo(map_206c3fa9cb9803daac1c7f1ec9125c43);\n",
       "        \n",
       "    \n",
       "            var tile_layer_76fd537dbe66f139e2534870c5944264 = L.tileLayer(\n",
       "                &quot;https://2qncpyg24c.execute-api.us-west-2.amazonaws.com/api/raster/stac/tiles/WebMercatorQuad/{z}/{x}/{y}@1x?collection=nasa-gsfc-ch4-wetlands-emissions\\u0026item=nasa-gsfc-ch4-wetlands-emissions-202112\\u0026assets=ch4-wetlands-emissions\\u0026color_formula=gamma+r+1.05\\u0026colormap_name=magma\\u0026rescale=0.0%2C0.2&quot;,\n",
       "                {&quot;attribution&quot;: &quot;GHG&quot;, &quot;detectRetina&quot;: false, &quot;maxNativeZoom&quot;: 18, &quot;maxZoom&quot;: 18, &quot;minZoom&quot;: 0, &quot;noWrap&quot;: false, &quot;opacity&quot;: 0.5, &quot;subdomains&quot;: &quot;abc&quot;, &quot;tms&quot;: false}\n",
       "            ).addTo(map_206c3fa9cb9803daac1c7f1ec9125c43);\n",
       "        \n",
       "    \n",
       "            map_689a07a3e78e9a274c4533697992a951.sync(map_206c3fa9cb9803daac1c7f1ec9125c43);\n",
       "            map_206c3fa9cb9803daac1c7f1ec9125c43.sync(map_689a07a3e78e9a274c4533697992a951);\n",
       "        \n",
       "&lt;/script&gt;\n",
       "&lt;/html&gt;\" style=\"position:absolute;width:100%;height:100%;left:0;top:0;border:none !important;\" allowfullscreen webkitallowfullscreen mozallowfullscreen></iframe></div></div>"
      ],
      "text/plain": [
       "<folium.plugins.dual_map.DualMap at 0x11544b640>"
      ]
     },
     "execution_count": 10,
     "metadata": {},
     "output_type": "execute_result"
    }
   ],
   "source": [
    "# We will import folium to map and folium.plugins to allow side-by-side mapping\n",
    "import folium\n",
    "import folium.plugins\n",
    "\n",
    "# Set initial zoom and center of map for CH₄ Layer\n",
    "# Centre of map [latitude,longitude]\n",
    "map_ = folium.plugins.DualMap(location=(34, -118), zoom_start=6)\n",
    "\n",
    "# December 2001\n",
    "map_layer_2001 = TileLayer(\n",
    "    tiles=december_2001_tile[\"tiles\"][0],\n",
    "    attr=\"GHG\",\n",
    "    opacity=0.5,\n",
    ")\n",
    "map_layer_2001.add_to(map_.m1)\n",
    "\n",
    "# December 2021\n",
    "map_layer_2021 = TileLayer(\n",
    "    tiles=december_2021_tile[\"tiles\"][0],\n",
    "    attr=\"GHG\",\n",
    "    opacity=0.5,\n",
    ")\n",
    "map_layer_2021.add_to(map_.m2)\n",
    "\n",
    "# visualising the map\n",
    "map_\n",
    "\n"
   ]
  },
  {
   "attachments": {},
   "cell_type": "markdown",
   "metadata": {},
   "source": [
    "# Calculating Zonal Statistics\n",
    "To perform zonal statistics, first we need to create a polygon. In this use case, we are creating a polygon in Texas (USA)."
   ]
  },
  {
   "cell_type": "code",
   "execution_count": 11,
   "metadata": {},
   "outputs": [],
   "source": [
    "# Texas, USA\n",
    "texas_aoi = {\n",
    "    \"type\": \"Feature\",\n",
    "    \"properties\": {},\n",
    "    \"geometry\": {\n",
    "        \"coordinates\": [\n",
    "            [\n",
    "                [-95, 29],\n",
    "                [-95, 33],\n",
    "                [-104, 33],\n",
    "                [-104,29],\n",
    "                [-95, 29]\n",
    "            ]\n",
    "        ],\n",
    "        \"type\": \"Polygon\",\n",
    "    },\n",
    "}"
   ]
  },
  {
   "cell_type": "code",
   "execution_count": 12,
   "metadata": {},
   "outputs": [
    {
     "data": {
      "text/html": [
       "<div style=\"width:100%;\"><div style=\"position:relative;width:100%;height:0;padding-bottom:60%;\"><span style=\"color:#565656\">Make this Notebook Trusted to load map: File -> Trust Notebook</span><iframe srcdoc=\"&lt;!DOCTYPE html&gt;\n",
       "&lt;html&gt;\n",
       "&lt;head&gt;\n",
       "    \n",
       "    &lt;meta http-equiv=&quot;content-type&quot; content=&quot;text/html; charset=UTF-8&quot; /&gt;\n",
       "    \n",
       "        &lt;script&gt;\n",
       "            L_NO_TOUCH = false;\n",
       "            L_DISABLE_3D = false;\n",
       "        &lt;/script&gt;\n",
       "    \n",
       "    &lt;style&gt;html, body {width: 100%;height: 100%;margin: 0;padding: 0;}&lt;/style&gt;\n",
       "    &lt;style&gt;#map {position:absolute;top:0;bottom:0;right:0;left:0;}&lt;/style&gt;\n",
       "    &lt;script src=&quot;https://cdn.jsdelivr.net/npm/leaflet@1.9.3/dist/leaflet.js&quot;&gt;&lt;/script&gt;\n",
       "    &lt;script src=&quot;https://code.jquery.com/jquery-1.12.4.min.js&quot;&gt;&lt;/script&gt;\n",
       "    &lt;script src=&quot;https://cdn.jsdelivr.net/npm/bootstrap@5.2.2/dist/js/bootstrap.bundle.min.js&quot;&gt;&lt;/script&gt;\n",
       "    &lt;script src=&quot;https://cdnjs.cloudflare.com/ajax/libs/Leaflet.awesome-markers/2.0.2/leaflet.awesome-markers.js&quot;&gt;&lt;/script&gt;\n",
       "    &lt;link rel=&quot;stylesheet&quot; href=&quot;https://cdn.jsdelivr.net/npm/leaflet@1.9.3/dist/leaflet.css&quot;/&gt;\n",
       "    &lt;link rel=&quot;stylesheet&quot; href=&quot;https://cdn.jsdelivr.net/npm/bootstrap@5.2.2/dist/css/bootstrap.min.css&quot;/&gt;\n",
       "    &lt;link rel=&quot;stylesheet&quot; href=&quot;https://netdna.bootstrapcdn.com/bootstrap/3.0.0/css/bootstrap.min.css&quot;/&gt;\n",
       "    &lt;link rel=&quot;stylesheet&quot; href=&quot;https://cdn.jsdelivr.net/npm/@fortawesome/fontawesome-free@6.2.0/css/all.min.css&quot;/&gt;\n",
       "    &lt;link rel=&quot;stylesheet&quot; href=&quot;https://cdnjs.cloudflare.com/ajax/libs/Leaflet.awesome-markers/2.0.2/leaflet.awesome-markers.css&quot;/&gt;\n",
       "    &lt;link rel=&quot;stylesheet&quot; href=&quot;https://cdn.jsdelivr.net/gh/python-visualization/folium/folium/templates/leaflet.awesome.rotate.min.css&quot;/&gt;\n",
       "    \n",
       "            &lt;meta name=&quot;viewport&quot; content=&quot;width=device-width,\n",
       "                initial-scale=1.0, maximum-scale=1.0, user-scalable=no&quot; /&gt;\n",
       "            &lt;style&gt;\n",
       "                #map_eebed4ed0ee70db6047098290126b463 {\n",
       "                    position: relative;\n",
       "                    width: 100.0%;\n",
       "                    height: 100.0%;\n",
       "                    left: 0.0%;\n",
       "                    top: 0.0%;\n",
       "                }\n",
       "                .leaflet-container { font-size: 1rem; }\n",
       "            &lt;/style&gt;\n",
       "        \n",
       "&lt;/head&gt;\n",
       "&lt;body&gt;\n",
       "    \n",
       "    \n",
       "            &lt;div class=&quot;folium-map&quot; id=&quot;map_eebed4ed0ee70db6047098290126b463&quot; &gt;&lt;/div&gt;\n",
       "        \n",
       "&lt;/body&gt;\n",
       "&lt;script&gt;\n",
       "    \n",
       "    \n",
       "            var map_eebed4ed0ee70db6047098290126b463 = L.map(\n",
       "                &quot;map_eebed4ed0ee70db6047098290126b463&quot;,\n",
       "                {\n",
       "                    center: [30.0, -101.0],\n",
       "                    crs: L.CRS.EPSG3857,\n",
       "                    zoom: 6,\n",
       "                    zoomControl: true,\n",
       "                    preferCanvas: false,\n",
       "                }\n",
       "            );\n",
       "\n",
       "            \n",
       "\n",
       "        \n",
       "    \n",
       "            var tile_layer_d2c40dda2a6bcdf012a637f7a68919a6 = L.tileLayer(\n",
       "                &quot;https://{s}.tile.openstreetmap.org/{z}/{x}/{y}.png&quot;,\n",
       "                {&quot;attribution&quot;: &quot;Data by \\u0026copy; \\u003ca target=\\&quot;_blank\\&quot; href=\\&quot;http://openstreetmap.org\\&quot;\\u003eOpenStreetMap\\u003c/a\\u003e, under \\u003ca target=\\&quot;_blank\\&quot; href=\\&quot;http://www.openstreetmap.org/copyright\\&quot;\\u003eODbL\\u003c/a\\u003e.&quot;, &quot;detectRetina&quot;: false, &quot;maxNativeZoom&quot;: 18, &quot;maxZoom&quot;: 18, &quot;minZoom&quot;: 0, &quot;noWrap&quot;: false, &quot;opacity&quot;: 1, &quot;subdomains&quot;: &quot;abc&quot;, &quot;tms&quot;: false}\n",
       "            ).addTo(map_eebed4ed0ee70db6047098290126b463);\n",
       "        \n",
       "    \n",
       "\n",
       "        function geo_json_e04f200ceeb8dbfbeab733ed6b692864_onEachFeature(feature, layer) {\n",
       "            layer.on({\n",
       "            });\n",
       "        };\n",
       "        var geo_json_e04f200ceeb8dbfbeab733ed6b692864 = L.geoJson(null, {\n",
       "                onEachFeature: geo_json_e04f200ceeb8dbfbeab733ed6b692864_onEachFeature,\n",
       "            \n",
       "        });\n",
       "\n",
       "        function geo_json_e04f200ceeb8dbfbeab733ed6b692864_add (data) {\n",
       "            geo_json_e04f200ceeb8dbfbeab733ed6b692864\n",
       "                .addData(data)\n",
       "                .addTo(map_eebed4ed0ee70db6047098290126b463);\n",
       "        }\n",
       "            geo_json_e04f200ceeb8dbfbeab733ed6b692864_add({&quot;geometry&quot;: {&quot;coordinates&quot;: [[[-95, 29], [-95, 33], [-104, 33], [-104, 29], [-95, 29]]], &quot;type&quot;: &quot;Polygon&quot;}, &quot;properties&quot;: {}, &quot;type&quot;: &quot;Feature&quot;});\n",
       "\n",
       "        \n",
       "&lt;/script&gt;\n",
       "&lt;/html&gt;\" style=\"position:absolute;width:100%;height:100%;left:0;top:0;border:none !important;\" allowfullscreen webkitallowfullscreen mozallowfullscreen></iframe></div></div>"
      ],
      "text/plain": [
       "<folium.folium.Map at 0x115471310>"
      ]
     },
     "execution_count": 12,
     "metadata": {},
     "output_type": "execute_result"
    }
   ],
   "source": [
    "# We will plug in the coordinates for a location inside the the polygon and a zoom level\n",
    "\n",
    "import folium\n",
    "\n",
    "aoi_map = Map(\n",
    "    tiles=\"OpenStreetMap\",\n",
    "    location=[\n",
    "        30,-101\n",
    "    ],\n",
    "    zoom_start=6,\n",
    ")\n",
    "\n",
    "folium.GeoJson(texas_aoi, name=\"Texas, USA\").add_to(aoi_map)\n",
    "aoi_map"
   ]
  },
  {
   "cell_type": "code",
   "execution_count": 13,
   "metadata": {},
   "outputs": [
    {
     "name": "stdout",
     "output_type": "stream",
     "text": [
      "Found 504 items\n"
     ]
    }
   ],
   "source": [
    "# Check total number of items available\n",
    "items = requests.get(\n",
    "    f\"{STAC_API_URL}/collections/{collection_name}/items?limit=600\"\n",
    ").json()[\"features\"]\n",
    "print(f\"Found {len(items)} items\")"
   ]
  },
  {
   "cell_type": "code",
   "execution_count": 14,
   "metadata": {},
   "outputs": [
    {
     "data": {
      "text/plain": [
       "{'id': 'nasa-gsfc-ch4-wetlands-emissions-202112',\n",
       " 'bbox': [-180.0, -90.0, 180.0, 90.0],\n",
       " 'type': 'Feature',\n",
       " 'links': [{'rel': 'collection',\n",
       "   'type': 'application/json',\n",
       "   'href': 'https://gkynb1qvnl.execute-api.us-west-2.amazonaws.com/api/stac/collections/nasa-gsfc-ch4-wetlands-emissions'},\n",
       "  {'rel': 'parent',\n",
       "   'type': 'application/json',\n",
       "   'href': 'https://gkynb1qvnl.execute-api.us-west-2.amazonaws.com/api/stac/collections/nasa-gsfc-ch4-wetlands-emissions'},\n",
       "  {'rel': 'root',\n",
       "   'type': 'application/json',\n",
       "   'href': 'https://gkynb1qvnl.execute-api.us-west-2.amazonaws.com/api/stac/'},\n",
       "  {'rel': 'self',\n",
       "   'type': 'application/geo+json',\n",
       "   'href': 'https://gkynb1qvnl.execute-api.us-west-2.amazonaws.com/api/stac/collections/nasa-gsfc-ch4-wetlands-emissions/items/nasa-gsfc-ch4-wetlands-emissions-202112'}],\n",
       " 'assets': {'ch4-wetlands-emissions': {'href': 's3://ghgc-data-store-dev/NASA_GSFC_ch4_wetlands_monthly/NASA_GSFC_ch4_wl_ch4_wetlands_v22_x720_y360_t12_202112.tif',\n",
       "   'type': 'image/tiff; application=geotiff; profile=cloud-optimized',\n",
       "   'roles': ['data', 'layer'],\n",
       "   'title': 'CH4 Wetland Emissions',\n",
       "   'proj:bbox': [-180.0, -90.0, 180.0, 90.0],\n",
       "   'proj:epsg': 4326.0,\n",
       "   'proj:shape': [360.0, 720.0],\n",
       "   'description': 'Methane emissions from wetlands.',\n",
       "   'raster:bands': [{'scale': 1.0,\n",
       "     'nodata': -9999.0,\n",
       "     'offset': 0.0,\n",
       "     'sampling': 'area',\n",
       "     'data_type': 'float32',\n",
       "     'histogram': {'max': 0.006929981522262096,\n",
       "      'min': 0.0,\n",
       "      'count': 11.0,\n",
       "      'buckets': [258080.0,\n",
       "       575.0,\n",
       "       251.0,\n",
       "       124.0,\n",
       "       78.0,\n",
       "       41.0,\n",
       "       26.0,\n",
       "       16.0,\n",
       "       7.0,\n",
       "       2.0]},\n",
       "     'statistics': {'mean': 1.2271503607432047e-05,\n",
       "      'stddev': 0.0001378920103609683,\n",
       "      'maximum': 0.006929981522262096,\n",
       "      'minimum': 0.0,\n",
       "      'valid_percent': 100.0}}],\n",
       "   'proj:geometry': {'type': 'Polygon',\n",
       "    'coordinates': [[[-180.0, -90.0],\n",
       "      [180.0, -90.0],\n",
       "      [180.0, 90.0],\n",
       "      [-180.0, 90.0],\n",
       "      [-180.0, -90.0]]]},\n",
       "   'proj:projjson': {'id': {'code': 4326.0, 'authority': 'EPSG'},\n",
       "    'name': 'WGS 84',\n",
       "    'type': 'GeographicCRS',\n",
       "    'datum': {'name': 'World Geodetic System 1984',\n",
       "     'type': 'GeodeticReferenceFrame',\n",
       "     'ellipsoid': {'name': 'WGS 84',\n",
       "      'semi_major_axis': 6378137.0,\n",
       "      'inverse_flattening': 298.257223563}},\n",
       "    '$schema': 'https://proj.org/schemas/v0.4/projjson.schema.json',\n",
       "    'coordinate_system': {'axis': [{'name': 'Geodetic latitude',\n",
       "       'unit': 'degree',\n",
       "       'direction': 'north',\n",
       "       'abbreviation': 'Lat'},\n",
       "      {'name': 'Geodetic longitude',\n",
       "       'unit': 'degree',\n",
       "       'direction': 'east',\n",
       "       'abbreviation': 'Lon'}],\n",
       "     'subtype': 'ellipsoidal'}},\n",
       "   'proj:transform': [0.5, 0.0, -180.0, 0.0, -0.5, 90.0, 0.0, 0.0, 1.0]}},\n",
       " 'geometry': {'type': 'Polygon',\n",
       "  'coordinates': [[[-180, -90],\n",
       "    [180, -90],\n",
       "    [180, 90],\n",
       "    [-180, 90],\n",
       "    [-180, -90]]]},\n",
       " 'collection': 'nasa-gsfc-ch4-wetlands-emissions',\n",
       " 'properties': {'end_datetime': '2021-12-31T00:00:00+00:00',\n",
       "  'start_datetime': '2021-12-01T00:00:00+00:00'},\n",
       " 'stac_version': '1.0.0',\n",
       " 'stac_extensions': []}"
      ]
     },
     "execution_count": 14,
     "metadata": {},
     "output_type": "execute_result"
    }
   ],
   "source": [
    "# Explore the first item\n",
    "items[0]"
   ]
  },
  {
   "cell_type": "code",
   "execution_count": 15,
   "metadata": {},
   "outputs": [],
   "source": [
    "# The bounding box should be passed to the geojson param as a geojson Feature or FeatureCollection\n",
    "def generate_stats(item, geojson):\n",
    "    result = requests.post(\n",
    "        f\"{RASTER_API_URL}/cog/statistics\",\n",
    "        params={\"url\": item[\"assets\"][\"ch4-wetlands-emissions\"][\"href\"]},\n",
    "        json=geojson,\n",
    "    ).json()\n",
    "    return {\n",
    "        **result[\"properties\"],\n",
    "        \"start_datetime\": item[\"properties\"][\"start_datetime\"],\n",
    "    }"
   ]
  },
  {
   "attachments": {},
   "cell_type": "markdown",
   "metadata": {},
   "source": [
    "With the function above, we can generate the statistics for the area of interest."
   ]
  },
  {
   "cell_type": "code",
   "execution_count": 16,
   "metadata": {},
   "outputs": [
    {
     "name": "stdout",
     "output_type": "stream",
     "text": [
      "CPU times: user 14.6 s, sys: 1.83 s, total: 16.4 s\n",
      "Wall time: 3min 53s\n"
     ]
    }
   ],
   "source": [
    "%%time\n",
    "stats = [generate_stats(item, texas_aoi) for item in items]"
   ]
  },
  {
   "cell_type": "code",
   "execution_count": 17,
   "metadata": {},
   "outputs": [
    {
     "data": {
      "text/plain": [
       "{'statistics': {'b1': {'min': 0.0,\n",
       "   'max': 0.08270357549190521,\n",
       "   'mean': 0.0036776848137378693,\n",
       "   'count': 144.0,\n",
       "   'sum': 0.5295866131782532,\n",
       "   'std': 0.010954321762175506,\n",
       "   'median': 0.0004336817655712366,\n",
       "   'majority': 0.0,\n",
       "   'minority': 0.0,\n",
       "   'unique': 144.0,\n",
       "   'histogram': [[132.0, 3.0, 1.0, 2.0, 3.0, 0.0, 2.0, 0.0, 0.0, 1.0],\n",
       "    [0.0,\n",
       "     0.008270357735455036,\n",
       "     0.016540715470910072,\n",
       "     0.024811072275042534,\n",
       "     0.033081430941820145,\n",
       "     0.041351787745952606,\n",
       "     0.04962214455008507,\n",
       "     0.05789250135421753,\n",
       "     0.06616286188364029,\n",
       "     0.07443321496248245,\n",
       "     0.08270357549190521]],\n",
       "   'valid_percent': 100.0,\n",
       "   'masked_pixels': 0.0,\n",
       "   'valid_pixels': 144.0,\n",
       "   'percentile_2': 5.158903395567904e-06,\n",
       "   'percentile_98': 0.039111024811863716}},\n",
       " 'start_datetime': '2021-12-01T00:00:00+00:00'}"
      ]
     },
     "execution_count": 17,
     "metadata": {},
     "output_type": "execute_result"
    }
   ],
   "source": [
    "stats[0]"
   ]
  },
  {
   "cell_type": "code",
   "execution_count": 18,
   "metadata": {},
   "outputs": [
    {
     "data": {
      "text/html": [
       "<div>\n",
       "<style scoped>\n",
       "    .dataframe tbody tr th:only-of-type {\n",
       "        vertical-align: middle;\n",
       "    }\n",
       "\n",
       "    .dataframe tbody tr th {\n",
       "        vertical-align: top;\n",
       "    }\n",
       "\n",
       "    .dataframe thead th {\n",
       "        text-align: right;\n",
       "    }\n",
       "</style>\n",
       "<table border=\"1\" class=\"dataframe\">\n",
       "  <thead>\n",
       "    <tr style=\"text-align: right;\">\n",
       "      <th></th>\n",
       "      <th>start_datetime</th>\n",
       "      <th>min</th>\n",
       "      <th>max</th>\n",
       "      <th>mean</th>\n",
       "      <th>count</th>\n",
       "      <th>sum</th>\n",
       "      <th>std</th>\n",
       "      <th>median</th>\n",
       "      <th>majority</th>\n",
       "      <th>minority</th>\n",
       "      <th>unique</th>\n",
       "      <th>histogram</th>\n",
       "      <th>valid_percent</th>\n",
       "      <th>masked_pixels</th>\n",
       "      <th>valid_pixels</th>\n",
       "      <th>percentile_2</th>\n",
       "      <th>percentile_98</th>\n",
       "      <th>date</th>\n",
       "    </tr>\n",
       "  </thead>\n",
       "  <tbody>\n",
       "    <tr>\n",
       "      <th>0</th>\n",
       "      <td>2021-12-01T00:00:00+00:00</td>\n",
       "      <td>0.0</td>\n",
       "      <td>0.082704</td>\n",
       "      <td>0.003678</td>\n",
       "      <td>144.0</td>\n",
       "      <td>0.529587</td>\n",
       "      <td>0.010954</td>\n",
       "      <td>0.000434</td>\n",
       "      <td>0.0</td>\n",
       "      <td>0.0</td>\n",
       "      <td>144.0</td>\n",
       "      <td>[[132.0, 3.0, 1.0, 2.0, 3.0, 0.0, 2.0, 0.0, 0....</td>\n",
       "      <td>100.0</td>\n",
       "      <td>0.0</td>\n",
       "      <td>144.0</td>\n",
       "      <td>0.000005</td>\n",
       "      <td>0.039111</td>\n",
       "      <td>2021-12-01 00:00:00+00:00</td>\n",
       "    </tr>\n",
       "    <tr>\n",
       "      <th>1</th>\n",
       "      <td>2021-11-01T00:00:00+00:00</td>\n",
       "      <td>0.0</td>\n",
       "      <td>0.038407</td>\n",
       "      <td>0.002670</td>\n",
       "      <td>144.0</td>\n",
       "      <td>0.384487</td>\n",
       "      <td>0.006200</td>\n",
       "      <td>0.000546</td>\n",
       "      <td>0.0</td>\n",
       "      <td>0.0</td>\n",
       "      <td>144.0</td>\n",
       "      <td>[[121.0, 12.0, 4.0, 1.0, 0.0, 2.0, 1.0, 0.0, 1...</td>\n",
       "      <td>100.0</td>\n",
       "      <td>0.0</td>\n",
       "      <td>144.0</td>\n",
       "      <td>0.000009</td>\n",
       "      <td>0.025172</td>\n",
       "      <td>2021-11-01 00:00:00+00:00</td>\n",
       "    </tr>\n",
       "    <tr>\n",
       "      <th>2</th>\n",
       "      <td>2021-10-01T00:00:00+00:00</td>\n",
       "      <td>0.0</td>\n",
       "      <td>0.075692</td>\n",
       "      <td>0.006725</td>\n",
       "      <td>144.0</td>\n",
       "      <td>0.968372</td>\n",
       "      <td>0.014166</td>\n",
       "      <td>0.001869</td>\n",
       "      <td>0.0</td>\n",
       "      <td>0.0</td>\n",
       "      <td>144.0</td>\n",
       "      <td>[[114.0, 14.0, 7.0, 1.0, 1.0, 0.0, 1.0, 2.0, 1...</td>\n",
       "      <td>100.0</td>\n",
       "      <td>0.0</td>\n",
       "      <td>144.0</td>\n",
       "      <td>0.000024</td>\n",
       "      <td>0.062252</td>\n",
       "      <td>2021-10-01 00:00:00+00:00</td>\n",
       "    </tr>\n",
       "    <tr>\n",
       "      <th>3</th>\n",
       "      <td>2021-09-01T00:00:00+00:00</td>\n",
       "      <td>0.0</td>\n",
       "      <td>0.263387</td>\n",
       "      <td>0.020818</td>\n",
       "      <td>144.0</td>\n",
       "      <td>2.997764</td>\n",
       "      <td>0.043533</td>\n",
       "      <td>0.005876</td>\n",
       "      <td>0.0</td>\n",
       "      <td>0.0</td>\n",
       "      <td>144.0</td>\n",
       "      <td>[[113.0, 17.0, 8.0, 1.0, 0.0, 0.0, 1.0, 0.0, 2...</td>\n",
       "      <td>100.0</td>\n",
       "      <td>0.0</td>\n",
       "      <td>144.0</td>\n",
       "      <td>0.000051</td>\n",
       "      <td>0.213432</td>\n",
       "      <td>2021-09-01 00:00:00+00:00</td>\n",
       "    </tr>\n",
       "    <tr>\n",
       "      <th>4</th>\n",
       "      <td>2021-08-01T00:00:00+00:00</td>\n",
       "      <td>0.0</td>\n",
       "      <td>0.195811</td>\n",
       "      <td>0.017107</td>\n",
       "      <td>144.0</td>\n",
       "      <td>2.463434</td>\n",
       "      <td>0.036938</td>\n",
       "      <td>0.004683</td>\n",
       "      <td>0.0</td>\n",
       "      <td>0.0</td>\n",
       "      <td>144.0</td>\n",
       "      <td>[[119.0, 9.0, 6.0, 0.0, 3.0, 1.0, 1.0, 1.0, 0....</td>\n",
       "      <td>100.0</td>\n",
       "      <td>0.0</td>\n",
       "      <td>144.0</td>\n",
       "      <td>0.000033</td>\n",
       "      <td>0.186417</td>\n",
       "      <td>2021-08-01 00:00:00+00:00</td>\n",
       "    </tr>\n",
       "  </tbody>\n",
       "</table>\n",
       "</div>"
      ],
      "text/plain": [
       "              start_datetime  min       max      mean  count       sum   \n",
       "0  2021-12-01T00:00:00+00:00  0.0  0.082704  0.003678  144.0  0.529587  \\\n",
       "1  2021-11-01T00:00:00+00:00  0.0  0.038407  0.002670  144.0  0.384487   \n",
       "2  2021-10-01T00:00:00+00:00  0.0  0.075692  0.006725  144.0  0.968372   \n",
       "3  2021-09-01T00:00:00+00:00  0.0  0.263387  0.020818  144.0  2.997764   \n",
       "4  2021-08-01T00:00:00+00:00  0.0  0.195811  0.017107  144.0  2.463434   \n",
       "\n",
       "        std    median  majority  minority  unique   \n",
       "0  0.010954  0.000434       0.0       0.0   144.0  \\\n",
       "1  0.006200  0.000546       0.0       0.0   144.0   \n",
       "2  0.014166  0.001869       0.0       0.0   144.0   \n",
       "3  0.043533  0.005876       0.0       0.0   144.0   \n",
       "4  0.036938  0.004683       0.0       0.0   144.0   \n",
       "\n",
       "                                           histogram  valid_percent   \n",
       "0  [[132.0, 3.0, 1.0, 2.0, 3.0, 0.0, 2.0, 0.0, 0....          100.0  \\\n",
       "1  [[121.0, 12.0, 4.0, 1.0, 0.0, 2.0, 1.0, 0.0, 1...          100.0   \n",
       "2  [[114.0, 14.0, 7.0, 1.0, 1.0, 0.0, 1.0, 2.0, 1...          100.0   \n",
       "3  [[113.0, 17.0, 8.0, 1.0, 0.0, 0.0, 1.0, 0.0, 2...          100.0   \n",
       "4  [[119.0, 9.0, 6.0, 0.0, 3.0, 1.0, 1.0, 1.0, 0....          100.0   \n",
       "\n",
       "   masked_pixels  valid_pixels  percentile_2  percentile_98   \n",
       "0            0.0         144.0      0.000005       0.039111  \\\n",
       "1            0.0         144.0      0.000009       0.025172   \n",
       "2            0.0         144.0      0.000024       0.062252   \n",
       "3            0.0         144.0      0.000051       0.213432   \n",
       "4            0.0         144.0      0.000033       0.186417   \n",
       "\n",
       "                       date  \n",
       "0 2021-12-01 00:00:00+00:00  \n",
       "1 2021-11-01 00:00:00+00:00  \n",
       "2 2021-10-01 00:00:00+00:00  \n",
       "3 2021-09-01 00:00:00+00:00  \n",
       "4 2021-08-01 00:00:00+00:00  "
      ]
     },
     "execution_count": 18,
     "metadata": {},
     "output_type": "execute_result"
    }
   ],
   "source": [
    "import pandas as pd\n",
    "\n",
    "\n",
    "def clean_stats(stats_json) -> pd.DataFrame:\n",
    "    df = pd.json_normalize(stats_json)\n",
    "    df.columns = [col.replace(\"statistics.b1.\", \"\") for col in df.columns]\n",
    "    df[\"date\"] = pd.to_datetime(df[\"start_datetime\"])\n",
    "    return df\n",
    "\n",
    "\n",
    "df = clean_stats(stats)\n",
    "df.head(5)"
   ]
  },
  {
   "attachments": {},
   "cell_type": "markdown",
   "metadata": {},
   "source": [
    "## Visualizing the Data as a Time Series\n",
    "We can now explore the wetland methane emissions time series (January 1980 – December 2021) available for the Dallas, Texas area of the U.S. We can plot the data set using the code below:"
   ]
  },
  {
   "cell_type": "code",
   "execution_count": 19,
   "metadata": {},
   "outputs": [
    {
     "data": {
      "text/plain": [
       "Text(0.5, 1.0, 'CH4 emission Values for Texas, Dallas (2000-2021)')"
      ]
     },
     "execution_count": 19,
     "metadata": {},
     "output_type": "execute_result"
    },
    {
     "data": {
      "image/png": "[encoded data removed]",
      "text/plain": [
       "<Figure size 2000x1000 with 1 Axes>"
      ]
     },
     "metadata": {},
     "output_type": "display_data"
    }
   ],
   "source": [
    "import matplotlib.pyplot as plt\n",
    "\n",
    "fig = plt.figure(figsize=(20, 10))\n",
    "\n",
    "\n",
    "plt.plot(\n",
    "    df[\"date\"],\n",
    "    df[\"max\"],\n",
    "    color=\"red\",\n",
    "    linestyle=\"-\",\n",
    "    linewidth=0.5,\n",
    "    label=\"Max monthly CH4 emissions\",\n",
    ")\n",
    "\n",
    "plt.legend()\n",
    "plt.xlabel(\"Years\")\n",
    "plt.ylabel(\"CH4 emissions g/m2\")\n",
    "plt.title(\"CH4 emission Values for Texas, Dallas (1980-2021)\")"
   ]
  },
  {
   "cell_type": "code",
   "execution_count": 20,
   "metadata": {},
   "outputs": [
    {
     "name": "stdout",
     "output_type": "stream",
     "text": [
      "2021-10-01T00:00:00+00:00\n"
     ]
    }
   ],
   "source": [
    "print(items[2][\"properties\"][\"start_datetime\"])"
   ]
  },
  {
   "cell_type": "code",
   "execution_count": 21,
   "metadata": {},
   "outputs": [
    {
     "data": {
      "text/plain": [
       "{'tilejson': '2.2.0',\n",
       " 'version': '1.0.0',\n",
       " 'scheme': 'xyz',\n",
       " 'tiles': ['https://2qncpyg24c.execute-api.us-west-2.amazonaws.com/api/raster/stac/tiles/WebMercatorQuad/{z}/{x}/{y}@1x?collection=nasa-gsfc-ch4-wetlands-emissions&item=nasa-gsfc-ch4-wetlands-emissions-202110&assets=ch4-wetlands-emissions&color_formula=gamma+r+1.05&colormap_name=magma&rescale=0.0%2C0.2'],\n",
       " 'minzoom': 0,\n",
       " 'maxzoom': 24,\n",
       " 'bounds': [-180.0, -90.0, 180.0, 90.0],\n",
       " 'center': [0.0, 0.0, 0]}"
      ]
     },
     "execution_count": 21,
     "metadata": {},
     "output_type": "execute_result"
    }
   ],
   "source": [
    "october_tile = requests.get(\n",
    "    f\"{RASTER_API_URL}/stac/tilejson.json?collection={items[2]['collection']}&item={items[2]['id']}\"\n",
    "    \"&assets=ch4-wetlands-emissions\"\n",
    "    f\"&color_formula=gamma+r+1.05&colormap_name={color_map}\"\n",
    "    f\"&rescale={rescale_values['min']},{rescale_values['max']}\",\n",
    ").json()\n",
    "october_tile"
   ]
  },
  {
   "cell_type": "code",
   "execution_count": 23,
   "metadata": {},
   "outputs": [
    {
     "data": {
      "text/html": [
       "<div style=\"width:100%;\"><div style=\"position:relative;width:100%;height:0;padding-bottom:60%;\"><span style=\"color:#565656\">Make this Notebook Trusted to load map: File -> Trust Notebook</span><iframe srcdoc=\"&lt;!DOCTYPE html&gt;\n",
       "&lt;html&gt;\n",
       "&lt;head&gt;\n",
       "    \n",
       "    &lt;meta http-equiv=&quot;content-type&quot; content=&quot;text/html; charset=UTF-8&quot; /&gt;\n",
       "    \n",
       "        &lt;script&gt;\n",
       "            L_NO_TOUCH = false;\n",
       "            L_DISABLE_3D = false;\n",
       "        &lt;/script&gt;\n",
       "    \n",
       "    &lt;style&gt;html, body {width: 100%;height: 100%;margin: 0;padding: 0;}&lt;/style&gt;\n",
       "    &lt;style&gt;#map {position:absolute;top:0;bottom:0;right:0;left:0;}&lt;/style&gt;\n",
       "    &lt;script src=&quot;https://cdn.jsdelivr.net/npm/leaflet@1.9.3/dist/leaflet.js&quot;&gt;&lt;/script&gt;\n",
       "    &lt;script src=&quot;https://code.jquery.com/jquery-1.12.4.min.js&quot;&gt;&lt;/script&gt;\n",
       "    &lt;script src=&quot;https://cdn.jsdelivr.net/npm/bootstrap@5.2.2/dist/js/bootstrap.bundle.min.js&quot;&gt;&lt;/script&gt;\n",
       "    &lt;script src=&quot;https://cdnjs.cloudflare.com/ajax/libs/Leaflet.awesome-markers/2.0.2/leaflet.awesome-markers.js&quot;&gt;&lt;/script&gt;\n",
       "    &lt;link rel=&quot;stylesheet&quot; href=&quot;https://cdn.jsdelivr.net/npm/leaflet@1.9.3/dist/leaflet.css&quot;/&gt;\n",
       "    &lt;link rel=&quot;stylesheet&quot; href=&quot;https://cdn.jsdelivr.net/npm/bootstrap@5.2.2/dist/css/bootstrap.min.css&quot;/&gt;\n",
       "    &lt;link rel=&quot;stylesheet&quot; href=&quot;https://netdna.bootstrapcdn.com/bootstrap/3.0.0/css/bootstrap.min.css&quot;/&gt;\n",
       "    &lt;link rel=&quot;stylesheet&quot; href=&quot;https://cdn.jsdelivr.net/npm/@fortawesome/fontawesome-free@6.2.0/css/all.min.css&quot;/&gt;\n",
       "    &lt;link rel=&quot;stylesheet&quot; href=&quot;https://cdnjs.cloudflare.com/ajax/libs/Leaflet.awesome-markers/2.0.2/leaflet.awesome-markers.css&quot;/&gt;\n",
       "    &lt;link rel=&quot;stylesheet&quot; href=&quot;https://cdn.jsdelivr.net/gh/python-visualization/folium/folium/templates/leaflet.awesome.rotate.min.css&quot;/&gt;\n",
       "    \n",
       "            &lt;meta name=&quot;viewport&quot; content=&quot;width=device-width,\n",
       "                initial-scale=1.0, maximum-scale=1.0, user-scalable=no&quot; /&gt;\n",
       "            &lt;style&gt;\n",
       "                #map_1e5261c21900e8e3dceffd63d47464af {\n",
       "                    position: relative;\n",
       "                    width: 100.0%;\n",
       "                    height: 100.0%;\n",
       "                    left: 0.0%;\n",
       "                    top: 0.0%;\n",
       "                }\n",
       "                .leaflet-container { font-size: 1rem; }\n",
       "            &lt;/style&gt;\n",
       "        \n",
       "&lt;/head&gt;\n",
       "&lt;body&gt;\n",
       "    \n",
       "    \n",
       "            &lt;div class=&quot;folium-map&quot; id=&quot;map_1e5261c21900e8e3dceffd63d47464af&quot; &gt;&lt;/div&gt;\n",
       "        \n",
       "&lt;/body&gt;\n",
       "&lt;script&gt;\n",
       "    \n",
       "    \n",
       "            var map_1e5261c21900e8e3dceffd63d47464af = L.map(\n",
       "                &quot;map_1e5261c21900e8e3dceffd63d47464af&quot;,\n",
       "                {\n",
       "                    center: [30.0, -100.0],\n",
       "                    crs: L.CRS.EPSG3857,\n",
       "                    zoom: 8,\n",
       "                    zoomControl: true,\n",
       "                    preferCanvas: false,\n",
       "                }\n",
       "            );\n",
       "\n",
       "            \n",
       "\n",
       "        \n",
       "    \n",
       "            var tile_layer_8378966ca7e1aa6a0bd1056cea4cbee8 = L.tileLayer(\n",
       "                &quot;https://{s}.tile.openstreetmap.org/{z}/{x}/{y}.png&quot;,\n",
       "                {&quot;attribution&quot;: &quot;Data by \\u0026copy; \\u003ca target=\\&quot;_blank\\&quot; href=\\&quot;http://openstreetmap.org\\&quot;\\u003eOpenStreetMap\\u003c/a\\u003e, under \\u003ca target=\\&quot;_blank\\&quot; href=\\&quot;http://www.openstreetmap.org/copyright\\&quot;\\u003eODbL\\u003c/a\\u003e.&quot;, &quot;detectRetina&quot;: false, &quot;maxNativeZoom&quot;: 18, &quot;maxZoom&quot;: 18, &quot;minZoom&quot;: 0, &quot;noWrap&quot;: false, &quot;opacity&quot;: 1, &quot;subdomains&quot;: &quot;abc&quot;, &quot;tms&quot;: false}\n",
       "            ).addTo(map_1e5261c21900e8e3dceffd63d47464af);\n",
       "        \n",
       "    \n",
       "            var tile_layer_581e52d3b12580841cb51d8cc0db945e = L.tileLayer(\n",
       "                &quot;https://2qncpyg24c.execute-api.us-west-2.amazonaws.com/api/raster/stac/tiles/WebMercatorQuad/{z}/{x}/{y}@1x?collection=nasa-gsfc-ch4-wetlands-emissions\\u0026item=nasa-gsfc-ch4-wetlands-emissions-202110\\u0026assets=ch4-wetlands-emissions\\u0026color_formula=gamma+r+1.05\\u0026colormap_name=magma\\u0026rescale=0.0%2C0.2&quot;,\n",
       "                {&quot;attribution&quot;: &quot;GHG&quot;, &quot;detectRetina&quot;: false, &quot;maxNativeZoom&quot;: 18, &quot;maxZoom&quot;: 18, &quot;minZoom&quot;: 0, &quot;noWrap&quot;: false, &quot;opacity&quot;: 0.5, &quot;subdomains&quot;: &quot;abc&quot;, &quot;tms&quot;: false}\n",
       "            ).addTo(map_1e5261c21900e8e3dceffd63d47464af);\n",
       "        \n",
       "&lt;/script&gt;\n",
       "&lt;/html&gt;\" style=\"position:absolute;width:100%;height:100%;left:0;top:0;border:none !important;\" allowfullscreen webkitallowfullscreen mozallowfullscreen></iframe></div></div>"
      ],
      "text/plain": [
       "<folium.folium.Map at 0x1697ceac0>"
      ]
     },
     "execution_count": 23,
     "metadata": {},
     "output_type": "execute_result"
    }
   ],
   "source": [
    "# Use bbox initial zoom and map\n",
    "# Set up a map located w/in event bounds\n",
    "import folium\n",
    "\n",
    "aoi_map_bbox = Map(\n",
    "    tiles=\"OpenStreetMap\",\n",
    "    location=[\n",
    "        30,-100\n",
    "    ],\n",
    "    zoom_start=8,\n",
    ")\n",
    "\n",
    "map_layer = TileLayer(\n",
    "    tiles=october_tile[\"tiles\"][0],\n",
    "    attr=\"GHG\", opacity = 0.5\n",
    ")\n",
    "\n",
    "map_layer.add_to(aoi_map_bbox)\n",
    "\n",
    "aoi_map_bbox"
   ]
  },
  {
   "attachments": {},
   "cell_type": "markdown",
   "metadata": {},
   "source": [
    "## Summary\n",
    "In this notebook, we have successfully explored, analyzed, and visualized the STAC collection for wetland methane emissions."
   ]
  }
 ],
 "metadata": {
  "kernelspec": {
   "display_name": "Python 3",
   "language": "python",
   "name": "python3"
  },
  "language_info": {
   "codemirror_mode": {
    "name": "ipython",
    "version": 3
   },
   "file_extension": ".py",
   "mimetype": "text/x-python",
   "name": "python",
   "nbconvert_exporter": "python",
   "pygments_lexer": "ipython3",
   "version": "3.9.6"
  },
  "vscode": {
   "interpreter": {
    "hash": "31f2aee4e71d21fbe5cf8b01ff0e069b9275f58929596ceb00d14d90e3e16cd6"
   }
  }
 },
 "nbformat": 4,
 "nbformat_minor": 4
}
