{
 "cells": [
  {
   "cell_type": "raw",
   "metadata": {},
   "source": [
    "---\n",
    "title: Methane plumes\n",
    "description: High-spatial resolution CH4 emissions data product.\n",
    "author: Siddharth Chaudhary, Vishal Gaur\n",
    "date: 5 July 2023\n",
    "execute:\n",
    "   freeze: true\n",
    "---"
   ]
  },
  {
   "attachments": {},
   "cell_type": "markdown",
   "metadata": {},
   "source": [
    "## Run this notebook\n",
    "\n",
    "You can launch this notebook using mybinder, by clicking the button below.\n",
    "\n",
    "<a href=\"https://mybinder.org/v2/gh/NASA-IMPACT/GHGC_docs/HEAD?labpath=user_data_notebooks/wetland_methane_emissions.ipynb\">\n",
    "<img src=\"https://mybinder.org/badge_logo.svg\" alt=\"Binder\" title=\"A cute binder\" width=\"150\"/> \n",
    "</a>"
   ]
  },
  {
   "attachments": {},
   "cell_type": "markdown",
   "metadata": {},
   "source": [
    "## Approach\n",
    "\n",
    "   1. Identify available dates and temporal frequency of observations for the given collection using the GHGC API `/stac` endpoint. Collection processed in this notebook is ODIAC CO2 emissions version 2022.\n",
    "   2. Pass the STAC item into raster API `/stac/tilejson.json` endpoint\n",
    "   3. We'll visualize two tiles (side-by-side) allowing for comparison of each of the time points using `folium.plugins.DualMap`\n",
    "   4. After the visualization, we'll perform zonal statistics for a given polygon.\n",
    "   "
   ]
  },
  {
   "attachments": {},
   "cell_type": "markdown",
   "metadata": {},
   "source": [
    "## About the Data\n",
    "\n",
    "The EMIT instrument builds upon NASA’s long history of developing advanced imaging spectrometers for new science and applications. EMIT launched to the International Space Station (ISS) on July 14, 2022. The data shows high-confidence research grade methane plumes from point source emitters - updated as they are identified - in keeping with JPL Open Science and Open Data policy."
   ]
  },
  {
   "attachments": {},
   "cell_type": "markdown",
   "metadata": {},
   "source": [
    "# Installing the required libraries.\n",
    "Please run the next cell to install all the required libraries to run the notebook."
   ]
  },
  {
   "cell_type": "raw",
   "metadata": {},
   "source": [
    "!pip install requests, folium\n",
    "!pip install rasterstats"
   ]
  },
  {
   "attachments": {},
   "cell_type": "markdown",
   "metadata": {},
   "source": [
    "## Querying the STAC API"
   ]
  },
  {
   "cell_type": "code",
   "execution_count": 130,
   "metadata": {},
   "outputs": [],
   "source": [
    "import requests\n",
    "from folium import Map, TileLayer\n",
    "from pystac_client import Client"
   ]
  },
  {
   "cell_type": "code",
   "execution_count": 131,
   "metadata": {},
   "outputs": [],
   "source": [
    "# Provide STAC and RASTER API endpoints\n",
    "STAC_API_URL = \"http://dev.ghg.center/api/stac\"\n",
    "RASTER_API_URL = \"https://dev.ghg.center/api/raster\"\n",
    "\n",
    "#Please use the collection name similar to the one used in STAC collection.\n",
    "# Name of the collection for wetland methane monthly emissions. \n",
    "collection_name = \"nasa-jpl-plumes-emissions-updated\""
   ]
  },
  {
   "cell_type": "code",
   "execution_count": 132,
   "metadata": {},
   "outputs": [
    {
     "data": {
      "text/plain": [
       "{'id': 'nasa-jpl-plumes-emissions-updated',\n",
       " 'type': 'Collection',\n",
       " 'links': [{'rel': 'items',\n",
       "   'type': 'application/geo+json',\n",
       "   'href': 'https://gkynb1qvnl.execute-api.us-west-2.amazonaws.com/api/stac/collections/nasa-jpl-plumes-emissions-updated/items'},\n",
       "  {'rel': 'parent',\n",
       "   'type': 'application/json',\n",
       "   'href': 'https://gkynb1qvnl.execute-api.us-west-2.amazonaws.com/api/stac/'},\n",
       "  {'rel': 'root',\n",
       "   'type': 'application/json',\n",
       "   'href': 'https://gkynb1qvnl.execute-api.us-west-2.amazonaws.com/api/stac/'},\n",
       "  {'rel': 'self',\n",
       "   'type': 'application/json',\n",
       "   'href': 'https://gkynb1qvnl.execute-api.us-west-2.amazonaws.com/api/stac/collections/nasa-jpl-plumes-emissions-updated'}],\n",
       " 'title': 'CH4 plumes emissions',\n",
       " 'assets': None,\n",
       " 'extent': {'spatial': {'bbox': [[-121.71466779194687,\n",
       "     -38.78784262561637,\n",
       "     151.09064663683435,\n",
       "     50.24673720047911]]},\n",
       "  'temporal': {'interval': [['2022-08-10 00:00:00+00',\n",
       "     '2023-05-04 00:00:00+00']]}},\n",
       " 'license': 'CC0-1.0',\n",
       " 'keywords': None,\n",
       " 'providers': None,\n",
       " 'summaries': {'datetime': ['2022-08-10T00:00:00Z',\n",
       "   '2022-08-11T00:00:00Z',\n",
       "   '2022-08-14T00:00:00Z',\n",
       "   '2022-08-15T00:00:00Z',\n",
       "   '2022-08-16T00:00:00Z',\n",
       "   '2022-08-17T00:00:00Z',\n",
       "   '2022-08-18T00:00:00Z',\n",
       "   '2022-08-19T00:00:00Z',\n",
       "   '2022-08-20T00:00:00Z',\n",
       "   '2022-08-22T00:00:00Z',\n",
       "   '2022-08-23T00:00:00Z',\n",
       "   '2022-08-26T00:00:00Z',\n",
       "   '2022-08-27T00:00:00Z',\n",
       "   '2022-08-28T00:00:00Z',\n",
       "   '2022-08-29T00:00:00Z',\n",
       "   '2022-08-30T00:00:00Z',\n",
       "   '2022-08-31T00:00:00Z',\n",
       "   '2022-09-01T00:00:00Z',\n",
       "   '2022-09-03T00:00:00Z',\n",
       "   '2022-09-09T00:00:00Z',\n",
       "   '2023-01-07T00:00:00Z',\n",
       "   '2023-01-11T00:00:00Z',\n",
       "   '2023-01-18T00:00:00Z',\n",
       "   '2023-01-19T00:00:00Z',\n",
       "   '2023-01-21T00:00:00Z',\n",
       "   '2023-01-22T00:00:00Z',\n",
       "   '2023-01-23T00:00:00Z',\n",
       "   '2023-01-25T00:00:00Z',\n",
       "   '2023-01-26T00:00:00Z',\n",
       "   '2023-01-27T00:00:00Z',\n",
       "   '2023-01-28T00:00:00Z',\n",
       "   '2023-01-29T00:00:00Z',\n",
       "   '2023-01-30T00:00:00Z',\n",
       "   '2023-01-31T00:00:00Z',\n",
       "   '2023-02-01T00:00:00Z',\n",
       "   '2023-02-02T00:00:00Z',\n",
       "   '2023-02-03T00:00:00Z',\n",
       "   '2023-02-04T00:00:00Z',\n",
       "   '2023-02-05T00:00:00Z',\n",
       "   '2023-02-06T00:00:00Z',\n",
       "   '2023-02-14T00:00:00Z',\n",
       "   '2023-02-15T00:00:00Z',\n",
       "   '2023-02-16T00:00:00Z',\n",
       "   '2023-02-17T00:00:00Z',\n",
       "   '2023-02-18T00:00:00Z',\n",
       "   '2023-02-19T00:00:00Z',\n",
       "   '2023-02-20T00:00:00Z',\n",
       "   '2023-02-21T00:00:00Z',\n",
       "   '2023-02-22T00:00:00Z',\n",
       "   '2023-02-23T00:00:00Z',\n",
       "   '2023-02-24T00:00:00Z',\n",
       "   '2023-02-25T00:00:00Z',\n",
       "   '2023-02-26T00:00:00Z',\n",
       "   '2023-02-27T00:00:00Z',\n",
       "   '2023-02-28T00:00:00Z',\n",
       "   '2023-03-11T00:00:00Z',\n",
       "   '2023-03-18T00:00:00Z',\n",
       "   '2023-03-21T00:00:00Z',\n",
       "   '2023-03-23T00:00:00Z',\n",
       "   '2023-03-24T00:00:00Z',\n",
       "   '2023-03-25T00:00:00Z',\n",
       "   '2023-03-26T00:00:00Z',\n",
       "   '2023-03-27T00:00:00Z',\n",
       "   '2023-03-30T00:00:00Z',\n",
       "   '2023-03-31T00:00:00Z',\n",
       "   '2023-04-03T00:00:00Z',\n",
       "   '2023-04-04T00:00:00Z',\n",
       "   '2023-04-05T00:00:00Z',\n",
       "   '2023-04-16T00:00:00Z',\n",
       "   '2023-04-17T00:00:00Z',\n",
       "   '2023-04-18T00:00:00Z',\n",
       "   '2023-04-19T00:00:00Z',\n",
       "   '2023-04-20T00:00:00Z',\n",
       "   '2023-04-21T00:00:00Z',\n",
       "   '2023-04-22T00:00:00Z',\n",
       "   '2023-04-23T00:00:00Z',\n",
       "   '2023-04-24T00:00:00Z',\n",
       "   '2023-04-25T00:00:00Z',\n",
       "   '2023-04-26T00:00:00Z',\n",
       "   '2023-04-27T00:00:00Z',\n",
       "   '2023-04-28T00:00:00Z',\n",
       "   '2023-04-29T00:00:00Z',\n",
       "   '2023-04-30T00:00:00Z',\n",
       "   '2023-05-02T00:00:00Z',\n",
       "   '2023-05-04T00:00:00Z'],\n",
       "  'cog_default': None},\n",
       " 'description': 'Methane plumes from point source emitters',\n",
       " 'item_assets': {'ch4-plume-emissions': {'type': 'image/tiff; application=geotiff; profile=cloud-optimized',\n",
       "   'roles': ['data', 'layer'],\n",
       "   'title': 'CH4 Plumes Emissions',\n",
       "   'description': 'Methane plumes from point source emitters.'}},\n",
       " 'stac_version': '1.0.0',\n",
       " 'dashboard:is_periodic': False,\n",
       " 'dashboard:time_density': 'day'}"
      ]
     },
     "execution_count": 132,
     "metadata": {},
     "output_type": "execute_result"
    }
   ],
   "source": [
    "# Fetching the collection from STAC collections using appropriate endpoint.\n",
    "collection = requests.get(f\"{STAC_API_URL}/collections/{collection_name}\").json()\n",
    "collection"
   ]
  },
  {
   "attachments": {},
   "cell_type": "markdown",
   "metadata": {},
   "source": [
    "Examining the contents of our `collection` under `summaries` we see that the data is available from January 2000 to December 2021. By looking at the `dashboard:time density` we observe that the periodic frequency of these observations is monthly. "
   ]
  },
  {
   "cell_type": "code",
   "execution_count": 133,
   "metadata": {},
   "outputs": [
    {
     "name": "stdout",
     "output_type": "stream",
     "text": [
      "Found 401 items\n"
     ]
    }
   ],
   "source": [
    "# Check total number of items available\n",
    "items = requests.get(f\"{STAC_API_URL}/collections/{collection_name}/items?limit=500\").json()[\"features\"]\n",
    "print(f\"Found {len(items)} items\")"
   ]
  },
  {
   "cell_type": "code",
   "execution_count": 134,
   "metadata": {},
   "outputs": [
    {
     "data": {
      "text/plain": [
       "{'id': 'emit20230504t135454_o12409_s000_l1b_ch4mf_b0106_v01_mv0_p2_20230504',\n",
       " 'bbox': [-46.450625050282454,\n",
       "  -23.700764982003268,\n",
       "  -46.41212654134425,\n",
       "  -23.630816986890196],\n",
       " 'type': 'Feature',\n",
       " 'links': [{'rel': 'collection',\n",
       "   'type': 'application/json',\n",
       "   'href': 'https://gkynb1qvnl.execute-api.us-west-2.amazonaws.com/api/stac/collections/nasa-jpl-plumes-emissions-updated'},\n",
       "  {'rel': 'parent',\n",
       "   'type': 'application/json',\n",
       "   'href': 'https://gkynb1qvnl.execute-api.us-west-2.amazonaws.com/api/stac/collections/nasa-jpl-plumes-emissions-updated'},\n",
       "  {'rel': 'root',\n",
       "   'type': 'application/json',\n",
       "   'href': 'https://gkynb1qvnl.execute-api.us-west-2.amazonaws.com/api/stac/'},\n",
       "  {'rel': 'self',\n",
       "   'type': 'application/geo+json',\n",
       "   'href': 'https://gkynb1qvnl.execute-api.us-west-2.amazonaws.com/api/stac/collections/nasa-jpl-plumes-emissions-updated/items/emit20230504t135454_o12409_s000_l1b_ch4mf_b0106_v01_mv0_p2_20230504'}],\n",
       " 'assets': {'ch4-plume-emissions': {'href': 's3://ghgc-data-store-dev/plum_data/emit20230504t135454_o12409_s000_l1b_ch4mf_b0106_v01_mv0_p2_20230504.tif',\n",
       "   'type': 'image/tiff; application=geotiff; profile=cloud-optimized',\n",
       "   'roles': ['data', 'layer'],\n",
       "   'proj:bbox': [-46.450625050282454,\n",
       "    -23.700764982003268,\n",
       "    -46.41212654134425,\n",
       "    -23.630816986890196],\n",
       "   'proj:epsg': 4326,\n",
       "   'proj:shape': [129, 71],\n",
       "   'raster:bands': [{'scale': 1.0,\n",
       "     'nodata': -9999.0,\n",
       "     'offset': 0.0,\n",
       "     'sampling': 'area',\n",
       "     'data_type': 'float32',\n",
       "     'histogram': {'max': 5396.69921875,\n",
       "      'min': -2927.2822265625,\n",
       "      'count': 11,\n",
       "      'buckets': [11, 73, 466, 1352, 1465, 875, 378, 87, 23, 4]},\n",
       "     'statistics': {'mean': 720.5838086185045,\n",
       "      'stddev': 1031.5550092125752,\n",
       "      'maximum': 5396.69921875,\n",
       "      'minimum': -2927.2822265625,\n",
       "      'valid_percent': 51.68686537831641}}],\n",
       "   'proj:geometry': {'type': 'Polygon',\n",
       "    'coordinates': [[[-46.450625050282454, -23.700764982003268],\n",
       "      [-46.41212654134425, -23.700764982003268],\n",
       "      [-46.41212654134425, -23.630816986890196],\n",
       "      [-46.450625050282454, -23.630816986890196],\n",
       "      [-46.450625050282454, -23.700764982003268]]]},\n",
       "   'proj:projjson': {'id': {'code': 4326, 'authority': 'EPSG'},\n",
       "    'name': 'WGS 84',\n",
       "    'type': 'GeographicCRS',\n",
       "    'datum': {'name': 'World Geodetic System 1984',\n",
       "     'type': 'GeodeticReferenceFrame',\n",
       "     'ellipsoid': {'name': 'WGS 84',\n",
       "      'semi_major_axis': 6378137,\n",
       "      'inverse_flattening': 298.257223563}},\n",
       "    '$schema': 'https://proj.org/schemas/v0.4/projjson.schema.json',\n",
       "    'coordinate_system': {'axis': [{'name': 'Geodetic latitude',\n",
       "       'unit': 'degree',\n",
       "       'direction': 'north',\n",
       "       'abbreviation': 'Lat'},\n",
       "      {'name': 'Geodetic longitude',\n",
       "       'unit': 'degree',\n",
       "       'direction': 'east',\n",
       "       'abbreviation': 'Lon'}],\n",
       "     'subtype': 'ellipsoidal'}},\n",
       "   'proj:transform': [0.000542232520256367,\n",
       "    0.0,\n",
       "    -46.450625050282454,\n",
       "    0.0,\n",
       "    -0.000542232520256367,\n",
       "    -23.630816986890196,\n",
       "    0.0,\n",
       "    0.0,\n",
       "    1.0]}},\n",
       " 'geometry': {'type': 'Polygon',\n",
       "  'coordinates': [[[-46.450625050282454, -23.700764982003268],\n",
       "    [-46.41212654134425, -23.700764982003268],\n",
       "    [-46.41212654134425, -23.630816986890196],\n",
       "    [-46.450625050282454, -23.630816986890196],\n",
       "    [-46.450625050282454, -23.700764982003268]]]},\n",
       " 'collection': 'nasa-jpl-plumes-emissions-updated',\n",
       " 'properties': {'datetime': '2023-05-04T00:00:00Z'},\n",
       " 'stac_version': '1.0.0',\n",
       " 'stac_extensions': []}"
      ]
     },
     "execution_count": 134,
     "metadata": {},
     "output_type": "execute_result"
    }
   ],
   "source": [
    "items[0]"
   ]
  },
  {
   "attachments": {},
   "cell_type": "markdown",
   "metadata": {},
   "source": [
    "This makes sense as there are 22 years between 2000 - 2021, with 12 months per year, meaning 264 records in total.  \n",
    "\n",
    "Below, we are entering the minimum and maximum values to provide our upper and lower bounds in `rescale_values`."
   ]
  },
  {
   "attachments": {},
   "cell_type": "markdown",
   "metadata": {},
   "source": [
    "## Exploring Changes in Methane emissions (CH4) levels using the Raster API\n",
    "\n",
    "We will explore changes in methane emissions in wetland regions. In this notebook, we'll explore the impacts of these emissions and explore these changes over time. We'll then visualize the outputs on a map using `folium`. "
   ]
  },
  {
   "cell_type": "code",
   "execution_count": 135,
   "metadata": {},
   "outputs": [],
   "source": [
    "# to access the year value from each item more easily, this will let us query more explicity by year and month (e.g., 2020-02)\n",
    "items = {item[\"id\"]: item for item in items} "
   ]
  },
  {
   "cell_type": "code",
   "execution_count": 137,
   "metadata": {},
   "outputs": [],
   "source": [
    "rescale_values = {\"max\":items[list(items.keys())[0]][\"assets\"][\"ch4-plume-emissions\"][\"raster:bands\"][0][\"histogram\"][\"max\"], \"min\":items[list(items.keys())[0]][\"assets\"][\"ch4-plume-emissions\"][\"raster:bands\"][0][\"histogram\"][\"min\"]}"
   ]
  },
  {
   "attachments": {},
   "cell_type": "markdown",
   "metadata": {},
   "source": [
    "Now we will pass the item id, collection name, and `rescaling_factor` to the `Raster API` endpoint. We will do this twice, once for December 2001 and again for December 2021, so that we can visualize each event independently. "
   ]
  },
  {
   "cell_type": "code",
   "execution_count": 138,
   "metadata": {},
   "outputs": [
    {
     "data": {
      "text/plain": [
       "{'tilejson': '2.2.0',\n",
       " 'version': '1.0.0',\n",
       " 'scheme': 'xyz',\n",
       " 'tiles': ['https://2qncpyg24c.execute-api.us-west-2.amazonaws.com/api/raster/stac/tiles/WebMercatorQuad/{z}/{x}/{y}@1x?collection=nasa-jpl-plumes-emissions-updated&item=emit20230504t135454_o12409_s000_l1b_ch4mf_b0106_v01_mv0_p2_20230504&assets=ch4-plume-emissions&color_formula=gamma+r+1.05&colormap_name=magma&rescale=-2927.2822265625%2C5396.69921875'],\n",
       " 'minzoom': 0,\n",
       " 'maxzoom': 24,\n",
       " 'bounds': [-46.450625050282454,\n",
       "  -23.700764982003268,\n",
       "  -46.41212654134425,\n",
       "  -23.630816986890196],\n",
       " 'center': [-46.43137579581335, -23.66579098444673, 0]}"
      ]
     },
     "execution_count": 138,
     "metadata": {},
     "output_type": "execute_result"
    }
   ],
   "source": [
    "color_map = \"magma\" # please select the color ramp from matplotlib library.\n",
    "december_2001_tile = requests.get(\n",
    "    f\"{RASTER_API_URL}/stac/tilejson.json?collection={items['emit20230504t135454_o12409_s000_l1b_ch4mf_b0106_v01_mv0_p2_20230504']['collection']}&item={items['emit20230504t135454_o12409_s000_l1b_ch4mf_b0106_v01_mv0_p2_20230504']['id']}\"\n",
    "    \"&assets=ch4-plume-emissions\"\n",
    "    f\"&color_formula=gamma+r+1.05&colormap_name={color_map}\"\n",
    "    f\"&rescale={rescale_values['min']},{rescale_values['max']}\", \n",
    ").json()\n",
    "december_2001_tile"
   ]
  },
  {
   "cell_type": "code",
   "execution_count": 139,
   "metadata": {},
   "outputs": [
    {
     "data": {
      "text/plain": [
       "{'tilejson': '2.2.0',\n",
       " 'version': '1.0.0',\n",
       " 'scheme': 'xyz',\n",
       " 'tiles': ['https://2qncpyg24c.execute-api.us-west-2.amazonaws.com/api/raster/stac/tiles/WebMercatorQuad/{z}/{x}/{y}@1x?collection=nasa-jpl-plumes-emissions-updated&item=emit20230504t135454_o12409_s000_l1b_ch4mf_b0106_v01_mv0_p2_20230504&assets=ch4-plume-emissions&color_formula=gamma+r+1.05&colormap_name=magma&rescale=-2927.2822265625%2C5396.69921875'],\n",
       " 'minzoom': 0,\n",
       " 'maxzoom': 24,\n",
       " 'bounds': [-46.450625050282454,\n",
       "  -23.700764982003268,\n",
       "  -46.41212654134425,\n",
       "  -23.630816986890196],\n",
       " 'center': [-46.43137579581335, -23.66579098444673, 0]}"
      ]
     },
     "execution_count": 139,
     "metadata": {},
     "output_type": "execute_result"
    }
   ],
   "source": [
    "august_11_2022 = requests.get(\n",
    "    f\"{RASTER_API_URL}/stac/tilejson.json?collection={items['emit20230504t135454_o12409_s000_l1b_ch4mf_b0106_v01_mv0_p2_20230504']['collection']}&item={items['emit20230504t135454_o12409_s000_l1b_ch4mf_b0106_v01_mv0_p2_20230504']['id']}\"\n",
    "    \"&assets=ch4-plume-emissions\"\n",
    "    f\"&color_formula=gamma+r+1.05&colormap_name={color_map}\"\n",
    "    f\"&rescale={rescale_values['min']},{rescale_values['max']}\", \n",
    ").json()\n",
    "august_11_2022"
   ]
  },
  {
   "attachments": {},
   "cell_type": "markdown",
   "metadata": {},
   "source": [
    "## Visualizing CH4 emissions\n"
   ]
  },
  {
   "cell_type": "code",
   "execution_count": 144,
   "metadata": {},
   "outputs": [
    {
     "data": {
      "text/html": [
       "<div style=\"width:100%;\"><div style=\"position:relative;width:100%;height:0;padding-bottom:60%;\"><span style=\"color:#565656\">Make this Notebook Trusted to load map: File -> Trust Notebook</span><iframe srcdoc=\"&lt;!DOCTYPE html&gt;\n",
       "&lt;html&gt;\n",
       "&lt;head&gt;\n",
       "    \n",
       "    &lt;meta http-equiv=&quot;content-type&quot; content=&quot;text/html; charset=UTF-8&quot; /&gt;\n",
       "    \n",
       "        &lt;script&gt;\n",
       "            L_NO_TOUCH = false;\n",
       "            L_DISABLE_3D = false;\n",
       "        &lt;/script&gt;\n",
       "    \n",
       "    &lt;style&gt;html, body {width: 100%;height: 100%;margin: 0;padding: 0;}&lt;/style&gt;\n",
       "    &lt;style&gt;#map {position:absolute;top:0;bottom:0;right:0;left:0;}&lt;/style&gt;\n",
       "    &lt;script src=&quot;https://cdn.jsdelivr.net/npm/leaflet@1.9.3/dist/leaflet.js&quot;&gt;&lt;/script&gt;\n",
       "    &lt;script src=&quot;https://code.jquery.com/jquery-1.12.4.min.js&quot;&gt;&lt;/script&gt;\n",
       "    &lt;script src=&quot;https://cdn.jsdelivr.net/npm/bootstrap@5.2.2/dist/js/bootstrap.bundle.min.js&quot;&gt;&lt;/script&gt;\n",
       "    &lt;script src=&quot;https://cdnjs.cloudflare.com/ajax/libs/Leaflet.awesome-markers/2.0.2/leaflet.awesome-markers.js&quot;&gt;&lt;/script&gt;\n",
       "    &lt;link rel=&quot;stylesheet&quot; href=&quot;https://cdn.jsdelivr.net/npm/leaflet@1.9.3/dist/leaflet.css&quot;/&gt;\n",
       "    &lt;link rel=&quot;stylesheet&quot; href=&quot;https://cdn.jsdelivr.net/npm/bootstrap@5.2.2/dist/css/bootstrap.min.css&quot;/&gt;\n",
       "    &lt;link rel=&quot;stylesheet&quot; href=&quot;https://netdna.bootstrapcdn.com/bootstrap/3.0.0/css/bootstrap.min.css&quot;/&gt;\n",
       "    &lt;link rel=&quot;stylesheet&quot; href=&quot;https://cdn.jsdelivr.net/npm/@fortawesome/fontawesome-free@6.2.0/css/all.min.css&quot;/&gt;\n",
       "    &lt;link rel=&quot;stylesheet&quot; href=&quot;https://cdnjs.cloudflare.com/ajax/libs/Leaflet.awesome-markers/2.0.2/leaflet.awesome-markers.css&quot;/&gt;\n",
       "    &lt;link rel=&quot;stylesheet&quot; href=&quot;https://cdn.jsdelivr.net/gh/python-visualization/folium/folium/templates/leaflet.awesome.rotate.min.css&quot;/&gt;\n",
       "    \n",
       "            &lt;meta name=&quot;viewport&quot; content=&quot;width=device-width,\n",
       "                initial-scale=1.0, maximum-scale=1.0, user-scalable=no&quot; /&gt;\n",
       "            &lt;style&gt;\n",
       "                #map_b02e88290cc760a7ffa3843bde2a1975 {\n",
       "                    position: relative;\n",
       "                    width: 100.0%;\n",
       "                    height: 100.0%;\n",
       "                    left: 0.0%;\n",
       "                    top: 0.0%;\n",
       "                }\n",
       "                .leaflet-container { font-size: 1rem; }\n",
       "            &lt;/style&gt;\n",
       "        \n",
       "&lt;/head&gt;\n",
       "&lt;body&gt;\n",
       "    \n",
       "    \n",
       "            &lt;div class=&quot;folium-map&quot; id=&quot;map_b02e88290cc760a7ffa3843bde2a1975&quot; &gt;&lt;/div&gt;\n",
       "        \n",
       "&lt;/body&gt;\n",
       "&lt;script&gt;\n",
       "    \n",
       "    \n",
       "            var map_b02e88290cc760a7ffa3843bde2a1975 = L.map(\n",
       "                &quot;map_b02e88290cc760a7ffa3843bde2a1975&quot;,\n",
       "                {\n",
       "                    center: [-23.66, -46.43],\n",
       "                    crs: L.CRS.EPSG3857,\n",
       "                    zoom: 13,\n",
       "                    zoomControl: true,\n",
       "                    preferCanvas: false,\n",
       "                }\n",
       "            );\n",
       "\n",
       "            \n",
       "\n",
       "        \n",
       "    \n",
       "            var tile_layer_977b80604b8a67237f0abb4a2552e085 = L.tileLayer(\n",
       "                &quot;https://{s}.tile.openstreetmap.org/{z}/{x}/{y}.png&quot;,\n",
       "                {&quot;attribution&quot;: &quot;Data by \\u0026copy; \\u003ca target=\\&quot;_blank\\&quot; href=\\&quot;http://openstreetmap.org\\&quot;\\u003eOpenStreetMap\\u003c/a\\u003e, under \\u003ca target=\\&quot;_blank\\&quot; href=\\&quot;http://www.openstreetmap.org/copyright\\&quot;\\u003eODbL\\u003c/a\\u003e.&quot;, &quot;detectRetina&quot;: false, &quot;maxNativeZoom&quot;: 18, &quot;maxZoom&quot;: 18, &quot;minZoom&quot;: 0, &quot;noWrap&quot;: false, &quot;opacity&quot;: 1, &quot;subdomains&quot;: &quot;abc&quot;, &quot;tms&quot;: false}\n",
       "            ).addTo(map_b02e88290cc760a7ffa3843bde2a1975);\n",
       "        \n",
       "    \n",
       "            var tile_layer_220ebbda08b41e34358b17fdf94c39d9 = L.tileLayer(\n",
       "                &quot;https://2qncpyg24c.execute-api.us-west-2.amazonaws.com/api/raster/stac/tiles/WebMercatorQuad/{z}/{x}/{y}@1x?collection=nasa-jpl-plumes-emissions-updated\\u0026item=emit20230504t135454_o12409_s000_l1b_ch4mf_b0106_v01_mv0_p2_20230504\\u0026assets=ch4-plume-emissions\\u0026color_formula=gamma+r+1.05\\u0026colormap_name=magma\\u0026rescale=-2927.2822265625%2C5396.69921875&quot;,\n",
       "                {&quot;attribution&quot;: &quot;GHG&quot;, &quot;detectRetina&quot;: false, &quot;maxNativeZoom&quot;: 18, &quot;maxZoom&quot;: 18, &quot;minZoom&quot;: 0, &quot;noWrap&quot;: false, &quot;opacity&quot;: 1, &quot;subdomains&quot;: &quot;abc&quot;, &quot;tms&quot;: false}\n",
       "            ).addTo(map_b02e88290cc760a7ffa3843bde2a1975);\n",
       "        \n",
       "&lt;/script&gt;\n",
       "&lt;/html&gt;\" style=\"position:absolute;width:100%;height:100%;left:0;top:0;border:none !important;\" allowfullscreen webkitallowfullscreen mozallowfullscreen></iframe></div></div>"
      ],
      "text/plain": [
       "<folium.folium.Map at 0x1693fda00>"
      ]
     },
     "execution_count": 144,
     "metadata": {},
     "output_type": "execute_result"
    }
   ],
   "source": [
    "# We'll import folium to map and folium.plugins to allow mapping side-by-side\n",
    "import folium\n",
    "import folium.plugins\n",
    "\n",
    "# Set initial zoom and center of map for CO2 Layer\n",
    "map_ = folium.Map(location=(-23.66, -46.43), zoom_start=13)\n",
    "\n",
    "# December 2001\n",
    "map_layer_2001 = TileLayer(\n",
    "    tiles=august_11_2022[\"tiles\"][0],\n",
    "    attr=\"GHG\",\n",
    "    opacity=1,\n",
    ")\n",
    "map_layer_2001.add_to(map_)\n",
    "\n",
    "# visualising the map\n",
    "map_\n",
    "\n"
   ]
  },
  {
   "attachments": {},
   "cell_type": "markdown",
   "metadata": {},
   "source": [
    "# Calculating the zonal statistics"
   ]
  },
  {
   "attachments": {},
   "cell_type": "markdown",
   "metadata": {},
   "source": [
    "## "
   ]
  },
  {
   "cell_type": "code",
   "execution_count": 159,
   "metadata": {},
   "outputs": [],
   "source": [
    "# Texas, Dallas, USA AOI\n",
    "texas_dallas_aoi = {\n",
    "    \"type\": \"Feature\",\n",
    "    \"properties\": {},\n",
    "    \"geometry\": {\n",
    "        \"coordinates\":[\n",
    "          [\n",
    "[\n",
    "          -46.450625050282454,\n",
    "          -23.700764982003268\n",
    "        ],\n",
    "        [\n",
    "          -46.41212654134425,\n",
    "          -23.700764982003268\n",
    "        ],\n",
    "        [\n",
    "          -46.41212654134425,\n",
    "          -23.630816986890196\n",
    "        ],\n",
    "        [\n",
    "          -46.450625050282454,\n",
    "          -23.630816986890196\n",
    "        ],\n",
    "        [\n",
    "          -46.450625050282454,\n",
    "          -23.700764982003268\n",
    "        ]\n",
    "        ]],\n",
    "        \"type\": \"Polygon\",\n",
    "    },\n",
    "}"
   ]
  },
  {
   "cell_type": "code",
   "execution_count": 160,
   "metadata": {},
   "outputs": [
    {
     "data": {
      "text/html": [
       "<div style=\"width:100%;\"><div style=\"position:relative;width:100%;height:0;padding-bottom:60%;\"><span style=\"color:#565656\">Make this Notebook Trusted to load map: File -> Trust Notebook</span><iframe srcdoc=\"&lt;!DOCTYPE html&gt;\n",
       "&lt;html&gt;\n",
       "&lt;head&gt;\n",
       "    \n",
       "    &lt;meta http-equiv=&quot;content-type&quot; content=&quot;text/html; charset=UTF-8&quot; /&gt;\n",
       "    \n",
       "        &lt;script&gt;\n",
       "            L_NO_TOUCH = false;\n",
       "            L_DISABLE_3D = false;\n",
       "        &lt;/script&gt;\n",
       "    \n",
       "    &lt;style&gt;html, body {width: 100%;height: 100%;margin: 0;padding: 0;}&lt;/style&gt;\n",
       "    &lt;style&gt;#map {position:absolute;top:0;bottom:0;right:0;left:0;}&lt;/style&gt;\n",
       "    &lt;script src=&quot;https://cdn.jsdelivr.net/npm/leaflet@1.9.3/dist/leaflet.js&quot;&gt;&lt;/script&gt;\n",
       "    &lt;script src=&quot;https://code.jquery.com/jquery-1.12.4.min.js&quot;&gt;&lt;/script&gt;\n",
       "    &lt;script src=&quot;https://cdn.jsdelivr.net/npm/bootstrap@5.2.2/dist/js/bootstrap.bundle.min.js&quot;&gt;&lt;/script&gt;\n",
       "    &lt;script src=&quot;https://cdnjs.cloudflare.com/ajax/libs/Leaflet.awesome-markers/2.0.2/leaflet.awesome-markers.js&quot;&gt;&lt;/script&gt;\n",
       "    &lt;link rel=&quot;stylesheet&quot; href=&quot;https://cdn.jsdelivr.net/npm/leaflet@1.9.3/dist/leaflet.css&quot;/&gt;\n",
       "    &lt;link rel=&quot;stylesheet&quot; href=&quot;https://cdn.jsdelivr.net/npm/bootstrap@5.2.2/dist/css/bootstrap.min.css&quot;/&gt;\n",
       "    &lt;link rel=&quot;stylesheet&quot; href=&quot;https://netdna.bootstrapcdn.com/bootstrap/3.0.0/css/bootstrap.min.css&quot;/&gt;\n",
       "    &lt;link rel=&quot;stylesheet&quot; href=&quot;https://cdn.jsdelivr.net/npm/@fortawesome/fontawesome-free@6.2.0/css/all.min.css&quot;/&gt;\n",
       "    &lt;link rel=&quot;stylesheet&quot; href=&quot;https://cdnjs.cloudflare.com/ajax/libs/Leaflet.awesome-markers/2.0.2/leaflet.awesome-markers.css&quot;/&gt;\n",
       "    &lt;link rel=&quot;stylesheet&quot; href=&quot;https://cdn.jsdelivr.net/gh/python-visualization/folium/folium/templates/leaflet.awesome.rotate.min.css&quot;/&gt;\n",
       "    \n",
       "            &lt;meta name=&quot;viewport&quot; content=&quot;width=device-width,\n",
       "                initial-scale=1.0, maximum-scale=1.0, user-scalable=no&quot; /&gt;\n",
       "            &lt;style&gt;\n",
       "                #map_55821094a3db87414e145b21734e0b72 {\n",
       "                    position: relative;\n",
       "                    width: 100.0%;\n",
       "                    height: 100.0%;\n",
       "                    left: 0.0%;\n",
       "                    top: 0.0%;\n",
       "                }\n",
       "                .leaflet-container { font-size: 1rem; }\n",
       "            &lt;/style&gt;\n",
       "        \n",
       "&lt;/head&gt;\n",
       "&lt;body&gt;\n",
       "    \n",
       "    \n",
       "            &lt;div class=&quot;folium-map&quot; id=&quot;map_55821094a3db87414e145b21734e0b72&quot; &gt;&lt;/div&gt;\n",
       "        \n",
       "&lt;/body&gt;\n",
       "&lt;script&gt;\n",
       "    \n",
       "    \n",
       "            var map_55821094a3db87414e145b21734e0b72 = L.map(\n",
       "                &quot;map_55821094a3db87414e145b21734e0b72&quot;,\n",
       "                {\n",
       "                    center: [-23.630816986890196, -46.450625050282454],\n",
       "                    crs: L.CRS.EPSG3857,\n",
       "                    zoom: 6,\n",
       "                    zoomControl: true,\n",
       "                    preferCanvas: false,\n",
       "                }\n",
       "            );\n",
       "\n",
       "            \n",
       "\n",
       "        \n",
       "    \n",
       "            var tile_layer_89e083e2aafab0c18715d555ca928e1f = L.tileLayer(\n",
       "                &quot;https://{s}.tile.openstreetmap.org/{z}/{x}/{y}.png&quot;,\n",
       "                {&quot;attribution&quot;: &quot;Data by \\u0026copy; \\u003ca target=\\&quot;_blank\\&quot; href=\\&quot;http://openstreetmap.org\\&quot;\\u003eOpenStreetMap\\u003c/a\\u003e, under \\u003ca target=\\&quot;_blank\\&quot; href=\\&quot;http://www.openstreetmap.org/copyright\\&quot;\\u003eODbL\\u003c/a\\u003e.&quot;, &quot;detectRetina&quot;: false, &quot;maxNativeZoom&quot;: 18, &quot;maxZoom&quot;: 18, &quot;minZoom&quot;: 0, &quot;noWrap&quot;: false, &quot;opacity&quot;: 1, &quot;subdomains&quot;: &quot;abc&quot;, &quot;tms&quot;: false}\n",
       "            ).addTo(map_55821094a3db87414e145b21734e0b72);\n",
       "        \n",
       "    \n",
       "\n",
       "        function geo_json_7fe4730bcee075e493131e695974d6c2_onEachFeature(feature, layer) {\n",
       "            layer.on({\n",
       "            });\n",
       "        };\n",
       "        var geo_json_7fe4730bcee075e493131e695974d6c2 = L.geoJson(null, {\n",
       "                onEachFeature: geo_json_7fe4730bcee075e493131e695974d6c2_onEachFeature,\n",
       "            \n",
       "        });\n",
       "\n",
       "        function geo_json_7fe4730bcee075e493131e695974d6c2_add (data) {\n",
       "            geo_json_7fe4730bcee075e493131e695974d6c2\n",
       "                .addData(data)\n",
       "                .addTo(map_55821094a3db87414e145b21734e0b72);\n",
       "        }\n",
       "            geo_json_7fe4730bcee075e493131e695974d6c2_add({&quot;geometry&quot;: {&quot;coordinates&quot;: [[[-46.450625050282454, -23.700764982003268], [-46.41212654134425, -23.700764982003268], [-46.41212654134425, -23.630816986890196], [-46.450625050282454, -23.630816986890196], [-46.450625050282454, -23.700764982003268]]], &quot;type&quot;: &quot;Polygon&quot;}, &quot;properties&quot;: {}, &quot;type&quot;: &quot;Feature&quot;});\n",
       "\n",
       "        \n",
       "&lt;/script&gt;\n",
       "&lt;/html&gt;\" style=\"position:absolute;width:100%;height:100%;left:0;top:0;border:none !important;\" allowfullscreen webkitallowfullscreen mozallowfullscreen></iframe></div></div>"
      ],
      "text/plain": [
       "<folium.folium.Map at 0x16a39ab20>"
      ]
     },
     "execution_count": 160,
     "metadata": {},
     "output_type": "execute_result"
    }
   ],
   "source": [
    "# We'll plug in the coordinates for a location\n",
    "# central to the study area and a reasonable zoom level\n",
    "\n",
    "import folium\n",
    "\n",
    "aoi_map = Map(\n",
    "    tiles=\"OpenStreetMap\",\n",
    "    location=[\n",
    "        -23.630816986890196,\n",
    "          -46.450625050282454\n",
    "    ],\n",
    "    zoom_start=6,\n",
    ")\n",
    "\n",
    "folium.GeoJson(texas_dallas_aoi, name=\"Texas, Dallas\").add_to(aoi_map)\n",
    "aoi_map"
   ]
  },
  {
   "cell_type": "code",
   "execution_count": 40,
   "metadata": {},
   "outputs": [
    {
     "name": "stdout",
     "output_type": "stream",
     "text": [
      "Found 504 items\n"
     ]
    }
   ],
   "source": [
    "# Check total number of items available\n",
    "items = requests.get(\n",
    "    f\"{STAC_API_URL}/collections/{collection_name}/items?limit=600\"\n",
    ").json()[\"features\"]\n",
    "print(f\"Found {len(items)} items\")"
   ]
  },
  {
   "cell_type": "code",
   "execution_count": 41,
   "metadata": {},
   "outputs": [
    {
     "data": {
      "text/plain": [
       "{'id': 'nasa-gsfc-ch4-wetlands-emissions-202112',\n",
       " 'bbox': [-180.0, -90.0, 180.0, 90.0],\n",
       " 'type': 'Feature',\n",
       " 'links': [{'rel': 'collection',\n",
       "   'type': 'application/json',\n",
       "   'href': 'https://gkynb1qvnl.execute-api.us-west-2.amazonaws.com/api/stac/collections/nasa-gsfc-ch4-wetlands-emissions'},\n",
       "  {'rel': 'parent',\n",
       "   'type': 'application/json',\n",
       "   'href': 'https://gkynb1qvnl.execute-api.us-west-2.amazonaws.com/api/stac/collections/nasa-gsfc-ch4-wetlands-emissions'},\n",
       "  {'rel': 'root',\n",
       "   'type': 'application/json',\n",
       "   'href': 'https://gkynb1qvnl.execute-api.us-west-2.amazonaws.com/api/stac/'},\n",
       "  {'rel': 'self',\n",
       "   'type': 'application/geo+json',\n",
       "   'href': 'https://gkynb1qvnl.execute-api.us-west-2.amazonaws.com/api/stac/collections/nasa-gsfc-ch4-wetlands-emissions/items/nasa-gsfc-ch4-wetlands-emissions-202112'}],\n",
       " 'assets': {'ch4-wetlands-emissions': {'href': 's3://ghgc-data-store-dev/NASA_GSFC_ch4_wetlands_monthly/NASA_GSFC_ch4_wl_ch4_wetlands_v22_x720_y360_t12_202112.tif',\n",
       "   'type': 'image/tiff; application=geotiff; profile=cloud-optimized',\n",
       "   'roles': ['data', 'layer'],\n",
       "   'title': 'CH4 Wetland Emissions',\n",
       "   'proj:bbox': [-180.0, -90.0, 180.0, 90.0],\n",
       "   'proj:epsg': 4326.0,\n",
       "   'proj:shape': [360.0, 720.0],\n",
       "   'description': 'Methane emissions from wetlands.',\n",
       "   'raster:bands': [{'scale': 1.0,\n",
       "     'nodata': -9999.0,\n",
       "     'offset': 0.0,\n",
       "     'sampling': 'area',\n",
       "     'data_type': 'float32',\n",
       "     'histogram': {'max': 0.006929981522262096,\n",
       "      'min': 0.0,\n",
       "      'count': 11.0,\n",
       "      'buckets': [258080.0,\n",
       "       575.0,\n",
       "       251.0,\n",
       "       124.0,\n",
       "       78.0,\n",
       "       41.0,\n",
       "       26.0,\n",
       "       16.0,\n",
       "       7.0,\n",
       "       2.0]},\n",
       "     'statistics': {'mean': 1.2271503607432047e-05,\n",
       "      'stddev': 0.0001378920103609683,\n",
       "      'maximum': 0.006929981522262096,\n",
       "      'minimum': 0.0,\n",
       "      'valid_percent': 100.0}}],\n",
       "   'proj:geometry': {'type': 'Polygon',\n",
       "    'coordinates': [[[-180.0, -90.0],\n",
       "      [180.0, -90.0],\n",
       "      [180.0, 90.0],\n",
       "      [-180.0, 90.0],\n",
       "      [-180.0, -90.0]]]},\n",
       "   'proj:projjson': {'id': {'code': 4326.0, 'authority': 'EPSG'},\n",
       "    'name': 'WGS 84',\n",
       "    'type': 'GeographicCRS',\n",
       "    'datum': {'name': 'World Geodetic System 1984',\n",
       "     'type': 'GeodeticReferenceFrame',\n",
       "     'ellipsoid': {'name': 'WGS 84',\n",
       "      'semi_major_axis': 6378137.0,\n",
       "      'inverse_flattening': 298.257223563}},\n",
       "    '$schema': 'https://proj.org/schemas/v0.4/projjson.schema.json',\n",
       "    'coordinate_system': {'axis': [{'name': 'Geodetic latitude',\n",
       "       'unit': 'degree',\n",
       "       'direction': 'north',\n",
       "       'abbreviation': 'Lat'},\n",
       "      {'name': 'Geodetic longitude',\n",
       "       'unit': 'degree',\n",
       "       'direction': 'east',\n",
       "       'abbreviation': 'Lon'}],\n",
       "     'subtype': 'ellipsoidal'}},\n",
       "   'proj:transform': [0.5, 0.0, -180.0, 0.0, -0.5, 90.0, 0.0, 0.0, 1.0]}},\n",
       " 'geometry': {'type': 'Polygon',\n",
       "  'coordinates': [[[-180, -90],\n",
       "    [180, -90],\n",
       "    [180, 90],\n",
       "    [-180, 90],\n",
       "    [-180, -90]]]},\n",
       " 'collection': 'nasa-gsfc-ch4-wetlands-emissions',\n",
       " 'properties': {'end_datetime': '2021-12-31T00:00:00+00:00',\n",
       "  'start_datetime': '2021-12-01T00:00:00+00:00'},\n",
       " 'stac_version': '1.0.0',\n",
       " 'stac_extensions': []}"
      ]
     },
     "execution_count": 41,
     "metadata": {},
     "output_type": "execute_result"
    }
   ],
   "source": [
    "# Explore one item to see what it contains\n",
    "items[0]"
   ]
  },
  {
   "cell_type": "code",
   "execution_count": 42,
   "metadata": {},
   "outputs": [],
   "source": [
    "# the bounding box should be passed to the geojson param as a geojson Feature or FeatureCollection\n",
    "def generate_stats(item, geojson):\n",
    "    result = requests.post(\n",
    "        f\"{RASTER_API_URL}/cog/statistics\",\n",
    "        params={\"url\": item[\"assets\"][\"ch4-wetlands-emissions\"][\"href\"]},\n",
    "        json=geojson,\n",
    "    ).json()\n",
    "    print(result)\n",
    "    return {\n",
    "        **result[\"properties\"],\n",
    "        \"start_datetime\": item[\"properties\"][\"start_datetime\"],\n",
    "    }"
   ]
  },
  {
   "cell_type": "code",
   "execution_count": 43,
   "metadata": {},
   "outputs": [
    {
     "name": "stdout",
     "output_type": "stream",
     "text": [
      "2021-12-01T00:00:00+00:00\n"
     ]
    }
   ],
   "source": [
    "for item in items:\n",
    "    print(item[\"properties\"][\"start_datetime\"])\n",
    "    break"
   ]
  },
  {
   "attachments": {},
   "cell_type": "markdown",
   "metadata": {},
   "source": [
    "With the function above we can generate the statistics for the AOI."
   ]
  },
  {
   "cell_type": "code",
   "execution_count": 44,
   "metadata": {},
   "outputs": [
    {
     "name": "stdout",
     "output_type": "stream",
     "text": [
      "{'detail': [{'loc': ['body', 'type'], 'msg': \"unexpected value; permitted: 'FeatureCollection'\", 'type': 'value_error.const', 'ctx': {'given': 'Feature', 'permitted': ['FeatureCollection']}}, {'loc': ['body', 'features'], 'msg': 'field required', 'type': 'value_error.missing'}, {'loc': ['body', 'geometry', 'coordinates'], 'msg': 'wrong tuple length 1, expected 2', 'type': 'value_error.tuple.length', 'ctx': {'actual_length': 1, 'expected_length': 2}}, {'loc': ['body', 'geometry', 'coordinates'], 'msg': 'wrong tuple length 1, expected 3', 'type': 'value_error.tuple.length', 'ctx': {'actual_length': 1, 'expected_length': 3}}, {'loc': ['body', 'geometry', 'type'], 'msg': \"unexpected value; permitted: 'Point'\", 'type': 'value_error.const', 'ctx': {'given': 'Polygon', 'permitted': ['Point']}}, {'loc': ['body', 'geometry', 'coordinates', 0], 'msg': 'wrong tuple length 4, expected 2', 'type': 'value_error.tuple.length', 'ctx': {'actual_length': 4, 'expected_length': 2}}, {'loc': ['body', 'geometry', 'coordinates', 0], 'msg': 'wrong tuple length 4, expected 3', 'type': 'value_error.tuple.length', 'ctx': {'actual_length': 4, 'expected_length': 3}}, {'loc': ['body', 'geometry', 'type'], 'msg': \"unexpected value; permitted: 'MultiPoint'\", 'type': 'value_error.const', 'ctx': {'given': 'Polygon', 'permitted': ['MultiPoint']}}, {'loc': ['body', 'geometry', 'coordinates'], 'msg': 'ensure this value has at least 2 items', 'type': 'value_error.list.min_items', 'ctx': {'limit_value': 2}}, {'loc': ['body', 'geometry', 'type'], 'msg': \"unexpected value; permitted: 'LineString'\", 'type': 'value_error.const', 'ctx': {'given': 'Polygon', 'permitted': ['LineString']}}, {'loc': ['body', 'geometry', 'type'], 'msg': \"unexpected value; permitted: 'MultiLineString'\", 'type': 'value_error.const', 'ctx': {'given': 'Polygon', 'permitted': ['MultiLineString']}}, {'loc': ['body', 'geometry', 'coordinates'], 'msg': 'All linear rings have the same start and end coordinates', 'type': 'value_error'}, {'loc': ['body', 'geometry', 'coordinates', 0, 0], 'msg': 'ensure this value has at least 4 items', 'type': 'value_error.list.min_items', 'ctx': {'limit_value': 4}}, {'loc': ['body', 'geometry', 'coordinates', 0, 1], 'msg': 'ensure this value has at least 4 items', 'type': 'value_error.list.min_items', 'ctx': {'limit_value': 4}}, {'loc': ['body', 'geometry', 'coordinates', 0, 2], 'msg': 'ensure this value has at least 4 items', 'type': 'value_error.list.min_items', 'ctx': {'limit_value': 4}}, {'loc': ['body', 'geometry', 'coordinates', 0, 3], 'msg': 'ensure this value has at least 4 items', 'type': 'value_error.list.min_items', 'ctx': {'limit_value': 4}}, {'loc': ['body', 'geometry', 'type'], 'msg': \"unexpected value; permitted: 'MultiPolygon'\", 'type': 'value_error.const', 'ctx': {'given': 'Polygon', 'permitted': ['MultiPolygon']}}, {'loc': ['body', 'geometry', 'type'], 'msg': \"unexpected value; permitted: 'GeometryCollection'\", 'type': 'value_error.const', 'ctx': {'given': 'Polygon', 'permitted': ['GeometryCollection']}}, {'loc': ['body', 'geometry', 'geometries'], 'msg': 'field required', 'type': 'value_error.missing'}]}\n"
     ]
    },
    {
     "ename": "KeyError",
     "evalue": "'properties'",
     "output_type": "error",
     "traceback": [
      "\u001b[0;31m---------------------------------------------------------------------------\u001b[0m",
      "\u001b[0;31mKeyError\u001b[0m                                  Traceback (most recent call last)",
      "File \u001b[0;32m<timed exec>:1\u001b[0m\n",
      "File \u001b[0;32m<timed exec>:1\u001b[0m, in \u001b[0;36m<listcomp>\u001b[0;34m(.0)\u001b[0m\n",
      "Cell \u001b[0;32mIn[42], line 10\u001b[0m, in \u001b[0;36mgenerate_stats\u001b[0;34m(item, geojson)\u001b[0m\n\u001b[1;32m      3\u001b[0m result \u001b[39m=\u001b[39m requests\u001b[39m.\u001b[39mpost(\n\u001b[1;32m      4\u001b[0m     \u001b[39mf\u001b[39m\u001b[39m\"\u001b[39m\u001b[39m{\u001b[39;00mRASTER_API_URL\u001b[39m}\u001b[39;00m\u001b[39m/cog/statistics\u001b[39m\u001b[39m\"\u001b[39m,\n\u001b[1;32m      5\u001b[0m     params\u001b[39m=\u001b[39m{\u001b[39m\"\u001b[39m\u001b[39murl\u001b[39m\u001b[39m\"\u001b[39m: item[\u001b[39m\"\u001b[39m\u001b[39massets\u001b[39m\u001b[39m\"\u001b[39m][\u001b[39m\"\u001b[39m\u001b[39mch4-wetlands-emissions\u001b[39m\u001b[39m\"\u001b[39m][\u001b[39m\"\u001b[39m\u001b[39mhref\u001b[39m\u001b[39m\"\u001b[39m]},\n\u001b[1;32m      6\u001b[0m     json\u001b[39m=\u001b[39mgeojson,\n\u001b[1;32m      7\u001b[0m )\u001b[39m.\u001b[39mjson()\n\u001b[1;32m      8\u001b[0m \u001b[39mprint\u001b[39m(result)\n\u001b[1;32m      9\u001b[0m \u001b[39mreturn\u001b[39;00m {\n\u001b[0;32m---> 10\u001b[0m     \u001b[39m*\u001b[39m\u001b[39m*\u001b[39mresult[\u001b[39m\"\u001b[39;49m\u001b[39mproperties\u001b[39;49m\u001b[39m\"\u001b[39;49m],\n\u001b[1;32m     11\u001b[0m     \u001b[39m\"\u001b[39m\u001b[39mstart_datetime\u001b[39m\u001b[39m\"\u001b[39m: item[\u001b[39m\"\u001b[39m\u001b[39mproperties\u001b[39m\u001b[39m\"\u001b[39m][\u001b[39m\"\u001b[39m\u001b[39mstart_datetime\u001b[39m\u001b[39m\"\u001b[39m],\n\u001b[1;32m     12\u001b[0m }\n",
      "\u001b[0;31mKeyError\u001b[0m: 'properties'"
     ]
    }
   ],
   "source": [
    "%%time\n",
    "stats = [generate_stats(item, texas_dallas_aoi) for item in items]"
   ]
  },
  {
   "cell_type": "code",
   "execution_count": null,
   "metadata": {},
   "outputs": [],
   "source": [
    "stats[0]"
   ]
  },
  {
   "cell_type": "code",
   "execution_count": null,
   "metadata": {},
   "outputs": [],
   "source": [
    "import pandas as pd\n",
    "\n",
    "\n",
    "def clean_stats(stats_json) -> pd.DataFrame:\n",
    "    df = pd.json_normalize(stats_json)\n",
    "    df.columns = [col.replace(\"statistics.b1.\", \"\") for col in df.columns]\n",
    "    df[\"date\"] = pd.to_datetime(df[\"start_datetime\"])\n",
    "    return df\n",
    "\n",
    "\n",
    "df = clean_stats(stats)\n",
    "df.head(5)"
   ]
  },
  {
   "attachments": {},
   "cell_type": "markdown",
   "metadata": {},
   "source": [
    "## Visualizing the Data as a Time Series\n",
    "We can now explore the ODIAC fossil fuel emission time series available (January 2000 -December 2021) for the Texas, Dallas area of USA. We can plot the data set using the code below:"
   ]
  },
  {
   "cell_type": "code",
   "execution_count": null,
   "metadata": {},
   "outputs": [],
   "source": [
    "import matplotlib.pyplot as plt\n",
    "\n",
    "fig = plt.figure(figsize=(20, 10))\n",
    "\n",
    "\n",
    "plt.plot(\n",
    "    df[\"date\"],\n",
    "    df[\"max\"],\n",
    "    color=\"red\",\n",
    "    linestyle=\"-\",\n",
    "    linewidth=0.5,\n",
    "    label=\"Max monthly CH4 emissions\",\n",
    ")\n",
    "\n",
    "plt.legend()\n",
    "plt.xlabel(\"Years\")\n",
    "plt.ylabel(\"CH4 emissions g/m2\")\n",
    "plt.title(\"CH4 emission Values for Texas, Dallas (2000-2021)\")"
   ]
  },
  {
   "cell_type": "code",
   "execution_count": null,
   "metadata": {},
   "outputs": [],
   "source": [
    "print(items[2][\"properties\"][\"start_datetime\"])"
   ]
  },
  {
   "cell_type": "code",
   "execution_count": null,
   "metadata": {},
   "outputs": [],
   "source": [
    "october_tile = requests.get(\n",
    "    f\"{RASTER_API_URL}/stac/tilejson.json?collection={items[2]['collection']}&item={items[2]['id']}\"\n",
    "    \"&assets=ch4-wetlands-emissions\"\n",
    "    f\"&color_formula=gamma+r+1.05&colormap_name={color_map}\"\n",
    "    f\"&rescale={rescale_values['min']},{rescale_values['max']}\",\n",
    ").json()\n",
    "october_tile"
   ]
  },
  {
   "cell_type": "code",
   "execution_count": null,
   "metadata": {},
   "outputs": [],
   "source": [
    "# Use bbox initial zoom and map\n",
    "# Set up a map located w/in event bounds\n",
    "import folium\n",
    "\n",
    "aoi_map_bbox = Map(\n",
    "    tiles=\"OpenStreetMap\",\n",
    "    location=[\n",
    "        -22.421460,\n",
    "        14.268801,\n",
    "    ],\n",
    "    zoom_start=8,\n",
    ")\n",
    "\n",
    "map_layer = TileLayer(\n",
    "    tiles=october_tile[\"tiles\"][0],\n",
    "    attr=\"GHG\", opacity = 0.5\n",
    ")\n",
    "\n",
    "map_layer.add_to(aoi_map_bbox)\n",
    "\n",
    "aoi_map_bbox"
   ]
  },
  {
   "attachments": {},
   "cell_type": "markdown",
   "metadata": {},
   "source": [
    "## Summary\n",
    "\n",
    "In this case study we have successfully visualized the CH4 emissions from wetland."
   ]
  }
 ],
 "metadata": {
  "kernelspec": {
   "display_name": "Python 3 (ipykernel)",
   "language": "python",
   "name": "python3"
  },
  "language_info": {
   "codemirror_mode": {
    "name": "ipython",
    "version": 3
   },
   "file_extension": ".py",
   "mimetype": "text/x-python",
   "name": "python",
   "nbconvert_exporter": "python",
   "pygments_lexer": "ipython3",
   "version": "3.9.16"
  }
 },
 "nbformat": 4,
 "nbformat_minor": 4
}
