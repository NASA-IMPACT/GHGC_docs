{
 "cells": [
  {
   "cell_type": "raw",
   "metadata": {},
   "source": [
    "---\n",
    "title: TM5-4DVar Isotopic CH₄ Inverse Fluxes\n",
    "description: Global, monthly 1 degree resolution methane emission estimates from microbial, fossil and pyrogenic sources derived using inverse modeling, version 1.\n",
    "author: Siddharth Chaudhary, Vishal Gaur\n",
    "date: 22 August 2023\n",
    "execute:\n",
    "   freeze: true\n",
    "---"
   ]
  },
  {
   "attachments": {},
   "cell_type": "markdown",
   "metadata": {},
   "source": [
    "## Approach\n",
    "\n",
    "1. Identify available dates and temporal frequency of observations for the given collection using the GHGC API `/stac` endpoint. The collection processed in this notebook is the TM5-4DVar Isotopic CH₄ Inverse Fluxes Data product.\n",
    "2. Pass the STAC item into the raster API `/stac/tilejson.json `endpoint.\n",
    "3. Using `folium.plugins.DualMap`, we will visualize two tiles (side-by-side), allowing us to compare time points. \n",
    "4. After the visualization, we will perform zonal statistics for a given polygon.\n",
    "\n",
    "   "
   ]
  },
  {
   "attachments": {},
   "cell_type": "markdown",
   "metadata": {},
   "source": [
    "## About the Data\n",
    "\n",
    "Surface methane (CH₄) emissions are derived from atmospheric measurements of methane and its ¹³C carbon isotope content. Different sources of methane contain different ratios of the two stable isotopologues, ¹²CH₄ and ¹³CH₄. This makes normally indistinguishable collocated sources of methane, say from agriculture and oil and gas exploration, distinguishable. The National Oceanic and Atmospheric Administration (NOAA) collects whole air samples from its global cooperative network of flasks (https://gml.noaa.gov/ccgg/about.html), which are then analyzed for methane and other trace gasses. A subset of those flasks are also analyzed for ¹³C of methane in collaboration with the Institute of Arctic and Alpine Research at the University of Colorado Boulder. Scientists at the National Aeronautics and Space Administration (NASA) and NOAA used those measurements of methane and ¹³C of methane in conjunction with a model of atmospheric circulation to estimate emissions of methane separated by three source types, microbial, fossil and pyrogenic."
   ]
  },
  {
   "cell_type": "markdown",
   "metadata": {},
   "source": [
    "## Installing the required libraries\n",
    "Please run the cell below to install the libraries required to run this notebook."
   ]
  },
  {
   "cell_type": "raw",
   "metadata": {},
   "source": [
    "%pip install requests\n",
    "%pip install folium\n",
    "%pip install rasterstats\n",
    "%pip install pystac_client"
   ]
  },
  {
   "attachments": {},
   "cell_type": "markdown",
   "metadata": {},
   "source": [
    "## Querying the STAC API"
   ]
  },
  {
   "cell_type": "code",
   "execution_count": 1,
   "metadata": {},
   "outputs": [],
   "source": [
    "import requests\n",
    "from folium import Map, TileLayer\n",
    "from pystac_client import Client"
   ]
  },
  {
   "cell_type": "code",
   "execution_count": 2,
   "metadata": {},
   "outputs": [],
   "source": [
    "# Provide STAC and RASTER API endpoints\n",
    "STAC_API_URL = \"http://ghg.center/api/stac\"\n",
    "RASTER_API_URL = \"https://ghg.center/api/raster\"\n",
    "\n",
    "# Please use the collection name similar to the one used in STAC collection.\n",
    "# Name of the collection for TM5 CH₄ inverse flux dataset. \n",
    "collection_name = \"tm54dvar-ch4flux-monthgrid-v1\""
   ]
  },
  {
   "cell_type": "code",
   "execution_count": 3,
   "metadata": {},
   "outputs": [
    {
     "data": {
      "text/plain": [
       "{'id': 'tm54dvar-ch4flux-monthgrid-v1',\n",
       " 'type': 'Collection',\n",
       " 'links': [{'rel': 'items',\n",
       "   'type': 'application/geo+json',\n",
       "   'href': 'https://e6v7j4ejp6.execute-api.us-west-2.amazonaws.com/api/stac/collections/tm54dvar-ch4flux-monthgrid-v1/items'},\n",
       "  {'rel': 'parent',\n",
       "   'type': 'application/json',\n",
       "   'href': 'https://e6v7j4ejp6.execute-api.us-west-2.amazonaws.com/api/stac/'},\n",
       "  {'rel': 'root',\n",
       "   'type': 'application/json',\n",
       "   'href': 'https://e6v7j4ejp6.execute-api.us-west-2.amazonaws.com/api/stac/'},\n",
       "  {'rel': 'self',\n",
       "   'type': 'application/json',\n",
       "   'href': 'https://e6v7j4ejp6.execute-api.us-west-2.amazonaws.com/api/stac/collections/tm54dvar-ch4flux-monthgrid-v1'}],\n",
       " 'title': 'TM5-4DVar Isotopic CH4 Inverse Fluxes',\n",
       " 'assets': None,\n",
       " 'extent': {'spatial': {'bbox': [[-180, -90, 180, 90]]},\n",
       "  'temporal': {'interval': [['1999-01-01T00:00:00+00:00',\n",
       "     '2016-12-31T00:00:00+00:00']]}},\n",
       " 'license': 'CC-BY-4.0',\n",
       " 'keywords': None,\n",
       " 'providers': None,\n",
       " 'summaries': {'datetime': ['1999-01-01T00:00:00Z', '2016-12-31T00:00:00Z']},\n",
       " 'description': 'Global, monthly 1 degree resolution methane emission estimates from microbial, fossil and pyrogenic sources derived using inverse modeling, version 1.',\n",
       " 'item_assets': {'total': {'type': 'image/tiff; application=geotiff; profile=cloud-optimized',\n",
       "   'roles': ['data', 'layer'],\n",
       "   'title': 'Total CH4 Emission',\n",
       "   'description': 'Total methane emission from microbial, fossil and pyrogenic sources'},\n",
       "  'fossil': {'type': 'image/tiff; application=geotiff; profile=cloud-optimized',\n",
       "   'roles': ['data', 'layer'],\n",
       "   'title': 'Fossil CH4 Emission',\n",
       "   'description': 'Emission of methane from all fossil sources, such as oil and gas activities and coal mining.'},\n",
       "  'microbial': {'type': 'image/tiff; application=geotiff; profile=cloud-optimized',\n",
       "   'roles': ['data', 'layer'],\n",
       "   'title': 'Microbial CH4 Emission',\n",
       "   'description': 'Emission of methane from all microbial sources, such as wetlands, agriculture and termites.'},\n",
       "  'pyrogenic': {'type': 'image/tiff; application=geotiff; profile=cloud-optimized',\n",
       "   'roles': ['data', 'layer'],\n",
       "   'title': 'Pyrogenic CH4 Emission',\n",
       "   'description': 'Emission of methane from all sources of biomass burning, such as wildfires and crop burning.'}},\n",
       " 'stac_version': '1.0.0',\n",
       " 'stac_extensions': None,\n",
       " 'dashboard:is_periodic': True,\n",
       " 'dashboard:time_density': 'month'}"
      ]
     },
     "execution_count": 3,
     "metadata": {},
     "output_type": "execute_result"
    }
   ],
   "source": [
    "# Fetching the collection from STAC collections using appropriate endpoint.\n",
    "collection = requests.get(f\"{STAC_API_URL}/collections/{collection_name}\").json()\n",
    "collection"
   ]
  },
  {
   "attachments": {},
   "cell_type": "markdown",
   "metadata": {},
   "source": [
    "Examining the contents of our `collection` under the `temporal` variable, we see that the data is available from January 1999 to December 2016. By looking at the `dashboard:time density`, we observe that the data is periodic with monthly time density."
   ]
  },
  {
   "cell_type": "code",
   "execution_count": 4,
   "metadata": {},
   "outputs": [],
   "source": [
    "def get_item_count(collection_id):\n",
    "    count = 0\n",
    "    items_url = f\"{STAC_API_URL}/collections/{collection_id}/items\"\n",
    "\n",
    "    while True:\n",
    "        response = requests.get(items_url)\n",
    "\n",
    "        if not response.ok:\n",
    "            print(\"error getting items\")\n",
    "            exit()\n",
    "\n",
    "        stac = response.json()\n",
    "        count += int(stac[\"context\"].get(\"returned\", 0))\n",
    "        next = [link for link in stac[\"links\"] if link[\"rel\"] == \"next\"]\n",
    "\n",
    "        if not next:\n",
    "            break\n",
    "        items_url = next[0][\"href\"]\n",
    "\n",
    "    return count"
   ]
  },
  {
   "cell_type": "code",
   "execution_count": 9,
   "metadata": {},
   "outputs": [
    {
     "name": "stdout",
     "output_type": "stream",
     "text": [
      "Found 216 items\n"
     ]
    }
   ],
   "source": [
    "# Check total number of items available\n",
    "number_of_items = get_item_count(collection_name)\n",
    "items = requests.get(f\"{STAC_API_URL}/collections/{collection_name}/items?limit={number_of_items}\").json()[\"features\"]\n",
    "print(f\"Found {len(items)} items\")"
   ]
  },
  {
   "cell_type": "code",
   "execution_count": 10,
   "metadata": {},
   "outputs": [
    {
     "data": {
      "text/plain": [
       "{'id': 'tm54dvar-ch4flux-monthgrid-v1-201612',\n",
       " 'bbox': [-180.0, -90.0, 180.0, 90.0],\n",
       " 'type': 'Feature',\n",
       " 'links': [{'rel': 'collection',\n",
       "   'type': 'application/json',\n",
       "   'href': 'https://e6v7j4ejp6.execute-api.us-west-2.amazonaws.com/api/stac/collections/tm54dvar-ch4flux-monthgrid-v1'},\n",
       "  {'rel': 'parent',\n",
       "   'type': 'application/json',\n",
       "   'href': 'https://e6v7j4ejp6.execute-api.us-west-2.amazonaws.com/api/stac/collections/tm54dvar-ch4flux-monthgrid-v1'},\n",
       "  {'rel': 'root',\n",
       "   'type': 'application/json',\n",
       "   'href': 'https://e6v7j4ejp6.execute-api.us-west-2.amazonaws.com/api/stac/'},\n",
       "  {'rel': 'self',\n",
       "   'type': 'application/geo+json',\n",
       "   'href': 'https://e6v7j4ejp6.execute-api.us-west-2.amazonaws.com/api/stac/collections/tm54dvar-ch4flux-monthgrid-v1/items/tm54dvar-ch4flux-monthgrid-v1-201612'}],\n",
       " 'assets': {'total': {'href': 's3://ghgc-data-store/tm54dvar-ch4flux-monthgrid-v1/methane_emis_total_201612.tif',\n",
       "   'type': 'image/tiff; application=geotiff; profile=cloud-optimized',\n",
       "   'roles': ['data', 'layer'],\n",
       "   'title': 'Total CH4 Emission',\n",
       "   'proj:bbox': [-180.0, -90.0, 180.0, 90.0],\n",
       "   'proj:epsg': 4326.0,\n",
       "   'proj:shape': [180.0, 360.0],\n",
       "   'description': 'Total methane emission from microbial, fossil and pyrogenic sources',\n",
       "   'raster:bands': [{'scale': 1.0,\n",
       "     'offset': 0.0,\n",
       "     'sampling': 'area',\n",
       "     'data_type': 'float64',\n",
       "     'histogram': {'max': 207.09559432166358,\n",
       "      'min': 0.0,\n",
       "      'count': 11.0,\n",
       "      'buckets': [64446.0, 253.0, 61.0, 16.0, 14.0, 4.0, 3.0, 0.0, 2.0, 1.0]},\n",
       "     'statistics': {'mean': 0.7699816366032659,\n",
       "      'stddev': 3.8996905358416045,\n",
       "      'maximum': 207.09559432166358,\n",
       "      'minimum': 0.0,\n",
       "      'valid_percent': 0.00154320987654321}}],\n",
       "   'proj:geometry': {'type': 'Polygon',\n",
       "    'coordinates': [[[-180.0, -90.0],\n",
       "      [180.0, -90.0],\n",
       "      [180.0, 90.0],\n",
       "      [-180.0, 90.0],\n",
       "      [-180.0, -90.0]]]},\n",
       "   'proj:projjson': {'id': {'code': 4326.0, 'authority': 'EPSG'},\n",
       "    'name': 'WGS 84',\n",
       "    'type': 'GeographicCRS',\n",
       "    'datum': {'name': 'World Geodetic System 1984',\n",
       "     'type': 'GeodeticReferenceFrame',\n",
       "     'ellipsoid': {'name': 'WGS 84',\n",
       "      'semi_major_axis': 6378137.0,\n",
       "      'inverse_flattening': 298.257223563}},\n",
       "    '$schema': 'https://proj.org/schemas/v0.4/projjson.schema.json',\n",
       "    'coordinate_system': {'axis': [{'name': 'Geodetic latitude',\n",
       "       'unit': 'degree',\n",
       "       'direction': 'north',\n",
       "       'abbreviation': 'Lat'},\n",
       "      {'name': 'Geodetic longitude',\n",
       "       'unit': 'degree',\n",
       "       'direction': 'east',\n",
       "       'abbreviation': 'Lon'}],\n",
       "     'subtype': 'ellipsoidal'}},\n",
       "   'proj:transform': [1.0, 0.0, -180.0, 0.0, -1.0, 90.0, 0.0, 0.0, 1.0]},\n",
       "  'fossil': {'href': 's3://ghgc-data-store/tm54dvar-ch4flux-monthgrid-v1/methane_emis_fossil_201612.tif',\n",
       "   'type': 'image/tiff; application=geotiff; profile=cloud-optimized',\n",
       "   'roles': ['data', 'layer'],\n",
       "   'title': 'Fossil CH4 Emission',\n",
       "   'proj:bbox': [-180.0, -90.0, 180.0, 90.0],\n",
       "   'proj:epsg': 4326.0,\n",
       "   'proj:shape': [180.0, 360.0],\n",
       "   'description': 'Emission of methane from all fossil sources, such as oil and gas activities and coal mining.',\n",
       "   'raster:bands': [{'scale': 1.0,\n",
       "     'offset': 0.0,\n",
       "     'sampling': 'area',\n",
       "     'data_type': 'float64',\n",
       "     'histogram': {'max': 202.8189294183266,\n",
       "      'min': 0.0,\n",
       "      'count': 11.0,\n",
       "      'buckets': [64633.0, 107.0, 35.0, 11.0, 8.0, 3.0, 1.0, 1.0, 0.0, 1.0]},\n",
       "     'statistics': {'mean': 0.27127687553584495,\n",
       "      'stddev': 2.731411670166909,\n",
       "      'maximum': 202.8189294183266,\n",
       "      'minimum': 0.0,\n",
       "      'valid_percent': 0.00154320987654321}}],\n",
       "   'proj:geometry': {'type': 'Polygon',\n",
       "    'coordinates': [[[-180.0, -90.0],\n",
       "      [180.0, -90.0],\n",
       "      [180.0, 90.0],\n",
       "      [-180.0, 90.0],\n",
       "      [-180.0, -90.0]]]},\n",
       "   'proj:projjson': {'id': {'code': 4326.0, 'authority': 'EPSG'},\n",
       "    'name': 'WGS 84',\n",
       "    'type': 'GeographicCRS',\n",
       "    'datum': {'name': 'World Geodetic System 1984',\n",
       "     'type': 'GeodeticReferenceFrame',\n",
       "     'ellipsoid': {'name': 'WGS 84',\n",
       "      'semi_major_axis': 6378137.0,\n",
       "      'inverse_flattening': 298.257223563}},\n",
       "    '$schema': 'https://proj.org/schemas/v0.4/projjson.schema.json',\n",
       "    'coordinate_system': {'axis': [{'name': 'Geodetic latitude',\n",
       "       'unit': 'degree',\n",
       "       'direction': 'north',\n",
       "       'abbreviation': 'Lat'},\n",
       "      {'name': 'Geodetic longitude',\n",
       "       'unit': 'degree',\n",
       "       'direction': 'east',\n",
       "       'abbreviation': 'Lon'}],\n",
       "     'subtype': 'ellipsoidal'}},\n",
       "   'proj:transform': [1.0, 0.0, -180.0, 0.0, -1.0, 90.0, 0.0, 0.0, 1.0]},\n",
       "  'microbial': {'href': 's3://ghgc-data-store/tm54dvar-ch4flux-monthgrid-v1/methane_emis_microbial_201612.tif',\n",
       "   'type': 'image/tiff; application=geotiff; profile=cloud-optimized',\n",
       "   'roles': ['data', 'layer'],\n",
       "   'title': 'Microbial CH4 Emission',\n",
       "   'proj:bbox': [-180.0, -90.0, 180.0, 90.0],\n",
       "   'proj:epsg': 4326.0,\n",
       "   'proj:shape': [180.0, 360.0],\n",
       "   'description': 'Emission of methane from all microbial sources, such as wetlands, agriculture and termites.',\n",
       "   'raster:bands': [{'scale': 1.0,\n",
       "     'offset': 0.0,\n",
       "     'sampling': 'area',\n",
       "     'data_type': 'float64',\n",
       "     'histogram': {'max': 161.4604621003495,\n",
       "      'min': 0.0,\n",
       "      'count': 11.0,\n",
       "      'buckets': [64610.0, 155.0, 22.0, 5.0, 2.0, 2.0, 2.0, 1.0, 0.0, 1.0]},\n",
       "     'statistics': {'mean': 0.46611433673211145,\n",
       "      'stddev': 2.2910210071489456,\n",
       "      'maximum': 161.4604621003495,\n",
       "      'minimum': 0.0,\n",
       "      'valid_percent': 0.00154320987654321}}],\n",
       "   'proj:geometry': {'type': 'Polygon',\n",
       "    'coordinates': [[[-180.0, -90.0],\n",
       "      [180.0, -90.0],\n",
       "      [180.0, 90.0],\n",
       "      [-180.0, 90.0],\n",
       "      [-180.0, -90.0]]]},\n",
       "   'proj:projjson': {'id': {'code': 4326.0, 'authority': 'EPSG'},\n",
       "    'name': 'WGS 84',\n",
       "    'type': 'GeographicCRS',\n",
       "    'datum': {'name': 'World Geodetic System 1984',\n",
       "     'type': 'GeodeticReferenceFrame',\n",
       "     'ellipsoid': {'name': 'WGS 84',\n",
       "      'semi_major_axis': 6378137.0,\n",
       "      'inverse_flattening': 298.257223563}},\n",
       "    '$schema': 'https://proj.org/schemas/v0.4/projjson.schema.json',\n",
       "    'coordinate_system': {'axis': [{'name': 'Geodetic latitude',\n",
       "       'unit': 'degree',\n",
       "       'direction': 'north',\n",
       "       'abbreviation': 'Lat'},\n",
       "      {'name': 'Geodetic longitude',\n",
       "       'unit': 'degree',\n",
       "       'direction': 'east',\n",
       "       'abbreviation': 'Lon'}],\n",
       "     'subtype': 'ellipsoidal'}},\n",
       "   'proj:transform': [1.0, 0.0, -180.0, 0.0, -1.0, 90.0, 0.0, 0.0, 1.0]},\n",
       "  'pyrogenic': {'href': 's3://ghgc-data-store/tm54dvar-ch4flux-monthgrid-v1/methane_emis_pyrogenic_201612.tif',\n",
       "   'type': 'image/tiff; application=geotiff; profile=cloud-optimized',\n",
       "   'roles': ['data', 'layer'],\n",
       "   'title': 'Pyrogenic CH4 Emission',\n",
       "   'proj:bbox': [-180.0, -90.0, 180.0, 90.0],\n",
       "   'proj:epsg': 4326.0,\n",
       "   'proj:shape': [180.0, 360.0],\n",
       "   'description': 'Emission of methane from all sources of biomass burning, such as wildfires and crop burning.',\n",
       "   'raster:bands': [{'scale': 1.0,\n",
       "     'offset': 0.0,\n",
       "     'sampling': 'area',\n",
       "     'data_type': 'float64',\n",
       "     'histogram': {'max': 13.432528617097262,\n",
       "      'min': 0.0,\n",
       "      'count': 11.0,\n",
       "      'buckets': [64440.0, 221.0, 78.0, 24.0, 18.0, 8.0, 3.0, 1.0, 1.0, 6.0]},\n",
       "     'statistics': {'mean': 0.032590424335309266,\n",
       "      'stddev': 0.28279054181617735,\n",
       "      'maximum': 13.432528617097262,\n",
       "      'minimum': 0.0,\n",
       "      'valid_percent': 0.00154320987654321}}],\n",
       "   'proj:geometry': {'type': 'Polygon',\n",
       "    'coordinates': [[[-180.0, -90.0],\n",
       "      [180.0, -90.0],\n",
       "      [180.0, 90.0],\n",
       "      [-180.0, 90.0],\n",
       "      [-180.0, -90.0]]]},\n",
       "   'proj:projjson': {'id': {'code': 4326.0, 'authority': 'EPSG'},\n",
       "    'name': 'WGS 84',\n",
       "    'type': 'GeographicCRS',\n",
       "    'datum': {'name': 'World Geodetic System 1984',\n",
       "     'type': 'GeodeticReferenceFrame',\n",
       "     'ellipsoid': {'name': 'WGS 84',\n",
       "      'semi_major_axis': 6378137.0,\n",
       "      'inverse_flattening': 298.257223563}},\n",
       "    '$schema': 'https://proj.org/schemas/v0.4/projjson.schema.json',\n",
       "    'coordinate_system': {'axis': [{'name': 'Geodetic latitude',\n",
       "       'unit': 'degree',\n",
       "       'direction': 'north',\n",
       "       'abbreviation': 'Lat'},\n",
       "      {'name': 'Geodetic longitude',\n",
       "       'unit': 'degree',\n",
       "       'direction': 'east',\n",
       "       'abbreviation': 'Lon'}],\n",
       "     'subtype': 'ellipsoidal'}},\n",
       "   'proj:transform': [1.0, 0.0, -180.0, 0.0, -1.0, 90.0, 0.0, 0.0, 1.0]}},\n",
       " 'geometry': {'type': 'Polygon',\n",
       "  'coordinates': [[[-180, -90],\n",
       "    [180, -90],\n",
       "    [180, 90],\n",
       "    [-180, 90],\n",
       "    [-180, -90]]]},\n",
       " 'collection': 'tm54dvar-ch4flux-monthgrid-v1',\n",
       " 'properties': {'end_datetime': '2016-12-31T00:00:00+00:00',\n",
       "  'start_datetime': '2016-12-01T00:00:00+00:00'},\n",
       " 'stac_version': '1.0.0',\n",
       " 'stac_extensions': []}"
      ]
     },
     "execution_count": 10,
     "metadata": {},
     "output_type": "execute_result"
    }
   ],
   "source": [
    "# Examining the first item in the collection\n",
    "items[0]"
   ]
  },
  {
   "attachments": {},
   "cell_type": "markdown",
   "metadata": {},
   "source": [
    "Below, we are entering the minimum and maximum values to provide our upper and lower bounds in `rescale_values`."
   ]
  },
  {
   "attachments": {},
   "cell_type": "markdown",
   "metadata": {},
   "source": [
    "## Exploring Changes in CH₄ flux Levels Using the Raster API\n",
    "\n",
    "In this notebook, we will explore the global changes of CH₄ flux over time in urban regions. We will visualize the outputs on a map using `folium.`"
   ]
  },
  {
   "cell_type": "code",
   "execution_count": 12,
   "metadata": {},
   "outputs": [],
   "source": [
    "# to access the year value from each item more easily, this will let us query more explicity by year and month (e.g., 2020-02)\n",
    "items = {item[\"properties\"][\"start_datetime\"][:10]: item for item in items} \n",
    "asset_name = \"fossil\" #fossil fuel"
   ]
  },
  {
   "cell_type": "code",
   "execution_count": 15,
   "metadata": {},
   "outputs": [],
   "source": [
    "# Fetching the min and max values for a specific item\n",
    "rescale_values = {\"max\":items[list(items.keys())[0]][\"assets\"][asset_name][\"raster:bands\"][0][\"histogram\"][\"max\"], \"min\":items[list(items.keys())[0]][\"assets\"][asset_name][\"raster:bands\"][0][\"histogram\"][\"min\"]}"
   ]
  },
  {
   "attachments": {},
   "cell_type": "markdown",
   "metadata": {},
   "source": [
    "Now, we will pass the item id, collection name, and `rescaling_factor` to the `Raster API` endpoint. We will do this twice, once for 2020 and again for 2019, so that we can visualize each event independently."
   ]
  },
  {
   "cell_type": "code",
   "execution_count": 17,
   "metadata": {},
   "outputs": [
    {
     "data": {
      "text/plain": [
       "{'tilejson': '2.2.0',\n",
       " 'version': '1.0.0',\n",
       " 'scheme': 'xyz',\n",
       " 'tiles': ['https://1w7hfngnp7.execute-api.us-west-2.amazonaws.com/api/raster/stac/tiles/WebMercatorQuad/{z}/{x}/{y}@1x?collection=tm54dvar-ch4flux-monthgrid-v1&item=tm54dvar-ch4flux-monthgrid-v1-201612&assets=fossil&color_formula=gamma+r+1.05&colormap_name=purd&rescale=0.0%2C202.8189294183266'],\n",
       " 'minzoom': 0,\n",
       " 'maxzoom': 24,\n",
       " 'bounds': [-180.0, -90.0, 180.0, 90.0],\n",
       " 'center': [0.0, 0.0, 0]}"
      ]
     },
     "execution_count": 17,
     "metadata": {},
     "output_type": "execute_result"
    }
   ],
   "source": [
    "color_map = \"purd\"\n",
    "co2_flux_1 = requests.get(\n",
    "    f\"{RASTER_API_URL}/stac/tilejson.json?collection={items['2016-12-01']['collection']}&item={items['2016-12-01']['id']}\"\n",
    "    f\"&assets={asset_name}\"\n",
    "    f\"&color_formula=gamma+r+1.05&colormap_name={color_map}\"\n",
    "    f\"&rescale={rescale_values['min']},{rescale_values['max']}\", \n",
    ").json()\n",
    "co2_flux_1"
   ]
  },
  {
   "cell_type": "code",
   "execution_count": 19,
   "metadata": {},
   "outputs": [
    {
     "data": {
      "text/plain": [
       "{'tilejson': '2.2.0',\n",
       " 'version': '1.0.0',\n",
       " 'scheme': 'xyz',\n",
       " 'tiles': ['https://1w7hfngnp7.execute-api.us-west-2.amazonaws.com/api/raster/stac/tiles/WebMercatorQuad/{z}/{x}/{y}@1x?collection=tm54dvar-ch4flux-monthgrid-v1&item=tm54dvar-ch4flux-monthgrid-v1-199912&assets=fossil&color_formula=gamma+r+1.05&colormap_name=purd&rescale=0.0%2C202.8189294183266'],\n",
       " 'minzoom': 0,\n",
       " 'maxzoom': 24,\n",
       " 'bounds': [-180.0, -90.0, 180.0, 90.0],\n",
       " 'center': [0.0, 0.0, 0]}"
      ]
     },
     "execution_count": 19,
     "metadata": {},
     "output_type": "execute_result"
    }
   ],
   "source": [
    "co2_flux_2 = requests.get(\n",
    "    f\"{RASTER_API_URL}/stac/tilejson.json?collection={items['1999-12-01']['collection']}&item={items['1999-12-01']['id']}\"\n",
    "    f\"&assets={asset_name}\"\n",
    "    f\"&color_formula=gamma+r+1.05&colormap_name={color_map}\"\n",
    "    f\"&rescale={rescale_values['min']},{rescale_values['max']}\", \n",
    ").json()\n",
    "co2_flux_2"
   ]
  },
  {
   "attachments": {},
   "cell_type": "markdown",
   "metadata": {},
   "source": [
    "## Visualizing CH₄ flux Emissions from Fossil Fuel"
   ]
  },
  {
   "cell_type": "code",
   "execution_count": 24,
   "metadata": {},
   "outputs": [
    {
     "data": {
      "text/html": [
       "<div style=\"width:100%;\"><div style=\"position:relative;width:100%;height:0;padding-bottom:60%;\"><span style=\"color:#565656\">Make this Notebook Trusted to load map: File -> Trust Notebook</span><iframe srcdoc=\"&lt;!DOCTYPE html&gt;\n",
       "&lt;html&gt;\n",
       "&lt;head&gt;\n",
       "    \n",
       "    &lt;meta http-equiv=&quot;content-type&quot; content=&quot;text/html; charset=UTF-8&quot; /&gt;\n",
       "    \n",
       "        &lt;script&gt;\n",
       "            L_NO_TOUCH = false;\n",
       "            L_DISABLE_3D = false;\n",
       "        &lt;/script&gt;\n",
       "    \n",
       "    &lt;style&gt;html, body {width: 100%;height: 100%;margin: 0;padding: 0;}&lt;/style&gt;\n",
       "    &lt;style&gt;#map {position:absolute;top:0;bottom:0;right:0;left:0;}&lt;/style&gt;\n",
       "    &lt;script src=&quot;https://cdn.jsdelivr.net/npm/leaflet@1.9.3/dist/leaflet.js&quot;&gt;&lt;/script&gt;\n",
       "    &lt;script src=&quot;https://code.jquery.com/jquery-1.12.4.min.js&quot;&gt;&lt;/script&gt;\n",
       "    &lt;script src=&quot;https://cdn.jsdelivr.net/npm/bootstrap@5.2.2/dist/js/bootstrap.bundle.min.js&quot;&gt;&lt;/script&gt;\n",
       "    &lt;script src=&quot;https://cdnjs.cloudflare.com/ajax/libs/Leaflet.awesome-markers/2.0.2/leaflet.awesome-markers.js&quot;&gt;&lt;/script&gt;\n",
       "    &lt;link rel=&quot;stylesheet&quot; href=&quot;https://cdn.jsdelivr.net/npm/leaflet@1.9.3/dist/leaflet.css&quot;/&gt;\n",
       "    &lt;link rel=&quot;stylesheet&quot; href=&quot;https://cdn.jsdelivr.net/npm/bootstrap@5.2.2/dist/css/bootstrap.min.css&quot;/&gt;\n",
       "    &lt;link rel=&quot;stylesheet&quot; href=&quot;https://netdna.bootstrapcdn.com/bootstrap/3.0.0/css/bootstrap.min.css&quot;/&gt;\n",
       "    &lt;link rel=&quot;stylesheet&quot; href=&quot;https://cdn.jsdelivr.net/npm/@fortawesome/fontawesome-free@6.2.0/css/all.min.css&quot;/&gt;\n",
       "    &lt;link rel=&quot;stylesheet&quot; href=&quot;https://cdnjs.cloudflare.com/ajax/libs/Leaflet.awesome-markers/2.0.2/leaflet.awesome-markers.css&quot;/&gt;\n",
       "    &lt;link rel=&quot;stylesheet&quot; href=&quot;https://cdn.jsdelivr.net/gh/python-visualization/folium/folium/templates/leaflet.awesome.rotate.min.css&quot;/&gt;\n",
       "    \n",
       "            &lt;meta name=&quot;viewport&quot; content=&quot;width=device-width,\n",
       "                initial-scale=1.0, maximum-scale=1.0, user-scalable=no&quot; /&gt;\n",
       "            &lt;style&gt;\n",
       "                #map_070ff793cd49b5c717d9ab9c7b57937b {\n",
       "                    position: absolute;\n",
       "                    width: 50.0%;\n",
       "                    height: 100.0%;\n",
       "                    left: 0.0%;\n",
       "                    top: 0.0%;\n",
       "                }\n",
       "                .leaflet-container { font-size: 1rem; }\n",
       "            &lt;/style&gt;\n",
       "        \n",
       "    \n",
       "            &lt;meta name=&quot;viewport&quot; content=&quot;width=device-width,\n",
       "                initial-scale=1.0, maximum-scale=1.0, user-scalable=no&quot; /&gt;\n",
       "            &lt;style&gt;\n",
       "                #map_027a5ba74fed1cf1aff9a18d8c0dbd8c {\n",
       "                    position: absolute;\n",
       "                    width: 50.0%;\n",
       "                    height: 100.0%;\n",
       "                    left: 50.0%;\n",
       "                    top: 0.0%;\n",
       "                }\n",
       "                .leaflet-container { font-size: 1rem; }\n",
       "            &lt;/style&gt;\n",
       "        \n",
       "    &lt;script src=&quot;https://cdn.jsdelivr.net/gh/jieter/Leaflet.Sync/L.Map.Sync.min.js&quot;&gt;&lt;/script&gt;\n",
       "&lt;/head&gt;\n",
       "&lt;body&gt;\n",
       "    \n",
       "    \n",
       "            &lt;div class=&quot;folium-map&quot; id=&quot;map_070ff793cd49b5c717d9ab9c7b57937b&quot; &gt;&lt;/div&gt;\n",
       "        \n",
       "    \n",
       "            &lt;div class=&quot;folium-map&quot; id=&quot;map_027a5ba74fed1cf1aff9a18d8c0dbd8c&quot; &gt;&lt;/div&gt;\n",
       "        \n",
       "&lt;/body&gt;\n",
       "&lt;script&gt;\n",
       "    \n",
       "    \n",
       "            var map_070ff793cd49b5c717d9ab9c7b57937b = L.map(\n",
       "                &quot;map_070ff793cd49b5c717d9ab9c7b57937b&quot;,\n",
       "                {\n",
       "                    center: [34.0, -118.0],\n",
       "                    crs: L.CRS.EPSG3857,\n",
       "                    zoom: 6,\n",
       "                    zoomControl: true,\n",
       "                    preferCanvas: false,\n",
       "                }\n",
       "            );\n",
       "\n",
       "            \n",
       "\n",
       "        \n",
       "    \n",
       "            var tile_layer_e08130beda46485d5323a6ae68966fbd = L.tileLayer(\n",
       "                &quot;https://{s}.tile.openstreetmap.org/{z}/{x}/{y}.png&quot;,\n",
       "                {&quot;attribution&quot;: &quot;Data by \\u0026copy; \\u003ca target=\\&quot;_blank\\&quot; href=\\&quot;http://openstreetmap.org\\&quot;\\u003eOpenStreetMap\\u003c/a\\u003e, under \\u003ca target=\\&quot;_blank\\&quot; href=\\&quot;http://www.openstreetmap.org/copyright\\&quot;\\u003eODbL\\u003c/a\\u003e.&quot;, &quot;detectRetina&quot;: false, &quot;maxNativeZoom&quot;: 18, &quot;maxZoom&quot;: 18, &quot;minZoom&quot;: 0, &quot;noWrap&quot;: false, &quot;opacity&quot;: 1, &quot;subdomains&quot;: &quot;abc&quot;, &quot;tms&quot;: false}\n",
       "            ).addTo(map_070ff793cd49b5c717d9ab9c7b57937b);\n",
       "        \n",
       "    \n",
       "            var tile_layer_52f6140279541ac58599dc18811bda97 = L.tileLayer(\n",
       "                &quot;https://1w7hfngnp7.execute-api.us-west-2.amazonaws.com/api/raster/stac/tiles/WebMercatorQuad/{z}/{x}/{y}@1x?collection=tm54dvar-ch4flux-monthgrid-v1\\u0026item=tm54dvar-ch4flux-monthgrid-v1-201612\\u0026assets=fossil\\u0026color_formula=gamma+r+1.05\\u0026colormap_name=purd\\u0026rescale=0.0%2C202.8189294183266&quot;,\n",
       "                {&quot;attribution&quot;: &quot;GHG&quot;, &quot;detectRetina&quot;: false, &quot;maxNativeZoom&quot;: 18, &quot;maxZoom&quot;: 18, &quot;minZoom&quot;: 0, &quot;noWrap&quot;: false, &quot;opacity&quot;: 0.8, &quot;subdomains&quot;: &quot;abc&quot;, &quot;tms&quot;: false}\n",
       "            ).addTo(map_070ff793cd49b5c717d9ab9c7b57937b);\n",
       "        \n",
       "    \n",
       "            var map_027a5ba74fed1cf1aff9a18d8c0dbd8c = L.map(\n",
       "                &quot;map_027a5ba74fed1cf1aff9a18d8c0dbd8c&quot;,\n",
       "                {\n",
       "                    center: [34.0, -118.0],\n",
       "                    crs: L.CRS.EPSG3857,\n",
       "                    zoom: 6,\n",
       "                    zoomControl: true,\n",
       "                    preferCanvas: false,\n",
       "                }\n",
       "            );\n",
       "\n",
       "            \n",
       "\n",
       "        \n",
       "    \n",
       "            var tile_layer_991de44293e6049b9084e67a18cc9f8e = L.tileLayer(\n",
       "                &quot;https://{s}.tile.openstreetmap.org/{z}/{x}/{y}.png&quot;,\n",
       "                {&quot;attribution&quot;: &quot;Data by \\u0026copy; \\u003ca target=\\&quot;_blank\\&quot; href=\\&quot;http://openstreetmap.org\\&quot;\\u003eOpenStreetMap\\u003c/a\\u003e, under \\u003ca target=\\&quot;_blank\\&quot; href=\\&quot;http://www.openstreetmap.org/copyright\\&quot;\\u003eODbL\\u003c/a\\u003e.&quot;, &quot;detectRetina&quot;: false, &quot;maxNativeZoom&quot;: 18, &quot;maxZoom&quot;: 18, &quot;minZoom&quot;: 0, &quot;noWrap&quot;: false, &quot;opacity&quot;: 1, &quot;subdomains&quot;: &quot;abc&quot;, &quot;tms&quot;: false}\n",
       "            ).addTo(map_027a5ba74fed1cf1aff9a18d8c0dbd8c);\n",
       "        \n",
       "    \n",
       "            var tile_layer_d4015402a8228add874b86f15f56d31e = L.tileLayer(\n",
       "                &quot;https://1w7hfngnp7.execute-api.us-west-2.amazonaws.com/api/raster/stac/tiles/WebMercatorQuad/{z}/{x}/{y}@1x?collection=tm54dvar-ch4flux-monthgrid-v1\\u0026item=tm54dvar-ch4flux-monthgrid-v1-199912\\u0026assets=fossil\\u0026color_formula=gamma+r+1.05\\u0026colormap_name=purd\\u0026rescale=0.0%2C202.8189294183266&quot;,\n",
       "                {&quot;attribution&quot;: &quot;GHG&quot;, &quot;detectRetina&quot;: false, &quot;maxNativeZoom&quot;: 18, &quot;maxZoom&quot;: 18, &quot;minZoom&quot;: 0, &quot;noWrap&quot;: false, &quot;opacity&quot;: 0.8, &quot;subdomains&quot;: &quot;abc&quot;, &quot;tms&quot;: false}\n",
       "            ).addTo(map_027a5ba74fed1cf1aff9a18d8c0dbd8c);\n",
       "        \n",
       "    \n",
       "            map_070ff793cd49b5c717d9ab9c7b57937b.sync(map_027a5ba74fed1cf1aff9a18d8c0dbd8c);\n",
       "            map_027a5ba74fed1cf1aff9a18d8c0dbd8c.sync(map_070ff793cd49b5c717d9ab9c7b57937b);\n",
       "        \n",
       "&lt;/script&gt;\n",
       "&lt;/html&gt;\" style=\"position:absolute;width:100%;height:100%;left:0;top:0;border:none !important;\" allowfullscreen webkitallowfullscreen mozallowfullscreen></iframe></div></div>"
      ],
      "text/plain": [
       "<folium.plugins.dual_map.DualMap at 0x28314c1f0>"
      ]
     },
     "execution_count": 24,
     "metadata": {},
     "output_type": "execute_result"
    }
   ],
   "source": [
    "# We'll import folium to map and folium.plugins to allow mapping side-by-side\n",
    "import folium\n",
    "import folium.plugins\n",
    "\n",
    "# Set initial zoom and center of map for CO₂ Layer\n",
    "# Centre of map [latitude,longitude]\n",
    "map_ = folium.plugins.DualMap(location=(34, -118), zoom_start=6)\n",
    "\n",
    "\n",
    "map_layer_2016 = TileLayer(\n",
    "    tiles=co2_flux_1[\"tiles\"][0],\n",
    "    attr=\"GHG\",\n",
    "    opacity=0.8,\n",
    ")\n",
    "map_layer_2016.add_to(map_.m1)\n",
    "\n",
    "map_layer_1999 = TileLayer(\n",
    "    tiles=co2_flux_2[\"tiles\"][0],\n",
    "    attr=\"GHG\",\n",
    "    opacity=0.8,\n",
    ")\n",
    "map_layer_1999.add_to(map_.m2)\n",
    "\n",
    "# visualising the map\n",
    "map_\n",
    "\n"
   ]
  },
  {
   "attachments": {},
   "cell_type": "markdown",
   "metadata": {},
   "source": [
    "# Calculating Zonal Statistics"
   ]
  },
  {
   "attachments": {},
   "cell_type": "markdown",
   "metadata": {},
   "source": [
    "To perform zonal statistics, first we need to create a polygon. In this use case we are creating a polygon in Texas (USA)."
   ]
  },
  {
   "cell_type": "code",
   "execution_count": null,
   "metadata": {},
   "outputs": [],
   "source": [
    "# Texas, USA\n",
    "texas_aoi = {\n",
    "    \"type\": \"Feature\",\n",
    "    \"properties\": {},\n",
    "    \"geometry\": {\n",
    "        \"coordinates\": [\n",
    "            [\n",
    "                [-95, 29],\n",
    "                [-95, 33],\n",
    "                [-104, 33],\n",
    "                [-104,29],\n",
    "                [-95, 29]\n",
    "            ]\n",
    "        ],\n",
    "        \"type\": \"Polygon\",\n",
    "    },\n",
    "}"
   ]
  },
  {
   "cell_type": "code",
   "execution_count": null,
   "metadata": {},
   "outputs": [],
   "source": [
    "# We'll plug in the coordinates for a location\n",
    "# central to the study area and a reasonable zoom level\n",
    "\n",
    "import folium\n",
    "\n",
    "aoi_map = Map(\n",
    "    tiles=\"OpenStreetMap\",\n",
    "    location=[\n",
    "        30,-100\n",
    "    ],\n",
    "    zoom_start=6,\n",
    ")\n",
    "\n",
    "folium.GeoJson(texas_aoi, name=\"Texas, USA\").add_to(aoi_map)\n",
    "aoi_map"
   ]
  },
  {
   "cell_type": "code",
   "execution_count": null,
   "metadata": {},
   "outputs": [],
   "source": [
    "# Check total number of items available\n",
    "items = requests.get(\n",
    "    f\"{STAC_API_URL}/collections/{collection_name}/items?limit=600\"\n",
    ").json()[\"features\"]\n",
    "print(f\"Found {len(items)} items\")"
   ]
  },
  {
   "cell_type": "code",
   "execution_count": null,
   "metadata": {},
   "outputs": [],
   "source": [
    "# Explore the first item\n",
    "items[0]"
   ]
  },
  {
   "cell_type": "code",
   "execution_count": null,
   "metadata": {},
   "outputs": [],
   "source": [
    "# The bounding box should be passed to the geojson param as a geojson Feature or FeatureCollection\n",
    "def generate_stats(item, geojson):\n",
    "    result = requests.post(\n",
    "        f\"{RASTER_API_URL}/cog/statistics\",\n",
    "        params={\"url\": item[\"assets\"][asset_name][\"href\"]},\n",
    "        json=geojson,\n",
    "    ).json()\n",
    "    print(result)\n",
    "    return {\n",
    "        **result[\"properties\"],\n",
    "        \"datetime\": item[\"properties\"][\"start_datetime\"],\n",
    "    }"
   ]
  },
  {
   "cell_type": "code",
   "execution_count": null,
   "metadata": {},
   "outputs": [],
   "source": [
    "for item in items:\n",
    "    print(item[\"properties\"][\"start_datetime\"])\n",
    "    break"
   ]
  },
  {
   "attachments": {},
   "cell_type": "markdown",
   "metadata": {},
   "source": [
    "With the function above we can generate the statistics for the AOI."
   ]
  },
  {
   "cell_type": "code",
   "execution_count": null,
   "metadata": {},
   "outputs": [],
   "source": [
    "%%time\n",
    "stats = [generate_stats(item, texas_aoi) for item in items]"
   ]
  },
  {
   "cell_type": "code",
   "execution_count": null,
   "metadata": {},
   "outputs": [],
   "source": [
    "stats[0]"
   ]
  },
  {
   "cell_type": "code",
   "execution_count": null,
   "metadata": {},
   "outputs": [],
   "source": [
    "import pandas as pd\n",
    "\n",
    "\n",
    "def clean_stats(stats_json) -> pd.DataFrame:\n",
    "    df = pd.json_normalize(stats_json)\n",
    "    df.columns = [col.replace(\"statistics.b1.\", \"\") for col in df.columns]\n",
    "    df[\"date\"] = pd.to_datetime(df[\"datetime\"])\n",
    "    return df\n",
    "\n",
    "\n",
    "df = clean_stats(stats)\n",
    "df.head(5)"
   ]
  },
  {
   "attachments": {},
   "cell_type": "markdown",
   "metadata": {},
   "source": [
    "## Visualizing the Data as a Time Series\n",
    "We can now explore the fossil fuel emission time series (January 1999 -December 2016) available for the Dallas, Texas area of the U.S. We can plot the data set using the code below:"
   ]
  },
  {
   "cell_type": "code",
   "execution_count": null,
   "metadata": {},
   "outputs": [],
   "source": [
    "import matplotlib.pyplot as plt\n",
    "\n",
    "fig = plt.figure(figsize=(20, 10))\n",
    "\n",
    "\n",
    "plt.plot(\n",
    "    df[\"datetime\"],\n",
    "    df[\"max\"],\n",
    "    color=\"red\",\n",
    "    linestyle=\"-\",\n",
    "    linewidth=0.5,\n",
    "    label=\"CH4 emissions\",\n",
    ")\n",
    "\n",
    "plt.legend()\n",
    "plt.xlabel(\"Years\")\n",
    "plt.ylabel(\"g CH₄/m²/year\")\n",
    "plt.title(\"CH4 emission Values for Texas, Dallas (2015-2020)\")"
   ]
  },
  {
   "cell_type": "code",
   "execution_count": null,
   "metadata": {},
   "outputs": [],
   "source": [
    "print(items[2][\"properties\"][\"start_datetime\"])"
   ]
  },
  {
   "cell_type": "code",
   "execution_count": null,
   "metadata": {},
   "outputs": [],
   "source": [
    "co2_flux_3 = requests.get(\n",
    "    f\"{RASTER_API_URL}/stac/tilejson.json?collection={items[2]['collection']}&item={items[2]['id']}\"\n",
    "    f\"&assets={asset_name}\"\n",
    "    f\"&color_formula=gamma+r+1.05&colormap_name={color_map}\"\n",
    "    f\"&rescale={rescale_values['min']},{rescale_values['max']}\",\n",
    ").json()\n",
    "co2_flux_3"
   ]
  },
  {
   "cell_type": "code",
   "execution_count": null,
   "metadata": {},
   "outputs": [],
   "source": [
    "# Use bbox initial zoom and map\n",
    "# Set up a map located w/in event bounds\n",
    "import folium\n",
    "\n",
    "aoi_map_bbox = Map(\n",
    "    tiles=\"OpenStreetMap\",\n",
    "    location=[\n",
    "        30,-100\n",
    "    ],\n",
    "    zoom_start=6.8,\n",
    ")\n",
    "\n",
    "map_layer = TileLayer(\n",
    "    tiles=co2_flux_3[\"tiles\"][0],\n",
    "    attr=\"GHG\", opacity = 0.7\n",
    ")\n",
    "\n",
    "map_layer.add_to(aoi_map_bbox)\n",
    "\n",
    "aoi_map_bbox"
   ]
  },
  {
   "attachments": {},
   "cell_type": "markdown",
   "metadata": {},
   "source": [
    "## Summary\n",
    "\n",
    "In this notebook we have successfully explored, analyzed, and visualized the STAC collection for TM5-4DVar Isotopic CH₄ Inverse Fluxes dataset."
   ]
  }
 ],
 "metadata": {
  "kernelspec": {
   "display_name": "Python 3 (ipykernel)",
   "language": "python",
   "name": "python3"
  },
  "language_info": {
   "codemirror_mode": {
    "name": "ipython",
    "version": 3
   },
   "file_extension": ".py",
   "mimetype": "text/x-python",
   "name": "python",
   "nbconvert_exporter": "python",
   "pygments_lexer": "ipython3",
   "version": "3.9.16"
  }
 },
 "nbformat": 4,
 "nbformat_minor": 4
}
