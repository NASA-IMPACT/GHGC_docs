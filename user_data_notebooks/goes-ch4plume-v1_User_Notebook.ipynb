{
 "cells": [
  {
   "cell_type": "markdown",
   "metadata": {},
   "source": [
    "---\n",
    "title: Geostationary Satellite Observations of Extreme and Transient Methane Emissions from Oil and Gas Infrastructure\n",
    "description: A sample of methane plumes from point sources observed since 2019 by the U.S. Geostationary Operational Environmental Satellites (GOES) over North and South America.\n",
    "author: Siddharth Chaudhary\n",
    "date: 15 November 2024\n",
    "execute:\n",
    "   freeze: true\n",
    "---"
   ]
  }
 ],
 "metadata": {
  "language_info": {
   "name": "python"
  }
 },
 "nbformat": 4,
 "nbformat_minor": 2
}
