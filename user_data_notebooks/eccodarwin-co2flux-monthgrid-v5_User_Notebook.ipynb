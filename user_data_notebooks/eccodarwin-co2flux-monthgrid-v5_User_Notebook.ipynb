{
 "cells": [
  {
   "cell_type": "raw",
   "metadata": {},
   "source": [
    "---\n",
    "title: Air-Sea CO₂ Flux, ECCO-Darwin Model v5\n",
    "description: Global, monthly average air-sea CO₂ flux at ~1/3° resolution from 2020 to 2022\n",
    "author: Siddharth Chaudhary, Vishal Gaur\n",
    "date: 29 August 2023\n",
    "execute:\n",
    "   freeze: true\n",
    "---"
   ]
  },
  {
   "attachments": {},
   "cell_type": "markdown",
   "metadata": {},
   "source": [
    "## Approach\n",
    "\n",
    "1. Identify available dates and temporal frequency of observations for the given collection using the GHGC API `/stac` endpoint. The collection processed in this notebook is the Air-Sea CO₂ Flux, ECCO-Darwin Model v5 Data product.\n",
    "2. Pass the STAC item into the raster API `/stac/tilejson.json `endpoint.\n",
    "3. Using `folium.plugins.DualMap`, we will visualize two tiles (side-by-side), allowing us to compare time points. \n",
    "4. After the visualization, we will perform zonal statistics for a given polygon.\n",
    "\n",
    "   "
   ]
  },
  {
   "attachments": {},
   "cell_type": "markdown",
   "metadata": {},
   "source": [
    "## About the Data\n",
    "\n",
    "The ocean is a major sink for atmospheric carbon dioxide (CO2), largely due to the presence of phytoplankton that use the CO₂ to grow. Studies have shown that global ocean CO₂ uptake has increased over recent decades however there is uncertainty in the various mechanisms that affect ocean CO₂ flux and storage and how the ocean carbon sink will respond to future climate change. Because CO₂ fluxes can vary significantly across space and time, combined with deficiencies in ocean and atmosphere CO₂ observations, there is a need for models that can thoroughly represent these processes. Ocean biogeochemical models (OBMs) have the ability to resolve the physical and biogeochemical mechanisms contributing to spatial and temporal variations in air-sea CO₂ fluxes but previous OBMs do not integrate observations to improve model accuracy and have not be able to operate on the seasonal and multi-decadal timescales needed to adequately characterize these processes. The ECCO-Darwin model is an OBM that assimilates Estimating the Circulation and Climate of the Ocean (ECCO) consortium ocean circulation estimates and biogeochemical processes from the Massachusetts Institute of Technology (MIT) Darwin Project. A pilot study using ECCO-Darwin was completed by [Brix et al. (2015)](https://doi.org/10.1016/j.ocemod.2015.07.008) however an improved version of the model was developed by [Carroll et al. (2020)](https://doi.org/10.1029/2019MS001888) in which issues present in the first model were addressed using data assimilation and adjustments were made to initial conditions and biogeochemical parameters. The updated ECCO-Darwin model was compared with interpolation-based products to estimate surface ocean partial pressure (pCO2) and air-sea CO₂ flux. This dataset contains the gridded global, monthly mean air-sea CO₂ fluxes from version 5 of the ECCO-Darwin model. The data are available at ~1/3° horizontal resolution at the equator (~18 km at high latitudes) from January 2020 through December 2022."
   ]
  },
  {
   "cell_type": "markdown",
   "metadata": {},
   "source": [
    "## Installing the required libraries\n",
    "\n",
    "Please run the cell below to install the libraries required to run this notebook."
   ]
  },
  {
   "cell_type": "code",
   "execution_count": 70,
   "metadata": {},
   "outputs": [
    {
     "name": "stdout",
     "output_type": "stream",
     "text": [
      "Requirement already satisfied: requests in /Users/vgaur/miniconda3/envs/cmip6/lib/python3.9/site-packages (2.31.0)\n",
      "Requirement already satisfied: charset-normalizer<4,>=2 in /Users/vgaur/miniconda3/envs/cmip6/lib/python3.9/site-packages (from requests) (3.1.0)\n",
      "Requirement already satisfied: certifi>=2017.4.17 in /Users/vgaur/miniconda3/envs/cmip6/lib/python3.9/site-packages (from requests) (2023.7.22)\n",
      "Requirement already satisfied: urllib3<3,>=1.21.1 in /Users/vgaur/miniconda3/envs/cmip6/lib/python3.9/site-packages (from requests) (1.26.16)\n",
      "Requirement already satisfied: idna<4,>=2.5 in /Users/vgaur/miniconda3/envs/cmip6/lib/python3.9/site-packages (from requests) (3.4)\n",
      "Note: you may need to restart the kernel to use updated packages.\n",
      "Requirement already satisfied: folium in /Users/vgaur/miniconda3/envs/cmip6/lib/python3.9/site-packages (0.14.0)\n",
      "Requirement already satisfied: numpy in /Users/vgaur/miniconda3/envs/cmip6/lib/python3.9/site-packages (from folium) (1.24.3)\n",
      "Requirement already satisfied: jinja2>=2.9 in /Users/vgaur/miniconda3/envs/cmip6/lib/python3.9/site-packages (from folium) (3.1.2)\n",
      "Requirement already satisfied: branca>=0.6.0 in /Users/vgaur/miniconda3/envs/cmip6/lib/python3.9/site-packages (from folium) (0.6.0)\n",
      "Requirement already satisfied: requests in /Users/vgaur/miniconda3/envs/cmip6/lib/python3.9/site-packages (from folium) (2.31.0)\n",
      "Requirement already satisfied: MarkupSafe>=2.0 in /Users/vgaur/miniconda3/envs/cmip6/lib/python3.9/site-packages (from jinja2>=2.9->folium) (2.1.3)\n",
      "Requirement already satisfied: idna<4,>=2.5 in /Users/vgaur/miniconda3/envs/cmip6/lib/python3.9/site-packages (from requests->folium) (3.4)\n",
      "Requirement already satisfied: certifi>=2017.4.17 in /Users/vgaur/miniconda3/envs/cmip6/lib/python3.9/site-packages (from requests->folium) (2023.7.22)\n",
      "Requirement already satisfied: urllib3<3,>=1.21.1 in /Users/vgaur/miniconda3/envs/cmip6/lib/python3.9/site-packages (from requests->folium) (1.26.16)\n",
      "Requirement already satisfied: charset-normalizer<4,>=2 in /Users/vgaur/miniconda3/envs/cmip6/lib/python3.9/site-packages (from requests->folium) (3.1.0)\n",
      "Note: you may need to restart the kernel to use updated packages.\n",
      "Requirement already satisfied: pystac_client in /Users/vgaur/miniconda3/envs/cmip6/lib/python3.9/site-packages (0.7.2)\n",
      "Requirement already satisfied: pystac[validation]>=1.7.2 in /Users/vgaur/miniconda3/envs/cmip6/lib/python3.9/site-packages (from pystac_client) (1.7.3)\n",
      "Requirement already satisfied: requests>=2.28.2 in /Users/vgaur/miniconda3/envs/cmip6/lib/python3.9/site-packages (from pystac_client) (2.31.0)\n",
      "Requirement already satisfied: python-dateutil>=2.8.2 in /Users/vgaur/miniconda3/envs/cmip6/lib/python3.9/site-packages (from pystac_client) (2.8.2)\n",
      "Requirement already satisfied: jsonschema>=4.0.1 in /Users/vgaur/miniconda3/envs/cmip6/lib/python3.9/site-packages (from pystac[validation]>=1.7.2->pystac_client) (4.17.3)\n",
      "Requirement already satisfied: six>=1.5 in /Users/vgaur/miniconda3/envs/cmip6/lib/python3.9/site-packages (from python-dateutil>=2.8.2->pystac_client) (1.16.0)\n",
      "Requirement already satisfied: certifi>=2017.4.17 in /Users/vgaur/miniconda3/envs/cmip6/lib/python3.9/site-packages (from requests>=2.28.2->pystac_client) (2023.7.22)\n",
      "Requirement already satisfied: idna<4,>=2.5 in /Users/vgaur/miniconda3/envs/cmip6/lib/python3.9/site-packages (from requests>=2.28.2->pystac_client) (3.4)\n",
      "Requirement already satisfied: charset-normalizer<4,>=2 in /Users/vgaur/miniconda3/envs/cmip6/lib/python3.9/site-packages (from requests>=2.28.2->pystac_client) (3.1.0)\n",
      "Requirement already satisfied: urllib3<3,>=1.21.1 in /Users/vgaur/miniconda3/envs/cmip6/lib/python3.9/site-packages (from requests>=2.28.2->pystac_client) (1.26.16)\n",
      "Requirement already satisfied: attrs>=17.4.0 in /Users/vgaur/miniconda3/envs/cmip6/lib/python3.9/site-packages (from jsonschema>=4.0.1->pystac[validation]>=1.7.2->pystac_client) (22.2.0)\n",
      "Requirement already satisfied: pyrsistent!=0.17.0,!=0.17.1,!=0.17.2,>=0.14.0 in /Users/vgaur/miniconda3/envs/cmip6/lib/python3.9/site-packages (from jsonschema>=4.0.1->pystac[validation]>=1.7.2->pystac_client) (0.19.3)\n",
      "Note: you may need to restart the kernel to use updated packages.\n"
     ]
    }
   ],
   "source": [
    "%pip install requests\n",
    "%pip install folium\n",
    "%pip install pystac_client"
   ]
  },
  {
   "attachments": {},
   "cell_type": "markdown",
   "metadata": {},
   "source": [
    "## Querying the STAC API"
   ]
  },
  {
   "cell_type": "code",
   "execution_count": 71,
   "metadata": {},
   "outputs": [],
   "source": [
    "import requests\n",
    "from folium import Map, TileLayer\n",
    "from pystac_client import Client"
   ]
  },
  {
   "cell_type": "code",
   "execution_count": 72,
   "metadata": {},
   "outputs": [],
   "source": [
    "# Provide STAC and RASTER API endpoints\n",
    "STAC_API_URL = \"http://ghg.center/api/stac\"\n",
    "RASTER_API_URL = \"https://ghg.center/api/raster\"\n",
    "\n",
    "# Please use the collection name similar to the one used in STAC collection.\n",
    "# Name of the collection for Ecco Darwin CO₂ flux dataset. \n",
    "collection_name = \"eccodarwin-co2flux-monthgrid-v5\""
   ]
  },
  {
   "cell_type": "code",
   "execution_count": 73,
   "metadata": {},
   "outputs": [
    {
     "data": {
      "text/plain": [
       "{'id': 'eccodarwin-co2flux-monthgrid-v5',\n",
       " 'type': 'Collection',\n",
       " 'links': [{'rel': 'items',\n",
       "   'type': 'application/geo+json',\n",
       "   'href': 'https://ghg.center/api/stac/collections/eccodarwin-co2flux-monthgrid-v5/items'},\n",
       "  {'rel': 'parent',\n",
       "   'type': 'application/json',\n",
       "   'href': 'https://ghg.center/api/stac/'},\n",
       "  {'rel': 'root',\n",
       "   'type': 'application/json',\n",
       "   'href': 'https://ghg.center/api/stac/'},\n",
       "  {'rel': 'self',\n",
       "   'type': 'application/json',\n",
       "   'href': 'https://ghg.center/api/stac/collections/eccodarwin-co2flux-monthgrid-v5'}],\n",
       " 'title': 'Air-Sea CO2 Flux, ECCO-Darwin Model v5',\n",
       " 'assets': None,\n",
       " 'extent': {'spatial': {'bbox': [[-180.125,\n",
       "     -90.12483215332031,\n",
       "     179.875,\n",
       "     89.87517547607422]]},\n",
       "  'temporal': {'interval': [['2020-01-01T00:00:00+00:00',\n",
       "     '2022-12-31T00:00:00+00:00']]}},\n",
       " 'license': 'CC-BY-4.0',\n",
       " 'keywords': None,\n",
       " 'providers': None,\n",
       " 'summaries': {'datetime': ['2020-01-01T00:00:00Z', '2022-12-31T00:00:00Z']},\n",
       " 'description': 'Global, monthly average air-sea CO2 flux at ~1/3° resolution from 2020 to 2022',\n",
       " 'item_assets': {'co2': {'type': 'image/tiff; application=geotiff; profile=cloud-optimized',\n",
       "   'roles': ['data', 'layer'],\n",
       "   'title': 'Air-Sea CO2 Flux',\n",
       "   'description': 'Monthly mean air-sea CO2 Flux (negative into ocean)'}},\n",
       " 'stac_version': '1.0.0',\n",
       " 'stac_extensions': None,\n",
       " 'dashboard:is_periodic': True,\n",
       " 'dashboard:time_density': 'month'}"
      ]
     },
     "execution_count": 73,
     "metadata": {},
     "output_type": "execute_result"
    }
   ],
   "source": [
    "# Fetching the collection from STAC collections using appropriate endpoint.\n",
    "collection = requests.get(f\"{STAC_API_URL}/collections/{collection_name}\").json()\n",
    "collection"
   ]
  },
  {
   "attachments": {},
   "cell_type": "markdown",
   "metadata": {},
   "source": [
    "Examining the contents of our `collection` under the `temporal` variable, we see that the data is available from January 2020 to December 2022. By looking at the `dashboard:time density`, we observe that the data is periodic with monthly time density."
   ]
  },
  {
   "cell_type": "code",
   "execution_count": 74,
   "metadata": {},
   "outputs": [],
   "source": [
    "def get_item_count(collection_id):\n",
    "    count = 0\n",
    "    items_url = f\"{STAC_API_URL}/collections/{collection_id}/items\"\n",
    "\n",
    "    while True:\n",
    "        response = requests.get(items_url)\n",
    "\n",
    "        if not response.ok:\n",
    "            print(\"error getting items\")\n",
    "            exit()\n",
    "\n",
    "        stac = response.json()\n",
    "        count += int(stac[\"context\"].get(\"returned\", 0))\n",
    "        next = [link for link in stac[\"links\"] if link[\"rel\"] == \"next\"]\n",
    "\n",
    "        if not next:\n",
    "            break\n",
    "        items_url = next[0][\"href\"]\n",
    "\n",
    "    return count"
   ]
  },
  {
   "cell_type": "code",
   "execution_count": 75,
   "metadata": {},
   "outputs": [
    {
     "name": "stdout",
     "output_type": "stream",
     "text": [
      "Found 36 items\n"
     ]
    }
   ],
   "source": [
    "# Check total number of items available\n",
    "number_of_items = get_item_count(collection_name)\n",
    "items = requests.get(f\"{STAC_API_URL}/collections/{collection_name}/items?limit={number_of_items}\").json()[\"features\"]\n",
    "print(f\"Found {len(items)} items\")"
   ]
  },
  {
   "cell_type": "code",
   "execution_count": 76,
   "metadata": {},
   "outputs": [
    {
     "data": {
      "text/plain": [
       "{'id': 'eccodarwin-co2flux-monthgrid-v5-202212',\n",
       " 'bbox': [-180.125, -90.124826629681, 179.875, 89.875173370319],\n",
       " 'type': 'Feature',\n",
       " 'links': [{'rel': 'collection',\n",
       "   'type': 'application/json',\n",
       "   'href': 'https://ghg.center/api/stac/collections/eccodarwin-co2flux-monthgrid-v5'},\n",
       "  {'rel': 'parent',\n",
       "   'type': 'application/json',\n",
       "   'href': 'https://ghg.center/api/stac/collections/eccodarwin-co2flux-monthgrid-v5'},\n",
       "  {'rel': 'root',\n",
       "   'type': 'application/json',\n",
       "   'href': 'https://ghg.center/api/stac/'},\n",
       "  {'rel': 'self',\n",
       "   'type': 'application/geo+json',\n",
       "   'href': 'https://ghg.center/api/stac/collections/eccodarwin-co2flux-monthgrid-v5/items/eccodarwin-co2flux-monthgrid-v5-202212'}],\n",
       " 'assets': {'co2': {'href': 's3://ghgc-data-store/eccodarwin-co2flux-monthgrid-v5/ECCO-Darwin_CO2_flux_202212.tif',\n",
       "   'type': 'image/tiff; application=geotiff',\n",
       "   'roles': ['data', 'layer'],\n",
       "   'title': 'Air-Sea CO2 Flux',\n",
       "   'proj:bbox': [-180.125, -90.124826629681, 179.875, 89.875173370319],\n",
       "   'proj:epsg': 4326.0,\n",
       "   'proj:shape': [721.0, 1440.0],\n",
       "   'description': 'Monthly mean air-sea CO2 Flux (negative into ocean)',\n",
       "   'raster:bands': [{'scale': 1.0,\n",
       "     'offset': 0.0,\n",
       "     'sampling': 'area',\n",
       "     'data_type': 'float64',\n",
       "     'histogram': {'max': 1e+20,\n",
       "      'min': -0.0560546528687938,\n",
       "      'count': 11.0,\n",
       "      'buckets': [338606.0, 0.0, 0.0, 0.0, 0.0, 0.0, 0.0, 0.0, 0.0, 186706.0]},\n",
       "     'statistics': {'mean': 3.554192556042885e+19,\n",
       "      'stddev': 4.786401658343999e+19,\n",
       "      'maximum': 1e+20,\n",
       "      'minimum': -0.0560546528687938,\n",
       "      'valid_percent': 0.0001903630604288499}}],\n",
       "   'proj:geometry': {'type': 'Polygon',\n",
       "    'coordinates': [[[-180.125, -90.124826629681],\n",
       "      [179.875, -90.124826629681],\n",
       "      [179.875, 89.875173370319],\n",
       "      [-180.125, 89.875173370319],\n",
       "      [-180.125, -90.124826629681]]]},\n",
       "   'proj:projjson': {'id': {'code': 4326.0, 'authority': 'EPSG'},\n",
       "    'name': 'WGS 84',\n",
       "    'type': 'GeographicCRS',\n",
       "    'datum': {'name': 'World Geodetic System 1984',\n",
       "     'type': 'GeodeticReferenceFrame',\n",
       "     'ellipsoid': {'name': 'WGS 84',\n",
       "      'semi_major_axis': 6378137.0,\n",
       "      'inverse_flattening': 298.257223563}},\n",
       "    '$schema': 'https://proj.org/schemas/v0.4/projjson.schema.json',\n",
       "    'coordinate_system': {'axis': [{'name': 'Geodetic latitude',\n",
       "       'unit': 'degree',\n",
       "       'direction': 'north',\n",
       "       'abbreviation': 'Lat'},\n",
       "      {'name': 'Geodetic longitude',\n",
       "       'unit': 'degree',\n",
       "       'direction': 'east',\n",
       "       'abbreviation': 'Lon'}],\n",
       "     'subtype': 'ellipsoidal'}},\n",
       "   'proj:transform': [0.25,\n",
       "    0.0,\n",
       "    -180.125,\n",
       "    0.0,\n",
       "    -0.24965325936199723,\n",
       "    89.875173370319,\n",
       "    0.0,\n",
       "    0.0,\n",
       "    1.0]}},\n",
       " 'geometry': {'type': 'Polygon',\n",
       "  'coordinates': [[[-180.125, -90.124826629681],\n",
       "    [179.875, -90.124826629681],\n",
       "    [179.875, 89.875173370319],\n",
       "    [-180.125, 89.875173370319],\n",
       "    [-180.125, -90.124826629681]]]},\n",
       " 'collection': 'eccodarwin-co2flux-monthgrid-v5',\n",
       " 'properties': {'end_datetime': '2022-12-31T00:00:00+00:00',\n",
       "  'start_datetime': '2022-12-01T00:00:00+00:00'},\n",
       " 'stac_version': '1.0.0',\n",
       " 'stac_extensions': ['https://stac-extensions.github.io/raster/v1.1.0/schema.json',\n",
       "  'https://stac-extensions.github.io/projection/v1.1.0/schema.json']}"
      ]
     },
     "execution_count": 76,
     "metadata": {},
     "output_type": "execute_result"
    }
   ],
   "source": [
    "# Examining the first item in the collection\n",
    "items[0]"
   ]
  },
  {
   "attachments": {},
   "cell_type": "markdown",
   "metadata": {},
   "source": [
    "Below, we are entering the minimum and maximum values to provide our upper and lower bounds in `rescale_values`."
   ]
  },
  {
   "attachments": {},
   "cell_type": "markdown",
   "metadata": {},
   "source": [
    "## Exploring Changes in CO₂ Levels Using the Raster API\n",
    "\n",
    "In this notebook, we will explore the global changes of CO₂ flux over time in urban regions. We will visualize the outputs on a map using `folium.`"
   ]
  },
  {
   "cell_type": "code",
   "execution_count": 77,
   "metadata": {},
   "outputs": [],
   "source": [
    "# to access the year value from each item more easily, this will let us query more explicity by year and month (e.g., 2020-02)\n",
    "items = {item[\"properties\"][\"start_datetime\"]: item for item in items} \n",
    "asset_name = \"co2\""
   ]
  },
  {
   "cell_type": "code",
   "execution_count": 78,
   "metadata": {},
   "outputs": [],
   "source": [
    "# Fetching the min and max values for a specific item\n",
    "rescale_values = {\"max\":0.05544506255821962, \"min\":-0.0560546997598733}"
   ]
  },
  {
   "attachments": {},
   "cell_type": "markdown",
   "metadata": {},
   "source": [
    "Now, we will pass the item id, collection name, and `rescaling_factor` to the `Raster API` endpoint. We will do this twice so that we can visualize each event independently."
   ]
  },
  {
   "cell_type": "code",
   "execution_count": 79,
   "metadata": {},
   "outputs": [
    {
     "data": {
      "text/plain": [
       "{'tilejson': '2.2.0',\n",
       " 'version': '1.0.0',\n",
       " 'scheme': 'xyz',\n",
       " 'tiles': ['https://ghg.center/api/raster/stac/tiles/WebMercatorQuad/{z}/{x}/{y}@1x?collection=eccodarwin-co2flux-monthgrid-v5&item=eccodarwin-co2flux-monthgrid-v5-202212&assets=co2&color_formula=gamma+r+1.05&colormap_name=magma&rescale=-0.0560546997598733%2C0.05544506255821962'],\n",
       " 'minzoom': 0,\n",
       " 'maxzoom': 24,\n",
       " 'bounds': [-180.125, -90.124826629681, 179.875, 89.875173370319],\n",
       " 'center': [-0.125, -0.1248266296809959, 0]}"
      ]
     },
     "execution_count": 79,
     "metadata": {},
     "output_type": "execute_result"
    }
   ],
   "source": [
    "color_map = \"magma\"\n",
    "co2_flux_1 = requests.get(\n",
    "    f\"{RASTER_API_URL}/stac/tilejson.json?collection={items[list(items.keys())[0]]['collection']}&item={items[list(items.keys())[0]]['id']}\"\n",
    "    f\"&assets={asset_name}\"\n",
    "    f\"&color_formula=gamma+r+1.05&colormap_name={color_map}\"\n",
    "    f\"&rescale={rescale_values['min']},{rescale_values['max']}\", \n",
    ").json()\n",
    "co2_flux_1"
   ]
  },
  {
   "cell_type": "code",
   "execution_count": 80,
   "metadata": {},
   "outputs": [
    {
     "data": {
      "text/plain": [
       "{'tilejson': '2.2.0',\n",
       " 'version': '1.0.0',\n",
       " 'scheme': 'xyz',\n",
       " 'tiles': ['https://ghg.center/api/raster/stac/tiles/WebMercatorQuad/{z}/{x}/{y}@1x?collection=eccodarwin-co2flux-monthgrid-v5&item=eccodarwin-co2flux-monthgrid-v5-202104&assets=co2&color_formula=gamma+r+1.05&colormap_name=magma&rescale=-0.0560546997598733%2C0.05544506255821962'],\n",
       " 'minzoom': 0,\n",
       " 'maxzoom': 24,\n",
       " 'bounds': [-180.125, -90.124826629681, 179.875, 89.875173370319],\n",
       " 'center': [-0.125, -0.1248266296809959, 0]}"
      ]
     },
     "execution_count": 80,
     "metadata": {},
     "output_type": "execute_result"
    }
   ],
   "source": [
    "co2_flux_2 = requests.get(\n",
    "    f\"{RASTER_API_URL}/stac/tilejson.json?collection={items[list(items.keys())[20]]['collection']}&item={items[list(items.keys())[20]]['id']}\"\n",
    "    f\"&assets={asset_name}\"\n",
    "    f\"&color_formula=gamma+r+1.05&colormap_name={color_map}\"\n",
    "    f\"&rescale={rescale_values['min']},{rescale_values['max']}\", \n",
    ").json()\n",
    "co2_flux_2"
   ]
  },
  {
   "attachments": {},
   "cell_type": "markdown",
   "metadata": {},
   "source": [
    "## Visualizing CO₂ flux Emissions"
   ]
  },
  {
   "cell_type": "code",
   "execution_count": 81,
   "metadata": {},
   "outputs": [
    {
     "data": {
      "text/html": [
       "<div style=\"width:100%;\"><div style=\"position:relative;width:100%;height:0;padding-bottom:60%;\"><span style=\"color:#565656\">Make this Notebook Trusted to load map: File -> Trust Notebook</span><iframe srcdoc=\"&lt;!DOCTYPE html&gt;\n",
       "&lt;html&gt;\n",
       "&lt;head&gt;\n",
       "    \n",
       "    &lt;meta http-equiv=&quot;content-type&quot; content=&quot;text/html; charset=UTF-8&quot; /&gt;\n",
       "    \n",
       "        &lt;script&gt;\n",
       "            L_NO_TOUCH = false;\n",
       "            L_DISABLE_3D = false;\n",
       "        &lt;/script&gt;\n",
       "    \n",
       "    &lt;style&gt;html, body {width: 100%;height: 100%;margin: 0;padding: 0;}&lt;/style&gt;\n",
       "    &lt;style&gt;#map {position:absolute;top:0;bottom:0;right:0;left:0;}&lt;/style&gt;\n",
       "    &lt;script src=&quot;https://cdn.jsdelivr.net/npm/leaflet@1.9.3/dist/leaflet.js&quot;&gt;&lt;/script&gt;\n",
       "    &lt;script src=&quot;https://code.jquery.com/jquery-1.12.4.min.js&quot;&gt;&lt;/script&gt;\n",
       "    &lt;script src=&quot;https://cdn.jsdelivr.net/npm/bootstrap@5.2.2/dist/js/bootstrap.bundle.min.js&quot;&gt;&lt;/script&gt;\n",
       "    &lt;script src=&quot;https://cdnjs.cloudflare.com/ajax/libs/Leaflet.awesome-markers/2.0.2/leaflet.awesome-markers.js&quot;&gt;&lt;/script&gt;\n",
       "    &lt;link rel=&quot;stylesheet&quot; href=&quot;https://cdn.jsdelivr.net/npm/leaflet@1.9.3/dist/leaflet.css&quot;/&gt;\n",
       "    &lt;link rel=&quot;stylesheet&quot; href=&quot;https://cdn.jsdelivr.net/npm/bootstrap@5.2.2/dist/css/bootstrap.min.css&quot;/&gt;\n",
       "    &lt;link rel=&quot;stylesheet&quot; href=&quot;https://netdna.bootstrapcdn.com/bootstrap/3.0.0/css/bootstrap.min.css&quot;/&gt;\n",
       "    &lt;link rel=&quot;stylesheet&quot; href=&quot;https://cdn.jsdelivr.net/npm/@fortawesome/fontawesome-free@6.2.0/css/all.min.css&quot;/&gt;\n",
       "    &lt;link rel=&quot;stylesheet&quot; href=&quot;https://cdnjs.cloudflare.com/ajax/libs/Leaflet.awesome-markers/2.0.2/leaflet.awesome-markers.css&quot;/&gt;\n",
       "    &lt;link rel=&quot;stylesheet&quot; href=&quot;https://cdn.jsdelivr.net/gh/python-visualization/folium/folium/templates/leaflet.awesome.rotate.min.css&quot;/&gt;\n",
       "    \n",
       "            &lt;meta name=&quot;viewport&quot; content=&quot;width=device-width,\n",
       "                initial-scale=1.0, maximum-scale=1.0, user-scalable=no&quot; /&gt;\n",
       "            &lt;style&gt;\n",
       "                #map_f1f081c0d0165785c7d6a8a65f98170b {\n",
       "                    position: absolute;\n",
       "                    width: 50.0%;\n",
       "                    height: 100.0%;\n",
       "                    left: 0.0%;\n",
       "                    top: 0.0%;\n",
       "                }\n",
       "                .leaflet-container { font-size: 1rem; }\n",
       "            &lt;/style&gt;\n",
       "        \n",
       "    \n",
       "            &lt;meta name=&quot;viewport&quot; content=&quot;width=device-width,\n",
       "                initial-scale=1.0, maximum-scale=1.0, user-scalable=no&quot; /&gt;\n",
       "            &lt;style&gt;\n",
       "                #map_75199fd6606d61daf5de7b3ee5013458 {\n",
       "                    position: absolute;\n",
       "                    width: 50.0%;\n",
       "                    height: 100.0%;\n",
       "                    left: 50.0%;\n",
       "                    top: 0.0%;\n",
       "                }\n",
       "                .leaflet-container { font-size: 1rem; }\n",
       "            &lt;/style&gt;\n",
       "        \n",
       "    &lt;script src=&quot;https://cdn.jsdelivr.net/gh/jieter/Leaflet.Sync/L.Map.Sync.min.js&quot;&gt;&lt;/script&gt;\n",
       "&lt;/head&gt;\n",
       "&lt;body&gt;\n",
       "    \n",
       "    \n",
       "            &lt;div class=&quot;folium-map&quot; id=&quot;map_f1f081c0d0165785c7d6a8a65f98170b&quot; &gt;&lt;/div&gt;\n",
       "        \n",
       "    \n",
       "            &lt;div class=&quot;folium-map&quot; id=&quot;map_75199fd6606d61daf5de7b3ee5013458&quot; &gt;&lt;/div&gt;\n",
       "        \n",
       "&lt;/body&gt;\n",
       "&lt;script&gt;\n",
       "    \n",
       "    \n",
       "            var map_f1f081c0d0165785c7d6a8a65f98170b = L.map(\n",
       "                &quot;map_f1f081c0d0165785c7d6a8a65f98170b&quot;,\n",
       "                {\n",
       "                    center: [34.0, -118.0],\n",
       "                    crs: L.CRS.EPSG3857,\n",
       "                    zoom: 6,\n",
       "                    zoomControl: true,\n",
       "                    preferCanvas: false,\n",
       "                }\n",
       "            );\n",
       "\n",
       "            \n",
       "\n",
       "        \n",
       "    \n",
       "            var tile_layer_0a13c685ee7e02ac11ff1bd12552f69d = L.tileLayer(\n",
       "                &quot;https://{s}.tile.openstreetmap.org/{z}/{x}/{y}.png&quot;,\n",
       "                {&quot;attribution&quot;: &quot;Data by \\u0026copy; \\u003ca target=\\&quot;_blank\\&quot; href=\\&quot;http://openstreetmap.org\\&quot;\\u003eOpenStreetMap\\u003c/a\\u003e, under \\u003ca target=\\&quot;_blank\\&quot; href=\\&quot;http://www.openstreetmap.org/copyright\\&quot;\\u003eODbL\\u003c/a\\u003e.&quot;, &quot;detectRetina&quot;: false, &quot;maxNativeZoom&quot;: 18, &quot;maxZoom&quot;: 18, &quot;minZoom&quot;: 0, &quot;noWrap&quot;: false, &quot;opacity&quot;: 1, &quot;subdomains&quot;: &quot;abc&quot;, &quot;tms&quot;: false}\n",
       "            ).addTo(map_f1f081c0d0165785c7d6a8a65f98170b);\n",
       "        \n",
       "    \n",
       "            var tile_layer_d77400a49435886629861e9d5ece5a99 = L.tileLayer(\n",
       "                &quot;https://ghg.center/api/raster/stac/tiles/WebMercatorQuad/{z}/{x}/{y}@1x?collection=eccodarwin-co2flux-monthgrid-v5\\u0026item=eccodarwin-co2flux-monthgrid-v5-202212\\u0026assets=co2\\u0026color_formula=gamma+r+1.05\\u0026colormap_name=magma\\u0026rescale=-0.0560546997598733%2C0.05544506255821962&quot;,\n",
       "                {&quot;attribution&quot;: &quot;GHG&quot;, &quot;detectRetina&quot;: false, &quot;maxNativeZoom&quot;: 18, &quot;maxZoom&quot;: 18, &quot;minZoom&quot;: 0, &quot;noWrap&quot;: false, &quot;opacity&quot;: 0.8, &quot;subdomains&quot;: &quot;abc&quot;, &quot;tms&quot;: false}\n",
       "            ).addTo(map_f1f081c0d0165785c7d6a8a65f98170b);\n",
       "        \n",
       "    \n",
       "            var map_75199fd6606d61daf5de7b3ee5013458 = L.map(\n",
       "                &quot;map_75199fd6606d61daf5de7b3ee5013458&quot;,\n",
       "                {\n",
       "                    center: [34.0, -118.0],\n",
       "                    crs: L.CRS.EPSG3857,\n",
       "                    zoom: 6,\n",
       "                    zoomControl: true,\n",
       "                    preferCanvas: false,\n",
       "                }\n",
       "            );\n",
       "\n",
       "            \n",
       "\n",
       "        \n",
       "    \n",
       "            var tile_layer_50e016a84c441308ee3a76e5fe785717 = L.tileLayer(\n",
       "                &quot;https://{s}.tile.openstreetmap.org/{z}/{x}/{y}.png&quot;,\n",
       "                {&quot;attribution&quot;: &quot;Data by \\u0026copy; \\u003ca target=\\&quot;_blank\\&quot; href=\\&quot;http://openstreetmap.org\\&quot;\\u003eOpenStreetMap\\u003c/a\\u003e, under \\u003ca target=\\&quot;_blank\\&quot; href=\\&quot;http://www.openstreetmap.org/copyright\\&quot;\\u003eODbL\\u003c/a\\u003e.&quot;, &quot;detectRetina&quot;: false, &quot;maxNativeZoom&quot;: 18, &quot;maxZoom&quot;: 18, &quot;minZoom&quot;: 0, &quot;noWrap&quot;: false, &quot;opacity&quot;: 1, &quot;subdomains&quot;: &quot;abc&quot;, &quot;tms&quot;: false}\n",
       "            ).addTo(map_75199fd6606d61daf5de7b3ee5013458);\n",
       "        \n",
       "    \n",
       "            var tile_layer_2066ce45f004a1f66ccfd247e6f421ca = L.tileLayer(\n",
       "                &quot;https://ghg.center/api/raster/stac/tiles/WebMercatorQuad/{z}/{x}/{y}@1x?collection=eccodarwin-co2flux-monthgrid-v5\\u0026item=eccodarwin-co2flux-monthgrid-v5-202104\\u0026assets=co2\\u0026color_formula=gamma+r+1.05\\u0026colormap_name=magma\\u0026rescale=-0.0560546997598733%2C0.05544506255821962&quot;,\n",
       "                {&quot;attribution&quot;: &quot;GHG&quot;, &quot;detectRetina&quot;: false, &quot;maxNativeZoom&quot;: 18, &quot;maxZoom&quot;: 18, &quot;minZoom&quot;: 0, &quot;noWrap&quot;: false, &quot;opacity&quot;: 0.8, &quot;subdomains&quot;: &quot;abc&quot;, &quot;tms&quot;: false}\n",
       "            ).addTo(map_75199fd6606d61daf5de7b3ee5013458);\n",
       "        \n",
       "    \n",
       "            map_f1f081c0d0165785c7d6a8a65f98170b.sync(map_75199fd6606d61daf5de7b3ee5013458);\n",
       "            map_75199fd6606d61daf5de7b3ee5013458.sync(map_f1f081c0d0165785c7d6a8a65f98170b);\n",
       "        \n",
       "&lt;/script&gt;\n",
       "&lt;/html&gt;\" style=\"position:absolute;width:100%;height:100%;left:0;top:0;border:none !important;\" allowfullscreen webkitallowfullscreen mozallowfullscreen></iframe></div></div>"
      ],
      "text/plain": [
       "<folium.plugins.dual_map.DualMap at 0x2899dff40>"
      ]
     },
     "execution_count": 81,
     "metadata": {},
     "output_type": "execute_result"
    }
   ],
   "source": [
    "# We'll import folium to map and folium.plugins to allow mapping side-by-side\n",
    "import folium\n",
    "import folium.plugins\n",
    "\n",
    "# Set initial zoom and center of map for CO₂ Layer\n",
    "# Centre of map [latitude,longitude]\n",
    "map_ = folium.plugins.DualMap(location=(34, -118), zoom_start=6)\n",
    "\n",
    "\n",
    "map_layer_1 = TileLayer(\n",
    "    tiles=co2_flux_1[\"tiles\"][0],\n",
    "    attr=\"GHG\",\n",
    "    opacity=0.8,\n",
    ")\n",
    "map_layer_1.add_to(map_.m1)\n",
    "\n",
    "map_layer_2 = TileLayer(\n",
    "    tiles=co2_flux_2[\"tiles\"][0],\n",
    "    attr=\"GHG\",\n",
    "    opacity=0.8,\n",
    ")\n",
    "map_layer_2.add_to(map_.m2)\n",
    "\n",
    "# visualising the map\n",
    "map_\n",
    "\n"
   ]
  },
  {
   "attachments": {},
   "cell_type": "markdown",
   "metadata": {},
   "source": [
    "# Calculating Zonal Statistics"
   ]
  },
  {
   "attachments": {},
   "cell_type": "markdown",
   "metadata": {},
   "source": [
    "To perform zonal statistics, first we need to create a polygon. In this use case we are creating a polygon in Texas (USA)."
   ]
  },
  {
   "cell_type": "code",
   "execution_count": 82,
   "metadata": {},
   "outputs": [],
   "source": [
    "# Gulf mexico\n",
    "gulf_mexico_aoi = {\n",
    "    \"type\": \"Feature\",\n",
    "    \"properties\": {},\n",
    "    \"geometry\": {\n",
    "        \"coordinates\": [\n",
    "            [\n",
    "                [-94, 27],\n",
    "                [-84, 27],\n",
    "                [-85, 23],\n",
    "                [-94,23],\n",
    "                [-94, 27]\n",
    "            ]\n",
    "        ],\n",
    "        \"type\": \"Polygon\",\n",
    "    },\n",
    "}"
   ]
  },
  {
   "cell_type": "code",
   "execution_count": 83,
   "metadata": {},
   "outputs": [
    {
     "data": {
      "text/html": [
       "<div style=\"width:100%;\"><div style=\"position:relative;width:100%;height:0;padding-bottom:60%;\"><span style=\"color:#565656\">Make this Notebook Trusted to load map: File -> Trust Notebook</span><iframe srcdoc=\"&lt;!DOCTYPE html&gt;\n",
       "&lt;html&gt;\n",
       "&lt;head&gt;\n",
       "    \n",
       "    &lt;meta http-equiv=&quot;content-type&quot; content=&quot;text/html; charset=UTF-8&quot; /&gt;\n",
       "    \n",
       "        &lt;script&gt;\n",
       "            L_NO_TOUCH = false;\n",
       "            L_DISABLE_3D = false;\n",
       "        &lt;/script&gt;\n",
       "    \n",
       "    &lt;style&gt;html, body {width: 100%;height: 100%;margin: 0;padding: 0;}&lt;/style&gt;\n",
       "    &lt;style&gt;#map {position:absolute;top:0;bottom:0;right:0;left:0;}&lt;/style&gt;\n",
       "    &lt;script src=&quot;https://cdn.jsdelivr.net/npm/leaflet@1.9.3/dist/leaflet.js&quot;&gt;&lt;/script&gt;\n",
       "    &lt;script src=&quot;https://code.jquery.com/jquery-1.12.4.min.js&quot;&gt;&lt;/script&gt;\n",
       "    &lt;script src=&quot;https://cdn.jsdelivr.net/npm/bootstrap@5.2.2/dist/js/bootstrap.bundle.min.js&quot;&gt;&lt;/script&gt;\n",
       "    &lt;script src=&quot;https://cdnjs.cloudflare.com/ajax/libs/Leaflet.awesome-markers/2.0.2/leaflet.awesome-markers.js&quot;&gt;&lt;/script&gt;\n",
       "    &lt;link rel=&quot;stylesheet&quot; href=&quot;https://cdn.jsdelivr.net/npm/leaflet@1.9.3/dist/leaflet.css&quot;/&gt;\n",
       "    &lt;link rel=&quot;stylesheet&quot; href=&quot;https://cdn.jsdelivr.net/npm/bootstrap@5.2.2/dist/css/bootstrap.min.css&quot;/&gt;\n",
       "    &lt;link rel=&quot;stylesheet&quot; href=&quot;https://netdna.bootstrapcdn.com/bootstrap/3.0.0/css/bootstrap.min.css&quot;/&gt;\n",
       "    &lt;link rel=&quot;stylesheet&quot; href=&quot;https://cdn.jsdelivr.net/npm/@fortawesome/fontawesome-free@6.2.0/css/all.min.css&quot;/&gt;\n",
       "    &lt;link rel=&quot;stylesheet&quot; href=&quot;https://cdnjs.cloudflare.com/ajax/libs/Leaflet.awesome-markers/2.0.2/leaflet.awesome-markers.css&quot;/&gt;\n",
       "    &lt;link rel=&quot;stylesheet&quot; href=&quot;https://cdn.jsdelivr.net/gh/python-visualization/folium/folium/templates/leaflet.awesome.rotate.min.css&quot;/&gt;\n",
       "    \n",
       "            &lt;meta name=&quot;viewport&quot; content=&quot;width=device-width,\n",
       "                initial-scale=1.0, maximum-scale=1.0, user-scalable=no&quot; /&gt;\n",
       "            &lt;style&gt;\n",
       "                #map_705b62a397e44e1ad3a4b83053e00436 {\n",
       "                    position: relative;\n",
       "                    width: 100.0%;\n",
       "                    height: 100.0%;\n",
       "                    left: 0.0%;\n",
       "                    top: 0.0%;\n",
       "                }\n",
       "                .leaflet-container { font-size: 1rem; }\n",
       "            &lt;/style&gt;\n",
       "        \n",
       "&lt;/head&gt;\n",
       "&lt;body&gt;\n",
       "    \n",
       "    \n",
       "            &lt;div class=&quot;folium-map&quot; id=&quot;map_705b62a397e44e1ad3a4b83053e00436&quot; &gt;&lt;/div&gt;\n",
       "        \n",
       "&lt;/body&gt;\n",
       "&lt;script&gt;\n",
       "    \n",
       "    \n",
       "            var map_705b62a397e44e1ad3a4b83053e00436 = L.map(\n",
       "                &quot;map_705b62a397e44e1ad3a4b83053e00436&quot;,\n",
       "                {\n",
       "                    center: [25.0, -90.0],\n",
       "                    crs: L.CRS.EPSG3857,\n",
       "                    zoom: 6,\n",
       "                    zoomControl: true,\n",
       "                    preferCanvas: false,\n",
       "                }\n",
       "            );\n",
       "\n",
       "            \n",
       "\n",
       "        \n",
       "    \n",
       "            var tile_layer_5fc630e3f99693f83309e4d3657a2fbb = L.tileLayer(\n",
       "                &quot;https://{s}.tile.openstreetmap.org/{z}/{x}/{y}.png&quot;,\n",
       "                {&quot;attribution&quot;: &quot;Data by \\u0026copy; \\u003ca target=\\&quot;_blank\\&quot; href=\\&quot;http://openstreetmap.org\\&quot;\\u003eOpenStreetMap\\u003c/a\\u003e, under \\u003ca target=\\&quot;_blank\\&quot; href=\\&quot;http://www.openstreetmap.org/copyright\\&quot;\\u003eODbL\\u003c/a\\u003e.&quot;, &quot;detectRetina&quot;: false, &quot;maxNativeZoom&quot;: 18, &quot;maxZoom&quot;: 18, &quot;minZoom&quot;: 0, &quot;noWrap&quot;: false, &quot;opacity&quot;: 1, &quot;subdomains&quot;: &quot;abc&quot;, &quot;tms&quot;: false}\n",
       "            ).addTo(map_705b62a397e44e1ad3a4b83053e00436);\n",
       "        \n",
       "    \n",
       "\n",
       "        function geo_json_3cb697bee21811bfc8065de424b8d56d_onEachFeature(feature, layer) {\n",
       "            layer.on({\n",
       "            });\n",
       "        };\n",
       "        var geo_json_3cb697bee21811bfc8065de424b8d56d = L.geoJson(null, {\n",
       "                onEachFeature: geo_json_3cb697bee21811bfc8065de424b8d56d_onEachFeature,\n",
       "            \n",
       "        });\n",
       "\n",
       "        function geo_json_3cb697bee21811bfc8065de424b8d56d_add (data) {\n",
       "            geo_json_3cb697bee21811bfc8065de424b8d56d\n",
       "                .addData(data)\n",
       "                .addTo(map_705b62a397e44e1ad3a4b83053e00436);\n",
       "        }\n",
       "            geo_json_3cb697bee21811bfc8065de424b8d56d_add({&quot;geometry&quot;: {&quot;coordinates&quot;: [[[-94, 27], [-84, 27], [-85, 23], [-94, 23], [-94, 27]]], &quot;type&quot;: &quot;Polygon&quot;}, &quot;properties&quot;: {}, &quot;type&quot;: &quot;Feature&quot;});\n",
       "\n",
       "        \n",
       "&lt;/script&gt;\n",
       "&lt;/html&gt;\" style=\"position:absolute;width:100%;height:100%;left:0;top:0;border:none !important;\" allowfullscreen webkitallowfullscreen mozallowfullscreen></iframe></div></div>"
      ],
      "text/plain": [
       "<folium.folium.Map at 0x2899dfca0>"
      ]
     },
     "execution_count": 83,
     "metadata": {},
     "output_type": "execute_result"
    }
   ],
   "source": [
    "# We'll plug in the coordinates for a location\n",
    "# central to the study area and a reasonable zoom level\n",
    "\n",
    "import folium\n",
    "\n",
    "aoi_map = Map(\n",
    "    tiles=\"OpenStreetMap\",\n",
    "    location=[\n",
    "        25,-90\n",
    "    ],\n",
    "    zoom_start=6,\n",
    ")\n",
    "\n",
    "folium.GeoJson(gulf_mexico_aoi, name=\"Gulf of Mexico\").add_to(aoi_map)\n",
    "aoi_map"
   ]
  },
  {
   "cell_type": "code",
   "execution_count": 84,
   "metadata": {},
   "outputs": [
    {
     "name": "stdout",
     "output_type": "stream",
     "text": [
      "Found 36 items\n"
     ]
    }
   ],
   "source": [
    "# Check total number of items available\n",
    "items = requests.get(\n",
    "    f\"{STAC_API_URL}/collections/{collection_name}/items?limit=600\"\n",
    ").json()[\"features\"]\n",
    "print(f\"Found {len(items)} items\")"
   ]
  },
  {
   "cell_type": "code",
   "execution_count": 85,
   "metadata": {},
   "outputs": [
    {
     "data": {
      "text/plain": [
       "{'id': 'eccodarwin-co2flux-monthgrid-v5-202212',\n",
       " 'bbox': [-180.125, -90.124826629681, 179.875, 89.875173370319],\n",
       " 'type': 'Feature',\n",
       " 'links': [{'rel': 'collection',\n",
       "   'type': 'application/json',\n",
       "   'href': 'https://ghg.center/api/stac/collections/eccodarwin-co2flux-monthgrid-v5'},\n",
       "  {'rel': 'parent',\n",
       "   'type': 'application/json',\n",
       "   'href': 'https://ghg.center/api/stac/collections/eccodarwin-co2flux-monthgrid-v5'},\n",
       "  {'rel': 'root',\n",
       "   'type': 'application/json',\n",
       "   'href': 'https://ghg.center/api/stac/'},\n",
       "  {'rel': 'self',\n",
       "   'type': 'application/geo+json',\n",
       "   'href': 'https://ghg.center/api/stac/collections/eccodarwin-co2flux-monthgrid-v5/items/eccodarwin-co2flux-monthgrid-v5-202212'}],\n",
       " 'assets': {'co2': {'href': 's3://ghgc-data-store/eccodarwin-co2flux-monthgrid-v5/ECCO-Darwin_CO2_flux_202212.tif',\n",
       "   'type': 'image/tiff; application=geotiff',\n",
       "   'roles': ['data', 'layer'],\n",
       "   'title': 'Air-Sea CO2 Flux',\n",
       "   'proj:bbox': [-180.125, -90.124826629681, 179.875, 89.875173370319],\n",
       "   'proj:epsg': 4326.0,\n",
       "   'proj:shape': [721.0, 1440.0],\n",
       "   'description': 'Monthly mean air-sea CO2 Flux (negative into ocean)',\n",
       "   'raster:bands': [{'scale': 1.0,\n",
       "     'offset': 0.0,\n",
       "     'sampling': 'area',\n",
       "     'data_type': 'float64',\n",
       "     'histogram': {'max': 1e+20,\n",
       "      'min': -0.0560546528687938,\n",
       "      'count': 11.0,\n",
       "      'buckets': [338606.0, 0.0, 0.0, 0.0, 0.0, 0.0, 0.0, 0.0, 0.0, 186706.0]},\n",
       "     'statistics': {'mean': 3.554192556042885e+19,\n",
       "      'stddev': 4.786401658343999e+19,\n",
       "      'maximum': 1e+20,\n",
       "      'minimum': -0.0560546528687938,\n",
       "      'valid_percent': 0.0001903630604288499}}],\n",
       "   'proj:geometry': {'type': 'Polygon',\n",
       "    'coordinates': [[[-180.125, -90.124826629681],\n",
       "      [179.875, -90.124826629681],\n",
       "      [179.875, 89.875173370319],\n",
       "      [-180.125, 89.875173370319],\n",
       "      [-180.125, -90.124826629681]]]},\n",
       "   'proj:projjson': {'id': {'code': 4326.0, 'authority': 'EPSG'},\n",
       "    'name': 'WGS 84',\n",
       "    'type': 'GeographicCRS',\n",
       "    'datum': {'name': 'World Geodetic System 1984',\n",
       "     'type': 'GeodeticReferenceFrame',\n",
       "     'ellipsoid': {'name': 'WGS 84',\n",
       "      'semi_major_axis': 6378137.0,\n",
       "      'inverse_flattening': 298.257223563}},\n",
       "    '$schema': 'https://proj.org/schemas/v0.4/projjson.schema.json',\n",
       "    'coordinate_system': {'axis': [{'name': 'Geodetic latitude',\n",
       "       'unit': 'degree',\n",
       "       'direction': 'north',\n",
       "       'abbreviation': 'Lat'},\n",
       "      {'name': 'Geodetic longitude',\n",
       "       'unit': 'degree',\n",
       "       'direction': 'east',\n",
       "       'abbreviation': 'Lon'}],\n",
       "     'subtype': 'ellipsoidal'}},\n",
       "   'proj:transform': [0.25,\n",
       "    0.0,\n",
       "    -180.125,\n",
       "    0.0,\n",
       "    -0.24965325936199723,\n",
       "    89.875173370319,\n",
       "    0.0,\n",
       "    0.0,\n",
       "    1.0]}},\n",
       " 'geometry': {'type': 'Polygon',\n",
       "  'coordinates': [[[-180.125, -90.124826629681],\n",
       "    [179.875, -90.124826629681],\n",
       "    [179.875, 89.875173370319],\n",
       "    [-180.125, 89.875173370319],\n",
       "    [-180.125, -90.124826629681]]]},\n",
       " 'collection': 'eccodarwin-co2flux-monthgrid-v5',\n",
       " 'properties': {'end_datetime': '2022-12-31T00:00:00+00:00',\n",
       "  'start_datetime': '2022-12-01T00:00:00+00:00'},\n",
       " 'stac_version': '1.0.0',\n",
       " 'stac_extensions': ['https://stac-extensions.github.io/raster/v1.1.0/schema.json',\n",
       "  'https://stac-extensions.github.io/projection/v1.1.0/schema.json']}"
      ]
     },
     "execution_count": 85,
     "metadata": {},
     "output_type": "execute_result"
    }
   ],
   "source": [
    "# Explore the first item\n",
    "items[0]"
   ]
  },
  {
   "cell_type": "code",
   "execution_count": 86,
   "metadata": {},
   "outputs": [],
   "source": [
    "# The bounding box should be passed to the geojson param as a geojson Feature or FeatureCollection\n",
    "def generate_stats(item, geojson):\n",
    "    result = requests.post(\n",
    "        f\"{RASTER_API_URL}/cog/statistics\",\n",
    "        params={\"url\": item[\"assets\"][asset_name][\"href\"]},\n",
    "        json=geojson,\n",
    "    ).json()\n",
    "    print(result)\n",
    "    return {\n",
    "        **result[\"properties\"],\n",
    "        \"datetime\": item[\"properties\"][\"start_datetime\"],\n",
    "    }"
   ]
  },
  {
   "cell_type": "code",
   "execution_count": 87,
   "metadata": {},
   "outputs": [
    {
     "name": "stdout",
     "output_type": "stream",
     "text": [
      "2022-12-01T00:00:00+00:00\n"
     ]
    }
   ],
   "source": [
    "for item in items:\n",
    "    print(item[\"properties\"][\"start_datetime\"])\n",
    "    break"
   ]
  },
  {
   "attachments": {},
   "cell_type": "markdown",
   "metadata": {},
   "source": [
    "With the function above we can generate the statistics for the AOI."
   ]
  },
  {
   "cell_type": "code",
   "execution_count": 88,
   "metadata": {},
   "outputs": [
    {
     "name": "stdout",
     "output_type": "stream",
     "text": [
      "{'type': 'Feature', 'geometry': {'type': 'Polygon', 'coordinates': [[[-94.0, 27.0], [-84.0, 27.0], [-85.0, 23.0], [-94.0, 23.0], [-94.0, 27.0]]]}, 'properties': {'statistics': {'b1': {'min': -3.432180631595723e-05, 'max': 2.3301704633944816e-05, 'mean': 2.9837907378513794e-06, 'count': 608.7999877929688, 'sum': 0.0018469664667300038, 'std': 1.5043210707780694e-05, 'median': 6.984856325983938e-06, 'majority': -3.432180631595723e-05, 'minority': -3.432180631595723e-05, 'unique': 619.0, 'histogram': [[27.0, 22.0, 30.0, 44.0, 47.0, 58.0, 64.0, 86.0, 133.0, 108.0], [-3.432180631595723e-05, -2.8559455220967027e-05, -2.279710412597682e-05, -1.703475303098662e-05, -1.1272401935996415e-05, -5.5100508410062094e-06, 2.523002539839923e-07, 6.014651348974201e-06, 1.1777002443964403e-05, 1.7539353538954604e-05, 2.3301704633944816e-05]], 'valid_percent': 96.72, 'masked_pixels': 21.0, 'valid_pixels': 619.0, 'percentile_2': -3.1588106589646895e-05, 'percentile_98': 2.1694713234986116e-05}}}}\n",
      "{'type': 'Feature', 'geometry': {'type': 'Polygon', 'coordinates': [[[-94.0, 27.0], [-84.0, 27.0], [-85.0, 23.0], [-94.0, 23.0], [-94.0, 27.0]]]}, 'properties': {'statistics': {'b1': {'min': 1.331436740388273e-05, 'max': 3.639152718601344e-05, 'mean': 2.4430021614309553e-05, 'count': 608.7999877929688, 'sum': 0.015122183379257614, 'std': 5.120396105182123e-06, 'median': 2.435068983955229e-05, 'majority': 1.331436740388273e-05, 'minority': 1.331436740388273e-05, 'unique': 619.0, 'histogram': [[22.0, 20.0, 19.0, 82.0, 198.0, 138.0, 57.0, 33.0, 22.0, 28.0], [1.331436740388273e-05, 1.56220833820958e-05, 1.7929799360308872e-05, 2.0237515338521944e-05, 2.2545231316735015e-05, 2.4852947294948086e-05, 2.7160663273161157e-05, 2.946837925137423e-05, 3.17760952295873e-05, 3.4083811207800374e-05, 3.639152718601344e-05]], 'valid_percent': 96.72, 'masked_pixels': 21.0, 'valid_pixels': 619.0, 'percentile_2': 1.4437869932115516e-05, 'percentile_98': 3.513476326456787e-05}}}}\n",
      "{'type': 'Feature', 'geometry': {'type': 'Polygon', 'coordinates': [[[-94.0, 27.0], [-84.0, 27.0], [-85.0, 23.0], [-94.0, 23.0], [-94.0, 27.0]]]}, 'properties': {'statistics': {'b1': {'min': 3.441201477699895e-05, 'max': 5.864596386286034e-05, 'mean': 4.4424710537913974e-05, 'count': 608.7999877929688, 'sum': 0.02749889582296875, 'std': 6.073480019224751e-06, 'median': 4.452405506514439e-05, 'majority': 3.441201477699895e-05, 'minority': 3.441201477699895e-05, 'unique': 619.0, 'histogram': [[6.0, 43.0, 67.0, 145.0, 151.0, 99.0, 55.0, 20.0, 13.0, 20.0], [3.441201477699895e-05, 3.683540968558509e-05, 3.9258804594171226e-05, 4.1682199502757364e-05, 4.410559441134351e-05, 4.652898931992965e-05, 4.8952384228515786e-05, 5.1375779137101925e-05, 5.379917404568806e-05, 5.62225689542742e-05, 5.864596386286034e-05]], 'valid_percent': 96.72, 'masked_pixels': 21.0, 'valid_pixels': 619.0, 'percentile_2': 3.8009470410264176e-05, 'percentile_98': 5.718596479884155e-05}}}}\n",
      "{'type': 'Feature', 'geometry': {'type': 'Polygon', 'coordinates': [[[-94.0, 27.0], [-84.0, 27.0], [-85.0, 23.0], [-94.0, 23.0], [-94.0, 27.0]]]}, 'properties': {'statistics': {'b1': {'min': 2.496720735062941e-05, 'max': 5.182953197394151e-05, 'mean': 3.5013506569645584e-05, 'count': 608.7999877929688, 'sum': 0.021673360566610615, 'std': 7.419209666150217e-06, 'median': 3.393558395443455e-05, 'majority': 2.496720735062941e-05, 'minority': 2.496720735062941e-05, 'unique': 619.0, 'histogram': [[34.0, 121.0, 105.0, 92.0, 67.0, 69.0, 46.0, 33.0, 32.0, 20.0], [2.496720735062941e-05, 2.765343981296062e-05, 3.033967227529183e-05, 3.302590473762304e-05, 3.571213719995425e-05, 3.839836966228546e-05, 4.108460212461667e-05, 4.377083458694788e-05, 4.6457067049279085e-05, 4.91432995116103e-05, 5.182953197394151e-05]], 'valid_percent': 96.72, 'masked_pixels': 21.0, 'valid_pixels': 619.0, 'percentile_2': 2.624591199345222e-05, 'percentile_98': 4.978726109761375e-05}}}}\n",
      "{'type': 'Feature', 'geometry': {'type': 'Polygon', 'coordinates': [[[-94.0, 27.0], [-84.0, 27.0], [-85.0, 23.0], [-94.0, 23.0], [-94.0, 27.0]]]}, 'properties': {'statistics': {'b1': {'min': 3.0550022934403614e-05, 'max': 5.545280000399081e-05, 'mean': 4.0077301580092404e-05, 'count': 608.7999877929688, 'sum': 0.0248078496780772, 'std': 7.322973931805168e-06, 'median': 3.887170649209315e-05, 'majority': 3.0550022934403614e-05, 'minority': 3.0550022934403614e-05, 'unique': 619.0, 'histogram': [[35.0, 69.0, 152.0, 100.0, 70.0, 53.0, 44.0, 38.0, 37.0, 21.0], [3.0550022934403614e-05, 3.304030064136233e-05, 3.553057834832105e-05, 3.802085605527977e-05, 4.0511133762238494e-05, 4.300141146919721e-05, 4.549168917615593e-05, 4.7981966883114656e-05, 5.0472244590073375e-05, 5.296252229703209e-05, 5.545280000399081e-05]], 'valid_percent': 96.72, 'masked_pixels': 21.0, 'valid_pixels': 619.0, 'percentile_2': 3.150971863359842e-05, 'percentile_98': 5.456874812634226e-05}}}}\n",
      "{'type': 'Feature', 'geometry': {'type': 'Polygon', 'coordinates': [[[-94.0, 27.0], [-84.0, 27.0], [-85.0, 23.0], [-94.0, 23.0], [-94.0, 27.0]]]}, 'properties': {'statistics': {'b1': {'min': 1.793449134746241e-05, 'max': 4.6493927121610525e-05, 'mean': 2.8793756723236048e-05, 'count': 608.7999877929688, 'sum': 0.017823335411683114, 'std': 9.039963131002573e-06, 'median': 2.7012520006098858e-05, 'majority': 1.793449134746241e-05, 'minority': 1.793449134746241e-05, 'unique': 619.0, 'histogram': [[138.0, 77.0, 87.0, 47.0, 42.0, 45.0, 50.0, 52.0, 56.0, 25.0], [1.793449134746241e-05, 2.0790434924877223e-05, 2.3646378502292033e-05, 2.6502322079706843e-05, 2.9358265657121656e-05, 3.221420923453647e-05, 3.507015281195128e-05, 3.7926096389366096e-05, 4.0782039966780906e-05, 4.3637983544195715e-05, 4.6493927121610525e-05]], 'valid_percent': 96.72, 'masked_pixels': 21.0, 'valid_pixels': 619.0, 'percentile_2': 1.8422715762199423e-05, 'percentile_98': 4.4632804361053454e-05}}}}\n",
      "{'type': 'Feature', 'geometry': {'type': 'Polygon', 'coordinates': [[[-94.0, 27.0], [-84.0, 27.0], [-85.0, 23.0], [-94.0, 23.0], [-94.0, 27.0]]]}, 'properties': {'statistics': {'b1': {'min': 6.666067719379552e-06, 'max': 3.1437153163571355e-05, 'mean': 1.7933082513176412e-05, 'count': 608.7999877929688, 'sum': 0.0111005780756562, 'std': 6.115975987705678e-06, 'median': 1.7298308991966002e-05, 'majority': 6.666067719379552e-06, 'minority': 6.666067719379552e-06, 'unique': 619.0, 'histogram': [[20.0, 60.0, 104.0, 101.0, 74.0, 67.0, 75.0, 59.0, 42.0, 17.0], [6.666067719379552e-06, 9.143176263798732e-06, 1.1620284808217912e-05, 1.4097393352637091e-05, 1.657450189705627e-05, 1.9051610441475452e-05, 2.1528718985894633e-05, 2.4005827530313813e-05, 2.6482936074732994e-05, 2.8960044619152174e-05, 3.1437153163571355e-05]], 'valid_percent': 96.72, 'masked_pixels': 21.0, 'valid_pixels': 619.0, 'percentile_2': 8.78630910019895e-06, 'percentile_98': 2.937603980757211e-05}}}}\n",
      "{'type': 'Feature', 'geometry': {'type': 'Polygon', 'coordinates': [[[-94.0, 27.0], [-84.0, 27.0], [-85.0, 23.0], [-94.0, 23.0], [-94.0, 27.0]]]}, 'properties': {'statistics': {'b1': {'min': -7.255057696975473e-05, 'max': 1.423957862960839e-05, 'mean': -2.5421113267675976e-05, 'count': 608.7999877929688, 'sum': -0.01573566911269143, 'std': 2.323273334924832e-05, 'median': -2.3290219827821726e-05, 'majority': -7.255057696975473e-05, 'minority': -7.255057696975473e-05, 'unique': 619.0, 'histogram': [[31.0, 47.0, 64.0, 64.0, 66.0, 74.0, 89.0, 42.0, 77.0, 65.0], [-7.255057696975473e-05, -6.387156140981841e-05, -5.519254584988211e-05, -4.651353028994579e-05, -3.783451473000948e-05, -2.915549917007317e-05, -2.0476483610136853e-05, -1.1797468050200542e-05, -3.118452490264231e-06, 5.560563069672086e-06, 1.423957862960839e-05]], 'valid_percent': 96.72, 'masked_pixels': 21.0, 'valid_pixels': 619.0, 'percentile_2': -6.806046305986292e-05, 'percentile_98': 1.1133362882081285e-05}}}}\n",
      "{'type': 'Feature', 'geometry': {'type': 'Polygon', 'coordinates': [[[-94.0, 27.0], [-84.0, 27.0], [-85.0, 23.0], [-94.0, 23.0], [-94.0, 27.0]]]}, 'properties': {'statistics': {'b1': {'min': -0.00010402577200079265, 'max': 4.356280671427835e-06, 'mean': -4.669426456943307e-05, 'count': 608.7999877929688, 'sum': -0.02890374976847907, 'std': 2.835483860563303e-05, 'median': -4.502207052284503e-05, 'majority': -0.00010402577200079265, 'minority': -0.00010402577200079265, 'unique': 619.0, 'histogram': [[33.0, 41.0, 73.0, 68.0, 72.0, 74.0, 95.0, 47.0, 65.0, 51.0], [-0.00010402577200079265, -9.31875667335706e-05, -8.234936146634856e-05, -7.151115619912651e-05, -6.067295093190446e-05, -4.983474566468241e-05, -3.899654039746037e-05, -2.8158335130238322e-05, -1.7320129863016272e-05, -6.481924595794222e-06, 4.356280671427835e-06]], 'valid_percent': 96.72, 'masked_pixels': 21.0, 'valid_pixels': 619.0, 'percentile_2': -9.930357369853212e-05, 'percentile_98': 1.0654820366519755e-06}}}}\n",
      "{'type': 'Feature', 'geometry': {'type': 'Polygon', 'coordinates': [[[-94.0, 27.0], [-84.0, 27.0], [-85.0, 23.0], [-94.0, 23.0], [-94.0, 27.0]]]}, 'properties': {'statistics': {'b1': {'min': -0.00010688239692871392, 'max': -7.166182475169512e-06, 'mean': -6.024484000806681e-05, 'count': 608.7999877929688, 'sum': -0.03729155596499335, 'std': 2.7616007546719388e-05, 'median': -6.169004201155102e-05, 'majority': -0.00010688239692871392, 'minority': -0.00010688239692871392, 'unique': 619.0, 'histogram': [[40.0, 95.0, 97.0, 61.0, 52.0, 65.0, 70.0, 50.0, 50.0, 39.0], [-0.00010688239692871392, -9.691077548335949e-05, -8.693915403800504e-05, -7.69675325926506e-05, -6.699591114729615e-05, -5.702428970194172e-05, -4.705266825658728e-05, -3.7081046811232834e-05, -2.71094253658784e-05, -1.7137803920523964e-05, -7.166182475169512e-06]], 'valid_percent': 96.72, 'masked_pixels': 21.0, 'valid_pixels': 619.0, 'percentile_2': -0.00010298696929708474, 'percentile_98': -1.1066776771806965e-05}}}}\n",
      "{'type': 'Feature', 'geometry': {'type': 'Polygon', 'coordinates': [[[-94.0, 27.0], [-84.0, 27.0], [-85.0, 23.0], [-94.0, 23.0], [-94.0, 27.0]]]}, 'properties': {'statistics': {'b1': {'min': -9.318066279905835e-05, 'max': 1.0004882652601927e-06, 'mean': -4.115742004457602e-05, 'count': 608.7999877929688, 'sum': -0.025476443007592556, 'std': 2.672260586031435e-05, 'median': -3.7494982607431176e-05, 'majority': -9.318066279905835e-05, 'minority': -9.318066279905835e-05, 'unique': 619.0, 'histogram': [[32.0, 63.0, 59.0, 60.0, 54.0, 52.0, 66.0, 102.0, 58.0, 73.0], [-9.318066279905835e-05, -8.37625476926265e-05, -7.434443258619464e-05, -6.492631747976278e-05, -5.5508202373330934e-05, -4.609008726689908e-05, -3.667197216046723e-05, -2.725385705403537e-05, -1.7835741947603515e-05, -8.417626841171659e-06, 1.0004882652601927e-06]], 'valid_percent': 96.72, 'masked_pixels': 21.0, 'valid_pixels': 619.0, 'percentile_2': -8.867190947577104e-05, 'percentile_98': -8.591175557221548e-07}}}}\n",
      "{'type': 'Feature', 'geometry': {'type': 'Polygon', 'coordinates': [[[-94.0, 27.0], [-84.0, 27.0], [-85.0, 23.0], [-94.0, 23.0], [-94.0, 27.0]]]}, 'properties': {'statistics': {'b1': {'min': -0.0001422482051579125, 'max': 1.492159917898947e-05, 'mean': -4.80184021063379e-05, 'count': 608.7999877929688, 'sum': -0.029723390903823158, 'std': 4.155083363619667e-05, 'median': -3.81206159637642e-05, 'majority': -0.0001422482051579125, 'minority': -0.0001422482051579125, 'unique': 619.0, 'histogram': [[36.0, 35.0, 34.0, 43.0, 51.0, 64.0, 78.0, 121.0, 89.0, 68.0], [-0.0001422482051579125, -0.00012653122472422232, -0.00011081424429053211, -9.509726385684191e-05, -7.938028342315172e-05, -6.366330298946153e-05, -4.794632255577132e-05, -3.222934212208112e-05, -1.6512361688390928e-05, -7.953812547007377e-07, 1.492159917898947e-05]], 'valid_percent': 96.72, 'masked_pixels': 21.0, 'valid_pixels': 619.0, 'percentile_2': -0.0001352714243218134, 'percentile_98': 8.816979622823016e-06}}}}\n",
      "{'type': 'Feature', 'geometry': {'type': 'Polygon', 'coordinates': [[[-94.0, 27.0], [-84.0, 27.0], [-85.0, 23.0], [-94.0, 23.0], [-94.0, 27.0]]]}, 'properties': {'statistics': {'b1': {'min': -5.063979979934458e-05, 'max': 8.225613196297052e-06, 'mean': -1.8632930525584216e-05, 'count': 608.7999877929688, 'sum': -0.01153378399533663, 'std': 1.586927481516088e-05, 'median': -1.569174533053401e-05, 'majority': -5.063979979934458e-05, 'minority': -5.063979979934458e-05, 'unique': 619.0, 'histogram': [[44.0, 47.0, 50.0, 62.0, 65.0, 54.0, 67.0, 121.0, 65.0, 44.0], [-5.063979979934458e-05, -4.4753258499780416e-05, -3.886671720021625e-05, -3.298017590065209e-05, -2.7093634601087926e-05, -2.1207093301523763e-05, -1.53205520019596e-05, -9.434010702395436e-06, -3.547469402831273e-06, 2.33907189673289e-06, 8.225613196297052e-06]], 'valid_percent': 96.72, 'masked_pixels': 21.0, 'valid_pixels': 619.0, 'percentile_2': -4.8140325987095136e-05, 'percentile_98': 5.825116736277731e-06}}}}\n",
      "{'type': 'Feature', 'geometry': {'type': 'Polygon', 'coordinates': [[[-94.0, 27.0], [-84.0, 27.0], [-85.0, 23.0], [-94.0, 23.0], [-94.0, 27.0]]]}, 'properties': {'statistics': {'b1': {'min': -2.5059659940954886e-05, 'max': 2.412303046264687e-05, 'mean': -2.549927887402253e-06, 'count': 608.7999877929688, 'sum': -0.0015784053623019946, 'std': 1.3737906428813414e-05, 'median': -2.30124058711614e-06, 'majority': -2.5059659940954886e-05, 'minority': -2.5059659940954886e-05, 'unique': 619.0, 'histogram': [[86.0, 67.0, 62.0, 57.0, 57.0, 58.0, 101.0, 52.0, 38.0, 41.0], [-2.5059659940954886e-05, -2.0141390900594712e-05, -1.5223121860234536e-05, -1.0304852819874361e-05, -5.386583779514186e-06, -4.683147391540097e-07, 4.4499543012061635e-06, 9.368223341566337e-06, 1.4286492381926513e-05, 1.920476142228669e-05, 2.412303046264687e-05]], 'valid_percent': 96.72, 'masked_pixels': 21.0, 'valid_pixels': 619.0, 'percentile_2': -2.450167682873838e-05, 'percentile_98': 2.235153810869192e-05}}}}\n",
      "{'type': 'Feature', 'geometry': {'type': 'Polygon', 'coordinates': [[[-94.0, 27.0], [-84.0, 27.0], [-85.0, 23.0], [-94.0, 23.0], [-94.0, 27.0]]]}, 'properties': {'statistics': {'b1': {'min': 1.316864166070086e-05, 'max': 4.352050006066525e-05, 'mean': 2.8915745720128423e-05, 'count': 608.7999877929688, 'sum': 0.017898846600759494, 'std': 7.625669881875488e-06, 'median': 2.972441819970186e-05, 'majority': 1.316864166070086e-05, 'minority': 1.316864166070086e-05, 'unique': 619.0, 'histogram': [[20.0, 39.0, 51.0, 69.0, 74.0, 88.0, 117.0, 80.0, 45.0, 36.0], [1.316864166070086e-05, 1.62038275006973e-05, 1.923901334069374e-05, 2.2274199180690178e-05, 2.5309385020686616e-05, 2.8344570860683054e-05, 3.137975670067949e-05, 3.441494254067593e-05, 3.7450128380672374e-05, 4.048531422066881e-05, 4.352050006066525e-05]], 'valid_percent': 96.72, 'masked_pixels': 21.0, 'valid_pixels': 619.0, 'percentile_2': 1.5821817904888033e-05, 'percentile_98': 4.202142015619444e-05}}}}\n",
      "{'type': 'Feature', 'geometry': {'type': 'Polygon', 'coordinates': [[[-94.0, 27.0], [-84.0, 27.0], [-85.0, 23.0], [-94.0, 23.0], [-94.0, 27.0]]]}, 'properties': {'statistics': {'b1': {'min': 1.994435479924689e-05, 'max': 5.132601294539204e-05, 'mean': 3.406619889965258e-05, 'count': 608.7999877929688, 'sum': 0.02108697711888495, 'std': 9.587985234339733e-06, 'median': 3.4353170304581975e-05, 'majority': 1.994435479924689e-05, 'minority': 1.994435479924689e-05, 'unique': 619.0, 'histogram': [[76.0, 63.0, 81.0, 58.0, 57.0, 56.0, 58.0, 103.0, 33.0, 34.0], [1.994435479924689e-05, 2.3082520613861405e-05, 2.6220686428475922e-05, 2.9358852243090436e-05, 3.249701805770495e-05, 3.563518387231946e-05, 3.877334968693398e-05, 4.19115155015485e-05, 4.5049681316163014e-05, 4.8187847130777525e-05, 5.132601294539204e-05]], 'valid_percent': 96.72, 'masked_pixels': 21.0, 'valid_pixels': 619.0, 'percentile_2': 2.03703596872219e-05, 'percentile_98': 5.0264548627916384e-05}}}}\n",
      "{'type': 'Feature', 'geometry': {'type': 'Polygon', 'coordinates': [[[-94.0, 27.0], [-84.0, 27.0], [-85.0, 23.0], [-94.0, 23.0], [-94.0, 27.0]]]}, 'properties': {'statistics': {'b1': {'min': 3.7606162649931215e-05, 'max': 6.673531781570583e-05, 'mean': 4.8911990808087925e-05, 'count': 608.7999877929688, 'sum': 0.030276522310206427, 'std': 8.016426683934655e-06, 'median': 4.929369935597558e-05, 'majority': 3.7606162649931215e-05, 'minority': 3.7606162649931215e-05, 'unique': 619.0, 'histogram': [[38.0, 95.0, 79.0, 81.0, 83.0, 81.0, 92.0, 43.0, 19.0, 8.0], [3.7606162649931215e-05, 4.0519078166508676e-05, 4.343199368308614e-05, 4.63449091996636e-05, 4.9257824716241065e-05, 5.217074023281852e-05, 5.508365574939599e-05, 5.799657126597345e-05, 6.090948678255091e-05, 6.382240229912836e-05, 6.673531781570583e-05]], 'valid_percent': 96.72, 'masked_pixels': 21.0, 'valid_pixels': 619.0, 'percentile_2': 3.967350084032923e-05, 'percentile_98': 6.251337596428504e-05}}}}\n",
      "{'type': 'Feature', 'geometry': {'type': 'Polygon', 'coordinates': [[[-94.0, 27.0], [-84.0, 27.0], [-85.0, 23.0], [-94.0, 23.0], [-94.0, 27.0]]]}, 'properties': {'statistics': {'b1': {'min': 2.0867983154120963e-05, 'max': 4.1377684084333106e-05, 'mean': 2.9212259711973187e-05, 'count': 608.7999877929688, 'sum': 0.018082388761711404, 'std': 6.051824198848501e-06, 'median': 2.9414836501036218e-05, 'majority': 2.0867983154120963e-05, 'minority': 2.0867983154120963e-05, 'unique': 619.0, 'histogram': [[61.0, 79.0, 83.0, 65.0, 86.0, 67.0, 69.0, 50.0, 40.0, 19.0], [2.0867983154120963e-05, 2.2918953247142178e-05, 2.4969923340163393e-05, 2.7020893433184604e-05, 2.907186352620582e-05, 3.112283361922704e-05, 3.3173803712248246e-05, 3.522477380526946e-05, 3.7275743898290676e-05, 3.932671399131189e-05, 4.1377684084333106e-05]], 'valid_percent': 96.72, 'masked_pixels': 21.0, 'valid_pixels': 619.0, 'percentile_2': 2.1221282420116663e-05, 'percentile_98': 3.9893154742292655e-05}}}}\n",
      "{'type': 'Feature', 'geometry': {'type': 'Polygon', 'coordinates': [[[-94.0, 27.0], [-84.0, 27.0], [-85.0, 23.0], [-94.0, 23.0], [-94.0, 27.0]]]}, 'properties': {'statistics': {'b1': {'min': 2.0207583915470194e-05, 'max': 4.4336061829772724e-05, 'mean': 3.1592771256298096e-05, 'count': 608.7999877929688, 'sum': 0.01955592540764852, 'std': 7.061785170403612e-06, 'median': 3.23420572993567e-05, 'majority': 2.0207583915470194e-05, 'minority': 2.0207583915470194e-05, 'unique': 619.0, 'histogram': [[53.0, 51.0, 50.0, 84.0, 69.0, 69.0, 95.0, 89.0, 34.0, 25.0], [2.0207583915470194e-05, 2.2620431706900446e-05, 2.5033279498330698e-05, 2.7446127289760954e-05, 2.9858975081191206e-05, 3.227182287262146e-05, 3.4684670664051714e-05, 3.709751845548197e-05, 3.951036624691222e-05, 4.192321403834247e-05, 4.4336061829772724e-05]], 'valid_percent': 96.72, 'masked_pixels': 21.0, 'valid_pixels': 619.0, 'percentile_2': 2.0847401937436187e-05, 'percentile_98': 4.2970800658677816e-05}}}}\n",
      "{'type': 'Feature', 'geometry': {'type': 'Polygon', 'coordinates': [[[-94.0, 27.0], [-84.0, 27.0], [-85.0, 23.0], [-94.0, 23.0], [-94.0, 27.0]]]}, 'properties': {'statistics': {'b1': {'min': -5.78650960773985e-06, 'max': 3.157763426337388e-05, 'mean': 1.4480010798288284e-05, 'count': 608.7999877929688, 'sum': 0.008963126684140447, 'std': 9.792925062170146e-06, 'median': 1.5313859086466225e-05, 'majority': -5.78650960773985e-06, 'minority': -5.78650960773985e-06, 'unique': 619.0, 'histogram': [[18.0, 52.0, 71.0, 69.0, 53.0, 66.0, 67.0, 89.0, 93.0, 41.0], [-5.78650960773985e-06, -2.0500952206284765e-06, 1.6863191664828966e-06, 5.4227335535942705e-06, 9.159147940705644e-06, 1.2895562327817016e-05, 1.663197671492839e-05, 2.0368391102039764e-05, 2.4104805489151136e-05, 2.784121987626251e-05, 3.157763426337388e-05]], 'valid_percent': 96.72, 'masked_pixels': 21.0, 'valid_pixels': 619.0, 'percentile_2': -3.2434097333742172e-06, 'percentile_98': 2.9249433748542906e-05}}}}\n",
      "{'type': 'Feature', 'geometry': {'type': 'Polygon', 'coordinates': [[[-94.0, 27.0], [-84.0, 27.0], [-85.0, 23.0], [-94.0, 23.0], [-94.0, 27.0]]]}, 'properties': {'statistics': {'b1': {'min': -6.430113542620799e-05, 'max': 7.195314753127538e-06, 'mean': -2.4672871399195352e-05, 'count': 608.7999877929688, 'sum': -0.015272507396101923, 'std': 1.7093216656621673e-05, 'median': -2.3583630370275196e-05, 'majority': -6.430113542620799e-05, 'minority': -6.430113542620799e-05, 'unique': 619.0, 'histogram': [[24.0, 31.0, 42.0, 79.0, 78.0, 91.0, 105.0, 65.0, 61.0, 43.0], [-6.430113542620799e-05, -5.715149040827444e-05, -5.0001845390340886e-05, -4.285220037240733e-05, -3.570255535447378e-05, -2.8552910336540227e-05, -2.140326531860667e-05, -1.4253620300673118e-05, -7.103975282739567e-06, 4.566973519398352e-08, 7.195314753127538e-06]], 'valid_percent': 96.72, 'masked_pixels': 21.0, 'valid_pixels': 619.0, 'percentile_2': -6.0207201920792825e-05, 'percentile_98': 4.348678369240984e-06}}}}\n",
      "{'type': 'Feature', 'geometry': {'type': 'Polygon', 'coordinates': [[[-94.0, 27.0], [-84.0, 27.0], [-85.0, 23.0], [-94.0, 23.0], [-94.0, 27.0]]]}, 'properties': {'statistics': {'b1': {'min': -9.717767856752042e-05, 'max': -1.2708854765543403e-05, 'mean': -5.648346327305667e-05, 'count': 608.7999877929688, 'sum': -0.03496326376602208, 'std': 2.2731350191968654e-05, 'median': -5.684413928965937e-05, 'majority': -9.717767856752042e-05, 'minority': -9.717767856752042e-05, 'unique': 619.0, 'histogram': [[43.0, 61.0, 85.0, 71.0, 77.0, 108.0, 37.0, 36.0, 59.0, 42.0], [-9.717767856752042e-05, -8.873079618732272e-05, -8.028391380712502e-05, -7.183703142692731e-05, -6.339014904672962e-05, -5.494326666653192e-05, -4.6496384286334216e-05, -3.804950190613651e-05, -2.9602619525938815e-05, -2.115573714574112e-05, -1.2708854765543403e-05]], 'valid_percent': 96.72, 'masked_pixels': 21.0, 'valid_pixels': 619.0, 'percentile_2': -9.346739699818799e-05, 'percentile_98': -1.5999064022779354e-05}}}}\n",
      "{'type': 'Feature', 'geometry': {'type': 'Polygon', 'coordinates': [[[-94.0, 27.0], [-84.0, 27.0], [-85.0, 23.0], [-94.0, 23.0], [-94.0, 27.0]]]}, 'properties': {'statistics': {'b1': {'min': -0.00010827484318077406, 'max': -1.8299923855515085e-05, 'mean': -6.215035433352368e-05, 'count': 608.7999877929688, 'sum': -0.03847106933245116, 'std': 2.3740140924105376e-05, 'median': -6.220146959628384e-05, 'majority': -0.00010827484318077406, 'minority': -0.00010827484318077406, 'unique': 619.0, 'histogram': [[20.0, 74.0, 80.0, 67.0, 65.0, 74.0, 91.0, 52.0, 54.0, 42.0], [-0.00010827484318077406, -9.927735124824817e-05, -9.027985931572227e-05, -8.128236738319637e-05, -7.228487545067047e-05, -6.328738351814458e-05, -5.428989158561868e-05, -4.529239965309278e-05, -3.6294907720566886e-05, -2.7297415788040994e-05, -1.8299923855515085e-05]], 'valid_percent': 96.72, 'masked_pixels': 21.0, 'valid_pixels': 619.0, 'percentile_2': -0.00010050626478409599, 'percentile_98': -2.1641725302424787e-05}}}}\n",
      "{'type': 'Feature', 'geometry': {'type': 'Polygon', 'coordinates': [[[-94.0, 27.0], [-84.0, 27.0], [-85.0, 23.0], [-94.0, 23.0], [-94.0, 27.0]]]}, 'properties': {'statistics': {'b1': {'min': -9.92620215161861e-05, 'max': -2.2248864596414117e-05, 'mean': -5.60195743559873e-05, 'count': 608.7999877929688, 'sum': -0.03467611652635614, 'std': 1.7921652338359224e-05, 'median': -5.613722460727431e-05, 'majority': -9.92620215161861e-05, 'minority': -9.92620215161861e-05, 'unique': 619.0, 'histogram': [[8.0, 15.0, 51.0, 112.0, 85.0, 76.0, 98.0, 86.0, 40.0, 48.0], [-9.92620215161861e-05, -9.15607058242089e-05, -8.385939013223171e-05, -7.615807444025451e-05, -6.845675874827731e-05, -6.0755443056300114e-05, -5.3054127364322916e-05, -4.535281167234572e-05, -3.765149598036852e-05, -2.9950180288391322e-05, -2.2248864596414117e-05]], 'valid_percent': 96.72, 'masked_pixels': 21.0, 'valid_pixels': 619.0, 'percentile_2': -8.862274142535779e-05, 'percentile_98': -2.539949073924052e-05}}}}\n",
      "{'type': 'Feature', 'geometry': {'type': 'Polygon', 'coordinates': [[[-94.0, 27.0], [-84.0, 27.0], [-85.0, 23.0], [-94.0, 23.0], [-94.0, 27.0]]]}, 'properties': {'statistics': {'b1': {'min': -7.885539277237652e-05, 'max': -1.4046228209583328e-05, 'mean': -4.0585354800609836e-05, 'count': 608.7999877929688, 'sum': -0.025122334621577487, 'std': 1.6883184747241513e-05, 'median': -3.8374908984569766e-05, 'majority': -7.885539277237652e-05, 'minority': -7.885539277237652e-05, 'unique': 619.0, 'histogram': [[15.0, 26.0, 74.0, 70.0, 61.0, 53.0, 75.0, 84.0, 109.0, 52.0], [-7.885539277237652e-05, -7.23744763160972e-05, -6.589355985981788e-05, -5.941264340353856e-05, -5.2931726947259243e-05, -4.6450810490979924e-05, -3.996989403470061e-05, -3.348897757842129e-05, -2.700806112214197e-05, -2.052714466586265e-05, -1.4046228209583328e-05]], 'valid_percent': 96.72, 'masked_pixels': 21.0, 'valid_pixels': 619.0, 'percentile_2': -7.372101227537506e-05, 'percentile_98': -1.5949860387221954e-05}}}}\n",
      "{'type': 'Feature', 'geometry': {'type': 'Polygon', 'coordinates': [[[-94.0, 27.0], [-84.0, 27.0], [-85.0, 23.0], [-94.0, 23.0], [-94.0, 27.0]]]}, 'properties': {'statistics': {'b1': {'min': -3.353270152446263e-05, 'max': 3.4953422010845556e-05, 'mean': -4.735804251910216e-06, 'count': 608.7999877929688, 'sum': -0.002931462831932424, 'std': 1.7526242132609594e-05, 'median': -4.361180453388619e-06, 'majority': -3.353270152446263e-05, 'minority': -3.353270152446263e-05, 'unique': 619.0, 'histogram': [[76.0, 86.0, 72.0, 64.0, 66.0, 88.0, 72.0, 44.0, 27.0, 24.0], [-3.353270152446263e-05, -2.6684089170931812e-05, -1.983547681740099e-05, -1.2986864463870171e-05, -6.138252110339354e-06, 7.103602431914632e-07, 7.558972596722287e-06, 1.4407584950253104e-05, 2.125619730378392e-05, 2.8104809657314745e-05, 3.4953422010845556e-05]], 'valid_percent': 96.72, 'masked_pixels': 21.0, 'valid_pixels': 619.0, 'percentile_2': -3.162456524554327e-05, 'percentile_98': 3.182003383264205e-05}}}}\n",
      "{'type': 'Feature', 'geometry': {'type': 'Polygon', 'coordinates': [[[-94.0, 27.0], [-84.0, 27.0], [-85.0, 23.0], [-94.0, 23.0], [-94.0, 27.0]]]}, 'properties': {'statistics': {'b1': {'min': 6.469128915199668e-06, 'max': 6.885748048418978e-05, 'mean': 3.918405840226046e-05, 'count': 608.7999877929688, 'sum': 0.024254932150999227, 'std': 1.7899196884845035e-05, 'median': 3.874930083126464e-05, 'majority': 6.469128915199668e-06, 'minority': 6.469128915199668e-06, 'unique': 619.0, 'histogram': [[44.0, 50.0, 57.0, 59.0, 71.0, 71.0, 62.0, 60.0, 71.0, 74.0], [6.469128915199668e-06, 1.2707964072098681e-05, 1.8946799228997692e-05, 2.5185634385896706e-05, 3.142446954279572e-05, 3.766330469969473e-05, 4.390213985659375e-05, 5.014097501349276e-05, 5.637981017039177e-05, 6.261864532729078e-05, 6.885748048418978e-05]], 'valid_percent': 96.72, 'masked_pixels': 21.0, 'valid_pixels': 619.0, 'percentile_2': 7.95205482967914e-06, 'percentile_98': 6.652739228887438e-05}}}}\n",
      "{'type': 'Feature', 'geometry': {'type': 'Polygon', 'coordinates': [[[-94.0, 27.0], [-84.0, 27.0], [-85.0, 23.0], [-94.0, 23.0], [-94.0, 27.0]]]}, 'properties': {'statistics': {'b1': {'min': 3.761520894947776e-05, 'max': 5.955634535330163e-05, 'mean': 4.528865822670517e-05, 'count': 608.7999877929688, 'sum': 0.028033679442330497, 'std': 6.496549271327865e-06, 'median': 4.551849263398211e-05, 'majority': 3.761520894947776e-05, 'minority': 3.761520894947776e-05, 'unique': 619.0, 'histogram': [[25.0, 76.0, 126.0, 137.0, 96.0, 75.0, 44.0, 20.0, 15.0, 5.0], [3.761520894947776e-05, 3.980932258986015e-05, 4.200343623024253e-05, 4.419754987062492e-05, 4.639166351100731e-05, 4.858577715138969e-05, 5.077989079177208e-05, 5.297400443215447e-05, 5.516811807253685e-05, 5.736223171291924e-05, 5.955634535330163e-05]], 'valid_percent': 96.72, 'masked_pixels': 21.0, 'valid_pixels': 619.0, 'percentile_2': 3.922620656781445e-05, 'percentile_98': 5.6162919224573475e-05}}}}\n",
      "{'type': 'Feature', 'geometry': {'type': 'Polygon', 'coordinates': [[[-94.0, 27.0], [-84.0, 27.0], [-85.0, 23.0], [-94.0, 23.0], [-94.0, 27.0]]]}, 'properties': {'statistics': {'b1': {'min': 3.2313986746042745e-05, 'max': 5.329126175271288e-05, 'mean': 4.2756974959884414e-05, 'count': 608.7999877929688, 'sum': 0.02646656750016845, 'std': 6.138926057304236e-06, 'median': 4.313465079693175e-05, 'majority': 3.2313986746042745e-05, 'minority': 3.2313986746042745e-05, 'unique': 619.0, 'histogram': [[11.0, 12.0, 20.0, 124.0, 120.0, 118.0, 94.0, 58.0, 37.0, 25.0], [3.2313986746042745e-05, 3.441171424670976e-05, 3.650944174737677e-05, 3.860716924804378e-05, 4.07048967487108e-05, 4.280262424937781e-05, 4.490035175004482e-05, 4.6998079250711834e-05, 4.909580675137885e-05, 5.1193534252045865e-05, 5.329126175271288e-05]], 'valid_percent': 96.72, 'masked_pixels': 21.0, 'valid_pixels': 619.0, 'percentile_2': 3.482474228636712e-05, 'percentile_98': 5.1838928102583855e-05}}}}\n",
      "{'type': 'Feature', 'geometry': {'type': 'Polygon', 'coordinates': [[[-94.0, 27.0], [-84.0, 27.0], [-85.0, 23.0], [-94.0, 23.0], [-94.0, 27.0]]]}, 'properties': {'statistics': {'b1': {'min': 3.4334151000503605e-05, 'max': 5.3393410642218494e-05, 'mean': 4.0700435335494155e-05, 'count': 608.7999877929688, 'sum': 0.02519356947267088, 'std': 6.682531699975243e-06, 'median': 3.97282039231459e-05, 'majority': 3.4334151000503605e-05, 'minority': 3.4334151000503605e-05, 'unique': 619.0, 'histogram': [[107.0, 115.0, 85.0, 60.0, 47.0, 55.0, 46.0, 43.0, 49.0, 12.0], [3.4334151000503605e-05, 3.62400769646751e-05, 3.814600292884658e-05, 4.005192889301807e-05, 4.195785485718956e-05, 4.386378082136105e-05, 4.576970678553254e-05, 4.7675632749704026e-05, 4.958155871387552e-05, 5.148748467804701e-05, 5.3393410642218494e-05]], 'valid_percent': 96.72, 'masked_pixels': 21.0, 'valid_pixels': 619.0, 'percentile_2': 3.4688929146044206e-05, 'percentile_98': 5.1433577905900137e-05}}}}\n",
      "{'type': 'Feature', 'geometry': {'type': 'Polygon', 'coordinates': [[[-94.0, 27.0], [-84.0, 27.0], [-85.0, 23.0], [-94.0, 23.0], [-94.0, 27.0]]]}, 'properties': {'statistics': {'b1': {'min': 1.3046732118252856e-05, 'max': 4.69918575601015e-05, 'mean': 3.2395928197003725e-05, 'count': 608.7999877929688, 'sum': 0.020053079553945308, 'std': 9.558525820408142e-06, 'median': 3.439666778741405e-05, 'majority': 1.3046732118252856e-05, 'minority': 1.3046732118252856e-05, 'unique': 619.0, 'histogram': [[29.0, 46.0, 46.0, 46.0, 46.0, 69.0, 86.0, 92.0, 110.0, 49.0], [1.3046732118252856e-05, 1.644124466243772e-05, 1.9835757206622584e-05, 2.323026975080745e-05, 2.6624782294992313e-05, 3.0019294839177177e-05, 3.3413807383362044e-05, 3.68083199275469e-05, 4.020283247173177e-05, 4.359734501591663e-05, 4.69918575601015e-05]], 'valid_percent': 96.72, 'masked_pixels': 21.0, 'valid_pixels': 619.0, 'percentile_2': 1.5275436163782438e-05, 'percentile_98': 4.585582534017002e-05}}}}\n",
      "{'type': 'Feature', 'geometry': {'type': 'Polygon', 'coordinates': [[[-94.0, 27.0], [-84.0, 27.0], [-85.0, 23.0], [-94.0, 23.0], [-94.0, 27.0]]]}, 'properties': {'statistics': {'b1': {'min': -8.139985841438919e-06, 'max': 2.973476406140739e-05, 'mean': 1.0325142499662181e-05, 'count': 608.7999877929688, 'sum': 0.0063912632072908905, 'std': 9.571587193673986e-06, 'median': 1.1173438163617432e-05, 'majority': -8.139985841438919e-06, 'minority': -8.139985841438919e-06, 'unique': 619.0, 'histogram': [[38.0, 69.0, 78.0, 51.0, 63.0, 77.0, 83.0, 83.0, 63.0, 14.0], [-8.139985841438919e-06, -4.352510851154288e-06, -5.650358608696578e-07, 3.2224391294149723e-06, 7.009914119699603e-06, 1.0797389109984234e-05, 1.4584864100268863e-05, 1.8372339090553494e-05, 2.2159814080838123e-05, 2.594728907112276e-05, 2.973476406140739e-05]], 'valid_percent': 96.72, 'masked_pixels': 21.0, 'valid_pixels': 619.0, 'percentile_2': -5.818214950441399e-06, 'percentile_98': 2.5985971012309624e-05}}}}\n",
      "{'type': 'Feature', 'geometry': {'type': 'Polygon', 'coordinates': [[[-94.0, 27.0], [-84.0, 27.0], [-85.0, 23.0], [-94.0, 23.0], [-94.0, 27.0]]]}, 'properties': {'statistics': {'b1': {'min': -3.1012526700140845e-05, 'max': 1.8262199019635504e-05, 'mean': -1.1401819078112475e-06, 'count': 608.7999877929688, 'sum': -0.0007057726009351622, 'std': 1.1837109914666185e-05, 'median': 1.6378357812606576e-06, 'majority': -3.1012526700140845e-05, 'minority': -3.1012526700140845e-05, 'unique': 619.0, 'histogram': [[20.0, 34.0, 37.0, 46.0, 58.0, 62.0, 78.0, 152.0, 86.0, 46.0], [-3.1012526700140845e-05, -2.608505412816321e-05, -2.1157581556185574e-05, -1.6230108984207942e-05, -1.1302636412230306e-05, -6.3751638402526704e-06, -1.4476912682750382e-06, 3.479781303702601e-06, 8.407253875680233e-06, 1.3334726447657865e-05, 1.8262199019635504e-05]], 'valid_percent': 96.72, 'masked_pixels': 21.0, 'valid_pixels': 619.0, 'percentile_2': -2.6774948273123854e-05, 'percentile_98': 1.6342775883263637e-05}}}}\n",
      "{'type': 'Feature', 'geometry': {'type': 'Polygon', 'coordinates': [[[-94.0, 27.0], [-84.0, 27.0], [-85.0, 23.0], [-94.0, 23.0], [-94.0, 27.0]]]}, 'properties': {'statistics': {'b1': {'min': -7.997852596560675e-05, 'max': -8.269624106640244e-06, 'mean': -4.793461961689403e-05, 'count': 608.7999877929688, 'sum': -0.029671529542857407, 'std': 1.9989055951189148e-05, 'median': -4.891792698319347e-05, 'majority': -7.997852596560675e-05, 'minority': -7.997852596560675e-05, 'unique': 619.0, 'histogram': [[80.0, 61.0, 67.0, 87.0, 121.0, 48.0, 31.0, 30.0, 46.0, 48.0], [-7.997852596560675e-05, -7.28076357797101e-05, -6.563674559381345e-05, -5.846585540791679e-05, -5.129496522202014e-05, -4.4124075036123494e-05, -3.695318485022684e-05, -2.9782294664330188e-05, -2.261140447843354e-05, -1.544051429253689e-05, -8.269624106640244e-06]], 'valid_percent': 96.72, 'masked_pixels': 21.0, 'valid_pixels': 619.0, 'percentile_2': -7.803000965376537e-05, 'percentile_98': -1.033555551211828e-05}}}}\n",
      "{'type': 'Feature', 'geometry': {'type': 'Polygon', 'coordinates': [[[-94.0, 27.0], [-84.0, 27.0], [-85.0, 23.0], [-94.0, 23.0], [-94.0, 27.0]]]}, 'properties': {'statistics': {'b1': {'min': -0.00011146956360639423, 'max': -7.571998619056863e-06, 'mean': -6.317081964114835e-05, 'count': 608.7999877929688, 'sum': -0.03910273735787083, 'std': 2.8116364733872533e-05, 'median': -6.171586726662852e-05, 'majority': -0.00011146956360639423, 'minority': -0.00011146956360639423, 'unique': 619.0, 'histogram': [[51.0, 89.0, 74.0, 55.0, 60.0, 95.0, 82.0, 33.0, 41.0, 39.0], [-0.00011146956360639423, -0.0001010798071076605, -9.069005060892676e-05, -8.030029411019301e-05, -6.991053761145928e-05, -5.9520781112725546e-05, -4.913102461399181e-05, -3.874126811525808e-05, -2.8351511616524333e-05, -1.796175511779059e-05, -7.571998619056863e-06]], 'valid_percent': 96.72, 'masked_pixels': 21.0, 'valid_pixels': 619.0, 'percentile_2': -0.00010717370899643795, 'percentile_98': -1.1217420558344485e-05}}}}\n",
      "{'type': 'Feature', 'geometry': {'type': 'Polygon', 'coordinates': [[[-94.0, 27.0], [-84.0, 27.0], [-85.0, 23.0], [-94.0, 23.0], [-94.0, 27.0]]]}, 'properties': {'statistics': {'b1': {'min': -9.466197533351959e-05, 'max': -9.61733885294746e-06, 'mean': -4.8259057714546494e-05, 'count': 608.7999877929688, 'sum': -0.029872356725304278, 'std': 2.3438613300768743e-05, 'median': -4.393898330523922e-05, 'majority': -9.466197533351959e-05, 'minority': -9.466197533351959e-05, 'unique': 619.0, 'histogram': [[19.0, 71.0, 84.0, 56.0, 46.0, 45.0, 68.0, 112.0, 68.0, 50.0], [-9.466197533351959e-05, -8.615751168546237e-05, -7.765304803740517e-05, -6.914858438934796e-05, -6.064412074129074e-05, -5.213965709323353e-05, -4.363519344517632e-05, -3.513072979711911e-05, -2.6626266149061895e-05, -1.812180250100468e-05, -9.61733885294746e-06]], 'valid_percent': 96.72, 'masked_pixels': 21.0, 'valid_pixels': 619.0, 'percentile_2': -8.807461078928826e-05, 'percentile_98': -1.2667326672290707e-05}}}}\n",
      "CPU times: user 921 ms, sys: 116 ms, total: 1.04 s\n",
      "Wall time: 26.7 s\n"
     ]
    }
   ],
   "source": [
    "%%time\n",
    "stats = [generate_stats(item, gulf_mexico_aoi) for item in items]"
   ]
  },
  {
   "cell_type": "code",
   "execution_count": 89,
   "metadata": {},
   "outputs": [
    {
     "data": {
      "text/plain": [
       "{'statistics': {'b1': {'min': -3.432180631595723e-05,\n",
       "   'max': 2.3301704633944816e-05,\n",
       "   'mean': 2.9837907378513794e-06,\n",
       "   'count': 608.7999877929688,\n",
       "   'sum': 0.0018469664667300038,\n",
       "   'std': 1.5043210707780694e-05,\n",
       "   'median': 6.984856325983938e-06,\n",
       "   'majority': -3.432180631595723e-05,\n",
       "   'minority': -3.432180631595723e-05,\n",
       "   'unique': 619.0,\n",
       "   'histogram': [[27.0,\n",
       "     22.0,\n",
       "     30.0,\n",
       "     44.0,\n",
       "     47.0,\n",
       "     58.0,\n",
       "     64.0,\n",
       "     86.0,\n",
       "     133.0,\n",
       "     108.0],\n",
       "    [-3.432180631595723e-05,\n",
       "     -2.8559455220967027e-05,\n",
       "     -2.279710412597682e-05,\n",
       "     -1.703475303098662e-05,\n",
       "     -1.1272401935996415e-05,\n",
       "     -5.5100508410062094e-06,\n",
       "     2.523002539839923e-07,\n",
       "     6.014651348974201e-06,\n",
       "     1.1777002443964403e-05,\n",
       "     1.7539353538954604e-05,\n",
       "     2.3301704633944816e-05]],\n",
       "   'valid_percent': 96.72,\n",
       "   'masked_pixels': 21.0,\n",
       "   'valid_pixels': 619.0,\n",
       "   'percentile_2': -3.1588106589646895e-05,\n",
       "   'percentile_98': 2.1694713234986116e-05}},\n",
       " 'datetime': '2022-12-01T00:00:00+00:00'}"
      ]
     },
     "execution_count": 89,
     "metadata": {},
     "output_type": "execute_result"
    }
   ],
   "source": [
    "stats[0]"
   ]
  },
  {
   "cell_type": "code",
   "execution_count": 90,
   "metadata": {},
   "outputs": [
    {
     "data": {
      "text/html": [
       "<div>\n",
       "<style scoped>\n",
       "    .dataframe tbody tr th:only-of-type {\n",
       "        vertical-align: middle;\n",
       "    }\n",
       "\n",
       "    .dataframe tbody tr th {\n",
       "        vertical-align: top;\n",
       "    }\n",
       "\n",
       "    .dataframe thead th {\n",
       "        text-align: right;\n",
       "    }\n",
       "</style>\n",
       "<table border=\"1\" class=\"dataframe\">\n",
       "  <thead>\n",
       "    <tr style=\"text-align: right;\">\n",
       "      <th></th>\n",
       "      <th>datetime</th>\n",
       "      <th>min</th>\n",
       "      <th>max</th>\n",
       "      <th>mean</th>\n",
       "      <th>count</th>\n",
       "      <th>sum</th>\n",
       "      <th>std</th>\n",
       "      <th>median</th>\n",
       "      <th>majority</th>\n",
       "      <th>minority</th>\n",
       "      <th>unique</th>\n",
       "      <th>histogram</th>\n",
       "      <th>valid_percent</th>\n",
       "      <th>masked_pixels</th>\n",
       "      <th>valid_pixels</th>\n",
       "      <th>percentile_2</th>\n",
       "      <th>percentile_98</th>\n",
       "      <th>date</th>\n",
       "    </tr>\n",
       "  </thead>\n",
       "  <tbody>\n",
       "    <tr>\n",
       "      <th>0</th>\n",
       "      <td>2022-12-01T00:00:00+00:00</td>\n",
       "      <td>-0.000034</td>\n",
       "      <td>0.000023</td>\n",
       "      <td>0.000003</td>\n",
       "      <td>608.799988</td>\n",
       "      <td>0.001847</td>\n",
       "      <td>0.000015</td>\n",
       "      <td>0.000007</td>\n",
       "      <td>-0.000034</td>\n",
       "      <td>-0.000034</td>\n",
       "      <td>619.0</td>\n",
       "      <td>[[27.0, 22.0, 30.0, 44.0, 47.0, 58.0, 64.0, 86...</td>\n",
       "      <td>96.72</td>\n",
       "      <td>21.0</td>\n",
       "      <td>619.0</td>\n",
       "      <td>-0.000032</td>\n",
       "      <td>0.000022</td>\n",
       "      <td>2022-12-01 00:00:00+00:00</td>\n",
       "    </tr>\n",
       "    <tr>\n",
       "      <th>1</th>\n",
       "      <td>2022-11-01T00:00:00+00:00</td>\n",
       "      <td>0.000013</td>\n",
       "      <td>0.000036</td>\n",
       "      <td>0.000024</td>\n",
       "      <td>608.799988</td>\n",
       "      <td>0.015122</td>\n",
       "      <td>0.000005</td>\n",
       "      <td>0.000024</td>\n",
       "      <td>0.000013</td>\n",
       "      <td>0.000013</td>\n",
       "      <td>619.0</td>\n",
       "      <td>[[22.0, 20.0, 19.0, 82.0, 198.0, 138.0, 57.0, ...</td>\n",
       "      <td>96.72</td>\n",
       "      <td>21.0</td>\n",
       "      <td>619.0</td>\n",
       "      <td>0.000014</td>\n",
       "      <td>0.000035</td>\n",
       "      <td>2022-11-01 00:00:00+00:00</td>\n",
       "    </tr>\n",
       "    <tr>\n",
       "      <th>2</th>\n",
       "      <td>2022-10-01T00:00:00+00:00</td>\n",
       "      <td>0.000034</td>\n",
       "      <td>0.000059</td>\n",
       "      <td>0.000044</td>\n",
       "      <td>608.799988</td>\n",
       "      <td>0.027499</td>\n",
       "      <td>0.000006</td>\n",
       "      <td>0.000045</td>\n",
       "      <td>0.000034</td>\n",
       "      <td>0.000034</td>\n",
       "      <td>619.0</td>\n",
       "      <td>[[6.0, 43.0, 67.0, 145.0, 151.0, 99.0, 55.0, 2...</td>\n",
       "      <td>96.72</td>\n",
       "      <td>21.0</td>\n",
       "      <td>619.0</td>\n",
       "      <td>0.000038</td>\n",
       "      <td>0.000057</td>\n",
       "      <td>2022-10-01 00:00:00+00:00</td>\n",
       "    </tr>\n",
       "    <tr>\n",
       "      <th>3</th>\n",
       "      <td>2022-09-01T00:00:00+00:00</td>\n",
       "      <td>0.000025</td>\n",
       "      <td>0.000052</td>\n",
       "      <td>0.000035</td>\n",
       "      <td>608.799988</td>\n",
       "      <td>0.021673</td>\n",
       "      <td>0.000007</td>\n",
       "      <td>0.000034</td>\n",
       "      <td>0.000025</td>\n",
       "      <td>0.000025</td>\n",
       "      <td>619.0</td>\n",
       "      <td>[[34.0, 121.0, 105.0, 92.0, 67.0, 69.0, 46.0, ...</td>\n",
       "      <td>96.72</td>\n",
       "      <td>21.0</td>\n",
       "      <td>619.0</td>\n",
       "      <td>0.000026</td>\n",
       "      <td>0.000050</td>\n",
       "      <td>2022-09-01 00:00:00+00:00</td>\n",
       "    </tr>\n",
       "    <tr>\n",
       "      <th>4</th>\n",
       "      <td>2022-08-01T00:00:00+00:00</td>\n",
       "      <td>0.000031</td>\n",
       "      <td>0.000055</td>\n",
       "      <td>0.000040</td>\n",
       "      <td>608.799988</td>\n",
       "      <td>0.024808</td>\n",
       "      <td>0.000007</td>\n",
       "      <td>0.000039</td>\n",
       "      <td>0.000031</td>\n",
       "      <td>0.000031</td>\n",
       "      <td>619.0</td>\n",
       "      <td>[[35.0, 69.0, 152.0, 100.0, 70.0, 53.0, 44.0, ...</td>\n",
       "      <td>96.72</td>\n",
       "      <td>21.0</td>\n",
       "      <td>619.0</td>\n",
       "      <td>0.000032</td>\n",
       "      <td>0.000055</td>\n",
       "      <td>2022-08-01 00:00:00+00:00</td>\n",
       "    </tr>\n",
       "  </tbody>\n",
       "</table>\n",
       "</div>"
      ],
      "text/plain": [
       "                    datetime       min       max      mean       count  \\\n",
       "0  2022-12-01T00:00:00+00:00 -0.000034  0.000023  0.000003  608.799988   \n",
       "1  2022-11-01T00:00:00+00:00  0.000013  0.000036  0.000024  608.799988   \n",
       "2  2022-10-01T00:00:00+00:00  0.000034  0.000059  0.000044  608.799988   \n",
       "3  2022-09-01T00:00:00+00:00  0.000025  0.000052  0.000035  608.799988   \n",
       "4  2022-08-01T00:00:00+00:00  0.000031  0.000055  0.000040  608.799988   \n",
       "\n",
       "        sum       std    median  majority  minority  unique  \\\n",
       "0  0.001847  0.000015  0.000007 -0.000034 -0.000034   619.0   \n",
       "1  0.015122  0.000005  0.000024  0.000013  0.000013   619.0   \n",
       "2  0.027499  0.000006  0.000045  0.000034  0.000034   619.0   \n",
       "3  0.021673  0.000007  0.000034  0.000025  0.000025   619.0   \n",
       "4  0.024808  0.000007  0.000039  0.000031  0.000031   619.0   \n",
       "\n",
       "                                           histogram  valid_percent  \\\n",
       "0  [[27.0, 22.0, 30.0, 44.0, 47.0, 58.0, 64.0, 86...          96.72   \n",
       "1  [[22.0, 20.0, 19.0, 82.0, 198.0, 138.0, 57.0, ...          96.72   \n",
       "2  [[6.0, 43.0, 67.0, 145.0, 151.0, 99.0, 55.0, 2...          96.72   \n",
       "3  [[34.0, 121.0, 105.0, 92.0, 67.0, 69.0, 46.0, ...          96.72   \n",
       "4  [[35.0, 69.0, 152.0, 100.0, 70.0, 53.0, 44.0, ...          96.72   \n",
       "\n",
       "   masked_pixels  valid_pixels  percentile_2  percentile_98  \\\n",
       "0           21.0         619.0     -0.000032       0.000022   \n",
       "1           21.0         619.0      0.000014       0.000035   \n",
       "2           21.0         619.0      0.000038       0.000057   \n",
       "3           21.0         619.0      0.000026       0.000050   \n",
       "4           21.0         619.0      0.000032       0.000055   \n",
       "\n",
       "                       date  \n",
       "0 2022-12-01 00:00:00+00:00  \n",
       "1 2022-11-01 00:00:00+00:00  \n",
       "2 2022-10-01 00:00:00+00:00  \n",
       "3 2022-09-01 00:00:00+00:00  \n",
       "4 2022-08-01 00:00:00+00:00  "
      ]
     },
     "execution_count": 90,
     "metadata": {},
     "output_type": "execute_result"
    }
   ],
   "source": [
    "import pandas as pd\n",
    "\n",
    "\n",
    "def clean_stats(stats_json) -> pd.DataFrame:\n",
    "    df = pd.json_normalize(stats_json)\n",
    "    df.columns = [col.replace(\"statistics.b1.\", \"\") for col in df.columns]\n",
    "    df[\"date\"] = pd.to_datetime(df[\"datetime\"])\n",
    "    return df\n",
    "\n",
    "\n",
    "df = clean_stats(stats)\n",
    "df.head(5)"
   ]
  },
  {
   "attachments": {},
   "cell_type": "markdown",
   "metadata": {},
   "source": [
    "## Visualizing the Data as a Time Series\n",
    "We can now explore the fossil fuel emission time series (January 2020 -December 2022) available for the Dallas, Texas area of the U.S. We can plot the data set using the code below:"
   ]
  },
  {
   "cell_type": "code",
   "execution_count": 91,
   "metadata": {},
   "outputs": [
    {
     "data": {
      "text/plain": [
       "Text(0.5, 1.0, 'CO2 emission Values for Gulf of Mexico (2020-2022)')"
      ]
     },
     "execution_count": 91,
     "metadata": {},
     "output_type": "execute_result"
    },
    {
     "data": {
      "image/png": "[encoded data removed]",
      "text/plain": [
       "<Figure size 2000x1000 with 1 Axes>"
      ]
     },
     "metadata": {},
     "output_type": "display_data"
    }
   ],
   "source": [
    "import matplotlib.pyplot as plt\n",
    "\n",
    "fig = plt.figure(figsize=(20, 10))\n",
    "\n",
    "\n",
    "plt.plot(\n",
    "    df[\"datetime\"],\n",
    "    df[\"max\"],\n",
    "    color=\"red\",\n",
    "    linestyle=\"-\",\n",
    "    linewidth=0.5,\n",
    "    label=\"CO2 emissions\",\n",
    ")\n",
    "\n",
    "plt.legend()\n",
    "plt.xlabel(\"Years\")\n",
    "plt.ylabel(\"CO2 emissions mmol m²/s\")\n",
    "plt.title(\"CO2 emission Values for Gulf of Mexico (2020-2022)\")"
   ]
  },
  {
   "cell_type": "code",
   "execution_count": 92,
   "metadata": {},
   "outputs": [
    {
     "name": "stdout",
     "output_type": "stream",
     "text": [
      "2022-10-01T00:00:00+00:00\n"
     ]
    }
   ],
   "source": [
    "print(items[2][\"properties\"][\"start_datetime\"])"
   ]
  },
  {
   "cell_type": "code",
   "execution_count": 93,
   "metadata": {},
   "outputs": [
    {
     "data": {
      "text/plain": [
       "{'tilejson': '2.2.0',\n",
       " 'version': '1.0.0',\n",
       " 'scheme': 'xyz',\n",
       " 'tiles': ['https://ghg.center/api/raster/stac/tiles/WebMercatorQuad/{z}/{x}/{y}@1x?collection=eccodarwin-co2flux-monthgrid-v5&item=eccodarwin-co2flux-monthgrid-v5-202210&assets=co2&color_formula=gamma+r+1.05&colormap_name=magma&rescale=-0.0560546997598733%2C0.05544506255821962'],\n",
       " 'minzoom': 0,\n",
       " 'maxzoom': 24,\n",
       " 'bounds': [-180.125, -90.124826629681, 179.875, 89.875173370319],\n",
       " 'center': [-0.125, -0.1248266296809959, 0]}"
      ]
     },
     "execution_count": 93,
     "metadata": {},
     "output_type": "execute_result"
    }
   ],
   "source": [
    "co2_flux_3 = requests.get(\n",
    "    f\"{RASTER_API_URL}/stac/tilejson.json?collection={items[2]['collection']}&item={items[2]['id']}\"\n",
    "    f\"&assets={asset_name}\"\n",
    "    f\"&color_formula=gamma+r+1.05&colormap_name={color_map}\"\n",
    "    f\"&rescale={rescale_values['min']},{rescale_values['max']}\",\n",
    ").json()\n",
    "co2_flux_3"
   ]
  },
  {
   "cell_type": "code",
   "execution_count": 94,
   "metadata": {},
   "outputs": [
    {
     "data": {
      "text/html": [
       "<div style=\"width:100%;\"><div style=\"position:relative;width:100%;height:0;padding-bottom:60%;\"><span style=\"color:#565656\">Make this Notebook Trusted to load map: File -> Trust Notebook</span><iframe srcdoc=\"&lt;!DOCTYPE html&gt;\n",
       "&lt;html&gt;\n",
       "&lt;head&gt;\n",
       "    \n",
       "    &lt;meta http-equiv=&quot;content-type&quot; content=&quot;text/html; charset=UTF-8&quot; /&gt;\n",
       "    \n",
       "        &lt;script&gt;\n",
       "            L_NO_TOUCH = false;\n",
       "            L_DISABLE_3D = false;\n",
       "        &lt;/script&gt;\n",
       "    \n",
       "    &lt;style&gt;html, body {width: 100%;height: 100%;margin: 0;padding: 0;}&lt;/style&gt;\n",
       "    &lt;style&gt;#map {position:absolute;top:0;bottom:0;right:0;left:0;}&lt;/style&gt;\n",
       "    &lt;script src=&quot;https://cdn.jsdelivr.net/npm/leaflet@1.9.3/dist/leaflet.js&quot;&gt;&lt;/script&gt;\n",
       "    &lt;script src=&quot;https://code.jquery.com/jquery-1.12.4.min.js&quot;&gt;&lt;/script&gt;\n",
       "    &lt;script src=&quot;https://cdn.jsdelivr.net/npm/bootstrap@5.2.2/dist/js/bootstrap.bundle.min.js&quot;&gt;&lt;/script&gt;\n",
       "    &lt;script src=&quot;https://cdnjs.cloudflare.com/ajax/libs/Leaflet.awesome-markers/2.0.2/leaflet.awesome-markers.js&quot;&gt;&lt;/script&gt;\n",
       "    &lt;link rel=&quot;stylesheet&quot; href=&quot;https://cdn.jsdelivr.net/npm/leaflet@1.9.3/dist/leaflet.css&quot;/&gt;\n",
       "    &lt;link rel=&quot;stylesheet&quot; href=&quot;https://cdn.jsdelivr.net/npm/bootstrap@5.2.2/dist/css/bootstrap.min.css&quot;/&gt;\n",
       "    &lt;link rel=&quot;stylesheet&quot; href=&quot;https://netdna.bootstrapcdn.com/bootstrap/3.0.0/css/bootstrap.min.css&quot;/&gt;\n",
       "    &lt;link rel=&quot;stylesheet&quot; href=&quot;https://cdn.jsdelivr.net/npm/@fortawesome/fontawesome-free@6.2.0/css/all.min.css&quot;/&gt;\n",
       "    &lt;link rel=&quot;stylesheet&quot; href=&quot;https://cdnjs.cloudflare.com/ajax/libs/Leaflet.awesome-markers/2.0.2/leaflet.awesome-markers.css&quot;/&gt;\n",
       "    &lt;link rel=&quot;stylesheet&quot; href=&quot;https://cdn.jsdelivr.net/gh/python-visualization/folium/folium/templates/leaflet.awesome.rotate.min.css&quot;/&gt;\n",
       "    \n",
       "            &lt;meta name=&quot;viewport&quot; content=&quot;width=device-width,\n",
       "                initial-scale=1.0, maximum-scale=1.0, user-scalable=no&quot; /&gt;\n",
       "            &lt;style&gt;\n",
       "                #map_262cd1ed948f05da3ba83a8cad25d06d {\n",
       "                    position: relative;\n",
       "                    width: 100.0%;\n",
       "                    height: 100.0%;\n",
       "                    left: 0.0%;\n",
       "                    top: 0.0%;\n",
       "                }\n",
       "                .leaflet-container { font-size: 1rem; }\n",
       "            &lt;/style&gt;\n",
       "        \n",
       "&lt;/head&gt;\n",
       "&lt;body&gt;\n",
       "    \n",
       "    \n",
       "            &lt;div class=&quot;folium-map&quot; id=&quot;map_262cd1ed948f05da3ba83a8cad25d06d&quot; &gt;&lt;/div&gt;\n",
       "        \n",
       "&lt;/body&gt;\n",
       "&lt;script&gt;\n",
       "    \n",
       "    \n",
       "            var map_262cd1ed948f05da3ba83a8cad25d06d = L.map(\n",
       "                &quot;map_262cd1ed948f05da3ba83a8cad25d06d&quot;,\n",
       "                {\n",
       "                    center: [30.0, -100.0],\n",
       "                    crs: L.CRS.EPSG3857,\n",
       "                    zoom: 6.8,\n",
       "                    zoomControl: true,\n",
       "                    preferCanvas: false,\n",
       "                }\n",
       "            );\n",
       "\n",
       "            \n",
       "\n",
       "        \n",
       "    \n",
       "            var tile_layer_3504f0115f6ac4c88f360af34d9a7479 = L.tileLayer(\n",
       "                &quot;https://{s}.tile.openstreetmap.org/{z}/{x}/{y}.png&quot;,\n",
       "                {&quot;attribution&quot;: &quot;Data by \\u0026copy; \\u003ca target=\\&quot;_blank\\&quot; href=\\&quot;http://openstreetmap.org\\&quot;\\u003eOpenStreetMap\\u003c/a\\u003e, under \\u003ca target=\\&quot;_blank\\&quot; href=\\&quot;http://www.openstreetmap.org/copyright\\&quot;\\u003eODbL\\u003c/a\\u003e.&quot;, &quot;detectRetina&quot;: false, &quot;maxNativeZoom&quot;: 18, &quot;maxZoom&quot;: 18, &quot;minZoom&quot;: 0, &quot;noWrap&quot;: false, &quot;opacity&quot;: 1, &quot;subdomains&quot;: &quot;abc&quot;, &quot;tms&quot;: false}\n",
       "            ).addTo(map_262cd1ed948f05da3ba83a8cad25d06d);\n",
       "        \n",
       "    \n",
       "            var tile_layer_fa6f5b42f46754a071e036ca267384c7 = L.tileLayer(\n",
       "                &quot;https://ghg.center/api/raster/stac/tiles/WebMercatorQuad/{z}/{x}/{y}@1x?collection=eccodarwin-co2flux-monthgrid-v5\\u0026item=eccodarwin-co2flux-monthgrid-v5-202210\\u0026assets=co2\\u0026color_formula=gamma+r+1.05\\u0026colormap_name=magma\\u0026rescale=-0.0560546997598733%2C0.05544506255821962&quot;,\n",
       "                {&quot;attribution&quot;: &quot;GHG&quot;, &quot;detectRetina&quot;: false, &quot;maxNativeZoom&quot;: 18, &quot;maxZoom&quot;: 18, &quot;minZoom&quot;: 0, &quot;noWrap&quot;: false, &quot;opacity&quot;: 0.7, &quot;subdomains&quot;: &quot;abc&quot;, &quot;tms&quot;: false}\n",
       "            ).addTo(map_262cd1ed948f05da3ba83a8cad25d06d);\n",
       "        \n",
       "&lt;/script&gt;\n",
       "&lt;/html&gt;\" style=\"position:absolute;width:100%;height:100%;left:0;top:0;border:none !important;\" allowfullscreen webkitallowfullscreen mozallowfullscreen></iframe></div></div>"
      ],
      "text/plain": [
       "<folium.folium.Map at 0x16c0fde80>"
      ]
     },
     "execution_count": 94,
     "metadata": {},
     "output_type": "execute_result"
    }
   ],
   "source": [
    "# Use bbox initial zoom and map\n",
    "# Set up a map located w/in event bounds\n",
    "import folium\n",
    "\n",
    "aoi_map_bbox = Map(\n",
    "    tiles=\"OpenStreetMap\",\n",
    "    location=[\n",
    "        30,-100\n",
    "    ],\n",
    "    zoom_start=6.8,\n",
    ")\n",
    "\n",
    "map_layer = TileLayer(\n",
    "    tiles=co2_flux_3[\"tiles\"][0],\n",
    "    attr=\"GHG\", opacity = 0.7\n",
    ")\n",
    "\n",
    "map_layer.add_to(aoi_map_bbox)\n",
    "\n",
    "aoi_map_bbox"
   ]
  },
  {
   "attachments": {},
   "cell_type": "markdown",
   "metadata": {},
   "source": [
    "## Summary\n",
    "\n",
    "In this notebook we have successfully explored, analyzed, and visualized the STAC collection for ECCO Darwin CO₂ flux dataset"
   ]
  }
 ],
 "metadata": {
  "kernelspec": {
   "display_name": "Python 3 (ipykernel)",
   "language": "python",
   "name": "python3"
  },
  "language_info": {
   "codemirror_mode": {
    "name": "ipython",
    "version": 3
   },
   "file_extension": ".py",
   "mimetype": "text/x-python",
   "name": "python",
   "nbconvert_exporter": "python",
   "pygments_lexer": "ipython3",
   "version": "3.9.16"
  }
 },
 "nbformat": 4,
 "nbformat_minor": 4
}
