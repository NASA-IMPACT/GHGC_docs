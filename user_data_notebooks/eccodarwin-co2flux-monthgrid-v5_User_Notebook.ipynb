{
 "cells": [
  {
   "cell_type": "raw",
   "metadata": {},
   "source": [
    "---\n",
    "title: Air-Sea CO₂ Flux, ECCO-Darwin Model v5\n",
    "description: Global, monthly average air-sea CO₂ flux at ~1/3° resolution from 2020 to 2022\n",
    "author: Siddharth Chaudhary, Vishal Gaur\n",
    "date: 29 August 2023\n",
    "execute:\n",
    "   freeze: true\n",
    "---"
   ]
  },
  {
   "attachments": {},
   "cell_type": "markdown",
   "metadata": {},
   "source": [
    "## Approach\n",
    "\n",
    "1. Identify available dates and temporal frequency of observations for the given collection using the GHGC API `/stac` endpoint. The collection processed in this notebook is the Air-Sea CO₂ Flux, ECCO-Darwin Model v5 Data product.\n",
    "2. Pass the STAC item into the raster API `/stac/tilejson.json` endpoint.\n",
    "3. Using `folium.plugins.DualMap`, we will visualize two tiles (side-by-side), allowing us to compare time points. \n",
    "4. After the visualization, we will perform zonal statistics for a given polygon."
   ]
  },
  {
   "cell_type": "markdown",
   "metadata": {},
   "source": [
    "## About the Data\n",
    "\n",
    "The ocean is a major sink for atmospheric carbon dioxide (CO2), largely due to the presence of phytoplankton that use the CO₂ to grow. Studies have shown that global ocean CO₂ uptake has increased over recent decades, however there is uncertainty in the various mechanisms that affect ocean CO₂ flux and storage and how the ocean carbon sink will respond to future climate change. Because CO₂ fluxes can vary significantly across space and time, combined with deficiencies in ocean and atmosphere CO₂ observations, there is a need for models that can thoroughly represent these processes. Ocean biogeochemical models (OBMs) have the ability to resolve the physical and biogeochemical mechanisms contributing to spatial and temporal variations in air-sea CO₂ fluxes but previous OBMs do not integrate observations to improve model accuracy and have not been able to operate on the seasonal and multi-decadal timescales needed to adequately characterize these processes. The ECCO-Darwin model is an OBM that assimilates Estimating the Circulation and Climate of the Ocean (ECCO) consortium ocean circulation estimates and biogeochemical processes from the Massachusetts Institute of Technology (MIT) Darwin Project. A pilot study using ECCO-Darwin was completed by [Brix et al. (2015)](https://doi.org/10.1016/j.ocemod.2015.07.008) however an improved version of the model was developed by [Carroll et al. (2020)](https://doi.org/10.1029/2019MS001888) in which issues present in the first model were addressed using data assimilation and adjustments were made to initial conditions and biogeochemical parameters. The updated ECCO-Darwin model was compared with interpolation-based products to estimate surface ocean partial pressure (pCO2) and air-sea CO₂ flux. This dataset contains the gridded global, monthly mean air-sea CO₂ fluxes from version 5 of the ECCO-Darwin model. The data are available at ~1/3° horizontal resolution at the equator (~18 km at high latitudes) from January 2020 through December 2022.\n",
    "\n",
    "For more information regarding this dataset, please visit the [Air-Sea CO₂ Flux ECCO-Darwin Model](https://earth.gov/ghgcenter/data-catalog/eccodarwin-co2flux-monthgrid-v5) data overview page."
   ]
  },
  {
   "cell_type": "markdown",
   "metadata": {},
   "source": [
    "# Install the Required Libraries\n",
    "Required libraries are pre-installed on the GHG Center Hub. If you need to run this notebook elsewhere, please install them with this line in a code cell:\n",
    "\n",
    "Please run the cell below to install the libraries required to run this notebook."
   ]
  },
  {
   "cell_type": "code",
   "execution_count": null,
   "metadata": {},
   "outputs": [],
   "source": [
    "%pip install requests\n",
    "%pip install folium\n",
    "%pip install pystac_client"
   ]
  },
  {
   "attachments": {},
   "cell_type": "markdown",
   "metadata": {},
   "source": [
    "## Querying the STAC API\n",
    "First, we are going to import the required libraries. Once imported, they allow better executing a query in the GHG Center Spatio Temporal Asset Catalog (STAC) Application Programming Interface (API) where the granules for this collection are stored. "
   ]
  },
  {
   "cell_type": "code",
   "execution_count": null,
   "metadata": {},
   "outputs": [],
   "source": [
    "# Import the following libraries\n",
    "import requests\n",
    "import folium\n",
    "import folium.plugins\n",
    "from folium import Map, TileLayer \n",
    "from pystac_client import Client \n",
    "import branca \n",
    "import pandas as pd\n",
    "import matplotlib.pyplot as plt"
   ]
  },
  {
   "cell_type": "code",
   "execution_count": null,
   "metadata": {},
   "outputs": [],
   "source": [
    "# Provide the STAC and RASTER API endpoints\n",
    "# The endpoint is referring to a location within the API that executes a request on a data collection nesting on the server.\n",
    "\n",
    "# The STAC API is a catalog of all the existing data collections that are stored in the GHG Center.\n",
    "STAC_API_URL = \"http://ghg.center/api/stac\"\n",
    "\n",
    "# The RASTER API is used to fetch collections for visualization\n",
    "RASTER_API_URL = \"https://ghg.center/api/raster\"\n",
    "\n",
    "# The collection name is used to fetch the dataset from the STAC API. First, we define the collection name as a variable \n",
    "# Name of the collection for ECCO Darwin CO₂ flux monthly emissions\n",
    "collection_name = \"eccodarwin-co2flux-monthgrid-v5\""
   ]
  },
  {
   "cell_type": "code",
   "execution_count": null,
   "metadata": {},
   "outputs": [],
   "source": [
    "# Fetch the collection from the STAC API using the appropriate endpoint\n",
    "# The 'requests' library allows a HTTP request possible\n",
    "collection = requests.get(f\"{STAC_API_URL}/collections/{collection_name}\").json()\n",
    "\n",
    "# Print the properties of the collection to the console\n",
    "collection"
   ]
  },
  {
   "attachments": {},
   "cell_type": "markdown",
   "metadata": {},
   "source": [
    "Examining the contents of our `collection` under the `temporal` variable, we see that the data is available from January 2020 to December 2022. By looking at the `dashboard:time density`, we observe that the data is periodic with monthly time density."
   ]
  },
  {
   "cell_type": "code",
   "execution_count": null,
   "metadata": {},
   "outputs": [],
   "source": [
    "# Create a function that would search for a data collection in the US GHG Center STAC API\n",
    "\n",
    "# First, we need to define the function\n",
    "# The name of the function is \"get_item_count\" \n",
    "# The argument that will be passed to the defined function is \"collection_id\"\n",
    "def get_item_count(collection_id):\n",
    "\n",
    "    # Set a counter for the number of items existing in the collection \n",
    "    count = 0 \n",
    "\n",
    "    # Define the path to retrieve the granules (items) of the collection of interest (Air-Sea CO2 Flux ECCO-Darwin model) in the STAC API\n",
    "    items_url = f\"{STAC_API_URL}/collections/{collection_id}/items\" \n",
    "\n",
    "    # Run a while loop to make HTTP requests until there are no more URLs associated with the collection (Air-Sea CO2 Flux ECCO-Darwin model) in the STAC API\n",
    "    while True:\n",
    "\n",
    "        # Retrieve information about the granules by sending a \"get\" request to the STAC API using the defined collection path \n",
    "        response = requests.get(items_url) \n",
    "\n",
    "        # If the items do not exist, print an error message and quit the loop\n",
    "        if not response.ok:\n",
    "            print(\"error getting items\")\n",
    "            exit()\n",
    "\n",
    "        # Return the results of the HTTP response as JSON\n",
    "        stac = response.json()\n",
    "\n",
    "        # Increase the \"count\" by the number of items (granules) returned in the response\n",
    "        count += int(stac[\"context\"].get(\"returned\", 0))\n",
    "\n",
    "        # Retrieve information about the next URL associated with the collection (Air-Sea CO2 Flux ECCO-Darwin model) in the STAC API (if applicable)\n",
    "        next = [link for link in stac[\"links\"] if link[\"rel\"] == \"next\"]\n",
    "\n",
    "        # Exit the loop if there are no other URLs\n",
    "        if not next:\n",
    "            break\n",
    "        \n",
    "        # Ensure the information gathered by other STAC API links associated with the collection are added to the original path\n",
    "        # \"href\" is the identifier for each of the tiles stored in the STAC API\n",
    "        items_url = next[0][\"href\"]\n",
    "\n",
    "    # Return the information about the total number of granules found associated with the collection (Air-Sea CO2 Flux ECCO-Darwin model)\n",
    "    return count"
   ]
  },
  {
   "cell_type": "code",
   "execution_count": null,
   "metadata": {},
   "outputs": [],
   "source": [
    "# Apply the function created above \"get_item_count\" to the Air-Sea CO2 Flux ECCO-Darwin collection\n",
    "number_of_items = get_item_count(collection_name)\n",
    "\n",
    "# Get the information about the number of granules found in the collection\n",
    "items = requests.get(f\"{STAC_API_URL}/collections/{collection_name}/items?limit={number_of_items}\").json()[\"features\"]\n",
    "\n",
    "# Print the total number of items (granules) found\n",
    "print(f\"Found {len(items)} items\")"
   ]
  },
  {
   "cell_type": "code",
   "execution_count": null,
   "metadata": {},
   "outputs": [],
   "source": [
    "# Examine the first item in the collection\n",
    "# Keep in mind that a list starts from 0, 1, 2... therefore items[0] is referring to the first item in the list/collection\n",
    "items[0]"
   ]
  },
  {
   "attachments": {},
   "cell_type": "markdown",
   "metadata": {},
   "source": [
    "## Exploring Changes in CO₂ Levels Using the Raster API\n",
    "\n",
    "In this notebook, we will explore the global changes of CO₂ flux over time in urban regions. We will visualize the outputs on a map using `folium`."
   ]
  },
  {
   "cell_type": "code",
   "execution_count": null,
   "metadata": {},
   "outputs": [],
   "source": [
    "# Now we create a dictionary where the start datetime values for each granule is queried more explicitly by year and month (e.g., 2020-02)\n",
    "items = {item[\"properties\"][\"start_datetime\"]: item for item in items}\n",
    "\n",
    "# Next, we need to specify the asset name for this collection.\n",
    "# The asset name is referring to the raster band containing the pixel values for the parameter of interest.\n",
    "# For the case of the Air-Sea CO2 Flux ECCO-Darwin collection, the parameter of interest is “co2”.\n",
    "asset_name = \"co2\""
   ]
  },
  {
   "cell_type": "markdown",
   "metadata": {},
   "source": [
    "Below, we are entering the minimum and maximum values to provide our upper and lower bounds in the `rescale_values`."
   ]
  },
  {
   "cell_type": "code",
   "execution_count": null,
   "metadata": {},
   "outputs": [],
   "source": [
    "# Fetch the minimum and maximum values for the CO2 value range\n",
    "rescale_values = {\"max\":0.0007, \"min\":-0.0007}"
   ]
  },
  {
   "attachments": {},
   "cell_type": "markdown",
   "metadata": {},
   "source": [
    "Now, we will pass the item id, collection name, asset name, and the `rescaling factor` to the `Raster API` endpoint. This step is done twice so that we can visualize two arbitrary events independently."
   ]
  },
  {
   "cell_type": "code",
   "execution_count": null,
   "metadata": {},
   "outputs": [],
   "source": [
    "# Choose a color map for displaying the first observation (event)\n",
    "# Please refer to matplotlib library if you'd prefer choosing a different color ramp.\n",
    "# For more information on Colormaps in Matplotlib, please visit https://matplotlib.org/stable/users/explain/colors/colormaps.html\n",
    "color_map = \"magma\"\n",
    "\n",
    "# Make a GET request to retrieve information for the December 2022 tile which is the 1st item in the collection\n",
    "# To retrieve the first item in the collection we use \"0\" in the \"(items.keys())[0]\" statement \n",
    "# If you want to select another item (granule) in the list (collection), you can refer to the Data Browser in the U.S. Greenhouse Gas Center website  \n",
    "# URL to the Air-Sea CO2 Flux ECCO-Darwin collection in the US GHG Center: https://dljsq618eotzp.cloudfront.net/browseui/#eccodarwin-co2flux-monthgrid-v5/\n",
    "\n",
    "# A GET request is made for the December 2022 tile\n",
    "december_2022_tile = requests.get(\n",
    "\n",
    "    # Pass the collection name, the item number in the list, and its ID\n",
    "    f\"{RASTER_API_URL}/stac/tilejson.json?collection={items[list(items.keys())[0]]['collection']}&item={items[list(items.keys())[0]]['id']}\"\n",
    "\n",
    "    # Pass the asset name\n",
    "    f\"&assets={asset_name}\"\n",
    "\n",
    "    # Pass the color formula and colormap for custom visualization\n",
    "    f\"&color_formula=gamma+r+1.05&colormap_name={color_map}\"\n",
    "\n",
    "    # Pass the minimum and maximum values for rescaling \n",
    "    f\"&rescale={rescale_values['min']},{rescale_values['max']}\", \n",
    "\n",
    "# Return the response in JSON format\n",
    ").json()\n",
    "\n",
    "# Print the properties of the retrieved granule to the console\n",
    "december_2022_tile"
   ]
  },
  {
   "cell_type": "code",
   "execution_count": null,
   "metadata": {},
   "outputs": [],
   "source": [
    "# Make a GET request to retrieve information for the April 2021 tile which is the 21th item in the collection\n",
    "# To retrieve the 21st item in the collection we use \"20\" in the \"(items.keys())[20]\" statement \n",
    "# Keep in mind that a list starts from 0, therefore \"items[20]\" is referring to the 21st item in the list/collection\n",
    "\n",
    "# A GET request is made for the April 2021 tile\n",
    "april_2021_tile = requests.get(\n",
    "\n",
    "    # Pass the collection name, the item number in the list, and its ID\n",
    "    f\"{RASTER_API_URL}/stac/tilejson.json?collection={items[list(items.keys())[20]]['collection']}&item={items[list(items.keys())[20]]['id']}\"\n",
    "\n",
    "    # Pass the asset name\n",
    "    f\"&assets={asset_name}\"\n",
    "\n",
    "    # Pass the color formula and colormap for custom visualization\n",
    "    f\"&color_formula=gamma+r+1.05&colormap_name={color_map}\"\n",
    "\n",
    "    # Pass the minimum and maximum values for rescaling\n",
    "    f\"&rescale={rescale_values['min']},{rescale_values['max']}\", \n",
    "\n",
    "# Return the response in JSON format\n",
    ").json()\n",
    "\n",
    "# Print the properties of the retrieved granule to the console\n",
    "april_2021_tile"
   ]
  },
  {
   "attachments": {},
   "cell_type": "markdown",
   "metadata": {},
   "source": [
    "## Visualizing CO₂ flux Emissions"
   ]
  },
  {
   "cell_type": "code",
   "execution_count": null,
   "metadata": {},
   "outputs": [],
   "source": [
    "# For this study we are going to compare the CO2 level in 2021 and 2022 along the coast of California\n",
    "# To change the location, you can simply insert the latitude and longitude of the area of your interest in the \"location=(LAT, LONG)\" statement\n",
    "\n",
    "# Set the initial zoom level and center of map for both tiles\n",
    "# 'folium.plugins' allows mapping side-by-side\n",
    "map_ = folium.plugins.DualMap(location=(34, -118), zoom_start=6)\n",
    "\n",
    "\n",
    "# Define the first map layer with the CO2 Flux data for December 2022\n",
    "map_layer_1 = TileLayer(\n",
    "    tiles=december_2022_tile[\"tiles\"][0], # Path to retrieve the tile\n",
    "    attr=\"GHG\", # Set the attribution \n",
    "    name='December 2022 CO2 Flux', # Title for the layer\n",
    "    overlay=True, # The layer can be overlaid on the map\n",
    "    opacity=0.8, # Adjust the transparency of the layer\n",
    ")\n",
    "# Add the first layer to the Dual Map \n",
    "map_layer_1.add_to(map_.m1)\n",
    "\n",
    "\n",
    "# Define the second map layer with the CO2 Flux data for April 2021\n",
    "map_layer_2 = TileLayer(\n",
    "    tiles=april_2021_tile[\"tiles\"][0], # Path to retrieve the tile\n",
    "    attr=\"GHG\", # Set the attribution \n",
    "    name='April 2021 CO2 Flux', # Title for the layer\n",
    "    overlay=True, # The layer can be overlaid on the map\n",
    "    opacity=0.8, # Adjust the transparency of the layer\n",
    ")\n",
    "# Add the second layer to the Dual Map \n",
    "map_layer_2.add_to(map_.m2)\n",
    "\n",
    "\n",
    "# Display data markers (titles) on both maps\n",
    "folium.Marker((40, 5.0), tooltip=\"both\").add_to(map_)\n",
    "\n",
    "# Add a layer control to switch between map layers\n",
    "folium.LayerControl(collapsed=False).add_to(map_)\n",
    "\n",
    "# Add a legend to the dual map using the 'branca' library\n",
    "# Note: the inserted legend is representing the minimum and maximum values for both tiles\n",
    "# Minimum value = -0.0007, maximum value = 0.0007\n",
    "colormap = branca.colormap.LinearColormap(colors=[\"#0000FF\", \"#3399FF\", \"#66CCFF\", \"#FFFFFF\", \"#FF66CC\", \"#FF3399\", \"#FF0000\"], vmin=-0.0007, vmax=0.0007) \n",
    "\n",
    "# Add the data unit as caption \n",
    "colormap.caption = 'Millimoles per meter squared per second (mmol m²/s)'\n",
    "\n",
    "# Define custom tick values for the legend bar\n",
    "tick_val = [-0.0007, -0.00035, 0, 0.00035, 0.0007]\n",
    "\n",
    "# Create a HTML representation\n",
    "legend_html = colormap._repr_html_()\n",
    "\n",
    "# Create a customized HTML structure for the legend\n",
    "legend_html = f'''\n",
    "<div style=\"position: fixed; bottom: 50px; left: 50px; z-index: 1000; width: 400px; height: auto; background-color: rgba(255, 255, 255, 0.8);\n",
    "             border-radius: 5px; border: 1px solid grey; padding: 10px; font-size: 14px; color: black;\">\n",
    "    <b>{colormap.caption}</b><br>\n",
    "    <div style=\"display: flex; justify-content: space-between;\">\n",
    "        <div>{tick_val[0]}</div> \n",
    "        <div>{tick_val[1]}</div> \n",
    "        <div>{tick_val[2]}</div> \n",
    "        <div>{tick_val[3]}</div> \n",
    "        <div>{tick_val[4]}</div> \n",
    "    </div>\n",
    "    <div style=\"background: linear-gradient(to right,\n",
    "                {'#0000FF'}, {'#3399FF'} {20}%,\n",
    "                {'#3399FF'} {20}%, {'#66CCFF'} {40}%,\n",
    "                {'#66CCFF'} {40}%, {'#FFFFFF'} {50}%,\n",
    "                {'#FFFFFF'} {50}%, {'#FF66CC'} {80}%,\n",
    "                {'#FF66CC'} {80}%, {'#FF3399'}); height: 10px;\"></div>\n",
    "</div>\n",
    "'''\n",
    "\n",
    "# Display the legend and caption on the map\n",
    "map_.get_root().html.add_child(folium.Element(legend_html))\n",
    "\n",
    "# Visualize the Dual Map\n",
    "map_"
   ]
  },
  {
   "attachments": {},
   "cell_type": "markdown",
   "metadata": {},
   "source": [
    "# Calculating Zonal Statistics\n",
    "To perform zonal statistics, first we need to create a polygon. In this use case we are creating a polygon along the coast of California, United States. "
   ]
  },
  {
   "cell_type": "code",
   "execution_count": null,
   "metadata": {},
   "outputs": [],
   "source": [
    "# Create a polygon for the area of interest (aoi)\n",
    "california_coast_aoi = {\n",
    "    \"type\": \"Feature\", # Create a feature object\n",
    "    \"properties\": {},\n",
    "    \"geometry\": { # Set the bounding coordinates for the polygon\n",
    "        \"coordinates\": [\n",
    "            [\n",
    "                [-124.19, 37.86], # North-west bounding coordinate\n",
    "                [-123.11, 37.86], # North-east bounding coordinate\n",
    "                [-119.96, 33.16], # South-east bounding coordinate\n",
    "                [-121.13, 33.16], # South-west bounding coordinate\n",
    "                [-124.19, 37.86]  # North-west bounding coordinate (closing the polygon)\n",
    "            ]\n",
    "        ],\n",
    "        \"type\": \"Polygon\",\n",
    "    },\n",
    "}"
   ]
  },
  {
   "cell_type": "code",
   "execution_count": null,
   "metadata": {},
   "outputs": [],
   "source": [
    "# Create a new map to display the generated polygon\n",
    "aoi_map = Map(\n",
    "    \n",
    "    # Base map is set to OpenStreetMap\n",
    "    tiles=\"OpenStreetMap\", \n",
    "\n",
    "    # Define the spatial properties for the map\n",
    "    location=[\n",
    "        \n",
    "    # Set the center of the map\n",
    "        35, -120 \n",
    "    ],\n",
    "    \n",
    "    # Set the zoom value\n",
    "    zoom_start=7, \n",
    ")\n",
    "\n",
    "# Insert the Coastal California polygon to the map\n",
    "folium.GeoJson(california_coast_aoi, name=\"Coastal California\").add_to(aoi_map)\n",
    "\n",
    "# Visualize the map\n",
    "aoi_map"
   ]
  },
  {
   "cell_type": "code",
   "execution_count": null,
   "metadata": {},
   "outputs": [],
   "source": [
    "Now that we created the polygon for the area of interest, we need to develop a function that runs through the data collection and generates the statistics for a specific item (granule) within the boundaries of the AOI polygon.  "
   ]
  },
  {
   "cell_type": "code",
   "execution_count": null,
   "metadata": {},
   "outputs": [],
   "source": [
    "# Explore the first item\n",
    "items[0]"
   ]
  },
  {
   "cell_type": "code",
   "execution_count": null,
   "metadata": {},
   "outputs": [],
   "source": [
    "# The bounding box should be passed to the geojson param as a geojson Feature or FeatureCollection\n",
    "# Create a function that retrieves information regarding a specific granule using its asset name and raster identifier and generates the statistics for it\n",
    "\n",
    "# The function takes an item (granule) and a JSON (Coastal California polygon) as input parameters\n",
    "def generate_stats(item, geojson):\n",
    "\n",
    "    # A POST request is made to submit the data associated with the item of interest (specific observation) within the Coastal California boundaries to compute its statistics\n",
    "    result = requests.post(\n",
    "\n",
    "        # Raster API Endpoint for computing statistics\n",
    "        f\"{RASTER_API_URL}/cog/statistics\",\n",
    "\n",
    "        # Pass the URL to the item, asset name, and raster identifier as parameters\n",
    "        params={\"url\": item[\"assets\"][asset_name][\"href\"]},\n",
    "\n",
    "        # Send the GeoJSON object (Coastal California polygon) along with the request\n",
    "        json=geojson,\n",
    "\n",
    "    # Return the response in JSON format\n",
    "    ).json()\n",
    "\n",
    "    # Print the result\n",
    "    print(result)\n",
    "\n",
    "    # Return a dictionary containing the computed statistics along with the item's datetime information.\n",
    "    return {\n",
    "        **result[\"properties\"],\n",
    "        \"datetime\": item[\"properties\"][\"start_datetime\"],\n",
    "    }"
   ]
  },
  {
   "cell_type": "code",
   "execution_count": null,
   "metadata": {},
   "outputs": [],
   "source": [
    "Before we run the generated function in the previous step on a specific item (observation), we first check the total number of items available within the collection and retrieve the information regarding their start datetime."
   ]
  },
  {
   "cell_type": "code",
   "execution_count": null,
   "metadata": {},
   "outputs": [],
   "source": [
    "# Check total number of items available within the collection\n",
    "items = requests.get(\n",
    "    f\"{STAC_API_URL}/collections/{collection_name}/items?limit=600\"\n",
    ").json()[\"features\"]\n",
    "\n",
    "# Print the total number of items (granules) found\n",
    "print(f\"Found {len(items)} items\")"
   ]
  },
  {
   "cell_type": "code",
   "execution_count": null,
   "metadata": {},
   "outputs": [],
   "source": [
    "# Examine the first item in the collection\n",
    "items[0]"
   ]
  },
  {
   "cell_type": "code",
   "execution_count": null,
   "metadata": {},
   "outputs": [],
   "source": [
    "# Generate a for loop that iterates over all the existing items in the collection \n",
    "for item in items:\n",
    "\n",
    "    # The loop will then retrieve the information for the start datetime of each item in the list\n",
    "    print(item[\"properties\"][\"start_datetime\"])\n",
    "\n",
    "    # Exit the loop after printing the start datetime for the first item in the collection\n",
    "    break"
   ]
  },
  {
   "attachments": {},
   "cell_type": "markdown",
   "metadata": {},
   "source": [
    "Generate the statistics for the AOI"
   ]
  },
  {
   "cell_type": "code",
   "execution_count": null,
   "metadata": {},
   "outputs": [],
   "source": [
    "%%time \n",
    "# %%time = Wall time (execution time) for running the code below\n",
    "\n",
    "# Generate statistics using the created function \"generate_stats\" within the bounding box defined by the \"california_coast_aoi\" polygon\n",
    "stats = [generate_stats(item, california_coast_aoi) for item in items]"
   ]
  },
  {
   "cell_type": "code",
   "execution_count": null,
   "metadata": {},
   "outputs": [],
   "source": [
    "# Print the stats for the first item in the collection\n",
    "stats[0]"
   ]
  },
  {
   "cell_type": "code",
   "execution_count": null,
   "metadata": {},
   "outputs": [],
   "source": [
    "Create a function that goes through every single item in the collection and populates their properties - including the minimum, maximum, and sum of their values - in a table."
   ]
  },
  {
   "cell_type": "code",
   "execution_count": null,
   "metadata": {},
   "outputs": [],
   "source": [
    "# Create a function that converts statistics in JSON format into a pandas DataFrame\n",
    "def clean_stats(stats_json) -> pd.DataFrame:\n",
    "\n",
    "    # Normalize the JSON data \n",
    "    df = pd.json_normalize(stats_json)\n",
    "\n",
    "    # Replace the naming \"statistics.b1\" in the columns\n",
    "    df.columns = [col.replace(\"statistics.b1.\", \"\") for col in df.columns]\n",
    "\n",
    "    # Set the datetime format\n",
    "    df[\"date\"] = pd.to_datetime(df[\"datetime\"])\n",
    "\n",
    "    # Return the cleaned format\n",
    "    return df\n",
    "\n",
    "# Apply the generated function on the stats data\n",
    "df = clean_stats(stats)\n",
    "\n",
    "# Display the stats for the first 5 granules in the collection in the table\n",
    "# Change the value in the parenthesis to show more or a smaller number of rows in the table\n",
    "df.head(5)"
   ]
  },
  {
   "attachments": {},
   "cell_type": "markdown",
   "metadata": {},
   "source": [
    "## Visualizing the Data as a Time Series\n",
    "We can now explore the fossil fuel emission time series (January 2020 -December 2022) available for the Coastal California area of the U.S. We can plot the data set using the code below:"
   ]
  },
  {
   "cell_type": "code",
   "execution_count": null,
   "metadata": {},
   "outputs": [],
   "source": [
    "# Sort the DataFrame by the datetime column so the plot is displaying the values from left to right (2020 -> 2022)\n",
    "df_sorted = df.sort_values(by=\"datetime\")\n",
    "\n",
    "# Plot the timeseries analysis of the monthly air-sea CO₂ flux changes along the coast of California\n",
    "# Figure size: 20 representing the width, 10 representing the height\n",
    "fig = plt.figure(figsize=(20, 10))\n",
    "\n",
    "plt.plot(\n",
    "    df_sorted[\"datetime\"],    # X-axis: sorted datetime\n",
    "    df_sorted[\"max\"],         # Y-axis: maximum CO₂ value\n",
    "    color=\"purple\",           # Line color\n",
    "    linestyle=\"-\",            # Line style\n",
    "    linewidth=1,              # Line width\n",
    "    label=\"CO2 Emissions\",    # Legend label\n",
    ")\n",
    "\n",
    "# Display legend\n",
    "plt.legend()\n",
    "\n",
    "# Insert label for the X-axis\n",
    "plt.xlabel(\"Years\")\n",
    "\n",
    "# Insert label for the Y-axis\n",
    "plt.ylabel(\"CO2 Emissions mmol m²/s\")\n",
    "\n",
    "# Insert title for the plot\n",
    "plt.title(\"CO2 Emission Values for Coastal California (2020-2022)\")\n",
    "\n",
    "# Rotate x-axis labels to avoid cramping\n",
    "plt.xticks(rotation=90)\n",
    "\n",
    "# Add data citation\n",
    "plt.text(\n",
    "    df_sorted[\"datetime\"].iloc[0],           # X-coordinate of the text (first datetime value)\n",
    "    df_sorted[\"max\"].min(),                  # Y-coordinate of the text (minimum CO2 value)\n",
    "\n",
    "    # Text to be displayed\n",
    "    \"Source: NASA Air-Sea CO₂ Flux, ECCO-Darwin Model v5\",                   \n",
    "    fontsize=12,                             # Font size\n",
    "    horizontalalignment=\"left\",              # Horizontal alignment\n",
    "    verticalalignment=\"bottom\",              # Vertical alignment\n",
    "    color=\"blue\",                            # Text color\n",
    ")\n",
    "\n",
    "# Plot the time series\n",
    "plt.show()"
   ]
  },
  {
   "cell_type": "markdown",
   "metadata": {},
   "source": [
    "Looking at the plot above, we notice that CO₂ emission level increases particularly around 2022-09-01 for the defined area of interest. To take a closer look at monthly CO₂ flux variability across this region, we are going to retrieve and display data collected during the September 2022 observation. "
   ]
  },
  {
   "cell_type": "code",
   "execution_count": null,
   "metadata": {},
   "outputs": [],
   "source": [
    "# The 2022-09-01 observation is the 4th item in the list. \n",
    "# Considering that a list starts with \"0\", we need to insert \"3\" in the \"items[3]\" statement\n",
    "print(items[3][\"properties\"][\"start_datetime\"])"
   ]
  },
  {
   "cell_type": "code",
   "execution_count": null,
   "metadata": {},
   "outputs": [],
   "source": [
    "# A GET request is made for the September 2022 tile\n",
    "September2022_co2_flux = requests.get(\n",
    "\n",
    "    # Pass the collection name, the item number in the list, and its ID\n",
    "    f\"{RASTER_API_URL}/stac/tilejson.json?collection={items[3]['collection']}&item={items[3]['id']}\"\n",
    "\n",
    "    # Pass the asset name\n",
    "    f\"&assets={asset_name}\"\n",
    "\n",
    "    # Pass the color formula and colormap for custom visualization\n",
    "    f\"&color_formula=gamma+r+1.05&colormap_name={color_map}\"\n",
    "\n",
    "    # Pass the minimum and maximum values for rescaling\n",
    "    f\"&rescale={rescale_values['min']},{rescale_values['max']}\",\n",
    "\n",
    "# Return the response in JSON format\n",
    ").json()\n",
    "\n",
    "# Print the properties of the retrieved granule to the console  \n",
    "September2022_co2_flux"
   ]
  },
  {
   "cell_type": "code",
   "execution_count": null,
   "metadata": {},
   "outputs": [],
   "source": [
    "# Create a new map to display the September 2022 tile\n",
    "aoi_map_bbox = Map(\n",
    "\n",
    "    # Base map is set to OpenStreetMap\n",
    "    tiles=\"OpenStreetMap\",\n",
    "\n",
    "    # Set the center of the map\n",
    "    location=[\n",
    "        34, -120\n",
    "    ],\n",
    "\n",
    "    # Set the zoom value\n",
    "    zoom_start=5.5,\n",
    ")\n",
    "\n",
    "# Define the map layer with the CO2 flux data for September 2022\n",
    "map_layer = TileLayer(\n",
    "    tiles=September2022_co2_flux[\"tiles\"][0], # Path to retrieve the tile\n",
    "    attr=\"GHG\", # Set the attribution\n",
    "    opacity = 0.7, # Adjust the transparency of the layer\n",
    ")\n",
    "\n",
    "# Add the layer to the map\n",
    "map_layer.add_to(aoi_map_bbox)\n",
    "\n",
    "# Add a legend to the map\n",
    "# Minimum value = -0.0007, maximum value = 0.0007\n",
    "colormap = branca.colormap.LinearColormap(colors=[\"#0000FF\", \"#3399FF\", \"#66CCFF\", \"#FFFFFF\", \"#FF66CC\", \"#FF3399\", \"#FF0000\"], vmin=-0.0007, vmax=0.0007) \n",
    "\n",
    "# Add the data unit as caption \n",
    "colormap.caption = 'Millimoles per meter squared per second (mmol m²/s)'\n",
    "\n",
    "# Define custom tick values for the legend bar\n",
    "tick_val = [-0.0007, -0.00035, 0, 0.00035, 0.0007]\n",
    "\n",
    "# Create a HTML representation\n",
    "legend_html = colormap._repr_html_()\n",
    "\n",
    "# Create a customized HTML structure for the legend\n",
    "legend_html = f'''\n",
    "<div style=\"position: fixed; bottom: 50px; left: 50px; z-index: 1000; width: 400px; height: auto; background-color: rgba(255, 255, 255, 0.8);\n",
    "             border-radius: 5px; border: 1px solid grey; padding: 10px; font-size: 14px; color: black;\">\n",
    "    <b>{colormap.caption}</b><br>\n",
    "    <div style=\"display: flex; justify-content: space-between;\">\n",
    "        <div>{tick_val[0]}</div> \n",
    "        <div>{tick_val[1]}</div> \n",
    "        <div>{tick_val[2]}</div> \n",
    "        <div>{tick_val[3]}</div> \n",
    "        <div>{tick_val[4]}</div> \n",
    "    </div>\n",
    "    <div style=\"background: linear-gradient(to right,\n",
    "                {'#0000FF'}, {'#3399FF'} {20}%,\n",
    "                {'#3399FF'} {20}%, {'#66CCFF'} {40}%,\n",
    "                {'#66CCFF'} {40}%, {'#FFFFFF'} {50}%,\n",
    "                {'#FFFFFF'} {50}%, {'#FF66CC'} {80}%,\n",
    "                {'#FF66CC'} {80}%, {'#FF3399'}); height: 10px;\"></div>\n",
    "</div>\n",
    "'''\n",
    "\n",
    "# Display the legend and caption on the map\n",
    "aoi_map_bbox.get_root().html.add_child(folium.Element(legend_html))\n",
    "\n",
    "# Add the title to the map\n",
    "title_html = '''\n",
    "<div style=\"position: fixed; top: 10px; right: 10px; z-index: 1000; background-color: rgba(255, 255, 255, 0.8); border-radius: 5px; border: 1px solid grey; padding: 10px;\">\n",
    "    <b>Air-Sea CO₂ Flux, ECCO-Darwin</b><br>\n",
    "    September 2022\n",
    "</div>\n",
    "'''\n",
    "# Display the title on the map\n",
    "aoi_map_bbox.get_root().html.add_child(folium.Element(title_html))\n",
    "\n",
    "# Visualize the map\n",
    "aoi_map_bbox"
   ]
  },
  {
   "attachments": {},
   "cell_type": "markdown",
   "metadata": {},
   "source": [
    "## Summary\n",
    "\n",
    "In this notebook we have successfully completed the following steps for the STAC collection for the NASA Air-Sea CO₂ Flux ECCO Darwin dataset:\n",
    "1.\tInstall and import the necessary libraries \n",
    "2.\tFetch the collection from STAC collections using the appropriate endpoints\n",
    "3.\tCount the number of existing granules within the collection\n",
    "4.\tMap and compare the CO₂ Flux levels over the Coastal California area for two distinctive months/years\n",
    "5.\tCreate a table that displays the minimum, maximum, and sum of the CO₂ Flux values for a specified region\n",
    "6.\tGenerate a time-series graph of the CO₂ Flux values for a specified region\n",
    "\n",
    "If you have any questions regarding this user notebook, please contact us using the [feedback form](https://docs.google.com/forms/d/e/1FAIpQLSeVWCrnca08Gt_qoWYjTo6gnj1BEGL4NCUC9VEiQnXA02gzVQ/viewform). "
   ]
  }
 ],
 "metadata": {
  "kernelspec": {
   "display_name": "Python 3 (ipykernel)",
   "language": "python",
   "name": "python3"
  },
  "language_info": {
   "codemirror_mode": {
    "name": "ipython",
    "version": 3
   },
   "file_extension": ".py",
   "mimetype": "text/x-python",
   "name": "python",
   "nbconvert_exporter": "python",
   "pygments_lexer": "ipython3",
   "version": "3.9.16"
  }
 },
 "nbformat": 4,
 "nbformat_minor": 4
}
