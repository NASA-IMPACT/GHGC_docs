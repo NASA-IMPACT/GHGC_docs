{
 "cells": [
  {
   "cell_type": "raw",
   "metadata": {},
   "source": [
    "---\n",
    "title: ODIAC Fossil Fuel CO₂ Emissions Version 2022\"\n",
    "description: The Open-Data Inventory for Anthropogenic Carbon dioxide (ODIAC) is a high-spatial resolution global emission data product of CO₂ emissions from fossil fuel combustion (Oda and Maksyutov, 2011). ODIAC pioneered the combined use of space-based nighttime light data and individual power plant emission/location profiles to estimate the global spatial extent of fossil fuel CO₂ emissions. With the innovative emission modeling approach, ODIAC achieved the fine picture of global fossil fuel CO₂ emissions at a 1x1km..\n",
    "author: \n",
    "date: April 12, 2023\n",
    "execute:\n",
    "   freeze: true\n",
    "---"
   ]
  },
  {
   "attachments": {},
   "cell_type": "markdown",
   "metadata": {},
   "source": [
    "## Run this notebook\n",
    "\n",
    "You can launch this notebook using mybinder, by clicking the button below.\n",
    "\n",
    "<a href=\"https://mybinder.org/v2/gh/NASA-IMPACT/veda-docs/HEAD?labpath=notebooks/datasets/air-quality-covid.ipynb\">\n",
    "<img src=\"https://mybinder.org/badge_logo.svg\" alt=\"Binder\" title=\"A cute binder\" width=\"150\"/> \n",
    "</a>"
   ]
  },
  {
   "attachments": {},
   "cell_type": "markdown",
   "metadata": {},
   "source": [
    "## Approach\n",
    "\n",
    "   1. Identify available dates and temporal frequency of observations for a given collection - ODIAC CO2 emissions version 2022\n",
    "   2. Pass the STAC item into raster API `/stac/tilejson.json` endpoint\n",
    "   3. We'll visualize two tiles (side-by-side) allowing for comparison of each of the time points using `folium.plugins.DualMap`\n",
    "   "
   ]
  },
  {
   "attachments": {},
   "cell_type": "markdown",
   "metadata": {},
   "source": [
    "## About the Data\n",
    "\n",
    "The Open-Data Inventory for Anthropogenic Carbon dioxide (ODIAC) is a high-spatial resolution global emission data product of CO₂ emissions from fossil fuel combustion (Oda and Maksyutov, 2011). ODIAC pioneered the combined use of space-based nighttime light data and individual power plant emission/location profiles to estimate the global spatial extent of fossil fuel CO₂ emissions. With the innovative emission modeling approach, ODIAC achieved the fine picture of global fossil fuel CO₂ emissions at a 1x1km.."
   ]
  },
  {
   "attachments": {},
   "cell_type": "markdown",
   "metadata": {},
   "source": [
    "## The Case Study - ODIAC CO2 emissions 2022\n",
    "\n",
    "In this notebook, we'll walk through the development of side-by-side monthly comparisons of CO2 levels for the different months (for example, 01-2000 and 01-2010)"
   ]
  },
  {
   "attachments": {},
   "cell_type": "markdown",
   "metadata": {},
   "source": [
    "## Querying the STAC API"
   ]
  },
  {
   "cell_type": "code",
   "execution_count": 1,
   "metadata": {},
   "outputs": [],
   "source": [
    "import requests\n",
    "from folium import Map, TileLayer"
   ]
  },
  {
   "cell_type": "code",
   "execution_count": 2,
   "metadata": {},
   "outputs": [],
   "source": [
    "# Provide STAC and RASTER API endpoints\n",
    "STAC_API_URL = \"http://dev.ghg.center/api/stac\"\n",
    "RASTER_API_URL = \"https://dev.ghg.center/api/raster\"\n",
    "\n",
    "# Name of the collection of interest - ODIAC\n",
    "collection_name = \"odiac-fossil-fuel-co2-emissions-2022\""
   ]
  },
  {
   "cell_type": "code",
   "execution_count": 3,
   "metadata": {},
   "outputs": [
    {
     "data": {
      "text/plain": [
       "{'id': 'odiac-fossil-fuel-co2-emissions-2022',\n",
       " 'type': 'Collection',\n",
       " 'links': [{'rel': 'items',\n",
       "   'type': 'application/geo+json',\n",
       "   'href': 'https://gkynb1qvnl.execute-api.us-west-2.amazonaws.com/api/stac/collections/odiac-fossil-fuel-co2-emissions-2022/items'},\n",
       "  {'rel': 'parent',\n",
       "   'type': 'application/json',\n",
       "   'href': 'https://gkynb1qvnl.execute-api.us-west-2.amazonaws.com/api/stac/'},\n",
       "  {'rel': 'root',\n",
       "   'type': 'application/json',\n",
       "   'href': 'https://gkynb1qvnl.execute-api.us-west-2.amazonaws.com/api/stac/'},\n",
       "  {'rel': 'self',\n",
       "   'type': 'application/json',\n",
       "   'href': 'https://gkynb1qvnl.execute-api.us-west-2.amazonaws.com/api/stac/collections/odiac-fossil-fuel-co2-emissions-2022'}],\n",
       " 'title': 'ODIAC Fossil Fuel CO₂ Emissions Version 2022',\n",
       " 'assets': None,\n",
       " 'extent': {'spatial': {'bbox': [[-180, -90, 180, 90]]},\n",
       "  'temporal': {'interval': [['2000-01-01 00:00:00+00',\n",
       "     '2021-12-01 00:00:00+00']]}},\n",
       " 'license': 'CC-BY-4.0',\n",
       " 'keywords': None,\n",
       " 'providers': [{'url': 'https://www.nies.go.jp',\n",
       "   'name': 'National Institute for Environmental Studies',\n",
       "   'roles': ['producer', 'licensor'],\n",
       "   'description': None}],\n",
       " 'summaries': {'datetime': ['2000-01-01T00:00:00Z', '2021-12-01T00:00:00Z'],\n",
       "  'cog_default': None},\n",
       " 'description': 'The Open-Data Inventory for Anthropogenic Carbon dioxide (ODIAC) is a high-spatial resolution global emission data product of CO₂ emissions from fossil fuel combustion (Oda and Maksyutov, 2011). ODIAC pioneered the combined use of space-based nighttime light data and individual power plant emission/location profiles to estimate the global spatial extent of fossil fuel CO₂ emissions. With the innovative emission modeling approach, ODIAC achieved the fine picture of global fossil fuel CO₂ emissions at a 1x1km.',\n",
       " 'item_assets': {'co2-emissions': {'type': 'image/tiff; application=geotiff; profile=cloud-optimized',\n",
       "   'roles': ['data', 'layer'],\n",
       "   'title': 'Fossil Fuel CO₂ Emissions',\n",
       "   'description': 'CO₂ emissions from fossil fuel combustion, cement production and gas flaring.'}},\n",
       " 'stac_version': '1.0.0',\n",
       " 'stac_extensions': None,\n",
       " 'dashboard:is_periodic': True,\n",
       " 'dashboard:time_density': 'month'}"
      ]
     },
     "execution_count": 3,
     "metadata": {},
     "output_type": "execute_result"
    }
   ],
   "source": [
    "collection = requests.get(f\"{STAC_API_URL}/collections/{collection_name}\").json()\n",
    "collection"
   ]
  },
  {
   "attachments": {},
   "cell_type": "markdown",
   "metadata": {},
   "source": [
    "Examining the contents of our `collection` under `summaries` we see that the data is available from January 2015 to December 2022. By looking at the `dashboard:time density` we observe that the periodic frequency of these observations is monthly. "
   ]
  },
  {
   "cell_type": "code",
   "execution_count": 9,
   "metadata": {},
   "outputs": [
    {
     "name": "stdout",
     "output_type": "stream",
     "text": [
      "Found 264 items\n"
     ]
    }
   ],
   "source": [
    "# Check total number of items available\n",
    "items = requests.get(f\"{STAC_API_URL}/collections/{collection_name}/items?limit=300\").json()[\"features\"]\n",
    "print(f\"Found {len(items)} items\")"
   ]
  },
  {
   "attachments": {},
   "cell_type": "markdown",
   "metadata": {},
   "source": [
    "This makes sense as there are 7 years between 2016 - 2022, with 12 months per year, meaning 84 records in total.  \n",
    "\n",
    "Below, we'll use the `cog_default` values to provide our upper and lower bounds in `rescale_values`. "
   ]
  },
  {
   "cell_type": "code",
   "execution_count": 10,
   "metadata": {},
   "outputs": [],
   "source": [
    "rescale_values = {'max': 300, 'min': -10}"
   ]
  },
  {
   "attachments": {},
   "cell_type": "markdown",
   "metadata": {},
   "source": [
    "## Exploring Changes in Carbon Dioxide (CO₂) levels. Using the Raster API\n",
    "\n",
    "We will explore changes in air quality due to changes in human behaviour resulting from the COVID-19 pandemic. With people largely confined to their homes to reduce the spread of the novel coronavirus, scientists were anticipated there were likely to be fewer cars, planes, and ships emitting fossil fuel pollution. In this notebook, we'll explore the impacts these government lockdowns had on specific air pollutants (i.e., NO₂) and explore these changes over time. We'll then visualize the outputs on a map using `folium`. "
   ]
  },
  {
   "cell_type": "code",
   "execution_count": 14,
   "metadata": {},
   "outputs": [],
   "source": [
    "# to access the year value from each item more easily, this will let us query more explicity by year and month (e.g., 2020-02)\n",
    "items = {item[\"properties\"][\"start_datetime\"][:7]: item for item in items} "
   ]
  },
  {
   "cell_type": "code",
   "execution_count": 16,
   "metadata": {},
   "outputs": [
    {
     "data": {
      "text/plain": [
       "264"
      ]
     },
     "execution_count": 16,
     "metadata": {},
     "output_type": "execute_result"
    }
   ],
   "source": [
    "len(items)"
   ]
  },
  {
   "attachments": {},
   "cell_type": "markdown",
   "metadata": {},
   "source": [
    "Now we will pass the item id, collection name, and `rescaling_factor` to the `Raster API` endpoint. We will do this twice times, once for December 2021 and again for March 2021, so that we can visualize each event independently. "
   ]
  },
  {
   "cell_type": "code",
   "execution_count": 36,
   "metadata": {},
   "outputs": [
    {
     "data": {
      "text/plain": [
       "{'tilejson': '2.2.0',\n",
       " 'version': '1.0.0',\n",
       " 'scheme': 'xyz',\n",
       " 'tiles': ['https://2qncpyg24c.execute-api.us-west-2.amazonaws.com/api/raster/stac/tiles/WebMercatorQuad/{z}/{x}/{y}@1x?collection=odiac-fossil-fuel-co2-emissions-2022&item=odiac-fossil-fuel-co2-emissions-2022-202112&assets=co2_emissions&color_formula=gamma+r+1.05&colormap_name=rainbow&rescale=-10%2C300'],\n",
       " 'minzoom': 0,\n",
       " 'maxzoom': 24,\n",
       " 'bounds': [-180.0, -90.0, 180.0, 90.0],\n",
       " 'center': [0.0, 0.0, 0]}"
      ]
     },
     "execution_count": 36,
     "metadata": {},
     "output_type": "execute_result"
    }
   ],
   "source": [
    "december_2021_tile = requests.get(\n",
    "    f\"{RASTER_API_URL}/stac/tilejson.json?collection={items['2021-12']['collection']}&item={items['2021-12']['id']}\"\n",
    "    \"&assets=co2_emissions\"\n",
    "    \"&color_formula=gamma+r+1.05&colormap_name=rainbow\"\n",
    "    f\"&rescale={rescale_values['min']},{rescale_values['max']}\", \n",
    ").json()\n",
    "december_2021_tile"
   ]
  },
  {
   "cell_type": "code",
   "execution_count": 37,
   "metadata": {},
   "outputs": [
    {
     "data": {
      "text/plain": [
       "{'tilejson': '2.2.0',\n",
       " 'version': '1.0.0',\n",
       " 'scheme': 'xyz',\n",
       " 'tiles': ['https://2qncpyg24c.execute-api.us-west-2.amazonaws.com/api/raster/stac/tiles/WebMercatorQuad/{z}/{x}/{y}@1x?collection=odiac-fossil-fuel-co2-emissions-2022&item=odiac-fossil-fuel-co2-emissions-2022-202103&assets=co2_emissions&color_formula=gamma+r+1.05&colormap_name=cool&rescale=-10%2C300'],\n",
       " 'minzoom': 0,\n",
       " 'maxzoom': 24,\n",
       " 'bounds': [-180.0, -90.0, 180.0, 90.0],\n",
       " 'center': [0.0, 0.0, 0]}"
      ]
     },
     "execution_count": 37,
     "metadata": {},
     "output_type": "execute_result"
    }
   ],
   "source": [
    "march_2021_tile = requests.get(\n",
    "    f\"{RASTER_API_URL}/stac/tilejson.json?collection={items['2021-03']['collection']}&item={items['2021-03']['id']}\"\n",
    "    \"&assets=co2_emissions\"\n",
    "    \"&color_formula=gamma+r+1.05&colormap_name=cool\"\n",
    "    f\"&rescale={rescale_values['min']},{rescale_values['max']}\", \n",
    ").json()\n",
    "march_2021_tile"
   ]
  },
  {
   "attachments": {},
   "cell_type": "markdown",
   "metadata": {},
   "source": [
    "## Visualizing CO2 emissions\n"
   ]
  },
  {
   "cell_type": "code",
   "execution_count": 38,
   "metadata": {},
   "outputs": [
    {
     "data": {
      "text/html": [
       "<div style=\"width:100%;\"><div style=\"position:relative;width:100%;height:0;padding-bottom:60%;\"><span style=\"color:#565656\">Make this Notebook Trusted to load map: File -> Trust Notebook</span><iframe srcdoc=\"&lt;!DOCTYPE html&gt;\n",
       "&lt;html&gt;\n",
       "&lt;head&gt;\n",
       "    \n",
       "    &lt;meta http-equiv=&quot;content-type&quot; content=&quot;text/html; charset=UTF-8&quot; /&gt;\n",
       "    \n",
       "        &lt;script&gt;\n",
       "            L_NO_TOUCH = false;\n",
       "            L_DISABLE_3D = false;\n",
       "        &lt;/script&gt;\n",
       "    \n",
       "    &lt;style&gt;html, body {width: 100%;height: 100%;margin: 0;padding: 0;}&lt;/style&gt;\n",
       "    &lt;style&gt;#map {position:absolute;top:0;bottom:0;right:0;left:0;}&lt;/style&gt;\n",
       "    &lt;script src=&quot;https://cdn.jsdelivr.net/npm/leaflet@1.9.3/dist/leaflet.js&quot;&gt;&lt;/script&gt;\n",
       "    &lt;script src=&quot;https://code.jquery.com/jquery-1.12.4.min.js&quot;&gt;&lt;/script&gt;\n",
       "    &lt;script src=&quot;https://cdn.jsdelivr.net/npm/bootstrap@5.2.2/dist/js/bootstrap.bundle.min.js&quot;&gt;&lt;/script&gt;\n",
       "    &lt;script src=&quot;https://cdnjs.cloudflare.com/ajax/libs/Leaflet.awesome-markers/2.0.2/leaflet.awesome-markers.js&quot;&gt;&lt;/script&gt;\n",
       "    &lt;link rel=&quot;stylesheet&quot; href=&quot;https://cdn.jsdelivr.net/npm/leaflet@1.9.3/dist/leaflet.css&quot;/&gt;\n",
       "    &lt;link rel=&quot;stylesheet&quot; href=&quot;https://cdn.jsdelivr.net/npm/bootstrap@5.2.2/dist/css/bootstrap.min.css&quot;/&gt;\n",
       "    &lt;link rel=&quot;stylesheet&quot; href=&quot;https://netdna.bootstrapcdn.com/bootstrap/3.0.0/css/bootstrap.min.css&quot;/&gt;\n",
       "    &lt;link rel=&quot;stylesheet&quot; href=&quot;https://cdn.jsdelivr.net/npm/@fortawesome/fontawesome-free@6.2.0/css/all.min.css&quot;/&gt;\n",
       "    &lt;link rel=&quot;stylesheet&quot; href=&quot;https://cdnjs.cloudflare.com/ajax/libs/Leaflet.awesome-markers/2.0.2/leaflet.awesome-markers.css&quot;/&gt;\n",
       "    &lt;link rel=&quot;stylesheet&quot; href=&quot;https://cdn.jsdelivr.net/gh/python-visualization/folium/folium/templates/leaflet.awesome.rotate.min.css&quot;/&gt;\n",
       "    \n",
       "            &lt;meta name=&quot;viewport&quot; content=&quot;width=device-width,\n",
       "                initial-scale=1.0, maximum-scale=1.0, user-scalable=no&quot; /&gt;\n",
       "            &lt;style&gt;\n",
       "                #map_b23962b7b920b592d4fde2209f750981 {\n",
       "                    position: absolute;\n",
       "                    width: 50.0%;\n",
       "                    height: 100.0%;\n",
       "                    left: 0.0%;\n",
       "                    top: 0.0%;\n",
       "                }\n",
       "                .leaflet-container { font-size: 1rem; }\n",
       "            &lt;/style&gt;\n",
       "        \n",
       "    \n",
       "            &lt;meta name=&quot;viewport&quot; content=&quot;width=device-width,\n",
       "                initial-scale=1.0, maximum-scale=1.0, user-scalable=no&quot; /&gt;\n",
       "            &lt;style&gt;\n",
       "                #map_2e27200e8f087fc27618dbf90384f968 {\n",
       "                    position: absolute;\n",
       "                    width: 50.0%;\n",
       "                    height: 100.0%;\n",
       "                    left: 50.0%;\n",
       "                    top: 0.0%;\n",
       "                }\n",
       "                .leaflet-container { font-size: 1rem; }\n",
       "            &lt;/style&gt;\n",
       "        \n",
       "    &lt;script src=&quot;https://cdn.jsdelivr.net/gh/jieter/Leaflet.Sync/L.Map.Sync.min.js&quot;&gt;&lt;/script&gt;\n",
       "&lt;/head&gt;\n",
       "&lt;body&gt;\n",
       "    \n",
       "    \n",
       "            &lt;div class=&quot;folium-map&quot; id=&quot;map_b23962b7b920b592d4fde2209f750981&quot; &gt;&lt;/div&gt;\n",
       "        \n",
       "    \n",
       "            &lt;div class=&quot;folium-map&quot; id=&quot;map_2e27200e8f087fc27618dbf90384f968&quot; &gt;&lt;/div&gt;\n",
       "        \n",
       "&lt;/body&gt;\n",
       "&lt;script&gt;\n",
       "    \n",
       "    \n",
       "            var map_b23962b7b920b592d4fde2209f750981 = L.map(\n",
       "                &quot;map_b23962b7b920b592d4fde2209f750981&quot;,\n",
       "                {\n",
       "                    center: [33.6901, 118.9325],\n",
       "                    crs: L.CRS.EPSG3857,\n",
       "                    zoom: 5,\n",
       "                    zoomControl: true,\n",
       "                    preferCanvas: false,\n",
       "                }\n",
       "            );\n",
       "\n",
       "            \n",
       "\n",
       "        \n",
       "    \n",
       "            var tile_layer_a3a90073c30a676876f8c4a175e3a142 = L.tileLayer(\n",
       "                &quot;https://{s}.tile.openstreetmap.org/{z}/{x}/{y}.png&quot;,\n",
       "                {&quot;attribution&quot;: &quot;Data by \\u0026copy; \\u003ca target=\\&quot;_blank\\&quot; href=\\&quot;http://openstreetmap.org\\&quot;\\u003eOpenStreetMap\\u003c/a\\u003e, under \\u003ca target=\\&quot;_blank\\&quot; href=\\&quot;http://www.openstreetmap.org/copyright\\&quot;\\u003eODbL\\u003c/a\\u003e.&quot;, &quot;detectRetina&quot;: false, &quot;maxNativeZoom&quot;: 18, &quot;maxZoom&quot;: 18, &quot;minZoom&quot;: 0, &quot;noWrap&quot;: false, &quot;opacity&quot;: 1, &quot;subdomains&quot;: &quot;abc&quot;, &quot;tms&quot;: false}\n",
       "            ).addTo(map_b23962b7b920b592d4fde2209f750981);\n",
       "        \n",
       "    \n",
       "            var tile_layer_1de9a076e722aca730438e2773cc3d04 = L.tileLayer(\n",
       "                &quot;https://2qncpyg24c.execute-api.us-west-2.amazonaws.com/api/raster/stac/tiles/WebMercatorQuad/{z}/{x}/{y}@1x?collection=odiac-fossil-fuel-co2-emissions-2022\\u0026item=odiac-fossil-fuel-co2-emissions-2022-202112\\u0026assets=co2_emissions\\u0026color_formula=gamma+r+1.05\\u0026colormap_name=rainbow\\u0026rescale=-10%2C300&quot;,\n",
       "                {&quot;attribution&quot;: &quot;GHG&quot;, &quot;detectRetina&quot;: false, &quot;maxNativeZoom&quot;: 18, &quot;maxZoom&quot;: 18, &quot;minZoom&quot;: 0, &quot;noWrap&quot;: false, &quot;opacity&quot;: 0.8, &quot;subdomains&quot;: &quot;abc&quot;, &quot;tms&quot;: false}\n",
       "            ).addTo(map_b23962b7b920b592d4fde2209f750981);\n",
       "        \n",
       "    \n",
       "            var map_2e27200e8f087fc27618dbf90384f968 = L.map(\n",
       "                &quot;map_2e27200e8f087fc27618dbf90384f968&quot;,\n",
       "                {\n",
       "                    center: [33.6901, 118.9325],\n",
       "                    crs: L.CRS.EPSG3857,\n",
       "                    zoom: 5,\n",
       "                    zoomControl: true,\n",
       "                    preferCanvas: false,\n",
       "                }\n",
       "            );\n",
       "\n",
       "            \n",
       "\n",
       "        \n",
       "    \n",
       "            var tile_layer_27419802ab6f3d5066554fb03630ded5 = L.tileLayer(\n",
       "                &quot;https://{s}.tile.openstreetmap.org/{z}/{x}/{y}.png&quot;,\n",
       "                {&quot;attribution&quot;: &quot;Data by \\u0026copy; \\u003ca target=\\&quot;_blank\\&quot; href=\\&quot;http://openstreetmap.org\\&quot;\\u003eOpenStreetMap\\u003c/a\\u003e, under \\u003ca target=\\&quot;_blank\\&quot; href=\\&quot;http://www.openstreetmap.org/copyright\\&quot;\\u003eODbL\\u003c/a\\u003e.&quot;, &quot;detectRetina&quot;: false, &quot;maxNativeZoom&quot;: 18, &quot;maxZoom&quot;: 18, &quot;minZoom&quot;: 0, &quot;noWrap&quot;: false, &quot;opacity&quot;: 1, &quot;subdomains&quot;: &quot;abc&quot;, &quot;tms&quot;: false}\n",
       "            ).addTo(map_2e27200e8f087fc27618dbf90384f968);\n",
       "        \n",
       "    \n",
       "            var tile_layer_36ecbe304f8273c6d7a0a94f0f0f0ef9 = L.tileLayer(\n",
       "                &quot;https://2qncpyg24c.execute-api.us-west-2.amazonaws.com/api/raster/stac/tiles/WebMercatorQuad/{z}/{x}/{y}@1x?collection=odiac-fossil-fuel-co2-emissions-2022\\u0026item=odiac-fossil-fuel-co2-emissions-2022-202103\\u0026assets=co2_emissions\\u0026color_formula=gamma+r+1.05\\u0026colormap_name=cool\\u0026rescale=-10%2C300&quot;,\n",
       "                {&quot;attribution&quot;: &quot;GHG&quot;, &quot;detectRetina&quot;: false, &quot;maxNativeZoom&quot;: 18, &quot;maxZoom&quot;: 18, &quot;minZoom&quot;: 0, &quot;noWrap&quot;: false, &quot;opacity&quot;: 0.8, &quot;subdomains&quot;: &quot;abc&quot;, &quot;tms&quot;: false}\n",
       "            ).addTo(map_2e27200e8f087fc27618dbf90384f968);\n",
       "        \n",
       "    \n",
       "            map_b23962b7b920b592d4fde2209f750981.sync(map_2e27200e8f087fc27618dbf90384f968);\n",
       "            map_2e27200e8f087fc27618dbf90384f968.sync(map_b23962b7b920b592d4fde2209f750981);\n",
       "        \n",
       "&lt;/script&gt;\n",
       "&lt;/html&gt;\" style=\"position:absolute;width:100%;height:100%;left:0;top:0;border:none !important;\" allowfullscreen webkitallowfullscreen mozallowfullscreen></iframe></div></div>"
      ],
      "text/plain": [
       "<folium.plugins.dual_map.DualMap at 0x157c6b6a0>"
      ]
     },
     "execution_count": 38,
     "metadata": {},
     "output_type": "execute_result"
    }
   ],
   "source": [
    "# We'll import folium to map and folium.plugins to allow mapping side-by-side\n",
    "import folium\n",
    "import folium.plugins\n",
    "\n",
    "# Set initial zoom and map for NO2 Layer\n",
    "m = folium.plugins.DualMap(location=(33.6901, 118.9325), zoom_start=5)\n",
    "\n",
    "# February 2020\n",
    "map_layer_2020 = TileLayer(\n",
    "    tiles=december_2021_tile[\"tiles\"][1],\n",
    "    attr=\"GHG\",\n",
    "    opacity=0.8,\n",
    ")\n",
    "map_layer_2020.add_to(m.m1)\n",
    "\n",
    "# February 2022\n",
    "map_layer_2022 = TileLayer(\n",
    "    tiles=march_2021_tile[\"tiles\"][1],\n",
    "    attr=\"GHG\",\n",
    "    opacity=0.8,\n",
    ")\n",
    "map_layer_2022.add_to(m.m2)\n",
    "\n",
    "m\n",
    "\n"
   ]
  },
  {
   "cell_type": "code",
   "execution_count": 40,
   "metadata": {},
   "outputs": [
    {
     "data": {
      "text/plain": [
       "'https://2qncpyg24c.execute-api.us-west-2.amazonaws.com/api/raster/stac/tiles/WebMercatorQuad/{z}/{x}/{y}@1x?collection=odiac-fossil-fuel-co2-emissions-2022&item=odiac-fossil-fuel-co2-emissions-2022-202112&assets=co2_emissions&color_formula=gamma+r+1.05&colormap_name=rainbow&rescale=-10%2C300'"
      ]
     },
     "execution_count": 40,
     "metadata": {},
     "output_type": "execute_result"
    }
   ],
   "source": [
    "december_2021_tile[\"tiles\"][0]"
   ]
  },
  {
   "attachments": {},
   "cell_type": "markdown",
   "metadata": {},
   "source": [
    "## Summary\n",
    "\n",
    "In this case study we have successfully visualized how NASA monitors NO₂ emissions from space. By showcasing lockdown (February 2020) and post-lockdown (February 2022) snapshots of air quality side-by-side, we demonstrate how quickly atmospheric NO₂ responds to reductions in emissions and human behavior. "
   ]
  }
 ],
 "metadata": {
  "kernelspec": {
   "display_name": "Python 3 (ipykernel)",
   "language": "python",
   "name": "python3"
  },
  "language_info": {
   "codemirror_mode": {
    "name": "ipython",
    "version": 3
   },
   "file_extension": ".py",
   "mimetype": "text/x-python",
   "name": "python",
   "nbconvert_exporter": "python",
   "pygments_lexer": "ipython3",
   "version": "3.9.16"
  }
 },
 "nbformat": 4,
 "nbformat_minor": 4
}
